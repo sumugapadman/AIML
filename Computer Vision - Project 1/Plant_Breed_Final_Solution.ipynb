{
 "cells": [
  {
   "cell_type": "code",
   "execution_count": 0,
   "metadata": {
    "colab": {},
    "colab_type": "code",
    "id": "YaBr-erZncce"
   },
   "outputs": [],
   "source": [
    "from google.colab import drive"
   ]
  },
  {
   "cell_type": "code",
   "execution_count": 0,
   "metadata": {
    "colab": {},
    "colab_type": "code",
    "id": "gF5meo6Pnd-y"
   },
   "outputs": [],
   "source": [
    "drive.mount('/content/drive')"
   ]
  },
  {
   "cell_type": "code",
   "execution_count": 0,
   "metadata": {
    "colab": {},
    "colab_type": "code",
    "id": "ivJgjcGSnf-C"
   },
   "outputs": [],
   "source": [
    "import os\n",
    "os.chdir('/content/drive/My Drive/ComputerVision_with_CNNs/Plant_Breed')"
   ]
  },
  {
   "cell_type": "code",
   "execution_count": 0,
   "metadata": {
    "colab": {},
    "colab_type": "code",
    "id": "XuE6AcnM2Z1W"
   },
   "outputs": [],
   "source": [
    "from zipfile import ZipFile\n",
    "with ZipFile('train.zip', 'r') as z:\n",
    "  z.extractall()"
   ]
  },
  {
   "cell_type": "code",
   "execution_count": 0,
   "metadata": {
    "colab": {},
    "colab_type": "code",
    "id": "OudDEvpd2djj"
   },
   "outputs": [],
   "source": [
    "from zipfile import ZipFile\n",
    "with ZipFile('test.zip', 'r') as z:\n",
    "  z.extractall()"
   ]
  },
  {
   "cell_type": "code",
   "execution_count": 0,
   "metadata": {
    "colab": {},
    "colab_type": "code",
    "id": "QsPoSsZ3nn2B"
   },
   "outputs": [],
   "source": [
    "x_test=[]\n",
    "os.chdir('/content/drive/My Drive/ComputerVision_with_CNNs/Plant_Breed/test')\n",
    "import cv2\n",
    "for i in os.listdir():\n",
    "    dummy = cv2.imread(i)\n",
    "    dummy = cv2.resize(dummy,(128,128))\n",
    "    x_test.append(dummy)\n",
    "    "
   ]
  },
  {
   "cell_type": "code",
   "execution_count": 0,
   "metadata": {
    "colab": {},
    "colab_type": "code",
    "id": "bNHegsjZnxWQ"
   },
   "outputs": [],
   "source": [
    "x_train = []\n",
    "y_train = []"
   ]
  },
  {
   "cell_type": "code",
   "execution_count": 0,
   "metadata": {
    "colab": {},
    "colab_type": "code",
    "id": "ZSdUcumZp-LV"
   },
   "outputs": [],
   "source": [
    "import os\n",
    "os.chdir('/content/drive/My Drive/ComputerVision_with_CNNs/Plant_Breed')"
   ]
  },
  {
   "cell_type": "code",
   "execution_count": 0,
   "metadata": {
    "colab": {},
    "colab_type": "code",
    "id": "4t42yJdqqAJV"
   },
   "outputs": [],
   "source": [
    "ls"
   ]
  },
  {
   "cell_type": "code",
   "execution_count": 0,
   "metadata": {
    "colab": {},
    "colab_type": "code",
    "id": "iDMRsHgV2Yxt"
   },
   "outputs": [],
   "source": []
  },
  {
   "cell_type": "code",
   "execution_count": 0,
   "metadata": {
    "colab": {},
    "colab_type": "code",
    "id": "zrEWFArOqFXs"
   },
   "outputs": [],
   "source": [
    "os.chdir('/content/drive/My Drive/ComputerVision_with_CNNs/Plant_Breed/train')"
   ]
  },
  {
   "cell_type": "code",
   "execution_count": 0,
   "metadata": {
    "colab": {},
    "colab_type": "code",
    "id": "PfhxmZSxqNeg"
   },
   "outputs": [],
   "source": [
    "os.listdir()"
   ]
  },
  {
   "cell_type": "code",
   "execution_count": 0,
   "metadata": {
    "colab": {},
    "colab_type": "code",
    "id": "8BYcVPZUqOMi"
   },
   "outputs": [],
   "source": [
    "x_train = []\n",
    "y_train = []\n",
    "import cv2\n",
    "for i in os.listdir():\n",
    "    print(i)\n",
    "    if (os.path.isdir(i)):\n",
    "            for j in os.listdir(i):\n",
    "                try:\n",
    "                    dummy = cv2.imread('/content/drive/My Drive/ComputerVision_with_CNNs/Plant_Breed/train/' + i + \"/\" + j)\n",
    "                    dummy = cv2.resize(dummy,(128,128))\n",
    "                    x_train.append(dummy)\n",
    "                    y_train.append(i)\n",
    "                except Exception as e:\n",
    "                    print(e)\n"
   ]
  },
  {
   "cell_type": "code",
   "execution_count": 0,
   "metadata": {
    "colab": {},
    "colab_type": "code",
    "id": "KVTWzHBLvLkR"
   },
   "outputs": [],
   "source": [
    "x_train[0].shape"
   ]
  },
  {
   "cell_type": "code",
   "execution_count": 0,
   "metadata": {
    "colab": {},
    "colab_type": "code",
    "id": "jX9jD090uIxX"
   },
   "outputs": [],
   "source": [
    "import pandas as pd\n",
    "dum = pd.get_dummies(y_train)"
   ]
  },
  {
   "cell_type": "code",
   "execution_count": 0,
   "metadata": {
    "colab": {},
    "colab_type": "code",
    "id": "2LniWcretNjt"
   },
   "outputs": [],
   "source": [
    "encoded_labels = dum\n",
    "y_train = dum"
   ]
  },
  {
   "cell_type": "code",
   "execution_count": 0,
   "metadata": {
    "colab": {},
    "colab_type": "code",
    "id": "yW1MRzNzscJD"
   },
   "outputs": [],
   "source": [
    "import numpy as np\n",
    "y_train = np.array(y_train)"
   ]
  },
  {
   "cell_type": "code",
   "execution_count": 0,
   "metadata": {
    "colab": {},
    "colab_type": "code",
    "id": "i_4kF4C9qV73"
   },
   "outputs": [],
   "source": [
    "x_train = np.array(x_train)"
   ]
  },
  {
   "cell_type": "code",
   "execution_count": 0,
   "metadata": {
    "colab": {},
    "colab_type": "code",
    "id": "69ZkfU51usBT"
   },
   "outputs": [],
   "source": [
    "x_train[0].shape"
   ]
  },
  {
   "cell_type": "code",
   "execution_count": 0,
   "metadata": {
    "colab": {},
    "colab_type": "code",
    "id": "VzBQIPBAuQwN"
   },
   "outputs": [],
   "source": [
    "from sklearn.model_selection import train_test_split\n",
    "x_train2, x_val, y_train2, y_val = train_test_split(x_train, y_train, test_size=0.2, random_state=2)\n",
    "print (len(x_train2))\n",
    "print (len(x_val))"
   ]
  },
  {
   "cell_type": "code",
   "execution_count": 0,
   "metadata": {
    "colab": {},
    "colab_type": "code",
    "id": "zOXrhr_huSPR"
   },
   "outputs": [],
   "source": [
    "x_train2[0].shape"
   ]
  },
  {
   "cell_type": "code",
   "execution_count": 0,
   "metadata": {
    "colab": {},
    "colab_type": "code",
    "id": "dMocdt9JuVOJ"
   },
   "outputs": [],
   "source": [
    "x_train2 = x_train2.reshape(x_train2.shape[0],128,128,3)"
   ]
  },
  {
   "cell_type": "code",
   "execution_count": 0,
   "metadata": {
    "colab": {},
    "colab_type": "code",
    "id": "k1KiJod-uWkR"
   },
   "outputs": [],
   "source": [
    "x_val = x_val.reshape(x_val.shape[0],128,128,3)"
   ]
  },
  {
   "cell_type": "code",
   "execution_count": 0,
   "metadata": {
    "colab": {},
    "colab_type": "code",
    "id": "TyWC85VZvS5_"
   },
   "outputs": [],
   "source": [
    "print (x_train2.shape)\n",
    "print (x_val.shape)"
   ]
  },
  {
   "cell_type": "code",
   "execution_count": 0,
   "metadata": {
    "colab": {},
    "colab_type": "code",
    "id": "DKgWlwHSvUc2"
   },
   "outputs": [],
   "source": [
    "print(y_train2.shape)\n",
    "print(y_val.shape)"
   ]
  },
  {
   "cell_type": "code",
   "execution_count": 0,
   "metadata": {
    "colab": {},
    "colab_type": "code",
    "id": "gJxwoWFevVsM"
   },
   "outputs": [],
   "source": [
    "from keras.models import Sequential\n",
    "from keras.layers import Convolution2D, Dropout, Dense"
   ]
  },
  {
   "cell_type": "code",
   "execution_count": 0,
   "metadata": {
    "colab": {},
    "colab_type": "code",
    "id": "UdofRIJXvXXU"
   },
   "outputs": [],
   "source": [
    "from keras.layers import BatchNormalization\n",
    "from keras.layers import MaxPooling2D\n",
    "from keras.layers import Flatten\n",
    "from keras.optimizers import adam"
   ]
  },
  {
   "cell_type": "code",
   "execution_count": 0,
   "metadata": {
    "colab": {},
    "colab_type": "code",
    "id": "i0PInUEOvZDn"
   },
   "outputs": [],
   "source": [
    "model = Sequential()\n",
    "model.add(BatchNormalization(input_shape = (128,128,3)))\n",
    "model.add(Convolution2D(32, (3,3), activation ='relu', input_shape = (128, 128, 3))) \n",
    "model.add(MaxPooling2D(pool_size=2))\n",
    "#model.add(Dropout(0.8))\n",
    "\n",
    "model.add(Convolution2D(filters=64, kernel_size=4, padding='same', activation='relu'))\n",
    "model.add(MaxPooling2D(pool_size=2))\n",
    "#model.add(Dropout(0.8))\n",
    "\n",
    "model.add(Convolution2D(filters=128, kernel_size=3, padding='same', activation='relu'))\n",
    "model.add(MaxPooling2D(pool_size=2))\n",
    "#model.add(Dropout(0.8))\n",
    "\n",
    "model.add(Convolution2D(filters=128, kernel_size=2, padding='same', activation='relu'))\n",
    "model.add(MaxPooling2D(pool_size=2))\n",
    "#model.add(Dropout(0.8))\n",
    "\n",
    "model.add(Flatten()) \n",
    "\n",
    "# fully connected layer\n",
    "model.add(Dense(units=128,activation = 'relu'))\n",
    "model.add(Dense(units = 64, activation = 'relu'))\n",
    "#model.add(Dropout(0.3))\n",
    "model.add(Dense(units = 32, activation = 'relu'))\n",
    "#model.add(Dropout(0.3))\n",
    "model.add(Dense(units = 11, activation = 'softmax')) \n"
   ]
  },
  {
   "cell_type": "code",
   "execution_count": 0,
   "metadata": {
    "colab": {},
    "colab_type": "code",
    "id": "3V2UmrqIva95"
   },
   "outputs": [],
   "source": [
    "optimizer = adam(lr=0.001)\n",
    "model.compile(optimizer='adam', loss = 'categorical_crossentropy',metrics = ['accuracy'])"
   ]
  },
  {
   "cell_type": "code",
   "execution_count": 0,
   "metadata": {
    "colab": {},
    "colab_type": "code",
    "id": "xMnStHPbvdS9"
   },
   "outputs": [],
   "source": [
    "model.summary()"
   ]
  },
  {
   "cell_type": "code",
   "execution_count": 0,
   "metadata": {
    "colab": {},
    "colab_type": "code",
    "id": "vdsV52_lvfBr"
   },
   "outputs": [],
   "source": [
    "batch_size = 64\n",
    "nb_epochs = 10\n",
    "history = model.fit(x_train,y_train,\n",
    "                    epochs=20, \n",
    "                    validation_data=(x_val,y_val),\n",
    "                    verbose = 1,\n",
    "                    initial_epoch=0)"
   ]
  },
  {
   "cell_type": "code",
   "execution_count": 0,
   "metadata": {
    "colab": {},
    "colab_type": "code",
    "id": "FzX8G6Jqvg-c"
   },
   "outputs": [],
   "source": []
  }
 ],
 "metadata": {
  "accelerator": "GPU",
  "colab": {
   "name": "Plant_Breed_Final_Solution.ipynb",
   "private_outputs": true,
   "provenance": [],
   "version": "0.3.2"
  },
  "kernelspec": {
   "display_name": "Python 3",
   "language": "python",
   "name": "python3"
  },
  "language_info": {
   "codemirror_mode": {
    "name": "ipython",
    "version": 3
   },
   "file_extension": ".py",
   "mimetype": "text/x-python",
   "name": "python",
   "nbconvert_exporter": "python",
   "pygments_lexer": "ipython3",
   "version": "3.7.1"
  }
 },
 "nbformat": 4,
 "nbformat_minor": 1
}
