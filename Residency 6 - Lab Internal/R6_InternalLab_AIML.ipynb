{
 "cells": [
  {
   "cell_type": "markdown",
   "metadata": {
    "colab_type": "text",
    "id": "sb7Epo0VOB58"
   },
   "source": [
    "### Load tensorflow"
   ]
  },
  {
   "cell_type": "code",
   "execution_count": 0,
   "metadata": {
    "colab": {},
    "colab_type": "code",
    "collapsed": true,
    "id": "fHpCNRv1OB5-"
   },
   "outputs": [],
   "source": [
    "import tensorflow as tf\n",
    "import numpy as numpy\n",
    "import pandas as pandas\n",
    "import os\n",
    "tf.set_random_seed(1234)"
   ]
  },
  {
   "cell_type": "code",
   "execution_count": 0,
   "metadata": {
    "colab": {},
    "colab_type": "code",
    "collapsed": true,
    "id": "tnSsH8sNOB6F",
    "slideshow": {
     "slide_type": "fragment"
    }
   },
   "outputs": [],
   "source": [
    "#Reset Default graph - Needed only for Jupyter notebook\n",
    "tf.reset_default_graph()"
   ]
  },
  {
   "cell_type": "markdown",
   "metadata": {
    "colab_type": "text",
    "id": "DxJDmJqqOB6K",
    "slideshow": {
     "slide_type": "slide"
    }
   },
   "source": [
    "### Collect Data"
   ]
  },
  {
   "cell_type": "code",
   "execution_count": 3,
   "metadata": {
    "colab": {
     "base_uri": "https://localhost:8080/",
     "height": 34
    },
    "colab_type": "code",
    "id": "9H5ARGCidb5O",
    "outputId": "f5f1c16a-f570-452b-d6b8-ca891c94f668"
   },
   "outputs": [
    {
     "data": {
      "text/plain": [
       "u'/content'"
      ]
     },
     "execution_count": 3,
     "metadata": {
      "tags": []
     },
     "output_type": "execute_result"
    }
   ],
   "source": [
    "pwd"
   ]
  },
  {
   "cell_type": "code",
   "execution_count": 0,
   "metadata": {
    "colab": {},
    "colab_type": "code",
    "collapsed": true,
    "id": "ASCEV7TSctI2"
   },
   "outputs": [],
   "source": [
    "data = pandas.read_csv('prices.csv')"
   ]
  },
  {
   "cell_type": "markdown",
   "metadata": {
    "colab_type": "text",
    "id": "fgkX6SEqOB6W"
   },
   "source": [
    "### Check all columns in the dataset"
   ]
  },
  {
   "cell_type": "code",
   "execution_count": 5,
   "metadata": {
    "colab": {
     "base_uri": "https://localhost:8080/",
     "height": 221
    },
    "colab_type": "code",
    "id": "7K8pWsNQOB6X",
    "outputId": "83c8cf91-1bf0-4c7f-831d-a3c9aa18a064"
   },
   "outputs": [
    {
     "name": "stdout",
     "output_type": "stream",
     "text": [
      "<class 'pandas.core.frame.DataFrame'>\n",
      "RangeIndex: 35532 entries, 0 to 35531\n",
      "Data columns (total 7 columns):\n",
      "date      35532 non-null object\n",
      "symbol    35532 non-null object\n",
      "open      35532 non-null float64\n",
      "close     35532 non-null float64\n",
      "low       35531 non-null float64\n",
      "high      35531 non-null float64\n",
      "volume    35531 non-null float64\n",
      "dtypes: float64(5), object(2)\n",
      "memory usage: 1.9+ MB\n"
     ]
    }
   ],
   "source": [
    "data.info()"
   ]
  },
  {
   "cell_type": "markdown",
   "metadata": {
    "colab_type": "text",
    "id": "7dU6X7MpOB6c"
   },
   "source": [
    "### Drop columns `date` and  `symbol`"
   ]
  },
  {
   "cell_type": "code",
   "execution_count": 0,
   "metadata": {
    "colab": {},
    "colab_type": "code",
    "collapsed": true,
    "id": "lh_6spSKOB6e"
   },
   "outputs": [],
   "source": [
    "data = data.drop('date', axis = 1)\n",
    "data = data.drop('symbol', axis = 1)"
   ]
  },
  {
   "cell_type": "code",
   "execution_count": 7,
   "metadata": {
    "colab": {
     "base_uri": "https://localhost:8080/",
     "height": 204
    },
    "colab_type": "code",
    "id": "xlwbUgTwOB6i",
    "outputId": "280c8d47-58fe-4677-bc51-de5816ba109a"
   },
   "outputs": [
    {
     "data": {
      "text/html": [
       "<div>\n",
       "<style scoped>\n",
       "    .dataframe tbody tr th:only-of-type {\n",
       "        vertical-align: middle;\n",
       "    }\n",
       "\n",
       "    .dataframe tbody tr th {\n",
       "        vertical-align: top;\n",
       "    }\n",
       "\n",
       "    .dataframe thead th {\n",
       "        text-align: right;\n",
       "    }\n",
       "</style>\n",
       "<table border=\"1\" class=\"dataframe\">\n",
       "  <thead>\n",
       "    <tr style=\"text-align: right;\">\n",
       "      <th></th>\n",
       "      <th>open</th>\n",
       "      <th>close</th>\n",
       "      <th>low</th>\n",
       "      <th>high</th>\n",
       "      <th>volume</th>\n",
       "    </tr>\n",
       "  </thead>\n",
       "  <tbody>\n",
       "    <tr>\n",
       "      <th>0</th>\n",
       "      <td>123.430000</td>\n",
       "      <td>125.839996</td>\n",
       "      <td>122.309998</td>\n",
       "      <td>126.250000</td>\n",
       "      <td>2163600.0</td>\n",
       "    </tr>\n",
       "    <tr>\n",
       "      <th>1</th>\n",
       "      <td>125.239998</td>\n",
       "      <td>119.980003</td>\n",
       "      <td>119.940002</td>\n",
       "      <td>125.540001</td>\n",
       "      <td>2386400.0</td>\n",
       "    </tr>\n",
       "    <tr>\n",
       "      <th>2</th>\n",
       "      <td>116.379997</td>\n",
       "      <td>114.949997</td>\n",
       "      <td>114.930000</td>\n",
       "      <td>119.739998</td>\n",
       "      <td>2489500.0</td>\n",
       "    </tr>\n",
       "    <tr>\n",
       "      <th>3</th>\n",
       "      <td>115.480003</td>\n",
       "      <td>116.620003</td>\n",
       "      <td>113.500000</td>\n",
       "      <td>117.440002</td>\n",
       "      <td>2006300.0</td>\n",
       "    </tr>\n",
       "    <tr>\n",
       "      <th>4</th>\n",
       "      <td>117.010002</td>\n",
       "      <td>114.970001</td>\n",
       "      <td>114.089996</td>\n",
       "      <td>117.330002</td>\n",
       "      <td>1408600.0</td>\n",
       "    </tr>\n",
       "  </tbody>\n",
       "</table>\n",
       "</div>"
      ],
      "text/plain": [
       "         open       close         low        high     volume\n",
       "0  123.430000  125.839996  122.309998  126.250000  2163600.0\n",
       "1  125.239998  119.980003  119.940002  125.540001  2386400.0\n",
       "2  116.379997  114.949997  114.930000  119.739998  2489500.0\n",
       "3  115.480003  116.620003  113.500000  117.440002  2006300.0\n",
       "4  117.010002  114.970001  114.089996  117.330002  1408600.0"
      ]
     },
     "execution_count": 7,
     "metadata": {
      "tags": []
     },
     "output_type": "execute_result"
    }
   ],
   "source": [
    "data.head()"
   ]
  },
  {
   "cell_type": "markdown",
   "metadata": {
    "colab_type": "text",
    "id": "3DBv3WWYOB6q"
   },
   "source": [
    "### Consider only first 1000 rows in the dataset for building feature set and target set"
   ]
  },
  {
   "cell_type": "code",
   "execution_count": 0,
   "metadata": {
    "colab": {},
    "colab_type": "code",
    "collapsed": true,
    "id": "Z_hG9rGBOB6s"
   },
   "outputs": [],
   "source": [
    "data_1000 = data.loc[0:999]"
   ]
  },
  {
   "cell_type": "code",
   "execution_count": 9,
   "metadata": {
    "colab": {
     "base_uri": "https://localhost:8080/",
     "height": 34
    },
    "colab_type": "code",
    "id": "IOVIxOZHhhsD",
    "outputId": "b207baab-61b3-4053-bf1e-d63612902ee8"
   },
   "outputs": [
    {
     "data": {
      "text/plain": [
       "(1000, 5)"
      ]
     },
     "execution_count": 9,
     "metadata": {
      "tags": []
     },
     "output_type": "execute_result"
    }
   ],
   "source": [
    "data_1000.shape"
   ]
  },
  {
   "cell_type": "markdown",
   "metadata": {
    "colab_type": "text",
    "id": "M3UaApqYOB6x"
   },
   "source": [
    "### Divide the data into train and test sets"
   ]
  },
  {
   "cell_type": "code",
   "execution_count": 0,
   "metadata": {
    "colab": {},
    "colab_type": "code",
    "collapsed": true,
    "id": "2EkKAy7fOB6y"
   },
   "outputs": [],
   "source": [
    "from sklearn.model_selection import train_test_split"
   ]
  },
  {
   "cell_type": "code",
   "execution_count": 0,
   "metadata": {
    "colab": {},
    "colab_type": "code",
    "collapsed": true,
    "id": "OvRhlO_1jwXU"
   },
   "outputs": [],
   "source": [
    "Y = data_1000['close']\n",
    "X = data_1000.drop('close', axis = 1)\n",
    "trainX, testX,trainY,testY = train_test_split(X, Y, test_size=0.3, random_state=100)"
   ]
  },
  {
   "cell_type": "code",
   "execution_count": 12,
   "metadata": {
    "colab": {
     "base_uri": "https://localhost:8080/",
     "height": 34
    },
    "colab_type": "code",
    "id": "MqEV6wO1k-Jx",
    "outputId": "c3e69ce3-a930-47d3-942c-16e498f97090"
   },
   "outputs": [
    {
     "data": {
      "text/plain": [
       "(700,)"
      ]
     },
     "execution_count": 12,
     "metadata": {
      "tags": []
     },
     "output_type": "execute_result"
    }
   ],
   "source": [
    "trainY.shape"
   ]
  },
  {
   "cell_type": "markdown",
   "metadata": {
    "colab_type": "text",
    "id": "v6vE4eYCOB62",
    "slideshow": {
     "slide_type": "slide"
    }
   },
   "source": [
    "## Building the graph in tensorflow"
   ]
  },
  {
   "cell_type": "markdown",
   "metadata": {
    "colab_type": "text",
    "id": "xK0zBd1VOB64",
    "slideshow": {
     "slide_type": "slide"
    }
   },
   "source": [
    "1.Define input data placeholders"
   ]
  },
  {
   "cell_type": "code",
   "execution_count": 0,
   "metadata": {
    "colab": {},
    "colab_type": "code",
    "collapsed": true,
    "id": "JDrYlWTuOB66"
   },
   "outputs": [],
   "source": [
    "#Input features\n",
    "x = tf.placeholder(shape=[None,4],dtype=tf.float32, name='x-input')\n",
    "\n",
    "x_n = tf.layers.batch_normalization(x, training=True)\n",
    "\n",
    "#Actual Prices\n",
    "y_ = tf.placeholder(shape=[None],dtype=tf.float32, name='y-input')"
   ]
  },
  {
   "cell_type": "markdown",
   "metadata": {
    "colab_type": "text",
    "id": "297_qja4OB7A",
    "slideshow": {
     "slide_type": "slide"
    }
   },
   "source": [
    "2.Define Weights and Bias"
   ]
  },
  {
   "cell_type": "code",
   "execution_count": 0,
   "metadata": {
    "colab": {},
    "colab_type": "code",
    "collapsed": true,
    "id": "L205qPeQOB7B"
   },
   "outputs": [],
   "source": [
    "W = tf.Variable(tf.zeros(shape=[4,1]), name=\"Weights\")\n",
    "b = tf.Variable(tf.zeros(shape=[1]), name=\"Bias\")"
   ]
  },
  {
   "cell_type": "markdown",
   "metadata": {
    "colab_type": "text",
    "id": "HgtWA-UIOB7F",
    "slideshow": {
     "slide_type": "slide"
    }
   },
   "source": [
    "3.Prediction"
   ]
  },
  {
   "cell_type": "code",
   "execution_count": 0,
   "metadata": {
    "colab": {},
    "colab_type": "code",
    "collapsed": true,
    "id": "JveGlx25OB7H"
   },
   "outputs": [],
   "source": [
    "y = tf.add(tf.matmul(x_n,W),b,name='output')"
   ]
  },
  {
   "cell_type": "markdown",
   "metadata": {
    "colab_type": "text",
    "id": "TL1hIwf_OB7M",
    "slideshow": {
     "slide_type": "slide"
    }
   },
   "source": [
    "4.Loss (Cost) Function [Mean square error]"
   ]
  },
  {
   "cell_type": "code",
   "execution_count": 0,
   "metadata": {
    "colab": {},
    "colab_type": "code",
    "collapsed": true,
    "id": "8VSWPiGXOB7P"
   },
   "outputs": [],
   "source": [
    "loss = tf.reduce_mean(tf.square(y-y_),name='Loss')"
   ]
  },
  {
   "cell_type": "markdown",
   "metadata": {
    "colab_type": "text",
    "id": "jzG85FUlOB7U",
    "slideshow": {
     "slide_type": "slide"
    }
   },
   "source": [
    "5.GradientDescent Optimizer to minimize Loss [GradientDescentOptimizer]"
   ]
  },
  {
   "cell_type": "code",
   "execution_count": 0,
   "metadata": {
    "colab": {},
    "colab_type": "code",
    "collapsed": true,
    "id": "cj802w-3OB7X"
   },
   "outputs": [],
   "source": [
    "train_op = tf.train.GradientDescentOptimizer(0.01).minimize(loss)"
   ]
  },
  {
   "cell_type": "code",
   "execution_count": 18,
   "metadata": {
    "colab": {
     "base_uri": "https://localhost:8080/",
     "height": 34
    },
    "colab_type": "code",
    "id": "LEYnxUG0jWQI",
    "outputId": "b73deb9e-3371-4f1b-cdd1-14420f6970e3"
   },
   "outputs": [
    {
     "data": {
      "text/plain": [
       "TensorShape([Dimension(None)])"
      ]
     },
     "execution_count": 18,
     "metadata": {
      "tags": []
     },
     "output_type": "execute_result"
    }
   ],
   "source": [
    "y_.shape"
   ]
  },
  {
   "cell_type": "markdown",
   "metadata": {
    "colab_type": "text",
    "id": "xSypb_u8OB7e",
    "slideshow": {
     "slide_type": "slide"
    }
   },
   "source": [
    "## Execute the Graph for 100 epochs and observe the loss"
   ]
  },
  {
   "cell_type": "code",
   "execution_count": 0,
   "metadata": {
    "colab": {},
    "colab_type": "code",
    "collapsed": true,
    "id": "DVvgj7eQOB7f"
   },
   "outputs": [],
   "source": [
    "#Lets start graph Execution\n",
    "sess = tf.Session()\n",
    "\n",
    "# variables need to be initialized before we can use them\n",
    "sess.run(tf.global_variables_initializer())\n",
    "\n",
    "#how many times data need to be shown to model\n",
    "training_epochs = 100"
   ]
  },
  {
   "cell_type": "code",
   "execution_count": 20,
   "metadata": {
    "colab": {
     "base_uri": "https://localhost:8080/",
     "height": 187
    },
    "colab_type": "code",
    "id": "9smwOW-1OB7k",
    "outputId": "bff68353-a49e-4623-9eb1-225d86068fb3"
   },
   "outputs": [
    {
     "name": "stdout",
     "output_type": "stream",
     "text": [
      "('Training loss at step: ', 0, ' is ', 8324.612)\n",
      "('Training loss at step: ', 10, ' is ', 6848.526)\n",
      "('Training loss at step: ', 20, ' is ', 5766.571)\n",
      "('Training loss at step: ', 30, ' is ', 3884.3477)\n",
      "('Training loss at step: ', 40, ' is ', 3883.742)\n",
      "('Training loss at step: ', 50, ' is ', 3883.6016)\n",
      "('Training loss at step: ', 60, ' is ', 3883.5195)\n",
      "('Training loss at step: ', 70, ' is ', 3883.4802)\n",
      "('Training loss at step: ', 80, ' is ', 3883.4583)\n",
      "('Training loss at step: ', 90, ' is ', 3883.4412)\n"
     ]
    }
   ],
   "source": [
    "for epoch in range(training_epochs):\n",
    "            \n",
    "    #Calculate train_op and loss\n",
    "    _, train_loss = sess.run([train_op, loss],feed_dict={x:trainX, \n",
    "                                                        y_:trainY})\n",
    "    \n",
    "    if epoch % 10 == 0:\n",
    "        print ('Training loss at step: ', epoch, ' is ', train_loss)"
   ]
  },
  {
   "cell_type": "code",
   "execution_count": 0,
   "metadata": {
    "colab": {},
    "colab_type": "code",
    "collapsed": true,
    "id": "9JuLI6bSOB7n"
   },
   "outputs": [],
   "source": [
    "_"
   ]
  },
  {
   "cell_type": "markdown",
   "metadata": {
    "colab_type": "text",
    "id": "DOL2ncA1OB7q"
   },
   "source": [
    "### Get the shapes and values of W and b\n",
    "\n",
    "Hint: Use sess.run(W) to get W."
   ]
  },
  {
   "cell_type": "code",
   "execution_count": 22,
   "metadata": {
    "colab": {
     "base_uri": "https://localhost:8080/",
     "height": 85
    },
    "colab_type": "code",
    "id": "ZGvtyTeuOB7r",
    "outputId": "a0f1751d-3e60-47f4-876f-fc444cac0b23"
   },
   "outputs": [
    {
     "data": {
      "text/plain": [
       "array([[-2.224702 ],\n",
       "       [-1.3972614],\n",
       "       [ 5.8589606],\n",
       "       [ 0.6460627]], dtype=float32)"
      ]
     },
     "execution_count": 22,
     "metadata": {
      "tags": []
     },
     "output_type": "execute_result"
    }
   ],
   "source": [
    "sess.run(W)"
   ]
  },
  {
   "cell_type": "code",
   "execution_count": 23,
   "metadata": {
    "colab": {
     "base_uri": "https://localhost:8080/",
     "height": 34
    },
    "colab_type": "code",
    "id": "vhDtOv5UOB7x",
    "outputId": "abd638ab-e175-4065-fd9c-6e6354e2f1f3"
   },
   "outputs": [
    {
     "data": {
      "text/plain": [
       "array([24.586159], dtype=float32)"
      ]
     },
     "execution_count": 23,
     "metadata": {
      "tags": []
     },
     "output_type": "execute_result"
    }
   ],
   "source": [
    "sess.run(b)"
   ]
  },
  {
   "cell_type": "markdown",
   "metadata": {
    "colab_type": "text",
    "id": "SZqKUEFsOB71"
   },
   "source": [
    "### Find the Absolute mean square loss difference between training and testing loss."
   ]
  },
  {
   "cell_type": "code",
   "execution_count": 24,
   "metadata": {
    "colab": {
     "base_uri": "https://localhost:8080/",
     "height": 187
    },
    "colab_type": "code",
    "id": "97t-grQgOB71",
    "outputId": "7fbe6200-7ba1-4b5f-bd0d-46feb1b1cd7e"
   },
   "outputs": [
    {
     "name": "stdout",
     "output_type": "stream",
     "text": [
      "('Testing loss at step: ', 0, ' is ', 2280.6519)\n",
      "('Testing loss at step: ', 10, ' is ', 2280.4448)\n",
      "('Testing loss at step: ', 20, ' is ', 2280.435)\n",
      "('Testing loss at step: ', 30, ' is ', 2280.43)\n",
      "('Testing loss at step: ', 40, ' is ', 2280.4248)\n",
      "('Testing loss at step: ', 50, ' is ', 2280.42)\n",
      "('Testing loss at step: ', 60, ' is ', 2280.417)\n",
      "('Testing loss at step: ', 70, ' is ', 2280.4128)\n",
      "('Testing loss at step: ', 80, ' is ', 2280.4104)\n",
      "('Testing loss at step: ', 90, ' is ', 2280.4092)\n"
     ]
    }
   ],
   "source": [
    "for epoch in range(training_epochs):\n",
    "            \n",
    "    #Calculate train_op and loss\n",
    "    _, test_loss = sess.run([train_op, loss],feed_dict={x:testX, \n",
    "                                                        y_:testY})\n",
    "    \n",
    "    if epoch % 10 == 0:\n",
    "        print ('Testing loss at step: ', epoch, ' is ', test_loss)"
   ]
  },
  {
   "cell_type": "code",
   "execution_count": 25,
   "metadata": {
    "colab": {
     "base_uri": "https://localhost:8080/",
     "height": 34
    },
    "colab_type": "code",
    "id": "KjOInjUROB75",
    "outputId": "72523290-20a3-47b8-d3b2-238c1bcbc7a4"
   },
   "outputs": [
    {
     "data": {
      "text/plain": [
       "2280.4065"
      ]
     },
     "execution_count": 25,
     "metadata": {
      "tags": []
     },
     "output_type": "execute_result"
    }
   ],
   "source": [
    "test_loss"
   ]
  },
  {
   "cell_type": "code",
   "execution_count": 26,
   "metadata": {
    "colab": {
     "base_uri": "https://localhost:8080/",
     "height": 34
    },
    "colab_type": "code",
    "id": "CZUAjZ5oOB78",
    "outputId": "97b21f2b-e28a-4286-d280-70e039a9d7d6"
   },
   "outputs": [
    {
     "data": {
      "text/plain": [
       "3883.4304"
      ]
     },
     "execution_count": 26,
     "metadata": {
      "tags": []
     },
     "output_type": "execute_result"
    }
   ],
   "source": [
    "train_loss"
   ]
  },
  {
   "cell_type": "code",
   "execution_count": 27,
   "metadata": {
    "colab": {
     "base_uri": "https://localhost:8080/",
     "height": 34
    },
    "colab_type": "code",
    "id": "I8FgNxqHp3CK",
    "outputId": "332005bf-fd9c-4bcc-ee8b-e683fcd4f8f7"
   },
   "outputs": [
    {
     "data": {
      "text/plain": [
       "1603.0239"
      ]
     },
     "execution_count": 27,
     "metadata": {
      "tags": []
     },
     "output_type": "execute_result"
    }
   ],
   "source": [
    "train_loss - test_loss"
   ]
  },
  {
   "cell_type": "markdown",
   "metadata": {
    "colab_type": "text",
    "id": "YJRBuqXhOB7_"
   },
   "source": [
    "### Linear Classification using Keras"
   ]
  },
  {
   "cell_type": "markdown",
   "metadata": {
    "colab_type": "text",
    "id": "8GoNTWXAOB8C",
    "slideshow": {
     "slide_type": "slide"
    }
   },
   "source": [
    "### Building the simple Neural Network in Keras with one neuron in the dense hidden layer.\n",
    "#### Use Mean square error as loss function and sgd as optimizer"
   ]
  },
  {
   "cell_type": "code",
   "execution_count": 0,
   "metadata": {
    "colab": {},
    "colab_type": "code",
    "collapsed": true,
    "id": "wsfTOzmuwyoc"
   },
   "outputs": [],
   "source": [
    "#Initialize Sequential Graph (model)\n",
    "model = tf.keras.models.Sequential()\n",
    "\n",
    "#Normalize input data\n",
    "model.add(tf.keras.layers.BatchNormalization(input_shape=(4,)))\n",
    "\n",
    "#Add Dense layer for prediction - Keras declares weights and bias automatically\n",
    "model.add(tf.keras.layers.Dense(1))\n",
    "\n",
    "#set up learning rate \n",
    "sgd = tf.keras.optimizers.SGD(lr = 0.003)\n",
    "\n",
    "#Compile the model - add Loss and Gradient Descent optimizer\n",
    "model.compile(optimizer= sgd, loss='mse')"
   ]
  },
  {
   "cell_type": "code",
   "execution_count": 29,
   "metadata": {
    "colab": {
     "base_uri": "https://localhost:8080/",
     "height": 34
    },
    "colab_type": "code",
    "id": "hPWynukX0jZU",
    "outputId": "408edb03-5bc8-48da-c11d-0b5c4cd2c23c"
   },
   "outputs": [
    {
     "data": {
      "text/plain": [
       "(700, 4)"
      ]
     },
     "execution_count": 29,
     "metadata": {
      "tags": []
     },
     "output_type": "execute_result"
    }
   ],
   "source": [
    "trainX.shape"
   ]
  },
  {
   "cell_type": "code",
   "execution_count": 30,
   "metadata": {
    "colab": {
     "base_uri": "https://localhost:8080/",
     "height": 34
    },
    "colab_type": "code",
    "id": "-feNt_6d0lzC",
    "outputId": "e1114023-e7d1-4c1c-ffd7-57a3eccd2069"
   },
   "outputs": [
    {
     "data": {
      "text/plain": [
       "(700,)"
      ]
     },
     "execution_count": 30,
     "metadata": {
      "tags": []
     },
     "output_type": "execute_result"
    }
   ],
   "source": [
    "trainY.shape"
   ]
  },
  {
   "cell_type": "code",
   "execution_count": 31,
   "metadata": {
    "colab": {
     "base_uri": "https://localhost:8080/",
     "height": 204
    },
    "colab_type": "code",
    "id": "T-A2YXP70osi",
    "outputId": "6c91702d-2637-4c1b-c8d5-b8f7cee7e640"
   },
   "outputs": [
    {
     "name": "stdout",
     "output_type": "stream",
     "text": [
      "_________________________________________________________________\n",
      "Layer (type)                 Output Shape              Param #   \n",
      "=================================================================\n",
      "batch_normalization_1 (Batch (None, 4)                 16        \n",
      "_________________________________________________________________\n",
      "dense (Dense)                (None, 1)                 5         \n",
      "=================================================================\n",
      "Total params: 21\n",
      "Trainable params: 13\n",
      "Non-trainable params: 8\n",
      "_________________________________________________________________\n"
     ]
    }
   ],
   "source": [
    "model.summary()"
   ]
  },
  {
   "cell_type": "markdown",
   "metadata": {
    "colab_type": "text",
    "id": "Wt-HYFMEOB8G",
    "slideshow": {
     "slide_type": "slide"
    }
   },
   "source": [
    "### Execute the model"
   ]
  },
  {
   "cell_type": "code",
   "execution_count": 32,
   "metadata": {
    "colab": {
     "base_uri": "https://localhost:8080/",
     "height": 3451
    },
    "colab_type": "code",
    "id": "66JGJt7GOB8H",
    "outputId": "6d9ca5de-06d6-4254-8ff8-c9d86545eddb",
    "scrolled": false
   },
   "outputs": [
    {
     "name": "stdout",
     "output_type": "stream",
     "text": [
      "Train on 700 samples, validate on 300 samples\n",
      "Epoch 1/100\n",
      "700/700 [==============================] - 0s 243us/step - loss: 3566.3877 - val_loss: 81056.6220\n",
      "Epoch 2/100\n",
      "700/700 [==============================] - 0s 35us/step - loss: 1267.2008 - val_loss: 560.8948\n",
      "Epoch 3/100\n",
      "700/700 [==============================] - 0s 32us/step - loss: 1756.9587 - val_loss: 1642.4248\n",
      "Epoch 4/100\n",
      "700/700 [==============================] - 0s 36us/step - loss: 1356.0361 - val_loss: 606.5466\n",
      "Epoch 5/100\n",
      "700/700 [==============================] - 0s 36us/step - loss: 1631.0839 - val_loss: 302.8553\n",
      "Epoch 6/100\n",
      "700/700 [==============================] - 0s 36us/step - loss: 2572.8125 - val_loss: 168.5830\n",
      "Epoch 7/100\n",
      "700/700 [==============================] - 0s 38us/step - loss: 1796.3339 - val_loss: 431.5862\n",
      "Epoch 8/100\n",
      "700/700 [==============================] - 0s 38us/step - loss: 1642.3133 - val_loss: 193.5594\n",
      "Epoch 9/100\n",
      "700/700 [==============================] - 0s 38us/step - loss: 1570.3302 - val_loss: 2788.3816\n",
      "Epoch 10/100\n",
      "700/700 [==============================] - 0s 37us/step - loss: 1895.2872 - val_loss: 123.2582\n",
      "Epoch 11/100\n",
      "700/700 [==============================] - 0s 35us/step - loss: 1398.9671 - val_loss: 110.3714\n",
      "Epoch 12/100\n",
      "700/700 [==============================] - 0s 37us/step - loss: 1354.1686 - val_loss: 681.3363\n",
      "Epoch 13/100\n",
      "700/700 [==============================] - 0s 35us/step - loss: 1521.3044 - val_loss: 131.0960\n",
      "Epoch 14/100\n",
      "700/700 [==============================] - 0s 39us/step - loss: 1521.9326 - val_loss: 214.0393\n",
      "Epoch 15/100\n",
      "700/700 [==============================] - 0s 36us/step - loss: 1158.1405 - val_loss: 319.3854\n",
      "Epoch 16/100\n",
      "700/700 [==============================] - 0s 37us/step - loss: 1216.6249 - val_loss: 243.0461\n",
      "Epoch 17/100\n",
      "700/700 [==============================] - 0s 39us/step - loss: 1345.3924 - val_loss: 285.1435\n",
      "Epoch 18/100\n",
      "700/700 [==============================] - 0s 36us/step - loss: 1094.0445 - val_loss: 283.8085\n",
      "Epoch 19/100\n",
      "700/700 [==============================] - 0s 37us/step - loss: 1233.8902 - val_loss: 78.9929\n",
      "Epoch 20/100\n",
      "700/700 [==============================] - 0s 36us/step - loss: 1357.5768 - val_loss: 574.5940\n",
      "Epoch 21/100\n",
      "700/700 [==============================] - 0s 36us/step - loss: 1246.0654 - val_loss: 1223.4479\n",
      "Epoch 22/100\n",
      "700/700 [==============================] - 0s 34us/step - loss: 1210.3546 - val_loss: 881.6903\n",
      "Epoch 23/100\n",
      "700/700 [==============================] - 0s 36us/step - loss: 1504.2012 - val_loss: 313.7821\n",
      "Epoch 24/100\n",
      "700/700 [==============================] - 0s 38us/step - loss: 1207.8770 - val_loss: 419.3880\n",
      "Epoch 25/100\n",
      "700/700 [==============================] - 0s 39us/step - loss: 1731.1813 - val_loss: 1087.8610\n",
      "Epoch 26/100\n",
      "700/700 [==============================] - 0s 37us/step - loss: 1458.1643 - val_loss: 666.9795\n",
      "Epoch 27/100\n",
      "700/700 [==============================] - 0s 36us/step - loss: 1485.9153 - val_loss: 1163.9689\n",
      "Epoch 28/100\n",
      "700/700 [==============================] - 0s 37us/step - loss: 1367.2956 - val_loss: 262.1276\n",
      "Epoch 29/100\n",
      "700/700 [==============================] - 0s 36us/step - loss: 1172.3428 - val_loss: 564.1739\n",
      "Epoch 30/100\n",
      "700/700 [==============================] - 0s 32us/step - loss: 1342.2596 - val_loss: 213.0528\n",
      "Epoch 31/100\n",
      "700/700 [==============================] - 0s 37us/step - loss: 924.5431 - val_loss: 141.0749\n",
      "Epoch 32/100\n",
      "700/700 [==============================] - 0s 36us/step - loss: 1142.0751 - val_loss: 627.5707\n",
      "Epoch 33/100\n",
      "700/700 [==============================] - 0s 35us/step - loss: 1034.1965 - val_loss: 39.3677\n",
      "Epoch 34/100\n",
      "700/700 [==============================] - 0s 34us/step - loss: 1604.9364 - val_loss: 467.9187\n",
      "Epoch 35/100\n",
      "700/700 [==============================] - 0s 36us/step - loss: 1380.0430 - val_loss: 635.5323\n",
      "Epoch 36/100\n",
      "700/700 [==============================] - 0s 34us/step - loss: 1534.7618 - val_loss: 209.7635\n",
      "Epoch 37/100\n",
      "700/700 [==============================] - 0s 36us/step - loss: 1388.7185 - val_loss: 683.1800\n",
      "Epoch 38/100\n",
      "700/700 [==============================] - 0s 40us/step - loss: 1376.7823 - val_loss: 373.8358\n",
      "Epoch 39/100\n",
      "700/700 [==============================] - 0s 38us/step - loss: 1054.6195 - val_loss: 250.6038\n",
      "Epoch 40/100\n",
      "700/700 [==============================] - 0s 36us/step - loss: 1167.5489 - val_loss: 1961.9371\n",
      "Epoch 41/100\n",
      "700/700 [==============================] - 0s 38us/step - loss: 1548.8508 - val_loss: 1171.2294\n",
      "Epoch 42/100\n",
      "700/700 [==============================] - 0s 39us/step - loss: 1127.1125 - val_loss: 615.6915\n",
      "Epoch 43/100\n",
      "700/700 [==============================] - 0s 44us/step - loss: 1242.7919 - val_loss: 958.3317\n",
      "Epoch 44/100\n",
      "700/700 [==============================] - 0s 36us/step - loss: 1401.3787 - val_loss: 476.9955\n",
      "Epoch 45/100\n",
      "700/700 [==============================] - 0s 37us/step - loss: 1377.3249 - val_loss: 294.4132\n",
      "Epoch 46/100\n",
      "700/700 [==============================] - 0s 41us/step - loss: 1447.5078 - val_loss: 363.0489\n",
      "Epoch 47/100\n",
      "700/700 [==============================] - 0s 39us/step - loss: 1355.5350 - val_loss: 444.1436\n",
      "Epoch 48/100\n",
      "700/700 [==============================] - 0s 37us/step - loss: 1000.7870 - val_loss: 291.8032\n",
      "Epoch 49/100\n",
      "700/700 [==============================] - 0s 35us/step - loss: 1857.1581 - val_loss: 312.0317\n",
      "Epoch 50/100\n",
      "700/700 [==============================] - 0s 33us/step - loss: 1235.4379 - val_loss: 162.7309\n",
      "Epoch 51/100\n",
      "700/700 [==============================] - 0s 38us/step - loss: 1372.9485 - val_loss: 463.3988\n",
      "Epoch 52/100\n",
      "700/700 [==============================] - 0s 36us/step - loss: 1709.6397 - val_loss: 190.6114\n",
      "Epoch 53/100\n",
      "700/700 [==============================] - 0s 34us/step - loss: 1457.1058 - val_loss: 702.0972\n",
      "Epoch 54/100\n",
      "700/700 [==============================] - 0s 36us/step - loss: 919.5981 - val_loss: 413.6477\n",
      "Epoch 55/100\n",
      "700/700 [==============================] - 0s 36us/step - loss: 1489.7635 - val_loss: 286.6722\n",
      "Epoch 56/100\n",
      "700/700 [==============================] - 0s 35us/step - loss: 1356.3687 - val_loss: 469.7017\n",
      "Epoch 57/100\n",
      "700/700 [==============================] - 0s 38us/step - loss: 1331.0070 - val_loss: 74.7755\n",
      "Epoch 58/100\n",
      "700/700 [==============================] - 0s 39us/step - loss: 922.7167 - val_loss: 224.2664\n",
      "Epoch 59/100\n",
      "700/700 [==============================] - 0s 35us/step - loss: 1424.5759 - val_loss: 373.3528\n",
      "Epoch 60/100\n",
      "700/700 [==============================] - 0s 36us/step - loss: 1616.5974 - val_loss: 68.6928\n",
      "Epoch 61/100\n",
      "700/700 [==============================] - 0s 35us/step - loss: 1705.9516 - val_loss: 267.4213\n",
      "Epoch 62/100\n",
      "700/700 [==============================] - 0s 35us/step - loss: 1336.1680 - val_loss: 302.8943\n",
      "Epoch 63/100\n",
      "700/700 [==============================] - 0s 37us/step - loss: 1242.6860 - val_loss: 817.0459\n",
      "Epoch 64/100\n",
      "700/700 [==============================] - 0s 35us/step - loss: 1478.6304 - val_loss: 34.7970\n",
      "Epoch 65/100\n",
      "700/700 [==============================] - 0s 36us/step - loss: 1259.2645 - val_loss: 167.0741\n",
      "Epoch 66/100\n",
      "700/700 [==============================] - 0s 37us/step - loss: 1183.4006 - val_loss: 369.1765\n",
      "Epoch 67/100\n",
      "700/700 [==============================] - 0s 39us/step - loss: 1281.5941 - val_loss: 518.1438\n",
      "Epoch 68/100\n",
      "700/700 [==============================] - 0s 39us/step - loss: 1559.1719 - val_loss: 288.1091\n",
      "Epoch 69/100\n",
      "700/700 [==============================] - 0s 41us/step - loss: 1443.0363 - val_loss: 615.5335\n",
      "Epoch 70/100\n",
      "700/700 [==============================] - 0s 38us/step - loss: 1253.3097 - val_loss: 62.3971\n",
      "Epoch 71/100\n",
      "700/700 [==============================] - 0s 43us/step - loss: 1456.2879 - val_loss: 502.3371\n",
      "Epoch 72/100\n",
      "700/700 [==============================] - 0s 36us/step - loss: 1192.5865 - val_loss: 1245.3465\n",
      "Epoch 73/100\n",
      "700/700 [==============================] - 0s 37us/step - loss: 1247.4873 - val_loss: 885.2571\n",
      "Epoch 74/100\n",
      "700/700 [==============================] - 0s 36us/step - loss: 1342.8909 - val_loss: 509.8326\n",
      "Epoch 75/100\n",
      "700/700 [==============================] - 0s 38us/step - loss: 1380.8643 - val_loss: 242.4113\n",
      "Epoch 76/100\n",
      "700/700 [==============================] - 0s 36us/step - loss: 1293.7657 - val_loss: 242.1786\n",
      "Epoch 77/100\n",
      "700/700 [==============================] - 0s 39us/step - loss: 1276.5817 - val_loss: 385.2634\n",
      "Epoch 78/100\n",
      "700/700 [==============================] - 0s 40us/step - loss: 1171.0746 - val_loss: 131.0056\n",
      "Epoch 79/100\n",
      "700/700 [==============================] - 0s 41us/step - loss: 1393.0398 - val_loss: 253.2281\n",
      "Epoch 80/100\n",
      "700/700 [==============================] - 0s 36us/step - loss: 1280.4690 - val_loss: 427.3439\n",
      "Epoch 81/100\n",
      "700/700 [==============================] - 0s 35us/step - loss: 1437.7950 - val_loss: 346.1211\n",
      "Epoch 82/100\n",
      "700/700 [==============================] - 0s 34us/step - loss: 1464.4399 - val_loss: 728.8875\n",
      "Epoch 83/100\n",
      "700/700 [==============================] - 0s 35us/step - loss: 1538.1458 - val_loss: 534.5350\n",
      "Epoch 84/100\n",
      "700/700 [==============================] - 0s 38us/step - loss: 1180.0521 - val_loss: 337.5809\n",
      "Epoch 85/100\n",
      "700/700 [==============================] - 0s 41us/step - loss: 1245.6228 - val_loss: 828.4729\n",
      "Epoch 86/100\n",
      "700/700 [==============================] - 0s 39us/step - loss: 1100.8732 - val_loss: 134.4464\n",
      "Epoch 87/100\n",
      "700/700 [==============================] - 0s 38us/step - loss: 1484.5931 - val_loss: 144.5550\n",
      "Epoch 88/100\n",
      "700/700 [==============================] - 0s 41us/step - loss: 1533.9038 - val_loss: 95.6720\n",
      "Epoch 89/100\n",
      "700/700 [==============================] - 0s 42us/step - loss: 1340.8214 - val_loss: 182.0473\n",
      "Epoch 90/100\n",
      "700/700 [==============================] - 0s 36us/step - loss: 1078.6164 - val_loss: 317.7775\n",
      "Epoch 91/100\n",
      "700/700 [==============================] - 0s 39us/step - loss: 1652.8824 - val_loss: 206.1645\n",
      "Epoch 92/100\n",
      "700/700 [==============================] - 0s 34us/step - loss: 1776.7284 - val_loss: 434.4792\n",
      "Epoch 93/100\n",
      "700/700 [==============================] - 0s 40us/step - loss: 1182.3942 - val_loss: 348.4977\n",
      "Epoch 94/100\n",
      "700/700 [==============================] - 0s 33us/step - loss: 1290.2179 - val_loss: 570.6695\n",
      "Epoch 95/100\n",
      "700/700 [==============================] - 0s 44us/step - loss: 899.4079 - val_loss: 228.9500\n",
      "Epoch 96/100\n",
      "700/700 [==============================] - 0s 38us/step - loss: 1202.0092 - val_loss: 279.9294\n",
      "Epoch 97/100\n",
      "700/700 [==============================] - 0s 36us/step - loss: 1526.4724 - val_loss: 162.8585\n",
      "Epoch 98/100\n",
      "700/700 [==============================] - 0s 39us/step - loss: 1010.8083 - val_loss: 280.3087\n",
      "Epoch 99/100\n",
      "700/700 [==============================] - 0s 31us/step - loss: 1331.2741 - val_loss: 218.3056\n",
      "Epoch 100/100\n",
      "700/700 [==============================] - 0s 37us/step - loss: 1346.6193 - val_loss: 286.2626\n"
     ]
    },
    {
     "data": {
      "text/plain": [
       "<tensorflow.python.keras.callbacks.History at 0x7f9d5d139990>"
      ]
     },
     "execution_count": 32,
     "metadata": {
      "tags": []
     },
     "output_type": "execute_result"
    }
   ],
   "source": [
    "model.fit(trainX,trainY,validation_data=(testX,testY), epochs=100)"
   ]
  },
  {
   "cell_type": "code",
   "execution_count": 33,
   "metadata": {
    "colab": {
     "base_uri": "https://localhost:8080/",
     "height": 204
    },
    "colab_type": "code",
    "id": "Nilxip3YY_mu",
    "outputId": "8b09c376-abf0-48b4-c7ce-208a8b3a071e"
   },
   "outputs": [
    {
     "data": {
      "text/plain": [
       "[array([-0.9096455 , -0.01725314,  7.4280176 , -0.5275992 ], dtype=float32),\n",
       " array([ 0.565933  ,  0.00956313, -4.6292152 , -9.460036  ], dtype=float32),\n",
       " array([6.6545876e+01, 6.5857697e+01, 6.7222954e+01, 5.1630540e+06],\n",
       "       dtype=float32),\n",
       " array([3.7718611e+03, 3.7082542e+03, 3.8093750e+03, 1.4416742e+14],\n",
       "       dtype=float32),\n",
       " array([[-0.6970795 ],\n",
       "        [-0.01350073],\n",
       "        [ 5.6912413 ],\n",
       "        [-7.822593  ]], dtype=float32),\n",
       " array([18.335089], dtype=float32)]"
      ]
     },
     "execution_count": 33,
     "metadata": {
      "tags": []
     },
     "output_type": "execute_result"
    }
   ],
   "source": [
    "model.get_weights()"
   ]
  },
  {
   "cell_type": "markdown",
   "metadata": {
    "colab_type": "text",
    "id": "gwamWb1PY_mt"
   },
   "source": [
    "### Classification using Keras "
   ]
  },
  {
   "cell_type": "markdown",
   "metadata": {
    "colab_type": "text",
    "id": "svtXXRugY_mw"
   },
   "source": [
    "### Load the given Iris data using pandas (Iris.csv)"
   ]
  },
  {
   "cell_type": "code",
   "execution_count": 0,
   "metadata": {
    "colab": {},
    "colab_type": "code",
    "collapsed": true,
    "id": "9IYira9Vwo6H"
   },
   "outputs": [],
   "source": [
    "Source = pandas.read_csv('Iris (3).csv')"
   ]
  },
  {
   "cell_type": "code",
   "execution_count": 35,
   "metadata": {
    "colab": {
     "base_uri": "https://localhost:8080/",
     "height": 204
    },
    "colab_type": "code",
    "id": "TkLeCeEb4lAS",
    "outputId": "1203e9c8-b308-46af-9c31-dcbed5e83ef3"
   },
   "outputs": [
    {
     "name": "stdout",
     "output_type": "stream",
     "text": [
      "<class 'pandas.core.frame.DataFrame'>\n",
      "RangeIndex: 150 entries, 0 to 149\n",
      "Data columns (total 6 columns):\n",
      "Id               150 non-null int64\n",
      "SepalLengthCm    150 non-null float64\n",
      "SepalWidthCm     150 non-null float64\n",
      "PetalLengthCm    150 non-null float64\n",
      "PetalWidthCm     150 non-null float64\n",
      "Species          150 non-null object\n",
      "dtypes: float64(4), int64(1), object(1)\n",
      "memory usage: 7.1+ KB\n"
     ]
    }
   ],
   "source": [
    "Source.info()"
   ]
  },
  {
   "cell_type": "code",
   "execution_count": 0,
   "metadata": {
    "colab": {},
    "colab_type": "code",
    "collapsed": true,
    "id": "m78O07GS4nn-"
   },
   "outputs": [],
   "source": [
    "Source = Source.drop('Id', axis=1)"
   ]
  },
  {
   "cell_type": "markdown",
   "metadata": {
    "colab_type": "text",
    "id": "Ovx-_uscY_mz"
   },
   "source": [
    "### Splitting the data into feature set and target set"
   ]
  },
  {
   "cell_type": "code",
   "execution_count": 0,
   "metadata": {
    "colab": {},
    "colab_type": "code",
    "collapsed": true,
    "id": "WprNYblUY_mz"
   },
   "outputs": [],
   "source": [
    "Y = Source['Species']\n",
    "X = Source.drop('Species', axis = 1)"
   ]
  },
  {
   "cell_type": "code",
   "execution_count": 38,
   "metadata": {
    "colab": {
     "base_uri": "https://localhost:8080/",
     "height": 119
    },
    "colab_type": "code",
    "id": "Xc_l2yVP5as6",
    "outputId": "e4add42e-0ea6-49f3-e28a-acaa109ab1ab"
   },
   "outputs": [
    {
     "data": {
      "text/plain": [
       "0    Iris-setosa\n",
       "1    Iris-setosa\n",
       "2    Iris-setosa\n",
       "3    Iris-setosa\n",
       "4    Iris-setosa\n",
       "Name: Species, dtype: object"
      ]
     },
     "execution_count": 38,
     "metadata": {
      "tags": []
     },
     "output_type": "execute_result"
    }
   ],
   "source": [
    "Y.head()\n"
   ]
  },
  {
   "cell_type": "markdown",
   "metadata": {
    "colab_type": "text",
    "id": "yHGgLhpCY_m1"
   },
   "source": [
    "### Target set has different categories. So, Label encode them. And convert into one-hot vectors using get_dummies in pandas."
   ]
  },
  {
   "cell_type": "code",
   "execution_count": 0,
   "metadata": {
    "colab": {},
    "colab_type": "code",
    "collapsed": true,
    "id": "aoCNu7HZY_m2"
   },
   "outputs": [],
   "source": [
    "Y_dummies = pandas.DataFrame(pandas.get_dummies(Y, sparse=True).values)"
   ]
  },
  {
   "cell_type": "code",
   "execution_count": 40,
   "metadata": {
    "colab": {
     "base_uri": "https://localhost:8080/",
     "height": 34
    },
    "colab_type": "code",
    "id": "1_PWE4A5AsSS",
    "outputId": "ca6a9468-12de-4530-9328-e8f383323d79"
   },
   "outputs": [
    {
     "data": {
      "text/plain": [
       "pandas.core.frame.DataFrame"
      ]
     },
     "execution_count": 40,
     "metadata": {
      "tags": []
     },
     "output_type": "execute_result"
    }
   ],
   "source": [
    "type(Y_dummies)"
   ]
  },
  {
   "cell_type": "code",
   "execution_count": 53,
   "metadata": {
    "colab": {
     "base_uri": "https://localhost:8080/",
     "height": 34
    },
    "colab_type": "code",
    "id": "8DH450a1EtmN",
    "outputId": "2a462ad9-28d7-4fa6-d66b-030f8e31dc89"
   },
   "outputs": [
    {
     "data": {
      "text/plain": [
       "(150, 3)"
      ]
     },
     "execution_count": 53,
     "metadata": {
      "tags": []
     },
     "output_type": "execute_result"
    }
   ],
   "source": [
    "Y_dummies.shape"
   ]
  },
  {
   "cell_type": "markdown",
   "metadata": {
    "colab_type": "text",
    "id": "mdMlTgWmY_m4"
   },
   "source": [
    "### Divide the dataset into Training and test (70:30)"
   ]
  },
  {
   "cell_type": "code",
   "execution_count": 0,
   "metadata": {
    "colab": {},
    "colab_type": "code",
    "collapsed": true,
    "id": "yKdla9BXY_m4"
   },
   "outputs": [],
   "source": [
    "trainX, testX,trainY,testY = train_test_split(X, Y_dummies, test_size=0.3, random_state=100)"
   ]
  },
  {
   "cell_type": "markdown",
   "metadata": {
    "colab_type": "text",
    "id": "_tnaV6MmY_m6"
   },
   "source": [
    "### Model\n",
    "Build the model with following layers: <br>\n",
    "1. First dense layer with 10 neurons with input shape 4 (according to the feature set) <br>\n",
    "2. Second Dense layer with 8 neurons <br>\n",
    "3. Output layer with 3 neurons with softmax activation (output layer, 3 neurons as we have 3 classes) <br>\n",
    "4. Use SGD and categorical_crossentropy loss "
   ]
  },
  {
   "cell_type": "code",
   "execution_count": 0,
   "metadata": {
    "colab": {},
    "colab_type": "code",
    "collapsed": true,
    "id": "U1Lbf-fGY_m8"
   },
   "outputs": [],
   "source": [
    "#Initialize the sequential model\n",
    "model_iris = tf.keras.models.Sequential()\n",
    "\n",
    "#Normalize the data\n",
    "model_iris.add(tf.keras.layers.BatchNormalization())\n",
    "\n",
    "#Add Dense layer which provides 10 outputs after applying softmax\n",
    "model_iris.add(tf.keras.layers.Dense(10, activation='sigmoid', input_dim=4))\n",
    "\n",
    "#Add Dense layer which provides 10 outputs after applying softmax\n",
    "model_iris.add(tf.keras.layers.Dense(8, activation='sigmoid'))\n",
    "\n",
    "#sgd = tf.keras.optimizers.SGD(lr = 0.003)\n",
    "\n",
    "#Add Dense layer which provides 10 outputs after applying softmax\n",
    "model_iris.add(tf.keras.layers.Dense(3, activation='softmax'))"
   ]
  },
  {
   "cell_type": "code",
   "execution_count": 0,
   "metadata": {
    "colab": {},
    "colab_type": "code",
    "collapsed": true,
    "id": "7VITALIf9BtA"
   },
   "outputs": [],
   "source": [
    "#Complile the model\n",
    "model_iris.compile(optimizer = 'sgd', loss = 'categorical_crossentropy', metrics = ['accuracy'])"
   ]
  },
  {
   "cell_type": "markdown",
   "metadata": {
    "colab_type": "text",
    "id": "0JuPhWyEY_m_"
   },
   "source": [
    "### Fitting the model and predicting "
   ]
  },
  {
   "cell_type": "code",
   "execution_count": 46,
   "metadata": {
    "colab": {
     "base_uri": "https://localhost:8080/",
     "height": 34051
    },
    "colab_type": "code",
    "id": "5TCsauoWAbA9",
    "outputId": "352eb1e7-bc72-4159-a39b-2aa1ba68b625",
    "scrolled": false
   },
   "outputs": [
    {
     "name": "stdout",
     "output_type": "stream",
     "text": [
      "Train on 105 samples, validate on 45 samples\n",
      "Epoch 1/1000\n",
      "105/105 [==============================] - 0s 2ms/step - loss: 1.1667 - acc: 0.3714 - val_loss: 1.2691 - val_acc: 0.2444\n",
      "Epoch 2/1000\n",
      "105/105 [==============================] - 0s 100us/step - loss: 1.1599 - acc: 0.3714 - val_loss: 1.2562 - val_acc: 0.2444\n",
      "Epoch 3/1000\n",
      "105/105 [==============================] - 0s 104us/step - loss: 1.1527 - acc: 0.3714 - val_loss: 1.2468 - val_acc: 0.2444\n",
      "Epoch 4/1000\n",
      "105/105 [==============================] - 0s 90us/step - loss: 1.1471 - acc: 0.3714 - val_loss: 1.2394 - val_acc: 0.2444\n",
      "Epoch 5/1000\n",
      "105/105 [==============================] - 0s 85us/step - loss: 1.1428 - acc: 0.3714 - val_loss: 1.2290 - val_acc: 0.2444\n",
      "Epoch 6/1000\n",
      "105/105 [==============================] - 0s 76us/step - loss: 1.1368 - acc: 0.3714 - val_loss: 1.2217 - val_acc: 0.2444\n",
      "Epoch 7/1000\n",
      "105/105 [==============================] - 0s 88us/step - loss: 1.1326 - acc: 0.3714 - val_loss: 1.2138 - val_acc: 0.2444\n",
      "Epoch 8/1000\n",
      "105/105 [==============================] - 0s 109us/step - loss: 1.1285 - acc: 0.3714 - val_loss: 1.2062 - val_acc: 0.2444\n",
      "Epoch 9/1000\n",
      "105/105 [==============================] - 0s 98us/step - loss: 1.1247 - acc: 0.3714 - val_loss: 1.2012 - val_acc: 0.2444\n",
      "Epoch 10/1000\n",
      "105/105 [==============================] - 0s 91us/step - loss: 1.1224 - acc: 0.3714 - val_loss: 1.1967 - val_acc: 0.2444\n",
      "Epoch 11/1000\n",
      "105/105 [==============================] - 0s 103us/step - loss: 1.1196 - acc: 0.3714 - val_loss: 1.1895 - val_acc: 0.2444\n",
      "Epoch 12/1000\n",
      "105/105 [==============================] - 0s 120us/step - loss: 1.1161 - acc: 0.3714 - val_loss: 1.1847 - val_acc: 0.2444\n",
      "Epoch 13/1000\n",
      "105/105 [==============================] - 0s 117us/step - loss: 1.1136 - acc: 0.3714 - val_loss: 1.1793 - val_acc: 0.2444\n",
      "Epoch 14/1000\n",
      "105/105 [==============================] - 0s 105us/step - loss: 1.1113 - acc: 0.3714 - val_loss: 1.1749 - val_acc: 0.2444\n",
      "Epoch 15/1000\n",
      "105/105 [==============================] - 0s 98us/step - loss: 1.1093 - acc: 0.3714 - val_loss: 1.1685 - val_acc: 0.2444\n",
      "Epoch 16/1000\n",
      "105/105 [==============================] - 0s 101us/step - loss: 1.1061 - acc: 0.3714 - val_loss: 1.1650 - val_acc: 0.2444\n",
      "Epoch 17/1000\n",
      "105/105 [==============================] - 0s 111us/step - loss: 1.1046 - acc: 0.3714 - val_loss: 1.1606 - val_acc: 0.2444\n",
      "Epoch 18/1000\n",
      "105/105 [==============================] - 0s 96us/step - loss: 1.1027 - acc: 0.3714 - val_loss: 1.1577 - val_acc: 0.2444\n",
      "Epoch 19/1000\n",
      "105/105 [==============================] - 0s 113us/step - loss: 1.1012 - acc: 0.3714 - val_loss: 1.1540 - val_acc: 0.2444\n",
      "Epoch 20/1000\n",
      "105/105 [==============================] - 0s 99us/step - loss: 1.0995 - acc: 0.3714 - val_loss: 1.1490 - val_acc: 0.2444\n",
      "Epoch 21/1000\n",
      "105/105 [==============================] - 0s 119us/step - loss: 1.0981 - acc: 0.3714 - val_loss: 1.1474 - val_acc: 0.2444\n",
      "Epoch 22/1000\n",
      "105/105 [==============================] - 0s 98us/step - loss: 1.0967 - acc: 0.3714 - val_loss: 1.1435 - val_acc: 0.2444\n",
      "Epoch 23/1000\n",
      "105/105 [==============================] - 0s 106us/step - loss: 1.0951 - acc: 0.3714 - val_loss: 1.1391 - val_acc: 0.2444\n",
      "Epoch 24/1000\n",
      "105/105 [==============================] - 0s 95us/step - loss: 1.0934 - acc: 0.3714 - val_loss: 1.1372 - val_acc: 0.2444\n",
      "Epoch 25/1000\n",
      "105/105 [==============================] - 0s 83us/step - loss: 1.0926 - acc: 0.3714 - val_loss: 1.1346 - val_acc: 0.2444\n",
      "Epoch 26/1000\n",
      "105/105 [==============================] - 0s 112us/step - loss: 1.0917 - acc: 0.3714 - val_loss: 1.1308 - val_acc: 0.2444\n",
      "Epoch 27/1000\n",
      "105/105 [==============================] - 0s 115us/step - loss: 1.0902 - acc: 0.3714 - val_loss: 1.1278 - val_acc: 0.2444\n",
      "Epoch 28/1000\n",
      "105/105 [==============================] - 0s 89us/step - loss: 1.0890 - acc: 0.3714 - val_loss: 1.1241 - val_acc: 0.2444\n",
      "Epoch 29/1000\n",
      "105/105 [==============================] - 0s 110us/step - loss: 1.0881 - acc: 0.3714 - val_loss: 1.1223 - val_acc: 0.2444\n",
      "Epoch 30/1000\n",
      "105/105 [==============================] - 0s 136us/step - loss: 1.0874 - acc: 0.3714 - val_loss: 1.1204 - val_acc: 0.2444\n",
      "Epoch 31/1000\n",
      "105/105 [==============================] - 0s 86us/step - loss: 1.0864 - acc: 0.3714 - val_loss: 1.1190 - val_acc: 0.2444\n",
      "Epoch 32/1000\n",
      "105/105 [==============================] - 0s 87us/step - loss: 1.0863 - acc: 0.3714 - val_loss: 1.1179 - val_acc: 0.2444\n",
      "Epoch 33/1000\n",
      "105/105 [==============================] - 0s 87us/step - loss: 1.0852 - acc: 0.3714 - val_loss: 1.1182 - val_acc: 0.2444\n",
      "Epoch 34/1000\n",
      "105/105 [==============================] - 0s 112us/step - loss: 1.0849 - acc: 0.3714 - val_loss: 1.1165 - val_acc: 0.2444\n",
      "Epoch 35/1000\n",
      "105/105 [==============================] - 0s 99us/step - loss: 1.0844 - acc: 0.3714 - val_loss: 1.1150 - val_acc: 0.2444\n",
      "Epoch 36/1000\n",
      "105/105 [==============================] - 0s 112us/step - loss: 1.0837 - acc: 0.3714 - val_loss: 1.1146 - val_acc: 0.2444\n",
      "Epoch 37/1000\n",
      "105/105 [==============================] - 0s 112us/step - loss: 1.0831 - acc: 0.3714 - val_loss: 1.1132 - val_acc: 0.2444\n",
      "Epoch 38/1000\n",
      "105/105 [==============================] - 0s 90us/step - loss: 1.0824 - acc: 0.3714 - val_loss: 1.1116 - val_acc: 0.2444\n",
      "Epoch 39/1000\n",
      "105/105 [==============================] - 0s 91us/step - loss: 1.0821 - acc: 0.3714 - val_loss: 1.1119 - val_acc: 0.2444\n",
      "Epoch 40/1000\n",
      "105/105 [==============================] - 0s 95us/step - loss: 1.0814 - acc: 0.3714 - val_loss: 1.1101 - val_acc: 0.2444\n",
      "Epoch 41/1000\n",
      "105/105 [==============================] - 0s 100us/step - loss: 1.0809 - acc: 0.3714 - val_loss: 1.1093 - val_acc: 0.2444\n",
      "Epoch 42/1000\n",
      "105/105 [==============================] - 0s 82us/step - loss: 1.0803 - acc: 0.3714 - val_loss: 1.1070 - val_acc: 0.2444\n",
      "Epoch 43/1000\n",
      "105/105 [==============================] - 0s 85us/step - loss: 1.0794 - acc: 0.3714 - val_loss: 1.1058 - val_acc: 0.2444\n",
      "Epoch 44/1000\n",
      "105/105 [==============================] - 0s 91us/step - loss: 1.0791 - acc: 0.3714 - val_loss: 1.1060 - val_acc: 0.2444\n",
      "Epoch 45/1000\n",
      "105/105 [==============================] - 0s 113us/step - loss: 1.0787 - acc: 0.3714 - val_loss: 1.1037 - val_acc: 0.2444\n",
      "Epoch 46/1000\n",
      "105/105 [==============================] - 0s 92us/step - loss: 1.0777 - acc: 0.3714 - val_loss: 1.1035 - val_acc: 0.2444\n",
      "Epoch 47/1000\n",
      "105/105 [==============================] - 0s 112us/step - loss: 1.0772 - acc: 0.3714 - val_loss: 1.1031 - val_acc: 0.2444\n",
      "Epoch 48/1000\n",
      "105/105 [==============================] - 0s 93us/step - loss: 1.0767 - acc: 0.3714 - val_loss: 1.1022 - val_acc: 0.2444\n",
      "Epoch 49/1000\n",
      "105/105 [==============================] - 0s 100us/step - loss: 1.0765 - acc: 0.3714 - val_loss: 1.1010 - val_acc: 0.2444\n",
      "Epoch 50/1000\n",
      "105/105 [==============================] - 0s 88us/step - loss: 1.0757 - acc: 0.3714 - val_loss: 1.0989 - val_acc: 0.2444\n",
      "Epoch 51/1000\n",
      "105/105 [==============================] - 0s 92us/step - loss: 1.0750 - acc: 0.3714 - val_loss: 1.0977 - val_acc: 0.2444\n",
      "Epoch 52/1000\n",
      "105/105 [==============================] - 0s 91us/step - loss: 1.0745 - acc: 0.3714 - val_loss: 1.0965 - val_acc: 0.2444\n",
      "Epoch 53/1000\n",
      "105/105 [==============================] - 0s 118us/step - loss: 1.0739 - acc: 0.3714 - val_loss: 1.0954 - val_acc: 0.2444\n",
      "Epoch 54/1000\n",
      "105/105 [==============================] - 0s 109us/step - loss: 1.0734 - acc: 0.3714 - val_loss: 1.0950 - val_acc: 0.2444\n",
      "Epoch 55/1000\n",
      "105/105 [==============================] - 0s 99us/step - loss: 1.0729 - acc: 0.3714 - val_loss: 1.0934 - val_acc: 0.2444\n",
      "Epoch 56/1000\n",
      "105/105 [==============================] - 0s 89us/step - loss: 1.0726 - acc: 0.3714 - val_loss: 1.0917 - val_acc: 0.2444\n",
      "Epoch 57/1000\n",
      "105/105 [==============================] - 0s 98us/step - loss: 1.0720 - acc: 0.3714 - val_loss: 1.0925 - val_acc: 0.2444\n",
      "Epoch 58/1000\n",
      "105/105 [==============================] - 0s 87us/step - loss: 1.0714 - acc: 0.3714 - val_loss: 1.0922 - val_acc: 0.2444\n",
      "Epoch 59/1000\n",
      "105/105 [==============================] - 0s 82us/step - loss: 1.0712 - acc: 0.3714 - val_loss: 1.0918 - val_acc: 0.2444\n",
      "Epoch 60/1000\n",
      "105/105 [==============================] - 0s 84us/step - loss: 1.0705 - acc: 0.3714 - val_loss: 1.0902 - val_acc: 0.2444\n",
      "Epoch 61/1000\n",
      "105/105 [==============================] - 0s 89us/step - loss: 1.0698 - acc: 0.3714 - val_loss: 1.0892 - val_acc: 0.2444\n",
      "Epoch 62/1000\n",
      "105/105 [==============================] - 0s 89us/step - loss: 1.0695 - acc: 0.3714 - val_loss: 1.0884 - val_acc: 0.2444\n",
      "Epoch 63/1000\n",
      "105/105 [==============================] - 0s 90us/step - loss: 1.0691 - acc: 0.3714 - val_loss: 1.0866 - val_acc: 0.2444\n",
      "Epoch 64/1000\n",
      "105/105 [==============================] - 0s 83us/step - loss: 1.0683 - acc: 0.3714 - val_loss: 1.0852 - val_acc: 0.2444\n",
      "Epoch 65/1000\n",
      "105/105 [==============================] - 0s 71us/step - loss: 1.0677 - acc: 0.3714 - val_loss: 1.0844 - val_acc: 0.2444\n",
      "Epoch 66/1000\n",
      "105/105 [==============================] - 0s 83us/step - loss: 1.0673 - acc: 0.3714 - val_loss: 1.0846 - val_acc: 0.2444\n",
      "Epoch 67/1000\n",
      "105/105 [==============================] - 0s 89us/step - loss: 1.0672 - acc: 0.3714 - val_loss: 1.0831 - val_acc: 0.2444\n",
      "Epoch 68/1000\n",
      "105/105 [==============================] - 0s 94us/step - loss: 1.0666 - acc: 0.3714 - val_loss: 1.0834 - val_acc: 0.2444\n",
      "Epoch 69/1000\n",
      "105/105 [==============================] - 0s 94us/step - loss: 1.0663 - acc: 0.3714 - val_loss: 1.0819 - val_acc: 0.2444\n",
      "Epoch 70/1000\n",
      "105/105 [==============================] - 0s 125us/step - loss: 1.0656 - acc: 0.3714 - val_loss: 1.0805 - val_acc: 0.2444\n",
      "Epoch 71/1000\n",
      "105/105 [==============================] - 0s 97us/step - loss: 1.0652 - acc: 0.3714 - val_loss: 1.0805 - val_acc: 0.2444\n",
      "Epoch 72/1000\n",
      "105/105 [==============================] - 0s 105us/step - loss: 1.0644 - acc: 0.3714 - val_loss: 1.0802 - val_acc: 0.2444\n",
      "Epoch 73/1000\n",
      "105/105 [==============================] - 0s 91us/step - loss: 1.0641 - acc: 0.3714 - val_loss: 1.0798 - val_acc: 0.2444\n",
      "Epoch 74/1000\n",
      "105/105 [==============================] - 0s 100us/step - loss: 1.0635 - acc: 0.3714 - val_loss: 1.0795 - val_acc: 0.2444\n",
      "Epoch 75/1000\n",
      "105/105 [==============================] - 0s 80us/step - loss: 1.0631 - acc: 0.3714 - val_loss: 1.0787 - val_acc: 0.2444\n",
      "Epoch 76/1000\n",
      "105/105 [==============================] - 0s 89us/step - loss: 1.0629 - acc: 0.3714 - val_loss: 1.0794 - val_acc: 0.2444\n",
      "Epoch 77/1000\n",
      "105/105 [==============================] - 0s 105us/step - loss: 1.0622 - acc: 0.3714 - val_loss: 1.0801 - val_acc: 0.2444\n",
      "Epoch 78/1000\n",
      "105/105 [==============================] - 0s 96us/step - loss: 1.0619 - acc: 0.3714 - val_loss: 1.0797 - val_acc: 0.2444\n",
      "Epoch 79/1000\n",
      "105/105 [==============================] - 0s 106us/step - loss: 1.0612 - acc: 0.3714 - val_loss: 1.0789 - val_acc: 0.2444\n",
      "Epoch 80/1000\n",
      "105/105 [==============================] - 0s 95us/step - loss: 1.0607 - acc: 0.3714 - val_loss: 1.0771 - val_acc: 0.2444\n",
      "Epoch 81/1000\n",
      "105/105 [==============================] - 0s 96us/step - loss: 1.0605 - acc: 0.3714 - val_loss: 1.0772 - val_acc: 0.2444\n",
      "Epoch 82/1000\n",
      "105/105 [==============================] - 0s 111us/step - loss: 1.0599 - acc: 0.3714 - val_loss: 1.0767 - val_acc: 0.2444\n",
      "Epoch 83/1000\n",
      "105/105 [==============================] - 0s 89us/step - loss: 1.0593 - acc: 0.3714 - val_loss: 1.0762 - val_acc: 0.2444\n",
      "Epoch 84/1000\n",
      "105/105 [==============================] - 0s 97us/step - loss: 1.0588 - acc: 0.3714 - val_loss: 1.0753 - val_acc: 0.2444\n",
      "Epoch 85/1000\n",
      "105/105 [==============================] - 0s 80us/step - loss: 1.0583 - acc: 0.3714 - val_loss: 1.0756 - val_acc: 0.2444\n",
      "Epoch 86/1000\n",
      "105/105 [==============================] - 0s 83us/step - loss: 1.0578 - acc: 0.3714 - val_loss: 1.0740 - val_acc: 0.2444\n",
      "Epoch 87/1000\n",
      "105/105 [==============================] - 0s 70us/step - loss: 1.0574 - acc: 0.3714 - val_loss: 1.0749 - val_acc: 0.2444\n",
      "Epoch 88/1000\n",
      "105/105 [==============================] - 0s 92us/step - loss: 1.0569 - acc: 0.3714 - val_loss: 1.0752 - val_acc: 0.2444\n",
      "Epoch 89/1000\n",
      "105/105 [==============================] - 0s 62us/step - loss: 1.0564 - acc: 0.3714 - val_loss: 1.0742 - val_acc: 0.2444\n",
      "Epoch 90/1000\n",
      "105/105 [==============================] - 0s 73us/step - loss: 1.0558 - acc: 0.3714 - val_loss: 1.0735 - val_acc: 0.2444\n",
      "Epoch 91/1000\n",
      "105/105 [==============================] - 0s 69us/step - loss: 1.0555 - acc: 0.3714 - val_loss: 1.0713 - val_acc: 0.2444\n",
      "Epoch 92/1000\n",
      "105/105 [==============================] - 0s 69us/step - loss: 1.0547 - acc: 0.3714 - val_loss: 1.0708 - val_acc: 0.2444\n",
      "Epoch 93/1000\n",
      "105/105 [==============================] - 0s 107us/step - loss: 1.0544 - acc: 0.3714 - val_loss: 1.0696 - val_acc: 0.2444\n",
      "Epoch 94/1000\n",
      "105/105 [==============================] - 0s 95us/step - loss: 1.0539 - acc: 0.3714 - val_loss: 1.0676 - val_acc: 0.2444\n",
      "Epoch 95/1000\n",
      "105/105 [==============================] - 0s 101us/step - loss: 1.0532 - acc: 0.3714 - val_loss: 1.0662 - val_acc: 0.2444\n",
      "Epoch 96/1000\n",
      "105/105 [==============================] - 0s 101us/step - loss: 1.0528 - acc: 0.3714 - val_loss: 1.0659 - val_acc: 0.2444\n",
      "Epoch 97/1000\n",
      "105/105 [==============================] - 0s 108us/step - loss: 1.0521 - acc: 0.3714 - val_loss: 1.0642 - val_acc: 0.2444\n",
      "Epoch 98/1000\n",
      "105/105 [==============================] - 0s 99us/step - loss: 1.0516 - acc: 0.3714 - val_loss: 1.0625 - val_acc: 0.2444\n",
      "Epoch 99/1000\n",
      "105/105 [==============================] - 0s 95us/step - loss: 1.0510 - acc: 0.3714 - val_loss: 1.0622 - val_acc: 0.2444\n",
      "Epoch 100/1000\n",
      "105/105 [==============================] - 0s 103us/step - loss: 1.0505 - acc: 0.3714 - val_loss: 1.0615 - val_acc: 0.2444\n",
      "Epoch 101/1000\n",
      "105/105 [==============================] - 0s 97us/step - loss: 1.0500 - acc: 0.3714 - val_loss: 1.0613 - val_acc: 0.2444\n",
      "Epoch 102/1000\n",
      "105/105 [==============================] - 0s 103us/step - loss: 1.0495 - acc: 0.3714 - val_loss: 1.0607 - val_acc: 0.2444\n",
      "Epoch 103/1000\n",
      "105/105 [==============================] - 0s 101us/step - loss: 1.0491 - acc: 0.3714 - val_loss: 1.0594 - val_acc: 0.2444\n",
      "Epoch 104/1000\n",
      "105/105 [==============================] - 0s 106us/step - loss: 1.0483 - acc: 0.3714 - val_loss: 1.0599 - val_acc: 0.2444\n",
      "Epoch 105/1000\n",
      "105/105 [==============================] - 0s 127us/step - loss: 1.0479 - acc: 0.3714 - val_loss: 1.0597 - val_acc: 0.2444\n",
      "Epoch 106/1000\n",
      "105/105 [==============================] - 0s 101us/step - loss: 1.0477 - acc: 0.3714 - val_loss: 1.0589 - val_acc: 0.2444\n",
      "Epoch 107/1000\n",
      "105/105 [==============================] - 0s 94us/step - loss: 1.0471 - acc: 0.3714 - val_loss: 1.0579 - val_acc: 0.2444\n",
      "Epoch 108/1000\n",
      "105/105 [==============================] - 0s 96us/step - loss: 1.0467 - acc: 0.3714 - val_loss: 1.0593 - val_acc: 0.2444\n",
      "Epoch 109/1000\n",
      "105/105 [==============================] - 0s 77us/step - loss: 1.0457 - acc: 0.3714 - val_loss: 1.0582 - val_acc: 0.2444\n",
      "Epoch 110/1000\n",
      "105/105 [==============================] - 0s 88us/step - loss: 1.0453 - acc: 0.3714 - val_loss: 1.0578 - val_acc: 0.2444\n",
      "Epoch 111/1000\n",
      "105/105 [==============================] - 0s 112us/step - loss: 1.0447 - acc: 0.3714 - val_loss: 1.0563 - val_acc: 0.2444\n",
      "Epoch 112/1000\n",
      "105/105 [==============================] - 0s 105us/step - loss: 1.0443 - acc: 0.3714 - val_loss: 1.0555 - val_acc: 0.2444\n",
      "Epoch 113/1000\n",
      "105/105 [==============================] - 0s 85us/step - loss: 1.0436 - acc: 0.3714 - val_loss: 1.0552 - val_acc: 0.2444\n",
      "Epoch 114/1000\n",
      "105/105 [==============================] - 0s 95us/step - loss: 1.0432 - acc: 0.3714 - val_loss: 1.0549 - val_acc: 0.2444\n",
      "Epoch 115/1000\n",
      "105/105 [==============================] - 0s 123us/step - loss: 1.0426 - acc: 0.3714 - val_loss: 1.0537 - val_acc: 0.2444\n",
      "Epoch 116/1000\n",
      "105/105 [==============================] - 0s 86us/step - loss: 1.0420 - acc: 0.3714 - val_loss: 1.0521 - val_acc: 0.2444\n",
      "Epoch 117/1000\n",
      "105/105 [==============================] - 0s 97us/step - loss: 1.0414 - acc: 0.3714 - val_loss: 1.0515 - val_acc: 0.2444\n",
      "Epoch 118/1000\n",
      "105/105 [==============================] - 0s 100us/step - loss: 1.0407 - acc: 0.3714 - val_loss: 1.0507 - val_acc: 0.2444\n",
      "Epoch 119/1000\n",
      "105/105 [==============================] - 0s 106us/step - loss: 1.0404 - acc: 0.3714 - val_loss: 1.0506 - val_acc: 0.2444\n",
      "Epoch 120/1000\n",
      "105/105 [==============================] - 0s 88us/step - loss: 1.0398 - acc: 0.3714 - val_loss: 1.0517 - val_acc: 0.2444\n",
      "Epoch 121/1000\n",
      "105/105 [==============================] - 0s 75us/step - loss: 1.0392 - acc: 0.3714 - val_loss: 1.0501 - val_acc: 0.2444\n",
      "Epoch 122/1000\n",
      "105/105 [==============================] - 0s 70us/step - loss: 1.0385 - acc: 0.3714 - val_loss: 1.0494 - val_acc: 0.2444\n",
      "Epoch 123/1000\n",
      "105/105 [==============================] - 0s 98us/step - loss: 1.0379 - acc: 0.3714 - val_loss: 1.0490 - val_acc: 0.2444\n",
      "Epoch 124/1000\n",
      "105/105 [==============================] - 0s 98us/step - loss: 1.0374 - acc: 0.3714 - val_loss: 1.0477 - val_acc: 0.2444\n",
      "Epoch 125/1000\n",
      "105/105 [==============================] - 0s 110us/step - loss: 1.0367 - acc: 0.3714 - val_loss: 1.0467 - val_acc: 0.2444\n",
      "Epoch 126/1000\n",
      "105/105 [==============================] - 0s 144us/step - loss: 1.0364 - acc: 0.3714 - val_loss: 1.0455 - val_acc: 0.2444\n",
      "Epoch 127/1000\n",
      "105/105 [==============================] - 0s 90us/step - loss: 1.0357 - acc: 0.3714 - val_loss: 1.0451 - val_acc: 0.2444\n",
      "Epoch 128/1000\n",
      "105/105 [==============================] - 0s 97us/step - loss: 1.0351 - acc: 0.3714 - val_loss: 1.0457 - val_acc: 0.2444\n",
      "Epoch 129/1000\n",
      "105/105 [==============================] - 0s 93us/step - loss: 1.0346 - acc: 0.3714 - val_loss: 1.0460 - val_acc: 0.2444\n",
      "Epoch 130/1000\n",
      "105/105 [==============================] - 0s 100us/step - loss: 1.0341 - acc: 0.3714 - val_loss: 1.0452 - val_acc: 0.2444\n",
      "Epoch 131/1000\n",
      "105/105 [==============================] - 0s 111us/step - loss: 1.0337 - acc: 0.3714 - val_loss: 1.0450 - val_acc: 0.2444\n",
      "Epoch 132/1000\n",
      "105/105 [==============================] - 0s 96us/step - loss: 1.0329 - acc: 0.3714 - val_loss: 1.0442 - val_acc: 0.2444\n",
      "Epoch 133/1000\n",
      "105/105 [==============================] - 0s 102us/step - loss: 1.0322 - acc: 0.3714 - val_loss: 1.0437 - val_acc: 0.2444\n",
      "Epoch 134/1000\n",
      "105/105 [==============================] - 0s 100us/step - loss: 1.0317 - acc: 0.3714 - val_loss: 1.0436 - val_acc: 0.2444\n",
      "Epoch 135/1000\n",
      "105/105 [==============================] - 0s 100us/step - loss: 1.0314 - acc: 0.3714 - val_loss: 1.0431 - val_acc: 0.2444\n",
      "Epoch 136/1000\n",
      "105/105 [==============================] - 0s 95us/step - loss: 1.0305 - acc: 0.3714 - val_loss: 1.0424 - val_acc: 0.2444\n",
      "Epoch 137/1000\n",
      "105/105 [==============================] - 0s 91us/step - loss: 1.0299 - acc: 0.3714 - val_loss: 1.0409 - val_acc: 0.2444\n",
      "Epoch 138/1000\n",
      "105/105 [==============================] - 0s 148us/step - loss: 1.0294 - acc: 0.3714 - val_loss: 1.0410 - val_acc: 0.2444\n",
      "Epoch 139/1000\n",
      "105/105 [==============================] - 0s 112us/step - loss: 1.0288 - acc: 0.3714 - val_loss: 1.0401 - val_acc: 0.2444\n",
      "Epoch 140/1000\n",
      "105/105 [==============================] - 0s 83us/step - loss: 1.0282 - acc: 0.3714 - val_loss: 1.0384 - val_acc: 0.2444\n",
      "Epoch 141/1000\n",
      "105/105 [==============================] - 0s 81us/step - loss: 1.0276 - acc: 0.3714 - val_loss: 1.0369 - val_acc: 0.2444\n",
      "Epoch 142/1000\n",
      "105/105 [==============================] - 0s 93us/step - loss: 1.0267 - acc: 0.3714 - val_loss: 1.0366 - val_acc: 0.2444\n",
      "Epoch 143/1000\n",
      "105/105 [==============================] - 0s 108us/step - loss: 1.0262 - acc: 0.3714 - val_loss: 1.0373 - val_acc: 0.2444\n",
      "Epoch 144/1000\n",
      "105/105 [==============================] - 0s 80us/step - loss: 1.0258 - acc: 0.3714 - val_loss: 1.0367 - val_acc: 0.2444\n",
      "Epoch 145/1000\n",
      "105/105 [==============================] - 0s 85us/step - loss: 1.0251 - acc: 0.3714 - val_loss: 1.0363 - val_acc: 0.2444\n",
      "Epoch 146/1000\n",
      "105/105 [==============================] - 0s 93us/step - loss: 1.0244 - acc: 0.3714 - val_loss: 1.0363 - val_acc: 0.2444\n",
      "Epoch 147/1000\n",
      "105/105 [==============================] - 0s 99us/step - loss: 1.0241 - acc: 0.3714 - val_loss: 1.0346 - val_acc: 0.2444\n",
      "Epoch 148/1000\n",
      "105/105 [==============================] - 0s 101us/step - loss: 1.0233 - acc: 0.3714 - val_loss: 1.0339 - val_acc: 0.2444\n",
      "Epoch 149/1000\n",
      "105/105 [==============================] - 0s 100us/step - loss: 1.0226 - acc: 0.3714 - val_loss: 1.0331 - val_acc: 0.2444\n",
      "Epoch 150/1000\n",
      "105/105 [==============================] - 0s 97us/step - loss: 1.0219 - acc: 0.3714 - val_loss: 1.0325 - val_acc: 0.2444\n",
      "Epoch 151/1000\n",
      "105/105 [==============================] - 0s 98us/step - loss: 1.0212 - acc: 0.3714 - val_loss: 1.0321 - val_acc: 0.2444\n",
      "Epoch 152/1000\n",
      "105/105 [==============================] - 0s 114us/step - loss: 1.0207 - acc: 0.3714 - val_loss: 1.0312 - val_acc: 0.2444\n",
      "Epoch 153/1000\n",
      "105/105 [==============================] - 0s 93us/step - loss: 1.0200 - acc: 0.3810 - val_loss: 1.0306 - val_acc: 0.2444\n",
      "Epoch 154/1000\n",
      "105/105 [==============================] - 0s 111us/step - loss: 1.0193 - acc: 0.3714 - val_loss: 1.0303 - val_acc: 0.2444\n",
      "Epoch 155/1000\n",
      "105/105 [==============================] - 0s 94us/step - loss: 1.0187 - acc: 0.3714 - val_loss: 1.0295 - val_acc: 0.2444\n",
      "Epoch 156/1000\n",
      "105/105 [==============================] - 0s 112us/step - loss: 1.0182 - acc: 0.3810 - val_loss: 1.0278 - val_acc: 0.2444\n",
      "Epoch 157/1000\n",
      "105/105 [==============================] - 0s 121us/step - loss: 1.0175 - acc: 0.3810 - val_loss: 1.0262 - val_acc: 0.2444\n",
      "Epoch 158/1000\n",
      "105/105 [==============================] - 0s 107us/step - loss: 1.0169 - acc: 0.3810 - val_loss: 1.0250 - val_acc: 0.2444\n",
      "Epoch 159/1000\n",
      "105/105 [==============================] - 0s 104us/step - loss: 1.0160 - acc: 0.3810 - val_loss: 1.0229 - val_acc: 0.2444\n",
      "Epoch 160/1000\n",
      "105/105 [==============================] - 0s 141us/step - loss: 1.0154 - acc: 0.3905 - val_loss: 1.0218 - val_acc: 0.2444\n",
      "Epoch 161/1000\n",
      "105/105 [==============================] - 0s 103us/step - loss: 1.0145 - acc: 0.4000 - val_loss: 1.0216 - val_acc: 0.2889\n",
      "Epoch 162/1000\n",
      "105/105 [==============================] - 0s 102us/step - loss: 1.0137 - acc: 0.4000 - val_loss: 1.0206 - val_acc: 0.3111\n",
      "Epoch 163/1000\n",
      "105/105 [==============================] - 0s 123us/step - loss: 1.0132 - acc: 0.4286 - val_loss: 1.0191 - val_acc: 0.3333\n",
      "Epoch 164/1000\n",
      "105/105 [==============================] - 0s 116us/step - loss: 1.0124 - acc: 0.4857 - val_loss: 1.0175 - val_acc: 0.4000\n",
      "Epoch 165/1000\n",
      "105/105 [==============================] - 0s 125us/step - loss: 1.0117 - acc: 0.5048 - val_loss: 1.0160 - val_acc: 0.4889\n",
      "Epoch 166/1000\n",
      "105/105 [==============================] - 0s 100us/step - loss: 1.0112 - acc: 0.5810 - val_loss: 1.0155 - val_acc: 0.4000\n",
      "Epoch 167/1000\n",
      "105/105 [==============================] - 0s 109us/step - loss: 1.0104 - acc: 0.5143 - val_loss: 1.0154 - val_acc: 0.3333\n",
      "Epoch 168/1000\n",
      "105/105 [==============================] - 0s 101us/step - loss: 1.0098 - acc: 0.4476 - val_loss: 1.0143 - val_acc: 0.3333\n",
      "Epoch 169/1000\n",
      "105/105 [==============================] - 0s 103us/step - loss: 1.0091 - acc: 0.4381 - val_loss: 1.0128 - val_acc: 0.3556\n",
      "Epoch 170/1000\n",
      "105/105 [==============================] - 0s 106us/step - loss: 1.0085 - acc: 0.4952 - val_loss: 1.0124 - val_acc: 0.3556\n",
      "Epoch 171/1000\n",
      "105/105 [==============================] - 0s 101us/step - loss: 1.0079 - acc: 0.4381 - val_loss: 1.0111 - val_acc: 0.4889\n",
      "Epoch 172/1000\n",
      "105/105 [==============================] - 0s 91us/step - loss: 1.0071 - acc: 0.5810 - val_loss: 1.0097 - val_acc: 0.4889\n",
      "Epoch 173/1000\n",
      "105/105 [==============================] - 0s 104us/step - loss: 1.0064 - acc: 0.6000 - val_loss: 1.0100 - val_acc: 0.4889\n",
      "Epoch 174/1000\n",
      "105/105 [==============================] - 0s 107us/step - loss: 1.0056 - acc: 0.5810 - val_loss: 1.0078 - val_acc: 0.5778\n",
      "Epoch 175/1000\n",
      "105/105 [==============================] - 0s 92us/step - loss: 1.0048 - acc: 0.6762 - val_loss: 1.0074 - val_acc: 0.5778\n",
      "Epoch 176/1000\n",
      "105/105 [==============================] - 0s 86us/step - loss: 1.0042 - acc: 0.6571 - val_loss: 1.0053 - val_acc: 0.6000\n",
      "Epoch 177/1000\n",
      "105/105 [==============================] - 0s 117us/step - loss: 1.0034 - acc: 0.6762 - val_loss: 1.0039 - val_acc: 0.6222\n",
      "Epoch 178/1000\n",
      "105/105 [==============================] - 0s 125us/step - loss: 1.0026 - acc: 0.6857 - val_loss: 1.0032 - val_acc: 0.6222\n",
      "Epoch 179/1000\n",
      "105/105 [==============================] - 0s 124us/step - loss: 1.0019 - acc: 0.6952 - val_loss: 1.0028 - val_acc: 0.6000\n",
      "Epoch 180/1000\n",
      "105/105 [==============================] - 0s 128us/step - loss: 1.0009 - acc: 0.6952 - val_loss: 1.0026 - val_acc: 0.6000\n",
      "Epoch 181/1000\n",
      "105/105 [==============================] - 0s 99us/step - loss: 1.0005 - acc: 0.6952 - val_loss: 1.0016 - val_acc: 0.6000\n",
      "Epoch 182/1000\n",
      "105/105 [==============================] - 0s 122us/step - loss: 0.9995 - acc: 0.6952 - val_loss: 1.0017 - val_acc: 0.6000\n",
      "Epoch 183/1000\n",
      "105/105 [==============================] - 0s 120us/step - loss: 0.9988 - acc: 0.6952 - val_loss: 0.9997 - val_acc: 0.6000\n",
      "Epoch 184/1000\n",
      "105/105 [==============================] - 0s 97us/step - loss: 0.9981 - acc: 0.6952 - val_loss: 0.9982 - val_acc: 0.6000\n",
      "Epoch 185/1000\n",
      "105/105 [==============================] - 0s 96us/step - loss: 0.9973 - acc: 0.6952 - val_loss: 0.9972 - val_acc: 0.6222\n",
      "Epoch 186/1000\n",
      "105/105 [==============================] - 0s 105us/step - loss: 0.9969 - acc: 0.6952 - val_loss: 0.9978 - val_acc: 0.6000\n",
      "Epoch 187/1000\n",
      "105/105 [==============================] - 0s 98us/step - loss: 0.9958 - acc: 0.6952 - val_loss: 0.9965 - val_acc: 0.6000\n",
      "Epoch 188/1000\n",
      "105/105 [==============================] - 0s 87us/step - loss: 0.9950 - acc: 0.6952 - val_loss: 0.9961 - val_acc: 0.6000\n",
      "Epoch 189/1000\n",
      "105/105 [==============================] - 0s 108us/step - loss: 0.9940 - acc: 0.6952 - val_loss: 0.9946 - val_acc: 0.6000\n",
      "Epoch 190/1000\n",
      "105/105 [==============================] - 0s 91us/step - loss: 0.9935 - acc: 0.6952 - val_loss: 0.9949 - val_acc: 0.6000\n",
      "Epoch 191/1000\n",
      "105/105 [==============================] - 0s 82us/step - loss: 0.9925 - acc: 0.6952 - val_loss: 0.9933 - val_acc: 0.6000\n",
      "Epoch 192/1000\n",
      "105/105 [==============================] - 0s 101us/step - loss: 0.9918 - acc: 0.6952 - val_loss: 0.9934 - val_acc: 0.6000\n",
      "Epoch 193/1000\n",
      "105/105 [==============================] - 0s 97us/step - loss: 0.9911 - acc: 0.6952 - val_loss: 0.9928 - val_acc: 0.6000\n",
      "Epoch 194/1000\n",
      "105/105 [==============================] - 0s 88us/step - loss: 0.9901 - acc: 0.6952 - val_loss: 0.9923 - val_acc: 0.6000\n",
      "Epoch 195/1000\n",
      "105/105 [==============================] - 0s 111us/step - loss: 0.9894 - acc: 0.6952 - val_loss: 0.9922 - val_acc: 0.6000\n",
      "Epoch 196/1000\n",
      "105/105 [==============================] - 0s 107us/step - loss: 0.9886 - acc: 0.6952 - val_loss: 0.9906 - val_acc: 0.6000\n",
      "Epoch 197/1000\n",
      "105/105 [==============================] - 0s 109us/step - loss: 0.9880 - acc: 0.6952 - val_loss: 0.9907 - val_acc: 0.6000\n",
      "Epoch 198/1000\n",
      "105/105 [==============================] - 0s 100us/step - loss: 0.9870 - acc: 0.6952 - val_loss: 0.9901 - val_acc: 0.6000\n",
      "Epoch 199/1000\n",
      "105/105 [==============================] - 0s 91us/step - loss: 0.9866 - acc: 0.6952 - val_loss: 0.9891 - val_acc: 0.6000\n",
      "Epoch 200/1000\n",
      "105/105 [==============================] - 0s 75us/step - loss: 0.9855 - acc: 0.6952 - val_loss: 0.9884 - val_acc: 0.6000\n",
      "Epoch 201/1000\n",
      "105/105 [==============================] - 0s 100us/step - loss: 0.9847 - acc: 0.6952 - val_loss: 0.9879 - val_acc: 0.6000\n",
      "Epoch 202/1000\n",
      "105/105 [==============================] - 0s 93us/step - loss: 0.9840 - acc: 0.6952 - val_loss: 0.9868 - val_acc: 0.6000\n",
      "Epoch 203/1000\n",
      "105/105 [==============================] - 0s 109us/step - loss: 0.9831 - acc: 0.6952 - val_loss: 0.9857 - val_acc: 0.6000\n",
      "Epoch 204/1000\n",
      "105/105 [==============================] - 0s 90us/step - loss: 0.9821 - acc: 0.6952 - val_loss: 0.9847 - val_acc: 0.6000\n",
      "Epoch 205/1000\n",
      "105/105 [==============================] - 0s 106us/step - loss: 0.9812 - acc: 0.6952 - val_loss: 0.9833 - val_acc: 0.6000\n",
      "Epoch 206/1000\n",
      "105/105 [==============================] - 0s 151us/step - loss: 0.9806 - acc: 0.6952 - val_loss: 0.9838 - val_acc: 0.6000\n",
      "Epoch 207/1000\n",
      "105/105 [==============================] - 0s 104us/step - loss: 0.9797 - acc: 0.6952 - val_loss: 0.9836 - val_acc: 0.6000\n",
      "Epoch 208/1000\n",
      "105/105 [==============================] - 0s 79us/step - loss: 0.9788 - acc: 0.6952 - val_loss: 0.9818 - val_acc: 0.6000\n",
      "Epoch 209/1000\n",
      "105/105 [==============================] - 0s 99us/step - loss: 0.9779 - acc: 0.6952 - val_loss: 0.9804 - val_acc: 0.6000\n",
      "Epoch 210/1000\n",
      "105/105 [==============================] - 0s 120us/step - loss: 0.9773 - acc: 0.6952 - val_loss: 0.9793 - val_acc: 0.6000\n",
      "Epoch 211/1000\n",
      "105/105 [==============================] - 0s 96us/step - loss: 0.9765 - acc: 0.6952 - val_loss: 0.9798 - val_acc: 0.6000\n",
      "Epoch 212/1000\n",
      "105/105 [==============================] - 0s 128us/step - loss: 0.9756 - acc: 0.6952 - val_loss: 0.9785 - val_acc: 0.6000\n",
      "Epoch 213/1000\n",
      "105/105 [==============================] - 0s 132us/step - loss: 0.9749 - acc: 0.6952 - val_loss: 0.9771 - val_acc: 0.6000\n",
      "Epoch 214/1000\n",
      "105/105 [==============================] - 0s 100us/step - loss: 0.9742 - acc: 0.6952 - val_loss: 0.9764 - val_acc: 0.6000\n",
      "Epoch 215/1000\n",
      "105/105 [==============================] - 0s 96us/step - loss: 0.9731 - acc: 0.6952 - val_loss: 0.9767 - val_acc: 0.6000\n",
      "Epoch 216/1000\n",
      "105/105 [==============================] - 0s 107us/step - loss: 0.9723 - acc: 0.6952 - val_loss: 0.9750 - val_acc: 0.6000\n",
      "Epoch 217/1000\n",
      "105/105 [==============================] - 0s 111us/step - loss: 0.9714 - acc: 0.6952 - val_loss: 0.9732 - val_acc: 0.6000\n",
      "Epoch 218/1000\n",
      "105/105 [==============================] - 0s 127us/step - loss: 0.9704 - acc: 0.6952 - val_loss: 0.9727 - val_acc: 0.6000\n",
      "Epoch 219/1000\n",
      "105/105 [==============================] - 0s 96us/step - loss: 0.9694 - acc: 0.6952 - val_loss: 0.9726 - val_acc: 0.6000\n",
      "Epoch 220/1000\n",
      "105/105 [==============================] - 0s 94us/step - loss: 0.9685 - acc: 0.6952 - val_loss: 0.9714 - val_acc: 0.6000\n",
      "Epoch 221/1000\n",
      "105/105 [==============================] - 0s 90us/step - loss: 0.9677 - acc: 0.6952 - val_loss: 0.9695 - val_acc: 0.6000\n",
      "Epoch 222/1000\n",
      "105/105 [==============================] - 0s 134us/step - loss: 0.9667 - acc: 0.6952 - val_loss: 0.9680 - val_acc: 0.6000\n",
      "Epoch 223/1000\n",
      "105/105 [==============================] - 0s 103us/step - loss: 0.9658 - acc: 0.6952 - val_loss: 0.9673 - val_acc: 0.6000\n",
      "Epoch 224/1000\n",
      "105/105 [==============================] - 0s 96us/step - loss: 0.9648 - acc: 0.6952 - val_loss: 0.9658 - val_acc: 0.6000\n",
      "Epoch 225/1000\n",
      "105/105 [==============================] - 0s 108us/step - loss: 0.9640 - acc: 0.6952 - val_loss: 0.9652 - val_acc: 0.6000\n",
      "Epoch 226/1000\n",
      "105/105 [==============================] - 0s 82us/step - loss: 0.9632 - acc: 0.6952 - val_loss: 0.9651 - val_acc: 0.6000\n",
      "Epoch 227/1000\n",
      "105/105 [==============================] - 0s 104us/step - loss: 0.9627 - acc: 0.6952 - val_loss: 0.9641 - val_acc: 0.6000\n",
      "Epoch 228/1000\n",
      "105/105 [==============================] - 0s 82us/step - loss: 0.9613 - acc: 0.6952 - val_loss: 0.9615 - val_acc: 0.6000\n",
      "Epoch 229/1000\n",
      "105/105 [==============================] - 0s 102us/step - loss: 0.9605 - acc: 0.6952 - val_loss: 0.9609 - val_acc: 0.6000\n",
      "Epoch 230/1000\n",
      "105/105 [==============================] - 0s 99us/step - loss: 0.9596 - acc: 0.6952 - val_loss: 0.9594 - val_acc: 0.6000\n",
      "Epoch 231/1000\n",
      "105/105 [==============================] - 0s 106us/step - loss: 0.9584 - acc: 0.6952 - val_loss: 0.9575 - val_acc: 0.6000\n",
      "Epoch 232/1000\n",
      "105/105 [==============================] - 0s 99us/step - loss: 0.9574 - acc: 0.6952 - val_loss: 0.9569 - val_acc: 0.6000\n",
      "Epoch 233/1000\n",
      "105/105 [==============================] - 0s 92us/step - loss: 0.9569 - acc: 0.6952 - val_loss: 0.9562 - val_acc: 0.6000\n",
      "Epoch 234/1000\n",
      "105/105 [==============================] - 0s 93us/step - loss: 0.9558 - acc: 0.6952 - val_loss: 0.9555 - val_acc: 0.6000\n",
      "Epoch 235/1000\n",
      "105/105 [==============================] - 0s 82us/step - loss: 0.9551 - acc: 0.6952 - val_loss: 0.9544 - val_acc: 0.6000\n",
      "Epoch 236/1000\n",
      "105/105 [==============================] - 0s 108us/step - loss: 0.9541 - acc: 0.6952 - val_loss: 0.9515 - val_acc: 0.6222\n",
      "Epoch 237/1000\n",
      "105/105 [==============================] - 0s 113us/step - loss: 0.9528 - acc: 0.6952 - val_loss: 0.9508 - val_acc: 0.6222\n",
      "Epoch 238/1000\n",
      "105/105 [==============================] - 0s 95us/step - loss: 0.9520 - acc: 0.6952 - val_loss: 0.9489 - val_acc: 0.6222\n",
      "Epoch 239/1000\n",
      "105/105 [==============================] - 0s 98us/step - loss: 0.9510 - acc: 0.6952 - val_loss: 0.9479 - val_acc: 0.6444\n",
      "Epoch 240/1000\n",
      "105/105 [==============================] - 0s 91us/step - loss: 0.9502 - acc: 0.6952 - val_loss: 0.9466 - val_acc: 0.6222\n",
      "Epoch 241/1000\n",
      "105/105 [==============================] - 0s 140us/step - loss: 0.9493 - acc: 0.6952 - val_loss: 0.9452 - val_acc: 0.6222\n",
      "Epoch 242/1000\n",
      "105/105 [==============================] - 0s 90us/step - loss: 0.9479 - acc: 0.6952 - val_loss: 0.9452 - val_acc: 0.6222\n",
      "Epoch 243/1000\n",
      "105/105 [==============================] - 0s 130us/step - loss: 0.9471 - acc: 0.6952 - val_loss: 0.9434 - val_acc: 0.6222\n",
      "Epoch 244/1000\n",
      "105/105 [==============================] - 0s 129us/step - loss: 0.9460 - acc: 0.6952 - val_loss: 0.9421 - val_acc: 0.6444\n",
      "Epoch 245/1000\n",
      "105/105 [==============================] - 0s 101us/step - loss: 0.9453 - acc: 0.6952 - val_loss: 0.9410 - val_acc: 0.6444\n",
      "Epoch 246/1000\n",
      "105/105 [==============================] - 0s 110us/step - loss: 0.9441 - acc: 0.6952 - val_loss: 0.9406 - val_acc: 0.6222\n",
      "Epoch 247/1000\n",
      "105/105 [==============================] - 0s 102us/step - loss: 0.9429 - acc: 0.6952 - val_loss: 0.9410 - val_acc: 0.6000\n",
      "Epoch 248/1000\n",
      "105/105 [==============================] - 0s 73us/step - loss: 0.9421 - acc: 0.6952 - val_loss: 0.9384 - val_acc: 0.6444\n",
      "Epoch 249/1000\n",
      "105/105 [==============================] - 0s 108us/step - loss: 0.9413 - acc: 0.6952 - val_loss: 0.9380 - val_acc: 0.6222\n",
      "Epoch 250/1000\n",
      "105/105 [==============================] - 0s 123us/step - loss: 0.9404 - acc: 0.6952 - val_loss: 0.9365 - val_acc: 0.6222\n",
      "Epoch 251/1000\n",
      "105/105 [==============================] - 0s 99us/step - loss: 0.9390 - acc: 0.6952 - val_loss: 0.9364 - val_acc: 0.6222\n",
      "Epoch 252/1000\n",
      "105/105 [==============================] - 0s 113us/step - loss: 0.9382 - acc: 0.6952 - val_loss: 0.9364 - val_acc: 0.6000\n",
      "Epoch 253/1000\n",
      "105/105 [==============================] - 0s 99us/step - loss: 0.9371 - acc: 0.6952 - val_loss: 0.9347 - val_acc: 0.6000\n",
      "Epoch 254/1000\n",
      "105/105 [==============================] - 0s 100us/step - loss: 0.9359 - acc: 0.6952 - val_loss: 0.9338 - val_acc: 0.6000\n",
      "Epoch 255/1000\n",
      "105/105 [==============================] - 0s 105us/step - loss: 0.9355 - acc: 0.6952 - val_loss: 0.9326 - val_acc: 0.6000\n",
      "Epoch 256/1000\n",
      "105/105 [==============================] - 0s 129us/step - loss: 0.9342 - acc: 0.6952 - val_loss: 0.9319 - val_acc: 0.6000\n",
      "Epoch 257/1000\n",
      "105/105 [==============================] - 0s 126us/step - loss: 0.9331 - acc: 0.6952 - val_loss: 0.9308 - val_acc: 0.6000\n",
      "Epoch 258/1000\n",
      "105/105 [==============================] - 0s 130us/step - loss: 0.9318 - acc: 0.6952 - val_loss: 0.9292 - val_acc: 0.6000\n",
      "Epoch 259/1000\n",
      "105/105 [==============================] - 0s 105us/step - loss: 0.9308 - acc: 0.6952 - val_loss: 0.9285 - val_acc: 0.6000\n",
      "Epoch 260/1000\n",
      "105/105 [==============================] - 0s 94us/step - loss: 0.9296 - acc: 0.6952 - val_loss: 0.9288 - val_acc: 0.6000\n",
      "Epoch 261/1000\n",
      "105/105 [==============================] - 0s 87us/step - loss: 0.9285 - acc: 0.6952 - val_loss: 0.9274 - val_acc: 0.6000\n",
      "Epoch 262/1000\n",
      "105/105 [==============================] - 0s 99us/step - loss: 0.9276 - acc: 0.6952 - val_loss: 0.9261 - val_acc: 0.6000\n",
      "Epoch 263/1000\n",
      "105/105 [==============================] - 0s 122us/step - loss: 0.9264 - acc: 0.6952 - val_loss: 0.9246 - val_acc: 0.6000\n",
      "Epoch 264/1000\n",
      "105/105 [==============================] - 0s 100us/step - loss: 0.9254 - acc: 0.6952 - val_loss: 0.9226 - val_acc: 0.6000\n",
      "Epoch 265/1000\n",
      "105/105 [==============================] - 0s 99us/step - loss: 0.9245 - acc: 0.6952 - val_loss: 0.9212 - val_acc: 0.6000\n",
      "Epoch 266/1000\n",
      "105/105 [==============================] - 0s 129us/step - loss: 0.9235 - acc: 0.6952 - val_loss: 0.9210 - val_acc: 0.6000\n",
      "Epoch 267/1000\n",
      "105/105 [==============================] - 0s 102us/step - loss: 0.9223 - acc: 0.6952 - val_loss: 0.9183 - val_acc: 0.6222\n",
      "Epoch 268/1000\n",
      "105/105 [==============================] - 0s 92us/step - loss: 0.9215 - acc: 0.6952 - val_loss: 0.9170 - val_acc: 0.6222\n",
      "Epoch 269/1000\n",
      "105/105 [==============================] - 0s 91us/step - loss: 0.9204 - acc: 0.6952 - val_loss: 0.9160 - val_acc: 0.6222\n",
      "Epoch 270/1000\n",
      "105/105 [==============================] - 0s 95us/step - loss: 0.9188 - acc: 0.6952 - val_loss: 0.9151 - val_acc: 0.6222\n",
      "Epoch 271/1000\n",
      "105/105 [==============================] - 0s 102us/step - loss: 0.9178 - acc: 0.6952 - val_loss: 0.9149 - val_acc: 0.6000\n",
      "Epoch 272/1000\n",
      "105/105 [==============================] - 0s 132us/step - loss: 0.9168 - acc: 0.6952 - val_loss: 0.9143 - val_acc: 0.6000\n",
      "Epoch 273/1000\n",
      "105/105 [==============================] - 0s 91us/step - loss: 0.9156 - acc: 0.6952 - val_loss: 0.9114 - val_acc: 0.6000\n",
      "Epoch 274/1000\n",
      "105/105 [==============================] - 0s 102us/step - loss: 0.9145 - acc: 0.6952 - val_loss: 0.9095 - val_acc: 0.6222\n",
      "Epoch 275/1000\n",
      "105/105 [==============================] - 0s 103us/step - loss: 0.9132 - acc: 0.6952 - val_loss: 0.9077 - val_acc: 0.6222\n",
      "Epoch 276/1000\n",
      "105/105 [==============================] - 0s 118us/step - loss: 0.9121 - acc: 0.6952 - val_loss: 0.9072 - val_acc: 0.6222\n",
      "Epoch 277/1000\n",
      "105/105 [==============================] - 0s 104us/step - loss: 0.9110 - acc: 0.6952 - val_loss: 0.9076 - val_acc: 0.6000\n",
      "Epoch 278/1000\n",
      "105/105 [==============================] - 0s 116us/step - loss: 0.9099 - acc: 0.6952 - val_loss: 0.9064 - val_acc: 0.6000\n",
      "Epoch 279/1000\n",
      "105/105 [==============================] - 0s 128us/step - loss: 0.9088 - acc: 0.6952 - val_loss: 0.9057 - val_acc: 0.6000\n",
      "Epoch 280/1000\n",
      "105/105 [==============================] - 0s 87us/step - loss: 0.9074 - acc: 0.6952 - val_loss: 0.9052 - val_acc: 0.6000\n",
      "Epoch 281/1000\n",
      "105/105 [==============================] - 0s 115us/step - loss: 0.9068 - acc: 0.6952 - val_loss: 0.9048 - val_acc: 0.6000\n",
      "Epoch 282/1000\n",
      "105/105 [==============================] - 0s 123us/step - loss: 0.9055 - acc: 0.6952 - val_loss: 0.9027 - val_acc: 0.6000\n",
      "Epoch 283/1000\n",
      "105/105 [==============================] - 0s 108us/step - loss: 0.9041 - acc: 0.6952 - val_loss: 0.9019 - val_acc: 0.6000\n",
      "Epoch 284/1000\n",
      "105/105 [==============================] - 0s 106us/step - loss: 0.9028 - acc: 0.6952 - val_loss: 0.9010 - val_acc: 0.6000\n",
      "Epoch 285/1000\n",
      "105/105 [==============================] - 0s 99us/step - loss: 0.9019 - acc: 0.6952 - val_loss: 0.9000 - val_acc: 0.6000\n",
      "Epoch 286/1000\n",
      "105/105 [==============================] - 0s 115us/step - loss: 0.9009 - acc: 0.6952 - val_loss: 0.8976 - val_acc: 0.6000\n",
      "Epoch 287/1000\n",
      "105/105 [==============================] - 0s 96us/step - loss: 0.8994 - acc: 0.6952 - val_loss: 0.8952 - val_acc: 0.6000\n",
      "Epoch 288/1000\n",
      "105/105 [==============================] - 0s 115us/step - loss: 0.8980 - acc: 0.6952 - val_loss: 0.8940 - val_acc: 0.6000\n",
      "Epoch 289/1000\n",
      "105/105 [==============================] - 0s 88us/step - loss: 0.8974 - acc: 0.6952 - val_loss: 0.8922 - val_acc: 0.6000\n",
      "Epoch 290/1000\n",
      "105/105 [==============================] - 0s 82us/step - loss: 0.8958 - acc: 0.6952 - val_loss: 0.8911 - val_acc: 0.6000\n",
      "Epoch 291/1000\n",
      "105/105 [==============================] - 0s 131us/step - loss: 0.8948 - acc: 0.6952 - val_loss: 0.8897 - val_acc: 0.6000\n",
      "Epoch 292/1000\n",
      "105/105 [==============================] - 0s 124us/step - loss: 0.8936 - acc: 0.6952 - val_loss: 0.8893 - val_acc: 0.6000\n",
      "Epoch 293/1000\n",
      "105/105 [==============================] - 0s 131us/step - loss: 0.8925 - acc: 0.6952 - val_loss: 0.8886 - val_acc: 0.6000\n",
      "Epoch 294/1000\n",
      "105/105 [==============================] - 0s 123us/step - loss: 0.8910 - acc: 0.6952 - val_loss: 0.8876 - val_acc: 0.6000\n",
      "Epoch 295/1000\n",
      "105/105 [==============================] - 0s 92us/step - loss: 0.8899 - acc: 0.6952 - val_loss: 0.8861 - val_acc: 0.6000\n",
      "Epoch 296/1000\n",
      "105/105 [==============================] - 0s 118us/step - loss: 0.8887 - acc: 0.6952 - val_loss: 0.8846 - val_acc: 0.6000\n",
      "Epoch 297/1000\n",
      "105/105 [==============================] - 0s 120us/step - loss: 0.8880 - acc: 0.6952 - val_loss: 0.8813 - val_acc: 0.6222\n",
      "Epoch 298/1000\n",
      "105/105 [==============================] - 0s 95us/step - loss: 0.8863 - acc: 0.6952 - val_loss: 0.8782 - val_acc: 0.6444\n",
      "Epoch 299/1000\n",
      "105/105 [==============================] - 0s 80us/step - loss: 0.8850 - acc: 0.7048 - val_loss: 0.8770 - val_acc: 0.6444\n",
      "Epoch 300/1000\n",
      "105/105 [==============================] - 0s 94us/step - loss: 0.8837 - acc: 0.6952 - val_loss: 0.8747 - val_acc: 0.6667\n",
      "Epoch 301/1000\n",
      "105/105 [==============================] - 0s 107us/step - loss: 0.8827 - acc: 0.7143 - val_loss: 0.8748 - val_acc: 0.6444\n",
      "Epoch 302/1000\n",
      "105/105 [==============================] - 0s 103us/step - loss: 0.8814 - acc: 0.6952 - val_loss: 0.8760 - val_acc: 0.6000\n",
      "Epoch 303/1000\n",
      "105/105 [==============================] - 0s 107us/step - loss: 0.8802 - acc: 0.6952 - val_loss: 0.8741 - val_acc: 0.6000\n",
      "Epoch 304/1000\n",
      "105/105 [==============================] - 0s 109us/step - loss: 0.8788 - acc: 0.6952 - val_loss: 0.8723 - val_acc: 0.6222\n",
      "Epoch 305/1000\n",
      "105/105 [==============================] - 0s 91us/step - loss: 0.8780 - acc: 0.6952 - val_loss: 0.8709 - val_acc: 0.6000\n",
      "Epoch 306/1000\n",
      "105/105 [==============================] - 0s 90us/step - loss: 0.8762 - acc: 0.6952 - val_loss: 0.8702 - val_acc: 0.6000\n",
      "Epoch 307/1000\n",
      "105/105 [==============================] - 0s 93us/step - loss: 0.8753 - acc: 0.6952 - val_loss: 0.8700 - val_acc: 0.6000\n",
      "Epoch 308/1000\n",
      "105/105 [==============================] - 0s 110us/step - loss: 0.8738 - acc: 0.6952 - val_loss: 0.8671 - val_acc: 0.6000\n",
      "Epoch 309/1000\n",
      "105/105 [==============================] - 0s 111us/step - loss: 0.8725 - acc: 0.6952 - val_loss: 0.8667 - val_acc: 0.6000\n",
      "Epoch 310/1000\n",
      "105/105 [==============================] - 0s 103us/step - loss: 0.8713 - acc: 0.6952 - val_loss: 0.8656 - val_acc: 0.6000\n",
      "Epoch 311/1000\n",
      "105/105 [==============================] - 0s 87us/step - loss: 0.8700 - acc: 0.6952 - val_loss: 0.8664 - val_acc: 0.6000\n",
      "Epoch 312/1000\n",
      "105/105 [==============================] - 0s 118us/step - loss: 0.8689 - acc: 0.6952 - val_loss: 0.8654 - val_acc: 0.6000\n",
      "Epoch 313/1000\n",
      "105/105 [==============================] - 0s 111us/step - loss: 0.8675 - acc: 0.6952 - val_loss: 0.8655 - val_acc: 0.6000\n",
      "Epoch 314/1000\n",
      "105/105 [==============================] - 0s 101us/step - loss: 0.8667 - acc: 0.6952 - val_loss: 0.8631 - val_acc: 0.6000\n",
      "Epoch 315/1000\n",
      "105/105 [==============================] - 0s 105us/step - loss: 0.8649 - acc: 0.6952 - val_loss: 0.8606 - val_acc: 0.6000\n",
      "Epoch 316/1000\n",
      "105/105 [==============================] - 0s 95us/step - loss: 0.8637 - acc: 0.6952 - val_loss: 0.8589 - val_acc: 0.6000\n",
      "Epoch 317/1000\n",
      "105/105 [==============================] - 0s 99us/step - loss: 0.8622 - acc: 0.6952 - val_loss: 0.8574 - val_acc: 0.6000\n",
      "Epoch 318/1000\n",
      "105/105 [==============================] - 0s 109us/step - loss: 0.8610 - acc: 0.6952 - val_loss: 0.8562 - val_acc: 0.6000\n",
      "Epoch 319/1000\n",
      "105/105 [==============================] - 0s 117us/step - loss: 0.8598 - acc: 0.6952 - val_loss: 0.8544 - val_acc: 0.6000\n",
      "Epoch 320/1000\n",
      "105/105 [==============================] - 0s 89us/step - loss: 0.8587 - acc: 0.6952 - val_loss: 0.8537 - val_acc: 0.6000\n",
      "Epoch 321/1000\n",
      "105/105 [==============================] - 0s 99us/step - loss: 0.8571 - acc: 0.6952 - val_loss: 0.8511 - val_acc: 0.6000\n",
      "Epoch 322/1000\n",
      "105/105 [==============================] - 0s 87us/step - loss: 0.8558 - acc: 0.6952 - val_loss: 0.8497 - val_acc: 0.6000\n",
      "Epoch 323/1000\n",
      "105/105 [==============================] - 0s 120us/step - loss: 0.8544 - acc: 0.6952 - val_loss: 0.8483 - val_acc: 0.6000\n",
      "Epoch 324/1000\n",
      "105/105 [==============================] - 0s 100us/step - loss: 0.8531 - acc: 0.6952 - val_loss: 0.8463 - val_acc: 0.6000\n",
      "Epoch 325/1000\n",
      "105/105 [==============================] - 0s 110us/step - loss: 0.8519 - acc: 0.6952 - val_loss: 0.8464 - val_acc: 0.6000\n",
      "Epoch 326/1000\n",
      "105/105 [==============================] - 0s 104us/step - loss: 0.8505 - acc: 0.6952 - val_loss: 0.8450 - val_acc: 0.6000\n",
      "Epoch 327/1000\n",
      "105/105 [==============================] - 0s 108us/step - loss: 0.8494 - acc: 0.6952 - val_loss: 0.8433 - val_acc: 0.6000\n",
      "Epoch 328/1000\n",
      "105/105 [==============================] - 0s 94us/step - loss: 0.8479 - acc: 0.6952 - val_loss: 0.8419 - val_acc: 0.6000\n",
      "Epoch 329/1000\n",
      "105/105 [==============================] - 0s 103us/step - loss: 0.8466 - acc: 0.6952 - val_loss: 0.8409 - val_acc: 0.6000\n",
      "Epoch 330/1000\n",
      "105/105 [==============================] - 0s 107us/step - loss: 0.8454 - acc: 0.6952 - val_loss: 0.8394 - val_acc: 0.6000\n",
      "Epoch 331/1000\n",
      "105/105 [==============================] - 0s 99us/step - loss: 0.8439 - acc: 0.6952 - val_loss: 0.8382 - val_acc: 0.6000\n",
      "Epoch 332/1000\n",
      "105/105 [==============================] - 0s 98us/step - loss: 0.8428 - acc: 0.6952 - val_loss: 0.8372 - val_acc: 0.6000\n",
      "Epoch 333/1000\n",
      "105/105 [==============================] - 0s 101us/step - loss: 0.8413 - acc: 0.6952 - val_loss: 0.8366 - val_acc: 0.6000\n",
      "Epoch 334/1000\n",
      "105/105 [==============================] - 0s 96us/step - loss: 0.8400 - acc: 0.6952 - val_loss: 0.8355 - val_acc: 0.6000\n",
      "Epoch 335/1000\n",
      "105/105 [==============================] - 0s 106us/step - loss: 0.8388 - acc: 0.6952 - val_loss: 0.8349 - val_acc: 0.6000\n",
      "Epoch 336/1000\n",
      "105/105 [==============================] - 0s 95us/step - loss: 0.8375 - acc: 0.6952 - val_loss: 0.8328 - val_acc: 0.6000\n",
      "Epoch 337/1000\n",
      "105/105 [==============================] - 0s 99us/step - loss: 0.8363 - acc: 0.6952 - val_loss: 0.8308 - val_acc: 0.6000\n",
      "Epoch 338/1000\n",
      "105/105 [==============================] - 0s 100us/step - loss: 0.8349 - acc: 0.6952 - val_loss: 0.8281 - val_acc: 0.6000\n",
      "Epoch 339/1000\n",
      "105/105 [==============================] - 0s 101us/step - loss: 0.8338 - acc: 0.6952 - val_loss: 0.8274 - val_acc: 0.6000\n",
      "Epoch 340/1000\n",
      "105/105 [==============================] - 0s 92us/step - loss: 0.8323 - acc: 0.6952 - val_loss: 0.8263 - val_acc: 0.6000\n",
      "Epoch 341/1000\n",
      "105/105 [==============================] - 0s 106us/step - loss: 0.8309 - acc: 0.6952 - val_loss: 0.8246 - val_acc: 0.6000\n",
      "Epoch 342/1000\n",
      "105/105 [==============================] - 0s 91us/step - loss: 0.8295 - acc: 0.6952 - val_loss: 0.8225 - val_acc: 0.6000\n",
      "Epoch 343/1000\n",
      "105/105 [==============================] - 0s 86us/step - loss: 0.8282 - acc: 0.6952 - val_loss: 0.8221 - val_acc: 0.6000\n",
      "Epoch 344/1000\n",
      "105/105 [==============================] - 0s 103us/step - loss: 0.8272 - acc: 0.6952 - val_loss: 0.8202 - val_acc: 0.6000\n",
      "Epoch 345/1000\n",
      "105/105 [==============================] - 0s 111us/step - loss: 0.8256 - acc: 0.6952 - val_loss: 0.8198 - val_acc: 0.6000\n",
      "Epoch 346/1000\n",
      "105/105 [==============================] - 0s 123us/step - loss: 0.8243 - acc: 0.6952 - val_loss: 0.8182 - val_acc: 0.6000\n",
      "Epoch 347/1000\n",
      "105/105 [==============================] - 0s 90us/step - loss: 0.8232 - acc: 0.6952 - val_loss: 0.8172 - val_acc: 0.6000\n",
      "Epoch 348/1000\n",
      "105/105 [==============================] - 0s 105us/step - loss: 0.8217 - acc: 0.6952 - val_loss: 0.8156 - val_acc: 0.6000\n",
      "Epoch 349/1000\n",
      "105/105 [==============================] - 0s 101us/step - loss: 0.8204 - acc: 0.6952 - val_loss: 0.8149 - val_acc: 0.6000\n",
      "Epoch 350/1000\n",
      "105/105 [==============================] - 0s 129us/step - loss: 0.8193 - acc: 0.6952 - val_loss: 0.8131 - val_acc: 0.6000\n",
      "Epoch 351/1000\n",
      "105/105 [==============================] - 0s 106us/step - loss: 0.8175 - acc: 0.6952 - val_loss: 0.8111 - val_acc: 0.6000\n",
      "Epoch 352/1000\n",
      "105/105 [==============================] - 0s 91us/step - loss: 0.8164 - acc: 0.6952 - val_loss: 0.8090 - val_acc: 0.6000\n",
      "Epoch 353/1000\n",
      "105/105 [==============================] - 0s 76us/step - loss: 0.8150 - acc: 0.6952 - val_loss: 0.8086 - val_acc: 0.6000\n",
      "Epoch 354/1000\n",
      "105/105 [==============================] - 0s 110us/step - loss: 0.8134 - acc: 0.6952 - val_loss: 0.8066 - val_acc: 0.6000\n",
      "Epoch 355/1000\n",
      "105/105 [==============================] - 0s 101us/step - loss: 0.8124 - acc: 0.6952 - val_loss: 0.8041 - val_acc: 0.6000\n",
      "Epoch 356/1000\n",
      "105/105 [==============================] - 0s 110us/step - loss: 0.8107 - acc: 0.6952 - val_loss: 0.8024 - val_acc: 0.6000\n",
      "Epoch 357/1000\n",
      "105/105 [==============================] - 0s 103us/step - loss: 0.8094 - acc: 0.6952 - val_loss: 0.8016 - val_acc: 0.6000\n",
      "Epoch 358/1000\n",
      "105/105 [==============================] - 0s 97us/step - loss: 0.8081 - acc: 0.6952 - val_loss: 0.8004 - val_acc: 0.6000\n",
      "Epoch 359/1000\n",
      "105/105 [==============================] - 0s 110us/step - loss: 0.8067 - acc: 0.6952 - val_loss: 0.7999 - val_acc: 0.6000\n",
      "Epoch 360/1000\n",
      "105/105 [==============================] - 0s 91us/step - loss: 0.8053 - acc: 0.6952 - val_loss: 0.7971 - val_acc: 0.6000\n",
      "Epoch 361/1000\n",
      "105/105 [==============================] - 0s 99us/step - loss: 0.8040 - acc: 0.6952 - val_loss: 0.7972 - val_acc: 0.6000\n",
      "Epoch 362/1000\n",
      "105/105 [==============================] - 0s 91us/step - loss: 0.8028 - acc: 0.6952 - val_loss: 0.7964 - val_acc: 0.6000\n",
      "Epoch 363/1000\n",
      "105/105 [==============================] - 0s 96us/step - loss: 0.8014 - acc: 0.6952 - val_loss: 0.7946 - val_acc: 0.6000\n",
      "Epoch 364/1000\n",
      "105/105 [==============================] - 0s 96us/step - loss: 0.7998 - acc: 0.6952 - val_loss: 0.7935 - val_acc: 0.6000\n",
      "Epoch 365/1000\n",
      "105/105 [==============================] - 0s 77us/step - loss: 0.7990 - acc: 0.6952 - val_loss: 0.7913 - val_acc: 0.6000\n",
      "Epoch 366/1000\n",
      "105/105 [==============================] - 0s 80us/step - loss: 0.7971 - acc: 0.6952 - val_loss: 0.7904 - val_acc: 0.6000\n",
      "Epoch 367/1000\n",
      "105/105 [==============================] - 0s 95us/step - loss: 0.7959 - acc: 0.6952 - val_loss: 0.7897 - val_acc: 0.6000\n",
      "Epoch 368/1000\n",
      "105/105 [==============================] - 0s 80us/step - loss: 0.7944 - acc: 0.6952 - val_loss: 0.7875 - val_acc: 0.6000\n",
      "Epoch 369/1000\n",
      "105/105 [==============================] - 0s 83us/step - loss: 0.7933 - acc: 0.6952 - val_loss: 0.7851 - val_acc: 0.6000\n",
      "Epoch 370/1000\n",
      "105/105 [==============================] - 0s 100us/step - loss: 0.7918 - acc: 0.6952 - val_loss: 0.7836 - val_acc: 0.6000\n",
      "Epoch 371/1000\n",
      "105/105 [==============================] - 0s 118us/step - loss: 0.7903 - acc: 0.6952 - val_loss: 0.7818 - val_acc: 0.6000\n",
      "Epoch 372/1000\n",
      "105/105 [==============================] - 0s 133us/step - loss: 0.7890 - acc: 0.6952 - val_loss: 0.7810 - val_acc: 0.6000\n",
      "Epoch 373/1000\n",
      "105/105 [==============================] - 0s 111us/step - loss: 0.7877 - acc: 0.6952 - val_loss: 0.7790 - val_acc: 0.6000\n",
      "Epoch 374/1000\n",
      "105/105 [==============================] - 0s 106us/step - loss: 0.7864 - acc: 0.6952 - val_loss: 0.7780 - val_acc: 0.6000\n",
      "Epoch 375/1000\n",
      "105/105 [==============================] - 0s 98us/step - loss: 0.7851 - acc: 0.6952 - val_loss: 0.7757 - val_acc: 0.6000\n",
      "Epoch 376/1000\n",
      "105/105 [==============================] - 0s 95us/step - loss: 0.7839 - acc: 0.6952 - val_loss: 0.7743 - val_acc: 0.6000\n",
      "Epoch 377/1000\n",
      "105/105 [==============================] - 0s 99us/step - loss: 0.7828 - acc: 0.6952 - val_loss: 0.7721 - val_acc: 0.6000\n",
      "Epoch 378/1000\n",
      "105/105 [==============================] - 0s 98us/step - loss: 0.7812 - acc: 0.6952 - val_loss: 0.7719 - val_acc: 0.6000\n",
      "Epoch 379/1000\n",
      "105/105 [==============================] - 0s 101us/step - loss: 0.7798 - acc: 0.6952 - val_loss: 0.7694 - val_acc: 0.6000\n",
      "Epoch 380/1000\n",
      "105/105 [==============================] - 0s 119us/step - loss: 0.7786 - acc: 0.6952 - val_loss: 0.7673 - val_acc: 0.6222\n",
      "Epoch 381/1000\n",
      "105/105 [==============================] - 0s 78us/step - loss: 0.7773 - acc: 0.6952 - val_loss: 0.7649 - val_acc: 0.6222\n",
      "Epoch 382/1000\n",
      "105/105 [==============================] - 0s 91us/step - loss: 0.7759 - acc: 0.6952 - val_loss: 0.7640 - val_acc: 0.6222\n",
      "Epoch 383/1000\n",
      "105/105 [==============================] - 0s 93us/step - loss: 0.7743 - acc: 0.6952 - val_loss: 0.7622 - val_acc: 0.6222\n",
      "Epoch 384/1000\n",
      "105/105 [==============================] - 0s 138us/step - loss: 0.7730 - acc: 0.6952 - val_loss: 0.7607 - val_acc: 0.6222\n",
      "Epoch 385/1000\n",
      "105/105 [==============================] - 0s 119us/step - loss: 0.7717 - acc: 0.6952 - val_loss: 0.7582 - val_acc: 0.6667\n",
      "Epoch 386/1000\n",
      "105/105 [==============================] - 0s 147us/step - loss: 0.7704 - acc: 0.7048 - val_loss: 0.7568 - val_acc: 0.6667\n",
      "Epoch 387/1000\n",
      "105/105 [==============================] - 0s 98us/step - loss: 0.7692 - acc: 0.7048 - val_loss: 0.7563 - val_acc: 0.6222\n",
      "Epoch 388/1000\n",
      "105/105 [==============================] - 0s 111us/step - loss: 0.7679 - acc: 0.6952 - val_loss: 0.7564 - val_acc: 0.6000\n",
      "Epoch 389/1000\n",
      "105/105 [==============================] - 0s 142us/step - loss: 0.7663 - acc: 0.6952 - val_loss: 0.7551 - val_acc: 0.6000\n",
      "Epoch 390/1000\n",
      "105/105 [==============================] - 0s 88us/step - loss: 0.7649 - acc: 0.6952 - val_loss: 0.7533 - val_acc: 0.6000\n",
      "Epoch 391/1000\n",
      "105/105 [==============================] - 0s 90us/step - loss: 0.7637 - acc: 0.6952 - val_loss: 0.7522 - val_acc: 0.6000\n",
      "Epoch 392/1000\n",
      "105/105 [==============================] - 0s 91us/step - loss: 0.7624 - acc: 0.6952 - val_loss: 0.7505 - val_acc: 0.6000\n",
      "Epoch 393/1000\n",
      "105/105 [==============================] - 0s 92us/step - loss: 0.7612 - acc: 0.6952 - val_loss: 0.7493 - val_acc: 0.6000\n",
      "Epoch 394/1000\n",
      "105/105 [==============================] - 0s 87us/step - loss: 0.7597 - acc: 0.6952 - val_loss: 0.7488 - val_acc: 0.6000\n",
      "Epoch 395/1000\n",
      "105/105 [==============================] - 0s 90us/step - loss: 0.7588 - acc: 0.6952 - val_loss: 0.7473 - val_acc: 0.6000\n",
      "Epoch 396/1000\n",
      "105/105 [==============================] - 0s 115us/step - loss: 0.7570 - acc: 0.6952 - val_loss: 0.7465 - val_acc: 0.6000\n",
      "Epoch 397/1000\n",
      "105/105 [==============================] - 0s 126us/step - loss: 0.7557 - acc: 0.6952 - val_loss: 0.7444 - val_acc: 0.6000\n",
      "Epoch 398/1000\n",
      "105/105 [==============================] - 0s 106us/step - loss: 0.7546 - acc: 0.6952 - val_loss: 0.7436 - val_acc: 0.6000\n",
      "Epoch 399/1000\n",
      "105/105 [==============================] - 0s 100us/step - loss: 0.7534 - acc: 0.6952 - val_loss: 0.7408 - val_acc: 0.6000\n",
      "Epoch 400/1000\n",
      "105/105 [==============================] - 0s 101us/step - loss: 0.7518 - acc: 0.6952 - val_loss: 0.7404 - val_acc: 0.6000\n",
      "Epoch 401/1000\n",
      "105/105 [==============================] - 0s 118us/step - loss: 0.7505 - acc: 0.6952 - val_loss: 0.7378 - val_acc: 0.6000\n",
      "Epoch 402/1000\n",
      "105/105 [==============================] - 0s 101us/step - loss: 0.7493 - acc: 0.6952 - val_loss: 0.7378 - val_acc: 0.6000\n",
      "Epoch 403/1000\n",
      "105/105 [==============================] - 0s 98us/step - loss: 0.7479 - acc: 0.6952 - val_loss: 0.7354 - val_acc: 0.6000\n",
      "Epoch 404/1000\n",
      "105/105 [==============================] - 0s 111us/step - loss: 0.7465 - acc: 0.6952 - val_loss: 0.7346 - val_acc: 0.6000\n",
      "Epoch 405/1000\n",
      "105/105 [==============================] - 0s 85us/step - loss: 0.7452 - acc: 0.6952 - val_loss: 0.7331 - val_acc: 0.6000\n",
      "Epoch 406/1000\n",
      "105/105 [==============================] - 0s 78us/step - loss: 0.7441 - acc: 0.6952 - val_loss: 0.7310 - val_acc: 0.6000\n",
      "Epoch 407/1000\n",
      "105/105 [==============================] - 0s 78us/step - loss: 0.7427 - acc: 0.6952 - val_loss: 0.7296 - val_acc: 0.6222\n",
      "Epoch 408/1000\n",
      "105/105 [==============================] - 0s 133us/step - loss: 0.7414 - acc: 0.6952 - val_loss: 0.7278 - val_acc: 0.6444\n",
      "Epoch 409/1000\n",
      "105/105 [==============================] - 0s 96us/step - loss: 0.7404 - acc: 0.7048 - val_loss: 0.7270 - val_acc: 0.6222\n",
      "Epoch 410/1000\n",
      "105/105 [==============================] - 0s 73us/step - loss: 0.7390 - acc: 0.6952 - val_loss: 0.7248 - val_acc: 0.6444\n",
      "Epoch 411/1000\n",
      "105/105 [==============================] - 0s 99us/step - loss: 0.7377 - acc: 0.7048 - val_loss: 0.7242 - val_acc: 0.6444\n",
      "Epoch 412/1000\n",
      "105/105 [==============================] - 0s 105us/step - loss: 0.7366 - acc: 0.6952 - val_loss: 0.7222 - val_acc: 0.6667\n",
      "Epoch 413/1000\n",
      "105/105 [==============================] - 0s 98us/step - loss: 0.7354 - acc: 0.7143 - val_loss: 0.7203 - val_acc: 0.6667\n",
      "Epoch 414/1000\n",
      "105/105 [==============================] - 0s 104us/step - loss: 0.7341 - acc: 0.7619 - val_loss: 0.7199 - val_acc: 0.6444\n",
      "Epoch 415/1000\n",
      "105/105 [==============================] - 0s 111us/step - loss: 0.7328 - acc: 0.6952 - val_loss: 0.7178 - val_acc: 0.7111\n",
      "Epoch 416/1000\n",
      "105/105 [==============================] - 0s 95us/step - loss: 0.7319 - acc: 0.7810 - val_loss: 0.7164 - val_acc: 0.7111\n",
      "Epoch 417/1000\n",
      "105/105 [==============================] - 0s 106us/step - loss: 0.7304 - acc: 0.7810 - val_loss: 0.7162 - val_acc: 0.6667\n",
      "Epoch 418/1000\n",
      "105/105 [==============================] - 0s 96us/step - loss: 0.7291 - acc: 0.7048 - val_loss: 0.7158 - val_acc: 0.6222\n",
      "Epoch 419/1000\n",
      "105/105 [==============================] - 0s 93us/step - loss: 0.7280 - acc: 0.6952 - val_loss: 0.7143 - val_acc: 0.6222\n",
      "Epoch 420/1000\n",
      "105/105 [==============================] - 0s 108us/step - loss: 0.7266 - acc: 0.6952 - val_loss: 0.7132 - val_acc: 0.6444\n",
      "Epoch 421/1000\n",
      "105/105 [==============================] - 0s 125us/step - loss: 0.7255 - acc: 0.7048 - val_loss: 0.7122 - val_acc: 0.6222\n",
      "Epoch 422/1000\n",
      "105/105 [==============================] - 0s 108us/step - loss: 0.7243 - acc: 0.6952 - val_loss: 0.7114 - val_acc: 0.6222\n",
      "Epoch 423/1000\n",
      "105/105 [==============================] - 0s 132us/step - loss: 0.7230 - acc: 0.6952 - val_loss: 0.7110 - val_acc: 0.6000\n",
      "Epoch 424/1000\n",
      "105/105 [==============================] - 0s 89us/step - loss: 0.7220 - acc: 0.6952 - val_loss: 0.7093 - val_acc: 0.6000\n",
      "Epoch 425/1000\n",
      "105/105 [==============================] - 0s 75us/step - loss: 0.7206 - acc: 0.6952 - val_loss: 0.7087 - val_acc: 0.6000\n",
      "Epoch 426/1000\n",
      "105/105 [==============================] - 0s 124us/step - loss: 0.7194 - acc: 0.6952 - val_loss: 0.7076 - val_acc: 0.6000\n",
      "Epoch 427/1000\n",
      "105/105 [==============================] - 0s 86us/step - loss: 0.7181 - acc: 0.6952 - val_loss: 0.7060 - val_acc: 0.6000\n",
      "Epoch 428/1000\n",
      "105/105 [==============================] - 0s 114us/step - loss: 0.7171 - acc: 0.6952 - val_loss: 0.7054 - val_acc: 0.6000\n",
      "Epoch 429/1000\n",
      "105/105 [==============================] - 0s 119us/step - loss: 0.7158 - acc: 0.6952 - val_loss: 0.7049 - val_acc: 0.6000\n",
      "Epoch 430/1000\n",
      "105/105 [==============================] - 0s 90us/step - loss: 0.7145 - acc: 0.6952 - val_loss: 0.7037 - val_acc: 0.6000\n",
      "Epoch 431/1000\n",
      "105/105 [==============================] - 0s 105us/step - loss: 0.7136 - acc: 0.6952 - val_loss: 0.7030 - val_acc: 0.6000\n",
      "Epoch 432/1000\n",
      "105/105 [==============================] - 0s 123us/step - loss: 0.7124 - acc: 0.6952 - val_loss: 0.7017 - val_acc: 0.6000\n",
      "Epoch 433/1000\n",
      "105/105 [==============================] - 0s 88us/step - loss: 0.7112 - acc: 0.6952 - val_loss: 0.7000 - val_acc: 0.6000\n",
      "Epoch 434/1000\n",
      "105/105 [==============================] - 0s 114us/step - loss: 0.7102 - acc: 0.6952 - val_loss: 0.6979 - val_acc: 0.6000\n",
      "Epoch 435/1000\n",
      "105/105 [==============================] - 0s 93us/step - loss: 0.7087 - acc: 0.6952 - val_loss: 0.6952 - val_acc: 0.6222\n",
      "Epoch 436/1000\n",
      "105/105 [==============================] - 0s 93us/step - loss: 0.7076 - acc: 0.6952 - val_loss: 0.6933 - val_acc: 0.6444\n",
      "Epoch 437/1000\n",
      "105/105 [==============================] - 0s 118us/step - loss: 0.7065 - acc: 0.6952 - val_loss: 0.6929 - val_acc: 0.6222\n",
      "Epoch 438/1000\n",
      "105/105 [==============================] - 0s 95us/step - loss: 0.7052 - acc: 0.6952 - val_loss: 0.6920 - val_acc: 0.6222\n",
      "Epoch 439/1000\n",
      "105/105 [==============================] - 0s 84us/step - loss: 0.7041 - acc: 0.6952 - val_loss: 0.6910 - val_acc: 0.6222\n",
      "Epoch 440/1000\n",
      "105/105 [==============================] - 0s 97us/step - loss: 0.7031 - acc: 0.6952 - val_loss: 0.6889 - val_acc: 0.6444\n",
      "Epoch 441/1000\n",
      "105/105 [==============================] - 0s 109us/step - loss: 0.7019 - acc: 0.6952 - val_loss: 0.6874 - val_acc: 0.6667\n",
      "Epoch 442/1000\n",
      "105/105 [==============================] - 0s 100us/step - loss: 0.7008 - acc: 0.7143 - val_loss: 0.6869 - val_acc: 0.6444\n",
      "Epoch 443/1000\n",
      "105/105 [==============================] - 0s 118us/step - loss: 0.7000 - acc: 0.7238 - val_loss: 0.6860 - val_acc: 0.6222\n",
      "Epoch 444/1000\n",
      "105/105 [==============================] - 0s 96us/step - loss: 0.6986 - acc: 0.6952 - val_loss: 0.6843 - val_acc: 0.6444\n",
      "Epoch 445/1000\n",
      "105/105 [==============================] - 0s 76us/step - loss: 0.6975 - acc: 0.6952 - val_loss: 0.6841 - val_acc: 0.6222\n",
      "Epoch 446/1000\n",
      "105/105 [==============================] - 0s 75us/step - loss: 0.6965 - acc: 0.6952 - val_loss: 0.6831 - val_acc: 0.6222\n",
      "Epoch 447/1000\n",
      "105/105 [==============================] - 0s 106us/step - loss: 0.6951 - acc: 0.6952 - val_loss: 0.6822 - val_acc: 0.6000\n",
      "Epoch 448/1000\n",
      "105/105 [==============================] - 0s 86us/step - loss: 0.6940 - acc: 0.6952 - val_loss: 0.6812 - val_acc: 0.6000\n",
      "Epoch 449/1000\n",
      "105/105 [==============================] - 0s 132us/step - loss: 0.6929 - acc: 0.6952 - val_loss: 0.6805 - val_acc: 0.6000\n",
      "Epoch 450/1000\n",
      "105/105 [==============================] - 0s 94us/step - loss: 0.6920 - acc: 0.6952 - val_loss: 0.6794 - val_acc: 0.6000\n",
      "Epoch 451/1000\n",
      "105/105 [==============================] - 0s 88us/step - loss: 0.6905 - acc: 0.6952 - val_loss: 0.6791 - val_acc: 0.6000\n",
      "Epoch 452/1000\n",
      "105/105 [==============================] - 0s 90us/step - loss: 0.6896 - acc: 0.6952 - val_loss: 0.6783 - val_acc: 0.6000\n",
      "Epoch 453/1000\n",
      "105/105 [==============================] - 0s 118us/step - loss: 0.6884 - acc: 0.6952 - val_loss: 0.6759 - val_acc: 0.6000\n",
      "Epoch 454/1000\n",
      "105/105 [==============================] - 0s 82us/step - loss: 0.6871 - acc: 0.6952 - val_loss: 0.6747 - val_acc: 0.6000\n",
      "Epoch 455/1000\n",
      "105/105 [==============================] - 0s 143us/step - loss: 0.6862 - acc: 0.6952 - val_loss: 0.6736 - val_acc: 0.6000\n",
      "Epoch 456/1000\n",
      "105/105 [==============================] - 0s 116us/step - loss: 0.6852 - acc: 0.6952 - val_loss: 0.6726 - val_acc: 0.6000\n",
      "Epoch 457/1000\n",
      "105/105 [==============================] - 0s 116us/step - loss: 0.6841 - acc: 0.6952 - val_loss: 0.6707 - val_acc: 0.6000\n",
      "Epoch 458/1000\n",
      "105/105 [==============================] - 0s 101us/step - loss: 0.6829 - acc: 0.6952 - val_loss: 0.6684 - val_acc: 0.6222\n",
      "Epoch 459/1000\n",
      "105/105 [==============================] - 0s 95us/step - loss: 0.6820 - acc: 0.6952 - val_loss: 0.6670 - val_acc: 0.6444\n",
      "Epoch 460/1000\n",
      "105/105 [==============================] - 0s 101us/step - loss: 0.6807 - acc: 0.6952 - val_loss: 0.6654 - val_acc: 0.6667\n",
      "Epoch 461/1000\n",
      "105/105 [==============================] - 0s 94us/step - loss: 0.6800 - acc: 0.7048 - val_loss: 0.6644 - val_acc: 0.6444\n",
      "Epoch 462/1000\n",
      "105/105 [==============================] - 0s 112us/step - loss: 0.6789 - acc: 0.7048 - val_loss: 0.6632 - val_acc: 0.6444\n",
      "Epoch 463/1000\n",
      "105/105 [==============================] - 0s 111us/step - loss: 0.6776 - acc: 0.6952 - val_loss: 0.6620 - val_acc: 0.6667\n",
      "Epoch 464/1000\n",
      "105/105 [==============================] - 0s 107us/step - loss: 0.6765 - acc: 0.6952 - val_loss: 0.6611 - val_acc: 0.6444\n",
      "Epoch 465/1000\n",
      "105/105 [==============================] - 0s 111us/step - loss: 0.6755 - acc: 0.6952 - val_loss: 0.6595 - val_acc: 0.6667\n",
      "Epoch 466/1000\n",
      "105/105 [==============================] - 0s 122us/step - loss: 0.6744 - acc: 0.7048 - val_loss: 0.6576 - val_acc: 0.7333\n",
      "Epoch 467/1000\n",
      "105/105 [==============================] - 0s 103us/step - loss: 0.6734 - acc: 0.7619 - val_loss: 0.6558 - val_acc: 0.7778\n",
      "Epoch 468/1000\n",
      "105/105 [==============================] - 0s 96us/step - loss: 0.6723 - acc: 0.8000 - val_loss: 0.6549 - val_acc: 0.7778\n",
      "Epoch 469/1000\n",
      "105/105 [==============================] - 0s 123us/step - loss: 0.6714 - acc: 0.8190 - val_loss: 0.6551 - val_acc: 0.6667\n",
      "Epoch 470/1000\n",
      "105/105 [==============================] - 0s 90us/step - loss: 0.6702 - acc: 0.7048 - val_loss: 0.6540 - val_acc: 0.6667\n",
      "Epoch 471/1000\n",
      "105/105 [==============================] - 0s 104us/step - loss: 0.6692 - acc: 0.7048 - val_loss: 0.6523 - val_acc: 0.7111\n",
      "Epoch 472/1000\n",
      "105/105 [==============================] - 0s 99us/step - loss: 0.6683 - acc: 0.7524 - val_loss: 0.6505 - val_acc: 0.7778\n",
      "Epoch 473/1000\n",
      "105/105 [==============================] - 0s 85us/step - loss: 0.6673 - acc: 0.7810 - val_loss: 0.6495 - val_acc: 0.7778\n",
      "Epoch 474/1000\n",
      "105/105 [==============================] - 0s 85us/step - loss: 0.6664 - acc: 0.7619 - val_loss: 0.6478 - val_acc: 0.8444\n",
      "Epoch 475/1000\n",
      "105/105 [==============================] - 0s 100us/step - loss: 0.6652 - acc: 0.8286 - val_loss: 0.6466 - val_acc: 0.9111\n",
      "Epoch 476/1000\n",
      "105/105 [==============================] - 0s 115us/step - loss: 0.6644 - acc: 0.8857 - val_loss: 0.6469 - val_acc: 0.7333\n",
      "Epoch 477/1000\n",
      "105/105 [==============================] - 0s 108us/step - loss: 0.6632 - acc: 0.7905 - val_loss: 0.6465 - val_acc: 0.6667\n",
      "Epoch 478/1000\n",
      "105/105 [==============================] - 0s 112us/step - loss: 0.6622 - acc: 0.7429 - val_loss: 0.6456 - val_acc: 0.6667\n",
      "Epoch 479/1000\n",
      "105/105 [==============================] - 0s 98us/step - loss: 0.6613 - acc: 0.7143 - val_loss: 0.6453 - val_acc: 0.6444\n",
      "Epoch 480/1000\n",
      "105/105 [==============================] - 0s 102us/step - loss: 0.6604 - acc: 0.7048 - val_loss: 0.6437 - val_acc: 0.6667\n",
      "Epoch 481/1000\n",
      "105/105 [==============================] - 0s 108us/step - loss: 0.6592 - acc: 0.7238 - val_loss: 0.6435 - val_acc: 0.6444\n",
      "Epoch 482/1000\n",
      "105/105 [==============================] - 0s 79us/step - loss: 0.6582 - acc: 0.6952 - val_loss: 0.6417 - val_acc: 0.6667\n",
      "Epoch 483/1000\n",
      "105/105 [==============================] - 0s 100us/step - loss: 0.6572 - acc: 0.7048 - val_loss: 0.6405 - val_acc: 0.6667\n",
      "Epoch 484/1000\n",
      "105/105 [==============================] - 0s 108us/step - loss: 0.6562 - acc: 0.7429 - val_loss: 0.6405 - val_acc: 0.6444\n",
      "Epoch 485/1000\n",
      "105/105 [==============================] - 0s 102us/step - loss: 0.6553 - acc: 0.6952 - val_loss: 0.6391 - val_acc: 0.6444\n",
      "Epoch 486/1000\n",
      "105/105 [==============================] - 0s 140us/step - loss: 0.6544 - acc: 0.7143 - val_loss: 0.6387 - val_acc: 0.6444\n",
      "Epoch 487/1000\n",
      "105/105 [==============================] - 0s 95us/step - loss: 0.6536 - acc: 0.6952 - val_loss: 0.6386 - val_acc: 0.6000\n",
      "Epoch 488/1000\n",
      "105/105 [==============================] - 0s 98us/step - loss: 0.6525 - acc: 0.6952 - val_loss: 0.6369 - val_acc: 0.6444\n",
      "Epoch 489/1000\n",
      "105/105 [==============================] - 0s 98us/step - loss: 0.6516 - acc: 0.6952 - val_loss: 0.6369 - val_acc: 0.6000\n",
      "Epoch 490/1000\n",
      "105/105 [==============================] - 0s 109us/step - loss: 0.6507 - acc: 0.6952 - val_loss: 0.6358 - val_acc: 0.6000\n",
      "Epoch 491/1000\n",
      "105/105 [==============================] - 0s 99us/step - loss: 0.6496 - acc: 0.6952 - val_loss: 0.6348 - val_acc: 0.6222\n",
      "Epoch 492/1000\n",
      "105/105 [==============================] - 0s 98us/step - loss: 0.6487 - acc: 0.6952 - val_loss: 0.6346 - val_acc: 0.6000\n",
      "Epoch 493/1000\n",
      "105/105 [==============================] - 0s 98us/step - loss: 0.6478 - acc: 0.6952 - val_loss: 0.6339 - val_acc: 0.6000\n",
      "Epoch 494/1000\n",
      "105/105 [==============================] - 0s 105us/step - loss: 0.6471 - acc: 0.6952 - val_loss: 0.6318 - val_acc: 0.6222\n",
      "Epoch 495/1000\n",
      "105/105 [==============================] - 0s 106us/step - loss: 0.6460 - acc: 0.6952 - val_loss: 0.6310 - val_acc: 0.6000\n",
      "Epoch 496/1000\n",
      "105/105 [==============================] - 0s 106us/step - loss: 0.6450 - acc: 0.6952 - val_loss: 0.6312 - val_acc: 0.6000\n",
      "Epoch 497/1000\n",
      "105/105 [==============================] - 0s 110us/step - loss: 0.6442 - acc: 0.6952 - val_loss: 0.6308 - val_acc: 0.6000\n",
      "Epoch 498/1000\n",
      "105/105 [==============================] - 0s 98us/step - loss: 0.6434 - acc: 0.6952 - val_loss: 0.6304 - val_acc: 0.6000\n",
      "Epoch 499/1000\n",
      "105/105 [==============================] - 0s 98us/step - loss: 0.6425 - acc: 0.6952 - val_loss: 0.6292 - val_acc: 0.6000\n",
      "Epoch 500/1000\n",
      "105/105 [==============================] - 0s 90us/step - loss: 0.6417 - acc: 0.6952 - val_loss: 0.6291 - val_acc: 0.6000\n",
      "Epoch 501/1000\n",
      "105/105 [==============================] - 0s 127us/step - loss: 0.6408 - acc: 0.6952 - val_loss: 0.6289 - val_acc: 0.6000\n",
      "Epoch 502/1000\n",
      "105/105 [==============================] - 0s 98us/step - loss: 0.6397 - acc: 0.6952 - val_loss: 0.6277 - val_acc: 0.6000\n",
      "Epoch 503/1000\n",
      "105/105 [==============================] - 0s 97us/step - loss: 0.6390 - acc: 0.6952 - val_loss: 0.6269 - val_acc: 0.6000\n",
      "Epoch 504/1000\n",
      "105/105 [==============================] - 0s 101us/step - loss: 0.6382 - acc: 0.6952 - val_loss: 0.6264 - val_acc: 0.6000\n",
      "Epoch 505/1000\n",
      "105/105 [==============================] - 0s 92us/step - loss: 0.6374 - acc: 0.6952 - val_loss: 0.6255 - val_acc: 0.6000\n",
      "Epoch 506/1000\n",
      "105/105 [==============================] - 0s 100us/step - loss: 0.6363 - acc: 0.6952 - val_loss: 0.6245 - val_acc: 0.6000\n",
      "Epoch 507/1000\n",
      "105/105 [==============================] - 0s 98us/step - loss: 0.6356 - acc: 0.6952 - val_loss: 0.6230 - val_acc: 0.6000\n",
      "Epoch 508/1000\n",
      "105/105 [==============================] - 0s 103us/step - loss: 0.6347 - acc: 0.6952 - val_loss: 0.6218 - val_acc: 0.6000\n",
      "Epoch 509/1000\n",
      "105/105 [==============================] - 0s 112us/step - loss: 0.6338 - acc: 0.6952 - val_loss: 0.6207 - val_acc: 0.6000\n",
      "Epoch 510/1000\n",
      "105/105 [==============================] - 0s 98us/step - loss: 0.6330 - acc: 0.6952 - val_loss: 0.6185 - val_acc: 0.6000\n",
      "Epoch 511/1000\n",
      "105/105 [==============================] - 0s 102us/step - loss: 0.6322 - acc: 0.6952 - val_loss: 0.6185 - val_acc: 0.6000\n",
      "Epoch 512/1000\n",
      "105/105 [==============================] - 0s 84us/step - loss: 0.6313 - acc: 0.6952 - val_loss: 0.6173 - val_acc: 0.6000\n",
      "Epoch 513/1000\n",
      "105/105 [==============================] - 0s 106us/step - loss: 0.6304 - acc: 0.6952 - val_loss: 0.6162 - val_acc: 0.6000\n",
      "Epoch 514/1000\n",
      "105/105 [==============================] - 0s 98us/step - loss: 0.6297 - acc: 0.6952 - val_loss: 0.6158 - val_acc: 0.6000\n",
      "Epoch 515/1000\n",
      "105/105 [==============================] - 0s 88us/step - loss: 0.6287 - acc: 0.6952 - val_loss: 0.6161 - val_acc: 0.6000\n",
      "Epoch 516/1000\n",
      "105/105 [==============================] - 0s 110us/step - loss: 0.6280 - acc: 0.6952 - val_loss: 0.6153 - val_acc: 0.6000\n",
      "Epoch 517/1000\n",
      "105/105 [==============================] - 0s 86us/step - loss: 0.6272 - acc: 0.6952 - val_loss: 0.6144 - val_acc: 0.6000\n",
      "Epoch 518/1000\n",
      "105/105 [==============================] - 0s 98us/step - loss: 0.6263 - acc: 0.6952 - val_loss: 0.6137 - val_acc: 0.6000\n",
      "Epoch 519/1000\n",
      "105/105 [==============================] - 0s 113us/step - loss: 0.6256 - acc: 0.6952 - val_loss: 0.6118 - val_acc: 0.6000\n",
      "Epoch 520/1000\n",
      "105/105 [==============================] - 0s 86us/step - loss: 0.6247 - acc: 0.6952 - val_loss: 0.6105 - val_acc: 0.6000\n",
      "Epoch 521/1000\n",
      "105/105 [==============================] - 0s 123us/step - loss: 0.6240 - acc: 0.6952 - val_loss: 0.6100 - val_acc: 0.6000\n",
      "Epoch 522/1000\n",
      "105/105 [==============================] - 0s 111us/step - loss: 0.6231 - acc: 0.6952 - val_loss: 0.6094 - val_acc: 0.6000\n",
      "Epoch 523/1000\n",
      "105/105 [==============================] - 0s 96us/step - loss: 0.6224 - acc: 0.6952 - val_loss: 0.6081 - val_acc: 0.6000\n",
      "Epoch 524/1000\n",
      "105/105 [==============================] - 0s 95us/step - loss: 0.6218 - acc: 0.6952 - val_loss: 0.6068 - val_acc: 0.6000\n",
      "Epoch 525/1000\n",
      "105/105 [==============================] - 0s 103us/step - loss: 0.6210 - acc: 0.6952 - val_loss: 0.6053 - val_acc: 0.6222\n",
      "Epoch 526/1000\n",
      "105/105 [==============================] - 0s 101us/step - loss: 0.6200 - acc: 0.6952 - val_loss: 0.6044 - val_acc: 0.6222\n",
      "Epoch 527/1000\n",
      "105/105 [==============================] - 0s 97us/step - loss: 0.6193 - acc: 0.6952 - val_loss: 0.6031 - val_acc: 0.6444\n",
      "Epoch 528/1000\n",
      "105/105 [==============================] - 0s 86us/step - loss: 0.6186 - acc: 0.6952 - val_loss: 0.6019 - val_acc: 0.6667\n",
      "Epoch 529/1000\n",
      "105/105 [==============================] - 0s 96us/step - loss: 0.6178 - acc: 0.7238 - val_loss: 0.6019 - val_acc: 0.6444\n",
      "Epoch 530/1000\n",
      "105/105 [==============================] - 0s 107us/step - loss: 0.6175 - acc: 0.7048 - val_loss: 0.6015 - val_acc: 0.6222\n",
      "Epoch 531/1000\n",
      "105/105 [==============================] - 0s 103us/step - loss: 0.6164 - acc: 0.6952 - val_loss: 0.6019 - val_acc: 0.6000\n",
      "Epoch 532/1000\n",
      "105/105 [==============================] - 0s 94us/step - loss: 0.6157 - acc: 0.6952 - val_loss: 0.6016 - val_acc: 0.6000\n",
      "Epoch 533/1000\n",
      "105/105 [==============================] - 0s 117us/step - loss: 0.6147 - acc: 0.6952 - val_loss: 0.6001 - val_acc: 0.6000\n",
      "Epoch 534/1000\n",
      "105/105 [==============================] - 0s 106us/step - loss: 0.6142 - acc: 0.6952 - val_loss: 0.6002 - val_acc: 0.6000\n",
      "Epoch 535/1000\n",
      "105/105 [==============================] - 0s 107us/step - loss: 0.6133 - acc: 0.6952 - val_loss: 0.5993 - val_acc: 0.6000\n",
      "Epoch 536/1000\n",
      "105/105 [==============================] - 0s 89us/step - loss: 0.6125 - acc: 0.6952 - val_loss: 0.5993 - val_acc: 0.6000\n",
      "Epoch 537/1000\n",
      "105/105 [==============================] - 0s 84us/step - loss: 0.6118 - acc: 0.6952 - val_loss: 0.5978 - val_acc: 0.6000\n",
      "Epoch 538/1000\n",
      "105/105 [==============================] - 0s 100us/step - loss: 0.6111 - acc: 0.6952 - val_loss: 0.5980 - val_acc: 0.6000\n",
      "Epoch 539/1000\n",
      "105/105 [==============================] - 0s 123us/step - loss: 0.6104 - acc: 0.6952 - val_loss: 0.5980 - val_acc: 0.6000\n",
      "Epoch 540/1000\n",
      "105/105 [==============================] - 0s 96us/step - loss: 0.6097 - acc: 0.6952 - val_loss: 0.5974 - val_acc: 0.6000\n",
      "Epoch 541/1000\n",
      "105/105 [==============================] - 0s 104us/step - loss: 0.6093 - acc: 0.6952 - val_loss: 0.5976 - val_acc: 0.6000\n",
      "Epoch 542/1000\n",
      "105/105 [==============================] - 0s 75us/step - loss: 0.6084 - acc: 0.6952 - val_loss: 0.5963 - val_acc: 0.6000\n",
      "Epoch 543/1000\n",
      "105/105 [==============================] - 0s 99us/step - loss: 0.6077 - acc: 0.6952 - val_loss: 0.5966 - val_acc: 0.6000\n",
      "Epoch 544/1000\n",
      "105/105 [==============================] - 0s 97us/step - loss: 0.6069 - acc: 0.6952 - val_loss: 0.5960 - val_acc: 0.6000\n",
      "Epoch 545/1000\n",
      "105/105 [==============================] - 0s 96us/step - loss: 0.6062 - acc: 0.6952 - val_loss: 0.5943 - val_acc: 0.6000\n",
      "Epoch 546/1000\n",
      "105/105 [==============================] - 0s 92us/step - loss: 0.6056 - acc: 0.6952 - val_loss: 0.5939 - val_acc: 0.6000\n",
      "Epoch 547/1000\n",
      "105/105 [==============================] - 0s 95us/step - loss: 0.6047 - acc: 0.6952 - val_loss: 0.5931 - val_acc: 0.6000\n",
      "Epoch 548/1000\n",
      "105/105 [==============================] - 0s 108us/step - loss: 0.6042 - acc: 0.6952 - val_loss: 0.5929 - val_acc: 0.6000\n",
      "Epoch 549/1000\n",
      "105/105 [==============================] - 0s 86us/step - loss: 0.6034 - acc: 0.6952 - val_loss: 0.5919 - val_acc: 0.6000\n",
      "Epoch 550/1000\n",
      "105/105 [==============================] - 0s 136us/step - loss: 0.6028 - acc: 0.6952 - val_loss: 0.5919 - val_acc: 0.6000\n",
      "Epoch 551/1000\n",
      "105/105 [==============================] - 0s 70us/step - loss: 0.6023 - acc: 0.6952 - val_loss: 0.5929 - val_acc: 0.6000\n",
      "Epoch 552/1000\n",
      "105/105 [==============================] - 0s 70us/step - loss: 0.6016 - acc: 0.6952 - val_loss: 0.5910 - val_acc: 0.6000\n",
      "Epoch 553/1000\n",
      "105/105 [==============================] - 0s 79us/step - loss: 0.6009 - acc: 0.6952 - val_loss: 0.5904 - val_acc: 0.6000\n",
      "Epoch 554/1000\n",
      "105/105 [==============================] - 0s 98us/step - loss: 0.6001 - acc: 0.6952 - val_loss: 0.5891 - val_acc: 0.6000\n",
      "Epoch 555/1000\n",
      "105/105 [==============================] - 0s 113us/step - loss: 0.5996 - acc: 0.6952 - val_loss: 0.5878 - val_acc: 0.6000\n",
      "Epoch 556/1000\n",
      "105/105 [==============================] - 0s 128us/step - loss: 0.5989 - acc: 0.6952 - val_loss: 0.5867 - val_acc: 0.6000\n",
      "Epoch 557/1000\n",
      "105/105 [==============================] - 0s 104us/step - loss: 0.5982 - acc: 0.6952 - val_loss: 0.5857 - val_acc: 0.6000\n",
      "Epoch 558/1000\n",
      "105/105 [==============================] - 0s 100us/step - loss: 0.5977 - acc: 0.6952 - val_loss: 0.5847 - val_acc: 0.6000\n",
      "Epoch 559/1000\n",
      "105/105 [==============================] - 0s 96us/step - loss: 0.5968 - acc: 0.6952 - val_loss: 0.5841 - val_acc: 0.6000\n",
      "Epoch 560/1000\n",
      "105/105 [==============================] - 0s 117us/step - loss: 0.5962 - acc: 0.6952 - val_loss: 0.5838 - val_acc: 0.6000\n",
      "Epoch 561/1000\n",
      "105/105 [==============================] - 0s 87us/step - loss: 0.5956 - acc: 0.6952 - val_loss: 0.5826 - val_acc: 0.6000\n",
      "Epoch 562/1000\n",
      "105/105 [==============================] - 0s 71us/step - loss: 0.5949 - acc: 0.6952 - val_loss: 0.5829 - val_acc: 0.6000\n",
      "Epoch 563/1000\n",
      "105/105 [==============================] - 0s 94us/step - loss: 0.5942 - acc: 0.6952 - val_loss: 0.5825 - val_acc: 0.6000\n",
      "Epoch 564/1000\n",
      "105/105 [==============================] - 0s 97us/step - loss: 0.5938 - acc: 0.6952 - val_loss: 0.5825 - val_acc: 0.6000\n",
      "Epoch 565/1000\n",
      "105/105 [==============================] - 0s 91us/step - loss: 0.5932 - acc: 0.6952 - val_loss: 0.5824 - val_acc: 0.6000\n",
      "Epoch 566/1000\n",
      "105/105 [==============================] - 0s 98us/step - loss: 0.5924 - acc: 0.6952 - val_loss: 0.5822 - val_acc: 0.6000\n",
      "Epoch 567/1000\n",
      "105/105 [==============================] - 0s 107us/step - loss: 0.5919 - acc: 0.6952 - val_loss: 0.5819 - val_acc: 0.6000\n",
      "Epoch 568/1000\n",
      "105/105 [==============================] - 0s 102us/step - loss: 0.5912 - acc: 0.6952 - val_loss: 0.5807 - val_acc: 0.6000\n",
      "Epoch 569/1000\n",
      "105/105 [==============================] - 0s 82us/step - loss: 0.5906 - acc: 0.6952 - val_loss: 0.5792 - val_acc: 0.6000\n",
      "Epoch 570/1000\n",
      "105/105 [==============================] - 0s 89us/step - loss: 0.5901 - acc: 0.6952 - val_loss: 0.5783 - val_acc: 0.6000\n",
      "Epoch 571/1000\n",
      "105/105 [==============================] - 0s 93us/step - loss: 0.5895 - acc: 0.6952 - val_loss: 0.5790 - val_acc: 0.6000\n",
      "Epoch 572/1000\n",
      "105/105 [==============================] - 0s 106us/step - loss: 0.5888 - acc: 0.6952 - val_loss: 0.5784 - val_acc: 0.6000\n",
      "Epoch 573/1000\n",
      "105/105 [==============================] - 0s 102us/step - loss: 0.5881 - acc: 0.6952 - val_loss: 0.5781 - val_acc: 0.6000\n",
      "Epoch 574/1000\n",
      "105/105 [==============================] - 0s 99us/step - loss: 0.5876 - acc: 0.6952 - val_loss: 0.5762 - val_acc: 0.6000\n",
      "Epoch 575/1000\n",
      "105/105 [==============================] - 0s 114us/step - loss: 0.5871 - acc: 0.6952 - val_loss: 0.5747 - val_acc: 0.6000\n",
      "Epoch 576/1000\n",
      "105/105 [==============================] - 0s 93us/step - loss: 0.5866 - acc: 0.6952 - val_loss: 0.5730 - val_acc: 0.6000\n",
      "Epoch 577/1000\n",
      "105/105 [==============================] - 0s 101us/step - loss: 0.5858 - acc: 0.6952 - val_loss: 0.5719 - val_acc: 0.6000\n",
      "Epoch 578/1000\n",
      "105/105 [==============================] - 0s 102us/step - loss: 0.5852 - acc: 0.6952 - val_loss: 0.5706 - val_acc: 0.6000\n",
      "Epoch 579/1000\n",
      "105/105 [==============================] - 0s 120us/step - loss: 0.5846 - acc: 0.6952 - val_loss: 0.5700 - val_acc: 0.6000\n",
      "Epoch 580/1000\n",
      "105/105 [==============================] - 0s 104us/step - loss: 0.5840 - acc: 0.6952 - val_loss: 0.5691 - val_acc: 0.6222\n",
      "Epoch 581/1000\n",
      "105/105 [==============================] - 0s 88us/step - loss: 0.5835 - acc: 0.6952 - val_loss: 0.5686 - val_acc: 0.6222\n",
      "Epoch 582/1000\n",
      "105/105 [==============================] - 0s 97us/step - loss: 0.5830 - acc: 0.6952 - val_loss: 0.5692 - val_acc: 0.6000\n",
      "Epoch 583/1000\n",
      "105/105 [==============================] - 0s 95us/step - loss: 0.5824 - acc: 0.6952 - val_loss: 0.5675 - val_acc: 0.6222\n",
      "Epoch 584/1000\n",
      "105/105 [==============================] - 0s 89us/step - loss: 0.5818 - acc: 0.6952 - val_loss: 0.5675 - val_acc: 0.6000\n",
      "Epoch 585/1000\n",
      "105/105 [==============================] - 0s 80us/step - loss: 0.5813 - acc: 0.6952 - val_loss: 0.5675 - val_acc: 0.6000\n",
      "Epoch 586/1000\n",
      "105/105 [==============================] - 0s 96us/step - loss: 0.5808 - acc: 0.6952 - val_loss: 0.5670 - val_acc: 0.6000\n",
      "Epoch 587/1000\n",
      "105/105 [==============================] - 0s 101us/step - loss: 0.5801 - acc: 0.6952 - val_loss: 0.5670 - val_acc: 0.6000\n",
      "Epoch 588/1000\n",
      "105/105 [==============================] - 0s 99us/step - loss: 0.5796 - acc: 0.6952 - val_loss: 0.5669 - val_acc: 0.6000\n",
      "Epoch 589/1000\n",
      "105/105 [==============================] - 0s 114us/step - loss: 0.5790 - acc: 0.6952 - val_loss: 0.5667 - val_acc: 0.6000\n",
      "Epoch 590/1000\n",
      "105/105 [==============================] - 0s 118us/step - loss: 0.5785 - acc: 0.6952 - val_loss: 0.5656 - val_acc: 0.6000\n",
      "Epoch 591/1000\n",
      "105/105 [==============================] - 0s 111us/step - loss: 0.5779 - acc: 0.6952 - val_loss: 0.5649 - val_acc: 0.6000\n",
      "Epoch 592/1000\n",
      "105/105 [==============================] - 0s 87us/step - loss: 0.5775 - acc: 0.6952 - val_loss: 0.5645 - val_acc: 0.6000\n",
      "Epoch 593/1000\n",
      "105/105 [==============================] - 0s 97us/step - loss: 0.5771 - acc: 0.6952 - val_loss: 0.5635 - val_acc: 0.6000\n",
      "Epoch 594/1000\n",
      "105/105 [==============================] - 0s 87us/step - loss: 0.5764 - acc: 0.6952 - val_loss: 0.5625 - val_acc: 0.6000\n",
      "Epoch 595/1000\n",
      "105/105 [==============================] - 0s 101us/step - loss: 0.5759 - acc: 0.6952 - val_loss: 0.5616 - val_acc: 0.6000\n",
      "Epoch 596/1000\n",
      "105/105 [==============================] - 0s 92us/step - loss: 0.5754 - acc: 0.6952 - val_loss: 0.5609 - val_acc: 0.6000\n",
      "Epoch 597/1000\n",
      "105/105 [==============================] - 0s 84us/step - loss: 0.5748 - acc: 0.6952 - val_loss: 0.5609 - val_acc: 0.6000\n",
      "Epoch 598/1000\n",
      "105/105 [==============================] - 0s 96us/step - loss: 0.5742 - acc: 0.6952 - val_loss: 0.5608 - val_acc: 0.6000\n",
      "Epoch 599/1000\n",
      "105/105 [==============================] - 0s 91us/step - loss: 0.5738 - acc: 0.6952 - val_loss: 0.5602 - val_acc: 0.6000\n",
      "Epoch 600/1000\n",
      "105/105 [==============================] - 0s 83us/step - loss: 0.5733 - acc: 0.6952 - val_loss: 0.5599 - val_acc: 0.6000\n",
      "Epoch 601/1000\n",
      "105/105 [==============================] - 0s 88us/step - loss: 0.5730 - acc: 0.6952 - val_loss: 0.5586 - val_acc: 0.6000\n",
      "Epoch 602/1000\n",
      "105/105 [==============================] - 0s 97us/step - loss: 0.5724 - acc: 0.6952 - val_loss: 0.5568 - val_acc: 0.6444\n",
      "Epoch 603/1000\n",
      "105/105 [==============================] - 0s 98us/step - loss: 0.5718 - acc: 0.6952 - val_loss: 0.5578 - val_acc: 0.6000\n",
      "Epoch 604/1000\n",
      "105/105 [==============================] - 0s 100us/step - loss: 0.5712 - acc: 0.6952 - val_loss: 0.5577 - val_acc: 0.6000\n",
      "Epoch 605/1000\n",
      "105/105 [==============================] - 0s 106us/step - loss: 0.5708 - acc: 0.6952 - val_loss: 0.5570 - val_acc: 0.6000\n",
      "Epoch 606/1000\n",
      "105/105 [==============================] - 0s 93us/step - loss: 0.5704 - acc: 0.6952 - val_loss: 0.5563 - val_acc: 0.6000\n",
      "Epoch 607/1000\n",
      "105/105 [==============================] - 0s 107us/step - loss: 0.5697 - acc: 0.6952 - val_loss: 0.5553 - val_acc: 0.6222\n",
      "Epoch 608/1000\n",
      "105/105 [==============================] - 0s 96us/step - loss: 0.5694 - acc: 0.6952 - val_loss: 0.5559 - val_acc: 0.6000\n",
      "Epoch 609/1000\n",
      "105/105 [==============================] - 0s 88us/step - loss: 0.5687 - acc: 0.6952 - val_loss: 0.5550 - val_acc: 0.6000\n",
      "Epoch 610/1000\n",
      "105/105 [==============================] - 0s 100us/step - loss: 0.5682 - acc: 0.6952 - val_loss: 0.5540 - val_acc: 0.6000\n",
      "Epoch 611/1000\n",
      "105/105 [==============================] - 0s 104us/step - loss: 0.5679 - acc: 0.6952 - val_loss: 0.5523 - val_acc: 0.6444\n",
      "Epoch 612/1000\n",
      "105/105 [==============================] - 0s 122us/step - loss: 0.5673 - acc: 0.7048 - val_loss: 0.5518 - val_acc: 0.6444\n",
      "Epoch 613/1000\n",
      "105/105 [==============================] - 0s 112us/step - loss: 0.5669 - acc: 0.7048 - val_loss: 0.5519 - val_acc: 0.6222\n",
      "Epoch 614/1000\n",
      "105/105 [==============================] - 0s 118us/step - loss: 0.5664 - acc: 0.6952 - val_loss: 0.5505 - val_acc: 0.6667\n",
      "Epoch 615/1000\n",
      "105/105 [==============================] - 0s 113us/step - loss: 0.5660 - acc: 0.7524 - val_loss: 0.5496 - val_acc: 0.6667\n",
      "Epoch 616/1000\n",
      "105/105 [==============================] - 0s 113us/step - loss: 0.5655 - acc: 0.7524 - val_loss: 0.5488 - val_acc: 0.7111\n",
      "Epoch 617/1000\n",
      "105/105 [==============================] - 0s 114us/step - loss: 0.5650 - acc: 0.7524 - val_loss: 0.5475 - val_acc: 0.8000\n",
      "Epoch 618/1000\n",
      "105/105 [==============================] - 0s 101us/step - loss: 0.5647 - acc: 0.8000 - val_loss: 0.5468 - val_acc: 0.8222\n",
      "Epoch 619/1000\n",
      "105/105 [==============================] - 0s 97us/step - loss: 0.5647 - acc: 0.8190 - val_loss: 0.5463 - val_acc: 0.8222\n",
      "Epoch 620/1000\n",
      "105/105 [==============================] - 0s 121us/step - loss: 0.5638 - acc: 0.8190 - val_loss: 0.5458 - val_acc: 0.8444\n",
      "Epoch 621/1000\n",
      "105/105 [==============================] - 0s 113us/step - loss: 0.5634 - acc: 0.8381 - val_loss: 0.5465 - val_acc: 0.7333\n",
      "Epoch 622/1000\n",
      "105/105 [==============================] - 0s 95us/step - loss: 0.5627 - acc: 0.8000 - val_loss: 0.5464 - val_acc: 0.6667\n",
      "Epoch 623/1000\n",
      "105/105 [==============================] - 0s 185us/step - loss: 0.5624 - acc: 0.7524 - val_loss: 0.5461 - val_acc: 0.6667\n",
      "Epoch 624/1000\n",
      "105/105 [==============================] - 0s 105us/step - loss: 0.5617 - acc: 0.7143 - val_loss: 0.5457 - val_acc: 0.6667\n",
      "Epoch 625/1000\n",
      "105/105 [==============================] - 0s 87us/step - loss: 0.5617 - acc: 0.7048 - val_loss: 0.5448 - val_acc: 0.6889\n",
      "Epoch 626/1000\n",
      "105/105 [==============================] - 0s 83us/step - loss: 0.5609 - acc: 0.7524 - val_loss: 0.5443 - val_acc: 0.6889\n",
      "Epoch 627/1000\n",
      "105/105 [==============================] - 0s 92us/step - loss: 0.5604 - acc: 0.7905 - val_loss: 0.5444 - val_acc: 0.6667\n",
      "Epoch 628/1000\n",
      "105/105 [==============================] - 0s 113us/step - loss: 0.5601 - acc: 0.7238 - val_loss: 0.5447 - val_acc: 0.6444\n",
      "Epoch 629/1000\n",
      "105/105 [==============================] - 0s 130us/step - loss: 0.5597 - acc: 0.6952 - val_loss: 0.5442 - val_acc: 0.6444\n",
      "Epoch 630/1000\n",
      "105/105 [==============================] - 0s 99us/step - loss: 0.5591 - acc: 0.7143 - val_loss: 0.5425 - val_acc: 0.6889\n",
      "Epoch 631/1000\n",
      "105/105 [==============================] - 0s 98us/step - loss: 0.5586 - acc: 0.7333 - val_loss: 0.5415 - val_acc: 0.7556\n",
      "Epoch 632/1000\n",
      "105/105 [==============================] - 0s 100us/step - loss: 0.5584 - acc: 0.8095 - val_loss: 0.5410 - val_acc: 0.7778\n",
      "Epoch 633/1000\n",
      "105/105 [==============================] - 0s 94us/step - loss: 0.5582 - acc: 0.7714 - val_loss: 0.5405 - val_acc: 0.7778\n",
      "Epoch 634/1000\n",
      "105/105 [==============================] - 0s 92us/step - loss: 0.5573 - acc: 0.8000 - val_loss: 0.5398 - val_acc: 0.8000\n",
      "Epoch 635/1000\n",
      "105/105 [==============================] - 0s 89us/step - loss: 0.5569 - acc: 0.8095 - val_loss: 0.5405 - val_acc: 0.6667\n",
      "Epoch 636/1000\n",
      "105/105 [==============================] - 0s 90us/step - loss: 0.5565 - acc: 0.7238 - val_loss: 0.5406 - val_acc: 0.6444\n",
      "Epoch 637/1000\n",
      "105/105 [==============================] - 0s 125us/step - loss: 0.5560 - acc: 0.7143 - val_loss: 0.5402 - val_acc: 0.6667\n",
      "Epoch 638/1000\n",
      "105/105 [==============================] - 0s 91us/step - loss: 0.5556 - acc: 0.7143 - val_loss: 0.5388 - val_acc: 0.7556\n",
      "Epoch 639/1000\n",
      "105/105 [==============================] - 0s 94us/step - loss: 0.5555 - acc: 0.8000 - val_loss: 0.5375 - val_acc: 0.8000\n",
      "Epoch 640/1000\n",
      "105/105 [==============================] - 0s 97us/step - loss: 0.5549 - acc: 0.8381 - val_loss: 0.5382 - val_acc: 0.6889\n",
      "Epoch 641/1000\n",
      "105/105 [==============================] - 0s 96us/step - loss: 0.5543 - acc: 0.7619 - val_loss: 0.5371 - val_acc: 0.7778\n",
      "Epoch 642/1000\n",
      "105/105 [==============================] - 0s 96us/step - loss: 0.5541 - acc: 0.8000 - val_loss: 0.5375 - val_acc: 0.6667\n",
      "Epoch 643/1000\n",
      "105/105 [==============================] - 0s 85us/step - loss: 0.5534 - acc: 0.7238 - val_loss: 0.5368 - val_acc: 0.7111\n",
      "Epoch 644/1000\n",
      "105/105 [==============================] - 0s 84us/step - loss: 0.5531 - acc: 0.7714 - val_loss: 0.5360 - val_acc: 0.7556\n",
      "Epoch 645/1000\n",
      "105/105 [==============================] - 0s 106us/step - loss: 0.5526 - acc: 0.7905 - val_loss: 0.5347 - val_acc: 0.8222\n",
      "Epoch 646/1000\n",
      "105/105 [==============================] - 0s 121us/step - loss: 0.5523 - acc: 0.8095 - val_loss: 0.5344 - val_acc: 0.8222\n",
      "Epoch 647/1000\n",
      "105/105 [==============================] - 0s 96us/step - loss: 0.5519 - acc: 0.8476 - val_loss: 0.5346 - val_acc: 0.7778\n",
      "Epoch 648/1000\n",
      "105/105 [==============================] - 0s 93us/step - loss: 0.5514 - acc: 0.8000 - val_loss: 0.5339 - val_acc: 0.8000\n",
      "Epoch 649/1000\n",
      "105/105 [==============================] - 0s 83us/step - loss: 0.5512 - acc: 0.8000 - val_loss: 0.5343 - val_acc: 0.7333\n",
      "Epoch 650/1000\n",
      "105/105 [==============================] - 0s 82us/step - loss: 0.5507 - acc: 0.7143 - val_loss: 0.5336 - val_acc: 0.7778\n",
      "Epoch 651/1000\n",
      "105/105 [==============================] - 0s 136us/step - loss: 0.5502 - acc: 0.7905 - val_loss: 0.5337 - val_acc: 0.6889\n",
      "Epoch 652/1000\n",
      "105/105 [==============================] - 0s 94us/step - loss: 0.5497 - acc: 0.7524 - val_loss: 0.5330 - val_acc: 0.7556\n",
      "Epoch 653/1000\n",
      "105/105 [==============================] - 0s 82us/step - loss: 0.5493 - acc: 0.8000 - val_loss: 0.5326 - val_acc: 0.7556\n",
      "Epoch 654/1000\n",
      "105/105 [==============================] - 0s 86us/step - loss: 0.5490 - acc: 0.8095 - val_loss: 0.5333 - val_acc: 0.6667\n",
      "Epoch 655/1000\n",
      "105/105 [==============================] - 0s 102us/step - loss: 0.5486 - acc: 0.7143 - val_loss: 0.5316 - val_acc: 0.7778\n",
      "Epoch 656/1000\n",
      "105/105 [==============================] - 0s 90us/step - loss: 0.5482 - acc: 0.8095 - val_loss: 0.5318 - val_acc: 0.7333\n",
      "Epoch 657/1000\n",
      "105/105 [==============================] - 0s 100us/step - loss: 0.5477 - acc: 0.7714 - val_loss: 0.5314 - val_acc: 0.7556\n",
      "Epoch 658/1000\n",
      "105/105 [==============================] - 0s 87us/step - loss: 0.5473 - acc: 0.8000 - val_loss: 0.5313 - val_acc: 0.6889\n",
      "Epoch 659/1000\n",
      "105/105 [==============================] - 0s 94us/step - loss: 0.5469 - acc: 0.7810 - val_loss: 0.5313 - val_acc: 0.6667\n",
      "Epoch 660/1000\n",
      "105/105 [==============================] - 0s 92us/step - loss: 0.5468 - acc: 0.7143 - val_loss: 0.5289 - val_acc: 0.8444\n",
      "Epoch 661/1000\n",
      "105/105 [==============================] - 0s 83us/step - loss: 0.5463 - acc: 0.8571 - val_loss: 0.5296 - val_acc: 0.7556\n",
      "Epoch 662/1000\n",
      "105/105 [==============================] - 0s 90us/step - loss: 0.5459 - acc: 0.7905 - val_loss: 0.5281 - val_acc: 0.8444\n",
      "Epoch 663/1000\n",
      "105/105 [==============================] - 0s 85us/step - loss: 0.5457 - acc: 0.8571 - val_loss: 0.5280 - val_acc: 0.8222\n",
      "Epoch 664/1000\n",
      "105/105 [==============================] - 0s 78us/step - loss: 0.5453 - acc: 0.8381 - val_loss: 0.5289 - val_acc: 0.7333\n",
      "Epoch 665/1000\n",
      "105/105 [==============================] - 0s 110us/step - loss: 0.5447 - acc: 0.8000 - val_loss: 0.5278 - val_acc: 0.7778\n",
      "Epoch 666/1000\n",
      "105/105 [==============================] - 0s 82us/step - loss: 0.5443 - acc: 0.8095 - val_loss: 0.5286 - val_acc: 0.6667\n",
      "Epoch 667/1000\n",
      "105/105 [==============================] - 0s 82us/step - loss: 0.5440 - acc: 0.7429 - val_loss: 0.5273 - val_acc: 0.7778\n",
      "Epoch 668/1000\n",
      "105/105 [==============================] - 0s 100us/step - loss: 0.5440 - acc: 0.8190 - val_loss: 0.5269 - val_acc: 0.7778\n",
      "Epoch 669/1000\n",
      "105/105 [==============================] - 0s 136us/step - loss: 0.5431 - acc: 0.8000 - val_loss: 0.5267 - val_acc: 0.7556\n",
      "Epoch 670/1000\n",
      "105/105 [==============================] - 0s 86us/step - loss: 0.5428 - acc: 0.8000 - val_loss: 0.5275 - val_acc: 0.6667\n",
      "Epoch 671/1000\n",
      "105/105 [==============================] - 0s 87us/step - loss: 0.5425 - acc: 0.7143 - val_loss: 0.5276 - val_acc: 0.6444\n",
      "Epoch 672/1000\n",
      "105/105 [==============================] - 0s 100us/step - loss: 0.5423 - acc: 0.7238 - val_loss: 0.5289 - val_acc: 0.6222\n",
      "Epoch 673/1000\n",
      "105/105 [==============================] - 0s 71us/step - loss: 0.5417 - acc: 0.6952 - val_loss: 0.5281 - val_acc: 0.6222\n",
      "Epoch 674/1000\n",
      "105/105 [==============================] - 0s 114us/step - loss: 0.5413 - acc: 0.6952 - val_loss: 0.5266 - val_acc: 0.6444\n",
      "Epoch 675/1000\n",
      "105/105 [==============================] - 0s 113us/step - loss: 0.5409 - acc: 0.7143 - val_loss: 0.5258 - val_acc: 0.6667\n",
      "Epoch 676/1000\n",
      "105/105 [==============================] - 0s 94us/step - loss: 0.5406 - acc: 0.7238 - val_loss: 0.5257 - val_acc: 0.6444\n",
      "Epoch 677/1000\n",
      "105/105 [==============================] - 0s 94us/step - loss: 0.5403 - acc: 0.7048 - val_loss: 0.5257 - val_acc: 0.6444\n",
      "Epoch 678/1000\n",
      "105/105 [==============================] - 0s 101us/step - loss: 0.5400 - acc: 0.6952 - val_loss: 0.5270 - val_acc: 0.6000\n",
      "Epoch 679/1000\n",
      "105/105 [==============================] - 0s 79us/step - loss: 0.5395 - acc: 0.6952 - val_loss: 0.5261 - val_acc: 0.6222\n",
      "Epoch 680/1000\n",
      "105/105 [==============================] - 0s 88us/step - loss: 0.5393 - acc: 0.7048 - val_loss: 0.5264 - val_acc: 0.6000\n",
      "Epoch 681/1000\n",
      "105/105 [==============================] - 0s 106us/step - loss: 0.5388 - acc: 0.6952 - val_loss: 0.5259 - val_acc: 0.6222\n",
      "Epoch 682/1000\n",
      "105/105 [==============================] - 0s 91us/step - loss: 0.5385 - acc: 0.6952 - val_loss: 0.5253 - val_acc: 0.6222\n",
      "Epoch 683/1000\n",
      "105/105 [==============================] - 0s 100us/step - loss: 0.5381 - acc: 0.6952 - val_loss: 0.5250 - val_acc: 0.6222\n",
      "Epoch 684/1000\n",
      "105/105 [==============================] - 0s 85us/step - loss: 0.5378 - acc: 0.6952 - val_loss: 0.5229 - val_acc: 0.6667\n",
      "Epoch 685/1000\n",
      "105/105 [==============================] - 0s 77us/step - loss: 0.5376 - acc: 0.7143 - val_loss: 0.5233 - val_acc: 0.6444\n",
      "Epoch 686/1000\n",
      "105/105 [==============================] - 0s 80us/step - loss: 0.5374 - acc: 0.6952 - val_loss: 0.5238 - val_acc: 0.6222\n",
      "Epoch 687/1000\n",
      "105/105 [==============================] - 0s 124us/step - loss: 0.5366 - acc: 0.6952 - val_loss: 0.5238 - val_acc: 0.6222\n",
      "Epoch 688/1000\n",
      "105/105 [==============================] - 0s 112us/step - loss: 0.5363 - acc: 0.6952 - val_loss: 0.5229 - val_acc: 0.6222\n",
      "Epoch 689/1000\n",
      "105/105 [==============================] - 0s 106us/step - loss: 0.5360 - acc: 0.6952 - val_loss: 0.5226 - val_acc: 0.6222\n",
      "Epoch 690/1000\n",
      "105/105 [==============================] - 0s 110us/step - loss: 0.5360 - acc: 0.6952 - val_loss: 0.5224 - val_acc: 0.6222\n",
      "Epoch 691/1000\n",
      "105/105 [==============================] - 0s 91us/step - loss: 0.5352 - acc: 0.6952 - val_loss: 0.5215 - val_acc: 0.6444\n",
      "Epoch 692/1000\n",
      "105/105 [==============================] - 0s 93us/step - loss: 0.5350 - acc: 0.6952 - val_loss: 0.5204 - val_acc: 0.6444\n",
      "Epoch 693/1000\n",
      "105/105 [==============================] - 0s 96us/step - loss: 0.5347 - acc: 0.7143 - val_loss: 0.5187 - val_acc: 0.7556\n",
      "Epoch 694/1000\n",
      "105/105 [==============================] - 0s 89us/step - loss: 0.5343 - acc: 0.8000 - val_loss: 0.5194 - val_acc: 0.6667\n",
      "Epoch 695/1000\n",
      "105/105 [==============================] - 0s 95us/step - loss: 0.5339 - acc: 0.7238 - val_loss: 0.5195 - val_acc: 0.6444\n",
      "Epoch 696/1000\n",
      "105/105 [==============================] - 0s 93us/step - loss: 0.5339 - acc: 0.7048 - val_loss: 0.5190 - val_acc: 0.6444\n",
      "Epoch 697/1000\n",
      "105/105 [==============================] - 0s 116us/step - loss: 0.5333 - acc: 0.7143 - val_loss: 0.5198 - val_acc: 0.6222\n",
      "Epoch 698/1000\n",
      "105/105 [==============================] - 0s 100us/step - loss: 0.5329 - acc: 0.6952 - val_loss: 0.5195 - val_acc: 0.6222\n",
      "Epoch 699/1000\n",
      "105/105 [==============================] - 0s 91us/step - loss: 0.5326 - acc: 0.6952 - val_loss: 0.5196 - val_acc: 0.6222\n",
      "Epoch 700/1000\n",
      "105/105 [==============================] - 0s 99us/step - loss: 0.5323 - acc: 0.6952 - val_loss: 0.5200 - val_acc: 0.6000\n",
      "Epoch 701/1000\n",
      "105/105 [==============================] - 0s 72us/step - loss: 0.5320 - acc: 0.6952 - val_loss: 0.5209 - val_acc: 0.6000\n",
      "Epoch 702/1000\n",
      "105/105 [==============================] - 0s 101us/step - loss: 0.5316 - acc: 0.6952 - val_loss: 0.5212 - val_acc: 0.6000\n",
      "Epoch 703/1000\n",
      "105/105 [==============================] - 0s 102us/step - loss: 0.5313 - acc: 0.6952 - val_loss: 0.5212 - val_acc: 0.6000\n",
      "Epoch 704/1000\n",
      "105/105 [==============================] - 0s 82us/step - loss: 0.5310 - acc: 0.6952 - val_loss: 0.5205 - val_acc: 0.6000\n",
      "Epoch 705/1000\n",
      "105/105 [==============================] - 0s 94us/step - loss: 0.5308 - acc: 0.6952 - val_loss: 0.5194 - val_acc: 0.6000\n",
      "Epoch 706/1000\n",
      "105/105 [==============================] - 0s 97us/step - loss: 0.5304 - acc: 0.6952 - val_loss: 0.5178 - val_acc: 0.6222\n",
      "Epoch 707/1000\n",
      "105/105 [==============================] - 0s 96us/step - loss: 0.5302 - acc: 0.6952 - val_loss: 0.5166 - val_acc: 0.6444\n",
      "Epoch 708/1000\n",
      "105/105 [==============================] - 0s 116us/step - loss: 0.5297 - acc: 0.6952 - val_loss: 0.5155 - val_acc: 0.6444\n",
      "Epoch 709/1000\n",
      "105/105 [==============================] - 0s 100us/step - loss: 0.5293 - acc: 0.7143 - val_loss: 0.5150 - val_acc: 0.6444\n",
      "Epoch 710/1000\n",
      "105/105 [==============================] - 0s 102us/step - loss: 0.5290 - acc: 0.7143 - val_loss: 0.5158 - val_acc: 0.6444\n",
      "Epoch 711/1000\n",
      "105/105 [==============================] - 0s 93us/step - loss: 0.5287 - acc: 0.6952 - val_loss: 0.5155 - val_acc: 0.6444\n",
      "Epoch 712/1000\n",
      "105/105 [==============================] - 0s 81us/step - loss: 0.5284 - acc: 0.6952 - val_loss: 0.5152 - val_acc: 0.6444\n",
      "Epoch 713/1000\n",
      "105/105 [==============================] - 0s 97us/step - loss: 0.5281 - acc: 0.6952 - val_loss: 0.5147 - val_acc: 0.6444\n",
      "Epoch 714/1000\n",
      "105/105 [==============================] - 0s 95us/step - loss: 0.5278 - acc: 0.7048 - val_loss: 0.5144 - val_acc: 0.6444\n",
      "Epoch 715/1000\n",
      "105/105 [==============================] - 0s 119us/step - loss: 0.5278 - acc: 0.6952 - val_loss: 0.5132 - val_acc: 0.6444\n",
      "Epoch 716/1000\n",
      "105/105 [==============================] - 0s 94us/step - loss: 0.5271 - acc: 0.7238 - val_loss: 0.5128 - val_acc: 0.6667\n",
      "Epoch 717/1000\n",
      "105/105 [==============================] - 0s 91us/step - loss: 0.5269 - acc: 0.7238 - val_loss: 0.5129 - val_acc: 0.6444\n",
      "Epoch 718/1000\n",
      "105/105 [==============================] - 0s 82us/step - loss: 0.5265 - acc: 0.7143 - val_loss: 0.5130 - val_acc: 0.6444\n",
      "Epoch 719/1000\n",
      "105/105 [==============================] - 0s 92us/step - loss: 0.5262 - acc: 0.7048 - val_loss: 0.5138 - val_acc: 0.6222\n",
      "Epoch 720/1000\n",
      "105/105 [==============================] - 0s 102us/step - loss: 0.5259 - acc: 0.6952 - val_loss: 0.5138 - val_acc: 0.6222\n",
      "Epoch 721/1000\n",
      "105/105 [==============================] - 0s 89us/step - loss: 0.5257 - acc: 0.6952 - val_loss: 0.5145 - val_acc: 0.6000\n",
      "Epoch 722/1000\n",
      "105/105 [==============================] - 0s 94us/step - loss: 0.5253 - acc: 0.6952 - val_loss: 0.5135 - val_acc: 0.6222\n",
      "Epoch 723/1000\n",
      "105/105 [==============================] - 0s 108us/step - loss: 0.5250 - acc: 0.6952 - val_loss: 0.5135 - val_acc: 0.6000\n",
      "Epoch 724/1000\n",
      "105/105 [==============================] - 0s 88us/step - loss: 0.5248 - acc: 0.6952 - val_loss: 0.5122 - val_acc: 0.6222\n",
      "Epoch 725/1000\n",
      "105/105 [==============================] - 0s 92us/step - loss: 0.5244 - acc: 0.6952 - val_loss: 0.5113 - val_acc: 0.6444\n",
      "Epoch 726/1000\n",
      "105/105 [==============================] - 0s 89us/step - loss: 0.5240 - acc: 0.6952 - val_loss: 0.5110 - val_acc: 0.6444\n",
      "Epoch 727/1000\n",
      "105/105 [==============================] - 0s 83us/step - loss: 0.5237 - acc: 0.6952 - val_loss: 0.5095 - val_acc: 0.6667\n",
      "Epoch 728/1000\n",
      "105/105 [==============================] - 0s 78us/step - loss: 0.5234 - acc: 0.7429 - val_loss: 0.5094 - val_acc: 0.6667\n",
      "Epoch 729/1000\n",
      "105/105 [==============================] - 0s 86us/step - loss: 0.5232 - acc: 0.7143 - val_loss: 0.5083 - val_acc: 0.7333\n",
      "Epoch 730/1000\n",
      "105/105 [==============================] - 0s 94us/step - loss: 0.5230 - acc: 0.7143 - val_loss: 0.5069 - val_acc: 0.8000\n",
      "Epoch 731/1000\n",
      "105/105 [==============================] - 0s 102us/step - loss: 0.5225 - acc: 0.8190 - val_loss: 0.5065 - val_acc: 0.8000\n",
      "Epoch 732/1000\n",
      "105/105 [==============================] - 0s 80us/step - loss: 0.5223 - acc: 0.8095 - val_loss: 0.5067 - val_acc: 0.7778\n",
      "Epoch 733/1000\n",
      "105/105 [==============================] - 0s 97us/step - loss: 0.5219 - acc: 0.8000 - val_loss: 0.5057 - val_acc: 0.8000\n",
      "Epoch 734/1000\n",
      "105/105 [==============================] - 0s 99us/step - loss: 0.5216 - acc: 0.8190 - val_loss: 0.5047 - val_acc: 0.8889\n",
      "Epoch 735/1000\n",
      "105/105 [==============================] - 0s 99us/step - loss: 0.5215 - acc: 0.8571 - val_loss: 0.5034 - val_acc: 0.9556\n",
      "Epoch 736/1000\n",
      "105/105 [==============================] - 0s 98us/step - loss: 0.5214 - acc: 0.9143 - val_loss: 0.5051 - val_acc: 0.8000\n",
      "Epoch 737/1000\n",
      "105/105 [==============================] - 0s 94us/step - loss: 0.5207 - acc: 0.8095 - val_loss: 0.5053 - val_acc: 0.7778\n",
      "Epoch 738/1000\n",
      "105/105 [==============================] - 0s 80us/step - loss: 0.5204 - acc: 0.8095 - val_loss: 0.5058 - val_acc: 0.7111\n",
      "Epoch 739/1000\n",
      "105/105 [==============================] - 0s 94us/step - loss: 0.5201 - acc: 0.7810 - val_loss: 0.5047 - val_acc: 0.7778\n",
      "Epoch 740/1000\n",
      "105/105 [==============================] - 0s 80us/step - loss: 0.5200 - acc: 0.7905 - val_loss: 0.5043 - val_acc: 0.7778\n",
      "Epoch 741/1000\n",
      "105/105 [==============================] - 0s 101us/step - loss: 0.5195 - acc: 0.8095 - val_loss: 0.5036 - val_acc: 0.8000\n",
      "Epoch 742/1000\n",
      "105/105 [==============================] - 0s 77us/step - loss: 0.5192 - acc: 0.8190 - val_loss: 0.5029 - val_acc: 0.8222\n",
      "Epoch 743/1000\n",
      "105/105 [==============================] - 0s 111us/step - loss: 0.5189 - acc: 0.8381 - val_loss: 0.5031 - val_acc: 0.8000\n",
      "Epoch 744/1000\n",
      "105/105 [==============================] - 0s 91us/step - loss: 0.5186 - acc: 0.8190 - val_loss: 0.5032 - val_acc: 0.8000\n",
      "Epoch 745/1000\n",
      "105/105 [==============================] - 0s 82us/step - loss: 0.5183 - acc: 0.8095 - val_loss: 0.5031 - val_acc: 0.7778\n",
      "Epoch 746/1000\n",
      "105/105 [==============================] - 0s 91us/step - loss: 0.5181 - acc: 0.8095 - val_loss: 0.5017 - val_acc: 0.8222\n",
      "Epoch 747/1000\n",
      "105/105 [==============================] - 0s 92us/step - loss: 0.5178 - acc: 0.8571 - val_loss: 0.5028 - val_acc: 0.7556\n",
      "Epoch 748/1000\n",
      "105/105 [==============================] - 0s 106us/step - loss: 0.5177 - acc: 0.7714 - val_loss: 0.5011 - val_acc: 0.8222\n",
      "Epoch 749/1000\n",
      "105/105 [==============================] - 0s 110us/step - loss: 0.5173 - acc: 0.8571 - val_loss: 0.5008 - val_acc: 0.8444\n",
      "Epoch 750/1000\n",
      "105/105 [==============================] - 0s 103us/step - loss: 0.5172 - acc: 0.8762 - val_loss: 0.5013 - val_acc: 0.8000\n",
      "Epoch 751/1000\n",
      "105/105 [==============================] - 0s 85us/step - loss: 0.5167 - acc: 0.8095 - val_loss: 0.5017 - val_acc: 0.7556\n",
      "Epoch 752/1000\n",
      "105/105 [==============================] - 0s 85us/step - loss: 0.5164 - acc: 0.8000 - val_loss: 0.5017 - val_acc: 0.7556\n",
      "Epoch 753/1000\n",
      "105/105 [==============================] - 0s 120us/step - loss: 0.5161 - acc: 0.7905 - val_loss: 0.5003 - val_acc: 0.8000\n",
      "Epoch 754/1000\n",
      "105/105 [==============================] - 0s 97us/step - loss: 0.5157 - acc: 0.8190 - val_loss: 0.5001 - val_acc: 0.8000\n",
      "Epoch 755/1000\n",
      "105/105 [==============================] - 0s 107us/step - loss: 0.5157 - acc: 0.8095 - val_loss: 0.5000 - val_acc: 0.8000\n",
      "Epoch 756/1000\n",
      "105/105 [==============================] - 0s 73us/step - loss: 0.5153 - acc: 0.8095 - val_loss: 0.5013 - val_acc: 0.6889\n",
      "Epoch 757/1000\n",
      "105/105 [==============================] - 0s 71us/step - loss: 0.5149 - acc: 0.7810 - val_loss: 0.5017 - val_acc: 0.6667\n",
      "Epoch 758/1000\n",
      "105/105 [==============================] - 0s 87us/step - loss: 0.5147 - acc: 0.7238 - val_loss: 0.5026 - val_acc: 0.6444\n",
      "Epoch 759/1000\n",
      "105/105 [==============================] - 0s 75us/step - loss: 0.5144 - acc: 0.7048 - val_loss: 0.5022 - val_acc: 0.6444\n",
      "Epoch 760/1000\n",
      "105/105 [==============================] - 0s 85us/step - loss: 0.5141 - acc: 0.6952 - val_loss: 0.5010 - val_acc: 0.6667\n",
      "Epoch 761/1000\n",
      "105/105 [==============================] - 0s 87us/step - loss: 0.5141 - acc: 0.7619 - val_loss: 0.5004 - val_acc: 0.6667\n",
      "Epoch 762/1000\n",
      "105/105 [==============================] - 0s 115us/step - loss: 0.5135 - acc: 0.7429 - val_loss: 0.4995 - val_acc: 0.7556\n",
      "Epoch 763/1000\n",
      "105/105 [==============================] - 0s 107us/step - loss: 0.5132 - acc: 0.7810 - val_loss: 0.4981 - val_acc: 0.8000\n",
      "Epoch 764/1000\n",
      "105/105 [==============================] - 0s 88us/step - loss: 0.5129 - acc: 0.8095 - val_loss: 0.4976 - val_acc: 0.8000\n",
      "Epoch 765/1000\n",
      "105/105 [==============================] - 0s 93us/step - loss: 0.5127 - acc: 0.8190 - val_loss: 0.4977 - val_acc: 0.8000\n",
      "Epoch 766/1000\n",
      "105/105 [==============================] - 0s 105us/step - loss: 0.5124 - acc: 0.8190 - val_loss: 0.4966 - val_acc: 0.8444\n",
      "Epoch 767/1000\n",
      "105/105 [==============================] - 0s 85us/step - loss: 0.5122 - acc: 0.8476 - val_loss: 0.4964 - val_acc: 0.8444\n",
      "Epoch 768/1000\n",
      "105/105 [==============================] - 0s 93us/step - loss: 0.5119 - acc: 0.8667 - val_loss: 0.4963 - val_acc: 0.8222\n",
      "Epoch 769/1000\n",
      "105/105 [==============================] - 0s 94us/step - loss: 0.5115 - acc: 0.8286 - val_loss: 0.4965 - val_acc: 0.8000\n",
      "Epoch 770/1000\n",
      "105/105 [==============================] - 0s 78us/step - loss: 0.5113 - acc: 0.8095 - val_loss: 0.4957 - val_acc: 0.8222\n",
      "Epoch 771/1000\n",
      "105/105 [==============================] - 0s 95us/step - loss: 0.5110 - acc: 0.8476 - val_loss: 0.4954 - val_acc: 0.8222\n",
      "Epoch 772/1000\n",
      "105/105 [==============================] - 0s 94us/step - loss: 0.5107 - acc: 0.8476 - val_loss: 0.4953 - val_acc: 0.8222\n",
      "Epoch 773/1000\n",
      "105/105 [==============================] - 0s 85us/step - loss: 0.5105 - acc: 0.8381 - val_loss: 0.4946 - val_acc: 0.8444\n",
      "Epoch 774/1000\n",
      "105/105 [==============================] - 0s 100us/step - loss: 0.5103 - acc: 0.8762 - val_loss: 0.4939 - val_acc: 0.9333\n",
      "Epoch 775/1000\n",
      "105/105 [==============================] - 0s 114us/step - loss: 0.5099 - acc: 0.8667 - val_loss: 0.4937 - val_acc: 0.8889\n",
      "Epoch 776/1000\n",
      "105/105 [==============================] - 0s 88us/step - loss: 0.5097 - acc: 0.8762 - val_loss: 0.4934 - val_acc: 0.8889\n",
      "Epoch 777/1000\n",
      "105/105 [==============================] - 0s 89us/step - loss: 0.5093 - acc: 0.8667 - val_loss: 0.4936 - val_acc: 0.8222\n",
      "Epoch 778/1000\n",
      "105/105 [==============================] - 0s 89us/step - loss: 0.5090 - acc: 0.8571 - val_loss: 0.4929 - val_acc: 0.8889\n",
      "Epoch 779/1000\n",
      "105/105 [==============================] - 0s 94us/step - loss: 0.5087 - acc: 0.8667 - val_loss: 0.4928 - val_acc: 0.8444\n",
      "Epoch 780/1000\n",
      "105/105 [==============================] - 0s 101us/step - loss: 0.5086 - acc: 0.8667 - val_loss: 0.4929 - val_acc: 0.8222\n",
      "Epoch 781/1000\n",
      "105/105 [==============================] - 0s 97us/step - loss: 0.5082 - acc: 0.8476 - val_loss: 0.4921 - val_acc: 0.8889\n",
      "Epoch 782/1000\n",
      "105/105 [==============================] - 0s 98us/step - loss: 0.5083 - acc: 0.8762 - val_loss: 0.4917 - val_acc: 0.9333\n",
      "Epoch 783/1000\n",
      "105/105 [==============================] - 0s 84us/step - loss: 0.5077 - acc: 0.8762 - val_loss: 0.4913 - val_acc: 0.9333\n",
      "Epoch 784/1000\n",
      "105/105 [==============================] - 0s 85us/step - loss: 0.5076 - acc: 0.8857 - val_loss: 0.4911 - val_acc: 0.9333\n",
      "Epoch 785/1000\n",
      "105/105 [==============================] - 0s 84us/step - loss: 0.5071 - acc: 0.8857 - val_loss: 0.4913 - val_acc: 0.8444\n",
      "Epoch 786/1000\n",
      "105/105 [==============================] - 0s 89us/step - loss: 0.5069 - acc: 0.8667 - val_loss: 0.4909 - val_acc: 0.8667\n",
      "Epoch 787/1000\n",
      "105/105 [==============================] - 0s 83us/step - loss: 0.5066 - acc: 0.8667 - val_loss: 0.4904 - val_acc: 0.9111\n",
      "Epoch 788/1000\n",
      "105/105 [==============================] - 0s 83us/step - loss: 0.5064 - acc: 0.8762 - val_loss: 0.4903 - val_acc: 0.8889\n",
      "Epoch 789/1000\n",
      "105/105 [==============================] - 0s 107us/step - loss: 0.5061 - acc: 0.8667 - val_loss: 0.4889 - val_acc: 0.9556\n",
      "Epoch 790/1000\n",
      "105/105 [==============================] - 0s 88us/step - loss: 0.5061 - acc: 0.8952 - val_loss: 0.4898 - val_acc: 0.8889\n",
      "Epoch 791/1000\n",
      "105/105 [==============================] - 0s 88us/step - loss: 0.5057 - acc: 0.8762 - val_loss: 0.4884 - val_acc: 0.9556\n",
      "Epoch 792/1000\n",
      "105/105 [==============================] - 0s 78us/step - loss: 0.5055 - acc: 0.9048 - val_loss: 0.4887 - val_acc: 0.9333\n",
      "Epoch 793/1000\n",
      "105/105 [==============================] - 0s 76us/step - loss: 0.5051 - acc: 0.8952 - val_loss: 0.4883 - val_acc: 0.9556\n",
      "Epoch 794/1000\n",
      "105/105 [==============================] - 0s 105us/step - loss: 0.5049 - acc: 0.8762 - val_loss: 0.4885 - val_acc: 0.9111\n",
      "Epoch 795/1000\n",
      "105/105 [==============================] - 0s 96us/step - loss: 0.5045 - acc: 0.8762 - val_loss: 0.4886 - val_acc: 0.8444\n",
      "Epoch 796/1000\n",
      "105/105 [==============================] - 0s 128us/step - loss: 0.5043 - acc: 0.8667 - val_loss: 0.4890 - val_acc: 0.8000\n",
      "Epoch 797/1000\n",
      "105/105 [==============================] - 0s 143us/step - loss: 0.5040 - acc: 0.8286 - val_loss: 0.4886 - val_acc: 0.8222\n",
      "Epoch 798/1000\n",
      "105/105 [==============================] - 0s 86us/step - loss: 0.5038 - acc: 0.8476 - val_loss: 0.4869 - val_acc: 0.9556\n",
      "Epoch 799/1000\n",
      "105/105 [==============================] - 0s 94us/step - loss: 0.5034 - acc: 0.8952 - val_loss: 0.4868 - val_acc: 0.9556\n",
      "Epoch 800/1000\n",
      "105/105 [==============================] - 0s 94us/step - loss: 0.5033 - acc: 0.8857 - val_loss: 0.4860 - val_acc: 0.9556\n",
      "Epoch 801/1000\n",
      "105/105 [==============================] - 0s 94us/step - loss: 0.5030 - acc: 0.9143 - val_loss: 0.4862 - val_acc: 0.9556\n",
      "Epoch 802/1000\n",
      "105/105 [==============================] - 0s 115us/step - loss: 0.5026 - acc: 0.8857 - val_loss: 0.4851 - val_acc: 0.9556\n",
      "Epoch 803/1000\n",
      "105/105 [==============================] - 0s 129us/step - loss: 0.5026 - acc: 0.9238 - val_loss: 0.4845 - val_acc: 0.9556\n",
      "Epoch 804/1000\n",
      "105/105 [==============================] - 0s 107us/step - loss: 0.5022 - acc: 0.9143 - val_loss: 0.4835 - val_acc: 0.9778\n",
      "Epoch 805/1000\n",
      "105/105 [==============================] - 0s 86us/step - loss: 0.5018 - acc: 0.9429 - val_loss: 0.4826 - val_acc: 0.9778\n",
      "Epoch 806/1000\n",
      "105/105 [==============================] - 0s 81us/step - loss: 0.5017 - acc: 0.9429 - val_loss: 0.4838 - val_acc: 0.9556\n",
      "Epoch 807/1000\n",
      "105/105 [==============================] - 0s 91us/step - loss: 0.5014 - acc: 0.9238 - val_loss: 0.4831 - val_acc: 0.9556\n",
      "Epoch 808/1000\n",
      "105/105 [==============================] - 0s 101us/step - loss: 0.5010 - acc: 0.9333 - val_loss: 0.4826 - val_acc: 0.9556\n",
      "Epoch 809/1000\n",
      "105/105 [==============================] - 0s 99us/step - loss: 0.5007 - acc: 0.9333 - val_loss: 0.4825 - val_acc: 0.9556\n",
      "Epoch 810/1000\n",
      "105/105 [==============================] - 0s 76us/step - loss: 0.5006 - acc: 0.9429 - val_loss: 0.4816 - val_acc: 0.9778\n",
      "Epoch 811/1000\n",
      "105/105 [==============================] - 0s 84us/step - loss: 0.5004 - acc: 0.9429 - val_loss: 0.4810 - val_acc: 0.9778\n",
      "Epoch 812/1000\n",
      "105/105 [==============================] - 0s 97us/step - loss: 0.5000 - acc: 0.9429 - val_loss: 0.4812 - val_acc: 0.9778\n",
      "Epoch 813/1000\n",
      "105/105 [==============================] - 0s 96us/step - loss: 0.4997 - acc: 0.9333 - val_loss: 0.4803 - val_acc: 1.0000\n",
      "Epoch 814/1000\n",
      "105/105 [==============================] - 0s 100us/step - loss: 0.4995 - acc: 0.9429 - val_loss: 0.4800 - val_acc: 1.0000\n",
      "Epoch 815/1000\n",
      "105/105 [==============================] - 0s 92us/step - loss: 0.4992 - acc: 0.9429 - val_loss: 0.4796 - val_acc: 1.0000\n",
      "Epoch 816/1000\n",
      "105/105 [==============================] - 0s 89us/step - loss: 0.4990 - acc: 0.9429 - val_loss: 0.4788 - val_acc: 1.0000\n",
      "Epoch 817/1000\n",
      "105/105 [==============================] - 0s 119us/step - loss: 0.4988 - acc: 0.9429 - val_loss: 0.4782 - val_acc: 1.0000\n",
      "Epoch 818/1000\n",
      "105/105 [==============================] - 0s 82us/step - loss: 0.4986 - acc: 0.9333 - val_loss: 0.4790 - val_acc: 1.0000\n",
      "Epoch 819/1000\n",
      "105/105 [==============================] - 0s 92us/step - loss: 0.4982 - acc: 0.9429 - val_loss: 0.4786 - val_acc: 1.0000\n",
      "Epoch 820/1000\n",
      "105/105 [==============================] - 0s 75us/step - loss: 0.4979 - acc: 0.9429 - val_loss: 0.4781 - val_acc: 1.0000\n",
      "Epoch 821/1000\n",
      "105/105 [==============================] - 0s 78us/step - loss: 0.4977 - acc: 0.9429 - val_loss: 0.4787 - val_acc: 0.9778\n",
      "Epoch 822/1000\n",
      "105/105 [==============================] - 0s 79us/step - loss: 0.4974 - acc: 0.9333 - val_loss: 0.4786 - val_acc: 0.9778\n",
      "Epoch 823/1000\n",
      "105/105 [==============================] - 0s 93us/step - loss: 0.4971 - acc: 0.9333 - val_loss: 0.4788 - val_acc: 0.9556\n",
      "Epoch 824/1000\n",
      "105/105 [==============================] - 0s 95us/step - loss: 0.4969 - acc: 0.9238 - val_loss: 0.4790 - val_acc: 0.9556\n",
      "Epoch 825/1000\n",
      "105/105 [==============================] - 0s 100us/step - loss: 0.4966 - acc: 0.9333 - val_loss: 0.4777 - val_acc: 0.9778\n",
      "Epoch 826/1000\n",
      "105/105 [==============================] - 0s 107us/step - loss: 0.4963 - acc: 0.9333 - val_loss: 0.4773 - val_acc: 0.9778\n",
      "Epoch 827/1000\n",
      "105/105 [==============================] - 0s 96us/step - loss: 0.4961 - acc: 0.9429 - val_loss: 0.4778 - val_acc: 0.9556\n",
      "Epoch 828/1000\n",
      "105/105 [==============================] - 0s 85us/step - loss: 0.4958 - acc: 0.9333 - val_loss: 0.4780 - val_acc: 0.9556\n",
      "Epoch 829/1000\n",
      "105/105 [==============================] - 0s 101us/step - loss: 0.4957 - acc: 0.9333 - val_loss: 0.4772 - val_acc: 0.9556\n",
      "Epoch 830/1000\n",
      "105/105 [==============================] - 0s 99us/step - loss: 0.4952 - acc: 0.9333 - val_loss: 0.4768 - val_acc: 0.9556\n",
      "Epoch 831/1000\n",
      "105/105 [==============================] - 0s 87us/step - loss: 0.4950 - acc: 0.9333 - val_loss: 0.4759 - val_acc: 0.9778\n",
      "Epoch 832/1000\n",
      "105/105 [==============================] - 0s 100us/step - loss: 0.4948 - acc: 0.9429 - val_loss: 0.4766 - val_acc: 0.9556\n",
      "Epoch 833/1000\n",
      "105/105 [==============================] - 0s 83us/step - loss: 0.4944 - acc: 0.9333 - val_loss: 0.4758 - val_acc: 0.9778\n",
      "Epoch 834/1000\n",
      "105/105 [==============================] - 0s 109us/step - loss: 0.4946 - acc: 0.9429 - val_loss: 0.4761 - val_acc: 0.9556\n",
      "Epoch 835/1000\n",
      "105/105 [==============================] - 0s 89us/step - loss: 0.4940 - acc: 0.9333 - val_loss: 0.4771 - val_acc: 0.9556\n",
      "Epoch 836/1000\n",
      "105/105 [==============================] - 0s 81us/step - loss: 0.4938 - acc: 0.9238 - val_loss: 0.4779 - val_acc: 0.9333\n",
      "Epoch 837/1000\n",
      "105/105 [==============================] - 0s 84us/step - loss: 0.4934 - acc: 0.8857 - val_loss: 0.4776 - val_acc: 0.9556\n",
      "Epoch 838/1000\n",
      "105/105 [==============================] - 0s 81us/step - loss: 0.4931 - acc: 0.8857 - val_loss: 0.4771 - val_acc: 0.9556\n",
      "Epoch 839/1000\n",
      "105/105 [==============================] - 0s 100us/step - loss: 0.4930 - acc: 0.8857 - val_loss: 0.4773 - val_acc: 0.9333\n",
      "Epoch 840/1000\n",
      "105/105 [==============================] - 0s 73us/step - loss: 0.4929 - acc: 0.8857 - val_loss: 0.4758 - val_acc: 0.9556\n",
      "Epoch 841/1000\n",
      "105/105 [==============================] - 0s 80us/step - loss: 0.4923 - acc: 0.9238 - val_loss: 0.4757 - val_acc: 0.9556\n",
      "Epoch 842/1000\n",
      "105/105 [==============================] - 0s 81us/step - loss: 0.4922 - acc: 0.9238 - val_loss: 0.4764 - val_acc: 0.9556\n",
      "Epoch 843/1000\n",
      "105/105 [==============================] - 0s 95us/step - loss: 0.4925 - acc: 0.8762 - val_loss: 0.4768 - val_acc: 0.9111\n",
      "Epoch 844/1000\n",
      "105/105 [==============================] - 0s 77us/step - loss: 0.4917 - acc: 0.8667 - val_loss: 0.4769 - val_acc: 0.8889\n",
      "Epoch 845/1000\n",
      "105/105 [==============================] - 0s 72us/step - loss: 0.4916 - acc: 0.8667 - val_loss: 0.4773 - val_acc: 0.8222\n",
      "Epoch 846/1000\n",
      "105/105 [==============================] - 0s 110us/step - loss: 0.4913 - acc: 0.8571 - val_loss: 0.4767 - val_acc: 0.8667\n",
      "Epoch 847/1000\n",
      "105/105 [==============================] - 0s 105us/step - loss: 0.4909 - acc: 0.8667 - val_loss: 0.4758 - val_acc: 0.9111\n",
      "Epoch 848/1000\n",
      "105/105 [==============================] - 0s 105us/step - loss: 0.4906 - acc: 0.8857 - val_loss: 0.4751 - val_acc: 0.9556\n",
      "Epoch 849/1000\n",
      "105/105 [==============================] - 0s 100us/step - loss: 0.4905 - acc: 0.8857 - val_loss: 0.4733 - val_acc: 0.9556\n",
      "Epoch 850/1000\n",
      "105/105 [==============================] - 0s 95us/step - loss: 0.4901 - acc: 0.9143 - val_loss: 0.4722 - val_acc: 0.9778\n",
      "Epoch 851/1000\n",
      "105/105 [==============================] - 0s 89us/step - loss: 0.4898 - acc: 0.9333 - val_loss: 0.4720 - val_acc: 0.9778\n",
      "Epoch 852/1000\n",
      "105/105 [==============================] - 0s 93us/step - loss: 0.4895 - acc: 0.9333 - val_loss: 0.4721 - val_acc: 0.9556\n",
      "Epoch 853/1000\n",
      "105/105 [==============================] - 0s 88us/step - loss: 0.4894 - acc: 0.9333 - val_loss: 0.4713 - val_acc: 0.9778\n",
      "Epoch 854/1000\n",
      "105/105 [==============================] - 0s 96us/step - loss: 0.4892 - acc: 0.9333 - val_loss: 0.4708 - val_acc: 0.9778\n",
      "Epoch 855/1000\n",
      "105/105 [==============================] - 0s 91us/step - loss: 0.4888 - acc: 0.9333 - val_loss: 0.4701 - val_acc: 0.9778\n",
      "Epoch 856/1000\n",
      "105/105 [==============================] - 0s 91us/step - loss: 0.4886 - acc: 0.9429 - val_loss: 0.4692 - val_acc: 1.0000\n",
      "Epoch 857/1000\n",
      "105/105 [==============================] - 0s 100us/step - loss: 0.4883 - acc: 0.9429 - val_loss: 0.4696 - val_acc: 0.9778\n",
      "Epoch 858/1000\n",
      "105/105 [==============================] - 0s 133us/step - loss: 0.4880 - acc: 0.9429 - val_loss: 0.4692 - val_acc: 0.9778\n",
      "Epoch 859/1000\n",
      "105/105 [==============================] - 0s 93us/step - loss: 0.4878 - acc: 0.9333 - val_loss: 0.4684 - val_acc: 1.0000\n",
      "Epoch 860/1000\n",
      "105/105 [==============================] - 0s 71us/step - loss: 0.4874 - acc: 0.9429 - val_loss: 0.4680 - val_acc: 1.0000\n",
      "Epoch 861/1000\n",
      "105/105 [==============================] - 0s 69us/step - loss: 0.4873 - acc: 0.9429 - val_loss: 0.4676 - val_acc: 1.0000\n",
      "Epoch 862/1000\n",
      "105/105 [==============================] - 0s 73us/step - loss: 0.4870 - acc: 0.9429 - val_loss: 0.4666 - val_acc: 1.0000\n",
      "Epoch 863/1000\n",
      "105/105 [==============================] - 0s 74us/step - loss: 0.4868 - acc: 0.9333 - val_loss: 0.4654 - val_acc: 1.0000\n",
      "Epoch 864/1000\n",
      "105/105 [==============================] - 0s 78us/step - loss: 0.4865 - acc: 0.9429 - val_loss: 0.4648 - val_acc: 1.0000\n",
      "Epoch 865/1000\n",
      "105/105 [==============================] - 0s 100us/step - loss: 0.4864 - acc: 0.9429 - val_loss: 0.4648 - val_acc: 1.0000\n",
      "Epoch 866/1000\n",
      "105/105 [==============================] - 0s 132us/step - loss: 0.4861 - acc: 0.9429 - val_loss: 0.4644 - val_acc: 1.0000\n",
      "Epoch 867/1000\n",
      "105/105 [==============================] - 0s 114us/step - loss: 0.4857 - acc: 0.9714 - val_loss: 0.4650 - val_acc: 1.0000\n",
      "Epoch 868/1000\n",
      "105/105 [==============================] - 0s 81us/step - loss: 0.4854 - acc: 0.9333 - val_loss: 0.4652 - val_acc: 1.0000\n",
      "Epoch 869/1000\n",
      "105/105 [==============================] - 0s 117us/step - loss: 0.4851 - acc: 0.9333 - val_loss: 0.4654 - val_acc: 1.0000\n",
      "Epoch 870/1000\n",
      "105/105 [==============================] - 0s 106us/step - loss: 0.4848 - acc: 0.9429 - val_loss: 0.4645 - val_acc: 1.0000\n",
      "Epoch 871/1000\n",
      "105/105 [==============================] - 0s 99us/step - loss: 0.4847 - acc: 0.9333 - val_loss: 0.4641 - val_acc: 1.0000\n",
      "Epoch 872/1000\n",
      "105/105 [==============================] - 0s 108us/step - loss: 0.4846 - acc: 0.9333 - val_loss: 0.4655 - val_acc: 0.9778\n",
      "Epoch 873/1000\n",
      "105/105 [==============================] - 0s 107us/step - loss: 0.4843 - acc: 0.9333 - val_loss: 0.4645 - val_acc: 1.0000\n",
      "Epoch 874/1000\n",
      "105/105 [==============================] - 0s 87us/step - loss: 0.4839 - acc: 0.9429 - val_loss: 0.4652 - val_acc: 0.9778\n",
      "Epoch 875/1000\n",
      "105/105 [==============================] - 0s 96us/step - loss: 0.4836 - acc: 0.9333 - val_loss: 0.4644 - val_acc: 1.0000\n",
      "Epoch 876/1000\n",
      "105/105 [==============================] - 0s 163us/step - loss: 0.4832 - acc: 0.9429 - val_loss: 0.4645 - val_acc: 0.9778\n",
      "Epoch 877/1000\n",
      "105/105 [==============================] - 0s 94us/step - loss: 0.4830 - acc: 0.9429 - val_loss: 0.4651 - val_acc: 0.9778\n",
      "Epoch 878/1000\n",
      "105/105 [==============================] - 0s 91us/step - loss: 0.4828 - acc: 0.9333 - val_loss: 0.4643 - val_acc: 0.9778\n",
      "Epoch 879/1000\n",
      "105/105 [==============================] - 0s 104us/step - loss: 0.4827 - acc: 0.9333 - val_loss: 0.4628 - val_acc: 1.0000\n",
      "Epoch 880/1000\n",
      "105/105 [==============================] - 0s 78us/step - loss: 0.4823 - acc: 0.9429 - val_loss: 0.4610 - val_acc: 1.0000\n",
      "Epoch 881/1000\n",
      "105/105 [==============================] - 0s 107us/step - loss: 0.4820 - acc: 0.9524 - val_loss: 0.4612 - val_acc: 1.0000\n",
      "Epoch 882/1000\n",
      "105/105 [==============================] - 0s 98us/step - loss: 0.4820 - acc: 0.9333 - val_loss: 0.4606 - val_acc: 1.0000\n",
      "Epoch 883/1000\n",
      "105/105 [==============================] - 0s 70us/step - loss: 0.4816 - acc: 0.9524 - val_loss: 0.4606 - val_acc: 1.0000\n",
      "Epoch 884/1000\n",
      "105/105 [==============================] - 0s 101us/step - loss: 0.4812 - acc: 0.9333 - val_loss: 0.4613 - val_acc: 1.0000\n",
      "Epoch 885/1000\n",
      "105/105 [==============================] - 0s 95us/step - loss: 0.4811 - acc: 0.9429 - val_loss: 0.4604 - val_acc: 1.0000\n",
      "Epoch 886/1000\n",
      "105/105 [==============================] - 0s 82us/step - loss: 0.4808 - acc: 0.9429 - val_loss: 0.4606 - val_acc: 1.0000\n",
      "Epoch 887/1000\n",
      "105/105 [==============================] - 0s 81us/step - loss: 0.4805 - acc: 0.9429 - val_loss: 0.4607 - val_acc: 1.0000\n",
      "Epoch 888/1000\n",
      "105/105 [==============================] - 0s 111us/step - loss: 0.4801 - acc: 0.9429 - val_loss: 0.4608 - val_acc: 1.0000\n",
      "Epoch 889/1000\n",
      "105/105 [==============================] - 0s 80us/step - loss: 0.4799 - acc: 0.9429 - val_loss: 0.4605 - val_acc: 1.0000\n",
      "Epoch 890/1000\n",
      "105/105 [==============================] - 0s 82us/step - loss: 0.4796 - acc: 0.9429 - val_loss: 0.4594 - val_acc: 1.0000\n",
      "Epoch 891/1000\n",
      "105/105 [==============================] - 0s 99us/step - loss: 0.4794 - acc: 0.9333 - val_loss: 0.4599 - val_acc: 1.0000\n",
      "Epoch 892/1000\n",
      "105/105 [==============================] - 0s 92us/step - loss: 0.4793 - acc: 0.9429 - val_loss: 0.4606 - val_acc: 0.9778\n",
      "Epoch 893/1000\n",
      "105/105 [==============================] - 0s 95us/step - loss: 0.4789 - acc: 0.9429 - val_loss: 0.4597 - val_acc: 1.0000\n",
      "Epoch 894/1000\n",
      "105/105 [==============================] - 0s 94us/step - loss: 0.4787 - acc: 0.9333 - val_loss: 0.4580 - val_acc: 1.0000\n",
      "Epoch 895/1000\n",
      "105/105 [==============================] - 0s 86us/step - loss: 0.4787 - acc: 0.9333 - val_loss: 0.4582 - val_acc: 1.0000\n",
      "Epoch 896/1000\n",
      "105/105 [==============================] - 0s 79us/step - loss: 0.4781 - acc: 0.9429 - val_loss: 0.4583 - val_acc: 1.0000\n",
      "Epoch 897/1000\n",
      "105/105 [==============================] - 0s 110us/step - loss: 0.4779 - acc: 0.9429 - val_loss: 0.4581 - val_acc: 1.0000\n",
      "Epoch 898/1000\n",
      "105/105 [==============================] - 0s 112us/step - loss: 0.4777 - acc: 0.9429 - val_loss: 0.4562 - val_acc: 1.0000\n",
      "Epoch 899/1000\n",
      "105/105 [==============================] - 0s 112us/step - loss: 0.4774 - acc: 0.9524 - val_loss: 0.4560 - val_acc: 1.0000\n",
      "Epoch 900/1000\n",
      "105/105 [==============================] - 0s 95us/step - loss: 0.4770 - acc: 0.9429 - val_loss: 0.4564 - val_acc: 1.0000\n",
      "Epoch 901/1000\n",
      "105/105 [==============================] - 0s 81us/step - loss: 0.4767 - acc: 0.9333 - val_loss: 0.4563 - val_acc: 1.0000\n",
      "Epoch 902/1000\n",
      "105/105 [==============================] - 0s 82us/step - loss: 0.4766 - acc: 0.9429 - val_loss: 0.4552 - val_acc: 1.0000\n",
      "Epoch 903/1000\n",
      "105/105 [==============================] - 0s 82us/step - loss: 0.4762 - acc: 0.9429 - val_loss: 0.4559 - val_acc: 1.0000\n",
      "Epoch 904/1000\n",
      "105/105 [==============================] - 0s 81us/step - loss: 0.4759 - acc: 0.9333 - val_loss: 0.4558 - val_acc: 1.0000\n",
      "Epoch 905/1000\n",
      "105/105 [==============================] - 0s 79us/step - loss: 0.4758 - acc: 0.9429 - val_loss: 0.4558 - val_acc: 1.0000\n",
      "Epoch 906/1000\n",
      "105/105 [==============================] - 0s 79us/step - loss: 0.4754 - acc: 0.9429 - val_loss: 0.4550 - val_acc: 1.0000\n",
      "Epoch 907/1000\n",
      "105/105 [==============================] - 0s 75us/step - loss: 0.4752 - acc: 0.9333 - val_loss: 0.4541 - val_acc: 1.0000\n",
      "Epoch 908/1000\n",
      "105/105 [==============================] - 0s 90us/step - loss: 0.4750 - acc: 0.9333 - val_loss: 0.4536 - val_acc: 1.0000\n",
      "Epoch 909/1000\n",
      "105/105 [==============================] - 0s 100us/step - loss: 0.4747 - acc: 0.9429 - val_loss: 0.4536 - val_acc: 1.0000\n",
      "Epoch 910/1000\n",
      "105/105 [==============================] - 0s 89us/step - loss: 0.4744 - acc: 0.9333 - val_loss: 0.4527 - val_acc: 1.0000\n",
      "Epoch 911/1000\n",
      "105/105 [==============================] - 0s 93us/step - loss: 0.4742 - acc: 0.9524 - val_loss: 0.4521 - val_acc: 1.0000\n",
      "Epoch 912/1000\n",
      "105/105 [==============================] - 0s 95us/step - loss: 0.4740 - acc: 0.9619 - val_loss: 0.4527 - val_acc: 1.0000\n",
      "Epoch 913/1000\n",
      "105/105 [==============================] - 0s 85us/step - loss: 0.4739 - acc: 0.9333 - val_loss: 0.4520 - val_acc: 1.0000\n",
      "Epoch 914/1000\n",
      "105/105 [==============================] - 0s 102us/step - loss: 0.4734 - acc: 0.9429 - val_loss: 0.4522 - val_acc: 1.0000\n",
      "Epoch 915/1000\n",
      "105/105 [==============================] - 0s 102us/step - loss: 0.4731 - acc: 0.9333 - val_loss: 0.4524 - val_acc: 1.0000\n",
      "Epoch 916/1000\n",
      "105/105 [==============================] - 0s 89us/step - loss: 0.4732 - acc: 0.9429 - val_loss: 0.4525 - val_acc: 1.0000\n",
      "Epoch 917/1000\n",
      "105/105 [==============================] - 0s 90us/step - loss: 0.4726 - acc: 0.9429 - val_loss: 0.4517 - val_acc: 1.0000\n",
      "Epoch 918/1000\n",
      "105/105 [==============================] - 0s 132us/step - loss: 0.4723 - acc: 0.9333 - val_loss: 0.4516 - val_acc: 1.0000\n",
      "Epoch 919/1000\n",
      "105/105 [==============================] - 0s 88us/step - loss: 0.4721 - acc: 0.9333 - val_loss: 0.4502 - val_acc: 1.0000\n",
      "Epoch 920/1000\n",
      "105/105 [==============================] - 0s 87us/step - loss: 0.4719 - acc: 0.9619 - val_loss: 0.4506 - val_acc: 1.0000\n",
      "Epoch 921/1000\n",
      "105/105 [==============================] - 0s 86us/step - loss: 0.4719 - acc: 0.9333 - val_loss: 0.4507 - val_acc: 1.0000\n",
      "Epoch 922/1000\n",
      "105/105 [==============================] - 0s 85us/step - loss: 0.4716 - acc: 0.9333 - val_loss: 0.4510 - val_acc: 1.0000\n",
      "Epoch 923/1000\n",
      "105/105 [==============================] - 0s 104us/step - loss: 0.4710 - acc: 0.9333 - val_loss: 0.4512 - val_acc: 1.0000\n",
      "Epoch 924/1000\n",
      "105/105 [==============================] - 0s 83us/step - loss: 0.4707 - acc: 0.9429 - val_loss: 0.4505 - val_acc: 1.0000\n",
      "Epoch 925/1000\n",
      "105/105 [==============================] - 0s 92us/step - loss: 0.4704 - acc: 0.9333 - val_loss: 0.4499 - val_acc: 1.0000\n",
      "Epoch 926/1000\n",
      "105/105 [==============================] - 0s 97us/step - loss: 0.4702 - acc: 0.9333 - val_loss: 0.4491 - val_acc: 1.0000\n",
      "Epoch 927/1000\n",
      "105/105 [==============================] - 0s 95us/step - loss: 0.4699 - acc: 0.9429 - val_loss: 0.4490 - val_acc: 1.0000\n",
      "Epoch 928/1000\n",
      "105/105 [==============================] - 0s 95us/step - loss: 0.4698 - acc: 0.9333 - val_loss: 0.4479 - val_acc: 1.0000\n",
      "Epoch 929/1000\n",
      "105/105 [==============================] - 0s 101us/step - loss: 0.4696 - acc: 0.9619 - val_loss: 0.4472 - val_acc: 1.0000\n",
      "Epoch 930/1000\n",
      "105/105 [==============================] - 0s 92us/step - loss: 0.4692 - acc: 0.9619 - val_loss: 0.4472 - val_acc: 1.0000\n",
      "Epoch 931/1000\n",
      "105/105 [==============================] - 0s 92us/step - loss: 0.4692 - acc: 0.9619 - val_loss: 0.4478 - val_acc: 1.0000\n",
      "Epoch 932/1000\n",
      "105/105 [==============================] - 0s 91us/step - loss: 0.4688 - acc: 0.9333 - val_loss: 0.4480 - val_acc: 1.0000\n",
      "Epoch 933/1000\n",
      "105/105 [==============================] - 0s 117us/step - loss: 0.4687 - acc: 0.9524 - val_loss: 0.4484 - val_acc: 1.0000\n",
      "Epoch 934/1000\n",
      "105/105 [==============================] - 0s 104us/step - loss: 0.4681 - acc: 0.9333 - val_loss: 0.4478 - val_acc: 1.0000\n",
      "Epoch 935/1000\n",
      "105/105 [==============================] - 0s 86us/step - loss: 0.4679 - acc: 0.9333 - val_loss: 0.4483 - val_acc: 1.0000\n",
      "Epoch 936/1000\n",
      "105/105 [==============================] - 0s 80us/step - loss: 0.4676 - acc: 0.9429 - val_loss: 0.4468 - val_acc: 1.0000\n",
      "Epoch 937/1000\n",
      "105/105 [==============================] - 0s 85us/step - loss: 0.4674 - acc: 0.9333 - val_loss: 0.4464 - val_acc: 1.0000\n",
      "Epoch 938/1000\n",
      "105/105 [==============================] - 0s 87us/step - loss: 0.4671 - acc: 0.9429 - val_loss: 0.4478 - val_acc: 1.0000\n",
      "Epoch 939/1000\n",
      "105/105 [==============================] - 0s 90us/step - loss: 0.4668 - acc: 0.9429 - val_loss: 0.4469 - val_acc: 1.0000\n",
      "Epoch 940/1000\n",
      "105/105 [==============================] - 0s 100us/step - loss: 0.4666 - acc: 0.9429 - val_loss: 0.4463 - val_acc: 1.0000\n",
      "Epoch 941/1000\n",
      "105/105 [==============================] - 0s 143us/step - loss: 0.4663 - acc: 0.9429 - val_loss: 0.4458 - val_acc: 1.0000\n",
      "Epoch 942/1000\n",
      "105/105 [==============================] - 0s 91us/step - loss: 0.4662 - acc: 0.9333 - val_loss: 0.4464 - val_acc: 1.0000\n",
      "Epoch 943/1000\n",
      "105/105 [==============================] - 0s 106us/step - loss: 0.4658 - acc: 0.9429 - val_loss: 0.4467 - val_acc: 1.0000\n",
      "Epoch 944/1000\n",
      "105/105 [==============================] - 0s 78us/step - loss: 0.4656 - acc: 0.9429 - val_loss: 0.4470 - val_acc: 0.9778\n",
      "Epoch 945/1000\n",
      "105/105 [==============================] - 0s 87us/step - loss: 0.4653 - acc: 0.9429 - val_loss: 0.4468 - val_acc: 0.9778\n",
      "Epoch 946/1000\n",
      "105/105 [==============================] - 0s 92us/step - loss: 0.4652 - acc: 0.9429 - val_loss: 0.4454 - val_acc: 1.0000\n",
      "Epoch 947/1000\n",
      "105/105 [==============================] - 0s 94us/step - loss: 0.4651 - acc: 0.9429 - val_loss: 0.4449 - val_acc: 1.0000\n",
      "Epoch 948/1000\n",
      "105/105 [==============================] - 0s 106us/step - loss: 0.4644 - acc: 0.9429 - val_loss: 0.4444 - val_acc: 1.0000\n",
      "Epoch 949/1000\n",
      "105/105 [==============================] - 0s 100us/step - loss: 0.4641 - acc: 0.9333 - val_loss: 0.4441 - val_acc: 1.0000\n",
      "Epoch 950/1000\n",
      "105/105 [==============================] - 0s 84us/step - loss: 0.4639 - acc: 0.9333 - val_loss: 0.4442 - val_acc: 1.0000\n",
      "Epoch 951/1000\n",
      "105/105 [==============================] - 0s 81us/step - loss: 0.4638 - acc: 0.9333 - val_loss: 0.4421 - val_acc: 1.0000\n",
      "Epoch 952/1000\n",
      "105/105 [==============================] - 0s 72us/step - loss: 0.4634 - acc: 0.9429 - val_loss: 0.4418 - val_acc: 1.0000\n",
      "Epoch 953/1000\n",
      "105/105 [==============================] - 0s 101us/step - loss: 0.4631 - acc: 0.9619 - val_loss: 0.4416 - val_acc: 1.0000\n",
      "Epoch 954/1000\n",
      "105/105 [==============================] - 0s 125us/step - loss: 0.4630 - acc: 0.9524 - val_loss: 0.4413 - val_acc: 1.0000\n",
      "Epoch 955/1000\n",
      "105/105 [==============================] - 0s 90us/step - loss: 0.4626 - acc: 0.9619 - val_loss: 0.4408 - val_acc: 1.0000\n",
      "Epoch 956/1000\n",
      "105/105 [==============================] - 0s 72us/step - loss: 0.4623 - acc: 0.9524 - val_loss: 0.4404 - val_acc: 1.0000\n",
      "Epoch 957/1000\n",
      "105/105 [==============================] - 0s 103us/step - loss: 0.4620 - acc: 0.9429 - val_loss: 0.4396 - val_acc: 1.0000\n",
      "Epoch 958/1000\n",
      "105/105 [==============================] - 0s 92us/step - loss: 0.4620 - acc: 0.9524 - val_loss: 0.4375 - val_acc: 1.0000\n",
      "Epoch 959/1000\n",
      "105/105 [==============================] - 0s 92us/step - loss: 0.4620 - acc: 0.9619 - val_loss: 0.4363 - val_acc: 1.0000\n",
      "Epoch 960/1000\n",
      "105/105 [==============================] - 0s 179us/step - loss: 0.4620 - acc: 0.9714 - val_loss: 0.4354 - val_acc: 1.0000\n",
      "Epoch 961/1000\n",
      "105/105 [==============================] - 0s 102us/step - loss: 0.4612 - acc: 0.9714 - val_loss: 0.4349 - val_acc: 1.0000\n",
      "Epoch 962/1000\n",
      "105/105 [==============================] - 0s 89us/step - loss: 0.4609 - acc: 0.9714 - val_loss: 0.4344 - val_acc: 1.0000\n",
      "Epoch 963/1000\n",
      "105/105 [==============================] - 0s 87us/step - loss: 0.4608 - acc: 0.9714 - val_loss: 0.4345 - val_acc: 1.0000\n",
      "Epoch 964/1000\n",
      "105/105 [==============================] - 0s 88us/step - loss: 0.4603 - acc: 0.9714 - val_loss: 0.4342 - val_acc: 1.0000\n",
      "Epoch 965/1000\n",
      "105/105 [==============================] - 0s 84us/step - loss: 0.4603 - acc: 0.9714 - val_loss: 0.4340 - val_acc: 1.0000\n",
      "Epoch 966/1000\n",
      "105/105 [==============================] - 0s 79us/step - loss: 0.4600 - acc: 0.9714 - val_loss: 0.4348 - val_acc: 1.0000\n",
      "Epoch 967/1000\n",
      "105/105 [==============================] - 0s 83us/step - loss: 0.4594 - acc: 0.9619 - val_loss: 0.4346 - val_acc: 1.0000\n",
      "Epoch 968/1000\n",
      "105/105 [==============================] - 0s 93us/step - loss: 0.4590 - acc: 0.9714 - val_loss: 0.4340 - val_acc: 1.0000\n",
      "Epoch 969/1000\n",
      "105/105 [==============================] - 0s 89us/step - loss: 0.4589 - acc: 0.9714 - val_loss: 0.4328 - val_acc: 1.0000\n",
      "Epoch 970/1000\n",
      "105/105 [==============================] - 0s 84us/step - loss: 0.4588 - acc: 0.9714 - val_loss: 0.4332 - val_acc: 1.0000\n",
      "Epoch 971/1000\n",
      "105/105 [==============================] - 0s 107us/step - loss: 0.4583 - acc: 0.9714 - val_loss: 0.4326 - val_acc: 1.0000\n",
      "Epoch 972/1000\n",
      "105/105 [==============================] - 0s 119us/step - loss: 0.4580 - acc: 0.9714 - val_loss: 0.4331 - val_acc: 1.0000\n",
      "Epoch 973/1000\n",
      "105/105 [==============================] - 0s 97us/step - loss: 0.4578 - acc: 0.9619 - val_loss: 0.4329 - val_acc: 1.0000\n",
      "Epoch 974/1000\n",
      "105/105 [==============================] - 0s 109us/step - loss: 0.4575 - acc: 0.9714 - val_loss: 0.4335 - val_acc: 1.0000\n",
      "Epoch 975/1000\n",
      "105/105 [==============================] - 0s 97us/step - loss: 0.4573 - acc: 0.9524 - val_loss: 0.4331 - val_acc: 1.0000\n",
      "Epoch 976/1000\n",
      "105/105 [==============================] - 0s 78us/step - loss: 0.4570 - acc: 0.9524 - val_loss: 0.4322 - val_acc: 1.0000\n",
      "Epoch 977/1000\n",
      "105/105 [==============================] - 0s 111us/step - loss: 0.4568 - acc: 0.9619 - val_loss: 0.4335 - val_acc: 1.0000\n",
      "Epoch 978/1000\n",
      "105/105 [==============================] - 0s 98us/step - loss: 0.4565 - acc: 0.9619 - val_loss: 0.4318 - val_acc: 1.0000\n",
      "Epoch 979/1000\n",
      "105/105 [==============================] - 0s 81us/step - loss: 0.4563 - acc: 0.9619 - val_loss: 0.4322 - val_acc: 1.0000\n",
      "Epoch 980/1000\n",
      "105/105 [==============================] - 0s 92us/step - loss: 0.4558 - acc: 0.9524 - val_loss: 0.4309 - val_acc: 1.0000\n",
      "Epoch 981/1000\n",
      "105/105 [==============================] - 0s 99us/step - loss: 0.4556 - acc: 0.9714 - val_loss: 0.4303 - val_acc: 1.0000\n",
      "Epoch 982/1000\n",
      "105/105 [==============================] - 0s 93us/step - loss: 0.4552 - acc: 0.9714 - val_loss: 0.4301 - val_acc: 1.0000\n",
      "Epoch 983/1000\n",
      "105/105 [==============================] - 0s 83us/step - loss: 0.4551 - acc: 0.9714 - val_loss: 0.4301 - val_acc: 1.0000\n",
      "Epoch 984/1000\n",
      "105/105 [==============================] - 0s 68us/step - loss: 0.4547 - acc: 0.9619 - val_loss: 0.4286 - val_acc: 1.0000\n",
      "Epoch 985/1000\n",
      "105/105 [==============================] - 0s 98us/step - loss: 0.4545 - acc: 0.9714 - val_loss: 0.4289 - val_acc: 1.0000\n",
      "Epoch 986/1000\n",
      "105/105 [==============================] - 0s 90us/step - loss: 0.4543 - acc: 0.9714 - val_loss: 0.4286 - val_acc: 1.0000\n",
      "Epoch 987/1000\n",
      "105/105 [==============================] - 0s 90us/step - loss: 0.4540 - acc: 0.9619 - val_loss: 0.4287 - val_acc: 1.0000\n",
      "Epoch 988/1000\n",
      "105/105 [==============================] - 0s 110us/step - loss: 0.4537 - acc: 0.9619 - val_loss: 0.4290 - val_acc: 1.0000\n",
      "Epoch 989/1000\n",
      "105/105 [==============================] - 0s 95us/step - loss: 0.4535 - acc: 0.9619 - val_loss: 0.4279 - val_acc: 1.0000\n",
      "Epoch 990/1000\n",
      "105/105 [==============================] - 0s 110us/step - loss: 0.4536 - acc: 0.9619 - val_loss: 0.4274 - val_acc: 1.0000\n",
      "Epoch 991/1000\n",
      "105/105 [==============================] - 0s 79us/step - loss: 0.4529 - acc: 0.9619 - val_loss: 0.4267 - val_acc: 1.0000\n",
      "Epoch 992/1000\n",
      "105/105 [==============================] - 0s 96us/step - loss: 0.4528 - acc: 0.9714 - val_loss: 0.4262 - val_acc: 1.0000\n",
      "Epoch 993/1000\n",
      "105/105 [==============================] - 0s 85us/step - loss: 0.4529 - acc: 0.9619 - val_loss: 0.4262 - val_acc: 1.0000\n",
      "Epoch 994/1000\n",
      "105/105 [==============================] - 0s 89us/step - loss: 0.4522 - acc: 0.9714 - val_loss: 0.4255 - val_acc: 1.0000\n",
      "Epoch 995/1000\n",
      "105/105 [==============================] - 0s 79us/step - loss: 0.4518 - acc: 0.9714 - val_loss: 0.4260 - val_acc: 1.0000\n",
      "Epoch 996/1000\n",
      "105/105 [==============================] - 0s 81us/step - loss: 0.4518 - acc: 0.9619 - val_loss: 0.4250 - val_acc: 1.0000\n",
      "Epoch 997/1000\n",
      "105/105 [==============================] - 0s 86us/step - loss: 0.4514 - acc: 0.9714 - val_loss: 0.4245 - val_acc: 1.0000\n",
      "Epoch 998/1000\n",
      "105/105 [==============================] - 0s 109us/step - loss: 0.4512 - acc: 0.9714 - val_loss: 0.4246 - val_acc: 1.0000\n",
      "Epoch 999/1000\n",
      "105/105 [==============================] - 0s 109us/step - loss: 0.4512 - acc: 0.9619 - val_loss: 0.4226 - val_acc: 1.0000\n",
      "Epoch 1000/1000\n",
      "105/105 [==============================] - 0s 179us/step - loss: 0.4506 - acc: 0.9714 - val_loss: 0.4224 - val_acc: 1.0000\n"
     ]
    },
    {
     "data": {
      "text/plain": [
       "<tensorflow.python.keras.callbacks.History at 0x7f9d5e7a7410>"
      ]
     },
     "execution_count": 46,
     "metadata": {
      "tags": []
     },
     "output_type": "execute_result"
    }
   ],
   "source": [
    "model_iris.fit(trainX.values,trainY.values,validation_data=(testX,testY), epochs=1000)"
   ]
  },
  {
   "cell_type": "code",
   "execution_count": 47,
   "metadata": {
    "colab": {
     "base_uri": "https://localhost:8080/",
     "height": 272
    },
    "colab_type": "code",
    "id": "viDkCeBz8d-J",
    "outputId": "442f4557-89b2-4f10-b358-74767af7bb1f"
   },
   "outputs": [
    {
     "name": "stdout",
     "output_type": "stream",
     "text": [
      "_________________________________________________________________\n",
      "Layer (type)                 Output Shape              Param #   \n",
      "=================================================================\n",
      "batch_normalization_2 (Batch multiple                  16        \n",
      "_________________________________________________________________\n",
      "dense_1 (Dense)              multiple                  50        \n",
      "_________________________________________________________________\n",
      "dense_2 (Dense)              multiple                  88        \n",
      "_________________________________________________________________\n",
      "dense_3 (Dense)              multiple                  27        \n",
      "=================================================================\n",
      "Total params: 181\n",
      "Trainable params: 173\n",
      "Non-trainable params: 8\n",
      "_________________________________________________________________\n"
     ]
    }
   ],
   "source": [
    "model_iris.summary()"
   ]
  },
  {
   "cell_type": "code",
   "execution_count": 48,
   "metadata": {
    "colab": {
     "base_uri": "https://localhost:8080/",
     "height": 816
    },
    "colab_type": "code",
    "id": "JR-yCAhmY_nD",
    "outputId": "765fe51c-1140-4704-f39d-c26e3eb1524d"
   },
   "outputs": [
    {
     "data": {
      "text/plain": [
       "[array([1.3205292, 1.5055133, 1.7891656, 1.405719 ], dtype=float32),\n",
       " array([ 0.09343385,  0.13511747, -0.22417507, -0.2037996 ], dtype=float32),\n",
       " array([0., 0., 0., 0.], dtype=float32),\n",
       " array([1., 1., 1., 1.], dtype=float32),\n",
       " array([[ 0.12891398,  0.26681897, -0.36996704, -0.00922233, -0.23573215,\n",
       "         -0.85345846, -0.26443598,  0.25622067, -0.6141776 , -0.39203316],\n",
       "        [ 0.8248304 ,  0.24740723, -0.1047457 ,  0.583333  , -0.8266098 ,\n",
       "          0.37202066, -0.6342222 ,  0.33109686, -0.61658734,  0.32854518],\n",
       "        [-0.45940292, -0.40132332,  0.78181493,  0.5068294 ,  0.8438121 ,\n",
       "         -0.50818235,  0.89026874, -0.6305408 ,  0.8479635 , -0.49814647],\n",
       "        [-0.9185062 , -0.5464031 ,  0.35483956, -0.23513791,  0.04257697,\n",
       "          0.5425221 ,  0.44580722, -0.185155  ,  0.7335181 , -0.3565643 ]],\n",
       "       dtype=float32),\n",
       " array([ 0.05666274,  0.04909118, -0.05705774, -0.00688343, -0.05825923,\n",
       "        -0.04472131, -0.05818095,  0.01473117, -0.09386516,  0.04119261],\n",
       "       dtype=float32),\n",
       " array([[ 0.33984047, -0.6587257 ,  0.8819227 , -0.5186273 ,  0.20428647,\n",
       "          0.2133985 , -1.2657061 , -0.34024528],\n",
       "        [ 0.8629899 , -0.5955396 ,  0.1710388 ,  0.12116111, -0.07407202,\n",
       "         -0.06922692, -0.19114365, -0.5362881 ],\n",
       "        [-0.4974534 , -0.49740046, -0.31874657,  0.2847567 ,  0.11292725,\n",
       "          0.32084268,  0.20817605,  0.6380341 ],\n",
       "        [ 0.41115037, -0.02009327,  0.00444414, -0.11616842,  0.22626202,\n",
       "          0.17075972,  0.15680422, -0.1488001 ],\n",
       "        [-0.7261792 ,  0.19011591, -0.5402854 , -0.4012521 , -0.09275413,\n",
       "         -0.6165049 ,  0.73413223,  0.74888206],\n",
       "        [-0.35510045, -0.5093112 , -0.16496713,  0.04399042, -0.03261516,\n",
       "          0.22331023,  0.3592044 ,  0.46822795],\n",
       "        [-0.9798603 ,  0.03342259, -0.76744384,  0.2186596 , -0.29756805,\n",
       "         -0.26560473,  0.45916158,  0.78298014],\n",
       "        [ 0.5561733 , -0.07742605,  0.3267524 , -0.02697747, -0.20748858,\n",
       "         -0.30574858, -0.6269522 ,  0.09573311],\n",
       "        [-0.5734492 ,  0.5966949 , -1.0600973 ,  0.38952693, -0.4672633 ,\n",
       "         -0.03165966,  1.2867423 ,  0.23293267],\n",
       "        [ 0.10825793, -0.02944936,  0.18529305, -0.5013028 , -0.2740126 ,\n",
       "         -0.24610887, -0.58939487,  0.15300126]], dtype=float32),\n",
       " array([ 0.07598435,  0.01481597,  0.40934765,  0.00176008, -0.00449172,\n",
       "        -0.00865426, -0.24300037, -0.06722394], dtype=float32),\n",
       " array([[ 1.9164635 , -0.08307566, -0.78798074],\n",
       "        [-0.16967453, -0.71881706,  0.7280822 ],\n",
       "        [ 1.7607243 , -0.28450832, -1.094849  ],\n",
       "        [-0.17977214,  0.47161916,  0.29632932],\n",
       "        [-0.15236142, -0.2673452 , -0.5847138 ],\n",
       "        [ 0.25744742,  0.59127885, -0.21698049],\n",
       "        [-1.7081506 ,  0.8102904 ,  1.6149514 ],\n",
       "        [-0.8152669 ,  0.95717955,  0.37697777]], dtype=float32),\n",
       " array([ 0.13348156, -0.08311158, -0.05036996], dtype=float32)]"
      ]
     },
     "execution_count": 48,
     "metadata": {
      "tags": []
     },
     "output_type": "execute_result"
    }
   ],
   "source": [
    "model_iris.get_weights()"
   ]
  },
  {
   "cell_type": "markdown",
   "metadata": {
    "colab_type": "text",
    "id": "Q44mJFe0Y_nK"
   },
   "source": [
    "### Report Accuracy of the predicted values"
   ]
  },
  {
   "cell_type": "code",
   "execution_count": 52,
   "metadata": {
    "colab": {
     "base_uri": "https://localhost:8080/",
     "height": 51
    },
    "colab_type": "code",
    "id": "fBmjfFmMY_nL",
    "outputId": "4d153ba0-dd7a-4ab3-cc4e-c2c3a43e20b0"
   },
   "outputs": [
    {
     "name": "stdout",
     "output_type": "stream",
     "text": [
      "45/45 [==============================] - 0s 80us/step\n"
     ]
    },
    {
     "data": {
      "text/plain": [
       "[0.4224045197168986, 1.0]"
      ]
     },
     "execution_count": 52,
     "metadata": {
      "tags": []
     },
     "output_type": "execute_result"
    }
   ],
   "source": [
    "model_iris.evaluate(testX,testY)"
   ]
  },
  {
   "cell_type": "code",
   "execution_count": 0,
   "metadata": {
    "colab": {},
    "colab_type": "code",
    "collapsed": true,
    "id": "6KCHHtDvEgGz"
   },
   "outputs": [],
   "source": []
  }
 ],
 "metadata": {
  "colab": {
   "name": "R6_InternalLab_AIML.ipynb",
   "provenance": [],
   "version": "0.3.2"
  },
  "kernelspec": {
   "display_name": "Python 3",
   "language": "python",
   "name": "python3"
  },
  "language_info": {
   "codemirror_mode": {
    "name": "ipython",
    "version": 3
   },
   "file_extension": ".py",
   "mimetype": "text/x-python",
   "name": "python",
   "nbconvert_exporter": "python",
   "pygments_lexer": "ipython3",
   "version": "3.6.1"
  }
 },
 "nbformat": 4,
 "nbformat_minor": 1
}
