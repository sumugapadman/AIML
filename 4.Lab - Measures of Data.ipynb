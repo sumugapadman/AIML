{
 "cells": [
  {
   "cell_type": "markdown",
   "metadata": {},
   "source": [
    "## Lab Brief - Statistical Learning with Python"
   ]
  },
  {
   "cell_type": "markdown",
   "metadata": {},
   "source": [
    "### Part-1"
   ]
  },
  {
   "cell_type": "markdown",
   "metadata": {},
   "source": [
    "## Measures of Data"
   ]
  },
  {
   "cell_type": "markdown",
   "metadata": {},
   "source": [
    "Descriptive Statistcs are measures that summarize important features of data. Producing these descriptive statistics is a common first step to take after cleaning and preparing a dataset for further analysis. Examples are like calculating Mean or Median. In this lab, we will be looking into some of these functions and explore several new ones."
   ]
  },
  {
   "cell_type": "markdown",
   "metadata": {},
   "source": [
    "#### Measures of Central Tendency"
   ]
  },
  {
   "cell_type": "markdown",
   "metadata": {},
   "source": [
    "Whenever you measure things of the same kind, a fairly large number of such measurements will tend to cluster around the middle value. Such a value is called a measure of \"Central Tendency\". The other terms that are used synonymously are \"Measures of Location\", or \"Statistical Averages\". "
   ]
  },
  {
   "cell_type": "code",
   "execution_count": 1,
   "metadata": {},
   "outputs": [],
   "source": [
    "import numpy as np\n",
    "import pandas as pd\n",
    "import matplotlib.pyplot as plt\n",
    "\n",
    "mtcars = pd.read_csv('mtcars.csv')"
   ]
  },
  {
   "cell_type": "markdown",
   "metadata": {},
   "source": [
    "##### Using the mtcars dataset.\n",
    "\n",
    "For the below set of questions, we will be using the cars data from [Motor Trend Car Road Tests](http://stat.ethz.ch/R-manual/R-devel/library/datasets/html/mtcars.html)\n",
    "\n",
    "The data was extracted from the 1974 Motor Trend US magazine, and comprises fuel consumption and 10 aspects of automobile design and performance for 32 automobiles (1973–74 models). \n",
    "\n",
    "\n",
    "Details :\n",
    "    \n",
    "A data frame with 32 observations on 11 (numeric) variables.\n",
    "\n",
    "[, 1] \tmpg \tMiles/(US) gallon\n",
    "\n",
    "[, 2] \tcyl \tNumber of cylinders\n",
    "\n",
    "[, 3] \tdisp \tDisplacement (cu.in.)\n",
    "\n",
    "[, 4] \thp \tGross horsepower\n",
    "\n",
    "[, 5] \tdrat \tRear axle ratio\n",
    "\n",
    "[, 6] \twt \tWeight (1000 lbs)\n",
    "\n",
    "[, 7] \tqsec \t1/4 mile time\n",
    "\n",
    "[, 8] \tvs \tEngine (0 = V-shaped, 1 = straight)\n",
    "\n",
    "[, 9] \tam \tTransmission (0 = automatic, 1 = manual)\n",
    "\n",
    "[,10] \tgear \tNumber of forward gears\n",
    "\n",
    "[,11] \tcarb \tNumber of carburetors "
   ]
  },
  {
   "cell_type": "markdown",
   "metadata": {},
   "source": [
    "#### Explore the data - Setting the index"
   ]
  },
  {
   "cell_type": "code",
   "execution_count": 2,
   "metadata": {},
   "outputs": [
    {
     "data": {
      "text/html": [
       "<div>\n",
       "<style scoped>\n",
       "    .dataframe tbody tr th:only-of-type {\n",
       "        vertical-align: middle;\n",
       "    }\n",
       "\n",
       "    .dataframe tbody tr th {\n",
       "        vertical-align: top;\n",
       "    }\n",
       "\n",
       "    .dataframe thead th {\n",
       "        text-align: right;\n",
       "    }\n",
       "</style>\n",
       "<table border=\"1\" class=\"dataframe\">\n",
       "  <thead>\n",
       "    <tr style=\"text-align: right;\">\n",
       "      <th></th>\n",
       "      <th>name</th>\n",
       "      <th>mpg</th>\n",
       "      <th>cyl</th>\n",
       "      <th>disp</th>\n",
       "      <th>hp</th>\n",
       "      <th>drat</th>\n",
       "      <th>wt</th>\n",
       "      <th>qsec</th>\n",
       "      <th>vs</th>\n",
       "      <th>am</th>\n",
       "      <th>gear</th>\n",
       "      <th>carb</th>\n",
       "    </tr>\n",
       "    <tr>\n",
       "      <th>name</th>\n",
       "      <th></th>\n",
       "      <th></th>\n",
       "      <th></th>\n",
       "      <th></th>\n",
       "      <th></th>\n",
       "      <th></th>\n",
       "      <th></th>\n",
       "      <th></th>\n",
       "      <th></th>\n",
       "      <th></th>\n",
       "      <th></th>\n",
       "      <th></th>\n",
       "    </tr>\n",
       "  </thead>\n",
       "  <tbody>\n",
       "    <tr>\n",
       "      <th>Mazda RX4</th>\n",
       "      <td>Mazda RX4</td>\n",
       "      <td>21.0</td>\n",
       "      <td>6</td>\n",
       "      <td>160.0</td>\n",
       "      <td>110</td>\n",
       "      <td>3.90</td>\n",
       "      <td>2.620</td>\n",
       "      <td>16.46</td>\n",
       "      <td>0</td>\n",
       "      <td>1</td>\n",
       "      <td>4</td>\n",
       "      <td>4</td>\n",
       "    </tr>\n",
       "    <tr>\n",
       "      <th>Mazda RX4 Wag</th>\n",
       "      <td>Mazda RX4 Wag</td>\n",
       "      <td>21.0</td>\n",
       "      <td>6</td>\n",
       "      <td>160.0</td>\n",
       "      <td>110</td>\n",
       "      <td>3.90</td>\n",
       "      <td>2.875</td>\n",
       "      <td>17.02</td>\n",
       "      <td>0</td>\n",
       "      <td>1</td>\n",
       "      <td>4</td>\n",
       "      <td>4</td>\n",
       "    </tr>\n",
       "    <tr>\n",
       "      <th>Datsun 710</th>\n",
       "      <td>Datsun 710</td>\n",
       "      <td>22.8</td>\n",
       "      <td>4</td>\n",
       "      <td>108.0</td>\n",
       "      <td>93</td>\n",
       "      <td>3.85</td>\n",
       "      <td>2.320</td>\n",
       "      <td>18.61</td>\n",
       "      <td>1</td>\n",
       "      <td>1</td>\n",
       "      <td>4</td>\n",
       "      <td>1</td>\n",
       "    </tr>\n",
       "    <tr>\n",
       "      <th>Hornet 4 Drive</th>\n",
       "      <td>Hornet 4 Drive</td>\n",
       "      <td>21.4</td>\n",
       "      <td>6</td>\n",
       "      <td>258.0</td>\n",
       "      <td>110</td>\n",
       "      <td>3.08</td>\n",
       "      <td>3.215</td>\n",
       "      <td>19.44</td>\n",
       "      <td>1</td>\n",
       "      <td>0</td>\n",
       "      <td>3</td>\n",
       "      <td>1</td>\n",
       "    </tr>\n",
       "    <tr>\n",
       "      <th>Hornet Sportabout</th>\n",
       "      <td>Hornet Sportabout</td>\n",
       "      <td>18.7</td>\n",
       "      <td>8</td>\n",
       "      <td>360.0</td>\n",
       "      <td>175</td>\n",
       "      <td>3.15</td>\n",
       "      <td>3.440</td>\n",
       "      <td>17.02</td>\n",
       "      <td>0</td>\n",
       "      <td>0</td>\n",
       "      <td>3</td>\n",
       "      <td>2</td>\n",
       "    </tr>\n",
       "  </tbody>\n",
       "</table>\n",
       "</div>"
      ],
      "text/plain": [
       "                                name   mpg  cyl   disp   hp  drat     wt  \\\n",
       "name                                                                       \n",
       "Mazda RX4                  Mazda RX4  21.0    6  160.0  110  3.90  2.620   \n",
       "Mazda RX4 Wag          Mazda RX4 Wag  21.0    6  160.0  110  3.90  2.875   \n",
       "Datsun 710                Datsun 710  22.8    4  108.0   93  3.85  2.320   \n",
       "Hornet 4 Drive        Hornet 4 Drive  21.4    6  258.0  110  3.08  3.215   \n",
       "Hornet Sportabout  Hornet Sportabout  18.7    8  360.0  175  3.15  3.440   \n",
       "\n",
       "                    qsec  vs  am  gear  carb  \n",
       "name                                          \n",
       "Mazda RX4          16.46   0   1     4     4  \n",
       "Mazda RX4 Wag      17.02   0   1     4     4  \n",
       "Datsun 710         18.61   1   1     4     1  \n",
       "Hornet 4 Drive     19.44   1   0     3     1  \n",
       "Hornet Sportabout  17.02   0   0     3     2  "
      ]
     },
     "execution_count": 2,
     "metadata": {},
     "output_type": "execute_result"
    }
   ],
   "source": [
    "mtcars.index = mtcars[\"name\"]\n",
    "mtcars.head()\n",
    "# mtcars.mean() #By default this will give the mean of each column"
   ]
  },
  {
   "cell_type": "markdown",
   "metadata": {},
   "source": [
    "### Question 1\n",
    "\n",
    "What is the first car name given in mtcars?\n",
    "\n",
    "** Make use of index which has been set previously **\n",
    "\n",
    "**Hint**: Use .loc function\n"
   ]
  },
  {
   "cell_type": "code",
   "execution_count": 49,
   "metadata": {
    "scrolled": true
   },
   "outputs": [
    {
     "name": "stdout",
     "output_type": "stream",
     "text": [
      "first car name : Mazda RX4  \n"
     ]
    }
   ],
   "source": [
    "print('first car name : {0}  '.format(mtcars.index[0]))"
   ]
  },
  {
   "cell_type": "markdown",
   "metadata": {},
   "source": [
    "### Question 2\n",
    "What is the highest difference between the hp and cyl?\n",
    "\n",
    "**Hint:** You can use **max()** function to find the difference"
   ]
  },
  {
   "cell_type": "code",
   "execution_count": 10,
   "metadata": {},
   "outputs": [
    {
     "name": "stdout",
     "output_type": "stream",
     "text": [
      "hp     335\n",
      "cyl      8\n",
      "dtype: int64\n",
      "Differemce between hp and cyl : 327\n"
     ]
    }
   ],
   "source": [
    "res = mtcars[[\"hp\", \"cyl\"]].max(axis=0)\n",
    "print(res)\n",
    "print('Differemce between hp and cyl : {0}'.format(res.hp - res.cyl))"
   ]
  },
  {
   "cell_type": "markdown",
   "metadata": {},
   "source": [
    "### Question 3\n",
    "What are the cars having highest weight(wt) and lowest weight(wt)?\n",
    "\n",
    "**Hint:** Use idxmax() and idxmin() to locate the row\n",
    "\n",
    "Use **.iloc** function to print the  row\n",
    "\n",
    "**Note:** Both idxmax and idxmin belong to pandas"
   ]
  },
  {
   "cell_type": "code",
   "execution_count": 20,
   "metadata": {},
   "outputs": [
    {
     "name": "stdout",
     "output_type": "stream",
     "text": [
      "Heaviest car : Lincoln Continental \n"
     ]
    },
    {
     "data": {
      "text/plain": [
       "name    Lincoln Continental\n",
       "mpg                    10.4\n",
       "cyl                       8\n",
       "disp                    460\n",
       "hp                      215\n",
       "drat                      3\n",
       "wt                    5.424\n",
       "qsec                  17.82\n",
       "vs                        0\n",
       "am                        0\n",
       "gear                      3\n",
       "carb                      4\n",
       "Name: Lincoln Continental, dtype: object"
      ]
     },
     "execution_count": 20,
     "metadata": {},
     "output_type": "execute_result"
    }
   ],
   "source": [
    "# heighest weight & lowest weight\n",
    "print('Heaviest car : {0} '.format(mtcars[\"wt\"].idxmax()));\n",
    "# row \n",
    "mtcars.loc[mtcars[\"wt\"].idxmax()]\n"
   ]
  },
  {
   "cell_type": "code",
   "execution_count": 19,
   "metadata": {},
   "outputs": [
    {
     "name": "stdout",
     "output_type": "stream",
     "text": [
      "Lightest car : Lotus Europa \n"
     ]
    },
    {
     "data": {
      "text/plain": [
       "name    Lotus Europa\n",
       "mpg             30.4\n",
       "cyl                4\n",
       "disp            95.1\n",
       "hp               113\n",
       "drat            3.77\n",
       "wt             1.513\n",
       "qsec            16.9\n",
       "vs                 1\n",
       "am                 1\n",
       "gear               5\n",
       "carb               2\n",
       "Name: Lotus Europa, dtype: object"
      ]
     },
     "execution_count": 19,
     "metadata": {},
     "output_type": "execute_result"
    }
   ],
   "source": [
    "print('Lightest car : {0} '.format(mtcars[\"wt\"].idxmin()));\n",
    "mtcars.loc[mtcars[\"wt\"].idxmin()]"
   ]
  },
  {
   "cell_type": "markdown",
   "metadata": {},
   "source": [
    "### Question 4\n",
    "\n",
    "Find the mean of each row and each column in the given dataset.\n",
    "\n",
    "**Hint:** Use .mean() function. To operate on rows use **axis=0**, on columns use **axis=1**"
   ]
  },
  {
   "cell_type": "code",
   "execution_count": 25,
   "metadata": {},
   "outputs": [
    {
     "name": "stdout",
     "output_type": "stream",
     "text": [
      "mpg      20.090625\n",
      "cyl       6.187500\n",
      "disp    230.721875\n",
      "hp      146.687500\n",
      "drat      3.596563\n",
      "wt        3.217250\n",
      "qsec     17.848750\n",
      "vs        0.437500\n",
      "am        0.406250\n",
      "gear      3.687500\n",
      "carb      2.812500\n",
      "dtype: float64\n",
      "************************\n",
      "name\n",
      "Mazda RX4              29.907273\n",
      "Mazda RX4 Wag          29.981364\n",
      "Datsun 710             23.598182\n",
      "Hornet 4 Drive         38.739545\n",
      "Hornet Sportabout      53.664545\n",
      "Valiant                35.049091\n",
      "Duster 360             59.720000\n",
      "Merc 240D              24.634545\n",
      "Merc 230               27.233636\n",
      "Merc 280               31.860000\n",
      "Merc 280C              31.787273\n",
      "Merc 450SE             46.430909\n",
      "Merc 450SL             46.500000\n",
      "Merc 450SLC            46.350000\n",
      "Cadillac Fleetwood     66.232727\n",
      "Lincoln Continental    66.058545\n",
      "Chrysler Imperial      65.972273\n",
      "Fiat 128               19.440909\n",
      "Honda Civic            17.742273\n",
      "Toyota Corolla         18.814091\n",
      "Toyota Corona          24.888636\n",
      "Dodge Challenger       47.240909\n",
      "AMC Javelin            46.007727\n",
      "Camaro Z28             58.752727\n",
      "Pontiac Firebird       57.379545\n",
      "Fiat X1-9              18.928636\n",
      "Porsche 914-2          24.779091\n",
      "Lotus Europa           24.880273\n",
      "Ford Pantera L         60.971818\n",
      "Ferrari Dino           34.508182\n",
      "Maserati Bora          63.155455\n",
      "Volvo 142E             26.262727\n",
      "dtype: float64\n"
     ]
    }
   ],
   "source": [
    "# columns\n",
    "print(mtcars.mean(axis=0))\n",
    "print('************************')\n",
    "#rows\n",
    "print(mtcars.mean(axis=1))"
   ]
  },
  {
   "cell_type": "markdown",
   "metadata": {},
   "source": [
    "### Question 5\n",
    "\n",
    "Plot mpg values of mtcards dataframe using matplotlib.\n",
    "\n",
    "**Hint: Use plt.plot function**"
   ]
  },
  {
   "cell_type": "code",
   "execution_count": 26,
   "metadata": {},
   "outputs": [
    {
     "data": {
      "text/plain": [
       "[<matplotlib.lines.Line2D at 0xc04430>]"
      ]
     },
     "execution_count": 26,
     "metadata": {},
     "output_type": "execute_result"
    },
    {
     "data": {
      "image/png": "[encoded data removed]",
      "text/plain": [
       "<Figure size 432x288 with 1 Axes>"
      ]
     },
     "metadata": {
      "needs_background": "light"
     },
     "output_type": "display_data"
    }
   ],
   "source": [
    "plt.plot(mtcars['mpg'])"
   ]
  },
  {
   "cell_type": "markdown",
   "metadata": {},
   "source": [
    "## Part 2"
   ]
  },
  {
   "cell_type": "markdown",
   "metadata": {},
   "source": [
    "## Measures of Dispersion"
   ]
  },
  {
   "cell_type": "markdown",
   "metadata": {},
   "source": [
    "Measures of Dispersion (Spread) are statistics that describe how data varies. Measure of dispersion gives us the sense of how much the data tends to diverge from the central tendency."
   ]
  },
  {
   "cell_type": "markdown",
   "metadata": {},
   "source": [
    "### Question 6\n",
    "\n",
    "What the range of `mpg` in the given dataset?\n",
    "\n",
    "**Hint:** Range = max-min"
   ]
  },
  {
   "cell_type": "code",
   "execution_count": 29,
   "metadata": {},
   "outputs": [
    {
     "name": "stdout",
     "output_type": "stream",
     "text": [
      "23.5\n"
     ]
    }
   ],
   "source": [
    "r1 = mtcars[\"mpg\"].max(axis=0) - mtcars[\"mpg\"].min(axis=0)\n",
    "print(r1)"
   ]
  },
  {
   "cell_type": "markdown",
   "metadata": {},
   "source": [
    "### Question 7\n",
    "\n",
    "Calculate the 25th quantile (lower quantile)for `mpg` in the given dataset.\n",
    "\n",
    "**Hint:** Use **.quantile()**"
   ]
  },
  {
   "cell_type": "code",
   "execution_count": 31,
   "metadata": {},
   "outputs": [
    {
     "name": "stdout",
     "output_type": "stream",
     "text": [
      "25th quantile : 15.425\n"
     ]
    }
   ],
   "source": [
    "print('25th quantile : '+str(mtcars[\"mpg\"].quantile(0.25)))"
   ]
  },
  {
   "cell_type": "markdown",
   "metadata": {},
   "source": [
    "### Question 8\n",
    "\n",
    "Calculate the Inter-Quartile Range(IQR) for `mpg` in the given dataset."
   ]
  },
  {
   "cell_type": "markdown",
   "metadata": {},
   "source": [
    "Interquartile range (IQR) is another common measure of spread. IQR is the distance between the 3rd quartile and the 1st quartile.\n",
    "\n",
    "**Hint:** IQR = Q3 - Q1"
   ]
  },
  {
   "cell_type": "code",
   "execution_count": 32,
   "metadata": {},
   "outputs": [
    {
     "name": "stdout",
     "output_type": "stream",
     "text": [
      "IQR Range  : 7.375\n"
     ]
    }
   ],
   "source": [
    "print('IQR Range  : '+str(mtcars[\"mpg\"].quantile(0.75) - mtcars[\"mpg\"].quantile(0.25)))"
   ]
  },
  {
   "cell_type": "markdown",
   "metadata": {},
   "source": [
    "### Question 9\n",
    "\n",
    "Calculate the Variance, Standard Deviation and Median Absolute Deviation for `mpg`."
   ]
  },
  {
   "cell_type": "markdown",
   "metadata": {},
   "source": [
    "Variance and Standard Deviation are two other common measure of dispersion.\n",
    "\n",
    "**Hint:** Use .var() and .std()"
   ]
  },
  {
   "cell_type": "markdown",
   "metadata": {},
   "source": [
    "**Hint:** Median Absolute Deviation - alternative measure of spread based on the median. It is the median of the absolute value of the deviations from the median. "
   ]
  },
  {
   "cell_type": "code",
   "execution_count": 38,
   "metadata": {},
   "outputs": [
    {
     "name": "stdout",
     "output_type": "stream",
     "text": [
      " Variance : 36.32410282258064\n",
      " Standard Deviation : 6.026948052089104\n"
     ]
    }
   ],
   "source": [
    "#Variance \n",
    "print(' Variance : ' + str(mtcars[\"mpg\"].var()));\n",
    "# Stamdard Deviations\n",
    "print(' Standard Deviation : ' + str(mtcars[\"mpg\"].std()));"
   ]
  },
  {
   "cell_type": "code",
   "execution_count": 39,
   "metadata": {},
   "outputs": [
    {
     "name": "stdout",
     "output_type": "stream",
     "text": [
      " Median Absolute Deviation  : 4.714453125\n"
     ]
    }
   ],
   "source": [
    "#Median Absolute Deviation \n",
    "print(' Median Absolute Deviation  : ' + str(mtcars[\"mpg\"].mad()));"
   ]
  },
  {
   "cell_type": "markdown",
   "metadata": {},
   "source": [
    "## Part 3"
   ]
  },
  {
   "cell_type": "markdown",
   "metadata": {},
   "source": [
    "## Probability Distributions"
   ]
  },
  {
   "cell_type": "markdown",
   "metadata": {},
   "source": [
    "The probability distribution describes how a random variable is distributed. It tells us which values a variable is most likely to take on and which values are less likely to take on. "
   ]
  },
  {
   "cell_type": "markdown",
   "metadata": {},
   "source": [
    "Each value in the given range is equally likely to occur. "
   ]
  },
  {
   "cell_type": "code",
   "execution_count": 40,
   "metadata": {},
   "outputs": [],
   "source": [
    "import scipy.stats as stats # Many functions for probability distributions in python are in scipy.stats"
   ]
  },
  {
   "cell_type": "markdown",
   "metadata": {},
   "source": [
    "### Question 10\n",
    "\n",
    "Generate 1000 datapoints with standard normal distribution with mean 0 and standard deviation 1. "
   ]
  },
  {
   "cell_type": "markdown",
   "metadata": {},
   "source": [
    "#### Normal Distribution"
   ]
  },
  {
   "cell_type": "markdown",
   "metadata": {},
   "source": [
    "The normal or Gaussian Distribution is a continuos probability distribution given by a symmetric bell shaped curve. It is defined its center(mean) and spread(std)."
   ]
  },
  {
   "cell_type": "markdown",
   "metadata": {},
   "source": [
    "The bulk of the observations generated from a normal distribution lie near the mean which lies at the center. About 68% of the data lies within 1 std, 95% lies within 2 stds and 99.7% lies within 3 stds.\n",
    "\n",
    "**Hint:** You can use **np.random.normal()** function to generate normal distribution"
   ]
  },
  {
   "cell_type": "code",
   "execution_count": 41,
   "metadata": {},
   "outputs": [
    {
     "data": {
      "text/plain": [
       "array([-4.68730291e-01,  2.81380747e-01,  9.50722252e-01, -1.15875090e+00,\n",
       "       -1.02702247e+00,  7.67966055e-01,  1.50043480e+00,  1.80894187e+00,\n",
       "        5.52425419e-01, -8.30278724e-01, -3.66210913e-01,  5.64604386e-01,\n",
       "        5.47075330e-01,  5.43659614e-01, -9.27058473e-01,  7.84315094e-01,\n",
       "       -1.82582584e+00,  1.00594485e+00,  8.52564092e-01, -1.79732370e-01,\n",
       "       -3.13946175e-01, -7.61675464e-01, -1.20793243e-01, -1.36316843e-01,\n",
       "       -3.66495778e-01,  1.30447287e-01, -2.03010231e-01,  8.57816402e-02,\n",
       "       -7.91667735e-01, -7.65971774e-01, -8.76195655e-01,  3.58647928e-01,\n",
       "        1.21281265e+00, -3.02079591e-01, -1.21535250e+00,  2.03029178e-01,\n",
       "        8.02274670e-01, -9.44349034e-01,  1.14677681e+00,  5.72378406e-01,\n",
       "       -5.51448095e-01,  1.24155992e+00,  1.32798144e+00,  1.68458322e+00,\n",
       "        6.98854557e-01, -1.26442602e-01, -1.91187936e+00, -1.70835801e-01,\n",
       "        7.90971731e-01, -4.15840107e-01,  1.82443231e+00, -1.10774274e-01,\n",
       "       -3.54234279e-01,  1.37247127e+00, -3.35605540e-01, -1.97677397e-01,\n",
       "       -1.46025261e+00, -1.23314116e+00, -3.82565435e-01,  1.20567275e+00,\n",
       "        3.31397427e-01, -6.75168853e-01,  5.93117463e-01,  3.43401243e-01,\n",
       "       -3.52448571e-01,  1.11803112e-01,  1.24300044e+00,  1.32640321e+00,\n",
       "        2.75119432e-01, -3.12689194e-01,  3.18133618e-01, -2.53025054e-01,\n",
       "        1.38698854e+00, -6.15723316e-01,  6.24708855e-02, -2.14349641e+00,\n",
       "       -8.91937036e-01, -2.08463828e-01,  1.12699037e+00, -1.04637637e+00,\n",
       "       -3.16508725e-01,  4.34376123e-01, -2.28683819e-01,  1.52883011e+00,\n",
       "       -9.75029580e-01, -1.02367803e-02, -9.39072225e-01, -4.80411438e-01,\n",
       "        9.24877246e-02, -1.15200828e+00,  3.74824430e-01,  4.94358200e-02,\n",
       "       -1.30879926e-01,  1.51121236e+00, -2.04350434e-01, -1.14401609e-01,\n",
       "       -1.08347576e+00,  4.30930717e-01,  2.46507813e-01,  3.73175772e-02,\n",
       "        9.61849473e-01,  2.79666838e-01, -5.71567233e-02,  1.49752051e+00,\n",
       "        4.06381952e-01,  3.05556869e-01,  7.82322251e-01,  6.18763592e-01,\n",
       "        1.15329393e+00,  5.62914443e-01, -8.08799876e-01, -1.77198855e-01,\n",
       "       -3.68979973e-01,  1.04023548e+00, -7.93822504e-01, -3.95333963e-01,\n",
       "       -8.18121096e-01,  5.66827080e-01,  1.75000716e-01,  5.14121039e-01,\n",
       "       -6.82615450e-01, -5.58703209e-01,  5.34600196e-02, -1.03650741e+00,\n",
       "       -2.14041111e-01,  6.51638891e-01, -2.38509187e+00, -1.02328970e+00,\n",
       "        9.15929795e-01, -6.94919210e-02,  1.05392484e+00,  1.42164193e+00,\n",
       "        2.36340335e+00, -2.82532307e-01, -6.19346091e-01, -5.47592011e-01,\n",
       "        4.88806705e-01,  4.23819123e-01,  1.13443269e+00, -2.49486175e-01,\n",
       "        8.65993165e-01,  8.28111627e-01, -2.38042377e-01, -2.91126168e-01,\n",
       "        1.95734452e+00, -5.59734832e-01, -7.14587239e-01,  1.49035094e+00,\n",
       "        3.66135499e-01,  1.30898067e+00,  1.30131273e+00, -4.83373550e-01,\n",
       "       -4.11357448e-01, -2.63231126e+00, -1.24155445e+00, -2.14977815e+00,\n",
       "        1.27910656e+00, -2.91617859e-01, -1.25408252e+00,  5.66986621e-01,\n",
       "        2.15347998e+00, -4.15960769e-01,  1.86405061e+00,  9.23347168e-03,\n",
       "        6.37532821e-01, -3.91271260e-01, -1.35710788e+00, -2.15414382e+00,\n",
       "       -7.81406070e-01,  7.50585943e-01, -4.79830470e-01,  9.87720277e-01,\n",
       "        3.66067721e-01,  2.47635920e-01, -1.06560404e+00, -4.09623538e-02,\n",
       "       -1.09872783e+00,  7.38270387e-01, -1.73400216e+00, -1.04992835e+00,\n",
       "        7.36063310e-01, -5.89716851e-01,  2.79704362e-01,  5.52813108e-01,\n",
       "       -2.53570721e+00, -4.62247422e-01, -2.29591676e+00, -6.89444267e-01,\n",
       "        5.84492015e-01, -2.44359013e-01, -2.37762142e-02,  3.44692825e-01,\n",
       "        1.69552664e+00, -2.44408306e-01,  1.03861558e+00, -1.23917884e+00,\n",
       "       -2.06917572e-01,  6.14855113e-01,  9.14646899e-01, -9.17988942e-01,\n",
       "       -1.23147378e+00, -6.12423290e-02,  5.54682378e-02,  8.65974948e-01,\n",
       "       -1.09763941e+00, -1.59200095e-01,  1.66014118e-01, -8.24752268e-01,\n",
       "        4.34699623e-01, -8.86589263e-02, -1.38396652e-01,  7.42102859e-01,\n",
       "       -8.84493313e-01, -1.37223210e+00,  9.01690547e-02,  3.56168047e-01,\n",
       "        4.20033946e-01,  1.44737826e+00, -1.54638495e-01,  5.02151896e-01,\n",
       "       -5.17976890e-01, -1.43424949e+00,  5.99188980e-01, -9.43688320e-01,\n",
       "        4.02488430e-01,  1.19790643e+00, -2.53766802e+00,  5.33091336e-01,\n",
       "        1.97457578e+00, -1.46873990e+00,  1.91331265e+00,  8.11956843e-02,\n",
       "       -6.56005763e-01, -9.80978098e-01,  9.91984718e-01, -2.55000570e-01,\n",
       "       -4.32584084e-01, -9.66225861e-01, -1.34958243e+00, -2.15169306e-01,\n",
       "        6.53370105e-01, -1.18645680e+00,  1.15381666e+00,  6.86114399e-01,\n",
       "        6.35432803e-01, -2.60146266e-01,  1.04146853e+00,  2.73233575e-01,\n",
       "        1.07466841e+00, -2.40220103e-01,  1.26174003e+00,  1.03019394e+00,\n",
       "       -2.86336795e-02, -2.41152222e-02,  1.28948027e+00, -1.31171094e+00,\n",
       "       -3.38598420e-01, -3.57760011e-01, -5.99527160e-01, -4.01971353e-01,\n",
       "       -4.83897107e-01,  8.27396898e-01, -5.94535990e-01,  9.95494057e-01,\n",
       "        1.35796517e-01, -8.09657147e-01, -6.85738390e-02,  9.53835996e-01,\n",
       "       -2.45957138e-01, -7.03706066e-01,  5.10724635e-01, -2.12253743e+00,\n",
       "       -8.89057307e-02, -5.34262780e-01,  5.88640493e-01,  1.56838076e+00,\n",
       "        1.17027782e+00,  1.74830204e-01,  3.07331534e-01,  2.13968517e+00,\n",
       "       -5.03917942e-01,  3.54296197e-01, -1.42186665e+00, -5.05186686e-01,\n",
       "        7.83365633e-01, -1.83093145e+00,  9.34735552e-01, -1.01006567e+00,\n",
       "        7.87944350e-01,  1.18249271e-02,  5.53037672e-01,  1.60358785e+00,\n",
       "        1.45206381e+00,  1.70556373e+00,  6.96123425e-01, -2.08761129e+00,\n",
       "        1.39703696e+00,  4.47203766e-01,  1.40997352e-02,  1.21287475e-01,\n",
       "       -3.24586990e-01, -5.97682060e-01, -1.58887237e+00,  1.65067339e-01,\n",
       "       -8.38036111e-01, -1.35745328e+00,  1.46198579e+00,  8.62122487e-01,\n",
       "       -1.00850770e+00, -5.31231072e-02,  3.81637718e-01,  1.85478506e+00,\n",
       "       -4.06990979e-01, -3.40831024e-01,  9.39616865e-01, -3.10372988e-01,\n",
       "        8.59735661e-01,  9.52146178e-01, -1.05167009e+00,  5.59735795e-01,\n",
       "        6.67737458e-01,  9.70629626e-01, -6.88757229e-02, -4.84680322e-01,\n",
       "        3.21410472e-01,  8.54335622e-01,  1.09371739e+00, -2.59438845e-01,\n",
       "       -3.95853002e-02,  6.18799254e-03,  1.03147674e+00,  1.10334868e+00,\n",
       "        1.75012634e-02,  1.92485805e-01, -1.76830428e+00,  1.46729724e+00,\n",
       "       -2.32851787e-01, -6.10780636e-01,  2.25066593e-01, -1.13682803e+00,\n",
       "        5.95634856e-01, -1.94787307e+00,  6.41725859e-01, -4.46508313e-01,\n",
       "       -5.83041922e-01,  4.35531058e-01,  1.50828866e-01,  9.66129996e-01,\n",
       "        1.91543047e+00, -1.10025908e+00, -2.08494691e-02, -1.04215917e+00,\n",
       "        3.53834167e-01,  4.53289666e-01, -1.30362980e+00,  3.82873407e-01,\n",
       "        3.46618939e-01, -1.25288417e+00, -4.92600739e-01,  2.46071424e-01,\n",
       "       -3.53446575e-01,  3.05902448e-01,  3.49246886e-01, -1.54731636e+00,\n",
       "        1.75877391e+00,  2.40313932e-01,  1.40114475e-01,  1.83092838e-02,\n",
       "        8.21068188e-01,  1.25376333e+00,  8.40046560e-01,  4.50273131e-01,\n",
       "       -8.27375828e-01, -1.89236917e-02, -7.94962673e-01, -3.78910465e-01,\n",
       "       -1.44771501e-02,  1.37586397e+00, -4.71502130e-01, -7.01832699e-01,\n",
       "       -1.63413820e+00, -2.10127971e+00, -3.30991795e-02,  2.22711697e-01,\n",
       "       -1.48896807e+00,  1.63112139e+00, -1.31408641e+00,  5.01213767e-01,\n",
       "        1.73738981e-01,  3.94606084e-01, -1.32897823e+00, -1.23040853e-01,\n",
       "        6.91664438e-01,  1.27073153e+00, -9.06263315e-03, -7.95501273e-01,\n",
       "        3.64395977e-01, -7.18874144e-01, -3.60457441e-01,  6.05784178e-01,\n",
       "       -1.98960972e+00,  8.50055370e-01,  1.32753839e-01, -2.57732024e-01,\n",
       "       -2.07544153e-01,  1.93570230e+00,  1.31698038e+00,  1.49810504e+00,\n",
       "       -7.48652941e-01, -7.68093881e-01,  1.83920408e+00,  2.20119000e+00,\n",
       "        2.76877501e-01,  3.03598332e-01,  8.00124825e-01, -1.13796008e+00,\n",
       "        1.23152773e+00,  1.33849532e-01,  2.55594286e+00,  2.12977071e+00,\n",
       "        1.58727670e+00, -6.81558557e-02,  2.74307473e-01, -5.27855773e-01,\n",
       "        2.46863003e+00,  9.11638683e-01,  6.26869337e-01,  1.18405384e+00,\n",
       "       -6.12394064e-01,  2.41648164e-02,  8.30820801e-01, -1.70102959e+00,\n",
       "        8.61165981e-03,  8.49541798e-01,  6.64517750e-01, -7.11267204e-01,\n",
       "       -2.35513481e-01, -5.10534213e-01,  2.22367011e-01,  7.68118454e-01,\n",
       "        3.41192813e-01, -7.09302536e-01, -9.56254419e-01,  6.09341071e-01,\n",
       "        2.10541458e-01,  2.30530609e-01, -2.50540284e-01,  7.41777255e-01,\n",
       "       -1.09571740e+00,  4.43272866e-01,  1.12157134e+00,  1.09894563e+00,\n",
       "        9.76305190e-01,  1.96057440e+00,  1.22947349e-01, -3.95934997e-01,\n",
       "        8.15818160e-01, -1.16084105e-01, -2.95050665e-01, -1.09540878e+00,\n",
       "        6.01331097e-01,  1.28378836e+00, -4.96184691e-01,  1.26392753e+00,\n",
       "       -3.25154731e-01,  1.12709247e+00, -2.53516801e+00,  1.36799722e+00,\n",
       "       -2.35716586e-01,  2.34895820e-02,  1.41859223e-01,  3.93087103e-01,\n",
       "        3.22453600e-02,  1.49777373e-02, -5.22097202e-01, -1.58152593e+00,\n",
       "        8.27041152e-01,  4.41649985e-01,  1.78690480e+00,  4.68694930e-01,\n",
       "        2.60120935e+00, -1.32289509e+00,  1.10800643e+00,  5.38332592e-02,\n",
       "       -1.50288334e+00, -9.76782071e-01, -1.97776617e+00,  4.81920260e-01,\n",
       "        2.57030171e-01,  1.50467016e+00, -1.65418062e-01,  1.16328195e+00,\n",
       "       -1.50027489e+00, -1.84804333e-01,  6.86084116e-01,  5.41098663e-01,\n",
       "        3.69282645e-01,  7.69378736e-01,  5.10957739e-01, -3.75100831e-01,\n",
       "        5.55087466e-02,  4.77773098e-01,  5.48943454e-01,  8.69873754e-01,\n",
       "       -1.32000605e+00,  4.92271407e-01, -1.16069077e+00,  5.27634072e-01,\n",
       "        1.18798982e+00,  8.21140358e-01, -9.43892613e-01, -6.87593090e-01,\n",
       "       -1.68178666e+00, -5.40590440e-01, -6.19635798e-01,  2.07110245e+00,\n",
       "        1.80643847e+00,  5.68782714e-01,  1.07203815e+00, -1.09044788e+00,\n",
       "        1.32015918e+00,  5.99004673e-01, -1.57004188e+00,  1.17294397e+00,\n",
       "        5.73430037e-01,  2.76796368e-01,  1.49136323e-01,  1.31833871e+00,\n",
       "        5.54383030e-01,  6.92898301e-01,  2.24102426e+00,  6.38611587e-01,\n",
       "        1.96652703e-01,  1.60611667e-01,  1.49276907e-01, -8.17454122e-01,\n",
       "        1.58337225e+00,  5.30823109e-01, -2.62685696e-01,  6.92210505e-01,\n",
       "        1.71831312e+00, -1.11883755e+00, -6.35493105e-01, -1.59404194e+00,\n",
       "       -3.69145892e-01, -1.92365676e+00, -1.80985469e+00, -1.17923342e+00,\n",
       "       -1.55970338e+00,  7.78706284e-01,  1.09250929e+00, -6.11354341e-01,\n",
       "        6.22105595e-01, -1.42355914e+00,  1.54402100e+00,  1.76752383e+00,\n",
       "        3.09642310e-01, -3.29122093e-01,  3.69272785e-01,  1.37812979e-01,\n",
       "       -5.80748342e-02,  2.25315928e+00, -4.31918977e-01,  4.87603948e-01,\n",
       "        8.52531907e-01,  1.20657135e-01,  3.87447920e-01, -1.44569777e-01,\n",
       "       -5.12059735e-01, -1.07421650e+00, -1.89985536e+00, -1.27000791e+00,\n",
       "       -1.72644079e+00,  3.59253316e-01, -1.68402169e+00, -1.66909490e+00,\n",
       "        1.49762144e-01, -1.32159565e+00,  6.65600793e-01,  1.36339340e+00,\n",
       "       -9.14301816e-01,  9.60546236e-01, -1.81567960e+00,  1.31361897e+00,\n",
       "       -2.42868854e-01,  1.20214718e+00, -1.04291325e-02, -1.12349992e+00,\n",
       "       -3.46350611e-01,  2.35429837e+00,  1.00756152e+00,  3.84198317e-01,\n",
       "       -9.62827597e-01, -1.44682253e+00, -6.76068778e-01, -1.02617919e+00,\n",
       "       -6.98221144e-01, -1.49622586e-01, -2.42534438e-02,  1.07296709e+00,\n",
       "        2.37623248e-01, -1.42745908e+00, -8.25211379e-01,  6.27483172e-01,\n",
       "        3.32723551e-01, -2.60643874e+00,  7.77970415e-01,  6.60362758e-01,\n",
       "        8.74419086e-01,  1.57072445e+00,  9.17433647e-01, -1.37959908e+00,\n",
       "       -7.56998739e-01,  6.10366911e-01,  4.00684702e-01,  1.08388777e+00,\n",
       "       -8.07804411e-01,  7.31715125e-02,  3.33111691e-01, -3.30137123e-01,\n",
       "        9.78891015e-01,  3.06306301e-01, -2.29082752e-01,  1.32819638e+00,\n",
       "       -9.26440025e-01, -4.83422079e-01,  4.06329459e-01,  6.34420824e-01,\n",
       "        7.69845573e-01,  5.28115170e-02, -2.63728687e-01, -9.89380824e-02,\n",
       "       -2.22388115e+00,  6.33503657e-01, -1.37159704e+00,  1.27176802e-01,\n",
       "        2.51244917e-01,  8.55704786e-01,  2.07268793e+00,  8.82757821e-01,\n",
       "        2.65464187e-02, -1.60104385e-01,  2.49236075e-02,  1.27457364e+00,\n",
       "        1.43714223e+00, -2.38286506e-01,  1.42076897e+00, -2.73224382e-01,\n",
       "       -5.26990247e-01, -2.91568531e-03,  9.03244346e-01,  8.97821125e-01,\n",
       "       -1.06170868e+00,  8.97529797e-01, -1.38805285e+00, -6.49385111e-01,\n",
       "       -1.74419077e-01, -9.01535322e-01,  1.28147837e+00, -7.31658368e-03,\n",
       "       -4.86652558e-01,  7.22501757e-01,  5.52701400e-01, -1.04232866e+00,\n",
       "       -1.47470811e-01,  5.47530162e-01, -1.16263553e+00,  1.69286316e-01,\n",
       "       -6.31715759e-01,  1.44101056e+00, -4.93832378e-01, -8.78502912e-01,\n",
       "        1.04692601e+00, -6.07056332e-01, -1.89514635e-01, -1.54906171e+00,\n",
       "        5.81414121e-02,  8.77243601e-01,  1.58157902e+00,  5.40433656e-01,\n",
       "        1.14012757e+00, -5.07004006e-01,  3.39698800e-01, -8.86779157e-01,\n",
       "       -6.02517060e-01, -1.02795243e+00,  3.69990712e-01, -8.63242582e-03,\n",
       "        2.03045543e-03, -2.44114919e-02,  1.20947602e+00,  2.62884293e+00,\n",
       "        2.77985675e-01, -7.89053829e-02, -1.48521321e+00,  1.09793722e+00,\n",
       "        1.47052735e-01, -1.03818947e+00,  1.74245959e+00,  5.87331957e-01,\n",
       "        2.71709020e-01,  1.00444894e+00, -1.22171449e+00, -1.28762966e-01,\n",
       "        2.03863085e+00, -4.94765317e-01,  4.63266331e-01,  6.06300023e-01,\n",
       "       -1.67134942e+00, -1.83053380e+00,  9.92849140e-02, -2.86279245e-01,\n",
       "        1.86408146e+00,  2.28820050e-01, -2.43375402e-01,  3.82797011e-02,\n",
       "        7.97502043e-01,  1.20206141e+00, -8.75405546e-01,  1.44103127e+00,\n",
       "       -5.79311991e-01, -3.23546928e-01,  4.34985224e-01, -6.06438565e-01,\n",
       "        3.31565243e-01,  2.75241495e-01, -2.72664110e-01,  1.84854480e-01,\n",
       "       -4.07673623e-01,  6.04593187e-01, -7.72214296e-01,  2.46022489e-01,\n",
       "       -7.08462726e-01, -9.78988461e-01,  3.52844093e-01, -5.86618984e-01,\n",
       "       -1.44381599e-01,  2.11436563e-02,  7.20754018e-01,  2.68122235e-01,\n",
       "       -5.66537394e-01,  1.99664688e+00, -1.35884764e+00,  4.95440616e-01,\n",
       "       -1.50340275e+00,  6.53534221e-01, -1.76811901e+00,  7.00566260e-01,\n",
       "       -2.22967587e-01,  4.22348600e-01,  5.36139645e-01,  6.33617382e-02,\n",
       "        4.38896538e-01,  7.61846565e-01,  1.54301481e+00,  2.29622203e-01,\n",
       "       -7.80258392e-01,  2.50955657e+00, -2.54104344e+00,  3.73181272e-01,\n",
       "        3.19539855e-01, -4.97400601e-01,  1.02051383e+00, -1.83900797e+00,\n",
       "        9.04277616e-01, -3.03982922e-01, -4.72194010e-01, -1.01624543e+00,\n",
       "        1.47959225e-01,  1.00536775e+00,  1.40792515e+00, -1.86053725e+00,\n",
       "        5.21362708e-01,  3.97780294e-01,  1.28350092e+00,  1.77598778e-01,\n",
       "        4.81879074e-01, -1.90428544e-01,  3.74328280e-01, -4.08012787e-02,\n",
       "        3.90020030e-01, -4.12176154e-01, -9.78164229e-02,  2.41671162e-01,\n",
       "       -7.74541098e-01,  4.29935132e-01,  1.51966807e+00, -1.81790587e-01,\n",
       "        4.77636785e-01,  4.37413861e-01,  1.74702067e-01,  1.08997810e+00,\n",
       "        6.19425676e-01,  1.39545760e+00,  1.67613235e+00,  8.11455687e-01,\n",
       "       -1.39873037e+00,  8.94345579e-01, -2.58861865e-01, -5.70595672e-01,\n",
       "       -7.26013589e-01, -4.50378515e-01, -1.04999620e+00,  1.51993996e+00,\n",
       "       -6.55939199e-02, -4.74780443e-01, -2.86857066e-02,  6.63835273e-02,\n",
       "       -5.09213137e-01, -9.37329074e-01,  1.17722510e+00, -2.44959771e+00,\n",
       "        1.58197526e+00,  3.62704868e-01,  5.33699860e-02, -4.11235791e-01,\n",
       "        1.13874370e+00, -1.81356020e+00, -2.85326314e-02, -5.27404531e-01,\n",
       "        8.68359174e-01,  3.89242412e-01, -5.30747985e-01, -1.00842465e+00,\n",
       "       -1.09013273e+00,  1.79491181e-01,  5.41882825e-01,  1.32984717e-01,\n",
       "       -1.33243610e+00, -4.72829194e-01,  3.22960273e-01,  5.48242300e-01,\n",
       "       -8.54080420e-01,  1.94386261e-01,  2.86556340e+00, -4.30775311e-01,\n",
       "        1.19284521e+00, -4.46123244e-02,  1.81247667e+00,  6.12510209e-01,\n",
       "        1.83412287e+00, -5.88123364e-01, -1.64333603e+00, -1.83165772e+00,\n",
       "        7.76093985e-01, -8.27274694e-02,  1.34163293e+00, -9.65981172e-02,\n",
       "        1.20250150e+00,  4.69795540e-01,  1.74210875e+00, -1.45622151e+00,\n",
       "       -2.74138763e+00,  3.91697595e-01, -3.49191916e-01,  8.50121870e-01,\n",
       "        3.73097214e-01, -2.80061597e-01,  1.42282132e+00, -2.10299203e-01,\n",
       "        1.96629287e+00, -1.29545262e-02, -9.54213616e-01, -4.86229802e-01,\n",
       "        2.08261984e-01, -7.11370944e-01, -1.72180433e+00,  1.68789026e+00,\n",
       "       -9.88080590e-01, -2.79518910e-01,  3.74110775e-01,  4.49002489e-01,\n",
       "       -1.87799579e+00,  2.52711474e-01, -2.67261251e-01,  1.93789075e+00,\n",
       "        1.25557047e+00, -2.37566634e-01,  1.25521701e-01,  4.98669959e-01,\n",
       "        1.20597801e+00, -9.46025807e-01,  5.47337233e-01, -4.20307048e-01,\n",
       "       -7.08893989e-01, -1.19702820e+00,  1.12975098e+00,  4.66281226e-02,\n",
       "       -3.04765154e-01,  2.22681836e+00,  4.60925940e-01, -3.35913301e-01,\n",
       "       -1.27377299e+00,  3.89933229e-01, -1.69938292e+00,  5.53713541e-02,\n",
       "       -1.69980287e+00,  3.25564431e-01,  2.58673250e+00,  9.62020485e-01,\n",
       "       -1.36513835e-01, -3.08913979e-01, -1.14882236e+00, -1.04099030e+00,\n",
       "        6.21531218e-01,  1.27340820e-01,  2.00445520e-01, -1.73211652e+00,\n",
       "        1.27044284e+00, -1.44108776e-01,  6.80275514e-01, -2.60924156e+00,\n",
       "       -5.88562672e-01, -5.47396088e-01, -1.88509562e+00,  1.22076675e-02,\n",
       "        1.61183654e-01,  1.19803003e+00,  1.63313371e+00,  1.16330673e+00,\n",
       "        2.50383265e-02,  6.72891802e-01,  6.51432000e-01,  2.89750324e-01,\n",
       "       -7.21578545e-02,  2.26823063e+00, -6.40881154e-01,  5.57467194e-01,\n",
       "       -2.27693090e-01,  9.79853275e-01,  2.41061496e+00, -2.88833688e-01,\n",
       "        1.21155669e+00,  1.59065546e+00,  8.29043828e-01, -4.19517547e-01,\n",
       "       -1.46221230e+00,  7.89329381e-01, -3.32961088e-01,  1.98957931e+00,\n",
       "       -6.75988270e-02,  2.12199219e+00, -9.66658319e-01, -7.95520654e-01,\n",
       "       -1.47515813e+00, -2.06788421e+00, -2.34917314e-01, -1.40507865e-01,\n",
       "       -7.40078574e-01,  4.40341447e-01,  6.41657824e-01,  1.87402035e+00,\n",
       "        1.71669589e+00,  2.38318649e-01,  7.37819883e-01, -1.40898398e+00,\n",
       "        2.25806476e+00,  9.70196808e-01, -8.79527296e-02,  1.48125909e+00,\n",
       "       -6.81975151e-02, -1.41471313e+00,  6.04916992e-01,  8.50476945e-01,\n",
       "       -1.32214832e+00, -3.51833248e-01,  1.13947412e+00,  6.13370632e-01,\n",
       "        1.32724194e+00,  1.48211610e+00,  2.41059983e-01,  1.32114157e+00,\n",
       "        5.09701764e-01,  1.04684011e+00,  4.50975141e-01, -1.67797552e+00,\n",
       "       -6.40814565e-01,  1.05060295e-01,  1.57709217e+00, -6.35818608e-01,\n",
       "        8.24588728e-01,  1.73764651e-02,  4.83421493e-01,  6.04153682e-01,\n",
       "        1.77968697e+00,  9.02182877e-02,  1.80490165e-01,  3.00930573e-01,\n",
       "        7.02076377e-01, -1.97607321e-01,  3.55446995e-01,  1.41184428e-01,\n",
       "        4.00611385e-01, -1.49041047e-01,  1.46292027e-01, -5.08038722e-01,\n",
       "        6.46208113e-01,  1.10542691e+00,  1.46722455e+00, -2.46518526e+00])"
      ]
     },
     "execution_count": 41,
     "metadata": {},
     "output_type": "execute_result"
    }
   ],
   "source": [
    "mu = 0 #mean\n",
    "sigma = 1 #standard deviation\n",
    "np.random.normal(mu, sigma, 1000)"
   ]
  },
  {
   "cell_type": "markdown",
   "metadata": {},
   "source": [
    "## Question 11\n",
    "\n",
    "Generate binomial distribution data for fair coin flipping of size 100. Assume `0` for head and `1` for tail.\n",
    "\n",
    "[ **Hint:** For fair coin flip `p=0.5` ]"
   ]
  },
  {
   "cell_type": "markdown",
   "metadata": {},
   "source": [
    "#### Binomial Distribution"
   ]
  },
  {
   "cell_type": "markdown",
   "metadata": {},
   "source": [
    "It is defined by 2 parameters: the probability of success and the number of trails. It tells about how likely it is possible to get a given number of successes in n trails."
   ]
  },
  {
   "cell_type": "code",
   "execution_count": 46,
   "metadata": {},
   "outputs": [
    {
     "data": {
      "image/png": "[encoded data removed]",
      "text/plain": [
       "<Figure size 432x288 with 1 Axes>"
      ]
     },
     "metadata": {
      "needs_background": "light"
     },
     "output_type": "display_data"
    }
   ],
   "source": [
    "k = np.arange(0,101) # range\n",
    "p = 0.5 # probabily \n",
    "n = 100 # attempts\n",
    "binomial = stats.binom.pmf(k,n,p)\n",
    "\n",
    "plt.plot(k,binomial,'o-')\n",
    "plt.title('Binomial: n=%i , p=%.2f' % (n,p), fontsize=15)\n",
    "plt.xlabel('Number of Successes')\n",
    "plt.ylabel('Probability of Successes')\n",
    "plt.show()"
   ]
  },
  {
   "cell_type": "markdown",
   "metadata": {},
   "source": [
    "#### Visualizing Poisson Distribution"
   ]
  },
  {
   "cell_type": "markdown",
   "metadata": {},
   "source": [
    "It models the probability of seeing certain number of successes within a time interval."
   ]
  },
  {
   "cell_type": "code",
   "execution_count": 47,
   "metadata": {},
   "outputs": [
    {
     "data": {
      "image/png": "[encoded data removed]",
      "text/plain": [
       "<Figure size 432x288 with 1 Axes>"
      ]
     },
     "metadata": {
      "needs_background": "light"
     },
     "output_type": "display_data"
    }
   ],
   "source": [
    "poisson_data = stats.poisson.rvs(size=100,mu=10)\n",
    "\n",
    "pd.DataFrame(poisson_data).hist()\n",
    "\n",
    "plt.show()"
   ]
  },
  {
   "cell_type": "code",
   "execution_count": null,
   "metadata": {},
   "outputs": [],
   "source": []
  }
 ],
 "metadata": {
  "kernelspec": {
   "display_name": "Python 3",
   "language": "python",
   "name": "python3"
  },
  "language_info": {
   "codemirror_mode": {
    "name": "ipython",
    "version": 3
   },
   "file_extension": ".py",
   "mimetype": "text/x-python",
   "name": "python",
   "nbconvert_exporter": "python",
   "pygments_lexer": "ipython3",
   "version": "3.7.1"
  }
 },
 "nbformat": 4,
 "nbformat_minor": 2
}
