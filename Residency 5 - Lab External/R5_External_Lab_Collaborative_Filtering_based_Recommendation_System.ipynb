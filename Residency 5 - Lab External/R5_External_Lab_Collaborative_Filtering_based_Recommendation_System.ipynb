{
 "cells": [
  {
   "cell_type": "markdown",
   "metadata": {},
   "source": [
    "**About Book Crossing Dataset**<br>\n",
    "\n",
    "This dataset has been compiled by Cai-Nicolas Ziegler in 2004, and it comprises of three tables for users, books and ratings. Explicit ratings are expressed on a scale from 1-10 (higher values denoting higher appreciation) and implicit rating is expressed by 0."
   ]
  },
  {
   "cell_type": "markdown",
   "metadata": {},
   "source": [
    "Reference: http://www2.informatik.uni-freiburg.de/~cziegler/BX/ "
   ]
  },
  {
   "cell_type": "markdown",
   "metadata": {},
   "source": [
    "**Objective**\n",
    "\n",
    "This project entails building a Book Recommender System for users based on user-based and item-based collaborative filtering approaches."
   ]
  },
  {
   "cell_type": "markdown",
   "metadata": {},
   "source": [
    "#### Execute the below cell to load the datasets"
   ]
  },
  {
   "cell_type": "code",
   "execution_count": 1,
   "metadata": {
    "scrolled": true
   },
   "outputs": [],
   "source": [
    "import warnings \n",
    "warnings.filterwarnings('ignore')\n",
    "#Import all the necessary modules\n",
    "import pandas as pd\n",
    "import numpy as np\n",
    "import os\n",
    "import seaborn as sns\n",
    "import matplotlib.pyplot as plt\n",
    "import scipy.stats as stats\n",
    "%matplotlib inline"
   ]
  },
  {
   "cell_type": "code",
   "execution_count": 2,
   "metadata": {},
   "outputs": [
    {
     "name": "stderr",
     "output_type": "stream",
     "text": [
      "b'Skipping line 6452: expected 8 fields, saw 9\\nSkipping line 43667: expected 8 fields, saw 10\\nSkipping line 51751: expected 8 fields, saw 9\\n'\n",
      "b'Skipping line 92038: expected 8 fields, saw 9\\nSkipping line 104319: expected 8 fields, saw 9\\nSkipping line 121768: expected 8 fields, saw 9\\n'\n",
      "b'Skipping line 144058: expected 8 fields, saw 9\\nSkipping line 150789: expected 8 fields, saw 9\\nSkipping line 157128: expected 8 fields, saw 9\\nSkipping line 180189: expected 8 fields, saw 9\\nSkipping line 185738: expected 8 fields, saw 9\\n'\n",
      "b'Skipping line 209388: expected 8 fields, saw 9\\nSkipping line 220626: expected 8 fields, saw 9\\nSkipping line 227933: expected 8 fields, saw 11\\nSkipping line 228957: expected 8 fields, saw 10\\nSkipping line 245933: expected 8 fields, saw 9\\nSkipping line 251296: expected 8 fields, saw 9\\nSkipping line 259941: expected 8 fields, saw 9\\nSkipping line 261529: expected 8 fields, saw 9\\n'\n"
     ]
    }
   ],
   "source": [
    "#Loading data\n",
    "books = pd.read_csv(\"books/books.csv\", sep=\";\", error_bad_lines=False, encoding=\"latin-1\")\n",
    "books.columns = ['ISBN', 'bookTitle', 'bookAuthor', 'yearOfPublication', 'publisher', 'imageUrlS', 'imageUrlM', 'imageUrlL']\n",
    "\n",
    "users = pd.read_csv('books/users.csv', sep=';', error_bad_lines=False, encoding=\"latin-1\")\n",
    "users.columns = ['userID', 'Location', 'Age']\n",
    "\n",
    "ratings = pd.read_csv('books/ratings.csv', sep=';', error_bad_lines=False, encoding=\"latin-1\")\n",
    "ratings.columns = ['userID', 'ISBN', 'bookRating']"
   ]
  },
  {
   "cell_type": "markdown",
   "metadata": {},
   "source": [
    "### Check no.of records and features given in each dataset"
   ]
  },
  {
   "cell_type": "code",
   "execution_count": 3,
   "metadata": {},
   "outputs": [
    {
     "data": {
      "text/plain": [
       "(271360, 8)"
      ]
     },
     "execution_count": 3,
     "metadata": {},
     "output_type": "execute_result"
    }
   ],
   "source": [
    "books.shape"
   ]
  },
  {
   "cell_type": "code",
   "execution_count": 4,
   "metadata": {},
   "outputs": [
    {
     "data": {
      "text/plain": [
       "ISBN                 object\n",
       "bookTitle            object\n",
       "bookAuthor           object\n",
       "yearOfPublication    object\n",
       "publisher            object\n",
       "imageUrlS            object\n",
       "imageUrlM            object\n",
       "imageUrlL            object\n",
       "dtype: object"
      ]
     },
     "execution_count": 4,
     "metadata": {},
     "output_type": "execute_result"
    }
   ],
   "source": [
    "books.dtypes"
   ]
  },
  {
   "cell_type": "code",
   "execution_count": 5,
   "metadata": {},
   "outputs": [
    {
     "data": {
      "text/plain": [
       "ISBN                 False\n",
       "bookTitle            False\n",
       "bookAuthor            True\n",
       "yearOfPublication    False\n",
       "publisher             True\n",
       "imageUrlS            False\n",
       "imageUrlM            False\n",
       "imageUrlL             True\n",
       "dtype: bool"
      ]
     },
     "execution_count": 5,
     "metadata": {},
     "output_type": "execute_result"
    }
   ],
   "source": [
    "books.isnull().any()"
   ]
  },
  {
   "cell_type": "code",
   "execution_count": 6,
   "metadata": {},
   "outputs": [
    {
     "data": {
      "text/html": [
       "<div>\n",
       "<style scoped>\n",
       "    .dataframe tbody tr th:only-of-type {\n",
       "        vertical-align: middle;\n",
       "    }\n",
       "\n",
       "    .dataframe tbody tr th {\n",
       "        vertical-align: top;\n",
       "    }\n",
       "\n",
       "    .dataframe thead th {\n",
       "        text-align: right;\n",
       "    }\n",
       "</style>\n",
       "<table border=\"1\" class=\"dataframe\">\n",
       "  <thead>\n",
       "    <tr style=\"text-align: right;\">\n",
       "      <th></th>\n",
       "      <th>ISBN</th>\n",
       "      <th>bookTitle</th>\n",
       "      <th>bookAuthor</th>\n",
       "      <th>yearOfPublication</th>\n",
       "      <th>publisher</th>\n",
       "      <th>imageUrlS</th>\n",
       "      <th>imageUrlM</th>\n",
       "      <th>imageUrlL</th>\n",
       "    </tr>\n",
       "  </thead>\n",
       "  <tbody>\n",
       "    <tr>\n",
       "      <th>count</th>\n",
       "      <td>271360</td>\n",
       "      <td>271360</td>\n",
       "      <td>271359</td>\n",
       "      <td>271360</td>\n",
       "      <td>271358</td>\n",
       "      <td>271360</td>\n",
       "      <td>271360</td>\n",
       "      <td>271357</td>\n",
       "    </tr>\n",
       "    <tr>\n",
       "      <th>unique</th>\n",
       "      <td>271360</td>\n",
       "      <td>242135</td>\n",
       "      <td>102023</td>\n",
       "      <td>202</td>\n",
       "      <td>16807</td>\n",
       "      <td>271044</td>\n",
       "      <td>271044</td>\n",
       "      <td>271041</td>\n",
       "    </tr>\n",
       "    <tr>\n",
       "      <th>top</th>\n",
       "      <td>0671040065</td>\n",
       "      <td>Selected Poems</td>\n",
       "      <td>Agatha Christie</td>\n",
       "      <td>2002</td>\n",
       "      <td>Harlequin</td>\n",
       "      <td>http://images.amazon.com/images/P/068480154X.0...</td>\n",
       "      <td>http://images.amazon.com/images/P/067174139X.0...</td>\n",
       "      <td>http://images.amazon.com/images/P/031214573X.0...</td>\n",
       "    </tr>\n",
       "    <tr>\n",
       "      <th>freq</th>\n",
       "      <td>1</td>\n",
       "      <td>27</td>\n",
       "      <td>632</td>\n",
       "      <td>13903</td>\n",
       "      <td>7535</td>\n",
       "      <td>2</td>\n",
       "      <td>2</td>\n",
       "      <td>2</td>\n",
       "    </tr>\n",
       "  </tbody>\n",
       "</table>\n",
       "</div>"
      ],
      "text/plain": [
       "              ISBN       bookTitle       bookAuthor  yearOfPublication  \\\n",
       "count       271360          271360           271359             271360   \n",
       "unique      271360          242135           102023                202   \n",
       "top     0671040065  Selected Poems  Agatha Christie               2002   \n",
       "freq             1              27              632              13903   \n",
       "\n",
       "        publisher                                          imageUrlS  \\\n",
       "count      271358                                             271360   \n",
       "unique      16807                                             271044   \n",
       "top     Harlequin  http://images.amazon.com/images/P/068480154X.0...   \n",
       "freq         7535                                                  2   \n",
       "\n",
       "                                                imageUrlM  \\\n",
       "count                                              271360   \n",
       "unique                                             271044   \n",
       "top     http://images.amazon.com/images/P/067174139X.0...   \n",
       "freq                                                    2   \n",
       "\n",
       "                                                imageUrlL  \n",
       "count                                              271357  \n",
       "unique                                             271041  \n",
       "top     http://images.amazon.com/images/P/031214573X.0...  \n",
       "freq                                                    2  "
      ]
     },
     "execution_count": 6,
     "metadata": {},
     "output_type": "execute_result"
    }
   ],
   "source": [
    "books.describe()"
   ]
  },
  {
   "cell_type": "code",
   "execution_count": 7,
   "metadata": {},
   "outputs": [
    {
     "data": {
      "text/plain": [
       "(0, 8)"
      ]
     },
     "execution_count": 7,
     "metadata": {},
     "output_type": "execute_result"
    }
   ],
   "source": [
    "books[books.duplicated()].shape"
   ]
  },
  {
   "cell_type": "code",
   "execution_count": 8,
   "metadata": {},
   "outputs": [
    {
     "data": {
      "text/plain": [
       "(278858, 3)"
      ]
     },
     "execution_count": 8,
     "metadata": {},
     "output_type": "execute_result"
    }
   ],
   "source": [
    "users.shape"
   ]
  },
  {
   "cell_type": "code",
   "execution_count": 9,
   "metadata": {},
   "outputs": [
    {
     "data": {
      "text/plain": [
       "userID        int64\n",
       "Location     object\n",
       "Age         float64\n",
       "dtype: object"
      ]
     },
     "execution_count": 9,
     "metadata": {},
     "output_type": "execute_result"
    }
   ],
   "source": [
    "users.dtypes"
   ]
  },
  {
   "cell_type": "code",
   "execution_count": 10,
   "metadata": {},
   "outputs": [
    {
     "data": {
      "text/plain": [
       "userID      False\n",
       "Location    False\n",
       "Age          True\n",
       "dtype: bool"
      ]
     },
     "execution_count": 10,
     "metadata": {},
     "output_type": "execute_result"
    }
   ],
   "source": [
    "users.isnull().any()"
   ]
  },
  {
   "cell_type": "code",
   "execution_count": 11,
   "metadata": {},
   "outputs": [
    {
     "data": {
      "text/html": [
       "<div>\n",
       "<style scoped>\n",
       "    .dataframe tbody tr th:only-of-type {\n",
       "        vertical-align: middle;\n",
       "    }\n",
       "\n",
       "    .dataframe tbody tr th {\n",
       "        vertical-align: top;\n",
       "    }\n",
       "\n",
       "    .dataframe thead th {\n",
       "        text-align: right;\n",
       "    }\n",
       "</style>\n",
       "<table border=\"1\" class=\"dataframe\">\n",
       "  <thead>\n",
       "    <tr style=\"text-align: right;\">\n",
       "      <th></th>\n",
       "      <th>userID</th>\n",
       "      <th>Age</th>\n",
       "    </tr>\n",
       "  </thead>\n",
       "  <tbody>\n",
       "    <tr>\n",
       "      <th>count</th>\n",
       "      <td>278858.00000</td>\n",
       "      <td>168096.000000</td>\n",
       "    </tr>\n",
       "    <tr>\n",
       "      <th>mean</th>\n",
       "      <td>139429.50000</td>\n",
       "      <td>34.751434</td>\n",
       "    </tr>\n",
       "    <tr>\n",
       "      <th>std</th>\n",
       "      <td>80499.51502</td>\n",
       "      <td>14.428097</td>\n",
       "    </tr>\n",
       "    <tr>\n",
       "      <th>min</th>\n",
       "      <td>1.00000</td>\n",
       "      <td>0.000000</td>\n",
       "    </tr>\n",
       "    <tr>\n",
       "      <th>25%</th>\n",
       "      <td>69715.25000</td>\n",
       "      <td>24.000000</td>\n",
       "    </tr>\n",
       "    <tr>\n",
       "      <th>50%</th>\n",
       "      <td>139429.50000</td>\n",
       "      <td>32.000000</td>\n",
       "    </tr>\n",
       "    <tr>\n",
       "      <th>75%</th>\n",
       "      <td>209143.75000</td>\n",
       "      <td>44.000000</td>\n",
       "    </tr>\n",
       "    <tr>\n",
       "      <th>max</th>\n",
       "      <td>278858.00000</td>\n",
       "      <td>244.000000</td>\n",
       "    </tr>\n",
       "  </tbody>\n",
       "</table>\n",
       "</div>"
      ],
      "text/plain": [
       "             userID            Age\n",
       "count  278858.00000  168096.000000\n",
       "mean   139429.50000      34.751434\n",
       "std     80499.51502      14.428097\n",
       "min         1.00000       0.000000\n",
       "25%     69715.25000      24.000000\n",
       "50%    139429.50000      32.000000\n",
       "75%    209143.75000      44.000000\n",
       "max    278858.00000     244.000000"
      ]
     },
     "execution_count": 11,
     "metadata": {},
     "output_type": "execute_result"
    }
   ],
   "source": [
    "users.describe()"
   ]
  },
  {
   "cell_type": "code",
   "execution_count": 12,
   "metadata": {},
   "outputs": [
    {
     "data": {
      "text/plain": [
       "(0, 3)"
      ]
     },
     "execution_count": 12,
     "metadata": {},
     "output_type": "execute_result"
    }
   ],
   "source": [
    "users[users.duplicated()].shape"
   ]
  },
  {
   "cell_type": "code",
   "execution_count": 13,
   "metadata": {},
   "outputs": [
    {
     "data": {
      "text/plain": [
       "(1149780, 3)"
      ]
     },
     "execution_count": 13,
     "metadata": {},
     "output_type": "execute_result"
    }
   ],
   "source": [
    "ratings.shape"
   ]
  },
  {
   "cell_type": "code",
   "execution_count": 14,
   "metadata": {},
   "outputs": [
    {
     "data": {
      "text/plain": [
       "userID         int64\n",
       "ISBN          object\n",
       "bookRating     int64\n",
       "dtype: object"
      ]
     },
     "execution_count": 14,
     "metadata": {},
     "output_type": "execute_result"
    }
   ],
   "source": [
    "ratings.dtypes"
   ]
  },
  {
   "cell_type": "code",
   "execution_count": 15,
   "metadata": {},
   "outputs": [
    {
     "data": {
      "text/plain": [
       "userID        False\n",
       "ISBN          False\n",
       "bookRating    False\n",
       "dtype: bool"
      ]
     },
     "execution_count": 15,
     "metadata": {},
     "output_type": "execute_result"
    }
   ],
   "source": [
    "ratings.isnull().any()"
   ]
  },
  {
   "cell_type": "code",
   "execution_count": 16,
   "metadata": {},
   "outputs": [
    {
     "data": {
      "text/html": [
       "<div>\n",
       "<style scoped>\n",
       "    .dataframe tbody tr th:only-of-type {\n",
       "        vertical-align: middle;\n",
       "    }\n",
       "\n",
       "    .dataframe tbody tr th {\n",
       "        vertical-align: top;\n",
       "    }\n",
       "\n",
       "    .dataframe thead th {\n",
       "        text-align: right;\n",
       "    }\n",
       "</style>\n",
       "<table border=\"1\" class=\"dataframe\">\n",
       "  <thead>\n",
       "    <tr style=\"text-align: right;\">\n",
       "      <th></th>\n",
       "      <th>userID</th>\n",
       "      <th>bookRating</th>\n",
       "    </tr>\n",
       "  </thead>\n",
       "  <tbody>\n",
       "    <tr>\n",
       "      <th>count</th>\n",
       "      <td>1.149780e+06</td>\n",
       "      <td>1.149780e+06</td>\n",
       "    </tr>\n",
       "    <tr>\n",
       "      <th>mean</th>\n",
       "      <td>1.403864e+05</td>\n",
       "      <td>2.866950e+00</td>\n",
       "    </tr>\n",
       "    <tr>\n",
       "      <th>std</th>\n",
       "      <td>8.056228e+04</td>\n",
       "      <td>3.854184e+00</td>\n",
       "    </tr>\n",
       "    <tr>\n",
       "      <th>min</th>\n",
       "      <td>2.000000e+00</td>\n",
       "      <td>0.000000e+00</td>\n",
       "    </tr>\n",
       "    <tr>\n",
       "      <th>25%</th>\n",
       "      <td>7.034500e+04</td>\n",
       "      <td>0.000000e+00</td>\n",
       "    </tr>\n",
       "    <tr>\n",
       "      <th>50%</th>\n",
       "      <td>1.410100e+05</td>\n",
       "      <td>0.000000e+00</td>\n",
       "    </tr>\n",
       "    <tr>\n",
       "      <th>75%</th>\n",
       "      <td>2.110280e+05</td>\n",
       "      <td>7.000000e+00</td>\n",
       "    </tr>\n",
       "    <tr>\n",
       "      <th>max</th>\n",
       "      <td>2.788540e+05</td>\n",
       "      <td>1.000000e+01</td>\n",
       "    </tr>\n",
       "  </tbody>\n",
       "</table>\n",
       "</div>"
      ],
      "text/plain": [
       "             userID    bookRating\n",
       "count  1.149780e+06  1.149780e+06\n",
       "mean   1.403864e+05  2.866950e+00\n",
       "std    8.056228e+04  3.854184e+00\n",
       "min    2.000000e+00  0.000000e+00\n",
       "25%    7.034500e+04  0.000000e+00\n",
       "50%    1.410100e+05  0.000000e+00\n",
       "75%    2.110280e+05  7.000000e+00\n",
       "max    2.788540e+05  1.000000e+01"
      ]
     },
     "execution_count": 16,
     "metadata": {},
     "output_type": "execute_result"
    }
   ],
   "source": [
    "ratings.describe()"
   ]
  },
  {
   "cell_type": "code",
   "execution_count": 17,
   "metadata": {},
   "outputs": [
    {
     "data": {
      "text/plain": [
       "(0, 3)"
      ]
     },
     "execution_count": 17,
     "metadata": {},
     "output_type": "execute_result"
    }
   ],
   "source": [
    "ratings[ratings.duplicated()].shape"
   ]
  },
  {
   "cell_type": "markdown",
   "metadata": {},
   "source": [
    "## Exploring books dataset"
   ]
  },
  {
   "cell_type": "code",
   "execution_count": 18,
   "metadata": {
    "scrolled": false
   },
   "outputs": [
    {
     "data": {
      "text/html": [
       "<div>\n",
       "<style scoped>\n",
       "    .dataframe tbody tr th:only-of-type {\n",
       "        vertical-align: middle;\n",
       "    }\n",
       "\n",
       "    .dataframe tbody tr th {\n",
       "        vertical-align: top;\n",
       "    }\n",
       "\n",
       "    .dataframe thead th {\n",
       "        text-align: right;\n",
       "    }\n",
       "</style>\n",
       "<table border=\"1\" class=\"dataframe\">\n",
       "  <thead>\n",
       "    <tr style=\"text-align: right;\">\n",
       "      <th></th>\n",
       "      <th>ISBN</th>\n",
       "      <th>bookTitle</th>\n",
       "      <th>bookAuthor</th>\n",
       "      <th>yearOfPublication</th>\n",
       "      <th>publisher</th>\n",
       "      <th>imageUrlS</th>\n",
       "      <th>imageUrlM</th>\n",
       "      <th>imageUrlL</th>\n",
       "    </tr>\n",
       "  </thead>\n",
       "  <tbody>\n",
       "    <tr>\n",
       "      <th>0</th>\n",
       "      <td>0195153448</td>\n",
       "      <td>Classical Mythology</td>\n",
       "      <td>Mark P. O. Morford</td>\n",
       "      <td>2002</td>\n",
       "      <td>Oxford University Press</td>\n",
       "      <td>http://images.amazon.com/images/P/0195153448.0...</td>\n",
       "      <td>http://images.amazon.com/images/P/0195153448.0...</td>\n",
       "      <td>http://images.amazon.com/images/P/0195153448.0...</td>\n",
       "    </tr>\n",
       "    <tr>\n",
       "      <th>1</th>\n",
       "      <td>0002005018</td>\n",
       "      <td>Clara Callan</td>\n",
       "      <td>Richard Bruce Wright</td>\n",
       "      <td>2001</td>\n",
       "      <td>HarperFlamingo Canada</td>\n",
       "      <td>http://images.amazon.com/images/P/0002005018.0...</td>\n",
       "      <td>http://images.amazon.com/images/P/0002005018.0...</td>\n",
       "      <td>http://images.amazon.com/images/P/0002005018.0...</td>\n",
       "    </tr>\n",
       "    <tr>\n",
       "      <th>2</th>\n",
       "      <td>0060973129</td>\n",
       "      <td>Decision in Normandy</td>\n",
       "      <td>Carlo D'Este</td>\n",
       "      <td>1991</td>\n",
       "      <td>HarperPerennial</td>\n",
       "      <td>http://images.amazon.com/images/P/0060973129.0...</td>\n",
       "      <td>http://images.amazon.com/images/P/0060973129.0...</td>\n",
       "      <td>http://images.amazon.com/images/P/0060973129.0...</td>\n",
       "    </tr>\n",
       "    <tr>\n",
       "      <th>3</th>\n",
       "      <td>0374157065</td>\n",
       "      <td>Flu: The Story of the Great Influenza Pandemic...</td>\n",
       "      <td>Gina Bari Kolata</td>\n",
       "      <td>1999</td>\n",
       "      <td>Farrar Straus Giroux</td>\n",
       "      <td>http://images.amazon.com/images/P/0374157065.0...</td>\n",
       "      <td>http://images.amazon.com/images/P/0374157065.0...</td>\n",
       "      <td>http://images.amazon.com/images/P/0374157065.0...</td>\n",
       "    </tr>\n",
       "    <tr>\n",
       "      <th>4</th>\n",
       "      <td>0393045218</td>\n",
       "      <td>The Mummies of Urumchi</td>\n",
       "      <td>E. J. W. Barber</td>\n",
       "      <td>1999</td>\n",
       "      <td>W. W. Norton &amp;amp; Company</td>\n",
       "      <td>http://images.amazon.com/images/P/0393045218.0...</td>\n",
       "      <td>http://images.amazon.com/images/P/0393045218.0...</td>\n",
       "      <td>http://images.amazon.com/images/P/0393045218.0...</td>\n",
       "    </tr>\n",
       "  </tbody>\n",
       "</table>\n",
       "</div>"
      ],
      "text/plain": [
       "         ISBN                                          bookTitle  \\\n",
       "0  0195153448                                Classical Mythology   \n",
       "1  0002005018                                       Clara Callan   \n",
       "2  0060973129                               Decision in Normandy   \n",
       "3  0374157065  Flu: The Story of the Great Influenza Pandemic...   \n",
       "4  0393045218                             The Mummies of Urumchi   \n",
       "\n",
       "             bookAuthor yearOfPublication                   publisher  \\\n",
       "0    Mark P. O. Morford              2002     Oxford University Press   \n",
       "1  Richard Bruce Wright              2001       HarperFlamingo Canada   \n",
       "2          Carlo D'Este              1991             HarperPerennial   \n",
       "3      Gina Bari Kolata              1999        Farrar Straus Giroux   \n",
       "4       E. J. W. Barber              1999  W. W. Norton &amp; Company   \n",
       "\n",
       "                                           imageUrlS  \\\n",
       "0  http://images.amazon.com/images/P/0195153448.0...   \n",
       "1  http://images.amazon.com/images/P/0002005018.0...   \n",
       "2  http://images.amazon.com/images/P/0060973129.0...   \n",
       "3  http://images.amazon.com/images/P/0374157065.0...   \n",
       "4  http://images.amazon.com/images/P/0393045218.0...   \n",
       "\n",
       "                                           imageUrlM  \\\n",
       "0  http://images.amazon.com/images/P/0195153448.0...   \n",
       "1  http://images.amazon.com/images/P/0002005018.0...   \n",
       "2  http://images.amazon.com/images/P/0060973129.0...   \n",
       "3  http://images.amazon.com/images/P/0374157065.0...   \n",
       "4  http://images.amazon.com/images/P/0393045218.0...   \n",
       "\n",
       "                                           imageUrlL  \n",
       "0  http://images.amazon.com/images/P/0195153448.0...  \n",
       "1  http://images.amazon.com/images/P/0002005018.0...  \n",
       "2  http://images.amazon.com/images/P/0060973129.0...  \n",
       "3  http://images.amazon.com/images/P/0374157065.0...  \n",
       "4  http://images.amazon.com/images/P/0393045218.0...  "
      ]
     },
     "execution_count": 18,
     "metadata": {},
     "output_type": "execute_result"
    }
   ],
   "source": [
    "books.head()"
   ]
  },
  {
   "cell_type": "code",
   "execution_count": 19,
   "metadata": {},
   "outputs": [
    {
     "data": {
      "text/html": [
       "<div>\n",
       "<style scoped>\n",
       "    .dataframe tbody tr th:only-of-type {\n",
       "        vertical-align: middle;\n",
       "    }\n",
       "\n",
       "    .dataframe tbody tr th {\n",
       "        vertical-align: top;\n",
       "    }\n",
       "\n",
       "    .dataframe thead th {\n",
       "        text-align: right;\n",
       "    }\n",
       "</style>\n",
       "<table border=\"1\" class=\"dataframe\">\n",
       "  <thead>\n",
       "    <tr style=\"text-align: right;\">\n",
       "      <th></th>\n",
       "      <th>userID</th>\n",
       "      <th>Location</th>\n",
       "      <th>Age</th>\n",
       "    </tr>\n",
       "  </thead>\n",
       "  <tbody>\n",
       "    <tr>\n",
       "      <th>0</th>\n",
       "      <td>1</td>\n",
       "      <td>nyc, new york, usa</td>\n",
       "      <td>NaN</td>\n",
       "    </tr>\n",
       "    <tr>\n",
       "      <th>1</th>\n",
       "      <td>2</td>\n",
       "      <td>stockton, california, usa</td>\n",
       "      <td>18.0</td>\n",
       "    </tr>\n",
       "    <tr>\n",
       "      <th>2</th>\n",
       "      <td>3</td>\n",
       "      <td>moscow, yukon territory, russia</td>\n",
       "      <td>NaN</td>\n",
       "    </tr>\n",
       "    <tr>\n",
       "      <th>3</th>\n",
       "      <td>4</td>\n",
       "      <td>porto, v.n.gaia, portugal</td>\n",
       "      <td>17.0</td>\n",
       "    </tr>\n",
       "    <tr>\n",
       "      <th>4</th>\n",
       "      <td>5</td>\n",
       "      <td>farnborough, hants, united kingdom</td>\n",
       "      <td>NaN</td>\n",
       "    </tr>\n",
       "  </tbody>\n",
       "</table>\n",
       "</div>"
      ],
      "text/plain": [
       "   userID                            Location   Age\n",
       "0       1                  nyc, new york, usa   NaN\n",
       "1       2           stockton, california, usa  18.0\n",
       "2       3     moscow, yukon territory, russia   NaN\n",
       "3       4           porto, v.n.gaia, portugal  17.0\n",
       "4       5  farnborough, hants, united kingdom   NaN"
      ]
     },
     "execution_count": 19,
     "metadata": {},
     "output_type": "execute_result"
    }
   ],
   "source": [
    "users.head()"
   ]
  },
  {
   "cell_type": "code",
   "execution_count": 20,
   "metadata": {},
   "outputs": [
    {
     "data": {
      "text/html": [
       "<div>\n",
       "<style scoped>\n",
       "    .dataframe tbody tr th:only-of-type {\n",
       "        vertical-align: middle;\n",
       "    }\n",
       "\n",
       "    .dataframe tbody tr th {\n",
       "        vertical-align: top;\n",
       "    }\n",
       "\n",
       "    .dataframe thead th {\n",
       "        text-align: right;\n",
       "    }\n",
       "</style>\n",
       "<table border=\"1\" class=\"dataframe\">\n",
       "  <thead>\n",
       "    <tr style=\"text-align: right;\">\n",
       "      <th></th>\n",
       "      <th>userID</th>\n",
       "      <th>ISBN</th>\n",
       "      <th>bookRating</th>\n",
       "    </tr>\n",
       "  </thead>\n",
       "  <tbody>\n",
       "    <tr>\n",
       "      <th>0</th>\n",
       "      <td>276725</td>\n",
       "      <td>034545104X</td>\n",
       "      <td>0</td>\n",
       "    </tr>\n",
       "    <tr>\n",
       "      <th>1</th>\n",
       "      <td>276726</td>\n",
       "      <td>0155061224</td>\n",
       "      <td>5</td>\n",
       "    </tr>\n",
       "    <tr>\n",
       "      <th>2</th>\n",
       "      <td>276727</td>\n",
       "      <td>0446520802</td>\n",
       "      <td>0</td>\n",
       "    </tr>\n",
       "    <tr>\n",
       "      <th>3</th>\n",
       "      <td>276729</td>\n",
       "      <td>052165615X</td>\n",
       "      <td>3</td>\n",
       "    </tr>\n",
       "    <tr>\n",
       "      <th>4</th>\n",
       "      <td>276729</td>\n",
       "      <td>0521795028</td>\n",
       "      <td>6</td>\n",
       "    </tr>\n",
       "  </tbody>\n",
       "</table>\n",
       "</div>"
      ],
      "text/plain": [
       "   userID        ISBN  bookRating\n",
       "0  276725  034545104X           0\n",
       "1  276726  0155061224           5\n",
       "2  276727  0446520802           0\n",
       "3  276729  052165615X           3\n",
       "4  276729  0521795028           6"
      ]
     },
     "execution_count": 20,
     "metadata": {},
     "output_type": "execute_result"
    }
   ],
   "source": [
    "ratings.head()"
   ]
  },
  {
   "cell_type": "markdown",
   "metadata": {},
   "source": [
    "### Drop last three columns containing image URLs which will not be required for analysis"
   ]
  },
  {
   "cell_type": "code",
   "execution_count": 21,
   "metadata": {},
   "outputs": [],
   "source": [
    "books.drop(columns=['imageUrlS', 'imageUrlM', 'imageUrlL'],axis=1, inplace=True)"
   ]
  },
  {
   "cell_type": "code",
   "execution_count": 22,
   "metadata": {
    "scrolled": true
   },
   "outputs": [
    {
     "data": {
      "text/html": [
       "<div>\n",
       "<style scoped>\n",
       "    .dataframe tbody tr th:only-of-type {\n",
       "        vertical-align: middle;\n",
       "    }\n",
       "\n",
       "    .dataframe tbody tr th {\n",
       "        vertical-align: top;\n",
       "    }\n",
       "\n",
       "    .dataframe thead th {\n",
       "        text-align: right;\n",
       "    }\n",
       "</style>\n",
       "<table border=\"1\" class=\"dataframe\">\n",
       "  <thead>\n",
       "    <tr style=\"text-align: right;\">\n",
       "      <th></th>\n",
       "      <th>ISBN</th>\n",
       "      <th>bookTitle</th>\n",
       "      <th>bookAuthor</th>\n",
       "      <th>yearOfPublication</th>\n",
       "      <th>publisher</th>\n",
       "    </tr>\n",
       "  </thead>\n",
       "  <tbody>\n",
       "    <tr>\n",
       "      <th>0</th>\n",
       "      <td>0195153448</td>\n",
       "      <td>Classical Mythology</td>\n",
       "      <td>Mark P. O. Morford</td>\n",
       "      <td>2002</td>\n",
       "      <td>Oxford University Press</td>\n",
       "    </tr>\n",
       "    <tr>\n",
       "      <th>1</th>\n",
       "      <td>0002005018</td>\n",
       "      <td>Clara Callan</td>\n",
       "      <td>Richard Bruce Wright</td>\n",
       "      <td>2001</td>\n",
       "      <td>HarperFlamingo Canada</td>\n",
       "    </tr>\n",
       "    <tr>\n",
       "      <th>2</th>\n",
       "      <td>0060973129</td>\n",
       "      <td>Decision in Normandy</td>\n",
       "      <td>Carlo D'Este</td>\n",
       "      <td>1991</td>\n",
       "      <td>HarperPerennial</td>\n",
       "    </tr>\n",
       "    <tr>\n",
       "      <th>3</th>\n",
       "      <td>0374157065</td>\n",
       "      <td>Flu: The Story of the Great Influenza Pandemic...</td>\n",
       "      <td>Gina Bari Kolata</td>\n",
       "      <td>1999</td>\n",
       "      <td>Farrar Straus Giroux</td>\n",
       "    </tr>\n",
       "    <tr>\n",
       "      <th>4</th>\n",
       "      <td>0393045218</td>\n",
       "      <td>The Mummies of Urumchi</td>\n",
       "      <td>E. J. W. Barber</td>\n",
       "      <td>1999</td>\n",
       "      <td>W. W. Norton &amp;amp; Company</td>\n",
       "    </tr>\n",
       "  </tbody>\n",
       "</table>\n",
       "</div>"
      ],
      "text/plain": [
       "         ISBN                                          bookTitle  \\\n",
       "0  0195153448                                Classical Mythology   \n",
       "1  0002005018                                       Clara Callan   \n",
       "2  0060973129                               Decision in Normandy   \n",
       "3  0374157065  Flu: The Story of the Great Influenza Pandemic...   \n",
       "4  0393045218                             The Mummies of Urumchi   \n",
       "\n",
       "             bookAuthor yearOfPublication                   publisher  \n",
       "0    Mark P. O. Morford              2002     Oxford University Press  \n",
       "1  Richard Bruce Wright              2001       HarperFlamingo Canada  \n",
       "2          Carlo D'Este              1991             HarperPerennial  \n",
       "3      Gina Bari Kolata              1999        Farrar Straus Giroux  \n",
       "4       E. J. W. Barber              1999  W. W. Norton &amp; Company  "
      ]
     },
     "execution_count": 22,
     "metadata": {},
     "output_type": "execute_result"
    }
   ],
   "source": [
    "books.head()"
   ]
  },
  {
   "cell_type": "markdown",
   "metadata": {},
   "source": [
    "**yearOfPublication**"
   ]
  },
  {
   "cell_type": "markdown",
   "metadata": {},
   "source": [
    "### Check unique values of yearOfPublication\n"
   ]
  },
  {
   "cell_type": "code",
   "execution_count": 23,
   "metadata": {},
   "outputs": [
    {
     "data": {
      "text/plain": [
       "array([2002, 2001, 1991, 1999, 2000, 1993, 1996, 1988, 2004, 1998, 1994,\n",
       "       2003, 1997, 1983, 1979, 1995, 1982, 1985, 1992, 1986, 1978, 1980,\n",
       "       1952, 1987, 1990, 1981, 1989, 1984, 0, 1968, 1961, 1958, 1974,\n",
       "       1976, 1971, 1977, 1975, 1965, 1941, 1970, 1962, 1973, 1972, 1960,\n",
       "       1966, 1920, 1956, 1959, 1953, 1951, 1942, 1963, 1964, 1969, 1954,\n",
       "       1950, 1967, 2005, 1957, 1940, 1937, 1955, 1946, 1936, 1930, 2011,\n",
       "       1925, 1948, 1943, 1947, 1945, 1923, 2020, 1939, 1926, 1938, 2030,\n",
       "       1911, 1904, 1949, 1932, 1928, 1929, 1927, 1931, 1914, 2050, 1934,\n",
       "       1910, 1933, 1902, 1924, 1921, 1900, 2038, 2026, 1944, 1917, 1901,\n",
       "       2010, 1908, 1906, 1935, 1806, 2021, '2000', '1995', '1999', '2004',\n",
       "       '2003', '1990', '1994', '1986', '1989', '2002', '1981', '1993',\n",
       "       '1983', '1982', '1976', '1991', '1977', '1998', '1992', '1996',\n",
       "       '0', '1997', '2001', '1974', '1968', '1987', '1984', '1988',\n",
       "       '1963', '1956', '1970', '1985', '1978', '1973', '1980', '1979',\n",
       "       '1975', '1969', '1961', '1965', '1939', '1958', '1950', '1953',\n",
       "       '1966', '1971', '1959', '1972', '1955', '1957', '1945', '1960',\n",
       "       '1967', '1932', '1924', '1964', '2012', '1911', '1927', '1948',\n",
       "       '1962', '2006', '1952', '1940', '1951', '1931', '1954', '2005',\n",
       "       '1930', '1941', '1944', 'DK Publishing Inc', '1943', '1938',\n",
       "       '1900', '1942', '1923', '1920', '1933', 'Gallimard', '1909',\n",
       "       '1946', '2008', '1378', '2030', '1936', '1947', '2011', '2020',\n",
       "       '1919', '1949', '1922', '1897', '2024', '1376', '1926', '2037'],\n",
       "      dtype=object)"
      ]
     },
     "execution_count": 23,
     "metadata": {},
     "output_type": "execute_result"
    }
   ],
   "source": [
    "books['yearOfPublication'].unique()"
   ]
  },
  {
   "cell_type": "markdown",
   "metadata": {},
   "source": [
    "As it can be seen from above that there are some incorrect entries in this field. It looks like Publisher names 'DK Publishing Inc' and 'Gallimard' have been incorrectly loaded as yearOfPublication in dataset due to some errors in csv file.\n",
    "\n",
    "\n",
    "Also some of the entries are strings and same years have been entered as numbers in some places. We will try to fix these things in the coming questions."
   ]
  },
  {
   "cell_type": "markdown",
   "metadata": {},
   "source": [
    "### Check the rows having 'DK Publishing Inc' as yearOfPublication"
   ]
  },
  {
   "cell_type": "code",
   "execution_count": 24,
   "metadata": {},
   "outputs": [
    {
     "data": {
      "text/html": [
       "<div>\n",
       "<style scoped>\n",
       "    .dataframe tbody tr th:only-of-type {\n",
       "        vertical-align: middle;\n",
       "    }\n",
       "\n",
       "    .dataframe tbody tr th {\n",
       "        vertical-align: top;\n",
       "    }\n",
       "\n",
       "    .dataframe thead th {\n",
       "        text-align: right;\n",
       "    }\n",
       "</style>\n",
       "<table border=\"1\" class=\"dataframe\">\n",
       "  <thead>\n",
       "    <tr style=\"text-align: right;\">\n",
       "      <th></th>\n",
       "      <th>ISBN</th>\n",
       "      <th>bookTitle</th>\n",
       "      <th>bookAuthor</th>\n",
       "      <th>yearOfPublication</th>\n",
       "      <th>publisher</th>\n",
       "    </tr>\n",
       "  </thead>\n",
       "  <tbody>\n",
       "    <tr>\n",
       "      <th>209538</th>\n",
       "      <td>078946697X</td>\n",
       "      <td>DK Readers: Creating the X-Men, How It All Beg...</td>\n",
       "      <td>2000</td>\n",
       "      <td>DK Publishing Inc</td>\n",
       "      <td>http://images.amazon.com/images/P/078946697X.0...</td>\n",
       "    </tr>\n",
       "    <tr>\n",
       "      <th>221678</th>\n",
       "      <td>0789466953</td>\n",
       "      <td>DK Readers: Creating the X-Men, How Comic Book...</td>\n",
       "      <td>2000</td>\n",
       "      <td>DK Publishing Inc</td>\n",
       "      <td>http://images.amazon.com/images/P/0789466953.0...</td>\n",
       "    </tr>\n",
       "  </tbody>\n",
       "</table>\n",
       "</div>"
      ],
      "text/plain": [
       "              ISBN                                          bookTitle  \\\n",
       "209538  078946697X  DK Readers: Creating the X-Men, How It All Beg...   \n",
       "221678  0789466953  DK Readers: Creating the X-Men, How Comic Book...   \n",
       "\n",
       "       bookAuthor  yearOfPublication  \\\n",
       "209538       2000  DK Publishing Inc   \n",
       "221678       2000  DK Publishing Inc   \n",
       "\n",
       "                                                publisher  \n",
       "209538  http://images.amazon.com/images/P/078946697X.0...  \n",
       "221678  http://images.amazon.com/images/P/0789466953.0...  "
      ]
     },
     "execution_count": 24,
     "metadata": {},
     "output_type": "execute_result"
    }
   ],
   "source": [
    "books[books['yearOfPublication'] == 'DK Publishing Inc']"
   ]
  },
  {
   "cell_type": "code",
   "execution_count": 25,
   "metadata": {},
   "outputs": [
    {
     "data": {
      "text/html": [
       "<div>\n",
       "<style scoped>\n",
       "    .dataframe tbody tr th:only-of-type {\n",
       "        vertical-align: middle;\n",
       "    }\n",
       "\n",
       "    .dataframe tbody tr th {\n",
       "        vertical-align: top;\n",
       "    }\n",
       "\n",
       "    .dataframe thead th {\n",
       "        text-align: right;\n",
       "    }\n",
       "</style>\n",
       "<table border=\"1\" class=\"dataframe\">\n",
       "  <thead>\n",
       "    <tr style=\"text-align: right;\">\n",
       "      <th></th>\n",
       "      <th>ISBN</th>\n",
       "      <th>bookTitle</th>\n",
       "      <th>bookAuthor</th>\n",
       "      <th>yearOfPublication</th>\n",
       "      <th>publisher</th>\n",
       "    </tr>\n",
       "  </thead>\n",
       "  <tbody>\n",
       "    <tr>\n",
       "      <th>209538</th>\n",
       "      <td>078946697X</td>\n",
       "      <td>DK Readers: Creating the X-Men, How It All Beg...</td>\n",
       "      <td>2000</td>\n",
       "      <td>DK Publishing Inc</td>\n",
       "      <td>http://images.amazon.com/images/P/078946697X.0...</td>\n",
       "    </tr>\n",
       "    <tr>\n",
       "      <th>220731</th>\n",
       "      <td>2070426769</td>\n",
       "      <td>Peuple du ciel, suivi de 'Les Bergers\\\";Jean-M...</td>\n",
       "      <td>2003</td>\n",
       "      <td>Gallimard</td>\n",
       "      <td>http://images.amazon.com/images/P/2070426769.0...</td>\n",
       "    </tr>\n",
       "    <tr>\n",
       "      <th>221678</th>\n",
       "      <td>0789466953</td>\n",
       "      <td>DK Readers: Creating the X-Men, How Comic Book...</td>\n",
       "      <td>2000</td>\n",
       "      <td>DK Publishing Inc</td>\n",
       "      <td>http://images.amazon.com/images/P/0789466953.0...</td>\n",
       "    </tr>\n",
       "  </tbody>\n",
       "</table>\n",
       "</div>"
      ],
      "text/plain": [
       "              ISBN                                          bookTitle  \\\n",
       "209538  078946697X  DK Readers: Creating the X-Men, How It All Beg...   \n",
       "220731  2070426769  Peuple du ciel, suivi de 'Les Bergers\\\";Jean-M...   \n",
       "221678  0789466953  DK Readers: Creating the X-Men, How Comic Book...   \n",
       "\n",
       "       bookAuthor  yearOfPublication  \\\n",
       "209538       2000  DK Publishing Inc   \n",
       "220731       2003          Gallimard   \n",
       "221678       2000  DK Publishing Inc   \n",
       "\n",
       "                                                publisher  \n",
       "209538  http://images.amazon.com/images/P/078946697X.0...  \n",
       "220731  http://images.amazon.com/images/P/2070426769.0...  \n",
       "221678  http://images.amazon.com/images/P/0789466953.0...  "
      ]
     },
     "execution_count": 25,
     "metadata": {},
     "output_type": "execute_result"
    }
   ],
   "source": [
    "incorrect_year_recs = books[books['yearOfPublication'].isin(['DK Publishing Inc','Gallimard'])]\n",
    "incorrect_year_recs"
   ]
  },
  {
   "cell_type": "markdown",
   "metadata": {},
   "source": [
    "### Drop the rows having `'DK Publishing Inc'` and `'Gallimard'` as `yearOfPublication`"
   ]
  },
  {
   "cell_type": "code",
   "execution_count": 26,
   "metadata": {},
   "outputs": [],
   "source": [
    "books.drop(incorrect_year_recs.index, axis=0, inplace=True)"
   ]
  },
  {
   "cell_type": "code",
   "execution_count": 27,
   "metadata": {},
   "outputs": [
    {
     "data": {
      "text/html": [
       "<div>\n",
       "<style scoped>\n",
       "    .dataframe tbody tr th:only-of-type {\n",
       "        vertical-align: middle;\n",
       "    }\n",
       "\n",
       "    .dataframe tbody tr th {\n",
       "        vertical-align: top;\n",
       "    }\n",
       "\n",
       "    .dataframe thead th {\n",
       "        text-align: right;\n",
       "    }\n",
       "</style>\n",
       "<table border=\"1\" class=\"dataframe\">\n",
       "  <thead>\n",
       "    <tr style=\"text-align: right;\">\n",
       "      <th></th>\n",
       "      <th>ISBN</th>\n",
       "      <th>bookTitle</th>\n",
       "      <th>bookAuthor</th>\n",
       "      <th>yearOfPublication</th>\n",
       "      <th>publisher</th>\n",
       "    </tr>\n",
       "  </thead>\n",
       "  <tbody>\n",
       "  </tbody>\n",
       "</table>\n",
       "</div>"
      ],
      "text/plain": [
       "Empty DataFrame\n",
       "Columns: [ISBN, bookTitle, bookAuthor, yearOfPublication, publisher]\n",
       "Index: []"
      ]
     },
     "execution_count": 27,
     "metadata": {},
     "output_type": "execute_result"
    }
   ],
   "source": [
    "books[books['yearOfPublication'].isin(['DK Publishing Inc','Gallimard'])]"
   ]
  },
  {
   "cell_type": "markdown",
   "metadata": {},
   "source": [
    "### Change the datatype of yearOfPublication to 'int'"
   ]
  },
  {
   "cell_type": "code",
   "execution_count": 28,
   "metadata": {},
   "outputs": [],
   "source": [
    "books['yearOfPublication'] = books['yearOfPublication'].astype(dtype=np.int32)"
   ]
  },
  {
   "cell_type": "code",
   "execution_count": 29,
   "metadata": {},
   "outputs": [
    {
     "data": {
      "text/plain": [
       "ISBN                 object\n",
       "bookTitle            object\n",
       "bookAuthor           object\n",
       "yearOfPublication     int32\n",
       "publisher            object\n",
       "dtype: object"
      ]
     },
     "execution_count": 29,
     "metadata": {},
     "output_type": "execute_result"
    }
   ],
   "source": [
    "books.dtypes"
   ]
  },
  {
   "cell_type": "markdown",
   "metadata": {},
   "source": [
    "### Drop NaNs in `'publisher'` column\n"
   ]
  },
  {
   "cell_type": "code",
   "execution_count": 30,
   "metadata": {},
   "outputs": [
    {
     "data": {
      "text/plain": [
       "(271357, 5)"
      ]
     },
     "execution_count": 30,
     "metadata": {},
     "output_type": "execute_result"
    }
   ],
   "source": [
    "books.shape"
   ]
  },
  {
   "cell_type": "code",
   "execution_count": 31,
   "metadata": {},
   "outputs": [
    {
     "data": {
      "text/plain": [
       "(271355, 5)"
      ]
     },
     "execution_count": 31,
     "metadata": {},
     "output_type": "execute_result"
    }
   ],
   "source": [
    "books.dropna(axis=0, subset=['publisher'], inplace=True)\n",
    "books.shape"
   ]
  },
  {
   "cell_type": "markdown",
   "metadata": {},
   "source": [
    "## Exploring Users dataset"
   ]
  },
  {
   "cell_type": "code",
   "execution_count": 32,
   "metadata": {
    "scrolled": true
   },
   "outputs": [
    {
     "name": "stdout",
     "output_type": "stream",
     "text": [
      "(278858, 3)\n"
     ]
    },
    {
     "data": {
      "text/html": [
       "<div>\n",
       "<style scoped>\n",
       "    .dataframe tbody tr th:only-of-type {\n",
       "        vertical-align: middle;\n",
       "    }\n",
       "\n",
       "    .dataframe tbody tr th {\n",
       "        vertical-align: top;\n",
       "    }\n",
       "\n",
       "    .dataframe thead th {\n",
       "        text-align: right;\n",
       "    }\n",
       "</style>\n",
       "<table border=\"1\" class=\"dataframe\">\n",
       "  <thead>\n",
       "    <tr style=\"text-align: right;\">\n",
       "      <th></th>\n",
       "      <th>userID</th>\n",
       "      <th>Location</th>\n",
       "      <th>Age</th>\n",
       "    </tr>\n",
       "  </thead>\n",
       "  <tbody>\n",
       "    <tr>\n",
       "      <th>0</th>\n",
       "      <td>1</td>\n",
       "      <td>nyc, new york, usa</td>\n",
       "      <td>NaN</td>\n",
       "    </tr>\n",
       "    <tr>\n",
       "      <th>1</th>\n",
       "      <td>2</td>\n",
       "      <td>stockton, california, usa</td>\n",
       "      <td>18.0</td>\n",
       "    </tr>\n",
       "    <tr>\n",
       "      <th>2</th>\n",
       "      <td>3</td>\n",
       "      <td>moscow, yukon territory, russia</td>\n",
       "      <td>NaN</td>\n",
       "    </tr>\n",
       "    <tr>\n",
       "      <th>3</th>\n",
       "      <td>4</td>\n",
       "      <td>porto, v.n.gaia, portugal</td>\n",
       "      <td>17.0</td>\n",
       "    </tr>\n",
       "    <tr>\n",
       "      <th>4</th>\n",
       "      <td>5</td>\n",
       "      <td>farnborough, hants, united kingdom</td>\n",
       "      <td>NaN</td>\n",
       "    </tr>\n",
       "  </tbody>\n",
       "</table>\n",
       "</div>"
      ],
      "text/plain": [
       "   userID                            Location   Age\n",
       "0       1                  nyc, new york, usa   NaN\n",
       "1       2           stockton, california, usa  18.0\n",
       "2       3     moscow, yukon territory, russia   NaN\n",
       "3       4           porto, v.n.gaia, portugal  17.0\n",
       "4       5  farnborough, hants, united kingdom   NaN"
      ]
     },
     "execution_count": 32,
     "metadata": {},
     "output_type": "execute_result"
    }
   ],
   "source": [
    "print(users.shape)\n",
    "users.head()"
   ]
  },
  {
   "cell_type": "code",
   "execution_count": 33,
   "metadata": {},
   "outputs": [
    {
     "name": "stdout",
     "output_type": "stream",
     "text": [
      "(278858, 3)\n"
     ]
    },
    {
     "data": {
      "text/html": [
       "<div>\n",
       "<style scoped>\n",
       "    .dataframe tbody tr th:only-of-type {\n",
       "        vertical-align: middle;\n",
       "    }\n",
       "\n",
       "    .dataframe tbody tr th {\n",
       "        vertical-align: top;\n",
       "    }\n",
       "\n",
       "    .dataframe thead th {\n",
       "        text-align: right;\n",
       "    }\n",
       "</style>\n",
       "<table border=\"1\" class=\"dataframe\">\n",
       "  <thead>\n",
       "    <tr style=\"text-align: right;\">\n",
       "      <th></th>\n",
       "      <th>userID</th>\n",
       "      <th>Location</th>\n",
       "      <th>Age</th>\n",
       "    </tr>\n",
       "  </thead>\n",
       "  <tbody>\n",
       "    <tr>\n",
       "      <th>0</th>\n",
       "      <td>1</td>\n",
       "      <td>nyc, new york, usa</td>\n",
       "      <td>NaN</td>\n",
       "    </tr>\n",
       "    <tr>\n",
       "      <th>1</th>\n",
       "      <td>2</td>\n",
       "      <td>stockton, california, usa</td>\n",
       "      <td>18.0</td>\n",
       "    </tr>\n",
       "    <tr>\n",
       "      <th>2</th>\n",
       "      <td>3</td>\n",
       "      <td>moscow, yukon territory, russia</td>\n",
       "      <td>NaN</td>\n",
       "    </tr>\n",
       "    <tr>\n",
       "      <th>3</th>\n",
       "      <td>4</td>\n",
       "      <td>porto, v.n.gaia, portugal</td>\n",
       "      <td>17.0</td>\n",
       "    </tr>\n",
       "    <tr>\n",
       "      <th>4</th>\n",
       "      <td>5</td>\n",
       "      <td>farnborough, hants, united kingdom</td>\n",
       "      <td>NaN</td>\n",
       "    </tr>\n",
       "  </tbody>\n",
       "</table>\n",
       "</div>"
      ],
      "text/plain": [
       "   userID                            Location   Age\n",
       "0       1                  nyc, new york, usa   NaN\n",
       "1       2           stockton, california, usa  18.0\n",
       "2       3     moscow, yukon territory, russia   NaN\n",
       "3       4           porto, v.n.gaia, portugal  17.0\n",
       "4       5  farnborough, hants, united kingdom   NaN"
      ]
     },
     "execution_count": 33,
     "metadata": {},
     "output_type": "execute_result"
    }
   ],
   "source": [
    "print(users.shape)\n",
    "users.head()"
   ]
  },
  {
   "cell_type": "markdown",
   "metadata": {},
   "source": [
    "### Get all unique values in ascending order for column `Age`"
   ]
  },
  {
   "cell_type": "code",
   "execution_count": 34,
   "metadata": {},
   "outputs": [
    {
     "data": {
      "text/plain": [
       "array([  0.,   1.,   2.,   3.,   4.,   5.,   6.,   7.,   8.,   9.,  10.,\n",
       "        11.,  12.,  13.,  14.,  15.,  16.,  17.,  18.,  19.,  20.,  21.,\n",
       "        22.,  23.,  24.,  25.,  26.,  27.,  28.,  29.,  30.,  31.,  32.,\n",
       "        33.,  34.,  35.,  36.,  37.,  38.,  39.,  40.,  41.,  42.,  43.,\n",
       "        44.,  45.,  46.,  47.,  48.,  49.,  50.,  51.,  52.,  53.,  54.,\n",
       "        55.,  56.,  57.,  58.,  59.,  60.,  61.,  62.,  63.,  64.,  65.,\n",
       "        66.,  67.,  68.,  69.,  70.,  71.,  72.,  73.,  74.,  75.,  76.,\n",
       "        77.,  78.,  79.,  80.,  81.,  82.,  83.,  84.,  85.,  86.,  87.,\n",
       "        88.,  89.,  90.,  91.,  92.,  93.,  94.,  95.,  96.,  97.,  98.,\n",
       "        99., 100., 101., 102., 103., 104., 105., 106., 107., 108., 109.,\n",
       "       110., 111., 113., 114., 115., 116., 118., 119., 123., 124., 127.,\n",
       "       128., 132., 133., 136., 137., 138., 140., 141., 143., 146., 147.,\n",
       "       148., 151., 152., 156., 157., 159., 162., 168., 172., 175., 183.,\n",
       "       186., 189., 199., 200., 201., 204., 207., 208., 209., 210., 212.,\n",
       "       219., 220., 223., 226., 228., 229., 230., 231., 237., 239., 244.,\n",
       "        nan])"
      ]
     },
     "execution_count": 34,
     "metadata": {},
     "output_type": "execute_result"
    }
   ],
   "source": [
    "sorted_age = users.Age.unique()\n",
    "sorted_age.sort()\n",
    "sorted_age"
   ]
  },
  {
   "cell_type": "markdown",
   "metadata": {},
   "source": [
    "Age column has some invalid entries like nan, 0 and very high values like 100 and above"
   ]
  },
  {
   "cell_type": "markdown",
   "metadata": {},
   "source": [
    "### Values below 5 and above 90 do not make much sense for our book rating case...hence replace these by NaNs"
   ]
  },
  {
   "cell_type": "code",
   "execution_count": 35,
   "metadata": {},
   "outputs": [
    {
     "data": {
      "text/plain": [
       "userID      1312\n",
       "Location    1312\n",
       "Age         1312\n",
       "dtype: int64"
      ]
     },
     "execution_count": 35,
     "metadata": {},
     "output_type": "execute_result"
    }
   ],
   "source": [
    "users[(users['Age'] > 90) | (users['Age'] < 5)].count()"
   ]
  },
  {
   "cell_type": "code",
   "execution_count": 36,
   "metadata": {},
   "outputs": [
    {
     "data": {
      "text/plain": [
       "userID      110762\n",
       "Location    110762\n",
       "Age              0\n",
       "dtype: int64"
      ]
     },
     "execution_count": 36,
     "metadata": {},
     "output_type": "execute_result"
    }
   ],
   "source": [
    "users[users['Age'].isna() == True].count()"
   ]
  },
  {
   "cell_type": "code",
   "execution_count": 37,
   "metadata": {},
   "outputs": [
    {
     "data": {
      "text/plain": [
       "userID      0\n",
       "Location    0\n",
       "Age         0\n",
       "dtype: int64"
      ]
     },
     "execution_count": 37,
     "metadata": {},
     "output_type": "execute_result"
    }
   ],
   "source": [
    "users['Age'] = np.where((users['Age'] > 90) | (users['Age'] < 5), np.NAN, users['Age'])\n",
    "users[(users['Age'] > 90) | (users['Age'] < 5)].count()"
   ]
  },
  {
   "cell_type": "code",
   "execution_count": 38,
   "metadata": {},
   "outputs": [
    {
     "data": {
      "text/plain": [
       "userID      112074\n",
       "Location    112074\n",
       "Age              0\n",
       "dtype: int64"
      ]
     },
     "execution_count": 38,
     "metadata": {},
     "output_type": "execute_result"
    }
   ],
   "source": [
    "users[users['Age'].isna() == True].count()"
   ]
  },
  {
   "cell_type": "code",
   "execution_count": 39,
   "metadata": {},
   "outputs": [
    {
     "data": {
      "text/plain": [
       "(278858, 3)"
      ]
     },
     "execution_count": 39,
     "metadata": {},
     "output_type": "execute_result"
    }
   ],
   "source": [
    "users.shape"
   ]
  },
  {
   "cell_type": "markdown",
   "metadata": {},
   "source": [
    "### Replace null values in column `Age` with mean"
   ]
  },
  {
   "cell_type": "code",
   "execution_count": 40,
   "metadata": {},
   "outputs": [],
   "source": [
    "users['Age'].fillna(axis=0, value=users.Age.mean(), inplace=True)"
   ]
  },
  {
   "cell_type": "code",
   "execution_count": 41,
   "metadata": {},
   "outputs": [
    {
     "data": {
      "text/plain": [
       "userID      0\n",
       "Location    0\n",
       "Age         0\n",
       "dtype: int64"
      ]
     },
     "execution_count": 41,
     "metadata": {},
     "output_type": "execute_result"
    }
   ],
   "source": [
    "users[users['Age'].isna() == True].count()"
   ]
  },
  {
   "cell_type": "code",
   "execution_count": 42,
   "metadata": {},
   "outputs": [
    {
     "data": {
      "text/plain": [
       "(278858, 3)"
      ]
     },
     "execution_count": 42,
     "metadata": {},
     "output_type": "execute_result"
    }
   ],
   "source": [
    "users.shape"
   ]
  },
  {
   "cell_type": "markdown",
   "metadata": {},
   "source": [
    "### Change the datatype of `Age` to `int`"
   ]
  },
  {
   "cell_type": "code",
   "execution_count": 43,
   "metadata": {},
   "outputs": [],
   "source": [
    "users['Age'] = users.Age.astype(dtype=np.int32)"
   ]
  },
  {
   "cell_type": "code",
   "execution_count": 44,
   "metadata": {},
   "outputs": [
    {
     "name": "stdout",
     "output_type": "stream",
     "text": [
      "[5, 6, 7, 8, 9, 10, 11, 12, 13, 14, 15, 16, 17, 18, 19, 20, 21, 22, 23, 24, 25, 26, 27, 28, 29, 30, 31, 32, 33, 34, 35, 36, 37, 38, 39, 40, 41, 42, 43, 44, 45, 46, 47, 48, 49, 50, 51, 52, 53, 54, 55, 56, 57, 58, 59, 60, 61, 62, 63, 64, 65, 66, 67, 68, 69, 70, 71, 72, 73, 74, 75, 76, 77, 78, 79, 80, 81, 82, 83, 84, 85, 86, 87, 88, 89, 90]\n"
     ]
    }
   ],
   "source": [
    "print(sorted(users.Age.unique()))"
   ]
  },
  {
   "cell_type": "markdown",
   "metadata": {},
   "source": [
    "## Exploring the Ratings Dataset"
   ]
  },
  {
   "cell_type": "markdown",
   "metadata": {},
   "source": [
    "### check the shape"
   ]
  },
  {
   "cell_type": "code",
   "execution_count": 45,
   "metadata": {
    "scrolled": true
   },
   "outputs": [
    {
     "data": {
      "text/plain": [
       "(1149780, 3)"
      ]
     },
     "execution_count": 45,
     "metadata": {},
     "output_type": "execute_result"
    }
   ],
   "source": [
    "ratings.shape"
   ]
  },
  {
   "cell_type": "code",
   "execution_count": 46,
   "metadata": {},
   "outputs": [],
   "source": [
    "n_users = users.shape[0]\n",
    "n_books = books.shape[0]"
   ]
  },
  {
   "cell_type": "code",
   "execution_count": 47,
   "metadata": {
    "scrolled": true
   },
   "outputs": [
    {
     "data": {
      "text/html": [
       "<div>\n",
       "<style scoped>\n",
       "    .dataframe tbody tr th:only-of-type {\n",
       "        vertical-align: middle;\n",
       "    }\n",
       "\n",
       "    .dataframe tbody tr th {\n",
       "        vertical-align: top;\n",
       "    }\n",
       "\n",
       "    .dataframe thead th {\n",
       "        text-align: right;\n",
       "    }\n",
       "</style>\n",
       "<table border=\"1\" class=\"dataframe\">\n",
       "  <thead>\n",
       "    <tr style=\"text-align: right;\">\n",
       "      <th></th>\n",
       "      <th>userID</th>\n",
       "      <th>ISBN</th>\n",
       "      <th>bookRating</th>\n",
       "    </tr>\n",
       "  </thead>\n",
       "  <tbody>\n",
       "    <tr>\n",
       "      <th>0</th>\n",
       "      <td>276725</td>\n",
       "      <td>034545104X</td>\n",
       "      <td>0</td>\n",
       "    </tr>\n",
       "    <tr>\n",
       "      <th>1</th>\n",
       "      <td>276726</td>\n",
       "      <td>0155061224</td>\n",
       "      <td>5</td>\n",
       "    </tr>\n",
       "    <tr>\n",
       "      <th>2</th>\n",
       "      <td>276727</td>\n",
       "      <td>0446520802</td>\n",
       "      <td>0</td>\n",
       "    </tr>\n",
       "    <tr>\n",
       "      <th>3</th>\n",
       "      <td>276729</td>\n",
       "      <td>052165615X</td>\n",
       "      <td>3</td>\n",
       "    </tr>\n",
       "    <tr>\n",
       "      <th>4</th>\n",
       "      <td>276729</td>\n",
       "      <td>0521795028</td>\n",
       "      <td>6</td>\n",
       "    </tr>\n",
       "  </tbody>\n",
       "</table>\n",
       "</div>"
      ],
      "text/plain": [
       "   userID        ISBN  bookRating\n",
       "0  276725  034545104X           0\n",
       "1  276726  0155061224           5\n",
       "2  276727  0446520802           0\n",
       "3  276729  052165615X           3\n",
       "4  276729  0521795028           6"
      ]
     },
     "execution_count": 47,
     "metadata": {},
     "output_type": "execute_result"
    }
   ],
   "source": [
    "ratings.head(5)"
   ]
  },
  {
   "cell_type": "markdown",
   "metadata": {},
   "source": [
    "### Ratings dataset should have books only which exist in our books dataset. Drop the remaining rows"
   ]
  },
  {
   "cell_type": "code",
   "execution_count": 48,
   "metadata": {},
   "outputs": [
    {
     "data": {
      "text/plain": [
       "(340556,)"
      ]
     },
     "execution_count": 48,
     "metadata": {},
     "output_type": "execute_result"
    }
   ],
   "source": [
    "ratings.ISBN.unique().shape"
   ]
  },
  {
   "cell_type": "code",
   "execution_count": 49,
   "metadata": {},
   "outputs": [
    {
     "data": {
      "text/plain": [
       "(271355,)"
      ]
     },
     "execution_count": 49,
     "metadata": {},
     "output_type": "execute_result"
    }
   ],
   "source": [
    "available_books_isbn = np.array(books.ISBN)\n",
    "available_books_isbn.shape"
   ]
  },
  {
   "cell_type": "code",
   "execution_count": 50,
   "metadata": {},
   "outputs": [],
   "source": [
    "ratings = ratings[ratings['ISBN'].isin(available_books_isbn)]"
   ]
  },
  {
   "cell_type": "code",
   "execution_count": 51,
   "metadata": {},
   "outputs": [
    {
     "data": {
      "text/plain": [
       "(270146,)"
      ]
     },
     "execution_count": 51,
     "metadata": {},
     "output_type": "execute_result"
    }
   ],
   "source": [
    "ratings.ISBN.unique().shape"
   ]
  },
  {
   "cell_type": "markdown",
   "metadata": {},
   "source": [
    "### Ratings dataset should have ratings from users which exist in users dataset. Drop the remaining rows"
   ]
  },
  {
   "cell_type": "code",
   "execution_count": 52,
   "metadata": {},
   "outputs": [
    {
     "data": {
      "text/plain": [
       "(92106,)"
      ]
     },
     "execution_count": 52,
     "metadata": {},
     "output_type": "execute_result"
    }
   ],
   "source": [
    "ratings.userID.unique().shape"
   ]
  },
  {
   "cell_type": "code",
   "execution_count": 53,
   "metadata": {},
   "outputs": [
    {
     "data": {
      "text/plain": [
       "(278858,)"
      ]
     },
     "execution_count": 53,
     "metadata": {},
     "output_type": "execute_result"
    }
   ],
   "source": [
    "available_users = np.array(users.userID)\n",
    "available_users.shape"
   ]
  },
  {
   "cell_type": "code",
   "execution_count": 54,
   "metadata": {},
   "outputs": [],
   "source": [
    "ratings = ratings[ratings['userID'].isin(available_users)]"
   ]
  },
  {
   "cell_type": "code",
   "execution_count": 55,
   "metadata": {},
   "outputs": [
    {
     "data": {
      "text/plain": [
       "(92106,)"
      ]
     },
     "execution_count": 55,
     "metadata": {},
     "output_type": "execute_result"
    }
   ],
   "source": [
    "ratings.userID.unique().shape"
   ]
  },
  {
   "cell_type": "markdown",
   "metadata": {},
   "source": [
    "### Consider only ratings from 1-10 and leave 0s in column `bookRating`"
   ]
  },
  {
   "cell_type": "code",
   "execution_count": 56,
   "metadata": {},
   "outputs": [
    {
     "data": {
      "text/plain": [
       "(1031130, 3)"
      ]
     },
     "execution_count": 56,
     "metadata": {},
     "output_type": "execute_result"
    }
   ],
   "source": [
    "ratings.shape"
   ]
  },
  {
   "cell_type": "code",
   "execution_count": 57,
   "metadata": {},
   "outputs": [
    {
     "data": {
      "text/html": [
       "<div>\n",
       "<style scoped>\n",
       "    .dataframe tbody tr th:only-of-type {\n",
       "        vertical-align: middle;\n",
       "    }\n",
       "\n",
       "    .dataframe tbody tr th {\n",
       "        vertical-align: top;\n",
       "    }\n",
       "\n",
       "    .dataframe thead th {\n",
       "        text-align: right;\n",
       "    }\n",
       "</style>\n",
       "<table border=\"1\" class=\"dataframe\">\n",
       "  <thead>\n",
       "    <tr style=\"text-align: right;\">\n",
       "      <th></th>\n",
       "      <th>userID</th>\n",
       "      <th>ISBN</th>\n",
       "      <th>bookRating</th>\n",
       "    </tr>\n",
       "  </thead>\n",
       "  <tbody>\n",
       "    <tr>\n",
       "      <th>0</th>\n",
       "      <td>276725</td>\n",
       "      <td>034545104X</td>\n",
       "      <td>0</td>\n",
       "    </tr>\n",
       "    <tr>\n",
       "      <th>1</th>\n",
       "      <td>276726</td>\n",
       "      <td>0155061224</td>\n",
       "      <td>5</td>\n",
       "    </tr>\n",
       "    <tr>\n",
       "      <th>2</th>\n",
       "      <td>276727</td>\n",
       "      <td>0446520802</td>\n",
       "      <td>0</td>\n",
       "    </tr>\n",
       "    <tr>\n",
       "      <th>3</th>\n",
       "      <td>276729</td>\n",
       "      <td>052165615X</td>\n",
       "      <td>3</td>\n",
       "    </tr>\n",
       "    <tr>\n",
       "      <th>4</th>\n",
       "      <td>276729</td>\n",
       "      <td>0521795028</td>\n",
       "      <td>6</td>\n",
       "    </tr>\n",
       "  </tbody>\n",
       "</table>\n",
       "</div>"
      ],
      "text/plain": [
       "   userID        ISBN  bookRating\n",
       "0  276725  034545104X           0\n",
       "1  276726  0155061224           5\n",
       "2  276727  0446520802           0\n",
       "3  276729  052165615X           3\n",
       "4  276729  0521795028           6"
      ]
     },
     "execution_count": 57,
     "metadata": {},
     "output_type": "execute_result"
    }
   ],
   "source": [
    "ratings.head()"
   ]
  },
  {
   "cell_type": "code",
   "execution_count": 58,
   "metadata": {},
   "outputs": [],
   "source": [
    "ratings = ratings[(ratings['bookRating'] >= 1) & (ratings['bookRating'] <= 10)]"
   ]
  },
  {
   "cell_type": "code",
   "execution_count": 59,
   "metadata": {},
   "outputs": [
    {
     "data": {
      "text/plain": [
       "(383839, 3)"
      ]
     },
     "execution_count": 59,
     "metadata": {},
     "output_type": "execute_result"
    }
   ],
   "source": [
    "ratings.shape"
   ]
  },
  {
   "cell_type": "code",
   "execution_count": 60,
   "metadata": {},
   "outputs": [
    {
     "data": {
      "text/html": [
       "<div>\n",
       "<style scoped>\n",
       "    .dataframe tbody tr th:only-of-type {\n",
       "        vertical-align: middle;\n",
       "    }\n",
       "\n",
       "    .dataframe tbody tr th {\n",
       "        vertical-align: top;\n",
       "    }\n",
       "\n",
       "    .dataframe thead th {\n",
       "        text-align: right;\n",
       "    }\n",
       "</style>\n",
       "<table border=\"1\" class=\"dataframe\">\n",
       "  <thead>\n",
       "    <tr style=\"text-align: right;\">\n",
       "      <th></th>\n",
       "      <th>userID</th>\n",
       "      <th>ISBN</th>\n",
       "      <th>bookRating</th>\n",
       "    </tr>\n",
       "  </thead>\n",
       "  <tbody>\n",
       "    <tr>\n",
       "      <th>1</th>\n",
       "      <td>276726</td>\n",
       "      <td>0155061224</td>\n",
       "      <td>5</td>\n",
       "    </tr>\n",
       "    <tr>\n",
       "      <th>3</th>\n",
       "      <td>276729</td>\n",
       "      <td>052165615X</td>\n",
       "      <td>3</td>\n",
       "    </tr>\n",
       "    <tr>\n",
       "      <th>4</th>\n",
       "      <td>276729</td>\n",
       "      <td>0521795028</td>\n",
       "      <td>6</td>\n",
       "    </tr>\n",
       "    <tr>\n",
       "      <th>8</th>\n",
       "      <td>276744</td>\n",
       "      <td>038550120X</td>\n",
       "      <td>7</td>\n",
       "    </tr>\n",
       "    <tr>\n",
       "      <th>16</th>\n",
       "      <td>276747</td>\n",
       "      <td>0060517794</td>\n",
       "      <td>9</td>\n",
       "    </tr>\n",
       "  </tbody>\n",
       "</table>\n",
       "</div>"
      ],
      "text/plain": [
       "    userID        ISBN  bookRating\n",
       "1   276726  0155061224           5\n",
       "3   276729  052165615X           3\n",
       "4   276729  0521795028           6\n",
       "8   276744  038550120X           7\n",
       "16  276747  0060517794           9"
      ]
     },
     "execution_count": 60,
     "metadata": {},
     "output_type": "execute_result"
    }
   ],
   "source": [
    "ratings.head()"
   ]
  },
  {
   "cell_type": "markdown",
   "metadata": {},
   "source": [
    "### Find out which rating has been given highest number of times"
   ]
  },
  {
   "cell_type": "code",
   "execution_count": 61,
   "metadata": {},
   "outputs": [
    {
     "data": {
      "image/png": "[encoded data removed]",
      "text/plain": [
       "<Figure size 720x504 with 1 Axes>"
      ]
     },
     "metadata": {
      "needs_background": "light"
     },
     "output_type": "display_data"
    }
   ],
   "source": [
    "plt.figure(figsize=(10,7))\n",
    "ax = sns.countplot(ratings.bookRating)\n",
    "[ax.text(p[0]-1.25, p[1]+1000, p[1], color='grey') for p in zip((ratings.bookRating.value_counts()).index, ratings.bookRating.value_counts())]\n",
    "plt.show()"
   ]
  },
  {
   "cell_type": "code",
   "execution_count": 62,
   "metadata": {},
   "outputs": [
    {
     "name": "stdout",
     "output_type": "stream",
     "text": [
      "Rating given highest number of times is 8\n"
     ]
    }
   ],
   "source": [
    "print('Rating given highest number of times is', (ratings.bookRating.value_counts()).index[0])"
   ]
  },
  {
   "cell_type": "markdown",
   "metadata": {},
   "source": [
    "### **Collaborative Filtering Based Recommendation Systems**"
   ]
  },
  {
   "cell_type": "markdown",
   "metadata": {},
   "source": [
    "### For more accurate results only consider users who have rated atleast 100 books"
   ]
  },
  {
   "cell_type": "code",
   "execution_count": 63,
   "metadata": {},
   "outputs": [
    {
     "data": {
      "text/plain": [
       "449"
      ]
     },
     "execution_count": 63,
     "metadata": {},
     "output_type": "execute_result"
    }
   ],
   "source": [
    "rating_count = ratings['ISBN'].groupby(ratings['userID'])\n",
    "rating_count = rating_count.count().sort_values(ascending = False)\n",
    "active_users = rating_count[rating_count >= 100].index.tolist()\n",
    "len(active_users)"
   ]
  },
  {
   "cell_type": "code",
   "execution_count": 64,
   "metadata": {},
   "outputs": [
    {
     "data": {
      "text/plain": [
       "(383839, 3)"
      ]
     },
     "execution_count": 64,
     "metadata": {},
     "output_type": "execute_result"
    }
   ],
   "source": [
    "ratings.shape"
   ]
  },
  {
   "cell_type": "code",
   "execution_count": 65,
   "metadata": {},
   "outputs": [
    {
     "data": {
      "text/plain": [
       "(103269, 3)"
      ]
     },
     "execution_count": 65,
     "metadata": {},
     "output_type": "execute_result"
    }
   ],
   "source": [
    "qualified_ratings = ratings[ratings['userID'].isin(active_users)]\n",
    "qualified_ratings.shape"
   ]
  },
  {
   "cell_type": "markdown",
   "metadata": {},
   "source": [
    "### Generating ratings matrix from explicit ratings\n"
   ]
  },
  {
   "cell_type": "markdown",
   "metadata": {},
   "source": [
    "#### Note: since NaNs cannot be handled by training algorithms, replace these by 0, which indicates absence of ratings"
   ]
  },
  {
   "cell_type": "code",
   "execution_count": 66,
   "metadata": {},
   "outputs": [
    {
     "data": {
      "text/plain": [
       "userID        False\n",
       "ISBN          False\n",
       "bookRating    False\n",
       "dtype: bool"
      ]
     },
     "execution_count": 66,
     "metadata": {},
     "output_type": "execute_result"
    }
   ],
   "source": [
    "qualified_ratings.isna().any()"
   ]
  },
  {
   "cell_type": "code",
   "execution_count": 67,
   "metadata": {},
   "outputs": [
    {
     "data": {
      "text/plain": [
       "449"
      ]
     },
     "execution_count": 67,
     "metadata": {},
     "output_type": "execute_result"
    }
   ],
   "source": [
    "len(qualified_ratings.userID.unique())"
   ]
  },
  {
   "cell_type": "code",
   "execution_count": 68,
   "metadata": {},
   "outputs": [
    {
     "data": {
      "text/plain": [
       "66572"
      ]
     },
     "execution_count": 68,
     "metadata": {},
     "output_type": "execute_result"
    }
   ],
   "source": [
    "len(qualified_ratings.ISBN.unique())"
   ]
  },
  {
   "cell_type": "markdown",
   "metadata": {},
   "source": [
    "### Generate the predicted ratings using SVD with no.of singular values to be 50"
   ]
  },
  {
   "cell_type": "code",
   "execution_count": 69,
   "metadata": {},
   "outputs": [],
   "source": [
    "from surprise import Dataset,Reader,SVD,accuracy"
   ]
  },
  {
   "cell_type": "code",
   "execution_count": 70,
   "metadata": {},
   "outputs": [],
   "source": [
    "reader = Reader(rating_scale=(1, 10))\n",
    "data = Dataset.load_from_df(qualified_ratings[['userID', 'ISBN', 'bookRating']], reader)"
   ]
  },
  {
   "cell_type": "code",
   "execution_count": 74,
   "metadata": {},
   "outputs": [
    {
     "data": {
      "text/plain": [
       "<surprise.prediction_algorithms.matrix_factorization.SVD at 0x14c8c290>"
      ]
     },
     "execution_count": 74,
     "metadata": {},
     "output_type": "execute_result"
    }
   ],
   "source": [
    "trainset_full = data.build_full_trainset()\n",
    "svd_model = SVD(n_factors=50,biased=False)\n",
    "svd_model.fit(trainset_full)"
   ]
  },
  {
   "cell_type": "code",
   "execution_count": 75,
   "metadata": {},
   "outputs": [],
   "source": [
    "from surprise.model_selection import train_test_split\n",
    "trainset, testset = train_test_split(data, test_size=.25,random_state=123)"
   ]
  },
  {
   "cell_type": "code",
   "execution_count": 76,
   "metadata": {},
   "outputs": [
    {
     "name": "stdout",
     "output_type": "stream",
     "text": [
      "RMSE: 3.4407\n"
     ]
    },
    {
     "data": {
      "text/plain": [
       "3.4407065255961684"
      ]
     },
     "execution_count": 76,
     "metadata": {},
     "output_type": "execute_result"
    }
   ],
   "source": [
    "svd_model_n100 = SVD(n_factors=100,biased=False)\n",
    "svd_model_n100.fit(trainset)\n",
    "test_pred_n100 = svd_model_n100.test(testset)\n",
    "accuracy.rmse(test_pred_n100)"
   ]
  },
  {
   "cell_type": "code",
   "execution_count": 77,
   "metadata": {},
   "outputs": [
    {
     "name": "stdout",
     "output_type": "stream",
     "text": [
      "RMSE: 3.0847\n"
     ]
    },
    {
     "data": {
      "text/plain": [
       "3.0847496624384116"
      ]
     },
     "execution_count": 77,
     "metadata": {},
     "output_type": "execute_result"
    }
   ],
   "source": [
    "svd_model_n50 = SVD(n_factors=50,biased=False)\n",
    "svd_model_n50.fit(trainset)\n",
    "test_pred_n50 = svd_model_n50.test(testset)\n",
    "accuracy.rmse(test_pred_n50)                     "
   ]
  },
  {
   "cell_type": "code",
   "execution_count": 78,
   "metadata": {},
   "outputs": [
    {
     "name": "stdout",
     "output_type": "stream",
     "text": [
      "RMSE: 2.7634\n"
     ]
    },
    {
     "data": {
      "text/plain": [
       "2.7633708621584883"
      ]
     },
     "execution_count": 78,
     "metadata": {},
     "output_type": "execute_result"
    }
   ],
   "source": [
    "svd_model_n20 = SVD(n_factors=20,biased=False)\n",
    "svd_model_n20.fit(trainset)\n",
    "test_pred_n20 = svd_model_n20.test(testset)\n",
    "accuracy.rmse(test_pred_n20)"
   ]
  },
  {
   "cell_type": "code",
   "execution_count": 79,
   "metadata": {},
   "outputs": [
    {
     "name": "stdout",
     "output_type": "stream",
     "text": [
      "RMSE: 2.5394\n"
     ]
    },
    {
     "data": {
      "text/plain": [
       "2.539403127880482"
      ]
     },
     "execution_count": 79,
     "metadata": {},
     "output_type": "execute_result"
    }
   ],
   "source": [
    "svd_model_n10 = SVD(n_factors=10,biased=False)\n",
    "svd_model_n10.fit(trainset)\n",
    "test_pred_n10 = svd_model_n10.test(testset)\n",
    "accuracy.rmse(test_pred_n10)"
   ]
  },
  {
   "cell_type": "code",
   "execution_count": 80,
   "metadata": {},
   "outputs": [
    {
     "name": "stdout",
     "output_type": "stream",
     "text": [
      "RMSE: 2.2178\n"
     ]
    },
    {
     "data": {
      "text/plain": [
       "2.217807190247314"
      ]
     },
     "execution_count": 80,
     "metadata": {},
     "output_type": "execute_result"
    }
   ],
   "source": [
    "svd_model_n5 = SVD(n_factors=5,biased=False)\n",
    "svd_model_n5.fit(trainset)\n",
    "test_pred_n5 = svd_model_n5.test(testset)\n",
    "accuracy.rmse(test_pred_n5)"
   ]
  },
  {
   "cell_type": "code",
   "execution_count": 82,
   "metadata": {},
   "outputs": [],
   "source": [
    "from surprise.model_selection import GridSearchCV\n",
    "param_grid = {'n_factors' : [2,5,10,15,20,50,100], \"reg_all\":[0.01,0.02]}\n",
    "gs = GridSearchCV(SVD, param_grid, measures=['rmse'], cv=3,refit = True)\n",
    "gs.fit(data)"
   ]
  },
  {
   "cell_type": "code",
   "execution_count": 83,
   "metadata": {},
   "outputs": [
    {
     "data": {
      "text/plain": [
       "{'rmse': {'n_factors': 2, 'reg_all': 0.02}}"
      ]
     },
     "execution_count": 83,
     "metadata": {},
     "output_type": "execute_result"
    }
   ],
   "source": [
    "gs.best_params"
   ]
  },
  {
   "cell_type": "code",
   "execution_count": 84,
   "metadata": {},
   "outputs": [
    {
     "data": {
      "text/plain": [
       "[Prediction(uid=31826, iid='0060263857', r_ui=10.0, est=10, details={'was_impossible': False}),\n",
       " Prediction(uid=30810, iid='357000077X', r_ui=9.0, est=8.72114186978481, details={'was_impossible': False}),\n",
       " Prediction(uid=269566, iid='0440800765', r_ui=7.0, est=6.8815928081308995, details={'was_impossible': False}),\n",
       " Prediction(uid=31826, iid='0439207843', r_ui=10.0, est=9.820926447258227, details={'was_impossible': False}),\n",
       " Prediction(uid=110934, iid='0452281784', r_ui=9.0, est=7.493987385389812, details={'was_impossible': False}),\n",
       " Prediction(uid=224764, iid='0786012676', r_ui=5.0, est=6.9634843805226145, details={'was_impossible': False}),\n",
       " Prediction(uid=278418, iid='0871318156', r_ui=8.0, est=6.110209082956673, details={'was_impossible': False}),\n",
       " Prediction(uid=239594, iid='0449001164', r_ui=7.0, est=7.764135242583321, details={'was_impossible': False}),\n",
       " Prediction(uid=123094, iid='0345361172', r_ui=8.0, est=8.511156972912584, details={'was_impossible': False}),\n",
       " Prediction(uid=205735, iid='0373032234', r_ui=9.0, est=9.16555757070101, details={'was_impossible': False}),\n",
       " Prediction(uid=153662, iid='0140422099', r_ui=10.0, est=8.48930959356424, details={'was_impossible': False}),\n",
       " Prediction(uid=153662, iid='0380762560', r_ui=8.0, est=8.581413350655554, details={'was_impossible': False}),\n",
       " Prediction(uid=244627, iid='0439128692', r_ui=8.0, est=8.939261348157538, details={'was_impossible': False}),\n",
       " Prediction(uid=223501, iid='0446531316', r_ui=7.0, est=7.462677722710197, details={'was_impossible': False}),\n",
       " Prediction(uid=248718, iid='0425170365', r_ui=8.0, est=7.510231437949558, details={'was_impossible': False}),\n",
       " Prediction(uid=98391, iid='0843952296', r_ui=8.0, est=8.878393964256183, details={'was_impossible': False}),\n",
       " Prediction(uid=10560, iid='0345456688', r_ui=10.0, est=8.343132185361679, details={'was_impossible': False}),\n",
       " Prediction(uid=236283, iid='0451190521', r_ui=10.0, est=9.428250830554868, details={'was_impossible': False}),\n",
       " Prediction(uid=37712, iid='0156028778', r_ui=4.0, est=8.058662658743307, details={'was_impossible': False}),\n",
       " Prediction(uid=171118, iid='1568360517', r_ui=8.0, est=7.424253412248218, details={'was_impossible': False}),\n",
       " Prediction(uid=98391, iid='0743204832', r_ui=9.0, est=8.999762802118603, details={'was_impossible': False}),\n",
       " Prediction(uid=16795, iid='0142000205', r_ui=9.0, est=7.744873455709222, details={'was_impossible': False}),\n",
       " Prediction(uid=76151, iid='051508901X', r_ui=10.0, est=8.815517247307946, details={'was_impossible': False}),\n",
       " Prediction(uid=156467, iid='0684811995', r_ui=10.0, est=9.811086027207653, details={'was_impossible': False}),\n",
       " Prediction(uid=189334, iid='0716721341', r_ui=10.0, est=9.305067389366409, details={'was_impossible': False}),\n",
       " Prediction(uid=199416, iid='0312254954', r_ui=6.0, est=6.442689621303605, details={'was_impossible': False}),\n",
       " Prediction(uid=224525, iid='085030895X', r_ui=10.0, est=9.701879229899074, details={'was_impossible': False}),\n",
       " Prediction(uid=25981, iid='0816706522', r_ui=5.0, est=5.378125778947925, details={'was_impossible': False}),\n",
       " Prediction(uid=252695, iid='0380973529', r_ui=8.0, est=7.808932769519994, details={'was_impossible': False}),\n",
       " Prediction(uid=23902, iid='1840224371', r_ui=8.0, est=7.3321363453318975, details={'was_impossible': False}),\n",
       " Prediction(uid=69078, iid='0811201880', r_ui=8.0, est=7.951167051452649, details={'was_impossible': False}),\n",
       " Prediction(uid=98391, iid='0758205503', r_ui=8.0, est=8.845953632386983, details={'was_impossible': False}),\n",
       " Prediction(uid=136010, iid='1853260010', r_ui=9.0, est=7.9033560261595115, details={'was_impossible': False}),\n",
       " Prediction(uid=113270, iid='1400034779', r_ui=8.0, est=8.610144193066164, details={'was_impossible': False}),\n",
       " Prediction(uid=98391, iid='0373259492', r_ui=8.0, est=8.875925830648342, details={'was_impossible': False}),\n",
       " Prediction(uid=225087, iid='1562920782', r_ui=10.0, est=8.779991405940184, details={'was_impossible': False}),\n",
       " Prediction(uid=200226, iid='0515121843', r_ui=7.0, est=7.720288237677168, details={'was_impossible': False}),\n",
       " Prediction(uid=94347, iid='0553280414', r_ui=9.0, est=7.80185002981818, details={'was_impossible': False}),\n",
       " Prediction(uid=196077, iid='0786869429', r_ui=10.0, est=7.730492452215271, details={'was_impossible': False}),\n",
       " Prediction(uid=107784, iid='0671728571', r_ui=5.0, est=5.370604247036758, details={'was_impossible': False}),\n",
       " Prediction(uid=10560, iid='037541200X', r_ui=5.0, est=7.8501760523259465, details={'was_impossible': False}),\n",
       " Prediction(uid=125519, iid='0446676438', r_ui=9.0, est=8.79867954594496, details={'was_impossible': False}),\n",
       " Prediction(uid=265115, iid='0446360589', r_ui=9.0, est=7.699205480265787, details={'was_impossible': False}),\n",
       " Prediction(uid=72352, iid='0451403614', r_ui=7.0, est=6.719033191727764, details={'was_impossible': False}),\n",
       " Prediction(uid=98391, iid='0758200374', r_ui=8.0, est=8.828707279906824, details={'was_impossible': False}),\n",
       " Prediction(uid=4385, iid='0373451806', r_ui=10.0, est=9.759552533960976, details={'was_impossible': False}),\n",
       " Prediction(uid=189835, iid='0449221431', r_ui=5.0, est=5.157141031486305, details={'was_impossible': False}),\n",
       " Prediction(uid=98391, iid='0821771426', r_ui=8.0, est=8.855504525500779, details={'was_impossible': False}),\n",
       " Prediction(uid=25981, iid='1855940027', r_ui=5.0, est=5.359352512865471, details={'was_impossible': False}),\n",
       " Prediction(uid=182085, iid='037370710X', r_ui=5.0, est=8.392756184781822, details={'was_impossible': False}),\n",
       " Prediction(uid=153662, iid='0505524899', r_ui=9.0, est=8.30874470261261, details={'was_impossible': False}),\n",
       " Prediction(uid=19085, iid='0944996159', r_ui=8.0, est=8.138970362394813, details={'was_impossible': False}),\n",
       " Prediction(uid=35859, iid='0671760513', r_ui=7.0, est=7.394172607926583, details={'was_impossible': False}),\n",
       " Prediction(uid=56399, iid='1567187196', r_ui=10.0, est=9.511339863841245, details={'was_impossible': False}),\n",
       " Prediction(uid=157247, iid='0679751521', r_ui=2.0, est=5.759177714787154, details={'was_impossible': False}),\n",
       " Prediction(uid=52614, iid='0373765223', r_ui=10.0, est=9.543383085834664, details={'was_impossible': False}),\n",
       " Prediction(uid=266226, iid='0399502580', r_ui=7.0, est=7.927259499839971, details={'was_impossible': False}),\n",
       " Prediction(uid=177458, iid='0786904364', r_ui=7.0, est=7.129696143245345, details={'was_impossible': False}),\n",
       " Prediction(uid=81560, iid='0345348664', r_ui=7.0, est=7.587386138415135, details={'was_impossible': False}),\n",
       " Prediction(uid=153662, iid='0440209102', r_ui=9.0, est=8.328404824753665, details={'was_impossible': False}),\n",
       " Prediction(uid=234359, iid='006108462X', r_ui=6.0, est=6.050039398001492, details={'was_impossible': False}),\n",
       " Prediction(uid=36907, iid='034536676X', r_ui=10.0, est=9.668043958846557, details={'was_impossible': False}),\n",
       " Prediction(uid=23902, iid='0571154913', r_ui=9.0, est=7.770989087222793, details={'was_impossible': False}),\n",
       " Prediction(uid=31826, iid='0425128164', r_ui=10.0, est=9.296033978662189, details={'was_impossible': False}),\n",
       " Prediction(uid=187517, iid='0553092537', r_ui=5.0, est=7.034682775568741, details={'was_impossible': False}),\n",
       " Prediction(uid=242465, iid='0875422640', r_ui=10.0, est=9.897014360092472, details={'was_impossible': False}),\n",
       " Prediction(uid=101851, iid='0965843920', r_ui=9.0, est=8.729633623568295, details={'was_impossible': False}),\n",
       " Prediction(uid=242006, iid='0060002050', r_ui=10.0, est=9.03540980735264, details={'was_impossible': False}),\n",
       " Prediction(uid=12538, iid='0451457781', r_ui=8.0, est=8.074363087825564, details={'was_impossible': False}),\n",
       " Prediction(uid=6575, iid='0345391802', r_ui=8.0, est=7.382342680046518, details={'was_impossible': False}),\n",
       " Prediction(uid=134434, iid='8478886540', r_ui=7.0, est=7.148886460996466, details={'was_impossible': False}),\n",
       " Prediction(uid=140358, iid='0425149625', r_ui=5.0, est=5.2169298311436245, details={'was_impossible': False}),\n",
       " Prediction(uid=11676, iid='0590450875', r_ui=10.0, est=9.226624543732838, details={'was_impossible': False}),\n",
       " Prediction(uid=95932, iid='0452264464', r_ui=10.0, est=7.510633358017526, details={'was_impossible': False}),\n",
       " Prediction(uid=190925, iid='0553278029', r_ui=8.0, est=7.571070055654399, details={'was_impossible': False}),\n",
       " Prediction(uid=229329, iid='0571180744', r_ui=8.0, est=8.735288943193241, details={'was_impossible': False}),\n",
       " Prediction(uid=11676, iid='0345318854', r_ui=2.0, est=5.505941235195784, details={'was_impossible': False}),\n",
       " Prediction(uid=52350, iid='059044168X', r_ui=10.0, est=9.223682649059453, details={'was_impossible': False}),\n",
       " Prediction(uid=23872, iid='0765606852', r_ui=8.0, est=7.315000411555792, details={'was_impossible': False}),\n",
       " Prediction(uid=98391, iid='0778320138', r_ui=8.0, est=8.771584670893317, details={'was_impossible': False}),\n",
       " Prediction(uid=223501, iid='1573221937', r_ui=6.0, est=6.920499459583518, details={'was_impossible': False}),\n",
       " Prediction(uid=33145, iid='2070392953', r_ui=7.0, est=7.619057409789211, details={'was_impossible': False}),\n",
       " Prediction(uid=98391, iid='0553382241', r_ui=8.0, est=8.936019894032182, details={'was_impossible': False}),\n",
       " Prediction(uid=23872, iid='0671811916', r_ui=7.0, est=7.291681468392396, details={'was_impossible': False}),\n",
       " Prediction(uid=156300, iid='0689711409', r_ui=10.0, est=9.752084553412198, details={'was_impossible': False}),\n",
       " Prediction(uid=153662, iid='0671019422', r_ui=8.0, est=8.020033728597841, details={'was_impossible': False}),\n",
       " Prediction(uid=35859, iid='0060261978', r_ui=7.0, est=7.390283192584354, details={'was_impossible': False}),\n",
       " Prediction(uid=15408, iid='0060958340', r_ui=8.0, est=7.807189443096386, details={'was_impossible': False}),\n",
       " Prediction(uid=11676, iid='044020352X', r_ui=6.0, est=6.377561491868535, details={'was_impossible': False}),\n",
       " Prediction(uid=241980, iid='0671023489', r_ui=10.0, est=9.572046867247291, details={'was_impossible': False}),\n",
       " Prediction(uid=177458, iid='0806521317', r_ui=9.0, est=7.3912136337809065, details={'was_impossible': False}),\n",
       " Prediction(uid=36609, iid='0739317067', r_ui=1.0, est=6.635531954341454, details={'was_impossible': False}),\n",
       " Prediction(uid=104399, iid='0451162072', r_ui=10.0, est=9.85330449487236, details={'was_impossible': False}),\n",
       " Prediction(uid=56399, iid='1858334780', r_ui=10.0, est=9.740894672742517, details={'was_impossible': False}),\n",
       " Prediction(uid=11676, iid='0316898163', r_ui=6.0, est=6.208709026309673, details={'was_impossible': False}),\n",
       " Prediction(uid=98391, iid='1890862290', r_ui=8.0, est=8.814389603067692, details={'was_impossible': False}),\n",
       " Prediction(uid=23902, iid='1857975049', r_ui=7.0, est=7.382616266334969, details={'was_impossible': False}),\n",
       " Prediction(uid=193458, iid='014011369X', r_ui=9.0, est=7.950240377665519, details={'was_impossible': False}),\n",
       " Prediction(uid=123094, iid='0345389409', r_ui=5.0, est=8.104694364830252, details={'was_impossible': False}),\n",
       " Prediction(uid=135149, iid='0449003183', r_ui=9.0, est=7.731396413070698, details={'was_impossible': False}),\n",
       " Prediction(uid=141902, iid='0310281512', r_ui=10.0, est=8.931617128990778, details={'was_impossible': False}),\n",
       " Prediction(uid=236058, iid='0452270928', r_ui=9.0, est=8.349996489969605, details={'was_impossible': False}),\n",
       " Prediction(uid=87555, iid='0345426606', r_ui=10.0, est=8.552059007497926, details={'was_impossible': False}),\n",
       " Prediction(uid=31826, iid='0425104346', r_ui=10.0, est=9.996539419390412, details={'was_impossible': False}),\n",
       " Prediction(uid=231210, iid='0140390227', r_ui=9.0, est=7.929972281277544, details={'was_impossible': False}),\n",
       " Prediction(uid=153662, iid='0345335791', r_ui=8.0, est=8.302771634977384, details={'was_impossible': False}),\n",
       " Prediction(uid=26583, iid='0449214540', r_ui=8.0, est=8.233117205796097, details={'was_impossible': False}),\n",
       " Prediction(uid=56399, iid='0552136328', r_ui=10.0, est=9.724740887992729, details={'was_impossible': False}),\n",
       " Prediction(uid=230522, iid='0553213156', r_ui=8.0, est=8.624469356392526, details={'was_impossible': False}),\n",
       " Prediction(uid=98391, iid='0595280919', r_ui=5.0, est=8.541657743288427, details={'was_impossible': False}),\n",
       " Prediction(uid=102359, iid='0881848204', r_ui=10.0, est=9.255918160251351, details={'was_impossible': False}),\n",
       " Prediction(uid=89602, iid='0345441265', r_ui=6.0, est=6.6018474532583316, details={'was_impossible': False}),\n",
       " Prediction(uid=30735, iid='0810911132', r_ui=10.0, est=8.788128957456866, details={'was_impossible': False}),\n",
       " Prediction(uid=216012, iid='0425177378', r_ui=8.0, est=7.647622930981476, details={'was_impossible': False}),\n",
       " Prediction(uid=23902, iid='0720708346', r_ui=7.0, est=7.51857181331722, details={'was_impossible': False}),\n",
       " Prediction(uid=265889, iid='038082082X', r_ui=9.0, est=8.275965830906957, details={'was_impossible': False}),\n",
       " Prediction(uid=75591, iid='0375702695', r_ui=9.0, est=8.373273262978595, details={'was_impossible': False}),\n",
       " Prediction(uid=116599, iid='0394925203', r_ui=10.0, est=9.322336430638872, details={'was_impossible': False}),\n",
       " Prediction(uid=174304, iid='0553155806', r_ui=8.0, est=7.315470602856219, details={'was_impossible': False}),\n",
       " Prediction(uid=172742, iid='0553234625', r_ui=8.0, est=8.506745605593993, details={'was_impossible': False}),\n",
       " Prediction(uid=261105, iid='3518392387', r_ui=9.0, est=8.096194823706632, details={'was_impossible': False}),\n",
       " Prediction(uid=274061, iid='0670835382', r_ui=10.0, est=9.784461407767406, details={'was_impossible': False}),\n",
       " Prediction(uid=225763, iid='0801838010', r_ui=5.0, est=5.618387381251594, details={'was_impossible': False}),\n",
       " Prediction(uid=189835, iid='078682820X', r_ui=5.0, est=5.242096034981733, details={'was_impossible': False}),\n",
       " Prediction(uid=177432, iid='0812505042', r_ui=9.0, est=8.106297867029328, details={'was_impossible': False}),\n",
       " Prediction(uid=6251, iid='0345335236', r_ui=9.0, est=8.679346594067638, details={'was_impossible': False}),\n",
       " Prediction(uid=95359, iid='0671027638', r_ui=7.0, est=7.390834197146622, details={'was_impossible': False}),\n",
       " Prediction(uid=69078, iid='0805309705', r_ui=8.0, est=7.844399617096924, details={'was_impossible': False}),\n",
       " Prediction(uid=257204, iid='0345349369', r_ui=10.0, est=9.447949187649785, details={'was_impossible': False}),\n",
       " Prediction(uid=241980, iid='0671007610', r_ui=10.0, est=9.44882219103238, details={'was_impossible': False}),\n",
       " Prediction(uid=171118, iid='0140440038', r_ui=9.0, est=7.469437845918865, details={'was_impossible': False}),\n",
       " Prediction(uid=156150, iid='0060234814', r_ui=10.0, est=8.458338157495943, details={'was_impossible': False}),\n",
       " Prediction(uid=40889, iid='0670865796', r_ui=10.0, est=8.667027522597333, details={'was_impossible': False}),\n",
       " Prediction(uid=274301, iid='0312924801', r_ui=10.0, est=9.274218435984455, details={'was_impossible': False}),\n",
       " Prediction(uid=197659, iid='1576737330', r_ui=8.0, est=8.494379852856445, details={'was_impossible': False}),\n",
       " Prediction(uid=95359, iid='0671755064', r_ui=6.0, est=6.848225294516811, details={'was_impossible': False}),\n",
       " Prediction(uid=28634, iid='0786014954', r_ui=6.0, est=7.900980158378578, details={'was_impossible': False}),\n",
       " Prediction(uid=69389, iid='0446610038', r_ui=8.0, est=7.67618754472627, details={'was_impossible': False}),\n",
       " Prediction(uid=56959, iid='0846660563', r_ui=10.0, est=9.784124288714306, details={'was_impossible': False}),\n",
       " Prediction(uid=23872, iid='0395689902', r_ui=9.0, est=8.012447583520652, details={'was_impossible': False}),\n",
       " Prediction(uid=183995, iid='0373111207', r_ui=5.0, est=7.86135778151007, details={'was_impossible': False}),\n",
       " Prediction(uid=15418, iid='0140442480', r_ui=7.0, est=7.592485781057735, details={'was_impossible': False}),\n",
       " Prediction(uid=11676, iid='0451132378', r_ui=8.0, est=7.108426743141611, details={'was_impossible': False}),\n",
       " Prediction(uid=177458, iid='1896332145', r_ui=8.0, est=7.239804117705034, details={'was_impossible': False}),\n",
       " Prediction(uid=133747, iid='068480154X', r_ui=9.0, est=7.331712365816549, details={'was_impossible': False}),\n",
       " Prediction(uid=88677, iid='0446350109', r_ui=8.0, est=7.1975891535072485, details={'was_impossible': False}),\n",
       " Prediction(uid=112001, iid='0441246230', r_ui=10.0, est=9.484235045103455, details={'was_impossible': False}),\n",
       " Prediction(uid=232945, iid='0446608653', r_ui=8.0, est=7.679033261355448, details={'was_impossible': False}),\n",
       " Prediction(uid=63714, iid='0751370312', r_ui=9.0, est=9.352153613457887, details={'was_impossible': False}),\n",
       " Prediction(uid=254899, iid='0060907010', r_ui=10.0, est=7.71328833817883, details={'was_impossible': False}),\n",
       " Prediction(uid=168245, iid='0440234808', r_ui=9.0, est=7.886038162010351, details={'was_impossible': False}),\n",
       " Prediction(uid=197659, iid='1892051001', r_ui=7.0, est=8.230487933676335, details={'was_impossible': False}),\n",
       " Prediction(uid=8245, iid='0380844001', r_ui=7.0, est=7.995111144485943, details={'was_impossible': False}),\n",
       " Prediction(uid=69697, iid='0671689746', r_ui=8.0, est=8.477278464920438, details={'was_impossible': False}),\n",
       " Prediction(uid=16795, iid='002517990X', r_ui=6.0, est=7.1382944071375585, details={'was_impossible': False}),\n",
       " Prediction(uid=107951, iid='3451075369', r_ui=7.0, est=7.767771096734479, details={'was_impossible': False}),\n",
       " Prediction(uid=73681, iid='0453007465', r_ui=9.0, est=8.268760478634093, details={'was_impossible': False}),\n",
       " Prediction(uid=60244, iid='0590425560', r_ui=9.0, est=8.117497086718258, details={'was_impossible': False}),\n",
       " Prediction(uid=98391, iid='1594140766', r_ui=10.0, est=9.076116930463877, details={'was_impossible': False}),\n",
       " Prediction(uid=189835, iid='1850578796', r_ui=5.0, est=5.210442160589981, details={'was_impossible': False}),\n",
       " Prediction(uid=164323, iid='1573229326', r_ui=7.0, est=6.944768541503945, details={'was_impossible': False}),\n",
       " Prediction(uid=56399, iid='0751523925', r_ui=10.0, est=9.920221751336681, details={'was_impossible': False}),\n",
       " Prediction(uid=166123, iid='1587880008', r_ui=9.0, est=8.167815577091018, details={'was_impossible': False}),\n",
       " Prediction(uid=142524, iid='0679420053', r_ui=5.0, est=7.769879366188662, details={'was_impossible': False}),\n",
       " Prediction(uid=98391, iid='1583144277', r_ui=10.0, est=9.112142090992007, details={'was_impossible': False}),\n",
       " Prediction(uid=69697, iid='051511779X', r_ui=9.0, est=9.2765636036126, details={'was_impossible': False}),\n",
       " Prediction(uid=81560, iid='0786916613', r_ui=6.0, est=7.500200933090553, details={'was_impossible': False}),\n",
       " Prediction(uid=81560, iid='0812513754', r_ui=7.0, est=7.617619502310963, details={'was_impossible': False}),\n",
       " Prediction(uid=229329, iid='0140031049', r_ui=8.0, est=8.788221338067391, details={'was_impossible': False}),\n",
       " Prediction(uid=46398, iid='086020653X', r_ui=6.0, est=6.8349534960382705, details={'was_impossible': False}),\n",
       " Prediction(uid=222296, iid='0375726403', r_ui=7.0, est=7.5642061408390395, details={'was_impossible': False}),\n",
       " Prediction(uid=266056, iid='1564140695', r_ui=5.0, est=7.102660625727705, details={'was_impossible': False}),\n",
       " Prediction(uid=7346, iid='0020868308', r_ui=10.0, est=8.071945465823157, details={'was_impossible': False}),\n",
       " Prediction(uid=56447, iid='0061020400', r_ui=9.0, est=6.915838604107713, details={'was_impossible': False}),\n",
       " Prediction(uid=231210, iid='0060443529', r_ui=8.0, est=7.90482399409879, details={'was_impossible': False}),\n",
       " Prediction(uid=222204, iid='0441482325', r_ui=9.0, est=8.97790645705574, details={'was_impossible': False}),\n",
       " Prediction(uid=125519, iid='0670880728', r_ui=10.0, est=8.825700988193848, details={'was_impossible': False}),\n",
       " Prediction(uid=36907, iid='1585671827', r_ui=10.0, est=9.092911653112798, details={'was_impossible': False}),\n",
       " Prediction(uid=56399, iid='0933635699', r_ui=10.0, est=9.71176674715353, details={'was_impossible': False}),\n",
       " Prediction(uid=98391, iid='0449006417', r_ui=9.0, est=8.911953935906947, details={'was_impossible': False}),\n",
       " Prediction(uid=225595, iid='0618131736', r_ui=9.0, est=9.280840800379519, details={'was_impossible': False}),\n",
       " Prediction(uid=8890, iid='2869309651', r_ui=7.0, est=7.908803849494354, details={'was_impossible': False}),\n",
       " Prediction(uid=123608, iid='0380724693', r_ui=8.0, est=6.78176426407459, details={'was_impossible': False}),\n",
       " Prediction(uid=113270, iid='0842332294', r_ui=3.0, est=6.952703517916886, details={'was_impossible': False}),\n",
       " Prediction(uid=114368, iid='1551660016', r_ui=5.0, est=5.604408082792986, details={'was_impossible': False}),\n",
       " Prediction(uid=157273, iid='0671500147', r_ui=9.0, est=7.808358343207854, details={'was_impossible': False}),\n",
       " Prediction(uid=30511, iid='044921978X', r_ui=6.0, est=7.135397835681454, details={'was_impossible': False}),\n",
       " Prediction(uid=189835, iid='1556562705', r_ui=5.0, est=5.219971119457248, details={'was_impossible': False}),\n",
       " Prediction(uid=134434, iid='8425214807', r_ui=7.0, est=6.989876581352848, details={'was_impossible': False}),\n",
       " Prediction(uid=158295, iid='0451176723', r_ui=7.0, est=6.736515560433147, details={'was_impossible': False}),\n",
       " Prediction(uid=168245, iid='0004701674', r_ui=7.0, est=7.679313640838074, details={'was_impossible': False}),\n",
       " Prediction(uid=246311, iid='0060081961', r_ui=8.0, est=8.665493518799913, details={'was_impossible': False}),\n",
       " Prediction(uid=156269, iid='051707396X', r_ui=8.0, est=7.629789399764917, details={'was_impossible': False}),\n",
       " Prediction(uid=23902, iid='0312981643', r_ui=5.0, est=7.057920529321636, details={'was_impossible': False}),\n",
       " Prediction(uid=52584, iid='0805421300', r_ui=7.0, est=7.164126137140352, details={'was_impossible': False}),\n",
       " Prediction(uid=251844, iid='078580921X', r_ui=10.0, est=8.012014208894907, details={'was_impossible': False}),\n",
       " Prediction(uid=6242, iid='1895411416', r_ui=7.0, est=6.146764914240376, details={'was_impossible': False}),\n",
       " Prediction(uid=182085, iid='0373031424', r_ui=9.0, est=8.78733895009005, details={'was_impossible': False}),\n",
       " Prediction(uid=56399, iid='0861300181', r_ui=10.0, est=9.741497810464256, details={'was_impossible': False}),\n",
       " Prediction(uid=189334, iid='0968727204', r_ui=9.0, est=9.266788264580489, details={'was_impossible': False}),\n",
       " Prediction(uid=87141, iid='0471125695', r_ui=8.0, est=7.744250869201464, details={'was_impossible': False}),\n",
       " Prediction(uid=105979, iid='0440214041', r_ui=5.0, est=6.390274096830357, details={'was_impossible': False}),\n",
       " Prediction(uid=235105, iid='0425186482', r_ui=9.0, est=7.985251514763896, details={'was_impossible': False}),\n",
       " Prediction(uid=156300, iid='0060281375', r_ui=10.0, est=9.772496407367724, details={'was_impossible': False}),\n",
       " Prediction(uid=43246, iid='0312305060', r_ui=7.0, est=8.043376354998768, details={'was_impossible': False}),\n",
       " Prediction(uid=11993, iid='0849905273', r_ui=10.0, est=8.631421217849217, details={'was_impossible': False}),\n",
       " Prediction(uid=204864, iid='0679893105', r_ui=9.0, est=8.888451683617431, details={'was_impossible': False}),\n",
       " Prediction(uid=81492, iid='0671522663', r_ui=5.0, est=7.4306514360918205, details={'was_impossible': False}),\n",
       " Prediction(uid=46398, iid='0385502532', r_ui=9.0, est=7.314300634938864, details={'was_impossible': False}),\n",
       " Prediction(uid=75591, iid='0679781277', r_ui=9.0, est=7.8858288971976735, details={'was_impossible': False}),\n",
       " Prediction(uid=11676, iid='076790351X', r_ui=5.0, est=6.301090310162592, details={'was_impossible': False}),\n",
       " Prediction(uid=133747, iid='0811828964', r_ui=6.0, est=7.112194026537006, details={'was_impossible': False}),\n",
       " Prediction(uid=248718, iid='0380893002', r_ui=7.0, est=7.104415193863244, details={'was_impossible': False}),\n",
       " Prediction(uid=268110, iid='1570621969', r_ui=6.0, est=6.704765411905598, details={'was_impossible': False}),\n",
       " Prediction(uid=86947, iid='0520044266', r_ui=10.0, est=9.847622189744621, details={'was_impossible': False}),\n",
       " Prediction(uid=25981, iid='039914613X', r_ui=5.0, est=5.487474725345035, details={'was_impossible': False}),\n",
       " Prediction(uid=52199, iid='0345378881', r_ui=10.0, est=9.160705789859914, details={'was_impossible': False}),\n",
       " Prediction(uid=187145, iid='0740726773', r_ui=9.0, est=8.289694767138606, details={'was_impossible': False}),\n",
       " Prediction(uid=182086, iid='0373440634', r_ui=10.0, est=9.978387937865206, details={'was_impossible': False}),\n",
       " Prediction(uid=56959, iid='0380715430', r_ui=10.0, est=9.77284861570396, details={'was_impossible': False}),\n",
       " Prediction(uid=56399, iid='0595209238', r_ui=10.0, est=9.689817166915367, details={'was_impossible': False}),\n",
       " Prediction(uid=214786, iid='0553253204', r_ui=8.0, est=8.805653902416296, details={'was_impossible': False}),\n",
       " Prediction(uid=225595, iid='0028621905', r_ui=10.0, est=9.349559980277704, details={'was_impossible': False}),\n",
       " Prediction(uid=125774, iid='0553350382', r_ui=9.0, est=8.419800857126274, details={'was_impossible': False}),\n",
       " Prediction(uid=101209, iid='0590422715', r_ui=9.0, est=7.384543843529396, details={'was_impossible': False}),\n",
       " Prediction(uid=249894, iid='0345354249', r_ui=9.0, est=7.620296143980447, details={'was_impossible': False}),\n",
       " Prediction(uid=265115, iid='0399231277', r_ui=9.0, est=8.217700461202625, details={'was_impossible': False}),\n",
       " Prediction(uid=128835, iid='074343627X', r_ui=9.0, est=8.7002499300112, details={'was_impossible': False}),\n",
       " Prediction(uid=11676, iid='0060952784', r_ui=8.0, est=7.0978246777085765, details={'was_impossible': False}),\n",
       " Prediction(uid=23872, iid='0300058675', r_ui=9.0, est=7.889092427113411, details={'was_impossible': False}),\n",
       " Prediction(uid=242409, iid='0892815396', r_ui=8.0, est=7.390314781409536, details={'was_impossible': False}),\n",
       " Prediction(uid=11676, iid='0333968158', r_ui=10.0, est=8.19148513313019, details={'was_impossible': False}),\n",
       " Prediction(uid=249894, iid='0803718977', r_ui=7.0, est=7.2959449572092865, details={'was_impossible': False}),\n",
       " Prediction(uid=30511, iid='0553348981', r_ui=6.0, est=7.220482672669273, details={'was_impossible': False}),\n",
       " Prediction(uid=4017, iid='0449911004', r_ui=8.0, est=8.698824624125754, details={'was_impossible': False}),\n",
       " Prediction(uid=182085, iid='0373031912', r_ui=5.0, est=8.350453164479319, details={'was_impossible': False}),\n",
       " Prediction(uid=163973, iid='0671516922', r_ui=5.0, est=7.13866676251088, details={'was_impossible': False}),\n",
       " Prediction(uid=78834, iid='0671525808', r_ui=10.0, est=9.022260976295591, details={'was_impossible': False}),\n",
       " Prediction(uid=163973, iid='0061093343', r_ui=9.0, est=7.393596841100436, details={'was_impossible': False}),\n",
       " Prediction(uid=95359, iid='0671798782', r_ui=6.0, est=7.676510427678583, details={'was_impossible': False}),\n",
       " Prediction(uid=143175, iid='0446612545', r_ui=9.0, est=7.145006603895412, details={'was_impossible': False}),\n",
       " Prediction(uid=6575, iid='1550171631', r_ui=6.0, est=7.095850022798124, details={'was_impossible': False}),\n",
       " Prediction(uid=189835, iid='0848803698', r_ui=5.0, est=5.242751210854134, details={'was_impossible': False}),\n",
       " Prediction(uid=35857, iid='0345443284', r_ui=8.0, est=6.986660263762431, details={'was_impossible': False}),\n",
       " Prediction(uid=30276, iid='037347170X', r_ui=7.0, est=7.079835195690997, details={'was_impossible': False}),\n",
       " Prediction(uid=199416, iid='0316152447', r_ui=7.0, est=6.601259642524944, details={'was_impossible': False}),\n",
       " Prediction(uid=268932, iid='0802066488', r_ui=7.0, est=6.626509106573084, details={'was_impossible': False}),\n",
       " Prediction(uid=158295, iid='0517064871', r_ui=5.0, est=6.365385269342009, details={'was_impossible': False}),\n",
       " Prediction(uid=120565, iid='0374281904', r_ui=9.0, est=8.803043863396509, details={'was_impossible': False}),\n",
       " Prediction(uid=98391, iid='0451411072', r_ui=10.0, est=9.089993029855817, details={'was_impossible': False}),\n",
       " Prediction(uid=11676, iid='0750918470', r_ui=7.0, est=6.579264360547143, details={'was_impossible': False}),\n",
       " Prediction(uid=189835, iid='0375757457', r_ui=5.0, est=5.189984944524454, details={'was_impossible': False}),\n",
       " Prediction(uid=23902, iid='1843830124', r_ui=8.0, est=7.598638558898703, details={'was_impossible': False}),\n",
       " Prediction(uid=212965, iid='0553569198', r_ui=10.0, est=7.2249180337322985, details={'was_impossible': False}),\n",
       " Prediction(uid=78553, iid='0671739794', r_ui=10.0, est=9.658623036719035, details={'was_impossible': False}),\n",
       " Prediction(uid=153662, iid='0373088191', r_ui=8.0, est=8.23796907123563, details={'was_impossible': False}),\n",
       " Prediction(uid=36554, iid='0965895408', r_ui=8.0, est=8.534675625352309, details={'was_impossible': False}),\n",
       " Prediction(uid=163804, iid='0345388771', r_ui=7.0, est=7.270601289436388, details={'was_impossible': False}),\n",
       " Prediction(uid=40889, iid='1558745017', r_ui=10.0, est=8.30651397916994, details={'was_impossible': False}),\n",
       " Prediction(uid=235105, iid='0312300611', r_ui=8.0, est=7.965512820444095, details={'was_impossible': False}),\n",
       " Prediction(uid=11676, iid='1551664372', r_ui=5.0, est=5.431308980172718, details={'was_impossible': False}),\n",
       " Prediction(uid=248718, iid='0449213218', r_ui=8.0, est=8.351990288896136, details={'was_impossible': False}),\n",
       " Prediction(uid=11676, iid='1894413040', r_ui=8.0, est=7.217239193789974, details={'was_impossible': False}),\n",
       " Prediction(uid=189835, iid='0375509046', r_ui=5.0, est=5.182325568304576, details={'was_impossible': False}),\n",
       " Prediction(uid=265313, iid='0812589556', r_ui=6.0, est=7.460174597985134, details={'was_impossible': False}),\n",
       " Prediction(uid=123883, iid='0811822184', r_ui=5.0, est=4.99585072498631, details={'was_impossible': False}),\n",
       " Prediction(uid=189835, iid='0395498635', r_ui=5.0, est=5.104545218256959, details={'was_impossible': False}),\n",
       " Prediction(uid=104636, iid='0394895894', r_ui=10.0, est=8.62956258845609, details={'was_impossible': False}),\n",
       " Prediction(uid=98391, iid='0892967935', r_ui=10.0, est=9.077527662257333, details={'was_impossible': False}),\n",
       " Prediction(uid=225232, iid='0192812831', r_ui=7.0, est=7.635373514750655, details={'was_impossible': False}),\n",
       " Prediction(uid=240144, iid='0966753453', r_ui=9.0, est=8.322461212999608, details={'was_impossible': False}),\n",
       " Prediction(uid=172742, iid='0440209803', r_ui=4.0, est=8.208058663687169, details={'was_impossible': False}),\n",
       " Prediction(uid=43246, iid='0380791978', r_ui=9.0, est=8.26401250364685, details={'was_impossible': False}),\n",
       " Prediction(uid=40889, iid='0671042467', r_ui=8.0, est=8.204541097315792, details={'was_impossible': False}),\n",
       " Prediction(uid=63714, iid='1569318131', r_ui=10.0, est=9.492053131387447, details={'was_impossible': False}),\n",
       " Prediction(uid=59172, iid='0060809248', r_ui=10.0, est=9.137140628187431, details={'was_impossible': False}),\n",
       " Prediction(uid=126736, iid='0439064872', r_ui=5.0, est=6.13522405875449, details={'was_impossible': False}),\n",
       " Prediction(uid=23902, iid='0723216428', r_ui=7.0, est=7.443484157977309, details={'was_impossible': False}),\n",
       " Prediction(uid=105979, iid='0804105278', r_ui=7.0, est=6.661437389134098, details={'was_impossible': False}),\n",
       " Prediction(uid=101851, iid='0198117477', r_ui=10.0, est=9.075411348739395, details={'was_impossible': False}),\n",
       " Prediction(uid=36299, iid='0877227632', r_ui=7.0, est=7.195564402484737, details={'was_impossible': False}),\n",
       " Prediction(uid=257204, iid='0886776406', r_ui=10.0, est=9.412739600697128, details={'was_impossible': False}),\n",
       " Prediction(uid=11676, iid='0345445694', r_ui=10.0, est=8.180687066632478, details={'was_impossible': False}),\n",
       " Prediction(uid=115003, iid='0658003860', r_ui=5.0, est=7.659850444617343, details={'was_impossible': False}),\n",
       " Prediction(uid=52614, iid='0373835876', r_ui=7.0, est=9.032304355186506, details={'was_impossible': False}),\n",
       " Prediction(uid=171118, iid='0345410211', r_ui=6.0, est=7.2369825387737485, details={'was_impossible': False}),\n",
       " Prediction(uid=189334, iid='0060148993', r_ui=9.0, est=9.206523349127373, details={'was_impossible': False}),\n",
       " Prediction(uid=177432, iid='0446353973', r_ui=8.0, est=7.802048241555628, details={'was_impossible': False}),\n",
       " Prediction(uid=11676, iid='0786708050', r_ui=8.0, est=7.171231393655558, details={'was_impossible': False}),\n",
       " Prediction(uid=11676, iid='0061087122', r_ui=8.0, est=7.326379101094672, details={'was_impossible': False}),\n",
       " Prediction(uid=187145, iid='0679723226', r_ui=9.0, est=8.344824996559785, details={'was_impossible': False}),\n",
       " Prediction(uid=81560, iid='0451452062', r_ui=9.0, est=7.786252465353897, details={'was_impossible': False}),\n",
       " Prediction(uid=235105, iid='0345452550', r_ui=9.0, est=8.15047812399122, details={'was_impossible': False}),\n",
       " Prediction(uid=83637, iid='0553578316', r_ui=8.0, est=7.4697800311798, details={'was_impossible': False}),\n",
       " Prediction(uid=232131, iid='0804106304', r_ui=8.0, est=7.3474823003350505, details={'was_impossible': False}),\n",
       " Prediction(uid=226965, iid='0060548282', r_ui=10.0, est=8.42902546551257, details={'was_impossible': False}),\n",
       " Prediction(uid=87555, iid='0618002243', r_ui=9.0, est=9.265873336828099, details={'was_impossible': False}),\n",
       " Prediction(uid=55490, iid='0446605484', r_ui=10.0, est=9.094233875677572, details={'was_impossible': False}),\n",
       " Prediction(uid=242083, iid='0375502327', r_ui=6.0, est=7.151390301247744, details={'was_impossible': False}),\n",
       " Prediction(uid=70415, iid='055356983X', r_ui=10.0, est=8.994685703258927, details={'was_impossible': False}),\n",
       " Prediction(uid=264321, iid='1551660717', r_ui=3.0, est=4.916095441615171, details={'was_impossible': False}),\n",
       " Prediction(uid=107784, iid='0821717634', r_ui=5.0, est=5.564729463633365, details={'was_impossible': False}),\n",
       " Prediction(uid=257204, iid='0671876155', r_ui=8.0, est=9.305223149909581, details={'was_impossible': False}),\n",
       " Prediction(uid=229011, iid='0743460529', r_ui=2.0, est=5.971953960441266, details={'was_impossible': False}),\n",
       " Prediction(uid=39281, iid='0824511476', r_ui=9.0, est=8.343362301499145, details={'was_impossible': False}),\n",
       " Prediction(uid=38023, iid='0449219631', r_ui=7.0, est=8.560648300464429, details={'was_impossible': False}),\n",
       " Prediction(uid=56399, iid='1862050767', r_ui=10.0, est=9.714639867452572, details={'was_impossible': False}),\n",
       " Prediction(uid=189139, iid='0345257596', r_ui=7.0, est=6.981906562847909, details={'was_impossible': False}),\n",
       " Prediction(uid=128835, iid='0805029648', r_ui=9.0, est=8.585229606842995, details={'was_impossible': False}),\n",
       " Prediction(uid=197659, iid='0671816381', r_ui=9.0, est=8.456723869757948, details={'was_impossible': False}),\n",
       " Prediction(uid=269566, iid='014050446X', r_ui=7.0, est=6.9145847468660016, details={'was_impossible': False}),\n",
       " Prediction(uid=183995, iid='0345409876', r_ui=5.0, est=7.802570997177523, details={'was_impossible': False}),\n",
       " Prediction(uid=177458, iid='0140196099', r_ui=7.0, est=7.205837331925789, details={'was_impossible': False}),\n",
       " Prediction(uid=153662, iid='030700144X', r_ui=9.0, est=8.326038964003752, details={'was_impossible': False}),\n",
       " Prediction(uid=88677, iid='0373711212', r_ui=5.0, est=7.071379614062411, details={'was_impossible': False}),\n",
       " Prediction(uid=11676, iid='0345423615', r_ui=4.0, est=6.993503492956881, details={'was_impossible': False}),\n",
       " Prediction(uid=218552, iid='0515124214', r_ui=8.0, est=5.509976830653176, details={'was_impossible': False}),\n",
       " Prediction(uid=225595, iid='0553104845', r_ui=10.0, est=9.36902630531606, details={'was_impossible': False}),\n",
       " Prediction(uid=136010, iid='1551667398', r_ui=6.0, est=7.3976390989431655, details={'was_impossible': False}),\n",
       " Prediction(uid=185233, iid='0440198577', r_ui=5.0, est=5.02175903856768, details={'was_impossible': False}),\n",
       " Prediction(uid=170513, iid='0439064872', r_ui=10.0, est=8.159969215156185, details={'was_impossible': False}),\n",
       " Prediction(uid=60707, iid='0439139597', r_ui=9.0, est=8.439571064272881, details={'was_impossible': False}),\n",
       " Prediction(uid=277427, iid='0446325503', r_ui=8.0, est=8.305686491143604, details={'was_impossible': False}),\n",
       " Prediction(uid=143415, iid='0804106304', r_ui=10.0, est=8.082921804566958, details={'was_impossible': False}),\n",
       " Prediction(uid=159506, iid='0312265840', r_ui=7.0, est=8.17748619198434, details={'was_impossible': False}),\n",
       " Prediction(uid=148199, iid='0743492056', r_ui=6.0, est=6.9498425471858845, details={'was_impossible': False}),\n",
       " Prediction(uid=254206, iid='0553580272', r_ui=10.0, est=9.789558417158299, details={'was_impossible': False}),\n",
       " Prediction(uid=38273, iid='0553274295', r_ui=10.0, est=9.777567768942287, details={'was_impossible': False}),\n",
       " Prediction(uid=254465, iid='006440188X', r_ui=10.0, est=10, details={'was_impossible': False}),\n",
       " Prediction(uid=38273, iid='059084766X', r_ui=5.0, est=6.4710547765633475, details={'was_impossible': False}),\n",
       " Prediction(uid=242006, iid='0373760000', r_ui=10.0, est=9.04089513065035, details={'was_impossible': False}),\n",
       " Prediction(uid=248718, iid='0764550039', r_ui=8.0, est=7.7199839651548015, details={'was_impossible': False}),\n",
       " Prediction(uid=97874, iid='0345434854', r_ui=9.0, est=7.85126947217027, details={'was_impossible': False}),\n",
       " Prediction(uid=95359, iid='0440986311', r_ui=10.0, est=7.6372276455586325, details={'was_impossible': False}),\n",
       " Prediction(uid=165758, iid='0451515382', r_ui=5.0, est=5.010787308352711, details={'was_impossible': False}),\n",
       " Prediction(uid=26583, iid='0802063187', r_ui=5.0, est=8.064635702858135, details={'was_impossible': False}),\n",
       " Prediction(uid=30511, iid='1573227331', r_ui=6.0, est=6.760275092571397, details={'was_impossible': False}),\n",
       " Prediction(uid=11676, iid='1588993736', r_ui=3.0, est=4.49874966703307, details={'was_impossible': False}),\n",
       " Prediction(uid=76499, iid='0394709411', r_ui=10.0, est=9.515365309557053, details={'was_impossible': False}),\n",
       " Prediction(uid=204864, iid='0380730405', r_ui=10.0, est=8.788508724624254, details={'was_impossible': False}),\n",
       " Prediction(uid=70415, iid='0446516317', r_ui=8.0, est=8.918022327402802, details={'was_impossible': False}),\n",
       " Prediction(uid=218608, iid='0802130844', r_ui=9.0, est=8.244012302634246, details={'was_impossible': False}),\n",
       " Prediction(uid=56399, iid='0719034981', r_ui=10.0, est=9.723375737608508, details={'was_impossible': False}),\n",
       " Prediction(uid=107784, iid='0816725616', r_ui=5.0, est=5.552463030590684, details={'was_impossible': False}),\n",
       " Prediction(uid=105028, iid='0451180232', r_ui=8.0, est=8.015685634914085, details={'was_impossible': False}),\n",
       " Prediction(uid=21014, iid='0375500510', r_ui=8.0, est=7.706329205218067, details={'was_impossible': False}),\n",
       " Prediction(uid=78973, iid='0785756442', r_ui=7.0, est=7.713019525125273, details={'was_impossible': False}),\n",
       " Prediction(uid=258185, iid='0553201743', r_ui=9.0, est=7.450387457471585, details={'was_impossible': False}),\n",
       " Prediction(uid=227250, iid='0373791011', r_ui=10.0, est=8.849729958857493, details={'was_impossible': False}),\n",
       " Prediction(uid=178522, iid='0525945040', r_ui=5.0, est=7.066333304552499, details={'was_impossible': False}),\n",
       " Prediction(uid=257204, iid='0425073718', r_ui=8.0, est=9.243203121735624, details={'was_impossible': False}),\n",
       " Prediction(uid=93629, iid='0770418333', r_ui=8.0, est=7.419185705860868, details={'was_impossible': False}),\n",
       " Prediction(uid=185233, iid='0307119122', r_ui=5.0, est=5.190464293357112, details={'was_impossible': False}),\n",
       " Prediction(uid=98391, iid='0786247088', r_ui=9.0, est=8.98650251705855, details={'was_impossible': False}),\n",
       " Prediction(uid=23872, iid='0385135025', r_ui=7.0, est=7.264960148951114, details={'was_impossible': False}),\n",
       " Prediction(uid=148199, iid='0201145197', r_ui=8.0, est=7.178520153370312, details={'was_impossible': False}),\n",
       " Prediction(uid=67840, iid='0515124206', r_ui=9.0, est=9.044094477179287, details={'was_impossible': False}),\n",
       " Prediction(uid=218552, iid='0671648969', r_ui=5.0, est=5.150510100904741, details={'was_impossible': False}),\n",
       " Prediction(uid=55490, iid='1852302364', r_ui=7.0, est=8.041297237814238, details={'was_impossible': False}),\n",
       " Prediction(uid=11676, iid='0553228668', r_ui=7.0, est=6.3119999667497435, details={'was_impossible': False}),\n",
       " Prediction(uid=11676, iid='044022103X', r_ui=8.0, est=7.2382172984701, details={'was_impossible': False}),\n",
       " Prediction(uid=229329, iid='0553268449', r_ui=10.0, est=9.084604534762073, details={'was_impossible': False}),\n",
       " Prediction(uid=153662, iid='0373201540', r_ui=7.0, est=7.983440207543622, details={'was_impossible': False}),\n",
       " Prediction(uid=81560, iid='0553575643', r_ui=8.0, est=7.699531521176991, details={'was_impossible': False}),\n",
       " Prediction(uid=156269, iid='0312304102', r_ui=7.0, est=7.721121459604568, details={'was_impossible': False}),\n",
       " Prediction(uid=109901, iid='0743211375', r_ui=10.0, est=8.281098266220589, details={'was_impossible': False}),\n",
       " Prediction(uid=23902, iid='0671042750', r_ui=5.0, est=7.034821818852707, details={'was_impossible': False}),\n",
       " Prediction(uid=109574, iid='0517527464', r_ui=5.0, est=8.323631030530276, details={'was_impossible': False}),\n",
       " Prediction(uid=88677, iid='0671500481', r_ui=7.0, est=7.365814046266141, details={'was_impossible': False}),\n",
       " Prediction(uid=88733, iid='0140274782', r_ui=7.0, est=8.888804133668415, details={'was_impossible': False}),\n",
       " Prediction(uid=217740, iid='843970206X', r_ui=7.0, est=6.288100643637602, details={'was_impossible': False}),\n",
       " Prediction(uid=56399, iid='0060541814', r_ui=10.0, est=9.612117874380843, details={'was_impossible': False}),\n",
       " Prediction(uid=56399, iid='0451200829', r_ui=10.0, est=9.796147743844696, details={'was_impossible': False}),\n",
       " Prediction(uid=7346, iid='0515060712', r_ui=9.0, est=7.771318069809676, details={'was_impossible': False}),\n",
       " Prediction(uid=87141, iid='0312253435', r_ui=8.0, est=7.77236883677477, details={'was_impossible': False}),\n",
       " Prediction(uid=235105, iid='0517573636', r_ui=10.0, est=8.498056600819746, details={'was_impossible': False}),\n",
       " Prediction(uid=189835, iid='0704344017', r_ui=5.0, est=5.225125215009606, details={'was_impossible': False}),\n",
       " Prediction(uid=229741, iid='0192817361', r_ui=8.0, est=7.6781408495398455, details={'was_impossible': False}),\n",
       " Prediction(uid=11676, iid='0330266454', r_ui=6.0, est=6.791033536534241, details={'was_impossible': False}),\n",
       " Prediction(uid=168245, iid='0671743821', r_ui=8.0, est=7.71966424044089, details={'was_impossible': False}),\n",
       " Prediction(uid=187517, iid='0373226357', r_ui=5.0, est=7.010614358916849, details={'was_impossible': False}),\n",
       " Prediction(uid=55490, iid='0895551969', r_ui=5.0, est=7.649755897242766, details={'was_impossible': False}),\n",
       " Prediction(uid=184532, iid='0140318909', r_ui=10.0, est=8.131571407937875, details={'was_impossible': False}),\n",
       " Prediction(uid=136139, iid='0345425537', r_ui=10.0, est=7.920559006779723, details={'was_impossible': False}),\n",
       " Prediction(uid=177458, iid='0553576380', r_ui=3.0, est=6.742447690648376, details={'was_impossible': False}),\n",
       " Prediction(uid=258534, iid='0373250290', r_ui=10.0, est=7.885901305175762, details={'was_impossible': False}),\n",
       " Prediction(uid=182085, iid='0373226012', r_ui=9.0, est=8.847478531354753, details={'was_impossible': False}),\n",
       " Prediction(uid=78973, iid='0345425324', r_ui=7.0, est=7.713580992966574, details={'was_impossible': False}),\n",
       " Prediction(uid=189334, iid='0911104674', r_ui=10.0, est=9.417505555077394, details={'was_impossible': False}),\n",
       " Prediction(uid=36299, iid='0425175111', r_ui=9.0, est=7.08375399867005, details={'was_impossible': False}),\n",
       " Prediction(uid=235282, iid='0029160030', r_ui=9.0, est=8.144846390146322, details={'was_impossible': False}),\n",
       " Prediction(uid=132836, iid='0316172847', r_ui=10.0, est=9.001116198946058, details={'was_impossible': False}),\n",
       " Prediction(uid=258534, iid='0425180638', r_ui=9.0, est=8.37645939702365, details={'was_impossible': False}),\n",
       " Prediction(uid=52199, iid='0345390792', r_ui=10.0, est=8.958299006662386, details={'was_impossible': False}),\n",
       " Prediction(uid=38023, iid='1570715165', r_ui=9.0, est=8.784427337380054, details={'was_impossible': False}),\n",
       " Prediction(uid=36606, iid='0060914165', r_ui=5.0, est=6.831477257871992, details={'was_impossible': False}),\n",
       " Prediction(uid=115003, iid='0192827618', r_ui=9.0, est=8.017493417256887, details={'was_impossible': False}),\n",
       " Prediction(uid=265889, iid='0380811081', r_ui=10.0, est=8.747383533961017, details={'was_impossible': False}),\n",
       " Prediction(uid=37644, iid='0156724006', r_ui=8.0, est=7.571205879564753, details={'was_impossible': False}),\n",
       " Prediction(uid=130571, iid='0451408683', r_ui=8.0, est=7.9181322751440275, details={'was_impossible': False}),\n",
       " Prediction(uid=4017, iid='0312186886', r_ui=8.0, est=9.030251701751629, details={'was_impossible': False}),\n",
       " Prediction(uid=127200, iid='080701222X', r_ui=7.0, est=6.562518364972921, details={'was_impossible': False}),\n",
       " Prediction(uid=197659, iid='0060256656', r_ui=10.0, est=9.314536975312343, details={'was_impossible': False}),\n",
       " Prediction(uid=196077, iid='0060928336', r_ui=7.0, est=7.742175368072829, details={'was_impossible': False}),\n",
       " Prediction(uid=235105, iid='0972165509', r_ui=9.0, est=8.102322878946431, details={'was_impossible': False}),\n",
       " Prediction(uid=87555, iid='0940208156', r_ui=6.0, est=7.972861291489917, details={'was_impossible': False}),\n",
       " Prediction(uid=129851, iid='0714840114', r_ui=8.0, est=7.485319217527773, details={'was_impossible': False}),\n",
       " Prediction(uid=8067, iid='0312284683', r_ui=10.0, est=8.987030178616374, details={'was_impossible': False}),\n",
       " Prediction(uid=11676, iid='2070363317', r_ui=8.0, est=7.104934084627103, details={'was_impossible': False}),\n",
       " Prediction(uid=158226, iid='0060932139', r_ui=9.0, est=7.441277348810897, details={'was_impossible': False}),\n",
       " Prediction(uid=35859, iid='0385121679', r_ui=10.0, est=8.173076795295774, details={'was_impossible': False}),\n",
       " Prediction(uid=31826, iid='067102423X', r_ui=10.0, est=9.93276550863484, details={'was_impossible': False}),\n",
       " Prediction(uid=164905, iid='0373031327', r_ui=6.0, est=6.274379325590386, details={'was_impossible': False}),\n",
       " Prediction(uid=68555, iid='0451176812', r_ui=5.0, est=6.6459896159891825, details={'was_impossible': False}),\n",
       " Prediction(uid=88677, iid='0821773267', r_ui=7.0, est=7.336874643753137, details={'was_impossible': False}),\n",
       " Prediction(uid=225763, iid='0673166244', r_ui=5.0, est=5.624099598709232, details={'was_impossible': False}),\n",
       " Prediction(uid=177432, iid='1587150492', r_ui=6.0, est=7.568952409002747, details={'was_impossible': False}),\n",
       " Prediction(uid=98758, iid='0451408756', r_ui=5.0, est=7.0159098355619385, details={'was_impossible': False}),\n",
       " Prediction(uid=98391, iid='0446530743', r_ui=9.0, est=8.790589652228864, details={'was_impossible': False}),\n",
       " Prediction(uid=278418, iid='0684835614', r_ui=8.0, est=6.103453329966735, details={'was_impossible': False}),\n",
       " Prediction(uid=16795, iid='0152020950', r_ui=5.0, est=6.569131379301202, details={'was_impossible': False}),\n",
       " Prediction(uid=52350, iid='0439139600', r_ui=9.0, est=9.534434881157523, details={'was_impossible': False}),\n",
       " Prediction(uid=217740, iid='0811214028', r_ui=7.0, est=6.330007250324256, details={'was_impossible': False}),\n",
       " Prediction(uid=36299, iid='0449222179', r_ui=8.0, est=7.290777348616379, details={'was_impossible': False}),\n",
       " Prediction(uid=162639, iid='0064400034', r_ui=10.0, est=8.709913222433192, details={'was_impossible': False}),\n",
       " Prediction(uid=153662, iid='0307204014', r_ui=9.0, est=8.239862308303724, details={'was_impossible': False}),\n",
       " Prediction(uid=11676, iid='0316782505', r_ui=8.0, est=7.836369960348416, details={'was_impossible': False}),\n",
       " Prediction(uid=28634, iid='0380715465', r_ui=8.0, est=8.15039860540156, details={'was_impossible': False}),\n",
       " Prediction(uid=197659, iid='0345313909', r_ui=9.0, est=8.402059517446498, details={'was_impossible': False}),\n",
       " Prediction(uid=102702, iid='0345423631', r_ui=10.0, est=9.616888950945086, details={'was_impossible': False}),\n",
       " Prediction(uid=11676, iid='0345385470', r_ui=10.0, est=8.247438593194271, details={'was_impossible': False}),\n",
       " Prediction(uid=88733, iid='0517150514', r_ui=9.0, est=8.884921774526301, details={'was_impossible': False}),\n",
       " Prediction(uid=109901, iid='0140258574', r_ui=10.0, est=8.812597472113639, details={'was_impossible': False}),\n",
       " Prediction(uid=209516, iid='0140431373', r_ui=10.0, est=9.124646400784878, details={'was_impossible': False}),\n",
       " Prediction(uid=56399, iid='0786711884', r_ui=10.0, est=9.743442897900927, details={'was_impossible': False}),\n",
       " Prediction(uid=15418, iid='0140390693', r_ui=10.0, est=7.951508740968298, details={'was_impossible': False}),\n",
       " Prediction(uid=95359, iid='1580628362', r_ui=8.0, est=7.663872651980168, details={'was_impossible': False}),\n",
       " Prediction(uid=35857, iid='014200023X', r_ui=8.0, est=7.611391681829407, details={'was_impossible': False}),\n",
       " Prediction(uid=11676, iid='0887308589', r_ui=8.0, est=7.08367723738917, details={'was_impossible': False}),\n",
       " Prediction(uid=197659, iid='0916489477', r_ui=8.0, est=8.393053117579562, details={'was_impossible': False}),\n",
       " Prediction(uid=143175, iid='0848716868', r_ui=7.0, est=7.4513185505080894, details={'was_impossible': False}),\n",
       " Prediction(uid=60244, iid='0688152449', r_ui=9.0, est=8.144984537285271, details={'was_impossible': False}),\n",
       " Prediction(uid=16795, iid='0140566724', r_ui=5.0, est=6.372319179300706, details={'was_impossible': False}),\n",
       " Prediction(uid=174304, iid='0345310020', r_ui=10.0, est=7.817814026772648, details={'was_impossible': False}),\n",
       " Prediction(uid=240144, iid='0679441239', r_ui=8.0, est=8.183383446153595, details={'was_impossible': False}),\n",
       " Prediction(uid=101851, iid='0517595338', r_ui=2.0, est=7.4074870929276, details={'was_impossible': False}),\n",
       " Prediction(uid=189973, iid='0440226430', r_ui=5.0, est=5.95687984507616, details={'was_impossible': False}),\n",
       " Prediction(uid=102702, iid='1551667592', r_ui=10.0, est=9.49845849415536, details={'was_impossible': False}),\n",
       " Prediction(uid=109901, iid='0743457358', r_ui=10.0, est=8.418504489716371, details={'was_impossible': False}),\n",
       " Prediction(uid=69078, iid='0152802177', r_ui=9.0, est=8.295773847518667, details={'was_impossible': False}),\n",
       " Prediction(uid=89602, iid='0435900439', r_ui=5.0, est=6.3967605427880265, details={'was_impossible': False}),\n",
       " Prediction(uid=162052, iid='0803716311', r_ui=9.0, est=8.214226380204805, details={'was_impossible': False}),\n",
       " Prediction(uid=197659, iid='0836217691', r_ui=9.0, est=9.360227826445163, details={'was_impossible': False}),\n",
       " Prediction(uid=105517, iid='1558743790', r_ui=7.0, est=6.693608308997706, details={'was_impossible': False}),\n",
       " Prediction(uid=11676, iid='0345378482', r_ui=7.0, est=6.642289653904972, details={'was_impossible': False}),\n",
       " Prediction(uid=11676, iid='0446364193', r_ui=8.0, est=7.0714841985789345, details={'was_impossible': False}),\n",
       " Prediction(uid=104636, iid='067100767X', r_ui=8.0, est=8.366586694140562, details={'was_impossible': False}),\n",
       " Prediction(uid=226965, iid='0064471101', r_ui=8.0, est=8.86050157272893, details={'was_impossible': False}),\n",
       " Prediction(uid=153662, iid='038076413X', r_ui=9.0, est=8.343532446874956, details={'was_impossible': False}),\n",
       " Prediction(uid=258185, iid='1551660350', r_ui=9.0, est=7.887327433454061, details={'was_impossible': False}),\n",
       " Prediction(uid=55187, iid='0671883895', r_ui=8.0, est=8.176723161289157, details={'was_impossible': False}),\n",
       " Prediction(uid=98391, iid='0553582542', r_ui=8.0, est=8.926001287501856, details={'was_impossible': False}),\n",
       " Prediction(uid=234359, iid='0373273266', r_ui=5.0, est=5.89521683298976, details={'was_impossible': False}),\n",
       " Prediction(uid=258185, iid='0060009241', r_ui=7.0, est=7.12814398800839, details={'was_impossible': False}),\n",
       " Prediction(uid=178522, iid='0684810395', r_ui=8.0, est=7.330731035739259, details={'was_impossible': False}),\n",
       " Prediction(uid=229741, iid='1573229326', r_ui=6.0, est=6.681235255404444, details={'was_impossible': False}),\n",
       " Prediction(uid=59172, iid='0786000325', r_ui=10.0, est=9.176681588295517, details={'was_impossible': False}),\n",
       " Prediction(uid=266056, iid='0439230209', r_ui=7.0, est=7.315296639889635, details={'was_impossible': False}),\n",
       " Prediction(uid=219683, iid='0374508968', r_ui=6.0, est=6.842443785814338, details={'was_impossible': False}),\n",
       " Prediction(uid=207782, iid='0375727132', r_ui=7.0, est=7.95519035137051, details={'was_impossible': False}),\n",
       " Prediction(uid=8245, iid='0553268880', r_ui=9.0, est=8.191354221312972, details={'was_impossible': False}),\n",
       " Prediction(uid=135149, iid='0446363251', r_ui=7.0, est=7.473624655796041, details={'was_impossible': False}),\n",
       " Prediction(uid=182086, iid='0380813165', r_ui=10.0, est=9.962210260165651, details={'was_impossible': False}),\n",
       " Prediction(uid=11676, iid='0877799059', r_ui=8.0, est=7.70612504672434, details={'was_impossible': False}),\n",
       " Prediction(uid=104636, iid='0312950489', r_ui=7.0, est=8.270515212649496, details={'was_impossible': False}),\n",
       " Prediction(uid=63714, iid='1855013150', r_ui=9.0, est=9.41381536997739, details={'was_impossible': False}),\n",
       " Prediction(uid=163761, iid='0373242964', r_ui=7.0, est=6.764778237108519, details={'was_impossible': False}),\n",
       " Prediction(uid=200226, iid='1578562937', r_ui=9.0, est=7.476058197540823, details={'was_impossible': False}),\n",
       " Prediction(uid=16795, iid='1565120299', r_ui=7.0, est=7.263588934693268, details={'was_impossible': False}),\n",
       " Prediction(uid=189334, iid='0312204345', r_ui=10.0, est=9.17460812619188, details={'was_impossible': False}),\n",
       " Prediction(uid=232131, iid='0061096113', r_ui=6.0, est=7.15720195538855, details={'was_impossible': False}),\n",
       " Prediction(uid=189835, iid='0375761292', r_ui=5.0, est=5.1963918190786735, details={'was_impossible': False}),\n",
       " Prediction(uid=225595, iid='0679734031', r_ui=10.0, est=9.363916655187968, details={'was_impossible': False}),\n",
       " Prediction(uid=79441, iid='0425056171', r_ui=7.0, est=7.599633273451096, details={'was_impossible': False}),\n",
       " Prediction(uid=249894, iid='157859135X', r_ui=7.0, est=7.3707868271763495, details={'was_impossible': False}),\n",
       " Prediction(uid=56399, iid='0140424385', r_ui=10.0, est=9.712317411756793, details={'was_impossible': False}),\n",
       " Prediction(uid=114368, iid='0758201346', r_ui=5.0, est=5.384640018964518, details={'was_impossible': False}),\n",
       " Prediction(uid=31826, iid='069620326X', r_ui=10.0, est=9.84050454001084, details={'was_impossible': False}),\n",
       " Prediction(uid=25981, iid='0373162200', r_ui=5.0, est=5.495010151445931, details={'was_impossible': False}),\n",
       " Prediction(uid=209516, iid='0670043001', r_ui=7.0, est=8.582026306245307, details={'was_impossible': False}),\n",
       " Prediction(uid=13850, iid='0517082454', r_ui=10.0, est=8.79325539649516, details={'was_impossible': False}),\n",
       " Prediction(uid=143415, iid='0380714981', r_ui=6.0, est=7.409924860129431, details={'was_impossible': False}),\n",
       " Prediction(uid=26535, iid='0449223221', r_ui=8.0, est=5.727449847474882, details={'was_impossible': False}),\n",
       " Prediction(uid=113270, iid='055356451X', r_ui=9.0, est=8.040883909513333, details={'was_impossible': False}),\n",
       " Prediction(uid=153662, iid='006024027X', r_ui=8.0, est=8.252773662296727, details={'was_impossible': False}),\n",
       " Prediction(uid=182085, iid='0373034954', r_ui=5.0, est=8.340774659480875, details={'was_impossible': False}),\n",
       " Prediction(uid=242006, iid='0843944463', r_ui=10.0, est=9.713310380894688, details={'was_impossible': False}),\n",
       " Prediction(uid=234359, iid='0373273185', r_ui=5.0, est=5.825193862761901, details={'was_impossible': False}),\n",
       " Prediction(uid=23902, iid='0723215650', r_ui=7.0, est=7.235010001512822, details={'was_impossible': False}),\n",
       " Prediction(uid=21014, iid='014200006X', r_ui=6.0, est=7.191303019934333, details={'was_impossible': False}),\n",
       " Prediction(uid=8681, iid='0425177424', r_ui=8.0, est=8.258381618599074, details={'was_impossible': False}),\n",
       " Prediction(uid=36606, iid='0786240717', r_ui=5.0, est=6.89328997483706, details={'was_impossible': False}),\n",
       " Prediction(uid=235105, iid='030681188X', r_ui=7.0, est=7.764582085470021, details={'was_impossible': False}),\n",
       " Prediction(uid=98758, iid='038097391X', r_ui=5.0, est=7.436031284972046, details={'was_impossible': False}),\n",
       " Prediction(uid=153662, iid='0821748351', r_ui=9.0, est=8.434100705205447, details={'was_impossible': False}),\n",
       " Prediction(uid=204864, iid='0380731142', r_ui=7.0, est=8.402098600665617, details={'was_impossible': False}),\n",
       " Prediction(uid=193560, iid='0007128576', r_ui=9.0, est=8.293307066202464, details={'was_impossible': False}),\n",
       " Prediction(uid=217106, iid='0801060044', r_ui=9.0, est=7.585554966082166, details={'was_impossible': False}),\n",
       " Prediction(uid=55490, iid='0943358078', r_ui=7.0, est=7.889457670711566, details={'was_impossible': False}),\n",
       " Prediction(uid=248718, iid='0345438310', r_ui=10.0, est=9.301679828185678, details={'was_impossible': False}),\n",
       " Prediction(uid=115003, iid='014044131X', r_ui=6.0, est=7.751512568297984, details={'was_impossible': False}),\n",
       " Prediction(uid=126492, iid='0451161351', r_ui=5.0, est=7.034486703796408, details={'was_impossible': False}),\n",
       " Prediction(uid=246311, iid='0671899481', r_ui=10.0, est=8.651737024124031, details={'was_impossible': False}),\n",
       " Prediction(uid=98391, iid='0373250320', r_ui=9.0, est=9.002112928621523, details={'was_impossible': False}),\n",
       " Prediction(uid=235105, iid='0970504942', r_ui=7.0, est=7.785098908279065, details={'was_impossible': False}),\n",
       " Prediction(uid=83637, iid='0440167477', r_ui=7.0, est=7.491204978665293, details={'was_impossible': False}),\n",
       " Prediction(uid=242006, iid='0821767372', r_ui=7.0, est=8.60020836414105, details={'was_impossible': False}),\n",
       " Prediction(uid=214786, iid='0425178102', r_ui=10.0, est=9.257633725923952, details={'was_impossible': False}),\n",
       " Prediction(uid=98391, iid='0786253487', r_ui=10.0, est=9.081136856061322, details={'was_impossible': False}),\n",
       " Prediction(uid=170634, iid='0140129928', r_ui=8.0, est=8.444778880910638, details={'was_impossible': False}),\n",
       " Prediction(uid=130554, iid='0448089394', r_ui=7.0, est=6.081692073868662, details={'was_impossible': False}),\n",
       " Prediction(uid=98391, iid='0821773674', r_ui=8.0, est=8.880576727888776, details={'was_impossible': False}),\n",
       " Prediction(uid=268110, iid='031227307X', r_ui=2.0, est=6.423032152471358, details={'was_impossible': False}),\n",
       " Prediction(uid=132836, iid='0679722181', r_ui=10.0, est=8.613034490511415, details={'was_impossible': False}),\n",
       " Prediction(uid=52917, iid='0445408510', r_ui=5.0, est=6.5374994359675735, details={'was_impossible': False}),\n",
       " Prediction(uid=216012, iid='0515136530', r_ui=7.0, est=7.7378177439816005, details={'was_impossible': False}),\n",
       " Prediction(uid=110483, iid='0886775779', r_ui=9.0, est=8.748679622439738, details={'was_impossible': False}),\n",
       " Prediction(uid=23902, iid='0486264718', r_ui=10.0, est=7.2331781512332665, details={'was_impossible': False}),\n",
       " Prediction(uid=189334, iid='0886450691', r_ui=8.0, est=9.162754575412084, details={'was_impossible': False}),\n",
       " Prediction(uid=258152, iid='0345413350', r_ui=7.0, est=7.534106147976099, details={'was_impossible': False}),\n",
       " Prediction(uid=98391, iid='1890768472', r_ui=9.0, est=8.954236447706855, details={'was_impossible': False}),\n",
       " Prediction(uid=11676, iid='060980619X', r_ui=8.0, est=7.0835068737380995, details={'was_impossible': False}),\n",
       " Prediction(uid=235282, iid='0156029073', r_ui=10.0, est=8.125033743868281, details={'was_impossible': False}),\n",
       " Prediction(uid=52917, iid='0449219461', r_ui=7.0, est=6.954277514111065, details={'was_impossible': False}),\n",
       " Prediction(uid=135265, iid='0312965990', r_ui=9.0, est=7.7055095942929634, details={'was_impossible': False}),\n",
       " Prediction(uid=39281, iid='0061097861', r_ui=10.0, est=8.854490067865378, details={'was_impossible': False}),\n",
       " Prediction(uid=104636, iid='0140349057', r_ui=8.0, est=8.37092931407095, details={'was_impossible': False}),\n",
       " Prediction(uid=163973, iid='051510843X', r_ui=6.0, est=7.0800287867549, details={'was_impossible': False}),\n",
       " Prediction(uid=98391, iid='0312265786', r_ui=9.0, est=8.965106581387335, details={'was_impossible': False}),\n",
       " Prediction(uid=229551, iid='0525946764', r_ui=4.0, est=6.127280625082119, details={'was_impossible': False}),\n",
       " Prediction(uid=11676, iid='0517595745', r_ui=7.0, est=6.836372707410745, details={'was_impossible': False}),\n",
       " Prediction(uid=240403, iid='0786807083', r_ui=9.0, est=7.7158075963489035, details={'was_impossible': False}),\n",
       " Prediction(uid=102647, iid='0446310786', r_ui=4.0, est=8.444937935142836, details={'was_impossible': False}),\n",
       " Prediction(uid=264321, iid='0373441223', r_ui=2.0, est=4.791732218541208, details={'was_impossible': False}),\n",
       " Prediction(uid=51883, iid='0373029829', r_ui=10.0, est=9.024769570011154, details={'was_impossible': False}),\n",
       " Prediction(uid=158226, iid='0333989155', r_ui=8.0, est=7.485619230686796, details={'was_impossible': False}),\n",
       " Prediction(uid=248718, iid='0886771854', r_ui=5.0, est=6.256669740767151, details={'was_impossible': False}),\n",
       " Prediction(uid=129074, iid='0671464140', r_ui=8.0, est=7.780645613172008, details={'was_impossible': False}),\n",
       " Prediction(uid=112001, iid='0373201346', r_ui=10.0, est=9.666185244251379, details={'was_impossible': False}),\n",
       " Prediction(uid=227520, iid='0399146164', r_ui=9.0, est=8.129583192417359, details={'was_impossible': False}),\n",
       " Prediction(uid=8067, iid='0505525038', r_ui=10.0, est=9.319979648224038, details={'was_impossible': False}),\n",
       " Prediction(uid=153662, iid='0688056156', r_ui=10.0, est=8.521327149121488, details={'was_impossible': False}),\n",
       " Prediction(uid=252820, iid='0451187423', r_ui=5.0, est=6.13262403923775, details={'was_impossible': False}),\n",
       " Prediction(uid=55490, iid='0446671398', r_ui=7.0, est=8.298937718339037, details={'was_impossible': False}),\n",
       " Prediction(uid=36836, iid='1586607359', r_ui=8.0, est=8.647960546021036, details={'was_impossible': False}),\n",
       " Prediction(uid=244627, iid='0312977409', r_ui=8.0, est=8.610565766046427, details={'was_impossible': False}),\n",
       " Prediction(uid=135149, iid='0449213188', r_ui=7.0, est=7.530446289827228, details={'was_impossible': False}),\n",
       " Prediction(uid=78553, iid='0345278372', r_ui=10.0, est=9.615721770700162, details={'was_impossible': False}),\n",
       " Prediction(uid=11676, iid='0425176932', r_ui=5.0, est=5.8100420719543004, details={'was_impossible': False}),\n",
       " Prediction(uid=148199, iid='0889622302', r_ui=8.0, est=7.180297661662315, details={'was_impossible': False}),\n",
       " Prediction(uid=98391, iid='0756401283', r_ui=9.0, est=8.97011818231608, details={'was_impossible': False}),\n",
       " Prediction(uid=93363, iid='1556610785', r_ui=7.0, est=7.823319044121484, details={'was_impossible': False}),\n",
       " Prediction(uid=100906, iid='0300072279', r_ui=8.0, est=8.111947870728729, details={'was_impossible': False}),\n",
       " Prediction(uid=148199, iid='0879513519', r_ui=5.0, est=6.874386779144116, details={'was_impossible': False}),\n",
       " Prediction(uid=23902, iid='0340549157', r_ui=6.0, est=7.156970486517645, details={'was_impossible': False}),\n",
       " Prediction(uid=235105, iid='0312303521', r_ui=7.0, est=7.951976037752632, details={'was_impossible': False}),\n",
       " Prediction(uid=158295, iid='0060177632', r_ui=7.0, est=6.559991813852568, details={'was_impossible': False}),\n",
       " Prediction(uid=78973, iid='2258035732', r_ui=6.0, est=7.6316116320870435, details={'was_impossible': False}),\n",
       " Prediction(uid=96448, iid='0064440419', r_ui=8.0, est=6.4702125797362795, details={'was_impossible': False}),\n",
       " Prediction(uid=98391, iid='0399148418', r_ui=9.0, est=9.02808877343684, details={'was_impossible': False}),\n",
       " Prediction(uid=19085, iid='0380716127', r_ui=7.0, est=8.055695951452345, details={'was_impossible': False}),\n",
       " Prediction(uid=98391, iid='1594140731', r_ui=8.0, est=8.924098900180024, details={'was_impossible': False}),\n",
       " Prediction(uid=56399, iid='1861630360', r_ui=10.0, est=9.722088859273326, details={'was_impossible': False}),\n",
       " Prediction(uid=110934, iid='0451525442', r_ui=8.0, est=8.035633887090588, details={'was_impossible': False}),\n",
       " Prediction(uid=261105, iid='0809232634', r_ui=10.0, est=8.168373038694895, details={'was_impossible': False}),\n",
       " Prediction(uid=88733, iid='0553051822', r_ui=9.0, est=8.89965338751384, details={'was_impossible': False}),\n",
       " Prediction(uid=15408, iid='0684803798', r_ui=9.0, est=7.921708836529066, details={'was_impossible': False}),\n",
       " Prediction(uid=104636, iid='0440176484', r_ui=10.0, est=7.949522274874778, details={'was_impossible': False}),\n",
       " Prediction(uid=36836, iid='0920852130', r_ui=10.0, est=8.944849978745273, details={'was_impossible': False}),\n",
       " Prediction(uid=11676, iid='3442423724', r_ui=4.0, est=5.925807548777513, details={'was_impossible': False}),\n",
       " Prediction(uid=235935, iid='0373191588', r_ui=6.0, est=8.104050296093584, details={'was_impossible': False}),\n",
       " Prediction(uid=153662, iid='0688088376', r_ui=8.0, est=8.353167356530198, details={'was_impossible': False}),\n",
       " Prediction(uid=189139, iid='0886772540', r_ui=7.0, est=7.280775278300599, details={'was_impossible': False}),\n",
       " Prediction(uid=128835, iid='0060168005', r_ui=9.0, est=8.529519291167293, details={'was_impossible': False}),\n",
       " Prediction(uid=93047, iid='1557732302', r_ui=7.0, est=7.448917603838468, details={'was_impossible': False}),\n",
       " Prediction(uid=23902, iid='0140042598', r_ui=10.0, est=7.918921142825143, details={'was_impossible': False}),\n",
       " Prediction(uid=51883, iid='0812548132', r_ui=6.0, est=8.491784687323019, details={'was_impossible': False}),\n",
       " Prediction(uid=105517, iid='0553213148', r_ui=6.0, est=7.028981643819301, details={'was_impossible': False}),\n",
       " Prediction(uid=98391, iid='0312305060', r_ui=8.0, est=8.675030026876957, details={'was_impossible': False}),\n",
       " Prediction(uid=98391, iid='0786866039', r_ui=9.0, est=9.100205695497412, details={'was_impossible': False}),\n",
       " Prediction(uid=55492, iid='0441328091', r_ui=7.0, est=7.954907061459358, details={'was_impossible': False}),\n",
       " Prediction(uid=52199, iid='0375401598', r_ui=9.0, est=8.449169327791791, details={'was_impossible': False}),\n",
       " Prediction(uid=28634, iid='0312964005', r_ui=7.0, est=8.202168448021087, details={'was_impossible': False}),\n",
       " Prediction(uid=270713, iid='0972034412', r_ui=7.0, est=7.831790915016044, details={'was_impossible': False}),\n",
       " Prediction(uid=11676, iid='0380704498', r_ui=7.0, est=7.270663480301642, details={'was_impossible': False}),\n",
       " Prediction(uid=249894, iid='0811727505', r_ui=7.0, est=7.362539013918749, details={'was_impossible': False}),\n",
       " Prediction(uid=235282, iid='0446600768', r_ui=8.0, est=7.8637994614012285, details={'was_impossible': False}),\n",
       " Prediction(uid=35859, iid='059046602X', r_ui=9.0, est=8.143714831586415, details={'was_impossible': False}),\n",
       " Prediction(uid=219546, iid='0671874527', r_ui=8.0, est=7.603817046146164, details={'was_impossible': False}),\n",
       " Prediction(uid=35859, iid='0590120107', r_ui=8.0, est=7.441449936303646, details={'was_impossible': False}),\n",
       " Prediction(uid=98391, iid='0553802585', r_ui=9.0, est=8.95184740770433, details={'was_impossible': False}),\n",
       " Prediction(uid=265889, iid='0505525836', r_ui=9.0, est=8.420972454594018, details={'was_impossible': False}),\n",
       " Prediction(uid=183958, iid='0868065153', r_ui=8.0, est=8.117726386443985, details={'was_impossible': False}),\n",
       " Prediction(uid=212965, iid='0821762567', r_ui=6.0, est=6.7454838265724275, details={'was_impossible': False}),\n",
       " Prediction(uid=98391, iid='0765300206', r_ui=9.0, est=9.002719892769683, details={'was_impossible': False}),\n",
       " Prediction(uid=23902, iid='1850576769', r_ui=8.0, est=7.557920337946147, details={'was_impossible': False}),\n",
       " Prediction(uid=248718, iid='0451206002', r_ui=6.0, est=6.453413500961782, details={'was_impossible': False}),\n",
       " Prediction(uid=153662, iid='0316899984', r_ui=5.0, est=7.566560028235547, details={'was_impossible': False}),\n",
       " Prediction(uid=23872, iid='0070561362', r_ui=5.0, est=6.667443457751219, details={'was_impossible': False}),\n",
       " Prediction(uid=4017, iid='068484270X', r_ui=10.0, est=9.064565314717628, details={'was_impossible': False}),\n",
       " Prediction(uid=257204, iid='051511605X', r_ui=9.0, est=9.30901926048682, details={'was_impossible': False}),\n",
       " Prediction(uid=98391, iid='0765302020', r_ui=8.0, est=8.841595840941979, details={'was_impossible': False}),\n",
       " Prediction(uid=249894, iid='044121603X', r_ui=8.0, est=7.497531382691129, details={'was_impossible': False}),\n",
       " Prediction(uid=227520, iid='0028638395', r_ui=10.0, est=8.499983827234296, details={'was_impossible': False}),\n",
       " Prediction(uid=234828, iid='0440984459', r_ui=10.0, est=7.980523053995827, details={'was_impossible': False}),\n",
       " Prediction(uid=227250, iid='0373272960', r_ui=8.0, est=8.794641331727258, details={'was_impossible': False}),\n",
       " Prediction(uid=110912, iid='0553572040', r_ui=8.0, est=8.735393439612887, details={'was_impossible': False}),\n",
       " Prediction(uid=153662, iid='0764228722', r_ui=9.0, est=8.287447004530375, details={'was_impossible': False}),\n",
       " Prediction(uid=11676, iid='0670894605', r_ui=10.0, est=8.371542891551101, details={'was_impossible': False}),\n",
       " Prediction(uid=92652, iid='1894294432', r_ui=10.0, est=6.5282209196245065, details={'was_impossible': False}),\n",
       " Prediction(uid=244685, iid='0425142485', r_ui=8.0, est=7.721209428188212, details={'was_impossible': False}),\n",
       " Prediction(uid=52584, iid='0385499825', r_ui=10.0, est=7.533347577568829, details={'was_impossible': False}),\n",
       " Prediction(uid=168245, iid='0969069561', r_ui=7.0, est=7.6588943650754935, details={'was_impossible': False}),\n",
       " Prediction(uid=52917, iid='0743203178', r_ui=8.0, est=6.5321034182177256, details={'was_impossible': False}),\n",
       " Prediction(uid=107951, iid='0670833894', r_ui=8.0, est=7.889225182684759, details={'was_impossible': False}),\n",
       " Prediction(uid=248718, iid='0671707728', r_ui=8.0, est=7.819112802989956, details={'was_impossible': False}),\n",
       " Prediction(uid=30276, iid='0373483503', r_ui=7.0, est=7.690512141000646, details={'was_impossible': False}),\n",
       " Prediction(uid=7346, iid='0553240838', r_ui=10.0, est=7.879261248395295, details={'was_impossible': False}),\n",
       " Prediction(uid=158226, iid='1401201172', r_ui=9.0, est=7.5915479725107105, details={'was_impossible': False}),\n",
       " Prediction(uid=156269, iid='038072362X', r_ui=8.0, est=7.7218664884956185, details={'was_impossible': False}),\n",
       " Prediction(uid=182993, iid='0385323697', r_ui=10.0, est=8.864116788782736, details={'was_impossible': False}),\n",
       " Prediction(uid=25601, iid='055358295X', r_ui=8.0, est=8.675274839006148, details={'was_impossible': False}),\n",
       " Prediction(uid=156269, iid='006100345X', r_ui=8.0, est=7.7283504705437895, details={'was_impossible': False}),\n",
       " Prediction(uid=2110, iid='0373765649', r_ui=8.0, est=8.31798124492287, details={'was_impossible': False}),\n",
       " Prediction(uid=235105, iid='0380707616', r_ui=7.0, est=7.735386663815425, details={'was_impossible': False}),\n",
       " Prediction(uid=162639, iid='0671007726', r_ui=6.0, est=8.022090918097335, details={'was_impossible': False}),\n",
       " Prediction(uid=98391, iid='0515132756', r_ui=8.0, est=8.88684466949279, details={'was_impossible': False}),\n",
       " Prediction(uid=23872, iid='0821747983', r_ui=5.0, est=5.925740031840734, details={'was_impossible': False}),\n",
       " Prediction(uid=174304, iid='006102001X', r_ui=8.0, est=7.380855559769348, details={'was_impossible': False}),\n",
       " Prediction(uid=93047, iid='0060188065', r_ui=7.0, est=7.415616847586283, details={'was_impossible': False}),\n",
       " Prediction(uid=172742, iid='0140122478', r_ui=9.0, est=8.64317065490806, details={'was_impossible': False}),\n",
       " Prediction(uid=38273, iid='0840776381', r_ui=5.0, est=7.2329329954013435, details={'was_impossible': False}),\n",
       " Prediction(uid=171118, iid='0920236162', r_ui=9.0, est=7.508941130764119, details={'was_impossible': False}),\n",
       " Prediction(uid=76499, iid='0140439269', r_ui=10.0, est=9.434549120769173, details={'was_impossible': False}),\n",
       " Prediction(uid=266226, iid='0446380792', r_ui=7.0, est=7.978106405843821, details={'was_impossible': False}),\n",
       " Prediction(uid=231210, iid='0553210599', r_ui=9.0, est=8.087626977394311, details={'was_impossible': False}),\n",
       " Prediction(uid=56399, iid='0061057754', r_ui=10.0, est=9.660479322889675, details={'was_impossible': False}),\n",
       " Prediction(uid=2276, iid='0679504885', r_ui=8.0, est=8.333721306325472, details={'was_impossible': False}),\n",
       " Prediction(uid=89602, iid='0804816255', r_ui=7.0, est=6.660184591085458, details={'was_impossible': False}),\n",
       " Prediction(uid=249894, iid='0671876813', r_ui=9.0, est=7.547423203980972, details={'was_impossible': False}),\n",
       " Prediction(uid=94242, iid='0689815816', r_ui=10.0, est=7.909977652683034, details={'was_impossible': False}),\n",
       " Prediction(uid=235105, iid='0446606804', r_ui=8.0, est=7.969580025630577, details={'was_impossible': False}),\n",
       " Prediction(uid=98391, iid='0843948760', r_ui=9.0, est=8.944028459185345, details={'was_impossible': False}),\n",
       " Prediction(uid=187256, iid='034541389X', r_ui=10.0, est=8.737001570462516, details={'was_impossible': False}),\n",
       " Prediction(uid=23902, iid='0140468552', r_ui=7.0, est=7.352583957605575, details={'was_impossible': False}),\n",
       " Prediction(uid=88693, iid='0375726403', r_ui=8.0, est=8.024713313973804, details={'was_impossible': False}),\n",
       " Prediction(uid=13850, iid='0312132638', r_ui=8.0, est=8.619391722798586, details={'was_impossible': False}),\n",
       " Prediction(uid=107951, iid='0395680921', r_ui=9.0, est=7.934047732687415, details={'was_impossible': False}),\n",
       " Prediction(uid=36836, iid='0070022720', r_ui=8.0, est=8.748017974827633, details={'was_impossible': False}),\n",
       " Prediction(uid=235105, iid='0671870920', r_ui=8.0, est=8.05028797115015, details={'was_impossible': False}),\n",
       " Prediction(uid=177432, iid='0060582553', r_ui=7.0, est=7.475587660677836, details={'was_impossible': False}),\n",
       " Prediction(uid=25981, iid='0446516325', r_ui=5.0, est=5.565229113623947, details={'was_impossible': False}),\n",
       " Prediction(uid=98391, iid='031232135X', r_ui=9.0, est=8.998468107973295, details={'was_impossible': False}),\n",
       " Prediction(uid=6575, iid='0312252803', r_ui=7.0, est=7.034208432589093, details={'was_impossible': False}),\n",
       " Prediction(uid=129716, iid='0399141146', r_ui=10.0, est=9.447556352961055, details={'was_impossible': False}),\n",
       " Prediction(uid=11676, iid='8845908143', r_ui=2.0, est=4.646168863964957, details={'was_impossible': False}),\n",
       " Prediction(uid=87555, iid='0821226010', r_ui=8.0, est=8.297654443624134, details={'was_impossible': False}),\n",
       " Prediction(uid=223087, iid='0375760911', r_ui=3.0, est=5.597703166857504, details={'was_impossible': False}),\n",
       " Prediction(uid=93047, iid='0553109588', r_ui=7.0, est=7.7164434763537075, details={'was_impossible': False}),\n",
       " Prediction(uid=162052, iid='1584852038', r_ui=5.0, est=7.839361799541917, details={'was_impossible': False}),\n",
       " Prediction(uid=70666, iid='0671729349', r_ui=5.0, est=6.598130755290047, details={'was_impossible': False}),\n",
       " Prediction(uid=23768, iid='0394800206', r_ui=7.0, est=8.15558903681438, details={'was_impossible': False}),\n",
       " Prediction(uid=193458, iid='155110153X', r_ui=6.0, est=7.336859121442964, details={'was_impossible': False}),\n",
       " Prediction(uid=11676, iid='0380793261', r_ui=4.0, est=5.1873171446300335, details={'was_impossible': False}),\n",
       " Prediction(uid=13850, iid='0316779032', r_ui=8.0, est=8.733856244919853, details={'was_impossible': False}),\n",
       " Prediction(uid=98391, iid='0440237033', r_ui=9.0, est=8.976511416742447, details={'was_impossible': False}),\n",
       " Prediction(uid=101851, iid='0789459663', r_ui=5.0, est=8.19098402835203, details={'was_impossible': False}),\n",
       " Prediction(uid=56959, iid='067125376X', r_ui=10.0, est=9.56669670708459, details={'was_impossible': False}),\n",
       " Prediction(uid=153662, iid='0440945151', r_ui=9.0, est=8.36348937063413, details={'was_impossible': False}),\n",
       " Prediction(uid=158295, iid='067101420X', r_ui=5.0, est=6.357172501492716, details={'was_impossible': False}),\n",
       " Prediction(uid=11676, iid='0385310161', r_ui=8.0, est=7.106960933108207, details={'was_impossible': False}),\n",
       " Prediction(uid=35859, iid='014027684X', r_ui=7.0, est=7.47917145901074, details={'was_impossible': False}),\n",
       " Prediction(uid=113270, iid='0743464451', r_ui=10.0, est=8.088582341684852, details={'was_impossible': False}),\n",
       " Prediction(uid=135265, iid='0380756285', r_ui=9.0, est=7.432903125916561, details={'was_impossible': False}),\n",
       " Prediction(uid=219546, iid='0590407252', r_ui=7.0, est=7.165033259284454, details={'was_impossible': False}),\n",
       " Prediction(uid=232131, iid='0385262213', r_ui=10.0, est=7.511231400848597, details={'was_impossible': False}),\n",
       " Prediction(uid=135149, iid='0697042723', r_ui=9.0, est=7.734994988176818, details={'was_impossible': False}),\n",
       " Prediction(uid=226965, iid='0689121563', r_ui=5.0, est=7.950665593408422, details={'was_impossible': False}),\n",
       " Prediction(uid=242006, iid='0373105649', r_ui=9.0, est=8.887884055365285, details={'was_impossible': False}),\n",
       " Prediction(uid=234828, iid='0767917359', r_ui=7.0, est=7.673247552219088, details={'was_impossible': False}),\n",
       " Prediction(uid=143175, iid='0451182006', r_ui=9.0, est=7.464589205498516, details={'was_impossible': False}),\n",
       " Prediction(uid=11676, iid='0515116246', r_ui=8.0, est=6.9440288131577255, details={'was_impossible': False}),\n",
       " Prediction(uid=230522, iid='0881068942', r_ui=10.0, est=8.519523593898576, details={'was_impossible': False}),\n",
       " Prediction(uid=25981, iid='1551667959', r_ui=5.0, est=5.529756298974624, details={'was_impossible': False}),\n",
       " Prediction(uid=127200, iid='0887309100', r_ui=7.0, est=6.9303312585904315, details={'was_impossible': False}),\n",
       " Prediction(uid=200226, iid='0072226633', r_ui=5.0, est=7.093738607811359, details={'was_impossible': False}),\n",
       " Prediction(uid=200226, iid='1843330202', r_ui=8.0, est=7.347015820335739, details={'was_impossible': False}),\n",
       " Prediction(uid=11676, iid='0449006530', r_ui=7.0, est=5.985969117147408, details={'was_impossible': False}),\n",
       " Prediction(uid=257204, iid='0345318862', r_ui=10.0, est=9.479003333872065, details={'was_impossible': False}),\n",
       " Prediction(uid=170513, iid='0452281172', r_ui=8.0, est=7.393121241003916, details={'was_impossible': False}),\n",
       " Prediction(uid=69389, iid='0842342974', r_ui=6.0, est=7.174389183206056, details={'was_impossible': False}),\n",
       " Prediction(uid=114988, iid='0062502182', r_ui=7.0, est=7.423537675865215, details={'was_impossible': False}),\n",
       " Prediction(uid=95359, iid='0064406326', r_ui=7.0, est=7.127588804084921, details={'was_impossible': False}),\n",
       " Prediction(uid=23768, iid='0670865796', r_ui=5.0, est=8.10991296682129, details={'was_impossible': False}),\n",
       " Prediction(uid=189334, iid='0806948728', r_ui=10.0, est=9.333441093536827, details={'was_impossible': False}),\n",
       " Prediction(uid=6575, iid='156833186X', r_ui=5.0, est=6.921270707274924, details={'was_impossible': False}),\n",
       " Prediction(uid=23902, iid='033026012X', r_ui=9.0, est=7.511823196317254, details={'was_impossible': False}),\n",
       " Prediction(uid=240144, iid='0553575260', r_ui=10.0, est=8.564113613725405, details={'was_impossible': False}),\n",
       " Prediction(uid=11676, iid='2213009449', r_ui=10.0, est=7.908783576147885, details={'was_impossible': False}),\n",
       " Prediction(uid=123094, iid='0671447483', r_ui=9.0, est=8.73914055921851, details={'was_impossible': False}),\n",
       " Prediction(uid=30276, iid='0517010046', r_ui=7.0, est=7.142594945922748, details={'was_impossible': False}),\n",
       " Prediction(uid=275970, iid='002054720X', r_ui=10.0, est=8.523639723100635, details={'was_impossible': False}),\n",
       " Prediction(uid=59172, iid='0316603287', r_ui=10.0, est=7.973515499273531, details={'was_impossible': False}),\n",
       " Prediction(uid=197659, iid='0895772167', r_ui=8.0, est=8.38945768015213, details={'was_impossible': False}),\n",
       " Prediction(uid=70666, iid='0451162072', r_ui=8.0, est=6.934338386977556, details={'was_impossible': False}),\n",
       " Prediction(uid=28591, iid='0449002071', r_ui=10.0, est=8.026328909893339, details={'was_impossible': False}),\n",
       " Prediction(uid=37950, iid='0517189585', r_ui=8.0, est=7.446398183969006, details={'was_impossible': False}),\n",
       " Prediction(uid=207782, iid='0886771404', r_ui=8.0, est=7.943615599028177, details={'was_impossible': False}),\n",
       " Prediction(uid=185233, iid='0884700135', r_ui=5.0, est=5.160100614662472, details={'was_impossible': False}),\n",
       " Prediction(uid=93047, iid='0312156596', r_ui=7.0, est=7.460368152030713, details={'was_impossible': False}),\n",
       " Prediction(uid=136139, iid='0312291639', r_ui=8.0, est=7.895063058755033, details={'was_impossible': False}),\n",
       " Prediction(uid=268300, iid='0670032573', r_ui=10.0, est=8.629516457276578, details={'was_impossible': False}),\n",
       " Prediction(uid=76499, iid='0140444955', r_ui=10.0, est=9.425684513585686, details={'was_impossible': False}),\n",
       " Prediction(uid=200226, iid='0312244266', r_ui=7.0, est=7.490152351294881, details={'was_impossible': False}),\n",
       " Prediction(uid=153662, iid='0312960522', r_ui=9.0, est=8.216100181201476, details={'was_impossible': False}),\n",
       " Prediction(uid=98391, iid='1591051266', r_ui=9.0, est=8.999965753552999, details={'was_impossible': False}),\n",
       " Prediction(uid=55490, iid='0875425755', r_ui=6.0, est=7.760517392875458, details={'was_impossible': False}),\n",
       " Prediction(uid=171118, iid='0836218213', r_ui=8.0, est=7.409278754639559, details={'was_impossible': False}),\n",
       " Prediction(uid=171118, iid='0345281969', r_ui=8.0, est=7.4439518546986125, details={'was_impossible': False}),\n",
       " Prediction(uid=129074, iid='0671738275', r_ui=8.0, est=7.733486448434668, details={'was_impossible': False}),\n",
       " Prediction(uid=48025, iid='0061094560', r_ui=8.0, est=7.896355059391652, details={'was_impossible': False}),\n",
       " Prediction(uid=98758, iid='0425085325', r_ui=7.0, est=7.7392839759680045, details={'was_impossible': False}),\n",
       " Prediction(uid=166123, iid='0345339681', r_ui=10.0, est=8.839910294183673, details={'was_impossible': False}),\n",
       " Prediction(uid=110483, iid='037327047X', r_ui=8.0, est=8.605024316862327, details={'was_impossible': False}),\n",
       " Prediction(uid=12982, iid='0671888587', r_ui=8.0, est=8.269267299008925, details={'was_impossible': False}),\n",
       " Prediction(uid=261829, iid='0671019961', r_ui=9.0, est=7.694543697908469, details={'was_impossible': False}),\n",
       " Prediction(uid=11676, iid='1570829675', r_ui=9.0, est=7.966399724123872, details={'was_impossible': False}),\n",
       " Prediction(uid=266226, iid='0486410234', r_ui=10.0, est=8.325418926161783, details={'was_impossible': False}),\n",
       " Prediction(uid=101851, iid='0916211185', r_ui=8.0, est=8.569988921642627, details={'was_impossible': False}),\n",
       " Prediction(uid=248718, iid='0886777712', r_ui=8.0, est=7.792351977939655, details={'was_impossible': False}),\n",
       " Prediction(uid=123883, iid='0380750872', r_ui=5.0, est=5.0588421571703055, details={'was_impossible': False}),\n",
       " Prediction(uid=240543, iid='082302993X', r_ui=10.0, est=9.577713922635006, details={'was_impossible': False}),\n",
       " Prediction(uid=98391, iid='0316766844', r_ui=8.0, est=8.96400922923761, details={'was_impossible': False}),\n",
       " Prediction(uid=268932, iid='0448095270', r_ui=5.0, est=6.474124136600699, details={'was_impossible': False}),\n",
       " Prediction(uid=125519, iid='0440234743', r_ui=8.0, est=9.105462436594228, details={'was_impossible': False}),\n",
       " Prediction(uid=219546, iid='0425130703', r_ui=7.0, est=7.520904937313527, details={'was_impossible': False}),\n",
       " Prediction(uid=158226, iid='156971634X', r_ui=8.0, est=7.648884087618978, details={'was_impossible': False}),\n",
       " Prediction(uid=135149, iid='0671873164', r_ui=9.0, est=7.727607432998737, details={'was_impossible': False}),\n",
       " Prediction(uid=147847, iid='0307100383', r_ui=5.0, est=6.156969470489232, details={'was_impossible': False}),\n",
       " Prediction(uid=11676, iid='044841838X', r_ui=10.0, est=8.343547299832272, details={'was_impossible': False}),\n",
       " Prediction(uid=245410, iid='067168289X', r_ui=9.0, est=8.1076990613483, details={'was_impossible': False}),\n",
       " Prediction(uid=55187, iid='0960638881', r_ui=10.0, est=8.608121185048677, details={'was_impossible': False}),\n",
       " Prediction(uid=56447, iid='0816722595', r_ui=5.0, est=6.518449284089708, details={'was_impossible': False}),\n",
       " Prediction(uid=217740, iid='8401442230', r_ui=5.0, est=5.848713347532433, details={'was_impossible': False}),\n",
       " Prediction(uid=2276, iid='1556111401', r_ui=6.0, est=7.8802526321335975, details={'was_impossible': False}),\n",
       " Prediction(uid=196077, iid='1887166475', r_ui=9.0, est=7.719227088168174, details={'was_impossible': False}),\n",
       " Prediction(uid=38273, iid='0836218051', r_ui=10.0, est=9.192712134871337, details={'was_impossible': False}),\n",
       " Prediction(uid=257204, iid='0441003451', r_ui=10.0, est=9.465871425560827, details={'was_impossible': False}),\n",
       " Prediction(uid=11676, iid='0440206693', r_ui=6.0, est=6.734607869584769, details={'was_impossible': False}),\n",
       " Prediction(uid=187145, iid='0684184613', r_ui=9.0, est=8.30048923661129, details={'was_impossible': False}),\n",
       " Prediction(uid=166596, iid='0312923120', r_ui=8.0, est=7.79918247718558, details={'was_impossible': False}),\n",
       " Prediction(uid=225199, iid='0553266578', r_ui=5.0, est=7.497542893120159, details={'was_impossible': False}),\n",
       " Prediction(uid=112001, iid='0449215482', r_ui=10.0, est=9.456710210955503, details={'was_impossible': False}),\n",
       " Prediction(uid=16634, iid='0451202503', r_ui=7.0, est=7.8676241046934425, details={'was_impossible': False}),\n",
       " Prediction(uid=109955, iid='0385335881', r_ui=9.0, est=9.00034011324379, details={'was_impossible': False}),\n",
       " Prediction(uid=110483, iid='0671876724', r_ui=9.0, est=8.707129709416645, details={'was_impossible': False}),\n",
       " Prediction(uid=219546, iid='0425128997', r_ui=7.0, est=7.546909175929941, details={'was_impossible': False}),\n",
       " Prediction(uid=76626, iid='0590112899', r_ui=10.0, est=8.553159140987036, details={'was_impossible': False}),\n",
       " Prediction(uid=162639, iid='0380709252', r_ui=9.0, est=8.262525771993788, details={'was_impossible': False}),\n",
       " Prediction(uid=98391, iid='0312320590', r_ui=5.0, est=8.617608229683029, details={'was_impossible': False}),\n",
       " Prediction(uid=56399, iid='0297782819', r_ui=10.0, est=9.702565999976336, details={'was_impossible': False}),\n",
       " Prediction(uid=230522, iid='0394800168', r_ui=9.0, est=9.130794356878472, details={'was_impossible': False}),\n",
       " Prediction(uid=262998, iid='0140274162', r_ui=8.0, est=7.849600657957891, details={'was_impossible': False}),\n",
       " Prediction(uid=25981, iid='0425120279', r_ui=5.0, est=5.69323429213195, details={'was_impossible': False}),\n",
       " Prediction(uid=98391, iid='0380973324', r_ui=9.0, est=8.943753472850885, details={'was_impossible': False}),\n",
       " Prediction(uid=16795, iid='0688180639', r_ui=8.0, est=7.340193991691594, details={'was_impossible': False}),\n",
       " Prediction(uid=226965, iid='0394800168', r_ui=10.0, est=9.215020137140796, details={'was_impossible': False}),\n",
       " Prediction(uid=11676, iid='0330376284', r_ui=9.0, est=7.806206088640476, details={'was_impossible': False}),\n",
       " Prediction(uid=203240, iid='0688046266', r_ui=8.0, est=7.542900084646345, details={'was_impossible': False}),\n",
       " Prediction(uid=257204, iid='0880381736', r_ui=10.0, est=9.29410426766301, details={'was_impossible': False}),\n",
       " Prediction(uid=156150, iid='0743260783', r_ui=7.0, est=7.865973543264713, details={'was_impossible': False}),\n",
       " Prediction(uid=100906, iid='0517065037', r_ui=8.0, est=8.197160754561676, details={'was_impossible': False}),\n",
       " Prediction(uid=205735, iid='1562880667', r_ui=10.0, est=9.244547774087136, details={'was_impossible': False}),\n",
       " Prediction(uid=23902, iid='1842320467', r_ui=7.0, est=7.232294520513262, details={'was_impossible': False}),\n",
       " Prediction(uid=98391, iid='031220907X', r_ui=9.0, est=8.925739974825232, details={'was_impossible': False}),\n",
       " Prediction(uid=171118, iid='0886771846', r_ui=8.0, est=7.5947954674137845, details={'was_impossible': False}),\n",
       " Prediction(uid=98391, iid='0425191753', r_ui=9.0, est=8.924753786272763, details={'was_impossible': False}),\n",
       " Prediction(uid=110483, iid='0812575725', r_ui=9.0, est=8.842152220039152, details={'was_impossible': False}),\n",
       " Prediction(uid=255489, iid='0425164829', r_ui=7.0, est=7.08501794800652, details={'was_impossible': False}),\n",
       " Prediction(uid=23902, iid='0600607275', r_ui=7.0, est=7.308045900703681, details={'was_impossible': False}),\n",
       " Prediction(uid=180651, iid='1853262374', r_ui=8.0, est=7.6394309215457845, details={'was_impossible': False}),\n",
       " Prediction(uid=234828, iid='0590226371', r_ui=8.0, est=7.627773884203456, details={'was_impossible': False}),\n",
       " Prediction(uid=125519, iid='0767906632', r_ui=8.0, est=8.877336199168308, details={'was_impossible': False}),\n",
       " Prediction(uid=11676, iid='069401236X', r_ui=10.0, est=6.783125612609055, details={'was_impossible': False}),\n",
       " Prediction(uid=143175, iid='1558009388', r_ui=8.0, est=7.524421906896051, details={'was_impossible': False}),\n",
       " Prediction(uid=97874, iid='0345440900', r_ui=7.0, est=7.366626294896871, details={'was_impossible': False}),\n",
       " Prediction(uid=199416, iid='068804560X', r_ui=5.0, est=6.367862858504804, details={'was_impossible': False}),\n",
       " Prediction(uid=265115, iid='0312983271', r_ui=8.0, est=8.3198471911391, details={'was_impossible': False}),\n",
       " Prediction(uid=11676, iid='0380719975', r_ui=5.0, est=5.657451296266969, details={'was_impossible': False}),\n",
       " Prediction(uid=148258, iid='068485614X', r_ui=6.0, est=7.703851251354559, details={'was_impossible': False}),\n",
       " Prediction(uid=94242, iid='0439404371', r_ui=7.0, est=7.852481774912815, details={'was_impossible': False}),\n",
       " Prediction(uid=217740, iid='8479531932', r_ui=5.0, est=6.12284356102941, details={'was_impossible': False}),\n",
       " Prediction(uid=262998, iid='0571135390', r_ui=6.0, est=7.65553385656913, details={'was_impossible': False}),\n",
       " Prediction(uid=249894, iid='0812531019', r_ui=8.0, est=7.449940676213507, details={'was_impossible': False}),\n",
       " Prediction(uid=248718, iid='0345258460', r_ui=9.0, est=8.94168511052525, details={'was_impossible': False}),\n",
       " Prediction(uid=189835, iid='0385295049', r_ui=5.0, est=5.203286489317965, details={'was_impossible': False}),\n",
       " Prediction(uid=178522, iid='0385470150', r_ui=9.0, est=7.484650580691933, details={'was_impossible': False}),\n",
       " Prediction(uid=69078, iid='0375701427', r_ui=8.0, est=7.861467501833869, details={'was_impossible': False}),\n",
       " Prediction(uid=242006, iid='0380899531', r_ui=10.0, est=9.10427549078187, details={'was_impossible': False}),\n",
       " Prediction(uid=31315, iid='0060167688', r_ui=9.0, est=8.497410107987434, details={'was_impossible': False}),\n",
       " Prediction(uid=11676, iid='0590332473', r_ui=4.0, est=5.075085571754894, details={'was_impossible': False}),\n",
       " Prediction(uid=60707, iid='0020545304', r_ui=6.0, est=6.989081085182682, details={'was_impossible': False}),\n",
       " Prediction(uid=30511, iid='0786705035', r_ui=7.0, est=7.115206085675567, details={'was_impossible': False}),\n",
       " Prediction(uid=153662, iid='0553295977', r_ui=9.0, est=8.40163081046872, details={'was_impossible': False}),\n",
       " Prediction(uid=101851, iid='1566868246', r_ui=9.0, est=8.648530524991093, details={'was_impossible': False}),\n",
       " Prediction(uid=52199, iid='0394878841', r_ui=8.0, est=8.798398946393103, details={'was_impossible': False}),\n",
       " Prediction(uid=16634, iid='0451521242', r_ui=10.0, est=7.95140883224119, details={'was_impossible': False}),\n",
       " Prediction(uid=162639, iid='0609607375', r_ui=8.0, est=8.213806633507804, details={'was_impossible': False}),\n",
       " Prediction(uid=217318, iid='0440236673', r_ui=5.0, est=5.674100163075893, details={'was_impossible': False}),\n",
       " Prediction(uid=23902, iid='0704340089', r_ui=7.0, est=7.408603109979924, details={'was_impossible': False}),\n",
       " Prediction(uid=31315, iid='039914465X', r_ui=8.0, est=8.174034520431848, details={'was_impossible': False}),\n",
       " Prediction(uid=67840, iid='0688154484', r_ui=8.0, est=8.995468003014176, details={'was_impossible': False}),\n",
       " Prediction(uid=235282, iid='0316777730', r_ui=9.0, est=8.048435434797483, details={'was_impossible': False}),\n",
       " Prediction(uid=56399, iid='0345361792', r_ui=9.0, est=10, details={'was_impossible': False}),\n",
       " Prediction(uid=114988, iid='0446679062', r_ui=9.0, est=7.412925137310453, details={'was_impossible': False}),\n",
       " Prediction(uid=76499, iid='0060973897', r_ui=5.0, est=7.301628110287811, details={'was_impossible': False}),\n",
       " Prediction(uid=35836, iid='0451197364', r_ui=7.0, est=4.7439256691714835, details={'was_impossible': False}),\n",
       " Prediction(uid=251394, iid='1583225463', r_ui=10.0, est=7.972387416334917, details={'was_impossible': False}),\n",
       " Prediction(uid=31826, iid='0696008254', r_ui=10.0, est=9.798839893919679, details={'was_impossible': False}),\n",
       " Prediction(uid=98391, iid='0345459946', r_ui=10.0, est=9.107067788877577, details={'was_impossible': False}),\n",
       " Prediction(uid=214786, iid='0425152901', r_ui=10.0, est=9.090394237161991, details={'was_impossible': False}),\n",
       " Prediction(uid=197659, iid='0679775226', r_ui=9.0, est=8.552524634938521, details={'was_impossible': False}),\n",
       " Prediction(uid=98391, iid='0553801864', r_ui=9.0, est=9.006913832758663, details={'was_impossible': False}),\n",
       " Prediction(uid=100906, iid='0312981686', r_ui=8.0, est=8.172261559822955, details={'was_impossible': False}),\n",
       " Prediction(uid=6251, iid='0816704317', r_ui=7.0, est=8.239481752860568, details={'was_impossible': False}),\n",
       " Prediction(uid=36554, iid='0528815873', r_ui=9.0, est=8.604782460766113, details={'was_impossible': False}),\n",
       " Prediction(uid=11676, iid='8817844330', r_ui=6.0, est=6.230407186518886, details={'was_impossible': False}),\n",
       " Prediction(uid=102702, iid='0312979681', r_ui=10.0, est=9.548981407333608, details={'was_impossible': False}),\n",
       " Prediction(uid=98391, iid='1932100091', r_ui=10.0, est=9.026852203384403, details={'was_impossible': False}),\n",
       " Prediction(uid=211919, iid='0811802981', r_ui=10.0, est=8.26419123775344, details={'was_impossible': False}),\n",
       " Prediction(uid=184299, iid='0895773619', r_ui=8.0, est=8.06326596419398, details={'was_impossible': False}),\n",
       " Prediction(uid=189835, iid='0679641041', r_ui=5.0, est=5.1670855219736405, details={'was_impossible': False}),\n",
       " Prediction(uid=145449, iid='0595132820', r_ui=10.0, est=8.593344242502003, details={'was_impossible': False}),\n",
       " Prediction(uid=11676, iid='3442092981', r_ui=9.0, est=7.785247609638633, details={'was_impossible': False}),\n",
       " Prediction(uid=98391, iid='0345456440', r_ui=10.0, est=9.104072430279777, details={'was_impossible': False}),\n",
       " Prediction(uid=217106, iid='0822005662', r_ui=7.0, est=7.264452264910227, details={'was_impossible': False}),\n",
       " Prediction(uid=16795, iid='0684814994', r_ui=9.0, est=7.729537648316905, details={'was_impossible': False}),\n",
       " Prediction(uid=95359, iid='0385491050', r_ui=10.0, est=8.18003645214262, details={'was_impossible': False}),\n",
       " Prediction(uid=23902, iid='0451200519', r_ui=6.0, est=7.353713466535752, details={'was_impossible': False}),\n",
       " Prediction(uid=235105, iid='0345453425', r_ui=8.0, est=8.301126245989138, details={'was_impossible': False}),\n",
       " Prediction(uid=23902, iid='0345424719', r_ui=10.0, est=7.774702853616194, details={'was_impossible': False}),\n",
       " Prediction(uid=31556, iid='0310382610', r_ui=5.0, est=6.745787847939751, details={'was_impossible': False}),\n",
       " Prediction(uid=230522, iid='0307109321', r_ui=5.0, est=7.8272612889512585, details={'was_impossible': False}),\n",
       " Prediction(uid=217106, iid='0671023705', r_ui=8.0, est=7.620867703661382, details={'was_impossible': False}),\n",
       " Prediction(uid=107784, iid='0440211484', r_ui=5.0, est=5.50640807040447, details={'was_impossible': False}),\n",
       " Prediction(uid=225087, iid='0553284118', r_ui=10.0, est=8.70905721759982, details={'was_impossible': False}),\n",
       " Prediction(uid=129716, iid='0679750800', r_ui=10.0, est=8.978378136338904, details={'was_impossible': False}),\n",
       " Prediction(uid=94347, iid='0864425295', r_ui=8.0, est=7.362140988958613, details={'was_impossible': False}),\n",
       " Prediction(uid=244685, iid='0671737791', r_ui=9.0, est=8.102465762093056, details={'was_impossible': False}),\n",
       " Prediction(uid=98391, iid='0312282885', r_ui=8.0, est=8.889581954139558, details={'was_impossible': False}),\n",
       " Prediction(uid=88733, iid='0877734321', r_ui=9.0, est=8.889509165473878, details={'was_impossible': False}),\n",
       " Prediction(uid=235105, iid='0312323476', r_ui=9.0, est=7.801078973636295, details={'was_impossible': False}),\n",
       " Prediction(uid=185384, iid='0373870051', r_ui=7.0, est=8.128097560555037, details={'was_impossible': False}),\n",
       " Prediction(uid=265115, iid='0060009241', r_ui=7.0, est=7.582696834494713, details={'was_impossible': False}),\n",
       " Prediction(uid=93363, iid='0802461840', r_ui=8.0, est=7.927248575249649, details={'was_impossible': False}),\n",
       " Prediction(uid=76626, iid='0156027402', r_ui=7.0, est=8.417731237186187, details={'was_impossible': False}),\n",
       " Prediction(uid=11676, iid='0446602108', r_ui=6.0, est=6.31323922272024, details={'was_impossible': False}),\n",
       " Prediction(uid=94347, iid='0440065933', r_ui=7.0, est=7.217885224243496, details={'was_impossible': False}),\n",
       " Prediction(uid=98391, iid='031287846X', r_ui=8.0, est=8.87691166760509, details={'was_impossible': False}),\n",
       " Prediction(uid=13850, iid='0156838389', r_ui=8.0, est=8.588777869111869, details={'was_impossible': False}),\n",
       " Prediction(uid=35859, iid='0307101770', r_ui=8.0, est=7.469112348471602, details={'was_impossible': False}),\n",
       " Prediction(uid=261105, iid='3426770024', r_ui=4.0, est=7.5798009672898425, details={'was_impossible': False}),\n",
       " Prediction(uid=76499, iid='0393964817', r_ui=10.0, est=10, details={'was_impossible': False}),\n",
       " Prediction(uid=227705, iid='067976402X', r_ui=8.0, est=8.078543025799947, details={'was_impossible': False}),\n",
       " Prediction(uid=149907, iid='0393037851', r_ui=10.0, est=8.982010600107174, details={'was_impossible': False}),\n",
       " Prediction(uid=182993, iid='0439376106', r_ui=7.0, est=8.509811258346378, details={'was_impossible': False}),\n",
       " Prediction(uid=76499, iid='0679753354', r_ui=10.0, est=9.905783200421054, details={'was_impossible': False}),\n",
       " Prediction(uid=11676, iid='0451456890', r_ui=5.0, est=6.300171611399924, details={'was_impossible': False}),\n",
       " Prediction(uid=236757, iid='0380730626', r_ui=7.0, est=6.545199529288818, details={'was_impossible': False}),\n",
       " Prediction(uid=212965, iid='0843948663', r_ui=10.0, est=7.259039326162348, details={'was_impossible': False}),\n",
       " Prediction(uid=162052, iid='1592281141', r_ui=8.0, est=8.190356141185896, details={'was_impossible': False}),\n",
       " Prediction(uid=11676, iid='0671722638', r_ui=10.0, est=7.515780198779281, details={'was_impossible': False}),\n",
       " Prediction(uid=95359, iid='031210426X', r_ui=7.0, est=7.374096948416645, details={'was_impossible': False}),\n",
       " Prediction(uid=156467, iid='0671537865', r_ui=10.0, est=9.584463089098398, details={'was_impossible': False}),\n",
       " Prediction(uid=25601, iid='0613222407', r_ui=6.0, est=8.503440685801632, details={'was_impossible': False}),\n",
       " Prediction(uid=168245, iid='0969069529', r_ui=6.0, est=7.610686405102607, details={'was_impossible': False}),\n",
       " Prediction(uid=123094, iid='0912627646', r_ui=8.0, est=8.44937043465598, details={'was_impossible': False}),\n",
       " Prediction(uid=11676, iid='052594527X', r_ui=8.0, est=7.148135512949809, details={'was_impossible': False}),\n",
       " Prediction(uid=140358, iid='0373222467', r_ui=5.0, est=5.008510482510846, details={'was_impossible': False}),\n",
       " Prediction(uid=63956, iid='0965636194', r_ui=8.0, est=8.193832832115215, details={'was_impossible': False}),\n",
       " Prediction(uid=254899, iid='0345330056', r_ui=7.0, est=7.566860932314483, details={'was_impossible': False}),\n",
       " Prediction(uid=63714, iid='1840235101', r_ui=10.0, est=9.486373626708069, details={'was_impossible': False}),\n",
       " Prediction(uid=165758, iid='0380008149', r_ui=5.0, est=5.021421688243034, details={'was_impossible': False}),\n",
       " Prediction(uid=177458, iid='0671741454', r_ui=8.0, est=7.276346766949838, details={'was_impossible': False}),\n",
       " Prediction(uid=11676, iid='0060199652', r_ui=10.0, est=8.01053302976854, details={'was_impossible': False}),\n",
       " Prediction(uid=16634, iid='0425166899', r_ui=7.0, est=7.742991489117998, details={'was_impossible': False}),\n",
       " Prediction(uid=270713, iid='0671522922', r_ui=10.0, est=7.870793921184395, details={'was_impossible': False}),\n",
       " Prediction(uid=264082, iid='037370643X', r_ui=5.0, est=5.761438837199772, details={'was_impossible': False}),\n",
       " Prediction(uid=63714, iid='1840462493', r_ui=10.0, est=9.463083107712784, details={'was_impossible': False}),\n",
       " Prediction(uid=182085, iid='0812507371', r_ui=9.0, est=8.798976540587853, details={'was_impossible': False}),\n",
       " Prediction(uid=56554, iid='0385510438', r_ui=9.0, est=9.182903325137888, details={'was_impossible': False}),\n",
       " Prediction(uid=114868, iid='0141001771', r_ui=6.0, est=7.925826265044717, details={'was_impossible': False}),\n",
       " Prediction(uid=242006, iid='1551668769', r_ui=8.0, est=8.275178815922452, details={'was_impossible': False}),\n",
       " Prediction(uid=123883, iid='0671747150', r_ui=5.0, est=5.101070817418012, details={'was_impossible': False}),\n",
       " Prediction(uid=30276, iid='0373218257', r_ui=8.0, est=7.020827971689035, details={'was_impossible': False}),\n",
       " Prediction(uid=225087, iid='0743437128', r_ui=10.0, est=8.72983385700317, details={'was_impossible': False}),\n",
       " Prediction(uid=143253, iid='0399212302', r_ui=5.0, est=8.560367064254873, details={'was_impossible': False}),\n",
       " Prediction(uid=146348, iid='0312877579', r_ui=8.0, est=8.551685899034942, details={'was_impossible': False}),\n",
       " Prediction(uid=15418, iid='842046435X', r_ui=6.0, est=7.525263298907976, details={'was_impossible': False}),\n",
       " Prediction(uid=129716, iid='0679442766', r_ui=8.0, est=8.796257672924868, details={'was_impossible': False}),\n",
       " Prediction(uid=142524, iid='0802131301', r_ui=7.0, est=7.630495468290192, details={'was_impossible': False}),\n",
       " Prediction(uid=264031, iid='0142000205', r_ui=9.0, est=8.74759788685406, details={'was_impossible': False}),\n",
       " Prediction(uid=98391, iid='0515132543', r_ui=9.0, est=8.98334026890664, details={'was_impossible': False}),\n",
       " Prediction(uid=11676, iid='0141303050', r_ui=5.0, est=6.917652726744803, details={'was_impossible': False}),\n",
       " Prediction(uid=132836, iid='0515132268', r_ui=10.0, est=9.199860368855054, details={'was_impossible': False}),\n",
       " Prediction(uid=123981, iid='0449214370', r_ui=5.0, est=7.129281857245391, details={'was_impossible': False}),\n",
       " Prediction(uid=94347, iid='0802139868', r_ui=4.0, est=6.401270515892335, details={'was_impossible': False}),\n",
       " Prediction(uid=78553, iid='0441231942', r_ui=10.0, est=9.539160094645453, details={'was_impossible': False}),\n",
       " Prediction(uid=56959, iid='1559944277', r_ui=8.0, est=9.399510767530288, details={'was_impossible': False}),\n",
       " Prediction(uid=249894, iid='0312291639', r_ui=8.0, est=7.523930575579395, details={'was_impossible': False}),\n",
       " Prediction(uid=98391, iid='0425186490', r_ui=9.0, est=9.010527311009271, details={'was_impossible': False}),\n",
       " Prediction(uid=98391, iid='1590520432', r_ui=9.0, est=9.02867921983406, details={'was_impossible': False}),\n",
       " Prediction(uid=56399, iid='1568821069', r_ui=10.0, est=9.689628977153827, details={'was_impossible': False}),\n",
       " Prediction(uid=25981, iid='037310524X', r_ui=5.0, est=5.3394513038980085, details={'was_impossible': False}),\n",
       " Prediction(uid=235105, iid='1932112014', r_ui=9.0, est=8.039426863283392, details={'was_impossible': False}),\n",
       " Prediction(uid=102702, iid='0517093650', r_ui=8.0, est=9.477200087303581, details={'was_impossible': False}),\n",
       " Prediction(uid=153662, iid='0440226309', r_ui=10.0, est=8.613920152966855, details={'was_impossible': False}),\n",
       " Prediction(uid=230522, iid='0523420633', r_ui=8.0, est=8.033590207063671, details={'was_impossible': False}),\n",
       " Prediction(uid=98391, iid='0312328745', r_ui=10.0, est=9.087184650777134, details={'was_impossible': False}),\n",
       " Prediction(uid=94242, iid='9505156022', r_ui=9.0, est=7.880532458217313, details={'was_impossible': False}),\n",
       " Prediction(uid=98391, iid='0743458028', r_ui=9.0, est=8.964048127021593, details={'was_impossible': False}),\n",
       " Prediction(uid=11676, iid='0061093491', r_ui=6.0, est=5.840296864720232, details={'was_impossible': False}),\n",
       " Prediction(uid=185233, iid='0819311898', r_ui=5.0, est=5.1705516136050855, details={'was_impossible': False}),\n",
       " Prediction(uid=216012, iid='0399149392', r_ui=8.0, est=7.883200613405105, details={'was_impossible': False}),\n",
       " Prediction(uid=179978, iid='0439139597', r_ui=10.0, est=9.95534382136214, details={'was_impossible': False}),\n",
       " Prediction(uid=164828, iid='0380775492', r_ui=8.0, est=7.4922810485820905, details={'was_impossible': False}),\n",
       " Prediction(uid=196502, iid='039512722X', r_ui=6.0, est=7.355107797435915, details={'was_impossible': False}),\n",
       " Prediction(uid=163761, iid='0373168500', r_ui=6.0, est=6.599695553881226, details={'was_impossible': False}),\n",
       " Prediction(uid=94853, iid='0947782583', r_ui=9.0, est=8.641771972448659, details={'was_impossible': False}),\n",
       " Prediction(uid=177432, iid='0446328391', r_ui=6.0, est=7.631692040869863, details={'was_impossible': False}),\n",
       " Prediction(uid=197659, iid='0883683024', r_ui=8.0, est=8.40644130228109, details={'was_impossible': False}),\n",
       " Prediction(uid=185233, iid='0517543699', r_ui=5.0, est=5.154409355941204, details={'was_impossible': False}),\n",
       " Prediction(uid=11676, iid='0451523377', r_ui=8.0, est=7.193061683991225, details={'was_impossible': False}),\n",
       " Prediction(uid=177432, iid='0553212478', r_ui=9.0, est=8.204107069086366, details={'was_impossible': False}),\n",
       " Prediction(uid=114988, iid='0345460111', r_ui=6.0, est=6.943665078313415, details={'was_impossible': False}),\n",
       " Prediction(uid=95359, iid='0345303067', r_ui=5.0, est=6.480593995614701, details={'was_impossible': False}),\n",
       " Prediction(uid=193458, iid='0671883836', r_ui=8.0, est=7.518965379503876, details={'was_impossible': False}),\n",
       " Prediction(uid=94347, iid='0375701427', r_ui=8.0, est=7.2248770601562065, details={'was_impossible': False}),\n",
       " Prediction(uid=164905, iid='0373118597', r_ui=9.0, est=6.572223889483795, details={'was_impossible': False}),\n",
       " Prediction(uid=217740, iid='0060932767', r_ui=5.0, est=5.898454450145393, details={'was_impossible': False}),\n",
       " Prediction(uid=189334, iid='0395080487', r_ui=10.0, est=9.377098079100733, details={'was_impossible': False}),\n",
       " Prediction(uid=251844, iid='0316777722', r_ui=5.0, est=7.860020068148161, details={'was_impossible': False}),\n",
       " Prediction(uid=35859, iid='0446530387', r_ui=7.0, est=7.168316419726911, details={'was_impossible': False}),\n",
       " Prediction(uid=246311, iid='0375704027', r_ui=6.0, est=8.343309028235034, details={'was_impossible': False}),\n",
       " Prediction(uid=39467, iid='0679748091', r_ui=9.0, est=7.671984108701172, details={'was_impossible': False}),\n",
       " Prediction(uid=125774, iid='0064473368', r_ui=10.0, est=8.552736345073415, details={'was_impossible': False}),\n",
       " Prediction(uid=248718, iid='0671554271', r_ui=9.0, est=8.589184656393643, details={'was_impossible': False}),\n",
       " Prediction(uid=101209, iid='0440236800', r_ui=8.0, est=7.209859705198248, details={'was_impossible': False}),\n",
       " Prediction(uid=93047, iid='1565049462', r_ui=7.0, est=7.479433975576547, details={'was_impossible': False}),\n",
       " Prediction(uid=136348, iid='0743206061', r_ui=6.0, est=6.935709322863862, details={'was_impossible': False}),\n",
       " Prediction(uid=98391, iid='1573229334', r_ui=8.0, est=8.871317189185042, details={'was_impossible': False}),\n",
       " Prediction(uid=12824, iid='1591160502', r_ui=10.0, est=8.778771139972264, details={'was_impossible': False}),\n",
       " Prediction(uid=86947, iid='0486209725', r_ui=10.0, est=9.84266045016771, details={'was_impossible': False}),\n",
       " Prediction(uid=148199, iid='081254546X', r_ui=7.0, est=6.9398649880257, details={'was_impossible': False}),\n",
       " Prediction(uid=11676, iid='0425167313', r_ui=8.0, est=7.884932103321399, details={'was_impossible': False}),\n",
       " Prediction(uid=189835, iid='0886820596', r_ui=5.0, est=5.2244987247271615, details={'was_impossible': False}),\n",
       " Prediction(uid=132492, iid='3451275961', r_ui=9.0, est=9.0994913375374, details={'was_impossible': False}),\n",
       " Prediction(uid=52614, iid='037383568X', r_ui=10.0, est=9.507300909764066, details={'was_impossible': False}),\n",
       " Prediction(uid=11676, iid='0312876610', r_ui=10.0, est=8.16737745271654, details={'was_impossible': False}),\n",
       " Prediction(uid=94347, iid='0802150616', r_ui=8.0, est=7.041262825112425, details={'was_impossible': False}),\n",
       " Prediction(uid=251844, iid='0440212561', r_ui=10.0, est=8.749909578345685, details={'was_impossible': False}),\n",
       " Prediction(uid=130554, iid='1556616465', r_ui=5.0, est=5.882883638644444, details={'was_impossible': False}),\n",
       " Prediction(uid=76499, iid='0742518728', r_ui=10.0, est=9.439564778750348, details={'was_impossible': False}),\n",
       " Prediction(uid=224525, iid='0877285012', r_ui=10.0, est=9.710188690588211, details={'was_impossible': False}),\n",
       " Prediction(uid=114368, iid='0373791208', r_ui=5.0, est=5.612050865823054, details={'was_impossible': False}),\n",
       " Prediction(uid=254465, iid='0061054909', r_ui=10.0, est=9.284616586824317, details={'was_impossible': False}),\n",
       " Prediction(uid=138844, iid='0373764375', r_ui=7.0, est=7.625563841636258, details={'was_impossible': False}),\n",
       " Prediction(uid=248718, iid='0875423248', r_ui=5.0, est=6.256051838764104, details={'was_impossible': False}),\n",
       " Prediction(uid=261829, iid='0373217315', r_ui=8.0, est=7.3698921019385, details={'was_impossible': False}),\n",
       " Prediction(uid=76223, iid='0786913541', r_ui=9.0, est=8.146258291507152, details={'was_impossible': False}),\n",
       " Prediction(uid=89602, iid='014028009X', r_ui=5.0, est=6.147663091731038, details={'was_impossible': False}),\n",
       " Prediction(uid=201290, iid='081121270X', r_ui=7.0, est=6.629507161549097, details={'was_impossible': False}),\n",
       " Prediction(uid=97874, iid='0684870754', r_ui=9.0, est=7.720759671509766, details={'was_impossible': False}),\n",
       " Prediction(uid=87141, iid='1565924215', r_ui=6.0, est=7.5465858282650355, details={'was_impossible': False}),\n",
       " Prediction(uid=234359, iid='0743464451', r_ui=7.0, est=6.347636077348294, details={'was_impossible': False}),\n",
       " Prediction(uid=31315, iid='0316693235', r_ui=10.0, est=8.735574533141486, details={'was_impossible': False}),\n",
       " Prediction(uid=171118, iid='0735713065', r_ui=8.0, est=7.4275078539452775, details={'was_impossible': False}),\n",
       " Prediction(uid=217318, iid='0451197038', r_ui=5.0, est=5.371869304077187, details={'was_impossible': False}),\n",
       " Prediction(uid=182993, iid='0312996055', r_ui=9.0, est=8.710005517022946, details={'was_impossible': False}),\n",
       " Prediction(uid=171118, iid='0836278445', r_ui=6.0, est=7.2642365084470955, details={'was_impossible': False}),\n",
       " Prediction(uid=11676, iid='0714841919', r_ui=10.0, est=8.344341424640351, details={'was_impossible': False}),\n",
       " Prediction(uid=185233, iid='0394890566', r_ui=5.0, est=5.1373995796739695, details={'was_impossible': False}),\n",
       " Prediction(uid=172030, iid='0821758942', r_ui=8.0, est=8.211733517527325, details={'was_impossible': False}),\n",
       " Prediction(uid=249894, iid='0425063100', r_ui=10.0, est=7.865151384391363, details={'was_impossible': False}),\n",
       " Prediction(uid=177072, iid='0880887621', r_ui=8.0, est=7.964178094421085, details={'was_impossible': False}),\n",
       " Prediction(uid=225199, iid='0140441298', r_ui=8.0, est=8.056398913542962, details={'was_impossible': False}),\n",
       " Prediction(uid=109955, iid='0491020392', r_ui=10.0, est=8.905872571958987, details={'was_impossible': False}),\n",
       " Prediction(uid=52614, iid='0373835280', r_ui=10.0, est=9.774262451695764, details={'was_impossible': False}),\n",
       " Prediction(uid=148258, iid='1561704687', r_ui=10.0, est=8.03711503495382, details={'was_impossible': False}),\n",
       " Prediction(uid=235105, iid='0877956324', r_ui=10.0, est=8.342908468011373, details={'was_impossible': False}),\n",
       " ...]"
      ]
     },
     "execution_count": 84,
     "metadata": {},
     "output_type": "execute_result"
    }
   ],
   "source": [
    "gs.test(testset)"
   ]
  },
  {
   "cell_type": "markdown",
   "metadata": {},
   "source": [
    "### Take a particular user_id"
   ]
  },
  {
   "cell_type": "markdown",
   "metadata": {},
   "source": [
    "### Lets find the recommendations for user with id `2110`\n",
    "\n",
    "#### Note: Execute the below cells to get the variables loaded"
   ]
  },
  {
   "cell_type": "code",
   "execution_count": 86,
   "metadata": {},
   "outputs": [],
   "source": [
    "userID = 2110"
   ]
  },
  {
   "cell_type": "code",
   "execution_count": 90,
   "metadata": {},
   "outputs": [],
   "source": [
    "user_id = 3 #4th row in ratings matrix and predicted matrix"
   ]
  },
  {
   "cell_type": "code",
   "execution_count": 92,
   "metadata": {},
   "outputs": [
    {
     "data": {
      "text/plain": [
       "2110"
      ]
     },
     "execution_count": 92,
     "metadata": {},
     "output_type": "execute_result"
    }
   ],
   "source": [
    "trainset_full.to_raw_uid(3)"
   ]
  },
  {
   "cell_type": "markdown",
   "metadata": {},
   "source": [
    "### Get the predicted ratings for userID `2110` and sort them in descending order"
   ]
  },
  {
   "cell_type": "code",
   "execution_count": 93,
   "metadata": {},
   "outputs": [
    {
     "name": "stdout",
     "output_type": "stream",
     "text": [
      "(449, 50)\n",
      "(66572, 50)\n"
     ]
    }
   ],
   "source": [
    "user_factors = svd_model.pu\n",
    "print(user_factors.shape)\n",
    "item_factors = svd_model.qi\n",
    "print(item_factors.shape)"
   ]
  },
  {
   "cell_type": "code",
   "execution_count": 94,
   "metadata": {},
   "outputs": [],
   "source": [
    "pred = np.dot(user_factors,np.transpose(item_factors))"
   ]
  },
  {
   "cell_type": "code",
   "execution_count": 95,
   "metadata": {},
   "outputs": [
    {
     "data": {
      "text/plain": [
       "(449, 66572)"
      ]
     },
     "execution_count": 95,
     "metadata": {},
     "output_type": "execute_result"
    }
   ],
   "source": [
    "pred.shape"
   ]
  },
  {
   "cell_type": "code",
   "execution_count": 96,
   "metadata": {},
   "outputs": [
    {
     "data": {
      "text/plain": [
       "array([6.26797494, 1.12140486, 3.34092724, ..., 3.50447397, 3.94104295,\n",
       "       3.04895548])"
      ]
     },
     "execution_count": 96,
     "metadata": {},
     "output_type": "execute_result"
    }
   ],
   "source": [
    "pred[user_id]"
   ]
  },
  {
   "cell_type": "code",
   "execution_count": 97,
   "metadata": {},
   "outputs": [],
   "source": [
    "df_2110 = pd.DataFrame([[trainset_full.to_raw_iid(x[0]),x[1]] for x in zip(trainset_full.all_items(), pred[user_id])],columns=['ISBN','predicted_rating'])\n",
    "df_2110 = df_2110.sort_values(by='predicted_rating', ascending=False).join(books[['bookTitle','ISBN']].set_index('ISBN'), on='ISBN').reset_index(drop=True)"
   ]
  },
  {
   "cell_type": "code",
   "execution_count": 98,
   "metadata": {},
   "outputs": [
    {
     "data": {
      "text/html": [
       "<div>\n",
       "<style scoped>\n",
       "    .dataframe tbody tr th:only-of-type {\n",
       "        vertical-align: middle;\n",
       "    }\n",
       "\n",
       "    .dataframe tbody tr th {\n",
       "        vertical-align: top;\n",
       "    }\n",
       "\n",
       "    .dataframe thead th {\n",
       "        text-align: right;\n",
       "    }\n",
       "</style>\n",
       "<table border=\"1\" class=\"dataframe\">\n",
       "  <thead>\n",
       "    <tr style=\"text-align: right;\">\n",
       "      <th></th>\n",
       "      <th>ISBN</th>\n",
       "      <th>predicted_rating</th>\n",
       "      <th>bookTitle</th>\n",
       "    </tr>\n",
       "  </thead>\n",
       "  <tbody>\n",
       "    <tr>\n",
       "      <th>0</th>\n",
       "      <td>044021145X</td>\n",
       "      <td>11.360132</td>\n",
       "      <td>The Firm</td>\n",
       "    </tr>\n",
       "    <tr>\n",
       "      <th>1</th>\n",
       "      <td>0385504209</td>\n",
       "      <td>10.627771</td>\n",
       "      <td>The Da Vinci Code</td>\n",
       "    </tr>\n",
       "    <tr>\n",
       "      <th>2</th>\n",
       "      <td>0060256737</td>\n",
       "      <td>10.222336</td>\n",
       "      <td>A Light in the Attic</td>\n",
       "    </tr>\n",
       "    <tr>\n",
       "      <th>3</th>\n",
       "      <td>0684857820</td>\n",
       "      <td>10.140065</td>\n",
       "      <td>Lucky</td>\n",
       "    </tr>\n",
       "    <tr>\n",
       "      <th>4</th>\n",
       "      <td>0920668372</td>\n",
       "      <td>10.117727</td>\n",
       "      <td>Love You Forever</td>\n",
       "    </tr>\n",
       "    <tr>\n",
       "      <th>5</th>\n",
       "      <td>0836220889</td>\n",
       "      <td>10.090133</td>\n",
       "      <td>Calvin and Hobbes</td>\n",
       "    </tr>\n",
       "    <tr>\n",
       "      <th>6</th>\n",
       "      <td>0886774004</td>\n",
       "      <td>10.060497</td>\n",
       "      <td>Arrow's Fall (The Heralds of Valdemar, Book 3)</td>\n",
       "    </tr>\n",
       "    <tr>\n",
       "      <th>7</th>\n",
       "      <td>0060928336</td>\n",
       "      <td>10.052583</td>\n",
       "      <td>Divine Secrets of the Ya-Ya Sisterhood: A Novel</td>\n",
       "    </tr>\n",
       "    <tr>\n",
       "      <th>8</th>\n",
       "      <td>0875962432</td>\n",
       "      <td>10.032081</td>\n",
       "      <td>Dr. Pitcairn's Complete Guide to Natural Healt...</td>\n",
       "    </tr>\n",
       "    <tr>\n",
       "      <th>9</th>\n",
       "      <td>0886774632</td>\n",
       "      <td>10.022583</td>\n",
       "      <td>By the Sword (Kerowyn's Tale)</td>\n",
       "    </tr>\n",
       "  </tbody>\n",
       "</table>\n",
       "</div>"
      ],
      "text/plain": [
       "         ISBN  predicted_rating  \\\n",
       "0  044021145X         11.360132   \n",
       "1  0385504209         10.627771   \n",
       "2  0060256737         10.222336   \n",
       "3  0684857820         10.140065   \n",
       "4  0920668372         10.117727   \n",
       "5  0836220889         10.090133   \n",
       "6  0886774004         10.060497   \n",
       "7  0060928336         10.052583   \n",
       "8  0875962432         10.032081   \n",
       "9  0886774632         10.022583   \n",
       "\n",
       "                                           bookTitle  \n",
       "0                                           The Firm  \n",
       "1                                  The Da Vinci Code  \n",
       "2                               A Light in the Attic  \n",
       "3                                              Lucky  \n",
       "4                                   Love You Forever  \n",
       "5                                  Calvin and Hobbes  \n",
       "6     Arrow's Fall (The Heralds of Valdemar, Book 3)  \n",
       "7    Divine Secrets of the Ya-Ya Sisterhood: A Novel  \n",
       "8  Dr. Pitcairn's Complete Guide to Natural Healt...  \n",
       "9                      By the Sword (Kerowyn's Tale)  "
      ]
     },
     "execution_count": 98,
     "metadata": {},
     "output_type": "execute_result"
    }
   ],
   "source": [
    "df_2110.head(10)"
   ]
  },
  {
   "cell_type": "markdown",
   "metadata": {},
   "source": [
    "### Create a dataframe with name `user_data` containing userID `2110` explicitly interacted books"
   ]
  },
  {
   "cell_type": "code",
   "execution_count": 99,
   "metadata": {},
   "outputs": [],
   "source": [
    "user_data = qualified_ratings[qualified_ratings['userID'] == 2110]"
   ]
  },
  {
   "cell_type": "code",
   "execution_count": 100,
   "metadata": {},
   "outputs": [
    {
     "data": {
      "text/html": [
       "<div>\n",
       "<style scoped>\n",
       "    .dataframe tbody tr th:only-of-type {\n",
       "        vertical-align: middle;\n",
       "    }\n",
       "\n",
       "    .dataframe tbody tr th {\n",
       "        vertical-align: top;\n",
       "    }\n",
       "\n",
       "    .dataframe thead th {\n",
       "        text-align: right;\n",
       "    }\n",
       "</style>\n",
       "<table border=\"1\" class=\"dataframe\">\n",
       "  <thead>\n",
       "    <tr style=\"text-align: right;\">\n",
       "      <th></th>\n",
       "      <th>userID</th>\n",
       "      <th>ISBN</th>\n",
       "      <th>bookRating</th>\n",
       "    </tr>\n",
       "  </thead>\n",
       "  <tbody>\n",
       "    <tr>\n",
       "      <th>14448</th>\n",
       "      <td>2110</td>\n",
       "      <td>0060987529</td>\n",
       "      <td>7</td>\n",
       "    </tr>\n",
       "    <tr>\n",
       "      <th>14449</th>\n",
       "      <td>2110</td>\n",
       "      <td>0064472779</td>\n",
       "      <td>8</td>\n",
       "    </tr>\n",
       "    <tr>\n",
       "      <th>14450</th>\n",
       "      <td>2110</td>\n",
       "      <td>0140022651</td>\n",
       "      <td>10</td>\n",
       "    </tr>\n",
       "    <tr>\n",
       "      <th>14452</th>\n",
       "      <td>2110</td>\n",
       "      <td>0142302163</td>\n",
       "      <td>8</td>\n",
       "    </tr>\n",
       "    <tr>\n",
       "      <th>14453</th>\n",
       "      <td>2110</td>\n",
       "      <td>0151008116</td>\n",
       "      <td>5</td>\n",
       "    </tr>\n",
       "  </tbody>\n",
       "</table>\n",
       "</div>"
      ],
      "text/plain": [
       "       userID        ISBN  bookRating\n",
       "14448    2110  0060987529           7\n",
       "14449    2110  0064472779           8\n",
       "14450    2110  0140022651          10\n",
       "14452    2110  0142302163           8\n",
       "14453    2110  0151008116           5"
      ]
     },
     "execution_count": 100,
     "metadata": {},
     "output_type": "execute_result"
    }
   ],
   "source": [
    "user_data.head()"
   ]
  },
  {
   "cell_type": "code",
   "execution_count": 101,
   "metadata": {
    "scrolled": true
   },
   "outputs": [
    {
     "data": {
      "text/plain": [
       "(103, 3)"
      ]
     },
     "execution_count": 101,
     "metadata": {},
     "output_type": "execute_result"
    }
   ],
   "source": [
    "user_data.shape"
   ]
  },
  {
   "cell_type": "markdown",
   "metadata": {},
   "source": [
    "### Combine the user_data and and corresponding book data(`book_data`) in a single dataframe with name `user_full_info`"
   ]
  },
  {
   "cell_type": "code",
   "execution_count": 102,
   "metadata": {},
   "outputs": [],
   "source": [
    "book_data = books[books['ISBN'].isin(user_data.ISBN)]"
   ]
  },
  {
   "cell_type": "code",
   "execution_count": 103,
   "metadata": {},
   "outputs": [
    {
     "data": {
      "text/plain": [
       "(103, 5)"
      ]
     },
     "execution_count": 103,
     "metadata": {},
     "output_type": "execute_result"
    }
   ],
   "source": [
    "book_data.shape"
   ]
  },
  {
   "cell_type": "code",
   "execution_count": 104,
   "metadata": {
    "scrolled": true
   },
   "outputs": [
    {
     "data": {
      "text/html": [
       "<div>\n",
       "<style scoped>\n",
       "    .dataframe tbody tr th:only-of-type {\n",
       "        vertical-align: middle;\n",
       "    }\n",
       "\n",
       "    .dataframe tbody tr th {\n",
       "        vertical-align: top;\n",
       "    }\n",
       "\n",
       "    .dataframe thead th {\n",
       "        text-align: right;\n",
       "    }\n",
       "</style>\n",
       "<table border=\"1\" class=\"dataframe\">\n",
       "  <thead>\n",
       "    <tr style=\"text-align: right;\">\n",
       "      <th></th>\n",
       "      <th>ISBN</th>\n",
       "      <th>bookTitle</th>\n",
       "      <th>bookAuthor</th>\n",
       "      <th>yearOfPublication</th>\n",
       "      <th>publisher</th>\n",
       "    </tr>\n",
       "  </thead>\n",
       "  <tbody>\n",
       "    <tr>\n",
       "      <th>246</th>\n",
       "      <td>0151008116</td>\n",
       "      <td>Life of Pi</td>\n",
       "      <td>Yann Martel</td>\n",
       "      <td>2002</td>\n",
       "      <td>Harcourt</td>\n",
       "    </tr>\n",
       "    <tr>\n",
       "      <th>904</th>\n",
       "      <td>015216250X</td>\n",
       "      <td>So You Want to Be a Wizard: The First Book in ...</td>\n",
       "      <td>Diane Duane</td>\n",
       "      <td>2001</td>\n",
       "      <td>Magic Carpet Books</td>\n",
       "    </tr>\n",
       "    <tr>\n",
       "      <th>1000</th>\n",
       "      <td>0064472779</td>\n",
       "      <td>All-American Girl</td>\n",
       "      <td>Meg Cabot</td>\n",
       "      <td>2003</td>\n",
       "      <td>HarperTrophy</td>\n",
       "    </tr>\n",
       "    <tr>\n",
       "      <th>1302</th>\n",
       "      <td>0345307674</td>\n",
       "      <td>Return of the Jedi (Star Wars)</td>\n",
       "      <td>James Kahn</td>\n",
       "      <td>1983</td>\n",
       "      <td>Del Rey Books</td>\n",
       "    </tr>\n",
       "    <tr>\n",
       "      <th>1472</th>\n",
       "      <td>0671527215</td>\n",
       "      <td>Hitchhikers's Guide to the Galaxy</td>\n",
       "      <td>Douglas Adams</td>\n",
       "      <td>1984</td>\n",
       "      <td>Pocket</td>\n",
       "    </tr>\n",
       "  </tbody>\n",
       "</table>\n",
       "</div>"
      ],
      "text/plain": [
       "            ISBN                                          bookTitle  \\\n",
       "246   0151008116                                         Life of Pi   \n",
       "904   015216250X  So You Want to Be a Wizard: The First Book in ...   \n",
       "1000  0064472779                                  All-American Girl   \n",
       "1302  0345307674                     Return of the Jedi (Star Wars)   \n",
       "1472  0671527215                  Hitchhikers's Guide to the Galaxy   \n",
       "\n",
       "         bookAuthor  yearOfPublication           publisher  \n",
       "246     Yann Martel               2002            Harcourt  \n",
       "904     Diane Duane               2001  Magic Carpet Books  \n",
       "1000      Meg Cabot               2003        HarperTrophy  \n",
       "1302     James Kahn               1983       Del Rey Books  \n",
       "1472  Douglas Adams               1984              Pocket  "
      ]
     },
     "execution_count": 104,
     "metadata": {},
     "output_type": "execute_result"
    }
   ],
   "source": [
    "book_data.head()"
   ]
  },
  {
   "cell_type": "code",
   "execution_count": 105,
   "metadata": {},
   "outputs": [],
   "source": [
    "user_full_info = user_data.join(book_data.set_index('ISBN'), on='ISBN').reset_index(drop=True)"
   ]
  },
  {
   "cell_type": "code",
   "execution_count": 106,
   "metadata": {
    "scrolled": true
   },
   "outputs": [
    {
     "data": {
      "text/html": [
       "<div>\n",
       "<style scoped>\n",
       "    .dataframe tbody tr th:only-of-type {\n",
       "        vertical-align: middle;\n",
       "    }\n",
       "\n",
       "    .dataframe tbody tr th {\n",
       "        vertical-align: top;\n",
       "    }\n",
       "\n",
       "    .dataframe thead th {\n",
       "        text-align: right;\n",
       "    }\n",
       "</style>\n",
       "<table border=\"1\" class=\"dataframe\">\n",
       "  <thead>\n",
       "    <tr style=\"text-align: right;\">\n",
       "      <th></th>\n",
       "      <th>userID</th>\n",
       "      <th>ISBN</th>\n",
       "      <th>bookRating</th>\n",
       "      <th>bookTitle</th>\n",
       "      <th>bookAuthor</th>\n",
       "      <th>yearOfPublication</th>\n",
       "      <th>publisher</th>\n",
       "    </tr>\n",
       "  </thead>\n",
       "  <tbody>\n",
       "    <tr>\n",
       "      <th>0</th>\n",
       "      <td>2110</td>\n",
       "      <td>0060987529</td>\n",
       "      <td>7</td>\n",
       "      <td>Confessions of an Ugly Stepsister : A Novel</td>\n",
       "      <td>Gregory Maguire</td>\n",
       "      <td>2000</td>\n",
       "      <td>Regan Books</td>\n",
       "    </tr>\n",
       "    <tr>\n",
       "      <th>1</th>\n",
       "      <td>2110</td>\n",
       "      <td>0064472779</td>\n",
       "      <td>8</td>\n",
       "      <td>All-American Girl</td>\n",
       "      <td>Meg Cabot</td>\n",
       "      <td>2003</td>\n",
       "      <td>HarperTrophy</td>\n",
       "    </tr>\n",
       "    <tr>\n",
       "      <th>2</th>\n",
       "      <td>2110</td>\n",
       "      <td>0140022651</td>\n",
       "      <td>10</td>\n",
       "      <td>Journey to the Center of the Earth</td>\n",
       "      <td>Jules Verne</td>\n",
       "      <td>1965</td>\n",
       "      <td>Penguin Books</td>\n",
       "    </tr>\n",
       "    <tr>\n",
       "      <th>3</th>\n",
       "      <td>2110</td>\n",
       "      <td>0142302163</td>\n",
       "      <td>8</td>\n",
       "      <td>The Ghost Sitter</td>\n",
       "      <td>Peni R. Griffin</td>\n",
       "      <td>2002</td>\n",
       "      <td>Puffin Books</td>\n",
       "    </tr>\n",
       "    <tr>\n",
       "      <th>4</th>\n",
       "      <td>2110</td>\n",
       "      <td>0151008116</td>\n",
       "      <td>5</td>\n",
       "      <td>Life of Pi</td>\n",
       "      <td>Yann Martel</td>\n",
       "      <td>2002</td>\n",
       "      <td>Harcourt</td>\n",
       "    </tr>\n",
       "  </tbody>\n",
       "</table>\n",
       "</div>"
      ],
      "text/plain": [
       "   userID        ISBN  bookRating  \\\n",
       "0    2110  0060987529           7   \n",
       "1    2110  0064472779           8   \n",
       "2    2110  0140022651          10   \n",
       "3    2110  0142302163           8   \n",
       "4    2110  0151008116           5   \n",
       "\n",
       "                                     bookTitle       bookAuthor  \\\n",
       "0  Confessions of an Ugly Stepsister : A Novel  Gregory Maguire   \n",
       "1                            All-American Girl        Meg Cabot   \n",
       "2           Journey to the Center of the Earth      Jules Verne   \n",
       "3                             The Ghost Sitter  Peni R. Griffin   \n",
       "4                                   Life of Pi      Yann Martel   \n",
       "\n",
       "   yearOfPublication      publisher  \n",
       "0               2000    Regan Books  \n",
       "1               2003   HarperTrophy  \n",
       "2               1965  Penguin Books  \n",
       "3               2002   Puffin Books  \n",
       "4               2002       Harcourt  "
      ]
     },
     "execution_count": 106,
     "metadata": {},
     "output_type": "execute_result"
    }
   ],
   "source": [
    "user_full_info.head()"
   ]
  },
  {
   "cell_type": "markdown",
   "metadata": {},
   "source": [
    "### Get top 10 recommendations for above given userID from the books not already rated by that user"
   ]
  },
  {
   "cell_type": "code",
   "execution_count": 110,
   "metadata": {},
   "outputs": [
    {
     "ename": "MemoryError",
     "evalue": "",
     "output_type": "error",
     "traceback": [
      "\u001b[1;31m---------------------------------------------------------------------------\u001b[0m",
      "\u001b[1;31mMemoryError\u001b[0m                               Traceback (most recent call last)",
      "\u001b[1;32m<ipython-input-110-268e8b70a544>\u001b[0m in \u001b[0;36m<module>\u001b[1;34m\u001b[0m\n\u001b[1;32m----> 1\u001b[1;33m \u001b[0mtset\u001b[0m \u001b[1;33m=\u001b[0m \u001b[0mtrainset_full\u001b[0m\u001b[1;33m.\u001b[0m\u001b[0mbuild_anti_testset\u001b[0m\u001b[1;33m(\u001b[0m\u001b[1;33m)\u001b[0m\u001b[1;33m\u001b[0m\u001b[1;33m\u001b[0m\u001b[0m\n\u001b[0m",
      "\u001b[1;32mc:\\users\\sumug\\appdata\\local\\programs\\python\\python37-32\\lib\\site-packages\\surprise\\trainset.py\u001b[0m in \u001b[0;36mbuild_anti_testset\u001b[1;34m(self, fill)\u001b[0m\n\u001b[0;32m    230\u001b[0m             \u001b[0muser_items\u001b[0m \u001b[1;33m=\u001b[0m \u001b[0mset\u001b[0m\u001b[1;33m(\u001b[0m\u001b[1;33m[\u001b[0m\u001b[0mj\u001b[0m \u001b[1;32mfor\u001b[0m \u001b[1;33m(\u001b[0m\u001b[0mj\u001b[0m\u001b[1;33m,\u001b[0m \u001b[0m_\u001b[0m\u001b[1;33m)\u001b[0m \u001b[1;32min\u001b[0m \u001b[0mself\u001b[0m\u001b[1;33m.\u001b[0m\u001b[0mur\u001b[0m\u001b[1;33m[\u001b[0m\u001b[0mu\u001b[0m\u001b[1;33m]\u001b[0m\u001b[1;33m]\u001b[0m\u001b[1;33m)\u001b[0m\u001b[1;33m\u001b[0m\u001b[1;33m\u001b[0m\u001b[0m\n\u001b[0;32m    231\u001b[0m             anti_testset += [(self.to_raw_uid(u), self.to_raw_iid(i), fill) for\n\u001b[1;32m--> 232\u001b[1;33m                              \u001b[0mi\u001b[0m \u001b[1;32min\u001b[0m \u001b[0mself\u001b[0m\u001b[1;33m.\u001b[0m\u001b[0mall_items\u001b[0m\u001b[1;33m(\u001b[0m\u001b[1;33m)\u001b[0m \u001b[1;32mif\u001b[0m\u001b[1;33m\u001b[0m\u001b[1;33m\u001b[0m\u001b[0m\n\u001b[0m\u001b[0;32m    233\u001b[0m                              i not in user_items]\n\u001b[0;32m    234\u001b[0m         \u001b[1;32mreturn\u001b[0m \u001b[0manti_testset\u001b[0m\u001b[1;33m\u001b[0m\u001b[1;33m\u001b[0m\u001b[0m\n",
      "\u001b[1;31mMemoryError\u001b[0m: "
     ]
    }
   ],
   "source": [
    "tset = trainset_full.build_anti_testset()"
   ]
  },
  {
   "cell_type": "code",
   "execution_count": null,
   "metadata": {},
   "outputs": [],
   "source": []
  }
 ],
 "metadata": {
  "kernelspec": {
   "display_name": "Python 3",
   "language": "python",
   "name": "python3"
  },
  "language_info": {
   "codemirror_mode": {
    "name": "ipython",
    "version": 3
   },
   "file_extension": ".py",
   "mimetype": "text/x-python",
   "name": "python",
   "nbconvert_exporter": "python",
   "pygments_lexer": "ipython3",
   "version": "3.7.1"
  }
 },
 "nbformat": 4,
 "nbformat_minor": 2
}
