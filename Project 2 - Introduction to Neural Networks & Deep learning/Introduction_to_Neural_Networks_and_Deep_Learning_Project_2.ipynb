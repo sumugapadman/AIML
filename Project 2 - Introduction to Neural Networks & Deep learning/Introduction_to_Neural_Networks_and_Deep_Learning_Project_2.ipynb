{
  "nbformat": 4,
  "nbformat_minor": 0,
  "metadata": {
    "colab": {
      "name": "Introduction to Neural Networks and Deep Learning Project 2.ipynb",
      "version": "0.3.2",
      "provenance": [],
      "collapsed_sections": []
    },
    "kernelspec": {
      "name": "python3",
      "display_name": "Python 3"
    }
  },
  "cells": [
    {
      "cell_type": "markdown",
      "metadata": {
        "id": "MAcNn22bM3B6",
        "colab_type": "text"
      },
      "source": [
        "\n",
        "Please find below the Project 2 for  Introduction to Neural Networks and Deep Learning course. This is an individual assignment. Kindly submit it before it's deadline.\n",
        "\n",
        "PFB the link to the project brief:\n",
        "\n",
        "NN_Project2_Brief.pdfView in a new window\n",
        "\n",
        "Link to the dataset:\n",
        "https://drive.google.com/file/d/1L2-WXzguhUsCArrFUc8EEkXcj33pahoS/view?usp=sharing (Links to an external site.)Links to an external site."
      ]
    },
    {
      "cell_type": "markdown",
      "metadata": {
        "id": "vtJIwatXWLqQ",
        "colab_type": "text"
      },
      "source": [
        "## Project Objectve \n",
        "\n",
        "The objective of the project is to learn how to implement a simple image classification pipeline based on the k-Nearest Neighbour and a deep neural network. The goals of this assignment are as follows:      \n",
        "- Understand the basic Image Classification pipeline and the data-driven approach (train/predict stages) \n",
        "- Data fetching and understand the train/val/test splits. \n",
        "- Implement and apply an optimal k-Nearest Neighbor (kNN) classifier (7.5 points) \n",
        "- Print the classification metric report (2.5 points) \n",
        "- Implement and apply a deep neural network classifier including (feedforward  neural network, RELU activations) (5 points) \n",
        "-  Understand and be able to implement (vectorized) backpropagation (cost stochastic gradient descent, cross entropy loss, cost functions) (2.5 points) \n",
        "-  Implement batch normalization for training the neural network (2.5 points)  "
      ]
    },
    {
      "cell_type": "code",
      "metadata": {
        "id": "10HMbe9lM7s3",
        "colab_type": "code",
        "colab": {
          "base_uri": "https://localhost:8080/",
          "height": 122
        },
        "outputId": "334a7a97-cfaf-4134-c9e8-c4257069a408"
      },
      "source": [
        "from google.colab import drive\n",
        "drive.mount('/content/drive')"
      ],
      "execution_count": 1,
      "outputs": [
        {
          "output_type": "stream",
          "text": [
            "Go to this URL in a browser: https://accounts.google.com/o/oauth2/auth?client_id=947318989803-6bn6qk8qdgf4n4g3pfee6491hc0brc4i.apps.googleusercontent.com&redirect_uri=urn%3Aietf%3Awg%3Aoauth%3A2.0%3Aoob&scope=email%20https%3A%2F%2Fwww.googleapis.com%2Fauth%2Fdocs.test%20https%3A%2F%2Fwww.googleapis.com%2Fauth%2Fdrive%20https%3A%2F%2Fwww.googleapis.com%2Fauth%2Fdrive.photos.readonly%20https%3A%2F%2Fwww.googleapis.com%2Fauth%2Fpeopleapi.readonly&response_type=code\n",
            "\n",
            "Enter your authorization code:\n",
            "··········\n",
            "Mounted at /content/drive\n"
          ],
          "name": "stdout"
        }
      ]
    },
    {
      "cell_type": "code",
      "metadata": {
        "id": "5MkNepskXaLg",
        "colab_type": "code",
        "colab": {
          "base_uri": "https://localhost:8080/",
          "height": 34
        },
        "outputId": "fb03f7af-8868-4b70-945b-75acce446c34"
      },
      "source": [
        "import h5py\n",
        "import pandas as pd\n",
        "import numpy as np\n",
        "import matplotlib.pylab as plt\n",
        "from __future__ import print_function\n",
        "import keras\n",
        "import keras.optimizers as opt\n",
        "from keras.preprocessing.image import ImageDataGenerator\n",
        "from keras.models import Sequential\n",
        "from keras.layers import Dense, Dropout, Activation, Flatten,BatchNormalization\n",
        "from keras.layers import Conv2D, MaxPooling2D\n",
        "import os\n",
        "import tensorflow as tf\n",
        "from tensorflow import keras\n",
        "from keras.models import Sequential\n",
        "from sklearn.neighbors import KNeighborsClassifier\n",
        "from sklearn.metrics import classification_report\n",
        "from sklearn import datasets\n",
        "from skimage import exposure\n",
        "import numpy as np\n",
        "import imutils\n",
        "import cv2\n",
        "import sklearn"
      ],
      "execution_count": 2,
      "outputs": [
        {
          "output_type": "stream",
          "text": [
            "Using TensorFlow backend.\n"
          ],
          "name": "stderr"
        }
      ]
    },
    {
      "cell_type": "code",
      "metadata": {
        "id": "ecX63t2AXrX1",
        "colab_type": "code",
        "colab": {
          "base_uri": "https://localhost:8080/",
          "height": 34
        },
        "outputId": "e018df17-2430-4db2-eea8-585d3ba3d7c5"
      },
      "source": [
        "# Datasets \n",
        "\n",
        "!ls \"/content/drive/My Drive/SVHNN\""
      ],
      "execution_count": 3,
      "outputs": [
        {
          "output_type": "stream",
          "text": [
            "SVHN_single_grey1.h5\n"
          ],
          "name": "stdout"
        }
      ]
    },
    {
      "cell_type": "code",
      "metadata": {
        "id": "KJqhLxc4YXzL",
        "colab_type": "code",
        "colab": {}
      },
      "source": [
        "filename = '/content/drive/My Drive/SVHNN/SVHN_single_grey1.h5'\n",
        "root_dir = '/content/drive/My Drive/'"
      ],
      "execution_count": 0,
      "outputs": []
    },
    {
      "cell_type": "code",
      "metadata": {
        "id": "CRLrR6e1Yb6Y",
        "colab_type": "code",
        "colab": {
          "base_uri": "https://localhost:8080/",
          "height": 51
        },
        "outputId": "58c6c450-ee27-43f8-a658-20e008f263cf"
      },
      "source": [
        "fl = h5py.File(filename, 'r')\n",
        "print(list(fl.keys()))\n",
        "\n",
        "img_train = fl[u'X_train']\n",
        "img_test = fl[u'X_test']\n",
        "img_val = fl[u'X_val']\n",
        "\n",
        "lbl_train = fl[u'y_train']\n",
        "lbl_test = fl[u'y_test']\n",
        "lbl_val = fl[u'y_val']\n",
        "\n",
        "img_train.shape,img_test.shape,img_val.shape, lbl_train.shape,lbl_test.shape"
      ],
      "execution_count": 5,
      "outputs": [
        {
          "output_type": "stream",
          "text": [
            "['X_test', 'X_train', 'X_val', 'y_test', 'y_train', 'y_val']\n"
          ],
          "name": "stdout"
        },
        {
          "output_type": "execute_result",
          "data": {
            "text/plain": [
              "((42000, 32, 32), (18000, 32, 32), (60000, 32, 32), (42000,), (18000,))"
            ]
          },
          "metadata": {
            "tags": []
          },
          "execution_count": 5
        }
      ]
    },
    {
      "cell_type": "code",
      "metadata": {
        "id": "fmEyiLtRYpte",
        "colab_type": "code",
        "colab": {
          "base_uri": "https://localhost:8080/",
          "height": 51
        },
        "outputId": "e64befce-9b3a-4294-dbc1-2d7666a96a51"
      },
      "source": [
        "# retrieve the train ,test images and reshape them.\n",
        "\n",
        "x_train = np.array(img_train)\n",
        "x_test = np.array(img_test)\n",
        "x_val=np.array(img_val)\n",
        "\n",
        "#reshape data to fit model\n",
        "x_train = x_train.reshape(42000,32,32,1)\n",
        "x_test = x_test.reshape(18000,32,32,1)\n",
        "x_val=x_val.reshape(60000,32,32,1)\n",
        "\n",
        "print(x_test.shape)\n",
        "print(x_train.shape)"
      ],
      "execution_count": 6,
      "outputs": [
        {
          "output_type": "stream",
          "text": [
            "(18000, 32, 32, 1)\n",
            "(42000, 32, 32, 1)\n"
          ],
          "name": "stdout"
        }
      ]
    },
    {
      "cell_type": "code",
      "metadata": {
        "id": "8HstCCVbYtE-",
        "colab_type": "code",
        "colab": {}
      },
      "source": [
        "def image_resize(image, width = None, height = None, inter = cv2.INTER_AREA):\n",
        "    # initialize the dimensions of the image to be resized and\n",
        "    # grab the image size\n",
        "    dim = None\n",
        "    (h, w) = image.shape[:2]\n",
        "\n",
        "    # if both the width and height are None, then return the\n",
        "    # original image\n",
        "    if width is None and height is None:\n",
        "        return image\n",
        "\n",
        "    # check to see if the width is None\n",
        "    if width is None:\n",
        "        # calculate the ratio of the height and construct the\n",
        "        # dimensions\n",
        "        r = height / float(h)\n",
        "        dim = (int(w * r), height)\n",
        "\n",
        "    # otherwise, the height is None\n",
        "    else:\n",
        "        # calculate the ratio of the width and construct the\n",
        "        # dimensions\n",
        "        r = width / float(w)\n",
        "        dim = (width, int(h * r))\n",
        "\n",
        "    # resize the image\n",
        "    resized = cv2.resize(image, dim, interpolation = inter)\n",
        "\n",
        "    # return the resized image\n",
        "    return resized"
      ],
      "execution_count": 0,
      "outputs": []
    },
    {
      "cell_type": "code",
      "metadata": {
        "id": "7Hha7gvsYwf6",
        "colab_type": "code",
        "colab": {
          "base_uri": "https://localhost:8080/",
          "height": 286
        },
        "outputId": "229c0064-4730-4cbf-df2d-f7bea54771c1"
      },
      "source": [
        "print(lbl_train[1000])\n",
        "plt.imshow(x_train[1000].reshape(32,32));"
      ],
      "execution_count": 8,
      "outputs": [
        {
          "output_type": "stream",
          "text": [
            "6\n"
          ],
          "name": "stdout"
        },
        {
          "output_type": "display_data",
          "data": {
            "image/png": "[encoded data removed]",
            "text/plain": [
              "<Figure size 432x288 with 1 Axes>"
            ]
          },
          "metadata": {
            "tags": []
          }
        }
      ]
    },
    {
      "cell_type": "code",
      "metadata": {
        "id": "8ZjoAbjLZV0n",
        "colab_type": "code",
        "colab": {
          "base_uri": "https://localhost:8080/",
          "height": 34
        },
        "outputId": "c8b8e00b-e686-4247-bfdb-b754a7b35233"
      },
      "source": [
        "# Convert class vectors to binary class matrices.\n",
        "y_train = keras.utils.to_categorical(lbl_train, 10)\n",
        "y_test = keras.utils.to_categorical(lbl_test, 10)\n",
        "\n",
        "print(y_train.shape,y_test.shape)"
      ],
      "execution_count": 9,
      "outputs": [
        {
          "output_type": "stream",
          "text": [
            "(42000, 10) (18000, 10)\n"
          ],
          "name": "stdout"
        }
      ]
    },
    {
      "cell_type": "code",
      "metadata": {
        "id": "OMDUOosZZaDA",
        "colab_type": "code",
        "colab": {
          "base_uri": "https://localhost:8080/",
          "height": 108
        },
        "outputId": "ba25a90d-4efa-4df3-a1cb-77a38b229a4a"
      },
      "source": [
        "def plot_images(img, labels, nrows, ncols):\n",
        "    \"\"\" Plot nrows x ncols images\n",
        "    \"\"\"\n",
        "    fig, axes = plt.subplots(nrows, ncols)\n",
        "    for i, ax in enumerate(axes.flat): \n",
        "        if img[i].shape == (32, 32, 3):\n",
        "            ax.imshow(img[i])\n",
        "        else:\n",
        "            ax.imshow(img[i,:,:,0])\n",
        "        ax.set_xticks([]); ax.set_yticks([])\n",
        "        ax.set_title(labels[i])\n",
        "        \n",
        "plot_images(x_train, lbl_train, 1, 5)"
      ],
      "execution_count": 10,
      "outputs": [
        {
          "output_type": "display_data",
          "data": {
            "image/png": "[encoded data removed]",
            "text/plain": [
              "<Figure size 432x288 with 5 Axes>"
            ]
          },
          "metadata": {
            "tags": []
          }
        }
      ]
    },
    {
      "cell_type": "code",
      "metadata": {
        "id": "C58_G8UKZcHW",
        "colab_type": "code",
        "colab": {
          "base_uri": "https://localhost:8080/",
          "height": 68
        },
        "outputId": "52d87134-38ac-44c5-b68e-e4c8c5df09ea"
      },
      "source": [
        "# normalize the data\n",
        "\n",
        "train_mean = np.mean(x_train, axis=0) #Shape (32,1)\n",
        "train_std = np.std(x_train, axis=0) #Shape (32,1)\n",
        "x_train_norm = (x_train - train_mean) / train_std\n",
        "x_train_255 = np.divide(x_train, 255)\n",
        "x_train_255 = np.array(x_train_255)\n",
        "\n",
        "x_test_255 = np.divide(x_test, 255)\n",
        "x_test_255 = np.array(x_test_255)\n",
        "\n",
        "print(\"X_train_norm Shape: \", x_train_norm.shape)\n",
        "print(\"X_train_255 Shape: \", x_train_255.shape)\n",
        "print(\"X_test_255 Shape: \", x_test_255.shape)"
      ],
      "execution_count": 11,
      "outputs": [
        {
          "output_type": "stream",
          "text": [
            "X_train_norm Shape:  (42000, 32, 32, 1)\n",
            "X_train_255 Shape:  (42000, 32, 32, 1)\n",
            "X_test_255 Shape:  (18000, 32, 32, 1)\n"
          ],
          "name": "stdout"
        }
      ]
    },
    {
      "cell_type": "code",
      "metadata": {
        "id": "BS30LUT2ZeHk",
        "colab_type": "code",
        "colab": {
          "base_uri": "https://localhost:8080/",
          "height": 51
        },
        "outputId": "8577f089-bf33-464a-b684-cac11ac29741"
      },
      "source": [
        "# Convert 3d images into 2d \n",
        "nsamples, nx, ny, gsc = x_train.shape\n",
        "msamples,mx,my,mgsc = x_test.shape\n",
        "xtrain = x_train.reshape((nsamples,nx*ny))\n",
        "xtest = x_test.reshape((msamples,mx*my))\n",
        "\n",
        "print(\"Xtrain 32*32: \", xtrain.shape)\n",
        "print(\"Xtest32*32: \", xtest.shape)"
      ],
      "execution_count": 12,
      "outputs": [
        {
          "output_type": "stream",
          "text": [
            "Xtrain 32*32:  (42000, 1024)\n",
            "Xtest32*32:  (18000, 1024)\n"
          ],
          "name": "stdout"
        }
      ]
    },
    {
      "cell_type": "code",
      "metadata": {
        "id": "h8cnGSfCZgdD",
        "colab_type": "code",
        "colab": {}
      },
      "source": [
        "# initialize the values of k for our k-Nearest Neighbor classifier along with the\n",
        "# list of accuracies for each value of k\n",
        "kVals = range(1, 30, 2)\n",
        "accuracies = []"
      ],
      "execution_count": 0,
      "outputs": []
    },
    {
      "cell_type": "code",
      "metadata": {
        "id": "5kk9W1iIZjy7",
        "colab_type": "code",
        "colab": {
          "base_uri": "https://localhost:8080/",
          "height": 289
        },
        "outputId": "8c9ba267-b160-491e-da35-8c1dff52fb17"
      },
      "source": [
        "# loop over kVals\n",
        "for k in range(1, 30, 2):\n",
        "# train the classifier with the current value of `k`\n",
        "  model = KNeighborsClassifier(n_neighbors=k ,algorithm='brute',weights='distance')\n",
        "  model.fit(xtrain, y_train)\n",
        "\n",
        "    # evaluate the model and print the accuracies list\n",
        "  score = model.score(xtest, y_test)\n",
        "  print(\"k=%d, accuracy=%.2f%%\" % (k, score * 100))\n",
        "  accuracies.append(score)\n",
        "    \n",
        "# largest accuracy\n",
        "# np.argmax returns the indices of the maximum values along an axis\n",
        "i = np.argmax(accuracies)\n",
        "print(\"k=%d achieved highest accuracy of %.2f%% on validation data\" % (kVals[i],accuracies[i] * 100))"
      ],
      "execution_count": 14,
      "outputs": [
        {
          "output_type": "stream",
          "text": [
            "k=1, accuracy=45.92%\n",
            "k=3, accuracy=37.87%\n",
            "k=5, accuracy=32.44%\n",
            "k=7, accuracy=28.76%\n",
            "k=9, accuracy=26.04%\n",
            "k=11, accuracy=23.69%\n",
            "k=13, accuracy=21.72%\n",
            "k=15, accuracy=20.14%\n",
            "k=17, accuracy=18.74%\n",
            "k=19, accuracy=17.53%\n",
            "k=21, accuracy=16.38%\n",
            "k=23, accuracy=15.39%\n",
            "k=25, accuracy=14.59%\n",
            "k=27, accuracy=13.69%\n",
            "k=29, accuracy=13.14%\n",
            "k=1 achieved highest accuracy of 45.92% on validation data\n"
          ],
          "name": "stdout"
        }
      ]
    },
    {
      "cell_type": "code",
      "metadata": {
        "id": "MydFx0NzZnit",
        "colab_type": "code",
        "colab": {
          "base_uri": "https://localhost:8080/",
          "height": 357
        },
        "outputId": "bf77044d-b58d-4b9e-a1f7-c51fcfbe2aff"
      },
      "source": [
        "\n",
        "# K value 1 gave the high accuracy. Use the 32*32 image source\n",
        "\n",
        "model = KNeighborsClassifier(n_neighbors=1,algorithm='brute')\n",
        "model.fit(xtrain, y_train)\n",
        "predictions = model.predict(xtest)\n",
        "\n",
        "score = model.score(xtest, y_test)\n",
        "print(\"Accuracy=\" , (score * 100))\n",
        "print(\"EVALUATION ON TESTING DATA\")\n",
        "print(classification_report(y_test, predictions))"
      ],
      "execution_count": 15,
      "outputs": [
        {
          "output_type": "stream",
          "text": [
            "Accuracy= 45.916666666666664\n",
            "EVALUATION ON TESTING DATA\n",
            "              precision    recall  f1-score   support\n",
            "\n",
            "           0       0.47      0.52      0.49      1814\n",
            "           1       0.50      0.57      0.53      1828\n",
            "           2       0.54      0.48      0.51      1803\n",
            "           3       0.37      0.35      0.36      1719\n",
            "           4       0.60      0.57      0.59      1812\n",
            "           5       0.38      0.33      0.36      1768\n",
            "           6       0.38      0.39      0.39      1832\n",
            "           7       0.63      0.59      0.61      1808\n",
            "           8       0.34      0.37      0.36      1812\n",
            "           9       0.39      0.40      0.40      1804\n",
            "\n",
            "   micro avg       0.46      0.46      0.46     18000\n",
            "   macro avg       0.46      0.46      0.46     18000\n",
            "weighted avg       0.46      0.46      0.46     18000\n",
            " samples avg       0.46      0.46      0.46     18000\n",
            "\n"
          ],
          "name": "stdout"
        }
      ]
    },
    {
      "cell_type": "code",
      "metadata": {
        "id": "IFjav_nbocu5",
        "colab_type": "code",
        "colab": {
          "base_uri": "https://localhost:8080/",
          "height": 238
        },
        "outputId": "d1bad4e4-49b9-4d75-b2d6-7b84c7c75421"
      },
      "source": [
        "from keras.constraints import max_norm\n",
        "model2 = Sequential()\n",
        "model2.add(Conv2D(32, (3, 3), strides=1, activation='relu',input_shape=(32, 32, 1), kernel_constraint=max_norm(3)))\n",
        "model2.add(MaxPooling2D(pool_size=(3, 3), strides=2))\n",
        "model2.add(Conv2D(64, (3, 3), activation='relu', strides=1, kernel_constraint=max_norm(3)))\n",
        "model2.add(MaxPooling2D(pool_size=(3, 3), strides=2))\n",
        "model2.add(Conv2D(128, (3, 3), activation='relu', strides=1, kernel_constraint=max_norm(3)))\n",
        "model2.add(MaxPooling2D(pool_size=(3, 3), strides=2))\n",
        "model2.add(Flatten())\n",
        "model2.add(Dense(512))\n",
        "model2.add(Activation('relu'))\n",
        "model2.add(Dense(10))\n",
        "model2.add(Activation('softmax'))\n",
        "\n",
        "model2.compile(loss='categorical_crossentropy',\n",
        "              optimizer='adam',\n",
        "              metrics=['accuracy'])\n",
        "\n",
        "# Store Training Results\n",
        "early_stopping = keras.callbacks.EarlyStopping(monitor='acc', patience=3, verbose=1, mode='auto')\n",
        "callback_list = [early_stopping]# [stats, early_stopping]"
      ],
      "execution_count": 16,
      "outputs": [
        {
          "output_type": "stream",
          "text": [
            "WARNING: Logging before flag parsing goes to stderr.\n",
            "W0805 07:26:28.234192 140515774850944 deprecation_wrapper.py:119] From /usr/local/lib/python3.6/dist-packages/keras/backend/tensorflow_backend.py:74: The name tf.get_default_graph is deprecated. Please use tf.compat.v1.get_default_graph instead.\n",
            "\n",
            "W0805 07:26:28.297349 140515774850944 deprecation_wrapper.py:119] From /usr/local/lib/python3.6/dist-packages/keras/backend/tensorflow_backend.py:517: The name tf.placeholder is deprecated. Please use tf.compat.v1.placeholder instead.\n",
            "\n",
            "W0805 07:26:28.309251 140515774850944 deprecation_wrapper.py:119] From /usr/local/lib/python3.6/dist-packages/keras/backend/tensorflow_backend.py:4138: The name tf.random_uniform is deprecated. Please use tf.random.uniform instead.\n",
            "\n",
            "W0805 07:26:28.360197 140515774850944 deprecation_wrapper.py:119] From /usr/local/lib/python3.6/dist-packages/keras/backend/tensorflow_backend.py:3976: The name tf.nn.max_pool is deprecated. Please use tf.nn.max_pool2d instead.\n",
            "\n",
            "W0805 07:26:28.430806 140515774850944 deprecation_wrapper.py:119] From /usr/local/lib/python3.6/dist-packages/keras/optimizers.py:790: The name tf.train.Optimizer is deprecated. Please use tf.compat.v1.train.Optimizer instead.\n",
            "\n",
            "W0805 07:26:28.457246 140515774850944 deprecation_wrapper.py:119] From /usr/local/lib/python3.6/dist-packages/keras/backend/tensorflow_backend.py:3295: The name tf.log is deprecated. Please use tf.math.log instead.\n",
            "\n"
          ],
          "name": "stderr"
        }
      ]
    },
    {
      "cell_type": "code",
      "metadata": {
        "id": "NkoTF8gqrB7d",
        "colab_type": "code",
        "colab": {
          "base_uri": "https://localhost:8080/",
          "height": 459
        },
        "outputId": "e30bcbad-bcb9-4964-abea-3950876c5121"
      },
      "source": [
        "model2.fit(x_train_255, y_train,batch_size=32,epochs=10, callbacks=callback_list, verbose=True)"
      ],
      "execution_count": 17,
      "outputs": [
        {
          "output_type": "stream",
          "text": [
            "W0805 07:26:57.034713 140515774850944 deprecation.py:323] From /usr/local/lib/python3.6/dist-packages/tensorflow/python/ops/math_grad.py:1250: add_dispatch_support.<locals>.wrapper (from tensorflow.python.ops.array_ops) is deprecated and will be removed in a future version.\n",
            "Instructions for updating:\n",
            "Use tf.where in 2.0, which has the same broadcast rule as np.where\n",
            "W0805 07:26:57.109011 140515774850944 deprecation_wrapper.py:119] From /usr/local/lib/python3.6/dist-packages/keras/backend/tensorflow_backend.py:986: The name tf.assign_add is deprecated. Please use tf.compat.v1.assign_add instead.\n",
            "\n"
          ],
          "name": "stderr"
        },
        {
          "output_type": "stream",
          "text": [
            "Epoch 1/10\n",
            "42000/42000 [==============================] - 53s 1ms/step - loss: 1.3141 - acc: 0.5477\n",
            "Epoch 2/10\n",
            "42000/42000 [==============================] - 53s 1ms/step - loss: 0.5903 - acc: 0.8234\n",
            "Epoch 3/10\n",
            "42000/42000 [==============================] - 51s 1ms/step - loss: 0.4619 - acc: 0.8618\n",
            "Epoch 4/10\n",
            "42000/42000 [==============================] - 51s 1ms/step - loss: 0.3923 - acc: 0.8833\n",
            "Epoch 5/10\n",
            "42000/42000 [==============================] - 52s 1ms/step - loss: 0.3525 - acc: 0.8934\n",
            "Epoch 6/10\n",
            "42000/42000 [==============================] - 53s 1ms/step - loss: 0.3188 - acc: 0.9042\n",
            "Epoch 7/10\n",
            "42000/42000 [==============================] - 52s 1ms/step - loss: 0.2985 - acc: 0.9092\n",
            "Epoch 8/10\n",
            "42000/42000 [==============================] - 52s 1ms/step - loss: 0.2765 - acc: 0.9150\n",
            "Epoch 9/10\n",
            "42000/42000 [==============================] - 51s 1ms/step - loss: 0.2583 - acc: 0.9203\n",
            "Epoch 10/10\n",
            "42000/42000 [==============================] - 51s 1ms/step - loss: 0.2430 - acc: 0.9260\n"
          ],
          "name": "stdout"
        },
        {
          "output_type": "execute_result",
          "data": {
            "text/plain": [
              "<keras.callbacks.History at 0x7fcc0be86e80>"
            ]
          },
          "metadata": {
            "tags": []
          },
          "execution_count": 17
        }
      ]
    },
    {
      "cell_type": "code",
      "metadata": {
        "id": "DFjxcl1mrI7z",
        "colab_type": "code",
        "colab": {
          "base_uri": "https://localhost:8080/",
          "height": 68
        },
        "outputId": "a3d32403-7866-4a2b-d412-41444615fa95"
      },
      "source": [
        "print('Evaluation')\n",
        "loss, acc = model2.evaluate(x_test_255,y_test,batch_size=32)\n",
        "print('Test loss / test accuracy = {:.4f} / {:.4f}'.format(loss, acc))"
      ],
      "execution_count": 18,
      "outputs": [
        {
          "output_type": "stream",
          "text": [
            "Evaluation\n",
            "18000/18000 [==============================] - 6s 307us/step\n",
            "Test loss / test accuracy = 0.3874 / 0.8923\n"
          ],
          "name": "stdout"
        }
      ]
    },
    {
      "cell_type": "code",
      "metadata": {
        "id": "bggK9DIVtV3b",
        "colab_type": "code",
        "colab": {
          "base_uri": "https://localhost:8080/",
          "height": 68
        },
        "outputId": "7d2912c8-20d5-458f-967e-668a7d22bcf2"
      },
      "source": [
        "#Model with relu\n",
        "\n",
        "model = Sequential()\n",
        "model.add(Conv2D(32, (3, 3), padding='same',\n",
        "                 input_shape=x_train.shape[1:]))\n",
        "model.add(Activation('relu'))\n",
        "\n",
        "model.add(Conv2D(32, (3, 3)))\n",
        "model.add(Activation('relu'))\n",
        "model.add(MaxPooling2D(pool_size=(2, 2)))\n",
        "model.add(Dropout(0.25))\n",
        "\n",
        "model.add(Conv2D(64, (3, 3), padding='same'))\n",
        "model.add(Activation('relu'))\n",
        "\n",
        "model.add(Conv2D(64, (3, 3)))\n",
        "model.add(Activation('relu'))\n",
        "model.add(MaxPooling2D(pool_size=(2, 2)))\n",
        "model.add(Dropout(0.25))\n",
        "\n",
        "model.add(Flatten())\n",
        "model.add(Dense(512))\n",
        "model.add(Activation('relu'))\n",
        "\n",
        "model.add(Dense(10))\n",
        "model.add(Activation('softmax'))\n",
        "\n",
        "sgd_optimizer = opt.SGD(lr=0.01, decay=1e-6, momentum=0.9, nesterov=True)\n",
        "\n",
        "model.compile(optimizer=sgd_optimizer, loss='categorical_crossentropy', metrics=['accuracy'])\n",
        "\n",
        "early_stopping = keras.callbacks.EarlyStopping(monitor='acc', patience=5, verbose=1, mode='auto')\n",
        "callback_list = [early_stopping]# [stats, early_stopping]"
      ],
      "execution_count": 19,
      "outputs": [
        {
          "output_type": "stream",
          "text": [
            "W0805 07:37:06.848140 140515774850944 deprecation.py:506] From /usr/local/lib/python3.6/dist-packages/keras/backend/tensorflow_backend.py:3445: calling dropout (from tensorflow.python.ops.nn_ops) with keep_prob is deprecated and will be removed in a future version.\n",
            "Instructions for updating:\n",
            "Please use `rate` instead of `keep_prob`. Rate should be set to `rate = 1 - keep_prob`.\n"
          ],
          "name": "stderr"
        }
      ]
    },
    {
      "cell_type": "code",
      "metadata": {
        "id": "Vr-jMtYWtd1e",
        "colab_type": "code",
        "colab": {
          "base_uri": "https://localhost:8080/",
          "height": 374
        },
        "outputId": "c50cd8c1-e38a-4bc6-8300-1258ab538b1c"
      },
      "source": [
        "model.fit(x_train_255, y_train,\n",
        "              batch_size=32,\n",
        "              epochs=10,callbacks=callback_list, verbose=True)"
      ],
      "execution_count": 20,
      "outputs": [
        {
          "output_type": "stream",
          "text": [
            "Epoch 1/10\n",
            "42000/42000 [==============================] - 199s 5ms/step - loss: 2.3033 - acc: 0.1040\n",
            "Epoch 2/10\n",
            "42000/42000 [==============================] - 199s 5ms/step - loss: 1.0911 - acc: 0.6348\n",
            "Epoch 3/10\n",
            "42000/42000 [==============================] - 203s 5ms/step - loss: 0.4959 - acc: 0.8482\n",
            "Epoch 4/10\n",
            "42000/42000 [==============================] - 202s 5ms/step - loss: 0.3783 - acc: 0.8823\n",
            "Epoch 5/10\n",
            "42000/42000 [==============================] - 200s 5ms/step - loss: 0.3175 - acc: 0.9032\n",
            "Epoch 6/10\n",
            "42000/42000 [==============================] - 204s 5ms/step - loss: 0.2757 - acc: 0.9148\n",
            "Epoch 7/10\n",
            "42000/42000 [==============================] - 204s 5ms/step - loss: 0.2406 - acc: 0.9264\n",
            "Epoch 8/10\n",
            "42000/42000 [==============================] - 203s 5ms/step - loss: 0.2123 - acc: 0.9335\n",
            "Epoch 9/10\n",
            "42000/42000 [==============================] - 203s 5ms/step - loss: 0.1920 - acc: 0.9394\n",
            "Epoch 10/10\n",
            "42000/42000 [==============================] - 209s 5ms/step - loss: 0.1730 - acc: 0.9450\n"
          ],
          "name": "stdout"
        },
        {
          "output_type": "execute_result",
          "data": {
            "text/plain": [
              "<keras.callbacks.History at 0x7fcc0f3fc3c8>"
            ]
          },
          "metadata": {
            "tags": []
          },
          "execution_count": 20
        }
      ]
    },
    {
      "cell_type": "code",
      "metadata": {
        "id": "5l55GTSithCG",
        "colab_type": "code",
        "colab": {
          "base_uri": "https://localhost:8080/",
          "height": 68
        },
        "outputId": "625f8658-a78b-44c2-a69a-6d231c69874f"
      },
      "source": [
        "print('Evaluation')\n",
        "loss, acc = model.evaluate(x_test_255,y_test,batch_size=32)\n",
        "print('Test loss / test accuracy = {:.4f} / {:.4f}'.format(loss, acc))"
      ],
      "execution_count": 21,
      "outputs": [
        {
          "output_type": "stream",
          "text": [
            "Evaluation\n",
            "18000/18000 [==============================] - 22s 1ms/step\n",
            "Test loss / test accuracy = 0.3154 / 0.9163\n"
          ],
          "name": "stdout"
        }
      ]
    },
    {
      "cell_type": "code",
      "metadata": {
        "id": "WKVtYo3_2_if",
        "colab_type": "code",
        "colab": {
          "base_uri": "https://localhost:8080/",
          "height": 51
        },
        "outputId": "7846ffd4-317d-4510-85cb-259ae53863c1"
      },
      "source": [
        "# Batch Normalization & Model with SGD\n",
        "\n",
        "model_sgd = Sequential()\n",
        "model_sgd.add(Conv2D(32, (3, 3),padding='same',input_shape=x_train.shape[1:]))\n",
        "model_sgd.add(BatchNormalization())\n",
        "model_sgd.add(Activation('relu'))\n",
        "\n",
        "model_sgd.add(Conv2D(64, (5, 5),padding='same'))\n",
        "model_sgd.add(BatchNormalization())\n",
        "model_sgd.add(Activation('relu'))\n",
        "model_sgd.add(MaxPooling2D(pool_size=(2, 2)))\n",
        "model_sgd.add(Dropout(0.25))\n",
        "\n",
        "model_sgd.add(Conv2D(64, (3, 3), padding='same'))\n",
        "model_sgd.add(BatchNormalization())\n",
        "model_sgd.add(Activation('relu'))\n",
        "\n",
        "\n",
        "model_sgd.add(Conv2D(64, (3, 3),padding='same'))\n",
        "model_sgd.add(BatchNormalization())\n",
        "model_sgd.add(Activation('relu'))\n",
        "\n",
        "\n",
        "model_sgd.add(MaxPooling2D(pool_size=(2, 2)))\n",
        "model_sgd.add(Dropout(0.25))\n",
        "\n",
        "model_sgd.add(Flatten())\n",
        "model_sgd.add(Dense(512))\n",
        "model_sgd.add(Activation('relu'))\n",
        "\n",
        "model_sgd.add(Dense(10))\n",
        "model_sgd.add(Activation('softmax'))"
      ],
      "execution_count": 22,
      "outputs": [
        {
          "output_type": "stream",
          "text": [
            "W0805 08:20:13.188760 140515774850944 deprecation_wrapper.py:119] From /usr/local/lib/python3.6/dist-packages/keras/backend/tensorflow_backend.py:1834: The name tf.nn.fused_batch_norm is deprecated. Please use tf.compat.v1.nn.fused_batch_norm instead.\n",
            "\n"
          ],
          "name": "stderr"
        }
      ]
    },
    {
      "cell_type": "code",
      "metadata": {
        "id": "GoXdYky93VN8",
        "colab_type": "code",
        "colab": {}
      },
      "source": [
        "sgd_optimizer = opt.SGD(lr=0.01, decay=1e-6, momentum=0.9, nesterov=True)\n",
        "\n",
        "model_sgd.compile(optimizer=sgd_optimizer, loss='categorical_crossentropy', metrics=['accuracy'])"
      ],
      "execution_count": 0,
      "outputs": []
    },
    {
      "cell_type": "code",
      "metadata": {
        "id": "efYTAO483YAo",
        "colab_type": "code",
        "colab": {}
      },
      "source": [
        "# Training Results\n",
        "early_stopping = keras.callbacks.EarlyStopping(monitor='val_acc', patience=3, verbose=1, mode='auto')\n",
        "callback_list = [early_stopping]# [stats, early_stopping]"
      ],
      "execution_count": 0,
      "outputs": []
    },
    {
      "cell_type": "code",
      "metadata": {
        "id": "vhUt4PTX3dhh",
        "colab_type": "code",
        "colab": {
          "base_uri": "https://localhost:8080/",
          "height": 408
        },
        "outputId": "71735e03-ea4e-46df-ffa1-adb22d8c97f7"
      },
      "source": [
        "model_sgd.fit(x_train_255, y_train,batch_size=32,epochs=10,validation_data=(x_test_255, y_test), callbacks=callback_list, verbose=True)"
      ],
      "execution_count": 25,
      "outputs": [
        {
          "output_type": "stream",
          "text": [
            "Train on 42000 samples, validate on 18000 samples\n",
            "Epoch 1/10\n",
            "42000/42000 [==============================] - 869s 21ms/step - loss: 1.3184 - acc: 0.5432 - val_loss: 0.7489 - val_acc: 0.7579\n",
            "Epoch 2/10\n",
            "42000/42000 [==============================] - 857s 20ms/step - loss: 0.4384 - acc: 0.8651 - val_loss: 0.3365 - val_acc: 0.8991\n",
            "Epoch 3/10\n",
            "42000/42000 [==============================] - 866s 21ms/step - loss: 0.3213 - acc: 0.9008 - val_loss: 0.3210 - val_acc: 0.9014\n",
            "Epoch 4/10\n",
            "42000/42000 [==============================] - 817s 19ms/step - loss: 0.2561 - acc: 0.9217 - val_loss: 0.2786 - val_acc: 0.9189\n",
            "Epoch 5/10\n",
            "42000/42000 [==============================] - 826s 20ms/step - loss: 0.2170 - acc: 0.9334 - val_loss: 0.2852 - val_acc: 0.9167\n",
            "Epoch 6/10\n",
            "42000/42000 [==============================] - 823s 20ms/step - loss: 0.1850 - acc: 0.9440 - val_loss: 0.2767 - val_acc: 0.9232\n",
            "Epoch 7/10\n",
            "42000/42000 [==============================] - 827s 20ms/step - loss: 0.1600 - acc: 0.9507 - val_loss: 0.2534 - val_acc: 0.9310\n",
            "Epoch 8/10\n",
            "42000/42000 [==============================] - 822s 20ms/step - loss: 0.1403 - acc: 0.9573 - val_loss: 0.2645 - val_acc: 0.9291\n",
            "Epoch 9/10\n",
            "42000/42000 [==============================] - 853s 20ms/step - loss: 0.1175 - acc: 0.9637 - val_loss: 0.2764 - val_acc: 0.9284\n",
            "Epoch 10/10\n",
            "42000/42000 [==============================] - 863s 21ms/step - loss: 0.1012 - acc: 0.9682 - val_loss: 0.2810 - val_acc: 0.9281\n",
            "Epoch 00010: early stopping\n"
          ],
          "name": "stdout"
        },
        {
          "output_type": "execute_result",
          "data": {
            "text/plain": [
              "<keras.callbacks.History at 0x7fcc06b49dd8>"
            ]
          },
          "metadata": {
            "tags": []
          },
          "execution_count": 25
        }
      ]
    },
    {
      "cell_type": "code",
      "metadata": {
        "id": "_Tz8iIwg3gIU",
        "colab_type": "code",
        "colab": {}
      },
      "source": [
        "import seaborn as sns\n",
        "# Predicting the Test set results & Printing the confusion matrix\n",
        "y_pred = model_sgd.predict(x_test)\n",
        "y_pred = (y_pred > 0.5)\n",
        "# Creating the Confusion Matrix\n",
        "from sklearn.metrics import confusion_matrix\n",
        "cm = confusion_matrix(y_test.argmax(axis=1), y_pred.argmax(axis=1))"
      ],
      "execution_count": 0,
      "outputs": []
    },
    {
      "cell_type": "code",
      "metadata": {
        "id": "1-4WasXwXylg",
        "colab_type": "code",
        "colab": {
          "base_uri": "https://localhost:8080/",
          "height": 187
        },
        "outputId": "9338a210-7564-422e-aaeb-7a7cb91b0cf3"
      },
      "source": [
        "confusion_matrix(y_test.argmax(axis=1), y_pred.argmax(axis=1))"
      ],
      "execution_count": 28,
      "outputs": [
        {
          "output_type": "execute_result",
          "data": {
            "text/plain": [
              "array([[ 715,   24,  788,    7,    6,    1,    7,    0,   61,  205],\n",
              "       [  72,  790,  753,   11,   18,    2,    2,   18,   37,  125],\n",
              "       [   1,    4, 1737,    8,    1,    1,    0,    3,    6,   42],\n",
              "       [   4,   17,  689,  876,    1,   38,    2,    1,   48,   43],\n",
              "       [  43,  123, 1049,   13,  437,    3,    1,    1,   45,   97],\n",
              "       [   4,   11,  515,   77,    0, 1068,    7,    1,   58,   27],\n",
              "       [  23,    9,  460,   58,    2,  135,  773,    1,  321,   50],\n",
              "       [   9,  140,  698,  188,    3,    1,    1,  618,    7,  143],\n",
              "       [   8,   24,  694,   37,    1,    5,    5,    1,  973,   64],\n",
              "       [   7,   12,  945,    9,    3,    4,    1,    0,   57,  766]])"
            ]
          },
          "metadata": {
            "tags": []
          },
          "execution_count": 28
        }
      ]
    },
    {
      "cell_type": "code",
      "metadata": {
        "id": "Ugl2p1YmYPSy",
        "colab_type": "code",
        "colab": {
          "base_uri": "https://localhost:8080/",
          "height": 300
        },
        "outputId": "8d90197a-6f87-4ad6-a3d8-8fffd6071934"
      },
      "source": [
        "fig2=plt.figure()\n",
        "fig2.add_subplot(111)\n",
        "sns.heatmap(cm,annot=True,square=True,cbar=False,fmt=\"d\")\n",
        "plt.xlabel(\"predicted label\")\n",
        "plt.ylabel(\"true label\")"
      ],
      "execution_count": 29,
      "outputs": [
        {
          "output_type": "execute_result",
          "data": {
            "text/plain": [
              "Text(91.68, 0.5, 'true label')"
            ]
          },
          "metadata": {
            "tags": []
          },
          "execution_count": 29
        },
        {
          "output_type": "display_data",
          "data": {
            "image/png": "[encoded data removed]",
            "text/plain": [
              "<Figure size 432x288 with 1 Axes>"
            ]
          },
          "metadata": {
            "tags": []
          }
        }
      ]
    },
    {
      "cell_type": "code",
      "metadata": {
        "id": "Q2BakUftYXeN",
        "colab_type": "code",
        "colab": {}
      },
      "source": [
        "#Observation "
      ],
      "execution_count": 0,
      "outputs": []
    },
    {
      "cell_type": "markdown",
      "metadata": {
        "id": "W1Hp8mgBZD9w",
        "colab_type": "text"
      },
      "source": [
        "**The observation with Street view images with KNN and NN is as below**\n",
        "\n",
        "- KNN was able to predict the images of size (32*32) with 45.92 % accuracy . KNN captures available cases within the training set and classifies new cases based on a similarity measure (e.g., distance functions). KNN has been used in statistical estimation and traditional pattern recognition algorithm until CNN and deep learning came into existense\n",
        "- KNN doesn't learn a discriminative function from the training data but memorizes the training dataset instead.So everytime you wanted to classify a test set it compares with entire training set which is time consuming and resource constraint.\n",
        "- Whereas CNNs can be thought of automatic feature extractors from the image . it uses a algorithm with pixel vector and spatial interaction between pixels. a CNN effectively uses adjacent pixel information to effectively downsample the image first by convolution and then uses a prediction layer at the end to predict. Hence the accuracy of Simple NN classifiers started at 90% and went on to increase with backpropagation and batch normalization ."
      ]
    }
  ]
}