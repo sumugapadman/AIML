{
  "nbformat": 4,
  "nbformat_minor": 0,
  "metadata": {
    "colab": {
      "name": "Stats_NLP_Project_Questions.ipynb",
      "version": "0.3.2",
      "provenance": [],
      "collapsed_sections": []
    },
    "kernelspec": {
      "display_name": "Python 3",
      "language": "python",
      "name": "python3"
    }
  },
  "cells": [
    {
      "cell_type": "markdown",
      "metadata": {
        "id": "6Rc_ahEnTF9m",
        "colab_type": "text"
      },
      "source": [
        "# Predict tags on StackOverflow with linear models"
      ]
    },
    {
      "cell_type": "markdown",
      "metadata": {
        "id": "E5hmogPBTF9p",
        "colab_type": "text"
      },
      "source": [
        "In this assignment you will learn how to predict tags for posts from [StackOverflow](https://stackoverflow.com). To solve this task you will use multilabel classification approach.\n",
        "\n",
        "### Libraries\n",
        "\n",
        "In this task you will need the following libraries:\n",
        "- [Numpy](http://www.numpy.org) — a package for scientific computing.\n",
        "- [Pandas](https://pandas.pydata.org) — a library providing high-performance, easy-to-use data structures and data analysis tools for the Python\n",
        "- [scikit-learn](http://scikit-learn.org/stable/index.html) — a tool for data mining and data analysis.\n",
        "- [NLTK](http://www.nltk.org) — a platform to work with natural language."
      ]
    },
    {
      "cell_type": "markdown",
      "metadata": {
        "id": "zSq4Uzh6TF9q",
        "colab_type": "text"
      },
      "source": [
        "### Data\n",
        "\n",
        "You can find all data required for this assignment into the folder `/data`."
      ]
    },
    {
      "cell_type": "markdown",
      "metadata": {
        "id": "2V1gba1KTF9r",
        "colab_type": "text"
      },
      "source": [
        "### Text preprocessing"
      ]
    },
    {
      "cell_type": "markdown",
      "metadata": {
        "id": "WnvsWcP9TF9t",
        "colab_type": "text"
      },
      "source": [
        "For this assignment you will need to use a list of stop words. It can be downloaded from *nltk*:"
      ]
    },
    {
      "cell_type": "code",
      "metadata": {
        "id": "R-RxVRvsTF9u",
        "colab_type": "code",
        "outputId": "2ef2990f-f35e-488f-d4ab-5b077aa674c1",
        "colab": {
          "base_uri": "https://localhost:8080/",
          "height": 50
        }
      },
      "source": [
        "import nltk\n",
        "nltk.download('stopwords')\n",
        "from nltk.corpus import stopwords"
      ],
      "execution_count": 68,
      "outputs": [
        {
          "output_type": "stream",
          "text": [
            "[nltk_data] Downloading package stopwords to /root/nltk_data...\n",
            "[nltk_data]   Package stopwords is already up-to-date!\n"
          ],
          "name": "stdout"
        }
      ]
    },
    {
      "cell_type": "markdown",
      "metadata": {
        "id": "ErHWjimITF91",
        "colab_type": "text"
      },
      "source": [
        "In this task you will deal with a dataset of post titles from StackOverflow. You are provided a split to 3 sets: *train*, *validation* and *test*. All corpora (except for *test*) contain titles of the posts and corresponding tags (100 tags are available). The *test* set doesn't contain answers. Upload the corpora using *pandas* and look at the data:"
      ]
    },
    {
      "cell_type": "code",
      "metadata": {
        "id": "-ufeO-nfVGha",
        "colab_type": "code",
        "colab": {}
      },
      "source": [
        "from ast import literal_eval\n",
        "import pandas as pd\n",
        "import numpy as np"
      ],
      "execution_count": 0,
      "outputs": []
    },
    {
      "cell_type": "markdown",
      "metadata": {
        "id": "pDahiblaU-e7",
        "colab_type": "text"
      },
      "source": [
        "Literal_eval package takes care of the preprocessing for the string so that it can be used in python. To know more on literal_eval please see the below documentation <br>\n",
        "https://kite.com/python/docs/ast.literal_eval"
      ]
    },
    {
      "cell_type": "code",
      "metadata": {
        "id": "biIAgQT7uXAj",
        "colab_type": "code",
        "outputId": "3940ff9f-9815-4bcb-89f9-70b524910c58",
        "colab": {
          "base_uri": "https://localhost:8080/",
          "height": 34
        }
      },
      "source": [
        "from google.colab import drive\n",
        "drive.mount('/content/drive')"
      ],
      "execution_count": 70,
      "outputs": [
        {
          "output_type": "stream",
          "text": [
            "Drive already mounted at /content/drive; to attempt to forcibly remount, call drive.mount(\"/content/drive\", force_remount=True).\n"
          ],
          "name": "stdout"
        }
      ]
    },
    {
      "cell_type": "code",
      "metadata": {
        "id": "ho0-3VWyuiuC",
        "colab_type": "code",
        "colab": {}
      },
      "source": [
        "import os\n",
        "os.chdir('/content/drive/My Drive/Stats_NLP/')"
      ],
      "execution_count": 0,
      "outputs": []
    },
    {
      "cell_type": "markdown",
      "metadata": {
        "id": "bubX7TSLVLXR",
        "colab_type": "text"
      },
      "source": [
        "## Task 1: Create training, testing and validation data from the files given. Use title to be the independent variable and tags to be the dependent variable ( 5 points)"
      ]
    },
    {
      "cell_type": "markdown",
      "metadata": {
        "id": "KBFMf3bhVPb_",
        "colab_type": "text"
      },
      "source": [
        "Note: Ensure you apply literal_eval function on the tags column to ensure all the tags are readable in python"
      ]
    },
    {
      "cell_type": "code",
      "metadata": {
        "id": "x8iH7o77TF96",
        "colab_type": "code",
        "outputId": "fc68da9d-ba41-4ea2-e8e2-389cb13f1817",
        "colab": {
          "base_uri": "https://localhost:8080/",
          "height": 195
        }
      },
      "source": [
        "trainDf = pd.read_csv(\"train.tsv\",delimiter='\\t',encoding='utf-8')\n",
        "trainDf.head()"
      ],
      "execution_count": 72,
      "outputs": [
        {
          "output_type": "execute_result",
          "data": {
            "text/html": [
              "<div>\n",
              "<style scoped>\n",
              "    .dataframe tbody tr th:only-of-type {\n",
              "        vertical-align: middle;\n",
              "    }\n",
              "\n",
              "    .dataframe tbody tr th {\n",
              "        vertical-align: top;\n",
              "    }\n",
              "\n",
              "    .dataframe thead th {\n",
              "        text-align: right;\n",
              "    }\n",
              "</style>\n",
              "<table border=\"1\" class=\"dataframe\">\n",
              "  <thead>\n",
              "    <tr style=\"text-align: right;\">\n",
              "      <th></th>\n",
              "      <th>title</th>\n",
              "      <th>tags</th>\n",
              "    </tr>\n",
              "  </thead>\n",
              "  <tbody>\n",
              "    <tr>\n",
              "      <th>0</th>\n",
              "      <td>How to draw a stacked dotplot in R?</td>\n",
              "      <td>['r']</td>\n",
              "    </tr>\n",
              "    <tr>\n",
              "      <th>1</th>\n",
              "      <td>mysql select all records where a datetime fiel...</td>\n",
              "      <td>['php', 'mysql']</td>\n",
              "    </tr>\n",
              "    <tr>\n",
              "      <th>2</th>\n",
              "      <td>How to terminate windows phone 8.1 app</td>\n",
              "      <td>['c#']</td>\n",
              "    </tr>\n",
              "    <tr>\n",
              "      <th>3</th>\n",
              "      <td>get current time in a specific country via jquery</td>\n",
              "      <td>['javascript', 'jquery']</td>\n",
              "    </tr>\n",
              "    <tr>\n",
              "      <th>4</th>\n",
              "      <td>Configuring Tomcat to Use SSL</td>\n",
              "      <td>['java']</td>\n",
              "    </tr>\n",
              "  </tbody>\n",
              "</table>\n",
              "</div>"
            ],
            "text/plain": [
              "                                               title                      tags\n",
              "0                How to draw a stacked dotplot in R?                     ['r']\n",
              "1  mysql select all records where a datetime fiel...          ['php', 'mysql']\n",
              "2             How to terminate windows phone 8.1 app                    ['c#']\n",
              "3  get current time in a specific country via jquery  ['javascript', 'jquery']\n",
              "4                      Configuring Tomcat to Use SSL                  ['java']"
            ]
          },
          "metadata": {
            "tags": []
          },
          "execution_count": 72
        }
      ]
    },
    {
      "cell_type": "code",
      "metadata": {
        "id": "HPaUfSVvTF99",
        "colab_type": "code",
        "outputId": "5890ec4a-1cf4-4056-937d-9fed48841038",
        "colab": {
          "base_uri": "https://localhost:8080/",
          "height": 195
        }
      },
      "source": [
        "testDf = pd.read_csv(\"test.tsv\", delimiter=\"\\t\", encoding='utf-8')\n",
        "testDf.head()"
      ],
      "execution_count": 73,
      "outputs": [
        {
          "output_type": "execute_result",
          "data": {
            "text/html": [
              "<div>\n",
              "<style scoped>\n",
              "    .dataframe tbody tr th:only-of-type {\n",
              "        vertical-align: middle;\n",
              "    }\n",
              "\n",
              "    .dataframe tbody tr th {\n",
              "        vertical-align: top;\n",
              "    }\n",
              "\n",
              "    .dataframe thead th {\n",
              "        text-align: right;\n",
              "    }\n",
              "</style>\n",
              "<table border=\"1\" class=\"dataframe\">\n",
              "  <thead>\n",
              "    <tr style=\"text-align: right;\">\n",
              "      <th></th>\n",
              "      <th>title</th>\n",
              "    </tr>\n",
              "  </thead>\n",
              "  <tbody>\n",
              "    <tr>\n",
              "      <th>0</th>\n",
              "      <td>Warning: mysql_query() expects parameter 2 to ...</td>\n",
              "    </tr>\n",
              "    <tr>\n",
              "      <th>1</th>\n",
              "      <td>get click coordinates from &lt;input type='image'...</td>\n",
              "    </tr>\n",
              "    <tr>\n",
              "      <th>2</th>\n",
              "      <td>How to implement cloud storage for media asset...</td>\n",
              "    </tr>\n",
              "    <tr>\n",
              "      <th>3</th>\n",
              "      <td>What is catcomplete in jQuery's autocomplete p...</td>\n",
              "    </tr>\n",
              "    <tr>\n",
              "      <th>4</th>\n",
              "      <td>Error building Android app with Cordova 3.1 CLI</td>\n",
              "    </tr>\n",
              "  </tbody>\n",
              "</table>\n",
              "</div>"
            ],
            "text/plain": [
              "                                               title\n",
              "0  Warning: mysql_query() expects parameter 2 to ...\n",
              "1  get click coordinates from <input type='image'...\n",
              "2  How to implement cloud storage for media asset...\n",
              "3  What is catcomplete in jQuery's autocomplete p...\n",
              "4    Error building Android app with Cordova 3.1 CLI"
            ]
          },
          "metadata": {
            "tags": []
          },
          "execution_count": 73
        }
      ]
    },
    {
      "cell_type": "code",
      "metadata": {
        "id": "d4pPOmFvTF-B",
        "colab_type": "code",
        "outputId": "bfa26fa1-c8fb-4f9c-bda0-58ac13de6dd1",
        "colab": {
          "base_uri": "https://localhost:8080/",
          "height": 195
        }
      },
      "source": [
        "validationDf = pd.read_csv(\"validation.tsv\", delimiter=\"\\t\", encoding='utf-8')\n",
        "validationDf.head()"
      ],
      "execution_count": 74,
      "outputs": [
        {
          "output_type": "execute_result",
          "data": {
            "text/html": [
              "<div>\n",
              "<style scoped>\n",
              "    .dataframe tbody tr th:only-of-type {\n",
              "        vertical-align: middle;\n",
              "    }\n",
              "\n",
              "    .dataframe tbody tr th {\n",
              "        vertical-align: top;\n",
              "    }\n",
              "\n",
              "    .dataframe thead th {\n",
              "        text-align: right;\n",
              "    }\n",
              "</style>\n",
              "<table border=\"1\" class=\"dataframe\">\n",
              "  <thead>\n",
              "    <tr style=\"text-align: right;\">\n",
              "      <th></th>\n",
              "      <th>title</th>\n",
              "      <th>tags</th>\n",
              "    </tr>\n",
              "  </thead>\n",
              "  <tbody>\n",
              "    <tr>\n",
              "      <th>0</th>\n",
              "      <td>Why odbc_exec always fail?</td>\n",
              "      <td>['php', 'sql']</td>\n",
              "    </tr>\n",
              "    <tr>\n",
              "      <th>1</th>\n",
              "      <td>Access a base classes variable from within a c...</td>\n",
              "      <td>['javascript']</td>\n",
              "    </tr>\n",
              "    <tr>\n",
              "      <th>2</th>\n",
              "      <td>Content-Type \"application/json\" not required i...</td>\n",
              "      <td>['ruby-on-rails', 'ruby']</td>\n",
              "    </tr>\n",
              "    <tr>\n",
              "      <th>3</th>\n",
              "      <td>Sessions in Sinatra: Used to Pass Variable</td>\n",
              "      <td>['ruby', 'session']</td>\n",
              "    </tr>\n",
              "    <tr>\n",
              "      <th>4</th>\n",
              "      <td>Getting error - type \"json\" does not exist - i...</td>\n",
              "      <td>['ruby-on-rails', 'ruby', 'json']</td>\n",
              "    </tr>\n",
              "  </tbody>\n",
              "</table>\n",
              "</div>"
            ],
            "text/plain": [
              "                                               title                               tags\n",
              "0                         Why odbc_exec always fail?                     ['php', 'sql']\n",
              "1  Access a base classes variable from within a c...                     ['javascript']\n",
              "2  Content-Type \"application/json\" not required i...          ['ruby-on-rails', 'ruby']\n",
              "3         Sessions in Sinatra: Used to Pass Variable                ['ruby', 'session']\n",
              "4  Getting error - type \"json\" does not exist - i...  ['ruby-on-rails', 'ruby', 'json']"
            ]
          },
          "metadata": {
            "tags": []
          },
          "execution_count": 74
        }
      ]
    },
    {
      "cell_type": "code",
      "metadata": {
        "id": "USlubitlTF-G",
        "colab_type": "code",
        "colab": {}
      },
      "source": [
        "import ast\n",
        "trainTags = set()\n",
        "for index, row in trainDf.iterrows():\n",
        "  x = ast.literal_eval(row['tags'])\n",
        "  trainTags.update(x)"
      ],
      "execution_count": 0,
      "outputs": []
    },
    {
      "cell_type": "code",
      "metadata": {
        "id": "M-_Rq0M_vKAF",
        "colab_type": "code",
        "outputId": "0fe145e2-d241-421e-9e5d-00f630444b30",
        "colab": {
          "base_uri": "https://localhost:8080/",
          "height": 34
        }
      },
      "source": [
        "len(trainTags)"
      ],
      "execution_count": 76,
      "outputs": [
        {
          "output_type": "execute_result",
          "data": {
            "text/plain": [
              "100"
            ]
          },
          "metadata": {
            "tags": []
          },
          "execution_count": 76
        }
      ]
    },
    {
      "cell_type": "code",
      "metadata": {
        "id": "L3gsHbbZvQ49",
        "colab_type": "code",
        "outputId": "a88ab1d5-00c1-4bfb-a012-fd3affe6b97d",
        "colab": {
          "base_uri": "https://localhost:8080/",
          "height": 54
        }
      },
      "source": [
        "print(trainTags)"
      ],
      "execution_count": 77,
      "outputs": [
        {
          "output_type": "stream",
          "text": [
            "{'json', 'ruby', 'csv', 'datetime', 'jquery', 'winforms', 'generics', 'ruby-on-rails', 'c#', 'ajax', 'visual-studio', 'django', 'excel', 'arrays', 'c', 'sql', 'performance', 'linux', 'xml', 'list', 'node.js', 'jsp', 'spring-mvc', 'visual-studio-2010', 'database', 'regex', 'python', 'oop', 'ruby-on-rails-3', 'eclipse', 'css', 'session', 'parsing', 'android', 'numpy', 'asp.net-mvc', 'codeigniter', 'rest', 'osx', 'sorting', 'google-maps', 'mysql', 'spring', 'facebook', 'objective-c', 'opencv', 'javascript', 'html', 'vb.net', 'forms', 'java', 'date', 'loops', 'php', 'hibernate', 'image', 'ios', 'xaml', 'apache', 'laravel', 'string', 'asp.net', 'uitableview', 'class', 'python-2.7', 'wcf', 'linq', 'python-3.x', '.net', 'html5', 'pointers', 'xcode', 'function', 'web-services', 'swing', 'pandas', 'unit-testing', 'maven', 'twitter-bootstrap', 'angularjs', 'dom', 'wpf', 'mongodb', 'iphone', 'entity-framework', 'file', 'servlets', 'wordpress', 'algorithm', 'selenium', 'swift', 'sockets', 'multithreading', 'c++', 'sql-server', 'cocoa-touch', 'r', 'validation', 'qt', 'windows'}\n"
          ],
          "name": "stdout"
        }
      ]
    },
    {
      "cell_type": "code",
      "metadata": {
        "id": "fYzGGi-HvXH3",
        "colab_type": "code",
        "colab": {}
      },
      "source": [
        "validationTags = set()\n",
        "for index, row in validationDf.iterrows():\n",
        "  x = ast.literal_eval(row['tags'])\n",
        "  validationTags.update(x)"
      ],
      "execution_count": 0,
      "outputs": []
    },
    {
      "cell_type": "code",
      "metadata": {
        "id": "QapFgESLvfJU",
        "colab_type": "code",
        "outputId": "f5a28fe4-5f23-40d0-9ad1-8dbd4f46d5ad",
        "colab": {
          "base_uri": "https://localhost:8080/",
          "height": 34
        }
      },
      "source": [
        "len(validationTags)"
      ],
      "execution_count": 79,
      "outputs": [
        {
          "output_type": "execute_result",
          "data": {
            "text/plain": [
              "100"
            ]
          },
          "metadata": {
            "tags": []
          },
          "execution_count": 79
        }
      ]
    },
    {
      "cell_type": "code",
      "metadata": {
        "id": "dvLT65pAvokm",
        "colab_type": "code",
        "outputId": "897970da-5b97-4e61-b506-94547f4c3a5f",
        "colab": {
          "base_uri": "https://localhost:8080/",
          "height": 54
        }
      },
      "source": [
        "print(validationTags)"
      ],
      "execution_count": 80,
      "outputs": [
        {
          "output_type": "stream",
          "text": [
            "{'json', 'ruby', 'datetime', 'csv', 'jquery', 'winforms', 'generics', 'ruby-on-rails', 'c#', 'ajax', 'visual-studio', 'django', 'excel', 'arrays', 'sql', 'c', 'performance', 'linux', 'xml', 'node.js', 'list', 'jsp', 'spring-mvc', 'visual-studio-2010', 'database', 'regex', 'python', 'oop', 'ruby-on-rails-3', 'eclipse', 'css', 'session', 'parsing', 'android', 'numpy', 'asp.net-mvc', 'codeigniter', 'rest', 'osx', 'sorting', 'google-maps', 'mysql', 'spring', 'facebook', 'objective-c', 'opencv', 'javascript', 'html', 'vb.net', 'forms', 'java', 'date', 'loops', 'php', 'hibernate', 'image', 'ios', 'xaml', 'apache', 'laravel', 'string', 'asp.net', 'uitableview', 'class', 'python-2.7', 'wcf', 'linq', 'python-3.x', '.net', 'pointers', 'html5', 'xcode', 'function', 'web-services', 'swing', 'pandas', 'unit-testing', 'maven', 'twitter-bootstrap', 'angularjs', 'dom', 'wpf', 'mongodb', 'iphone', 'entity-framework', 'file', 'servlets', 'wordpress', 'algorithm', 'selenium', 'swift', 'sockets', 'multithreading', 'c++', 'sql-server', 'cocoa-touch', 'r', 'validation', 'qt', 'windows'}\n"
          ],
          "name": "stdout"
        }
      ]
    },
    {
      "cell_type": "markdown",
      "metadata": {
        "id": "Bcb3kXUSTF-M",
        "colab_type": "text"
      },
      "source": [
        "## Task 2 (Pre-processing). Implement the function *text_prepare* following the instructions. After that, run the function *test_test_prepare* to test it on tiny cases. (10 points)\n",
        "\n",
        "One of the most known difficulties when working with natural data is that it's unstructured. For example, if you use it \"as is\" and extract tokens just by splitting the titles by whitespaces, you will see that there are many \"weird\" tokens like *3.5*, *?*,  *{}*, etc. To prevent the problems, it's usually useful to prepare the data in a custom way\n"
      ]
    },
    {
      "cell_type": "code",
      "metadata": {
        "id": "PBSchmxtTF-N",
        "colab_type": "code",
        "colab": {}
      },
      "source": [
        "import re"
      ],
      "execution_count": 0,
      "outputs": []
    },
    {
      "cell_type": "code",
      "metadata": {
        "id": "iI1plv6WTF-R",
        "colab_type": "code",
        "colab": {}
      },
      "source": [
        "REPLACE_BY_SPACE_RE = re.compile('[/(){}\\[\\]\\|@,;]')\n",
        "BAD_SYMBOLS_RE = re.compile('[^0-9a-z #+_]')\n",
        "STOPWORDS = set(stopwords.words('english'))\n",
        "\n",
        "def text_prepare(text): ### The function will take in text and lower case it remove the stopwords, symbols and return it.\n",
        "    text = text.lower() ### Write a code which can change the input text to lowercase.\n",
        "    text = REPLACE_BY_SPACE_RE.sub(\" \",text) ### Write a code which replaces REPLACE_BY_SPACE_RE (above mentioned) symbols by space in text\n",
        "    text = BAD_SYMBOLS_RE.sub(\"\",text) ### Write a code which deletes symbols which are in BAD_SYMBOLS_RE (above mentioned) from text\n",
        "    \n",
        "    ### Write a code which deletes stopwords from text\n",
        "    querywords = text.split()\n",
        "    resultwords  = [word for word in querywords if word.lower() not in STOPWORDS]\n",
        "    text = ' '.join(resultwords)\n",
        "    return text"
      ],
      "execution_count": 0,
      "outputs": []
    },
    {
      "cell_type": "code",
      "metadata": {
        "id": "t5LQEgMATF-Y",
        "colab_type": "code",
        "colab": {}
      },
      "source": [
        "def test_text_prepare():\n",
        "    examples = [\"SQL Server - any equivalent of Excel's CHOOSE function?\",\n",
        "                \"How to free c++ memory vector<int> * arr?\"]\n",
        "    answers = [\"sql server equivalent excels choose function\", \n",
        "               \"free c++ memory vectorint arr\"]\n",
        "    for ex, ans in zip(examples, answers):\n",
        "        if text_prepare(ex) != ans:\n",
        "            return \"Wrong answer for the case: '%s'\" % ex\n",
        "    return 'Basic tests are passed.'"
      ],
      "execution_count": 0,
      "outputs": []
    },
    {
      "cell_type": "markdown",
      "metadata": {
        "id": "6t2DpralVokG",
        "colab_type": "text"
      },
      "source": [
        "Execute the test_text_prepare function"
      ]
    },
    {
      "cell_type": "code",
      "metadata": {
        "id": "ihi8I2yQTF-b",
        "colab_type": "code",
        "outputId": "65bb0482-844a-4758-8ae7-f4e6c7aa58e8",
        "colab": {
          "base_uri": "https://localhost:8080/",
          "height": 34
        }
      },
      "source": [
        "test_text_prepare()"
      ],
      "execution_count": 84,
      "outputs": [
        {
          "output_type": "execute_result",
          "data": {
            "text/plain": [
              "'Basic tests are passed.'"
            ]
          },
          "metadata": {
            "tags": []
          },
          "execution_count": 84
        }
      ]
    },
    {
      "cell_type": "markdown",
      "metadata": {
        "id": "ettHAZ8eVt1R",
        "colab_type": "text"
      },
      "source": [
        "*Note: You should pass the above test to ensure the text preprocessing is done before our analysis*"
      ]
    },
    {
      "cell_type": "markdown",
      "metadata": {
        "id": "QV5JC6HXTF-k",
        "colab_type": "text"
      },
      "source": [
        "Now we can preprocess the titles using function *text_prepare* and  making sure that the headers don't have bad symbols:"
      ]
    },
    {
      "cell_type": "code",
      "metadata": {
        "id": "gOZKuHnGTF-k",
        "colab_type": "code",
        "colab": {}
      },
      "source": [
        "trainCleanDf = trainDf.copy(deep=True)\n",
        "testCleanDf = testDf.copy(deep=True)\n",
        "validationCleanDf = validationDf.copy(deep=True)"
      ],
      "execution_count": 0,
      "outputs": []
    },
    {
      "cell_type": "code",
      "metadata": {
        "id": "2A002DVFwVzT",
        "colab_type": "code",
        "colab": {}
      },
      "source": [
        "for index, row in trainCleanDf.iterrows():\n",
        "  row['title'] = text_prepare(row['title'])"
      ],
      "execution_count": 0,
      "outputs": []
    },
    {
      "cell_type": "code",
      "metadata": {
        "id": "1klZtks4wbqu",
        "colab_type": "code",
        "colab": {}
      },
      "source": [
        "for index, row in testCleanDf.iterrows():\n",
        "  row['title'] = text_prepare(row['title'])"
      ],
      "execution_count": 0,
      "outputs": []
    },
    {
      "cell_type": "code",
      "metadata": {
        "id": "NyHaYuC5wgWw",
        "colab_type": "code",
        "colab": {}
      },
      "source": [
        "for index, row in validationCleanDf.iterrows():\n",
        "  row['title'] = text_prepare(row['title'])"
      ],
      "execution_count": 0,
      "outputs": []
    },
    {
      "cell_type": "markdown",
      "metadata": {
        "id": "AfWls32MV5Uu",
        "colab_type": "text"
      },
      "source": [
        "Print the top 5 elements in x_train"
      ]
    },
    {
      "cell_type": "code",
      "metadata": {
        "id": "3BP3LiGsTF-o",
        "colab_type": "code",
        "outputId": "ca4e8769-d55d-4cc5-b17d-f1ca8cae205d",
        "colab": {
          "base_uri": "https://localhost:8080/",
          "height": 195
        }
      },
      "source": [
        "trainCleanDf.head()"
      ],
      "execution_count": 89,
      "outputs": [
        {
          "output_type": "execute_result",
          "data": {
            "text/html": [
              "<div>\n",
              "<style scoped>\n",
              "    .dataframe tbody tr th:only-of-type {\n",
              "        vertical-align: middle;\n",
              "    }\n",
              "\n",
              "    .dataframe tbody tr th {\n",
              "        vertical-align: top;\n",
              "    }\n",
              "\n",
              "    .dataframe thead th {\n",
              "        text-align: right;\n",
              "    }\n",
              "</style>\n",
              "<table border=\"1\" class=\"dataframe\">\n",
              "  <thead>\n",
              "    <tr style=\"text-align: right;\">\n",
              "      <th></th>\n",
              "      <th>title</th>\n",
              "      <th>tags</th>\n",
              "    </tr>\n",
              "  </thead>\n",
              "  <tbody>\n",
              "    <tr>\n",
              "      <th>0</th>\n",
              "      <td>draw stacked dotplot r</td>\n",
              "      <td>['r']</td>\n",
              "    </tr>\n",
              "    <tr>\n",
              "      <th>1</th>\n",
              "      <td>mysql select records datetime field less speci...</td>\n",
              "      <td>['php', 'mysql']</td>\n",
              "    </tr>\n",
              "    <tr>\n",
              "      <th>2</th>\n",
              "      <td>terminate windows phone 81 app</td>\n",
              "      <td>['c#']</td>\n",
              "    </tr>\n",
              "    <tr>\n",
              "      <th>3</th>\n",
              "      <td>get current time specific country via jquery</td>\n",
              "      <td>['javascript', 'jquery']</td>\n",
              "    </tr>\n",
              "    <tr>\n",
              "      <th>4</th>\n",
              "      <td>configuring tomcat use ssl</td>\n",
              "      <td>['java']</td>\n",
              "    </tr>\n",
              "  </tbody>\n",
              "</table>\n",
              "</div>"
            ],
            "text/plain": [
              "                                               title                      tags\n",
              "0                             draw stacked dotplot r                     ['r']\n",
              "1  mysql select records datetime field less speci...          ['php', 'mysql']\n",
              "2                     terminate windows phone 81 app                    ['c#']\n",
              "3       get current time specific country via jquery  ['javascript', 'jquery']\n",
              "4                         configuring tomcat use ssl                  ['java']"
            ]
          },
          "metadata": {
            "tags": []
          },
          "execution_count": 89
        }
      ]
    },
    {
      "cell_type": "markdown",
      "metadata": {
        "id": "At_ZTeqTTF-t",
        "colab_type": "text"
      },
      "source": [
        "## Task 2 (WordsTagsCount) - Find 3 most popular tags and 3 most popular words in the train data. - 5 points"
      ]
    },
    {
      "cell_type": "markdown",
      "metadata": {
        "id": "x2mT1f7gWKSu",
        "colab_type": "text"
      },
      "source": [
        "Note: The words which appear the most are considered as popular in this case!"
      ]
    },
    {
      "cell_type": "code",
      "metadata": {
        "id": "q-eQoxipTF-v",
        "colab_type": "code",
        "outputId": "50c7ca5e-6cc8-4bbb-b5c4-e66ed7b7994b",
        "colab": {
          "base_uri": "https://localhost:8080/",
          "height": 34
        }
      },
      "source": [
        "import ast\n",
        "tagList = []\n",
        "for index, row in trainDf.iterrows():\n",
        "  x = ast.literal_eval(row['tags'])\n",
        "  tagList.extend(x)\n",
        "  \n",
        "len(tagList)"
      ],
      "execution_count": 90,
      "outputs": [
        {
          "output_type": "execute_result",
          "data": {
            "text/plain": [
              "194219"
            ]
          },
          "metadata": {
            "tags": []
          },
          "execution_count": 90
        }
      ]
    },
    {
      "cell_type": "code",
      "metadata": {
        "id": "IC2w_b8Yw0pt",
        "colab_type": "code",
        "outputId": "ace0c753-1542-4218-bf82-4d709e215045",
        "colab": {
          "base_uri": "https://localhost:8080/",
          "height": 34
        }
      },
      "source": [
        "print(tagList[:15])"
      ],
      "execution_count": 91,
      "outputs": [
        {
          "output_type": "stream",
          "text": [
            "['r', 'php', 'mysql', 'c#', 'javascript', 'jquery', 'java', 'ruby-on-rails', 'ruby', 'ruby-on-rails-3', 'json', 'ruby', 'java', 'spring', 'spring-mvc']\n"
          ],
          "name": "stdout"
        }
      ]
    },
    {
      "cell_type": "code",
      "metadata": {
        "id": "jgs1Ry6Hw6q8",
        "colab_type": "code",
        "outputId": "815194f6-458a-43ec-e40d-39666ad737d0",
        "colab": {
          "base_uri": "https://localhost:8080/",
          "height": 195
        }
      },
      "source": [
        "df = pd.DataFrame(tagList, columns={\"tag\"})\n",
        "df.head()"
      ],
      "execution_count": 92,
      "outputs": [
        {
          "output_type": "execute_result",
          "data": {
            "text/html": [
              "<div>\n",
              "<style scoped>\n",
              "    .dataframe tbody tr th:only-of-type {\n",
              "        vertical-align: middle;\n",
              "    }\n",
              "\n",
              "    .dataframe tbody tr th {\n",
              "        vertical-align: top;\n",
              "    }\n",
              "\n",
              "    .dataframe thead th {\n",
              "        text-align: right;\n",
              "    }\n",
              "</style>\n",
              "<table border=\"1\" class=\"dataframe\">\n",
              "  <thead>\n",
              "    <tr style=\"text-align: right;\">\n",
              "      <th></th>\n",
              "      <th>tag</th>\n",
              "    </tr>\n",
              "  </thead>\n",
              "  <tbody>\n",
              "    <tr>\n",
              "      <th>0</th>\n",
              "      <td>r</td>\n",
              "    </tr>\n",
              "    <tr>\n",
              "      <th>1</th>\n",
              "      <td>php</td>\n",
              "    </tr>\n",
              "    <tr>\n",
              "      <th>2</th>\n",
              "      <td>mysql</td>\n",
              "    </tr>\n",
              "    <tr>\n",
              "      <th>3</th>\n",
              "      <td>c#</td>\n",
              "    </tr>\n",
              "    <tr>\n",
              "      <th>4</th>\n",
              "      <td>javascript</td>\n",
              "    </tr>\n",
              "  </tbody>\n",
              "</table>\n",
              "</div>"
            ],
            "text/plain": [
              "          tag\n",
              "0           r\n",
              "1         php\n",
              "2       mysql\n",
              "3          c#\n",
              "4  javascript"
            ]
          },
          "metadata": {
            "tags": []
          },
          "execution_count": 92
        }
      ]
    },
    {
      "cell_type": "code",
      "metadata": {
        "id": "4hqBy4-TxAO8",
        "colab_type": "code",
        "outputId": "6fd953b0-b202-44e8-e41d-266067a79f8b",
        "colab": {
          "base_uri": "https://localhost:8080/",
          "height": 34
        }
      },
      "source": [
        "df.shape"
      ],
      "execution_count": 93,
      "outputs": [
        {
          "output_type": "execute_result",
          "data": {
            "text/plain": [
              "(194219, 1)"
            ]
          },
          "metadata": {
            "tags": []
          },
          "execution_count": 93
        }
      ]
    },
    {
      "cell_type": "code",
      "metadata": {
        "id": "JUVnrThDxEve",
        "colab_type": "code",
        "outputId": "56b2fd7e-07f1-414d-bc4d-4436b610ba2e",
        "colab": {
          "base_uri": "https://localhost:8080/",
          "height": 101
        }
      },
      "source": [
        "# top 3 tags\n",
        "grouped = df.groupby('tag')['tag'].count()\n",
        "grouped.sort_values(ascending=False)[:3]"
      ],
      "execution_count": 94,
      "outputs": [
        {
          "output_type": "execute_result",
          "data": {
            "text/plain": [
              "tag\n",
              "javascript    19078\n",
              "c#            19077\n",
              "java          18661\n",
              "Name: tag, dtype: int64"
            ]
          },
          "metadata": {
            "tags": []
          },
          "execution_count": 94
        }
      ]
    },
    {
      "cell_type": "markdown",
      "metadata": {
        "id": "xkwg8_WNTF-3",
        "colab_type": "text"
      },
      "source": [
        "We are assuming that *tags_counts* and *words_counts* are dictionaries like `{'some_word_or_tag': frequency}`. After applying the sorting procedure, results will be look like this: `[('most_popular_word_or_tag', frequency), ('less_popular_word_or_tag', frequency), ...]`.\n",
        "\n",
        "eg: \n",
        "Tag 1 - 100 Tag 2 - 65 Tag 3 - 250 <br>\n",
        "after sorting looks like, <br>\n",
        "Tag 3 - 250 Tag 1 - 100 Tag 2 - 65"
      ]
    },
    {
      "cell_type": "code",
      "metadata": {
        "id": "RSCPa54uTF-4",
        "colab_type": "code",
        "outputId": "6a95373e-6a6b-4b46-e71f-456de4f2fbd5",
        "colab": {
          "base_uri": "https://localhost:8080/",
          "height": 67
        }
      },
      "source": [
        "tagDict = grouped.sort_values(ascending=False).to_dict()\n",
        "for x in list(tagDict)[0:3]:\n",
        "    print (\"key: {}, frequency: {} \".format(x,  tagDict[x]))"
      ],
      "execution_count": 95,
      "outputs": [
        {
          "output_type": "stream",
          "text": [
            "key: javascript, frequency: 19078 \n",
            "key: c#, frequency: 19077 \n",
            "key: java, frequency: 18661 \n"
          ],
          "name": "stdout"
        }
      ]
    },
    {
      "cell_type": "code",
      "metadata": {
        "id": "LxrY5IX0xVZ_",
        "colab_type": "code",
        "outputId": "79e3b82a-9418-4a71-ae4f-2f3e1dbb7e38",
        "colab": {
          "base_uri": "https://localhost:8080/",
          "height": 34
        }
      },
      "source": [
        "wordList = []\n",
        "for index, row in trainCleanDf.iterrows():\n",
        "  x = row['title'].split()\n",
        "  wordList.extend(x)\n",
        "  \n",
        "len(wordList)"
      ],
      "execution_count": 96,
      "outputs": [
        {
          "output_type": "execute_result",
          "data": {
            "text/plain": [
              "565425"
            ]
          },
          "metadata": {
            "tags": []
          },
          "execution_count": 96
        }
      ]
    },
    {
      "cell_type": "code",
      "metadata": {
        "id": "mPi7AwOJxgEw",
        "colab_type": "code",
        "outputId": "9155a949-990b-4fdb-c046-be2862307491",
        "colab": {
          "base_uri": "https://localhost:8080/",
          "height": 195
        }
      },
      "source": [
        "wdf = pd.DataFrame(wordList, columns={\"word\"})\n",
        "wdf.head()"
      ],
      "execution_count": 97,
      "outputs": [
        {
          "output_type": "execute_result",
          "data": {
            "text/html": [
              "<div>\n",
              "<style scoped>\n",
              "    .dataframe tbody tr th:only-of-type {\n",
              "        vertical-align: middle;\n",
              "    }\n",
              "\n",
              "    .dataframe tbody tr th {\n",
              "        vertical-align: top;\n",
              "    }\n",
              "\n",
              "    .dataframe thead th {\n",
              "        text-align: right;\n",
              "    }\n",
              "</style>\n",
              "<table border=\"1\" class=\"dataframe\">\n",
              "  <thead>\n",
              "    <tr style=\"text-align: right;\">\n",
              "      <th></th>\n",
              "      <th>word</th>\n",
              "    </tr>\n",
              "  </thead>\n",
              "  <tbody>\n",
              "    <tr>\n",
              "      <th>0</th>\n",
              "      <td>draw</td>\n",
              "    </tr>\n",
              "    <tr>\n",
              "      <th>1</th>\n",
              "      <td>stacked</td>\n",
              "    </tr>\n",
              "    <tr>\n",
              "      <th>2</th>\n",
              "      <td>dotplot</td>\n",
              "    </tr>\n",
              "    <tr>\n",
              "      <th>3</th>\n",
              "      <td>r</td>\n",
              "    </tr>\n",
              "    <tr>\n",
              "      <th>4</th>\n",
              "      <td>mysql</td>\n",
              "    </tr>\n",
              "  </tbody>\n",
              "</table>\n",
              "</div>"
            ],
            "text/plain": [
              "      word\n",
              "0     draw\n",
              "1  stacked\n",
              "2  dotplot\n",
              "3        r\n",
              "4    mysql"
            ]
          },
          "metadata": {
            "tags": []
          },
          "execution_count": 97
        }
      ]
    },
    {
      "cell_type": "code",
      "metadata": {
        "id": "atfNE4DLxovY",
        "colab_type": "code",
        "outputId": "98be69f2-2d51-49d3-c776-b0ce276a2294",
        "colab": {
          "base_uri": "https://localhost:8080/",
          "height": 101
        }
      },
      "source": [
        "# popular words\n",
        "grouped = wdf.groupby('word')['word'].count()\n",
        "grouped.sort_values(ascending=False)[:3]"
      ],
      "execution_count": 98,
      "outputs": [
        {
          "output_type": "execute_result",
          "data": {
            "text/plain": [
              "word\n",
              "using    8278\n",
              "php      5614\n",
              "java     5501\n",
              "Name: word, dtype: int64"
            ]
          },
          "metadata": {
            "tags": []
          },
          "execution_count": 98
        }
      ]
    },
    {
      "cell_type": "code",
      "metadata": {
        "id": "Xtz0BWbNx1z9",
        "colab_type": "code",
        "outputId": "b04687c1-5f46-4ff1-9377-aee7a7a9943d",
        "colab": {
          "base_uri": "https://localhost:8080/",
          "height": 67
        }
      },
      "source": [
        "wordDict = grouped.sort_values(ascending=False).to_dict()\n",
        "for x in list(wordDict)[0:3]:\n",
        "    print (\"key: {}, frequency: {} \".format(x,  wordDict[x]))"
      ],
      "execution_count": 99,
      "outputs": [
        {
          "output_type": "stream",
          "text": [
            "key: using, frequency: 8278 \n",
            "key: php, frequency: 5614 \n",
            "key: java, frequency: 5501 \n"
          ],
          "name": "stdout"
        }
      ]
    },
    {
      "cell_type": "markdown",
      "metadata": {
        "id": "Xk7M4uJ_TF-8",
        "colab_type": "text"
      },
      "source": [
        "## Task - 3 Transforming text to a vector (10 points)\n",
        "\n",
        "Machine Learning algorithms work with numeric data and we cannot use the provided text data \"as is\". There are many ways to transform text data to numeric vectors. In this task you will try to use two of them.\n",
        "\n",
        "#### Bag of words\n",
        "\n",
        "One of the well-known approaches is a *bag-of-words* representation. To create this transformation, follow the steps:\n",
        "1. Find *N* most popular words in train corpus and numerate them. Now we have a dictionary of the most popular words.\n",
        "2. For each title in the corpora create a zero vector with the dimension equals to *N*.\n",
        "3. For each text in the corpora iterate over words which are in the dictionary and increase by 1 the corresponding coordinate.\n",
        "\n",
        "Let's try to do it for a toy example. Imagine that we have *N* = 4 and the list of the most popular words is \n",
        "\n",
        "    ['hi', 'you', 'me', 'are']\n",
        "\n",
        "Then we need to numerate them, for example, like this: \n",
        "\n",
        "    {'hi': 0, 'you': 1, 'me': 2, 'are': 3}\n",
        "\n",
        "And we have the text, which we want to transform to the vector:\n",
        "\n",
        "    'hi how are you'\n",
        "\n",
        "For this text we create a corresponding zero vector \n",
        "\n",
        "    [0, 0, 0, 0]\n",
        "    \n",
        "And iterate over all words, and if the word is in the dictionary, we increase the value of the corresponding position in the vector:\n",
        "\n",
        "    'hi':  [1, 0, 0, 0]\n",
        "    'how': [1, 0, 0, 0] # word 'how' is not in our dictionary\n",
        "    'are': [1, 0, 0, 1]\n",
        "    'you': [1, 1, 0, 1]\n",
        "\n",
        "The resulting vector will be \n",
        "\n",
        "    [1, 1, 0, 1]\n",
        "   \n",
        "Implement the described encoding in the function *my_bag_of_words* with the size of the dictionary equals to 5000. To find the most common words use train data. You can test your code using the function *test_my_bag_of_words*."
      ]
    },
    {
      "cell_type": "code",
      "metadata": {
        "id": "cOXDK2hYyQSK",
        "colab_type": "code",
        "colab": {}
      },
      "source": [
        "wordsToIndex = { list(wordDict.keys())[i]:i for i in range(0, 5000) }\n",
        "indexOfWords = { j:list(wordDict.keys())[j] for j in range(0, 5000) }"
      ],
      "execution_count": 0,
      "outputs": []
    },
    {
      "cell_type": "code",
      "metadata": {
        "id": "W1vs3MTsyVUh",
        "colab_type": "code",
        "outputId": "89579885-78c9-4dc6-eb2c-9d2f9a0dfcc2",
        "colab": {
          "base_uri": "https://localhost:8080/",
          "height": 54
        }
      },
      "source": [
        "print(wordsToIndex)"
      ],
      "execution_count": 101,
      "outputs": [
        {
          "output_type": "stream",
          "text": [
            "{'using': 0, 'php': 1, 'java': 2, 'file': 3, 'javascript': 4, 'error': 5, 'get': 6, 'c#': 7, 'python': 8, 'string': 9, 'array': 10, 'data': 11, 'jquery': 12, 'value': 13, 'function': 14, 'object': 15, 'class': 16, 'use': 17, 'c++': 18, 'list': 19, 'method': 20, 'multiple': 21, 'text': 22, 'image': 23, 'page': 24, 'rails': 25, 'form': 26, 'create': 27, 'html': 28, 'type': 29, 'code': 30, 'set': 31, 'working': 32, 'database': 33, 'add': 34, 'convert': 35, 'mysql': 36, 'json': 37, 'c': 38, 'server': 39, 'variable': 40, 'android': 41, 'values': 42, 'aspnet': 43, 'way': 44, 'application': 45, 'change': 46, 'button': 47, 'find': 48, 'django': 49, 'one': 50, 'without': 51, 'windows': 52, 'cannot': 53, 'table': 54, 'call': 55, 'files': 56, 'ajax': 57, 'check': 58, 'time': 59, 'name': 60, 'two': 61, 'ruby': 62, 'getting': 63, 'date': 64, 'web': 65, 'make': 66, 'user': 67, 'input': 68, 'xml': 69, 'app': 70, 'another': 71, 'element': 72, 'custom': 73, 'event': 74, 'api': 75, 'access': 76, 'url': 77, 'number': 78, 'spring': 79, 'view': 80, 'sql': 81, 'return': 82, 'mvc': 83, 'select': 84, 'google': 85, 'query': 86, 'inside': 87, 'exception': 88, 'display': 89, 'column': 90, 'read': 91, 'loop': 92, 'swift': 93, 'remove': 94, 'new': 95, 'work': 96, 'load': 97, 'r': 98, 'objects': 99, 'property': 100, 'line': 101, 'cant': 102, 'pass': 103, 'click': 104, 'framework': 105, 'update': 106, 'script': 107, 'vs': 108, 'post': 109, 'null': 110, '2': 111, 'creating': 112, 'net': 113, 'request': 114, 'different': 115, 'field': 116, 'key': 117, 'run': 118, 'row': 119, 'doesnt': 120, 'ios': 121, 'service': 122, 'linq': 123, 'div': 124, 'open': 125, 'window': 126, 'project': 127, 'wpf': 128, 'format': 129, 'best': 130, 'show': 131, 'variables': 132, 'controller': 133, 'undefined': 134, 'specific': 135, 'dynamically': 136, 'adding': 137, 'based': 138, 'angularjs': 139, 'control': 140, 'parameter': 141, 'send': 142, 'model': 143, '3': 144, 'difference': 145, 'library': 146, 'first': 147, 'insert': 148, 'passing': 149, 'vbnet': 150, 'js': 151, 'regex': 152, 'elements': 153, 'codeigniter': 154, 'within': 155, 'eclipse': 156, 'path': 157, 'dynamic': 158, 'visual': 159, 'memory': 160, 'connection': 161, 'possible': 162, 'id': 163, 'thread': 164, 'save': 165, 'default': 166, '+': 167, 'via': 168, 'running': 169, 'size': 170, 'program': 171, 'found': 172, 'content': 173, 'reference': 174, 'issue': 175, 'write': 176, 'attribute': 177, 'studio': 178, 'laravel': 179, 'search': 180, 'excel': 181, 'test': 182, 'static': 183, 'session': 184, 'output': 185, 'http': 186, 'characters': 187, 'character': 188, 'entity': 189, 'current': 190, 'problem': 191, 'calling': 192, 'client': 193, 'empty': 194, 'int': 195, 'simple': 196, 'css': 197, 'parameters': 198, 'upload': 199, 'command': 200, 'reading': 201, 'directory': 202, 'validation': 203, '1': 204, 'map': 205, 'hibernate': 206, 'selected': 207, 'textbox': 208, 'unable': 209, 'browser': 210, 'images': 211, 'item': 212, 'link': 213, 'index': 214, 'facebook': 215, 'expression': 216, 'setting': 217, 'store': 218, 'delete': 219, 'single': 220, 'template': 221, 'like': 222, 'statement': 223, 'strings': 224, 'failed': 225, 'rows': 226, 'header': 227, 'replace': 228, 'loading': 229, 'login': 230, 'box': 231, 'iphone': 232, '4': 233, 'numbers': 234, 'color': 235, 'nested': 236, 'returning': 237, 'background': 238, 'instance': 239, 'print': 240, 'pdf': 241, 'char': 242, 'parse': 243, 'could': 244, 'disable': 245, 'bootstrap': 246, 'message': 247, 'module': 248, 'csv': 249, 'tag': 250, 'converting': 251, 'chrome': 252, 'x': 253, 'parent': 254, 'invalid': 255, 'returns': 256, 'local': 257, 'methods': 258, 'need': 259, 'connect': 260, 'email': 261, 'changing': 262, 'trying': 263, 'response': 264, 'functions': 265, 'install': 266, 'redirect': 267, 'order': 268, 'angular': 269, 'dictionary': 270, 'arrays': 271, 'dropdown': 272, 'classes': 273, 'generate': 274, 'folder': 275, 'bar': 276, 'submit': 277, 'pandas': 278, 'process': 279, 'columns': 280, 'source': 281, 'checkbox': 282, 'child': 283, 'integer': 284, 'count': 285, 'sending': 286, 'parsing': 287, 'items': 288, 'start': 289, 'detect': 290, 'double': 291, 'jsp': 292, 'hide': 293, 'datetime': 294, 'fields': 295, 'console': 296, 'gridview': 297, 'pointer': 298, 'selenium': 299, 'linux': 300, 'constructor': 301, 'random': 302, 'import': 303, '7': 304, 'programmatically': 305, 'action': 306, 'collection': 307, 'instead': 308, 'version': 309, 'datagridview': 310, 'filter': 311, 'sort': 312, 'objectivec': 313, 'website': 314, 'generic': 315, 'last': 316, 'result': 317, 'build': 318, 'system': 319, 'download': 320, 'properties': 321, 'split': 322, 'back': 323, 'iframe': 324, 'nodejs': 325, 'interface': 326, 'cell': 327, 'binding': 328, 'arguments': 329, '5': 330, 'datatable': 331, 'syntax': 332, 'scroll': 333, 'xcode': 334, 'binary': 335, 'onclick': 336, 'external': 337, 'position': 338, 'socket': 339, '0': 340, 'execute': 341, 'rest': 342, 'missing': 343, 'called': 344, 'word': 345, 'maps': 346, 'typeerror': 347, 'implement': 348, 'byte': 349, 'copy': 350, 'whats': 351, 'extension': 352, 'video': 353, 'refresh': 354, 'menu': 355, 'match': 356, 'given': 357, 'argument': 358, 'node': 359, 'wordpress': 360, 'retrieve': 361, 'include': 362, 'regular': 363, 'accessing': 364, 'forms': 365, 'showing': 366, 'canvas': 367, 'document': 368, 'results': 369, 'ui': 370, 'runtime': 371, 'arraylist': 372, 'defined': 373, 'handle': 374, 'drop': 375, 'apache': 376, 'errors': 377, 'group': 378, 'large': 379, 'compare': 380, 'wcf': 381, 'height': 382, 'opencv': 383, 'ie': 384, 'address': 385, 'mobile': 386, 'properly': 387, 'many': 388, 'member': 389, 'equivalent': 390, 'screen': 391, '8': 392, 'exists': 393, 'global': 394, 'plugin': 395, 'password': 396, 'expected': 397, 'maven': 398, 'jar': 399, 'vector': 400, 'events': 401, 'length': 402, 'writing': 403, 'location': 404, 'numpy': 405, 'servlet': 406, 'types': 407, 'extract': 408, 'html5': 409, 'stored': 410, 'width': 411, 'dialog': 412, 'dataframe': 413, 'certain': 414, 'close': 415, 'help': 416, 'used': 417, 'range': 418, 'style': 419, 'prevent': 420, 'handling': 421, 'names': 422, 'automatically': 423, 'works': 424, 'resource': 425, 'magento': 426, 'every': 427, 'fails': 428, 'tomcat': 429, 'cast': 430, 'pattern': 431, 'created': 432, 'warning': 433, 'frame': 434, 'popup': 435, 'wrong': 436, 'validate': 437, 'displaying': 438, 'contains': 439, 'enum': 440, 'qt': 441, 'updating': 442, 'curl': 443, 'package': 444, 'stop': 445, 'listview': 446, 'must': 447, 'testing': 448, 'operator': 449, 'space': 450, '2d': 451, 'context': 452, 'authentication': 453, 'put': 454, 'conversion': 455, 'keys': 456, 'auto': 457, 'structure': 458, 'callback': 459, 'main': 460, 'saving': 461, 'end': 462, 'exist': 463, 'token': 464, 'long': 465, 'problems': 466, 'db': 467, 'tab': 468, 'existing': 469, 'foreach': 470, 'block': 471, 'always': 472, 'dll': 473, 'grid': 474, 'finding': 475, 'sorting': 476, 'remote': 477, 'matplotlib': 478, 'sqlite': 479, 'option': 480, 'buttons': 481, 'determine': 482, 'bind': 483, 'performance': 484, 'firefox': 485, 'tags': 486, 'modal': 487, 'stream': 488, 'plot': 489, 'label': 490, 'mac': 491, 'combobox': 492, 'decimal': 493, 'join': 494, 'uncaught': 495, 'radio': 496, 'phone': 497, 'example': 498, 'chart': 499, 'attributes': 500, 'unexpected': 501, 'compile': 502, 'dom': 503, 'checking': 504, 'correctly': 505, 'right': 506, 'point': 507, 'lines': 508, 'tables': 509, 'installing': 510, 'base': 511, 'float': 512, 'users': 513, 'mouse': 514, 'basic': 515, 'support': 516, 'struct': 517, 'tree': 518, 'unit': 519, 'making': 520, 'unique': 521, 'scope': 522, 'threads': 523, 'catch': 524, 'hash': 525, 'duplicate': 526, 'correct': 527, 'mean': 528, 'handler': 529, 'next': 530, 'already': 531, 'even': 532, 'wont': 533, 'good': 534, 'edit': 535, 'admin': 536, 'task': 537, 'removing': 538, 'uitableview': 539, 'matrix': 540, 'contents': 541, 'valid': 542, 'pages': 543, 'namespace': 544, 'graph': 545, 'dates': 546, 'lists': 547, 'const': 548, 'sdk': 549, 'log': 550, 'encoding': 551, 'debug': 552, 'changes': 553, 'site': 554, 'objective': 555, 'case': 556, 'calculate': 557, 'programming': 558, 'storing': 559, 'active': 560, 'configuration': 561, 'side': 562, 'full': 563, 'sum': 564, 'limit': 565, 'keep': 566, 'jpa': 567, 'top': 568, 'listbox': 569, 'animation': 570, 'implementation': 571, 'unicode': 572, 'append': 573, 'override': 574, 'printing': 575, 'mongodb': 576, 'twitter': 577, 'allow': 578, 'part': 579, 'winforms': 580, 'record': 581, 'core': 582, 'utf8': 583, 'resize': 584, 'loaded': 585, 'lambda': 586, 'controls': 587, 'ip': 588, 'security': 589, 'mail': 590, 'play': 591, 'times': 592, 'pdo': 593, 'layout': 594, 'selection': 595, 'game': 596, 'fatal': 597, 'async': 598, 'records': 599, 'language': 600, 'bean': 601, 'cookie': 602, 'boolean': 603, 'webdriver': 604, 'switch': 605, 'constant': 606, 'draw': 607, 'outside': 608, 'force': 609, 'cakephp': 610, 'domain': 611, 'gui': 612, 'inserting': 613, 'unknown': 614, 'true': 615, 'wait': 616, 'assign': 617, 'slow': 618, '20': 619, 'mode': 620, 'port': 621, 'false': 622, 'named': 623, 'condition': 624, 'mapping': 625, 'issues': 626, 'available': 627, 'state': 628, 'requests': 629, 'focus': 630, 'netbeans': 631, 'multidimensional': 632, 'oracle': 633, 'generated': 634, 'enable': 635, 'assembly': 636, 'ubuntu': 637, 'device': 638, 'jdbc': 639, 'clicked': 640, 'uploading': 641, 'populate': 642, 'gem': 643, 'yii': 644, 'soap': 645, 'swing': 646, 'specified': 647, 'required': 648, 'special': 649, 'engine': 650, 'initialize': 651, 'exceptions': 652, 'know': 653, '2010': 654, 'checked': 655, 'executing': 656, 'bad': 657, 'native': 658, 'network': 659, 'avoid': 660, 'javafx': 661, 'design': 662, 'tkinter': 663, '6': 664, 'try': 665, 'month': 666, 'webservice': 667, 'timeout': 668, 'export': 669, 'question': 670, 'want': 671, '404': 672, 'heroku': 673, 'trigger': 674, 'efficient': 675, 'move': 676, 'n': 677, 'stack': 678, 'iterate': 679, 'timer': 680, 'component': 681, 'os': 682, 'dont': 683, '10': 684, 'words': 685, 'zend': 686, 'body': 687, 'textarea': 688, 'implementing': 689, 'views': 690, 'compiler': 691, 'clicking': 692, 'linked': 693, 'symbol': 694, 'root': 695, 'flask': 696, 'clear': 697, 'render': 698, 'navigation': 699, 'define': 700, 'symfony2': 701, 'second': 702, 'datagrid': 703, 'pointers': 704, 'fill': 705, 'inheritance': 706, 'procedure': 707, 'route': 708, 'private': 709, 'ssl': 710, 'particular': 711, 'rspec': 712, 'left': 713, 'declaration': 714, 'scrolling': 715, 'information': 716, 'behind': 717, 'bytes': 718, 'status': 719, 'reflection': 720, 'services': 721, 'fix': 722, 'push': 723, 'spaces': 724, 'calendar': 725, 'fetch': 726, 'algorithm': 727, 'alert': 728, 'xpath': 729, 'integers': 730, 'apply': 731, 'cache': 732, 'youtube': 733, 'calls': 734, 'dependency': 735, 'development': 736, 'https': 737, 'hex': 738, 'options': 739, 'max': 740, 'maximum': 741, 'target': 742, 'usage': 743, 'progress': 744, 'environment': 745, 'previous': 746, 'internet': 747, 'models': 748, 'practice': 749, 'title': 750, 'comparing': 751, 'merge': 752, 'headers': 753, 'changed': 754, 'boost': 755, 'notification': 756, 'driver': 757, 'libraries': 758, 'panel': 759, 'shared': 760, 'processing': 761, 'matching': 762, 'tests': 763, 'apps': 764, 'statements': 765, 'symfony': 766, 'font': 767, 'opengl': 768, 'comma': 769, 'xaml': 770, 'installed': 771, 'public': 772, 'datepicker': 773, 'standard': 774, 'resources': 775, 'icon': 776, 'separate': 777, 'links': 778, 'directive': 779, 'report': 780, 'htaccess': 781, 'abstract': 782, 'hidden': 783, 'resolve': 784, 'would': 785, 'container': 786, 'better': 787, 'serialize': 788, 'logging': 789, 'asp': 790, 'debugging': 791, 'see': 792, 'autocomplete': 793, 'configure': 794, 'ggplot2': 795, 'react': 796, 'junit': 797, 'hashmap': 798, 'partial': 799, 'queries': 800, 'alternative': 801, 'returned': 802, 'selecting': 803, 'visible': 804, 'messages': 805, 'throws': 806, 'echo': 807, 'something': 808, 'devise': 809, 'checkboxes': 810, 'svg': 811, 'keyboard': 812, 'generating': 813, 'proxy': 814, 'declare': 815, 'escape': 816, 'jtable': 817, 'coordinates': 818, 'whether': 819, 'denied': 820, 'take': 821, 'formatting': 822, 'operation': 823, 'causes': 824, 'virtual': 825, 'quotes': 826, 'reload': 827, 'drag': 828, 'setup': 829, 'drawing': 830, 'extjs': 831, 'jsf': 832, 'contain': 833, 'day': 834, 'dataset': 835, 'shell': 836, 'product': 837, 'machine': 838, 'phonegap': 839, 'cells': 840, 'entities': 841, 'containing': 842, 'dropdownlist': 843, 'applications': 844, 'strange': 845, 'twice': 846, 'webpage': 847, 'queue': 848, 'delegate': 849, 'rendering': 850, 'intellij': 851, 'inline': 852, 'connecting': 853, 'per': 854, 'gcc': 855, 'execution': 856, 'opening': 857, 'relationship': 858, 'uiview': 859, 'level': 860, 'ms': 861, 'conditional': 862, 'blank': 863, 'initialization': 864, 'serialization': 865, 'razor': 866, 'safe': 867, 'internal': 868, 'modify': 869, 'widget': 870, 'etc': 871, 'relative': 872, 'gives': 873, 'capture': 874, 'definition': 875, 'jqgrid': 876, 'timestamp': 877, 'nodes': 878, 'building': 879, 'importing': 880, 'batch': 881, 'else': 882, 'compiling': 883, 'retrieving': 884, 'expressions': 885, 'allowed': 886, 'tcp': 887, 'added': 888, 'numeric': 889, 'still': 890, 'host': 891, 'sqlalchemy': 892, 'year': 893, 'doctrine': 894, 'seconds': 895, 'highcharts': 896, 'cookies': 897, 'selector': 898, 'boot': 899, 'foreign': 900, 'nsstring': 901, 'href': 902, 'embedded': 903, 'jframe': 904, 'fast': 905, 'jackson': 906, 'config': 907, 'annotation': 908, 'starting': 909, 'firing': 910, 'reset': 911, 'touch': 912, 'injection': 913, 'section': 914, 'protocol': 915, 'closing': 916, 'ascii': 917, 'jaxb': 918, 'points': 919, 'tabs': 920, 'webbrowser': 921, 'labels': 922, 'sharepoint': 923, 'postgresql': 924, 'transaction': 925, 'hover': 926, 'cursor': 927, 'trouble': 928, 'passed': 929, 'overriding': 930, 'assignment': 931, 'specify': 932, 'explorer': 933, 'sequence': 934, 'asynchronous': 935, 'gwt': 936, 'replacing': 937, 'able': 938, 'urls': 939, 'localhost': 940, 'recursive': 941, 'days': 942, 'giving': 943, 'exit': 944, 'templates': 945, 'toggle': 946, 'webview': 947, 'base64': 948, 'deploy': 949, 'fastest': 950, 'anchor': 951, 'deleting': 952, 'fixed': 953, 'restful': 954, 'nil': 955, 'axis': 956, 'v3': 957, 'go': 958, 'vb': 959, 'moving': 960, 'proper': 961, 'osx': 962, '500': 963, 'digits': 964, 'enter': 965, 'nhibernate': 966, 'faster': 967, 'activerecord': 968, 'settings': 969, 'permission': 970, 'casting': 971, 'ignore': 972, 'stl': 973, 'lock': 974, 'including': 975, 'loops': 976, 'pagination': 977, 'border': 978, 'mysqli': 979, 'incorrect': 980, 'real': 981, 'sent': 982, 's3': 983, 'username': 984, 'serial': 985, 'caching': 986, 'activity': 987, 'effect': 988, 'declared': 989, 'complex': 990, 'uitableviewcell': 991, 'complete': 992, 'across': 993, 'safari': 994, 'comparison': 995, 'invoke': 996, 'zip': 997, 'increment': 998, 'speed': 999, 'multi': 1000, 'txt': 1001, 'programatically': 1002, 'audio': 1003, 'void': 1004, 'buffer': 1005, 'singleton': 1006, 'scripts': 1007, 'place': 1008, 'equal': 1009, 'combine': 1010, 'center': 1011, 'closed': 1012, 'keyword': 1013, '3d': 1014, 'modules': 1015, 'express': 1016, 'filtering': 1017, 'repository': 1018, 'break': 1019, 'integration': 1020, 'iis': 1021, 'routing': 1022, 'mock': 1023, 'causing': 1024, 'inner': 1025, 'letter': 1026, 'heap': 1027, 'bundle': 1028, 'letters': 1029, 'whole': 1030, 'mvvm': 1031, 'ie8': 1032, 'crash': 1033, 'uploaded': 1034, '2008': 1035, 'ant': 1036, 'winform': 1037, 'bit': 1038, 'extra': 1039, 'poi': 1040, 'receive': 1041, 'substring': 1042, 'identifier': 1043, 'self': 1044, 'deserialize': 1045, 'ftp': 1046, 'following': 1047, 'success': 1048, 'pip': 1049, 'src': 1050, 'entry': 1051, 'blob': 1052, 'amazon': 1053, 'series': 1054, 'leak': 1055, 'require': 1056, 'browsers': 1057, 'smtp': 1058, 'shows': 1059, 'isnt': 1060, 'free': 1061, 'macro': 1062, 'camera': 1063, 'communication': 1064, 'share': 1065, 'flash': 1066, '2012': 1067, 'extracting': 1068, 'primary': 1069, 'solution': 1070, 'around': 1071, 'dependencies': 1072, 'failure': 1073, 'tableview': 1074, 'rake': 1075, 'storage': 1076, 'generator': 1077, 'controllers': 1078, 'provider': 1079, 'failing': 1080, 'cocoa': 1081, 'iterator': 1082, 'listener': 1083, 'microsoft': 1084, 'area': 1085, 'exe': 1086, 'tell': 1087, 'generics': 1088, 'marker': 1089, 'beautifulsoup': 1090, 'secure': 1091, 'divs': 1092, 'depending': 1093, 'win32': 1094, 'solve': 1095, 'unity': 1096, 'downloading': 1097, 'tutorial': 1098, 'itextsharp': 1099, 'parallel': 1100, 'cross': 1101, 'bool': 1102, 'negative': 1103, 'directly': 1104, 'recursion': 1105, 'scrapy': 1106, 'datasource': 1107, 'decode': 1108, 'sockets': 1109, 'timezone': 1110, 'understanding': 1111, 'slider': 1112, 'idea': 1113, 'calculating': 1114, 'anonymous': 1115, 'requires': 1116, 'ipad': 1117, 'editor': 1118, 'instances': 1119, 'ggplot': 1120, 'detecting': 1121, 'non': 1122, 'behavior': 1123, 'parser': 1124, 'throw': 1125, 'com': 1126, 'give': 1127, 'silverlight': 1128, 'white': 1129, 'png': 1130, 'tool': 1131, 'throwing': 1132, 'compilation': 1133, 'waiting': 1134, 'log4j': 1135, 'jersey': 1136, 'webapi': 1137, 'iterating': 1138, 'accept': 1139, 'unix': 1140, 'similar': 1141, 'zoom': 1142, 'applet': 1143, 'perform': 1144, 'children': 1145, 'needed': 1146, 'clause': 1147, 'tuple': 1148, 'appear': 1149, '40': 1150, 'delay': 1151, 'less': 1152, 'animate': 1153, 'jboss': 1154, 'reverse': 1155, 'executable': 1156, 'certificate': 1157, 'joomla': 1158, 'entire': 1159, 'd3': 1160, 'typescript': 1161, 'installation': 1162, 'raw': 1163, 'receiving': 1164, 'gmail': 1165, 'illegal': 1166, 'rotate': 1167, 'treeview': 1168, 'colors': 1169, 'uibutton': 1170, 'optional': 1171, 'zero': 1172, 'big': 1173, 'references': 1174, 'uri': 1175, 'jpanel': 1176, 'udp': 1177, 'turn': 1178, 'extend': 1179, 'subclass': 1180, 'primefaces': 1181, 'filename': 1182, 'copying': 1183, 'takes': 1184, 'matches': 1185, 'embed': 1186, 'gradle': 1187, 'classpath': 1188, 'practices': 1189, 'except': 1190, 'searching': 1191, 'crashes': 1192, 'desktop': 1193, 'ckeditor': 1194, 'nginx': 1195, 'postback': 1196, 'supported': 1197, 'mvc4': 1198, 'unsigned': 1199, 'tooltip': 1200, 'drupal': 1201, 'manually': 1202, 'backbonejs': 1203, 'w': 1204, 'oauth': 1205, 'bound': 1206, 'datatables': 1207, 'jvm': 1208, 'uiscrollview': 1209, 'due': 1210, 'duplicates': 1211, 'occurred': 1212, 'commands': 1213, '30': 1214, 'connections': 1215, 'prepared': 1216, 'processes': 1217, 'counting': 1218, 'minutes': 1219, 'collections': 1220, 'bottom': 1221, 'mvc3': 1222, 'ngrepeat': 1223, 'yii2': 1224, 'creation': 1225, 'encryption': 1226, 'ide': 1227, 'paypal': 1228, 'job': 1229, 'several': 1230, 'equals': 1231, 'annotations': 1232, 'profile': 1233, 'fit': 1234, 'looping': 1235, 'prototype': 1236, 'phpunit': 1237, 'sessions': 1238, 'tasks': 1239, 'production': 1240, 'blocks': 1241, 'var': 1242, 'img': 1243, 'projects': 1244, 'present': 1245, 'prompt': 1246, 'resolved': 1247, 'usercontrol': 1248, 'linking': 1249, 'comments': 1250, 'bitmap': 1251, 'automatic': 1252, 'incompatible': 1253, 'initializing': 1254, 'account': 1255, '32': 1256, 'backbone': 1257, 'exec': 1258, 'info': 1259, 'original': 1260, 'infinite': 1261, 'upon': 1262, 'increase': 1263, 'textfield': 1264, 'amount': 1265, 'syntaxerror': 1266, 'together': 1267, 'rvm': 1268, 'disabled': 1269, 'literal': 1270, 'routes': 1271, 'conditions': 1272, 'submitting': 1273, 'websocket': 1274, 'operations': 1275, 'nullpointerexception': 1276, 'separated': 1277, 'uiwebview': 1278, 'debugger': 1279, 'fragment': 1280, 'related': 1281, 'crystal': 1282, 'ef': 1283, 'jsonnet': 1284, 'places': 1285, 'unhandled': 1286, 'members': 1287, 'common': 1288, 'derived': 1289, 'aspx': 1290, 'absolute': 1291, 'markers': 1292, 'uses': 1293, 'logged': 1294, 'step': 1295, 'onchange': 1296, 'behaviour': 1297, 'gets': 1298, 'encode': 1299, 'offset': 1300, 'small': 1301, 'uiimageview': 1302, 'im': 1303, 'transparent': 1304, 'garbage': 1305, 'paths': 1306, 'azure': 1307, 'horizontal': 1308, 'meteor': 1309, 'average': 1310, 'schema': 1311, 'exactly': 1312, 'kendo': 1313, 'storyboard': 1314, 'instantiate': 1315, 'inputs': 1316, 'displayed': 1317, 'hiding': 1318, 'fail': 1319, 'posting': 1320, 'ionic': 1321, 'association': 1322, 'multithreading': 1323, 'pop': 1324, 'nothing': 1325, 'fault': 1326, 'xampp': 1327, 'validating': 1328, '100': 1329, 'sheet': 1330, '31': 1331, 'deploying': 1332, 'sorted': 1333, 'assigning': 1334, 'fine': 1335, 'highlight': 1336, 'b': 1337, 'vertical': 1338, 'td': 1339, 'jni': 1340, 'factory': 1341, 'builder': 1342, 'sign': 1343, 'uiimage': 1344, 'attributeerror': 1345, 'much': 1346, 'd3js': 1347, 'chat': 1348, 'entries': 1349, 'resizing': 1350, 'encoded': 1351, 'ids': 1352, 'live': 1353, 'actual': 1354, 'li': 1355, 'helper': 1356, 'updated': 1357, 'hours': 1358, 'architecture': 1359, 'cron': 1360, 'distinct': 1361, 'distance': 1362, 'drive': 1363, 'normal': 1364, 'editing': 1365, 'refreshing': 1366, '11': 1367, 'manager': 1368, 'phpmyadmin': 1369, 'efficiently': 1370, 'total': 1371, 'importerror': 1372, 'viewmodel': 1373, 'deprecated': 1374, 'concatenate': 1375, '_post': 1376, 'three': 1377, 'struts': 1378, 'bug': 1379, 'xamarin': 1380, 'keeping': 1381, 'transfer': 1382, 'pairs': 1383, 'uitextfield': 1384, 'params': 1385, 'repeater': 1386, 'woocommerce': 1387, 'firebase': 1388, 'release': 1389, 'war': 1390, 'computer': 1391, 'mockito': 1392, 'splitting': 1393, 'breaks': 1394, 'lazy': 1395, 'lib': 1396, 'printf': 1397, 'looking': 1398, 'made': 1399, 'libgdx': 1400, 'pygame': 1401, 'struts2': 1402, 'hadoop': 1403, 'structs': 1404, 'str': 1405, 'initial': 1406, 'nsarray': 1407, 'orm': 1408, 'uilabel': 1409, 'codebehind': 1410, 'span': 1411, 'constraint': 1412, 'though': 1413, 'settimeout': 1414, 'dict': 1415, 'anything': 1416, 'world': 1417, 'encrypt': 1418, 'reports': 1419, 'itext': 1420, '81': 1421, 'jdk': 1422, 'eval': 1423, 'threejs': 1424, 'category': 1425, 'requested': 1426, 'thrown': 1427, 'management': 1428, 'exclude': 1429, 'httpclient': 1430, 'press': 1431, 'generation': 1432, 'analytics': 1433, 'threading': 1434, 'components': 1435, 'redirecting': 1436, 'never': 1437, 'actually': 1438, 'nsmutablearray': 1439, 'fire': 1440, 'scale': 1441, 'old': 1442, 'packages': 1443, 'forward': 1444, 'sets': 1445, 'register': 1446, 'detection': 1447, 'referenced': 1448, 'plotting': 1449, 'platform': 1450, 'picture': 1451, '2013': 1452, 'rectangle': 1453, 'started': 1454, 'devices': 1455, 'cause': 1456, 'socketio': 1457, 'sub': 1458, 'unrecognized': 1459, 'sound': 1460, 'approach': 1461, 'slide': 1462, 'symbols': 1463, 'stdstring': 1464, 'skip': 1465, 'converted': 1466, 'xmlhttprequest': 1467, 'pressed': 1468, 'extending': 1469, 'frames': 1470, 'g++': 1471, 'circle': 1472, 'home': 1473, 'newline': 1474, 'details': 1475, 'multiprocessing': 1476, 'segmentation': 1477, 'scraping': 1478, 'plain': 1479, 'feed': 1480, 'zone': 1481, 'folders': 1482, 'readonly': 1483, 'charts': 1484, 'ignoring': 1485, 'round': 1486, 'versions': 1487, 'really': 1488, 'dimensional': 1489, 'cpu': 1490, 'paperclip': 1491, 'done': 1492, 'histogram': 1493, 'cmake': 1494, 'cancel': 1495, 'final': 1496, 'pycharm': 1497, 'mfc': 1498, 'inject': 1499, 'floating': 1500, 'await': 1501, 'phpexcel': 1502, 'picker': 1503, 'shiny': 1504, 'refused': 1505, 'interfaces': 1506, 'destroy': 1507, 'weird': 1508, 'groups': 1509, 'ie9': 1510, 'easiest': 1511, 'got': 1512, 'ways': 1513, 'media': 1514, 'reduce': 1515, 'gson': 1516, 'migration': 1517, 'verify': 1518, 'least': 1519, 'violation': 1520, 'min': 1521, 'spark': 1522, 'colour': 1523, 'vectors': 1524, '64bit': 1525, 'restrict': 1526, 'tools': 1527, 'permissions': 1528, 'rename': 1529, 'initialized': 1530, 'included': 1531, 'functionality': 1532, 'please': 1533, 'populating': 1534, 'uiviewcontroller': 1535, 'taking': 1536, 'transition': 1537, 'malloc': 1538, 'eloquent': 1539, 'wrapper': 1540, 'expects': 1541, 'listt': 1542, 'knockout': 1543, 'layer': 1544, '9': 1545, 'wrap': 1546, 'swt': 1547, 'odd': 1548, 'occurrences': 1549, 'overlay': 1550, 'overloading': 1551, 'dictionaries': 1552, 'runs': 1553, 'clients': 1554, 'digit': 1555, 'according': 1556, 'rgb': 1557, 'disabling': 1558, 'hyperlink': 1559, 'patterns': 1560, 'dot': 1561, 'mp3': 1562, 'aws': 1563, 'learn': 1564, 'written': 1565, 'makefile': 1566, 'nsdictionary': 1567, '64': 1568, 'none': 1569, 'pyqt': 1570, 'beans': 1571, 'brackets': 1572, 'uninitialized': 1573, '35': 1574, 'may': 1575, 'randomly': 1576, 'explicit': 1577, 'jstl': 1578, 'easy': 1579, 'pause': 1580, 'differences': 1581, 'ienumerable': 1582, 'extensions': 1583, 'confirm': 1584, 'phpmailer': 1585, 'appconfig': 1586, 'math': 1587, 'wsdl': 1588, 'posts': 1589, 'photo': 1590, 'doc': 1591, 'ok': 1592, 'also': 1593, 'high': 1594, 'jenkins': 1595, 'received': 1596, 'reason': 1597, 'closure': 1598, 'signalr': 1599, 'rather': 1600, 'exact': 1601, 'inserted': 1602, 'everything': 1603, 'front': 1604, 'hour': 1605, 'recursively': 1606, 'saved': 1607, 'locale': 1608, 'git': 1609, 'scanner': 1610, 'appending': 1611, 'calculation': 1612, 'unsupported': 1613, 'week': 1614, 'signal': 1615, 'happens': 1616, 'registry': 1617, 'counter': 1618, 'documents': 1619, 'known': 1620, 'learning': 1621, 'precision': 1622, 'preg_match': 1623, 'uicollectionview': 1624, 'identity': 1625, 'c++11': 1626, 'valueerror': 1627, 'restart': 1628, 'referenceerror': 1629, 'glassfish': 1630, 'inherited': 1631, 'deployment': 1632, 'iteration': 1633, 'chartjs': 1634, 'additional': 1635, 'lookup': 1636, 'padding': 1637, 'chars': 1638, 'logic': 1639, 'feature': 1640, 'localstorage': 1641, 'prefix': 1642, 'comment': 1643, 'align': 1644, 'pythons': 1645, 'master': 1646, 'textboxes': 1647, 'webconfig': 1648, 'lost': 1649, 'nonobject': 1650, 'emails': 1651, 'submission': 1652, '27': 1653, 'makes': 1654, 'enums': 1655, 'optimize': 1656, 'terminal': 1657, 'tensorflow': 1658, 'underscore': 1659, 'fancybox': 1660, 'beginning': 1661, 'pil': 1662, 'constants': 1663, 'pool': 1664, 'square': 1665, 'sharing': 1666, 'cordova': 1667, 'transform': 1668, 'merging': 1669, 'jsoup': 1670, 'thumbnail': 1671, 'arduino': 1672, 'implicit': 1673, 'postgres': 1674, 'percentage': 1675, 'ldap': 1676, 'online': 1677, 'manytomany': 1678, 'md5': 1679, 'innerhtml': 1680, 'arc': 1681, 'dojo': 1682, 'uitextview': 1683, 'javalangnoclassdeffounderror': 1684, 'obtain': 1685, 'direct': 1686, 'updates': 1687, 'fetching': 1688, 'unresolved': 1689, 'graphics': 1690, 'purpose': 1691, 'concurrent': 1692, 'combo': 1693, 'pure': 1694, 'completely': 1695, 'constraints': 1696, 'clean': 1697, 'rewrite': 1698, 'bash': 1699, 'simulate': 1700, 'p': 1701, 'queryset': 1702, 'legend': 1703, 'deserializing': 1704, 'linker': 1705, 'eg': 1706, 'confusion': 1707, 'naming': 1708, '24': 1709, 'polygon': 1710, 'sqlite3': 1711, 'pixel': 1712, 'mismatch': 1713, 'modified': 1714, 'moq': 1715, 'kernel': 1716, 'launch': 1717, 'explain': 1718, 'dd': 1719, 'greater': 1720, 'upgrade': 1721, 'scanf': 1722, 'sample': 1723, 'rules': 1724, 'identify': 1725, 'rotation': 1726, 'init': 1727, 'reloading': 1728, 'exporting': 1729, 'mouseover': 1730, 'signature': 1731, 'figure': 1732, 'fade': 1733, 'longitude': 1734, 'latitude': 1735, 'grouping': 1736, 'well': 1737, 'mm': 1738, 'startup': 1739, 'bin': 1740, 'hello': 1741, 'track': 1742, 'black': 1743, 'locate': 1744, 'short': 1745, 'preg_replace': 1746, 'connected': 1747, 'cli': 1748, 'interop': 1749, 'protected': 1750, 'adapter': 1751, 'streaming': 1752, 'subset': 1753, 'parts': 1754, 'nokogiri': 1755, 'declaring': 1756, 'openssl': 1757, 'notifications': 1758, 'orientation': 1759, 'managed': 1760, 'individual': 1761, 'compiled': 1762, 'includes': 1763, 'operators': 1764, 'notation': 1765, 'richtextbox': 1766, 'versus': 1767, 'stdout': 1768, '16': 1769, 'pair': 1770, 'contact': 1771, 'either': 1772, 'combining': 1773, 'general': 1774, 'deserialization': 1775, 'assets': 1776, 'footer': 1777, 'coding': 1778, 'executed': 1779, 'relation': 1780, 'xsd': 1781, 'ready': 1782, 'nunit': 1783, 'customize': 1784, 'jasmine': 1785, 'wamp': 1786, 'plus': 1787, 'theme': 1788, 'multithreaded': 1789, 'modifying': 1790, 'opencart': 1791, 'player': 1792, 'hashes': 1793, 'confirmation': 1794, 'products': 1795, 'lxml': 1796, 'transactions': 1797, 'allocated': 1798, 'documentation': 1799, 'actions': 1800, 'finished': 1801, 'manage': 1802, 'setinterval': 1803, 'oop': 1804, 'multiline': 1805, 'couldnt': 1806, 'hangs': 1807, 'calculator': 1808, 'price': 1809, 'integrate': 1810, 'milliseconds': 1811, 'clicks': 1812, 'httpwebrequest': 1813, 'editable': 1814, 'stdin': 1815, 'cart': 1816, 'howto': 1817, 'bluetooth': 1818, 'backend': 1819, 'broken': 1820, 'namespaces': 1821, 'circular': 1822, 'simulator': 1823, 'threadsafe': 1824, 'formatted': 1825, 'observable': 1826, 'understand': 1827, 'inputstream': 1828, 'matlab': 1829, 'switching': 1830, 'plots': 1831, 'opened': 1832, 'occurrence': 1833, 'loads': 1834, 'serializing': 1835, 'boxes': 1836, 'wxpython': 1837, 'json_encode': 1838, 'mono': 1839, 'ee': 1840, 'rule': 1841, 'highlighting': 1842, 'yyyy': 1843, 'attachment': 1844, 'resultset': 1845, 'implicitly': 1846, 'preview': 1847, 'whitespace': 1848, 'recognized': 1849, 'criteria': 1850, 'databases': 1851, 'reactjs': 1852, 'screenshot': 1853, 'jpeg': 1854, 'finish': 1855, 'nsdata': 1856, 'associative': 1857, 'groovy': 1858, 'scrollbar': 1859, 'spreadsheet': 1860, 'allocation': 1861, 'cucumber': 1862, 'gdb': 1863, 'constructors': 1864, 'ejb': 1865, 'enabled': 1866, 'provide': 1867, 'look': 1868, 'longer': 1869, 'resolution': 1870, 'examples': 1871, 'completion': 1872, 'jaxrs': 1873, 'subprocess': 1874, 'querystring': 1875, 'setter': 1876, 'putting': 1877, 'phps': 1878, 'capistrano': 1879, 'initializer': 1880, 'fullcalendar': 1881, 'implemented': 1882, 'triggered': 1883, 'fired': 1884, 'scala': 1885, 'shape': 1886, 'bounds': 1887, 'databinding': 1888, 'invoking': 1889, 'datatype': 1890, 'choose': 1891, 'callbacks': 1892, 'seems': 1893, 'multipart': 1894, 'promise': 1895, 'simplexml': 1896, 'developer': 1897, 'elegant': 1898, 'detected': 1899, 'positive': 1900, 'linear': 1901, 'slash': 1902, 'querying': 1903, 'along': 1904, 'outlook': 1905, 'latest': 1906, 'jbutton': 1907, 'knockoutjs': 1908, 'currently': 1909, 'swipe': 1910, 'emberjs': 1911, 'arrow': 1912, 'jpg': 1913, 'multiply': 1914, 'mongoose': 1915, 'cors': 1916, 'mingw': 1917, 'arbitrary': 1918, 'cloud': 1919, 'defining': 1920, 'disk': 1921, 'videos': 1922, 'sure': 1923, 'needs': 1924, 'manipulation': 1925, 'asynchronously': 1926, 'party': 1927, 'pixels': 1928, 'super': 1929, 'rsa': 1930, 'onload': 1931, 'seem': 1932, 'ssh': 1933, 'usb': 1934, 'meaning': 1935, 'capybara': 1936, 'metadata': 1937, 'separator': 1938, 'hook': 1939, 'metro': 1940, 'servers': 1941, 'jaxws': 1942, 'c#net': 1943, 'decrypt': 1944, 'twig': 1945, 'nsdate': 1946, 'outer': 1947, 'replacement': 1948, 'trailing': 1949, 'textview': 1950, '45': 1951, 'yes': 1952, 'clickable': 1953, 'tinymce': 1954, 'utc': 1955, 'frameworks': 1956, 'relationships': 1957, 'jtextfield': 1958, 'composer': 1959, 'third': 1960, 'fork': 1961, 'paste': 1962, 'openmp': 1963, 'recognize': 1964, 'aggregate': 1965, 'hashtable': 1966, 'aes': 1967, 'country': 1968, 'monitor': 1969, 'adonet': 1970, 'simplest': 1971, 'br': 1972, 'bindings': 1973, 'pipe': 1974, 'registration': 1975, 'appears': 1976, 'raise': 1977, 'coffeescript': 1978, 'backgroundworker': 1979, 'liststring': 1980, 'gems': 1981, 'attach': 1982, 'specifying': 1983, 'mark': 1984, 'catching': 1985, 'logger': 1986, 'pack': 1987, 'union': 1988, '#': 1989, '17': 1990, '51': 1991, '50': 1992, 'vaadin': 1993, 'wrapping': 1994, 'validator': 1995, 'playing': 1996, 'lucene': 1997, 'viewcontroller': 1998, 'rid': 1999, 'structures': 2000, 'clipboard': 2001, 'card': 2002, 'tuples': 2003, 'referencing': 2004, 'carousel': 2005, 'sometimes': 2006, 'redis': 2007, 'applied': 2008, 'filling': 2009, 'dataframes': 2010, 'preserve': 2011, 'preprocessor': 2012, 'wicket': 2013, 'months': 2014, 'overflow': 2015, 'built': 2016, 'xaxis': 2017, 'celery': 2018, 'nameerror': 2019, 'toolbar': 2020, 'automapper': 2021, 'jlabel': 2022, 'collision': 2023, 'scipy': 2024, 'realtime': 2025, 'developing': 2026, 'requirejs': 2027, 'successful': 2028, 'expand': 2029, 'groupby': 2030, 'preventing': 2031, 'escaping': 2032, 'going': 2033, 'alphanumeric': 2034, 'ffmpeg': 2035, 'nan': 2036, 'rmi': 2037, 'tostring': 2038, '15': 2039, 'powershell': 2040, 'passenger': 2041, 'pc': 2042, '25': 2043, 'persist': 2044, 'crm': 2045, 'slower': 2046, 'optimization': 2047, 'stopped': 2048, 'mocking': 2049, 'segue': 2050, 'entered': 2051, 'dealing': 2052, 'stuck': 2053, 'reader': 2054, 'region': 2055, 'regexp': 2056, '13': 2057, 'mongoid': 2058, 'codes': 2059, 'callable': 2060, 'sinatra': 2061, 'head': 2062, 'serializable': 2063, 'imageview': 2064, 'synchronous': 2065, 'middle': 2066, 'sms': 2067, 'anyone': 2068, 'locking': 2069, 'objc': 2070, 'software': 2071, 'leaflet': 2072, 'leading': 2073, 'odbc': 2074, 'onetomany': 2075, 'zf2': 2076, 'logout': 2077, 'dependent': 2078, 'serverside': 2079, 'necessary': 2080, 'styles': 2081, 'comprehension': 2082, 'repeat': 2083, 'notice': 2084, 'angular2': 2085, 'overload': 2086, 'description': 2087, 'alternatives': 2088, 'indexes': 2089, 'adjust': 2090, 'destructor': 2091, '12': 2092, 'triangle': 2093, 'wildcard': 2094, 'maintain': 2095, 'devexpress': 2096, 'es6': 2097, 'ordering': 2098, 'redirection': 2099, 'ensure': 2100, 'has_many': 2101, 'primitive': 2102, 'smooth': 2103, 'exchange': 2104, 'io': 2105, 'immediately': 2106, 'minimum': 2107, 'websphere': 2108, 'expecting': 2109, 'mongo': 2110, 'interval': 2111, 'continue': 2112, 'builtin': 2113, 'subtract': 2114, 'interactive': 2115, 'camel': 2116, 'mssql': 2117, 'jinja2': 2118, 'applying': 2119, 'weblogic': 2120, 'casperjs': 2121, 'css3': 2122, 'terminate': 2123, 'listen': 2124, 'polymorphism': 2125, 'quote': 2126, 'losing': 2127, 'strip': 2128, 'ie7': 2129, 'overwrite': 2130, 'avoiding': 2131, 'indices': 2132, 'csrf': 2133, 'widgets': 2134, 'accessible': 2135, 'questions': 2136, 'ints': 2137, 'allocate': 2138, 'repeating': 2139, 'mask': 2140, 'lowercase': 2141, 'payment': 2142, 'scan': 2143, 'compatible': 2144, '2015': 2145, 'webclient': 2146, 'ul': 2147, 'construct': 2148, 'hosting': 2149, 'filters': 2150, 'delegates': 2151, 'pull': 2152, 'tornado': 2153, 'clone': 2154, 'bars': 2155, 'vertically': 2156, 'follow': 2157, 'suitable': 2158, 'ignored': 2159, 'categories': 2160, 'realm': 2161, 'websites': 2162, 'perl': 2163, 'someone': 2164, 'locally': 2165, 'cuda': 2166, 'styling': 2167, 'rendered': 2168, 'divide': 2169, 'delimited': 2170, 'universal': 2171, 'cxf': 2172, 'deep': 2173, 'decryption': 2174, 'accordion': 2175, 'completed': 2176, 'manifest': 2177, 'kill': 2178, 'nonstatic': 2179, 'alias': 2180, 'authorization': 2181, 'nonetype': 2182, 'aborted': 2183, 'errno': 2184, 'reporting': 2185, 'associated': 2186, 'emacs': 2187, 'handlers': 2188, 'clientside': 2189, 'emulator': 2190, 'consecutive': 2191, 'smaller': 2192, 'servlets': 2193, 'configuring': 2194, 'expressjs': 2195, 'auth': 2196, 'starts': 2197, 'apple': 2198, '14': 2199, 'ad': 2200, 'sencha': 2201, 'javalangnullpointerexception': 2202, 'updatepanel': 2203, 'performing': 2204, 'hql': 2205, 'uinavigationcontroller': 2206, 'credentials': 2207, 'enabling': 2208, 'crop': 2209, 'crashing': 2210, 'rss': 2211, 'crud': 2212, 'e': 2213, 'beginner': 2214, 'directories': 2215, 'pie': 2216, 'hexadecimal': 2217, 'timed': 2218, 'translate': 2219, 'testng': 2220, 'readable': 2221, 'tutorials': 2222, 'dimension': 2223, 'caused': 2224, 'ror': 2225, 'windowopen': 2226, 'jre': 2227, 'observablecollection': 2228, 'tracking': 2229, 'fly': 2230, 'cut': 2231, 'regression': 2232, 'exceeded': 2233, 'measure': 2234, '2005': 2235, 'decoding': 2236, 'haml': 2237, '403': 2238, 'registered': 2239, 'dplyr': 2240, 'explanation': 2241, 'converter': 2242, 'operand': 2243, 'sprite': 2244, 'breaking': 2245, 'slice': 2246, 'printer': 2247, 'ambiguous': 2248, 'log4net': 2249, 'plugins': 2250, 'larger': 2251, 'extends': 2252, 'warnings': 2253, 'huge': 2254, 'jms': 2255, 'coordinate': 2256, 'advantages': 2257, 'strategy': 2258, 'collapse': 2259, 'underlying': 2260, 'continuous': 2261, 'imported': 2262, 'xlsx': 2263, 'lua': 2264, 'placeholder': 2265, 'cmd': 2266, 'rotating': 2267, 'xdocument': 2268, 'dimensions': 2269, 'excluding': 2270, 'flag': 2271, 'choice': 2272, 'superclass': 2273, 'displays': 2274, 'tr': 2275, 'respond': 2276, 'stdvector': 2277, 'repeated': 2278, 'navigate': 2279, 'duration': 2280, 'standalone': 2281, 'addresses': 2282, 'virtualenv': 2283, 'later': 2284, 'currency': 2285, 'produce': 2286, 'usr': 2287, 'subview': 2288, 'keyvalue': 2289, 'says': 2290, 'carrierwave': 2291, 'clang': 2292, 'fullscreen': 2293, 'role': 2294, 'grab': 2295, 'attempting': 2296, 'javalangclassnotfoundexception': 2297, 'memcached': 2298, 'jfreechart': 2299, 'ipython': 2300, 'triggering': 2301, 'h': 2302, 'autolayout': 2303, 'reuse': 2304, 'quickly': 2305, 'mutex': 2306, 'ndk': 2307, 'cms': 2308, 'twisted': 2309, 'older': 2310, 'gallery': 2311, 'asset': 2312, 'guava': 2313, 'creator': 2314, 'unity3d': 2315, 'occurs': 2316, 'appearing': 2317, 'seed': 2318, 'compute': 2319, 'hierarchy': 2320, 'grouped': 2321, 'worker': 2322, 'others': 2323, 'shift': 2324, 'trace': 2325, 'authenticated': 2326, 'commas': 2327, 'assigned': 2328, 'corresponding': 2329, 'extended': 2330, '53': 2331, 'zeros': 2332, '3rd': 2333, 'clearing': 2334, 'signed': 2335, 'shown': 2336, 'mootools': 2337, 'foo': 2338, '#define': 2339, '52': 2340, 'uialertview': 2341, 'activeadmin': 2342, 'blocking': 2343, 'sentence': 2344, 'rounding': 2345, 'blocked': 2346, 'formula': 2347, 'bulk': 2348, 'deal': 2349, 'visibility': 2350, 'alignment': 2351, 'vim': 2352, 'closest': 2353, 'modelform': 2354, 'capturing': 2355, 'uipickerview': 2356, 'retain': 2357, 'viewer': 2358, 'hostname': 2359, 'horizontally': 2360, 'multiplication': 2361, '400': 2362, 'joda': 2363, 'representation': 2364, 'meta': 2365, 'icons': 2366, 'jndi': 2367, 'immutable': 2368, 'quick': 2369, 'beautiful': 2370, 'lodash': 2371, 'priority': 2372, 'spinner': 2373, 'v': 2374, 'origin': 2375, 'apis': 2376, 'texture': 2377, 'enough': 2378, 'orderby': 2379, '_get': 2380, 'asynctask': 2381, 'pythonic': 2382, 'largest': 2383, 'contained': 2384, 'consuming': 2385, 'cygwin': 2386, 'xslt': 2387, 'explicitly': 2388, 'progressbar': 2389, 'floats': 2390, 'phpini': 2391, 'encrypted': 2392, 'plist': 2393, 'nsuserdefaults': 2394, 'tick': 2395, 'frequency': 2396, 'bundler': 2397, 'link_to': 2398, 'come': 2399, 'getter': 2400, 'domains': 2401, 'landscape': 2402, 'various': 2403, 'simultaneously': 2404, 'idle': 2405, '54': 2406, 'elasticsearch': 2407, 'instagram': 2408, 'synchronization': 2409, 'edittext': 2410, 'designer': 2411, 'manipulate': 2412, 'flow': 2413, 'router': 2414, 'regarding': 2415, 'webpack': 2416, 'friends': 2417, 'insertion': 2418, 'parentheses': 2419, 'mixed': 2420, 'javalangstring': 2421, 'chain': 2422, 'keypress': 2423, 'mechanize': 2424, 'protractor': 2425, 'determining': 2426, 'persistent': 2427, 'provided': 2428, 'conditionally': 2429, 'polymer': 2430, 'attempt': 2431, 'subdomain': 2432, 'paragraph': 2433, 'ce': 2434, 'param': 2435, 'springboot': 2436, 'pymongo': 2437, 'swap': 2438, 'netty': 2439, '32bit': 2440, 'shortcut': 2441, 'installer': 2442, 'gulp': 2443, 'dev': 2444, 'away': 2445, 'htmlagilitypack': 2446, 'javas': 2447, 'win': 2448, 'let': 2449, 'history': 2450, 'leaks': 2451, 'linkedlist': 2452, 'handled': 2453, '2011': 2454, 'pressing': 2455, 'firebug': 2456, 'evaluate': 2457, 'truncated': 2458, 'compact': 2459, 'cgi': 2460, 'programs': 2461, 'sqlstate': 2462, 'xna': 2463, 'serve': 2464, 'temporary': 2465, 'detail': 2466, 'file_get_contents': 2467, 'unchecked': 2468, 'combinations': 2469, 'combination': 2470, 'endpoint': 2471, 'javadoc': 2472, 'period': 2473, 'xib': 2474, 'multiselect': 2475, '200': 2476, 'knowing': 2477, 'distribution': 2478, 'photos': 2479, 'polymorphic': 2480, 'watch': 2481, 'arithmetic': 2482, 'countdown': 2483, 'flip': 2484, 'downloaded': 2485, 'jars': 2486, 'twodimensional': 2487, '41': 2488, 'inherit': 2489, 'mime': 2490, 'streams': 2491, 'ordered': 2492, 'ios7': 2493, 'rstudio': 2494, 'refer': 2495, 'keeps': 2496, 'picturebox': 2497, 'codeblocks': 2498, 'cases': 2499, 'insensitive': 2500, 'positioning': 2501, 'appengine': 2502, 'decimals': 2503, 'pivot': 2504, 'webapp': 2505, '1000': 2506, 'sync': 2507, 'phantomjs': 2508, 'momentjs': 2509, 'intellisense': 2510, 'boostasio': 2511, 'linkedin': 2512, 'stops': 2513, 'vs2010': 2514, 'edge': 2515, 'dlls': 2516, 'thumbnails': 2517, 'menus': 2518, 'frontend': 2519, 'formats': 2520, 'imap': 2521, 'creates': 2522, 'disappear': 2523, '21': 2524, 'navbar': 2525, 'draggable': 2526, 'gzip': 2527, 'vm': 2528, 'light': 2529, 'levels': 2530, 'dump': 2531, 'workbook': 2532, 'sensitive': 2533, 'safety': 2534, 'implements': 2535, 'paging': 2536, 'checkout': 2537, 'independent': 2538, 'sources': 2539, 'jasper': 2540, 'mapped': 2541, 'jsonparse': 2542, 'jsonp': 2543, 'classnotfoundexception': 2544, 'communicate': 2545, 'tried': 2546, 'commit': 2547, 'pyqt4': 2548, 'ember': 2549, 'composite': 2550, 'elastic': 2551, 'synchronized': 2552, 'bold': 2553, 'integrating': 2554, 'odata': 2555, 'allowing': 2556, 'ends': 2557, 'obj': 2558, 'codec': 2559, 'ifelse': 2560, 'deadlock': 2561, 'power': 2562, 'cython': 2563, 'hashing': 2564, 'globally': 2565, 'anaconda': 2566, 'jump': 2567, 'directives': 2568, 'enumeration': 2569, 'preparedstatement': 2570, 'authenticate': 2571, 'i18n': 2572, 'jsonobject': 2573, 'manual': 2574, 'parents': 2575, 'differently': 2576, 'ratio': 2577, 'graphs': 2578, 'nearest': 2579, 'fluent': 2580, 'consume': 2581, 'gps': 2582, 'jsonarray': 2583, 'python3': 2584, 'cpp': 2585, 'accessed': 2586, 'english': 2587, 'thing': 2588, 'onto': 2589, 'assertion': 2590, 'locked': 2591, 'populated': 2592, 'fileupload': 2593, 'advanced': 2594, 'opens': 2595, 'recommended': 2596, 'macros': 2597, 'cluster': 2598, 'jade': 2599, 'successfully': 2600, 'grails': 2601, 'uninstall': 2602, 'redirects': 2603, 'embedding': 2604, 'posted': 2605, 'animations': 2606, 'increasing': 2607, 'afnetworking': 2608, 'overloaded': 2609, 'indexing': 2610, 'supports': 2611, 'outputting': 2612, 'winrt': 2613, 'intent': 2614, 'listeners': 2615, 'hard': 2616, 'limited': 2617, 'resharper': 2618, 'longest': 2619, 'channel': 2620, 'concatenation': 2621, 'handshake': 2622, 'webkit': 2623, 'features': 2624, 'publish': 2625, 'identical': 2626, '18': 2627, 'nomethoderror': 2628, 'pthread': 2629, 'functional': 2630, 'lower': 2631, 'kivy': 2632, 'uwp': 2633, 'compress': 2634, 'scrollview': 2635, '22': 2636, 'invocation': 2637, 'sprintf': 2638, 'shadow': 2639, 'concurrency': 2640, 'trim': 2641, 'incomplete': 2642, 'nth': 2643, 'raphael': 2644, 'localization': 2645, 'urllib2': 2646, 'mat': 2647, 'backup': 2648, 'cocos2d': 2649, 'sleep': 2650, 'appropriate': 2651, 'thymeleaf': 2652, 'v2': 2653, 'rails3': 2654, 'alamofire': 2655, 'factor': 2656, 'collect': 2657, 'iso': 2658, 'select2': 2659, 'schedule': 2660, 'hosted': 2661, 'unavailable': 2662, 'alphabetically': 2663, 'djangos': 2664, 'typed': 2665, 'uppercase': 2666, 'lion': 2667, 'represent': 2668, 'nullable': 2669, 'forbidden': 2670, 'yet': 2671, 'customizing': 2672, 'bits': 2673, 'delimiter': 2674, 'responsive': 2675, 'rounded': 2676, 'unused': 2677, 'fires': 2678, 'ascending': 2679, 'javasqlsqlexception': 2680, 'threaded': 2681, 'webinf': 2682, 'roles': 2683, 'memcache': 2684, 'arent': 2685, 'guid': 2686, 'configured': 2687, 'might': 2688, 'preserving': 2689, 'el': 2690, 'imagemagick': 2691, 'maintaining': 2692, 'containers': 2693, 'serving': 2694, 'soup': 2695, 'sublime': 2696, 'gd': 2697, 'attached': 2698, 'customer': 2699, 'markdown': 2700, 'alpha': 2701, 'imports': 2702, 'begin': 2703, 'gcm': 2704, 'slideshow': 2705, 'sections': 2706, 'turning': 2707, 'smallest': 2708, 'trycatch': 2709, 'tokens': 2710, 'eof': 2711, 'improve': 2712, 'belongs_to': 2713, 'fully': 2714, 'messagebox': 2715, 'bubble': 2716, 'versa': 2717, 'mailer': 2718, 'leave': 2719, 'matrices': 2720, 'lightweight': 2721, 'stdmap': 2722, 'entityframework': 2723, 'joins': 2724, 'sizes': 2725, 'locations': 2726, 'solr': 2727, 'temporarily': 2728, 'subclassing': 2729, 'ienumerablet': 2730, 'dragging': 2731, 'jquerys': 2732, 'mapreduce': 2733, 'joining': 2734, 'launching': 2735, 'vc++': 2736, 'margin': 2737, 'entering': 2738, 'x64': 2739, 'igniter': 2740, 'mkmapview': 2741, 'listing': 2742, 'linqtosql': 2743, 'agility': 2744, 'yyyymmdd': 2745, 'friendly': 2746, 'people': 2747, 'multithread': 2748, 'scene': 2749, 'concatenating': 2750, 'clock': 2751, 'suppress': 2752, 'consolelog': 2753, 'guice': 2754, 'unittest': 2755, 'notify': 2756, 'fragments': 2757, 'prime': 2758, 'mq': 2759, 'cs': 2760, '_server': 2761, 'unmanaged': 2762, 'iterators': 2763, 'xp': 2764, 'producing': 2765, 'wall': 2766, 'forcing': 2767, 'mysqldb': 2768, 'retrieved': 2769, 'foundation': 2770, 'textblock': 2771, 'javamail': 2772, 'supplied': 2773, 'docker': 2774, 'scrape': 2775, 'renaming': 2776, 'invoked': 2777, 'websockets': 2778, 'persistence': 2779, 'injecting': 2780, 'greasemonkey': 2781, 'rate': 2782, 'iframes': 2783, 'logs': 2784, 'bitwise': 2785, 'complexity': 2786, 'listening': 2787, 'vice': 2788, 'resume': 2789, 'recaptcha': 2790, 'nltk': 2791, 'underscorejs': 2792, 'decorator': 2793, 'bufferedreader': 2794, 'redux': 2795, 'allows': 2796, 'github': 2797, 'aspect': 2798, 'didnt': 2799, 'uncheck': 2800, 'fabricjs': 2801, 'near': 2802, 'oledb': 2803, 'optimizing': 2804, 'hierarchical': 2805, 'gateway': 2806, 'unauthorized': 2807, 'session_start': 2808, 'commandline': 2809, 'pyspark': 2810, 'unexpectedly': 2811, 'retrofit': 2812, 'centos': 2813, 'xxx': 2814, 'jetty': 2815, 'webrtc': 2816, 'despite': 2817, 'stay': 2818, 'std': 2819, 'depth': 2820, 'positions': 2821, 'deleted': 2822, 'autofac': 2823, 'shapes': 2824, 'formdata': 2825, 'deployed': 2826, 'httpurlconnection': 2827, 'kind': 2828, 'yaxis': 2829, 'uploads': 2830, 'keydown': 2831, 'coredata': 2832, 'pipeline': 2833, 'monitoring': 2834, 'documentgetelementbyid': 2835, 'grunt': 2836, 'accesscontrolalloworigin': 2837, 'classname': 2838, 'webgl': 2839, 'panels': 2840, 'dispatcher': 2841, 'vuejs': 2842, 'safely': 2843, 'conflict': 2844, 'npm': 2845, 'choices': 2846, 'indexof': 2847, 'minute': 2848, 'flatten': 2849, 'prepare': 2850, 'migrating': 2851, 'layers': 2852, 'gc': 2853, 'effects': 2854, 'city': 2855, 'highest': 2856, '33': 2857, 'swf': 2858, 'low': 2859, 'achieve': 2860, 'xss': 2861, 'sites': 2862, 'clickonce': 2863, 'val': 2864, 'javascripts': 2865, 'lots': 2866, 'undeclared': 2867, 'automated': 2868, 'liferay': 2869, 'stacked': 2870, 'confused': 2871, 'evaluating': 2872, 'crossplatform': 2873, 'leaving': 2874, '61': 2875, 'automation': 2876, 'webservices': 2877, 'javalangoutofmemoryerror': 2878, 'crawler': 2879, 'upgrading': 2880, 'zooming': 2881, 'pooling': 2882, 'gradient': 2883, 'persisting': 2884, 'convention': 2885, 'interpreter': 2886, 'limiting': 2887, 'limits': 2888, 'computing': 2889, 'overlapping': 2890, 'rdlc': 2891, 'accepting': 2892, 'office': 2893, 'interview': 2894, 'beanstalk': 2895, 'quartz': 2896, 'qml': 2897, '2007': 2898, 'coming': 2899, 'spacing': 2900, 'yaml': 2901, 'hold': 2902, 'compatibility': 2903, 'instantiated': 2904, 'barplot': 2905, 'computers': 2906, 'angle': 2907, 'javautildate': 2908, 'tap': 2909, 'eager': 2910, 'jobs': 2911, 'volume': 2912, 'means': 2913, 'subviews': 2914, 'terminating': 2915, 'ec2': 2916, 'caught': 2917, 'descending': 2918, 'serialized': 2919, 'scalar': 2920, 'mixing': 2921, 'threadpool': 2922, 'asmx': 2923, 'httppost': 2924, 'ngclick': 2925, 'gesture': 2926, 'mod_rewrite': 2927, 'blur': 2928, 'generates': 2929, 'getelementbyid': 2930, 'subfolder': 2931, 'wp7': 2932, 'passwords': 2933, 'scheduler': 2934, '2x': 2935, 'advice': 2936, 'ternary': 2937, 'wmi': 2938, 'ending': 2939, 'reached': 2940, 'ports': 2941, 'clr': 2942, 'whose': 2943, 'finally': 2944, 'till': 2945, 'star': 2946, 'closures': 2947, 'cached': 2948, 'closes': 2949, 'spec': 2950, 'rich': 2951, 'languages': 2952, 'msbuild': 2953, 'scatter': 2954, 'instantiation': 2955, 'payload': 2956, 'serializer': 2957, 'bypass': 2958, 'diff': 2959, 'onmouseover': 2960, 'colon': 2961, 'winapi': 2962, 'queues': 2963, 'doubles': 2964, 'ever': 2965, 'radiobutton': 2966, 'encountered': 2967, 'broadcast': 2968, 'gif': 2969, 'logical': 2970, 'loader': 2971, 'httpget': 2972, 'typing': 2973, 'encrypting': 2974, 'webserver': 2975, 'drawn': 2976, 'scheduled': 2977, 'ranges': 2978, 'actionlistener': 2979, '2nd': 2980, 'pomxml': 2981, 'direction': 2982, 'book': 2983, 'indentation': 2984, 'animating': 2985, 'getjson': 2986, 'backing': 2987, 'pm': 2988, 'stringformat': 2989, 'material': 2990, 'surface': 2991, 'z': 2992, 'registering': 2993, 'corrupted': 2994, 'ref': 2995, 'business': 2996, 'packets': 2997, 'stopping': 2998, 'stylesheet': 2999, 'reorder': 3000, 'procedures': 3001, '60': 3002, 'escaped': 3003, 'terminated': 3004, 'delphi': 3005, 'nilnilclass': 3006, 'pointing': 3007, '401': 3008, 'directx': 3009, 'jscrollpane': 3010, 'nullreferenceexception': 3011, 'modifier': 3012, 'recognition': 3013, 'indexphp': 3014, 'rollback': 3015, 'since': 3016, 'years': 3017, 'builds': 3018, 'higher': 3019, 'fb': 3020, 'recent': 3021, 'develop': 3022, 'goes': 3023, 'dash': 3024, 'alive': 3025, 'equation': 3026, 'jumping': 3027, 'thats': 3028, 'databind': 3029, 'division': 3030, 'minus': 3031, 'workaround': 3032, 'stand': 3033, 'processed': 3034, 'paint': 3035, 'dismiss': 3036, 'addition': 3037, 'pthreads': 3038, 'archive': 3039, 'four': 3040, 'foreignkey': 3041, 'hang': 3042, 'databound': 3043, 'freeze': 3044, 'indent': 3045, 'parsed': 3046, 'entitymanager': 3047, 'scripting': 3048, 'datacontext': 3049, 'sliding': 3050, 'benefits': 3051, 'braces': 3052, 'membership': 3053, 'jython': 3054, 'freezes': 3055, 'animated': 3056, 'nstimer': 3057, 'resizable': 3058, '34': 3059, 'keywords': 3060, 'fonts': 3061, 'easily': 3062, 'ie11': 3063, 'managepy': 3064, '23': 3065, '193': 3066, 'classic': 3067, 'subscript': 3068, 'elapsed': 3069, 'choosing': 3070, 'hit': 3071, 'karma': 3072, 'xls': 3073, 'svn': 3074, 'phpfpm': 3075, 'newlines': 3076, 'beta': 3077, 'bring': 3078, 'smarty': 3079, 'filled': 3080, 'hbase': 3081, 'followed': 3082, 'opacity': 3083, 'gae': 3084, 'ibm': 3085, 'peer': 3086, 'dots': 3087, 'indicator': 3088, 'restore': 3089, 'expire': 3090, 'javalangillegalstateexception': 3091, 'incoming': 3092, 'dns': 3093, 'dbcontext': 3094, 'mod_wsgi': 3095, 'states': 3096, 'conventions': 3097, 'ipn': 3098, 't_string': 3099, 'statistics': 3100, 'intersection': 3101, '26': 3102, 'gtk': 3103, 'submitted': 3104, 'formatter': 3105, 'scheme': 3106, 'score': 3107, 'tls': 3108, 'runnable': 3109, 'powerpoint': 3110, 'coverage': 3111, 'consumer': 3112, 'toolkit': 3113, 'attr': 3114, 'cons': 3115, 'calculations': 3116, 'considered': 3117, 'selectors': 3118, 'webmethod': 3119, 'human': 3120, 'sass': 3121, 'preferred': 3122, 'guide': 3123, 'mocha': 3124, 'steps': 3125, 'applicable': 3126, 'incrementing': 3127, 'parameterized': 3128, 'stringbuilder': 3129, 'ff': 3130, 'ssis': 3131, 'cocoapods': 3132, 'recommend': 3133, 'cloning': 3134, '1d': 3135, 'responses': 3136, 'newly': 3137, 'clustering': 3138, 'writer': 3139, 'javalangillegalargumentexception': 3140, 'ngmodel': 3141, 'stripe': 3142, 'duplicated': 3143, 'sessionfactory': 3144, 'infowindow': 3145, 'dialogs': 3146, 'quiz': 3147, 'quit': 3148, 'responding': 3149, 'jqueryajax': 3150, '1st': 3151, 'useful': 3152, 'marks': 3153, 'efficiency': 3154, 'truncate': 3155, 'hitting': 3156, 'removed': 3157, 'shopping': 3158, 'jqueryui': 3159, 'asio': 3160, 'synchronize': 3161, 'triggers': 3162, 'today': 3163, 'destination': 3164, 'valgrind': 3165, 'shutdown': 3166, 'telerik': 3167, 'utility': 3168, 'browse': 3169, 'translation': 3170, 'explode': 3171, '#include': 3172, 'ilist': 3173, 'sequences': 3174, 'future': 3175, 'specifier': 3176, 'vba': 3177, 'wildcards': 3178, 'equality': 3179, 'handlebars': 3180, 'springmvc': 3181, 'owin': 3182, 'na': 3183, 'alphabetical': 3184, 'protobuf': 3185, 'protect': 3186, 'happen': 3187, '000': 3188, 'specifically': 3189, 'literals': 3190, 'iis7': 3191, 'dropbox': 3192, 'pushing': 3193, 'disappears': 3194, 'training': 3195, 'certificates': 3196, 'loaderror': 3197, '302': 3198, 'axes': 3199, 'xamarinforms': 3200, 'migrate': 3201, 'answer': 3202, 'openlayers': 3203, 'org': 3204, 'g': 3205, 'suite': 3206, 'apostrophe': 3207, 'associations': 3208, 'artifact': 3209, 'arabic': 3210, 'exited': 3211, '80': 3212, 'ask': 3213, 'kafka': 3214, 'assert': 3215, 'appended': 3216, 'stretch': 3217, 'json_decode': 3218, 'ext': 3219, 'incorrectly': 3220, 'javalangclasscastexception': 3221, 'javaioioexception': 3222, 'filenames': 3223, 'ive': 3224, 'scikitlearn': 3225, 'interpreted': 3226, 'designing': 3227, 'disadvantages': 3228, 'restkit': 3229, '3x': 3230, 'nio': 3231, 'uirouter': 3232, 'desired': 3233, 'descriptor': 3234, 'umbraco': 3235, 'uitableviewcells': 3236, 'cipher': 3237, 'remotely': 3238, 'reliable': 3239, 'degrees': 3240, 'classloader': 3241, 'mysql_fetch_array': 3242, 'mvc5': 3243, 'music': 3244, 'dispose': 3245, 'scenario': 3246, 'mpmovieplayercontroller': 3247, 'mpi': 3248, 'worksheet': 3249, 'doctrine2': 3250, 'scopes': 3251, '43': 3252, 'scrollable': 3253, 'typefile': 3254, 'dollar': 3255, 'modification': 3256, 'modern': 3257, 'geolocation': 3258, 'classs': 3259, 'initializers': 3260, 'downloads': 3261, 'anchors': 3262, 'h2': 3263, 'gone': 3264, 'conflicting': 3265, 'parsecom': 3266, 'connector': 3267, 'portable': 3268, 'continuously': 3269, 'recognizing': 3270, 'controlling': 3271, 'corners': 3272, 'weeks': 3273, 'pipes': 3274, 'pictures': 3275, 'physical': 3276, 'wifi': 3277, 'produces': 3278, 'packet': 3279, 'concat': 3280, 'overwriting': 3281, 'foreground': 3282, 'unless': 3283, 'customized': 3284, 'abort': 3285, 'datastore': 3286, 'datatemplate': 3287, 'datetimepicker': 3288, 'acceptable': 3289, 'db2': 3290, 'occured': 3291, 'underscores': 3292, 'reasons': 3293, 'segment': 3294, 'charset': 3295, 'sparse': 3296, 'automate': 3297, 'maximize': 3298, 'benefit': 3299, 'manipulating': 3300, 'matched': 3301, 'masterpage': 3302, 'traversal': 3303, 'ago': 3304, '55': 3305, 'magic': 3306, 'evaluation': 3307, 'sheets': 3308, 'avplayer': 3309, 'marked': 3310, 'verification': 3311, 'es': 3312, 'axis2': 3313, 'manytoone': 3314, 'writes': 3315, 'linkbutton': 3316, 'social': 3317, 'servicestack': 3318, 'sonar': 3319, 'kit': 3320, 'bracket': 3321, 'doxygen': 3322, 'memorystream': 3323, 'fscanf': 3324, 'bucket': 3325, 'listobject': 3326, 'ones': 3327, 'pulling': 3328, 'instantiating': 3329, 'radius': 3330, 'zindex': 3331, 'compilers': 3332, 'pros': 3333, 'compression': 3334, 'overrides': 3335, 'unload': 3336, 'little': 3337, 'epoch': 3338, 'py': 3339, '2003': 3340, 'alternate': 3341, 'thousand': 3342, 'j2me': 3343, 'pydev': 3344, 'unicodeencodeerror': 3345, 'us': 3346, 'traffic': 3347, 'comes': 3348, 'openerp': 3349, 'pyside': 3350, 'dealloc': 3351, 'systems': 3352, 'corner': 3353, 'strict': 3354, 'pojo': 3355, 'lat': 3356, 'grey': 3357, 'php5': 3358, 'placed': 3359, 'knitr': 3360, 'xelement': 3361, 'k': 3362, 'pin': 3363, 'phpstorm': 3364, 'tail': 3365, 'invisible': 3366, 'keyup': 3367, 'upper': 3368, 'percent': 3369, 'promises': 3370, '_session': 3371, 'isset': 3372, 'wildfly': 3373, 'proguard': 3374, 'webforms': 3375, 'offline': 3376, 'interpolation': 3377, 'printed': 3378, 'unwanted': 3379, 'varchar': 3380, 'conflicts': 3381, 'autowired': 3382, 'inserts': 3383, 'past': 3384, 'xsl': 3385, 'expired': 3386, 'analysis': 3387, 'rand': 3388, 'mysql_query': 3389, 'interaction': 3390, 'gdi+': 3391, 'suddenly': 3392, '405': 3393, 'suffix': 3394, 'suggestions': 3395, 'summary': 3396, 'executes': 3397, 'visualization': 3398, 'reusing': 3399, 'xmlserializer': 3400, 'chaining': 3401, 'newbie': 3402, 'localized': 3403, 'multilevel': 3404, '42': 3405, 'f': 3406, 'flush': 3407, 'mp4': 3408, 'bot': 3409, 'intercept': 3410, 'calayer': 3411, 'interrupt': 3412, 'typedef': 3413, 'seperate': 3414, 'tmp': 3415, 'sender': 3416, 'wrapped': 3417, 'segfault': 3418, 'semicolon': 3419, '_': 3420, 'respect': 3421, 'effective': 3422, 'indexed': 3423, 'remember': 3424, 'annotated': 3425, 'definitions': 3426, 'slashes': 3427, 'decrypting': 3428, 'highchart': 3429, 'arraylists': 3430, 'nsurlconnection': 3431, 'red': 3432, 'declarations': 3433, 'slicing': 3434, 'advantage': 3435, 'looks': 3436, 'helpers': 3437, 'obtaining': 3438, 'located': 3439, 'resolving': 3440, 'accuracy': 3441, 'uisearchbar': 3442, 'indexhtml': 3443, 'simple_form': 3444, 'managing': 3445, 'noclassdeffounderror': 3446, 'electron': 3447, 'inheriting': 3448, 'hive': 3449, 'extern': 3450, 'integrity': 3451, 'ansi': 3452, 'techniques': 3453, 'integral': 3454, 'apk': 3455, 'anyway': 3456, 'focused': 3457, 'internally': 3458, 'fopen': 3459, 'textfile': 3460, 'term': 3461, 'malformed': 3462, 'ioexception': 3463, 'operands': 3464, 'windowlocation': 3465, 'rabbitmq': 3466, 'rectangles': 3467, 'redirected': 3468, 'redraw': 3469, 'refactoring': 3470, 'nsinvalidargumentexception': 3471, 'degree': 3472, 'released': 3473, 'remaining': 3474, '19': 3475, 'density': 3476, 'chunk': 3477, 'representing': 3478, 'chinese': 3479, 'vs2012': 3480, 'resized': 3481, 'vs2008': 3482, 'restarting': 3483, 'quality': 3484, 'cycle': 3485, 'tabbar': 3486, 'oriented': 3487, 'contexts': 3488, 'pom': 3489, 'permutations': 3490, 'popover': 3491, 'contenttype': 3492, 'posix': 3493, 'construction': 3494, 'crossbrowser': 3495, 'crossdomain': 3496, 'connectionstring': 3497, 'prestashop': 3498, 'previously': 3499, 'processstart': 3500, 'profiling': 3501, 'overlap': 3502, 'computed': 3503, 'overhead': 3504, 'curly': 3505, 'curve': 3506, 'nesting': 3507, 'rewriting': 3508, 'rolling': 3509, 'visitors': 3510, 'splash': 3511, 'erase': 3512, 'spritekit': 3513, 'backslash': 3514, 'establish': 3515, 'exercise': 3516, 'existence': 3517, 'expose': 3518, 'subdomains': 3519, 'subprocesspopen': 3520, 'fadein': 3521, 'jmeter': 3522, 'assemblies': 3523, 'xmlreader': 3524, 'javac': 3525, 'japanese': 3526, 'j2ee': 3527, 'iqueryable': 3528, 'flat': 3529, 'specification': 3530, 'solutions': 3531, 'x86_64': 3532, 'migrations': 3533, 'salesforce': 3534, 'msvc': 3535, 'caller': 3536, 'movie': 3537, 'movement': 3538, 'scrolled': 3539, 'mix': 3540, 'minimize': 3541, 'seo': 3542, 'beyond': 3543, 'messaging': 3544, 'boundary': 3545, 'mdb': 3546, 'mass': 3547, 'sidebar': 3548, 'mamp': 3549, 'simply': 3550, 'sized': 3551, 'seen': 3552, 'pick': 3553, 'activation': 3554, 'traverse': 3555, 'actionscript': 3556, '__init__': 3557, 'implementations': 3558, 'timestamps': 3559, 'activemq': 3560, 'tips': 3561, 'transient': 3562, 'googles': 3563, 'ignores': 3564, 'timeline': 3565, 'uploader': 3566, 'transformation': 3567, 'imagefield': 3568, 'unordered': 3569, 'todays': 3570, 'hdfs': 3571, 'threw': 3572, 'geocoding': 3573, 'hy000': 3574, 'ticks': 3575, 'unicodedecodeerror': 3576, 'algorithms': 3577, 'uinavigationbar': 3578, 'gmt': 3579, 'tile': 3580, 'yield': 3581, '_files': 3582, 'hhmmss': 3583, 'aligned': 3584, 'activex': 3585, 'presence': 3586, 'ssrs': 3587, 'viewport': 3588, 'secret': 3589, 'nonblocking': 3590, 'supporting': 3591, 'wp8': 3592, 'anyobject': 3593, 'placement': 3594, 'optimized': 3595, 'workflow': 3596, 'openshift': 3597, 'opencl': 3598, 'storyboards': 3599, 'javalangnosuchmethoderror': 3600, 'sqlcommand': 3601, 'imshow': 3602, 'selects': 3603, 'int32': 3604, 'resetting': 3605, 'sdl': 3606, 'xhtml': 3607, 'scaling': 3608, 'ninject': 3609, 'osgi': 3610, 'punctuation': 3611, 'scientific': 3612, 'webcam': 3613, 'stdset': 3614, 'djangorestframework': 3615, 'correlation': 3616, 'intended': 3617, 'demo': 3618, 'requiring': 3619, 'vsto': 3620, 'lambdas': 3621, 'cake': 3622, 'vagrant': 3623, 'docx': 3624, 'dao': 3625, 'supposed': 3626, 'nib': 3627, 'autowire': 3628, 'availability': 3629, 'factorygirl': 3630, 'collector': 3631, 'varying': 3632, 'accurate': 3633, 'nspredicate': 3634, 'constantly': 3635, 'transparency': 3636, 'ios5': 3637, 'flexible': 3638, 'transport': 3639, 'periodically': 3640, 'credit': 3641, 'loses': 3642, 'edition': 3643, 'mathematical': 3644, 'alphabet': 3645, 'observe': 3646, 'markup': 3647, 'bidirectional': 3648, 'flags': 3649, 'recording': 3650, 'itemssource': 3651, 'simultaneous': 3652, 'systemstring': 3653, 'mapkit': 3654, 'debian': 3655, 'numerical': 3656, 'gb': 3657, 'signals': 3658, 'ocr': 3659, 'wav': 3660, 'mechanism': 3661, 'girl': 3662, 'hyphen': 3663, 'sends': 3664, 'onetoone': 3665, 'taskbar': 3666, 'separately': 3667, 'expensive': 3668, 'env': 3669, 'writable': 3670, 'policy': 3671, 'vbscript': 3672, 'preference': 3673, 'transactional': 3674, 'borders': 3675, 'polyline': 3676, 'jasperreports': 3677, 'predicate': 3678, 'predefined': 3679, 'x86': 3680, 'raising': 3681, 'argumenterror': 3682, 'highlighted': 3683, 'args': 3684, 'randomize': 3685, 'dynamodb': 3686, 'samples': 3687, 'combined': 3688, 'processor': 3689, 'things': 3690, 'jodatime': 3691, 'paper': 3692, 'subfolders': 3693, 'inconsistent': 3694, 'carriage': 3695, 'retry': 3696, 'overridden': 3697, 'think': 3698, 'subplots': 3699, 'substrings': 3700, 'textures': 3701, 'jscript': 3702, 'associate': 3703, 'aka': 3704, 'facet': 3705, 'stub': 3706, 'uiimagepickercontroller': 3707, 'welcome': 3708, 'digital': 3709, 'dirty': 3710, 'neural': 3711, 'forloop': 3712, 'hanging': 3713, 'handles': 3714, 'volley': 3715, 'culture': 3716, 'outofmemoryerror': 3717, 'forever': 3718, 'navigating': 3719, 'serialport': 3720, 'neither': 3721, 'album': 3722, 'viewbag': 3723, 'preferences': 3724, 'raised': 3725, 'polling': 3726, '128': 3727, 'classcastexception': 3728, 'arm': 3729, 'breakpoints': 3730, 'taken': 3731, 'breakpoint': 3732, 'xmpp': 3733, 'dictionarystring': 3734, 'regardless': 3735, 'notepad++': 3736, 'contextmenu': 3737, 'sortable': 3738, 'solved': 3739, 'hovering': 3740, 'releasing': 3741, 'driven': 3742, 'ci': 3743, 'guessing': 3744, 'datarow': 3745, 'holding': 3746, 'qstring': 3747, 'categorical': 3748, 'datalist': 3749, 'chunks': 3750, 'sequentially': 3751, 'sqlexception': 3752, 'depends': 3753, 'viewing': 3754, 'az': 3755, 'awt': 3756, 'although': 3757, 'cin': 3758, 'uitableviewcontroller': 3759, 'downgrade': 3760, 'diagonal': 3761, 'xmlelement': 3762, 'delimiters': 3763, 'addin': 3764, 'deletion': 3765, 'disconnect': 3766, 'middleware': 3767, 'hack': 3768, 'speech': 3769, 'subtracting': 3770, 'tweet': 3771, 'targets': 3772, 'asterisk': 3773, 'sequential': 3774, 'ioc': 3775, 'vertex': 3776, 'webpages': 3777, 'systemnullreferenceexception': 3778, 'gstreamer': 3779, 'mappings': 3780, 'contenteditable': 3781, 'dbmigrate': 3782, 'cocos2dx': 3783, 'effectively': 3784, 'emulate': 3785, 'official': 3786, 'freed': 3787, 'portion': 3788, 'marshal': 3789, 'ef6': 3790, 'windowprint': 3791, 'wxwidgets': 3792, 'simulation': 3793, 'adobe': 3794, 'perfect': 3795, 'readline': 3796, 'ddmmyyyy': 3797, 'possibly': 3798, 'pdfs': 3799, 'contacts': 3800, 'mainwindow': 3801, 'pdoexception': 3802, 'subquery': 3803, 'pi': 3804, 'natural': 3805, 'significant': 3806, 'richfaces': 3807, 'finishes': 3808, 'admob': 3809, 'board': 3810, 'marshalling': 3811, 'uicollectionviewcell': 3812, 'reducing': 3813, 'ram': 3814, 'subclasses': 3815, 'translating': 3816, 'pid': 3817, 'reversing': 3818, 'threadsleep': 3819, 'xy': 3820, 'gemfile': 3821, 'subdirectory': 3822, 'alone': 3823, 'alertdialog': 3824, 'rank': 3825, 'mb': 3826, 'raphaeljs': 3827, 'wants': 3828, 'nuget': 3829, 'eclipselink': 3830, 'setters': 3831, 'transpose': 3832, 'unbind': 3833, 'pre': 3834, 'pad': 3835, 'redirect_to': 3836, 'trap': 3837, 'accepts': 3838, 'loss': 3839, 'webform': 3840, 'hides': 3841, 'enclosing': 3842, 'ideas': 3843, 'age': 3844, 'drawer': 3845, 'mod': 3846, '2dimensional': 3847, 'checkboxlist': 3848, 'atomic': 3849, 'configurable': 3850, 'hardware': 3851, 'hashcode': 3852, 'nonascii': 3853, 'jwt': 3854, 'unset': 3855, 'legacy': 3856, 'layouts': 3857, 'chosen': 3858, 'amounts': 3859, 'thousands': 3860, 'cards': 3861, 'sailsjs': 3862, 'svm': 3863, 'frequent': 3864, 'leaves': 3865, 'unsafe': 3866, 'ld': 3867, 'presses': 3868, 'dispatch': 3869, 'se': 3870, 'compared': 3871, 'hresult': 3872, 'cassandra': 3873, 'javanetsocketexception': 3874, 'calculated': 3875, 'homepage': 3876, 'attack': 3877, 'homebrew': 3878, 'attaching': 3879, 'xhr': 3880, 'arrows': 3881, 'asking': 3882, 'exc_bad_access': 3883, 'placeholders': 3884, 'workspace': 3885, 'scrollbars': 3886, 'ampersand': 3887, 'partially': 3888, 'unserialize': 3889, 'timespan': 3890, '90': 3891, 'tooltips': 3892, 'requirements': 3893, 'feeds': 3894, 'news': 3895, 'grayscale': 3896, 'jsonstringify': 3897, 'reflect': 3898, 'itemtemplate': 3899, 'adds': 3900, 'lvalue': 3901, 'soft': 3902, 'findall': 3903, 'wizard': 3904, 'filesystem': 3905, 'windowonload': 3906, '#2': 3907, 'inflating': 3908, 'locks': 3909, 'nsdateformatter': 3910, 'prev': 3911, 'lang': 3912, 'reactnative': 3913, 'concept': 3914, 'greek': 3915, 'fake': 3916, 'alter': 3917, 'glsl': 3918, 'argv': 3919, 'blog': 3920, 'mysqli_query': 3921, 'subdirectories': 3922, 'httpresponse': 3923, 'sizeof': 3924, 'accepted': 3925, 'submenu': 3926, 'filtered': 3927, 'occur': 3928, 'sunday': 3929, '1204': 3930, 'lose': 3931, 'outputstream': 3932, 'hot': 3933, 'annotate': 3934, 't_variable': 3935, 'getters': 3936, 'ipaddress': 3937, 'subject': 3938, 'indexerror': 3939, 'amp': 3940, 'observer': 3941, 'recyclerview': 3942, 'stock': 3943, 'activities': 3944, 'flasksqlalchemy': 3945, 'ppt': 3946, 'rubygems': 3947, 'suspend': 3948, 'snake': 3949, 'identifying': 3950, 'swagger': 3951, 'interact': 3952, 'mutable': 3953, 'platforms': 3954, 'decrement': 3955, 'nsobject': 3956, 'logon': 3957, 'emit': 3958, 'margins': 3959, 'smoothly': 3960, 'act': 3961, 'docs': 3962, 'iterable': 3963, 'directions': 3964, 'activate': 3965, 'pthread_create': 3966, 'nice': 3967, 'payments': 3968, 'thirdparty': 3969, 'happening': 3970, 'flex': 3971, 'outputs': 3972, 'bat': 3973, 'friend': 3974, 'doubly': 3975, 'actively': 3976, 'factors': 3977, 'multiplying': 3978, 'qtcreator': 3979, 'administrator': 3980, 'templated': 3981, 'reply': 3982, 'discrete': 3983, 'clojure': 3984, 'removal': 3985, 'tpl': 3986, 'circles': 3987, 'validations': 3988, 'addeventlistener': 3989, 'stanford': 3990, 'consumption': 3991, 'colored': 3992, 'weak': 3993, 'shouldnt': 3994, 'meteorjs': 3995, 'remain': 3996, 'sqlconnection': 3997, 'cout': 3998, 'shortest': 3999, 'pending': 4000, 'anymore': 4001, 'receiver': 4002, 'crossorigin': 4003, 'timeseries': 4004, 'chromedriver': 4005, 'subscribe': 4006, 'operating': 4007, 'elementwise': 4008, '09': 4009, 'license': 4010, 'stackoverflow': 4011, 'opensource': 4012, 'leopard': 4013, 'disposed': 4014, 'linearlayout': 4015, 'aop': 4016, '256': 4017, 'outline': 4018, 'expect': 4019, 'func': 4020, 'expanding': 4021, 'userdefined': 4022, 'masked': 4023, 'nonzero': 4024, 'latex': 4025, 'invalidate': 4026, 'collectionview': 4027, 'producer': 4028, 'turned': 4029, 'relational': 4030, 'childs': 4031, 'buffers': 4032, 'pretty': 4033, 'rejected': 4034, 'scrolltop': 4035, 'pyplot': 4036, 'vnext': 4037, 'windsor': 4038, 'onclicklistener': 4039, 'copied': 4040, 'cpanel': 4041, 'fallback': 4042, 'drawrect': 4043, 'daemon': 4044, 'httpservletrequest': 4045, 'wp': 4046, 'sense': 4047, 'stringsplit': 4048, 'mysql2': 4049, 'captured': 4050, 'mysql_connect': 4051, 'immediate': 4052, 'titles': 4053, 'usable': 4054, 'affect': 4055, 'asm': 4056, 'spider': 4057, '192': 4058, 'disappearing': 4059, 'separating': 4060, 'environments': 4061, 'underline': 4062, 'impossible': 4063, 'attempts': 4064, 'machines': 4065, 'rcp': 4066, 'prototypes': 4067, 'prints': 4068, 'street': 4069, 'helloworld': 4070, 'straight': 4071, 'parameterless': 4072, 'outofmemoryexception': 4073, 'profiler': 4074, 'constructed': 4075, 'strcpy': 4076, 'timezones': 4077, 'timing': 4078, 'submits': 4079, 'oauth2': 4080, 'reach': 4081, 'improving': 4082, 'lan': 4083, 'skipping': 4084, 'oserror': 4085, 'avaudioplayer': 4086, 'wide': 4087, 'fan': 4088, 'barcode': 4089, 'illegalstateexception': 4090, 'prop': 4091, 'timeouts': 4092, 'toggling': 4093, 'probability': 4094, 'unfortunately': 4095, 'organize': 4096, 'specialization': 4097, 'llvm': 4098, 'pyramid': 4099, 'enumerate': 4100, 'badge': 4101, 'backwards': 4102, 'backspace': 4103, 'lengths': 4104, 'optimal': 4105, 'stable': 4106, 'blackberry': 4107, 'openxml': 4108, 'limitations': 4109, 'sys': 4110, 'stamp': 4111, 'onsubmit': 4112, 'stroke': 4113, 'figures': 4114, 'legal': 4115, 'strongly': 4116, 'backgroundimage': 4117, 'exposing': 4118, 'cropping': 4119, 'preferably': 4120, 'affected': 4121, 'slug': 4122, 'comparisons': 4123, 'parenthesis': 4124, 'cshtml': 4125, '75': 4126, 'raspberry': 4127, 'smart': 4128, 'kml': 4129, 'j': 4130, 'kinect': 4131, 'ascx': 4132, 'has_one': 4133, 'important': 4134, 'lot': 4135, 'concrete': 4136, 'unmarshalling': 4137, 'yesterday': 4138, 'coldfusion': 4139, '__attribute__': 4140, 'java_home': 4141, 'crontab': 4142, 'communicating': 4143, 'pyc': 4144, 'cstring': 4145, 'stdclass': 4146, 'subtraction': 4147, 'snap': 4148, 'becomes': 4149, 'pro': 4150, '70': 4151, 'assignments': 4152, 'allocating': 4153, 'comparator': 4154, 'www': 4155, 'digest': 4156, 'sibling': 4157, 'tfs': 4158, 'dropping': 4159, 'serversocket': 4160, 'turns': 4161, 'delayed': 4162, 'relations': 4163, 'person': 4164, 'apns': 4165, '36': 4166, 'disconnected': 4167, 'hyperlinks': 4168, 'segments': 4169, 'resulting': 4170, 'intervals': 4171, 'bytearray': 4172, 'inspect': 4173, 'apache2': 4174, 'chance': 4175, 'castle': 4176, 'hub': 4177, 'usercontrols': 4178, 'accounts': 4179, 'retrieval': 4180, 'theano': 4181, 'routeprovider': 4182, 'nsurl': 4183, 'mavericks': 4184, 'versioning': 4185, 'maximized': 4186, 'appium': 4187, 'maybe': 4188, 'flickering': 4189, 'refactor': 4190, 'didselectrowatindexpath': 4191, '502': 4192, 'ear': 4193, 'meant': 4194, '05': 4195, 'theres': 4196, 'dynamics': 4197, 'rotated': 4198, 'involving': 4199, 'permitted': 4200, 'permutation': 4201, '__getitem__': 4202, 'visit': 4203, 'unbound': 4204, 'deviation': 4205, 'hooks': 4206, 'terms': 4207, 'corrupt': 4208, 'rubys': 4209, '1404': 4210, 'acting': 4211, 'detached': 4212, 'require_once': 4213, 'displaynone': 4214, 'typetext': 4215, 'acquire': 4216, 'scanning': 4217, 'placing': 4218, 'say': 4219, 'among': 4220, 'djangoadmin': 4221, 'ngshow': 4222, 'distinguish': 4223, 'sandbox': 4224, 'capitalize': 4225, 'cascade': 4226, 'worth': 4227, '16bit': 4228, 'interest': 4229, 'grammar': 4230, 'viewpager': 4231, 'wheel': 4232, 'nonempty': 4233, 'temp': 4234, 'gray': 4235, 'internationalization': 4236, 'temperature': 4237, 'secured': 4238, 'international': 4239, 'repo': 4240, 'couchdb': 4241, 'repositories': 4242, 'caseinsensitive': 4243, 'newer': 4244, 'cost': 4245, 'cascading': 4246, 'represented': 4247, 'corruption': 4248, 'ws': 4249, 'discover': 4250, 'edited': 4251, 'manner': 4252, 'clob': 4253, 'five': 4254, 'grabbing': 4255, 'mapper': 4256, 'cellforrowatindexpath': 4257, 'shorter': 4258, 'contentlength': 4259, 'getelementsbyclassname': 4260, 'dir': 4261, 'showdialog': 4262, 'accessor': 4263, 'rect': 4264, 'ipv6': 4265, 'shell_exec': 4266, 'forwarding': 4267, 'receives': 4268, 'weka': 4269, '71': 4270, 'outgoing': 4271, 'ddl': 4272, 'bindingsource': 4273, 'des': 4274, 'props': 4275, 'intermediate': 4276, 'eliminate': 4277, 'ctrl': 4278, 'secondary': 4279, 'inherits': 4280, 'follows': 4281, 'len': 4282, 'idiom': 4283, 'presentation': 4284, 'simplexmlelement': 4285, 'ordinal': 4286, 'stores': 4287, 'simplify': 4288, 'half': 4289, 'scrolls': 4290, 'mvc2': 4291, 'de': 4292, 'percentages': 4293, 'webxml': 4294, 'monday': 4295, 'autoscroll': 4296, 'webapplication': 4297, 'ini': 4298, 'commaseparated': 4299, 'leads': 4300, 'reads': 4301, 'moment': 4302, 'autowiring': 4303, 'perfectly': 4304, 'converts': 4305, 'automating': 4306, 'repaint': 4307, 'rmarkdown': 4308, 'suggestion': 4309, 'anywhere': 4310, 'lifecycle': 4311, 'javalangunsatisfiedlinkerror': 4312, 'gridlayout': 4313, 'panning': 4314, 'reconnect': 4315, 'lifetime': 4316, 'openid': 4317, 'reactrouter': 4318, 'backcolor': 4319, 'instruction': 4320, 'triangles': 4321, 'unlock': 4322, 'squares': 4323, 'libs': 4324, 'fosuserbundle': 4325, 'stringreplace': 4326, 'repeats': 4327, 'arrayliststring': 4328, 'sides': 4329, 'phase': 4330, 'partialview': 4331, 'trees': 4332, 'q': 4333, 'objectid': 4334, 'technique': 4335, 'opposed': 4336, 'sscanf': 4337, 'uitabbarcontroller': 4338, 'mandatory': 4339, 'dos': 4340, 'seeing': 4341, 'dead': 4342, 'phtml': 4343, 'ngif': 4344, 'requirement': 4345, 'killed': 4346, 'subscription': 4347, 'aspectj': 4348, 'hhmm': 4349, 'destruction': 4350, 'dock': 4351, 'fetched': 4352, 'pager': 4353, 'httprequest': 4354, 'nas': 4355, 'purposes': 4356, 'checkedlistbox': 4357, 'godaddy': 4358, 'destroyed': 4359, 'compareto': 4360, 'textfields': 4361, 'expiration': 4362, 'latin': 4363, 'compiletime': 4364, 'u': 4365, 'mstest': 4366, 'msg': 4367, 'strength': 4368, 'isolate': 4369, 'dist': 4370, 'outofmemory': 4371, 'disposing': 4372, 'executereader': 4373, 'providing': 4374, 'parallelforeach': 4375, 'rxjava': 4376, 'published': 4377, 'keystore': 4378, 'subqueries': 4379, 'stdlist': 4380, 'conform': 4381, 'newtonsoftjson': 4382, 'moved': 4383, 'mousedown': 4384, 'centering': 4385, 'motion': 4386, 'monthly': 4387, 'monotouch': 4388, 'xx': 4389, 'interceptor': 4390, 'cvmat': 4391, 'crawling': 4392, 'inactive': 4393, 'instanceof': 4394, 'grep': 4395, 'nav': 4396, 'documentready': 4397, 'playlist': 4398, 'attacks': 4399, 'sums': 4400, 'realloc': 4401, 'mousemove': 4402, 'move_uploaded_file': 4403, 'as3': 4404, 'scoping': 4405, 'mouseout': 4406, 'prevents': 4407, 'reserved': 4408, 'rearrange': 4409, 'scratch': 4410, 'requesting': 4411, 'swapping': 4412, 'comparable': 4413, 'lag': 4414, 'systemtimerstimer': 4415, '111': 4416, 'interpret': 4417, 'exiting': 4418, 'selectedindex': 4419, 'predict': 4420, 'dtype': 4421, 'userid': 4422, 'dummy': 4423, 'clauses': 4424, 'bridge': 4425, 'getelementsbytagname': 4426, 'robot': 4427, 'uibarbuttonitem': 4428, 'engines': 4429, 'neo4j': 4430, 'cleanup': 4431, 'hand': 4432, 'reusable': 4433, 'jpanels': 4434, 'setattribute': 4435, 'retrive': 4436, 'whitespaces': 4437, 'pieces': 4438, 'solving': 4439, 'histograms': 4440, 'dropdowns': 4441, 'prefer': 4442, 'crawl': 4443, 'guaranteed': 4444, 'hint': 4445, 'marionette': 4446, 'transactionscope': 4447, 'gap': 4448, 'ensuring': 4449, 'asterisks': 4450, 'portrait': 4451, 'browserify': 4452, 'falls': 4453, 'recover': 4454, 'become': 4455, 'ioerror': 4456, 'notebook': 4457, 'uml': 4458, 'traversing': 4459, 'analog': 4460, 'declares': 4461, 'behave': 4462, 'ios8': 4463, 'behaving': 4464, 'undo': 4465, 'jinja': 4466, 'belong': 4467, 'warn': 4468, 'settext': 4469, 'rating': 4470, 'redirecttoaction': 4471, 'whilst': 4472, 'benchmark': 4473, 'phrase': 4474, 'early': 4475, 'nsmutabledictionary': 4476, 'recv': 4477, 'concepts': 4478, 'transitions': 4479, 'subarray': 4480, 'iterations': 4481, 'mediawiki': 4482, 'sklearn': 4483, 'reversed': 4484, 'ended': 4485, 'tablet': 4486, 'nsnumber': 4487, 'pausing': 4488, 'robust': 4489, 'permgen': 4490, 'arg': 4491, 'adjusting': 4492, 'jruby': 4493, 'java8': 4494, 'basics': 4495, 'concurrenthashmap': 4496, 'troubles': 4497, 'reliably': 4498, 'vb6': 4499, 'datarows': 4500, 'form1': 4501, 'javaiofilenotfoundexception': 4502, 'situation': 4503, 'unpack': 4504, 'unterminated': 4505, 'xxxx': 4506, 'bundles': 4507, 'busy': 4508, 'affecting': 4509, 'rn': 4510, 'webstorm': 4511, 'strong': 4512, 'erb': 4513, 'minimal': 4514, 'networking': 4515, 'springs': 4516, 'datasources': 4517, 'visitor': 4518, 'consider': 4519, 'jdbctemplate': 4520, 'vars': 4521, 'contour': 4522, 'backward': 4523, 'deny': 4524, 'contract': 4525, 'datasets': 4526, 'quickest': 4527, 'biggest': 4528, 'onblur': 4529, 'patch': 4530, 'affects': 4531, 'drools': 4532, 'talk': 4533, 'form_for': 4534, 'selecteditem': 4535, '46': 4536, 'lnk2019': 4537, 'mistake': 4538, 'reactive': 4539, 'reject': 4540, 'vista': 4541, 'linebreaks': 4542, 'size_t': 4543, 'filenotfoundexception': 4544, 'jsfiddle': 4545, 'aligning': 4546, 'fixing': 4547, 'generators': 4548, 'i++': 4549, 'programmatic': 4550, 'exits': 4551, 'otherwise': 4552, 'di': 4553, 'capital': 4554, 'respective': 4555, 'catalog': 4556, 'programmer': 4557, 'die': 4558, 'difficulty': 4559, 'vowels': 4560, 'unnecessary': 4561, 'inactivity': 4562, 'unqualifiedid': 4563, 'captcha': 4564, 'uibuttons': 4565, 'compressing': 4566, 'roll': 4567, 'dim': 4568, 'room': 4569, 'stylesheets': 4570, 'overwritten': 4571, 'stringify': 4572, 'protection': 4573, 'jobject': 4574, 'mysql_num_rows': 4575, 'expiry': 4576, 'struggling': 4577, 'routine': 4578, 'student': 4579, 'assume': 4580, 'jquerymobile': 4581, 'restricting': 4582, 'actionlink': 4583, 'attempted': 4584, 'centered': 4585, 'differ': 4586, 'extremely': 4587, 'joined': 4588, 'developers': 4589, 'runner': 4590, 'compressed': 4591, 'mvn': 4592, 'cdi': 4593, 'freezing': 4594, 'runserver': 4595, 'actionresult': 4596, 'volatile': 4597, 'subcategories': 4598, 'rightclick': 4599, 'exponent': 4600, 'visited': 4601, 'ie10': 4602, 'current_user': 4603, 'nsinteger': 4604, 'refuses': 4605, 'viable': 4606, 'branch': 4607, '106': 4608, 'boxplot': 4609, 'log4jxml': 4610, 'socketexception': 4611, 'nsmanagedobject': 4612, 'setcookie': 4613, 'datetimes': 4614, 'boundaries': 4615, 'soapclient': 4616, 'endless': 4617, 'unescape': 4618, 'logo': 4619, 'transforming': 4620, 'defaults': 4621, 'normalize': 4622, 'often': 4623, 'quotation': 4624, 'oncreate': 4625, 'buffered': 4626, 'note': 4627, 'bubbling': 4628, 'basis': 4629, 'browsing': 4630, 'datetimefield': 4631, 'transferred': 4632, 'met': 4633, 'deferred': 4634, 'localtime': 4635, 'locating': 4636, 'enhanced': 4637, 'servletcontext': 4638, '#object': 4639, '503': 4640, 'decorators': 4641, 'windowsh': 4642, 'gcd': 4643, 'recommendations': 4644, 'simplexml_load_string': 4645, 'idiomatic': 4646, 'triple': 4647, 'recognised': 4648, 'verifying': 4649, 'birth': 4650, 'ellipse': 4651, 'recipients': 4652, 'signing': 4653, '110': 4654, 'recipient': 4655, 'tries': 4656, 'blade': 4657, 'shipping': 4658, 'read_csv': 4659, 'mapstring': 4660, 'books': 4661, 'matter': 4662, 'adjacent': 4663, 'mathround': 4664, 'advance': 4665, 'decoded': 4666, 'rbind': 4667, '#pragma': 4668, '323': 4669, 'massive': 4670, 'truncating': 4671, 'bigdecimal': 4672, 'bigger': 4673, 'troubleshooting': 4674, 'lwjgl': 4675, 'drawimage': 4676, 'tweets': 4677, 'distributed': 4678, 'complains': 4679, 'compiles': 4680, 'toolbox': 4681, 'killing': 4682, '__dopostback': 4683, 'purchase': 4684, 'pushed': 4685, 'mozilla': 4686, 'moves': 4687, 'puzzle': 4688, 'checks': 4689, 'cv': 4690, 'mouseenter': 4691, 'requestbody': 4692, 'autoload': 4693, 'stays': 4694, 'publishing': 4695, 'executenonquery': 4696, 'sphere': 4697, 'scenarios': 4698, 'str_replace': 4699, 'aurelia': 4700, 'complicated': 4701, 'uint8_t': 4702, 'workers': 4703, 'cancellation': 4704, 'saying': 4705, 'wise': 4706, 'executorservice': 4707, 'authenticating': 4708, 'keycode': 4709, 'complement': 4710, 'scatterplot': 4711, 'keyerror': 4712, 'sticky': 4713, 'monodevelop': 4714, 'air': 4715, 'cyrillic': 4716, 'daily': 4717, 'twoway': 4718, 'selectedindexchanged': 4719, 'selectedvalue': 4720, 'qt5': 4721, 'spy': 4722, 'colours': 4723, 'depend': 4724, 'springsecurity': 4725, 'addclass': 4726, 'viewed': 4727, 'quantity': 4728, 'banner': 4729, 'million': 4730, 'viewdidload': 4731, 'midnight': 4732, 'sqlparameter': 4733, 'sqlserver': 4734, 'reopen': 4735, 'stale': 4736, 'money': 4737, '301': 4738, 'hashmaps': 4739, 'var_dump': 4740, 'standards': 4741, 'modalpopupextender': 4742, 'securely': 4743, 'reordering': 4744, 'dashes': 4745, 'stage': 4746, 'hasmany': 4747, 'viewmodels': 4748, 'mocked': 4749, 'opera': 4750, 'euler': 4751, 'listint': 4752, 'parseint': 4753, 'print_r': 4754, 'groupbox': 4755, 'flipping': 4756, 'popular': 4757, 'pane': 4758, 'alt': 4759, 'javalangnumberformatexception': 4760, 'proc': 4761, 'poor': 4762, 'instant': 4763, 'javalangruntimeexception': 4764, 'far': 4765, 'timers': 4766, 'appdelegate': 4767, 'prepend': 4768, 'connectivity': 4769, 'fashion': 4770, 'javalanginteger': 4771, 'periodic': 4772, 'premature': 4773, 'popups': 4774, 'finger': 4775, 'fileoutputstream': 4776, 'created_at': 4777, 'pem': 4778, 'injected': 4779, 'firebird': 4780, 'urlopen': 4781, 'th': 4782, 'porting': 4783, 'fall': 4784, 'pan': 4785, 'inference': 4786, 'succeeded': 4787, 'xmlns': 4788, 'tabbed': 4789, 'goal': 4790, 'polynomial': 4791, 'update_attributes': 4792, 'uuid': 4793, 'tdd': 4794, 'configurations': 4795, 'technology': 4796, 'fontawesome': 4797, 'weekly': 4798, 'phones': 4799, 'primaryexpression': 4800, 'feel': 4801, 'suggest': 4802, 'ashx': 4803, 'weekends': 4804, 'interacting': 4805, 'corresponds': 4806, 'initialise': 4807, 'feedback': 4808, 'superview': 4809, 'counts': 4810, 'couple': 4811, 'artifacts': 4812, 'paragraphs': 4813, '#1': 4814, 'javanetconnectexception': 4815, 'tapped': 4816, 'utf': 4817, 'crossthread': 4818, 'jbuttons': 4819, 'taskrun': 4820, 'pods': 4821, 'pod': 4822, 'confusing': 4823, 'instructions': 4824, 'sun': 4825, 'tbody': 4826, 'interprocess': 4827, 'articles': 4828, 'findviewbyid': 4829, 'grant': 4830, 'indirect': 4831, 'paginate': 4832, 'zurb': 4833, 'picking': 4834, 'precise': 4835, 'fadeout': 4836, 'constructing': 4837, '0s': 4838, 'urllib': 4839, 'tiles': 4840, 'pound': 4841, 'jasperreport': 4842, 'gsub': 4843, 'practical': 4844, 'pow': 4845, 'practise': 4846, 'webrequest': 4847, 'webpart': 4848, 'inmemory': 4849, 'subsets': 4850, 'systemint32': 4851, 'relevant': 4852, 'late': 4853, 'switchcase': 4854, 'static_cast': 4855, 'targeting': 4856, 'launcher': 4857, 'statically': 4858, 'ews': 4859, 'latin1': 4860, 'before_save': 4861, 'removeclass': 4862, 'selectlist': 4863, 'endpoints': 4864, 'pylab': 4865, 'zipping': 4866, 'viewcontrollers': 4867, 'fstream': 4868, 'symmetric': 4869, 'stacktrace': 4870, 'flushing': 4871, 'commons': 4872, 'impact': 4873, 'stackoverflowerror': 4874, 'slices': 4875, 'google+': 4876, '303': 4877, '187': 4878, 'rc': 4879, 'unspecified': 4880, 'evenly': 4881, 'semantic': 4882, 'dashboard': 4883, 'hyphens': 4884, 'buildxml': 4885, 'noob': 4886, 'continuewith': 4887, 'eventhandler': 4888, 'hashtag': 4889, 'remainder': 4890, 'deletes': 4891, 'varbinary': 4892, 'separation': 4893, 'presented': 4894, 'intranet': 4895, 'cover': 4896, 'normally': 4897, 'fieldset': 4898, 'evaluated': 4899, 'autoincrement': 4900, 'mimetype': 4901, 'obtained': 4902, 'delivery': 4903, 'minification': 4904, 'javasqldate': 4905, 'games': 4906, 'minimized': 4907, 'zipped': 4908, 'eventlistener': 4909, 'simplexml_load_file': 4910, 'commysqljdbcdriver': 4911, 'orgjsonjsonexception': 4912, 'slows': 4913, 'viewstate': 4914, 'chef': 4915, 'documentcreateelement': 4916, '_request': 4917, 'deserialized': 4918, 'deselect': 4919, 'unlimited': 4920, 'javax': 4921, 'homework': 4922, 'describe': 4923, 'authorized': 4924, 'wget': 4925, 'tensor': 4926, 'stdthread': 4927, 'playback': 4928, 'ifstream': 4929, 'accents': 4930, 'typeof': 4931, 'plan': 4932, 'kendoui': 4933, 'behaves': 4934, 'keras': 4935, 'destructors': 4936, 'german': 4937, 'scikit': 4938, 'beginners': 4939, 'x11': 4940, 'completes': 4941, 'indexer': 4942, 'requestparam': 4943, 'individually': 4944, 'ptr': 4945, 'ca': 4946, 'fontsize': 4947, 'templating': 4948, 'stdfunction': 4949, 'wave': 4950, 'indirectly': 4951, 'uitabbar': 4952, 'nonexistent': 4953, 'chromes': 4954, 'nongeneric': 4955, 'c#s': 4956, 'repetition': 4957, 'team': 4958, 'snow': 4959, 'endian': 4960, 'accented': 4961, 'avfoundation': 4962, 'raw_input': 4963, 'c++0x': 4964, 'followers': 4965, 'prices': 4966, 'push_back': 4967, 'formset': 4968, 'alloc': 4969, 'modifiers': 4970, 'logistic': 4971, 'itunes': 4972, 'modes': 4973, 'reponse': 4974, 'nondefault': 4975, 'modelsave': 4976, 'typecasting': 4977, '0xc0000005': 4978, 'derive': 4979, 'pushviewcontroller': 4980, 'l': 4981, 'pg': 4982, 'driving': 4983, 'addon': 4984, 'alphabets': 4985, 'splice': 4986, 'applicationcontext': 4987, 'potentially': 4988, 'equations': 4989, 'localize': 4990, 'listitem': 4991, 'nullpointer': 4992, '310': 4993, 'rails4': 4994, 'preflight': 4995, 'wheres': 4996, 'illegalargumentexception': 4997, 'shifting': 4998, 'recommendation': 4999}\n"
          ],
          "name": "stdout"
        }
      ]
    },
    {
      "cell_type": "code",
      "metadata": {
        "id": "6ER1oq48TF-9",
        "colab_type": "code",
        "colab": {}
      },
      "source": [
        "DICT_SIZE = 5000\n",
        "WORDS_TO_INDEX = wordsToIndex\n",
        "INDEX_TO_WORDS = indexOfWords\n",
        "ALL_WORDS = WORDS_TO_INDEX.keys()\n",
        "\n",
        "def my_bag_of_words(text, words_to_index, dict_size):\n",
        "  words = text.split(\" \")\n",
        "  result_vector = np.zeros(dict_size)\n",
        "  for w in words:\n",
        "    for i,word in enumerate(words_to_index.keys()):\n",
        "      if(word==w):\n",
        "        result_vector[i] = 1\n",
        "        \n",
        "  return result_vector"
      ],
      "execution_count": 0,
      "outputs": []
    },
    {
      "cell_type": "code",
      "metadata": {
        "id": "qnLYWnsaTF_A",
        "colab_type": "code",
        "colab": {}
      },
      "source": [
        "def test_my_bag_of_words():\n",
        "    words_to_index = {'hi': 0, 'you': 1, 'me': 2, 'are': 3}\n",
        "    examples = ['hi how are you']\n",
        "    answers = [[1, 1, 0, 1]]\n",
        "    for ex, ans in zip(examples, answers):\n",
        "        if (my_bag_of_words(ex, words_to_index, 4) != ans).any():\n",
        "            return \"Wrong answer for the case: '%s'\" % ex\n",
        "    return 'Basic tests are passed.'"
      ],
      "execution_count": 0,
      "outputs": []
    },
    {
      "cell_type": "markdown",
      "metadata": {
        "id": "mOlSiUqEW3jD",
        "colab_type": "text"
      },
      "source": [
        "Execute the test_text_prepare function <br>\n",
        "*<u>Note:</u> You should pass the above test to ensure BOW is working correctly!*"
      ]
    },
    {
      "cell_type": "code",
      "metadata": {
        "id": "cqWhoF24TF_D",
        "colab_type": "code",
        "outputId": "54925e63-f3fc-4c54-e225-0e05dbe2fe4c",
        "colab": {
          "base_uri": "https://localhost:8080/",
          "height": 34
        }
      },
      "source": [
        "test_my_bag_of_words()"
      ],
      "execution_count": 104,
      "outputs": [
        {
          "output_type": "execute_result",
          "data": {
            "text/plain": [
              "'Basic tests are passed.'"
            ]
          },
          "metadata": {
            "tags": []
          },
          "execution_count": 104
        }
      ]
    },
    {
      "cell_type": "markdown",
      "metadata": {
        "id": "BXW3ALCITF_H",
        "colab_type": "text"
      },
      "source": [
        "Now apply the implemented function to all samples (this might take up to a minute):"
      ]
    },
    {
      "cell_type": "code",
      "metadata": {
        "id": "m39xHB2yTF_H",
        "colab_type": "code",
        "colab": {}
      },
      "source": [
        "from scipy import sparse as sp_sparse"
      ],
      "execution_count": 0,
      "outputs": []
    },
    {
      "cell_type": "code",
      "metadata": {
        "id": "EpjMZJ21zHeJ",
        "colab_type": "code",
        "colab": {}
      },
      "source": [
        "X_train = trainCleanDf['title']\n",
        "X_test = testCleanDf['title']\n",
        "X_val = validationCleanDf['title']"
      ],
      "execution_count": 0,
      "outputs": []
    },
    {
      "cell_type": "code",
      "metadata": {
        "id": "6DZwPWB1TF_K",
        "colab_type": "code",
        "outputId": "9cc647f4-59c6-4c59-cf01-72bcd95006d8",
        "colab": {
          "base_uri": "https://localhost:8080/",
          "height": 67
        }
      },
      "source": [
        "X_train_mybag = sp_sparse.vstack([sp_sparse.csr_matrix(my_bag_of_words(text, WORDS_TO_INDEX, DICT_SIZE)) for text in X_train])\n",
        "X_val_mybag = sp_sparse.vstack([sp_sparse.csr_matrix(my_bag_of_words(text, WORDS_TO_INDEX, DICT_SIZE)) for text in X_val])\n",
        "X_test_mybag = sp_sparse.vstack([sp_sparse.csr_matrix(my_bag_of_words(text, WORDS_TO_INDEX, DICT_SIZE)) for text in X_test])\n",
        "print('X_train shape ', X_train_mybag.shape)\n",
        "print('X_val shape ', X_val_mybag.shape)\n",
        "print('X_test shape ', X_test_mybag.shape)"
      ],
      "execution_count": 107,
      "outputs": [
        {
          "output_type": "stream",
          "text": [
            "X_train shape  (100000, 5000)\n",
            "X_val shape  (30000, 5000)\n",
            "X_test shape  (20000, 5000)\n"
          ],
          "name": "stdout"
        }
      ]
    },
    {
      "cell_type": "markdown",
      "metadata": {
        "id": "WPXTUeNSTF_N",
        "colab_type": "text"
      },
      "source": [
        "As you might notice, we transform the data to sparse representation, to store the useful information efficiently. There are many types: of such representations, however sklearn algorithms can work only with  csr matrix, so we will use this one.<br>\n",
        "<u>Documentations on sparse matrix:</u> <br>\n",
        "(https://docs.scipy.org/doc/scipy/reference/generated/scipy.sparse.csr_matrix.html#scipy.sparse.csr_matrix) \n",
        "(https://docs.scipy.org/doc/scipy/reference/sparse.html)\n",
        "\n"
      ]
    },
    {
      "cell_type": "markdown",
      "metadata": {
        "id": "i8AMzsVxTF_Q",
        "colab_type": "text"
      },
      "source": [
        "\n",
        "For the 11th row in *X_train_mybag* find how many non-zero elements it has. In this task the answer (variable *non_zero_elements_count*) should be a number, e.g. 20."
      ]
    },
    {
      "cell_type": "code",
      "metadata": {
        "id": "bOetzSLzTF_S",
        "colab_type": "code",
        "outputId": "438976db-a3f0-429e-b91c-c97121ada8d8",
        "colab": {
          "base_uri": "https://localhost:8080/",
          "height": 34
        }
      },
      "source": [
        "X_train[11]"
      ],
      "execution_count": 108,
      "outputs": [
        {
          "output_type": "execute_result",
          "data": {
            "text/plain": [
              "'ipad selecting text inside text input tap'"
            ]
          },
          "metadata": {
            "tags": []
          },
          "execution_count": 108
        }
      ]
    },
    {
      "cell_type": "code",
      "metadata": {
        "id": "_OzCbtV91UCV",
        "colab_type": "code",
        "outputId": "458e4839-e327-4ec7-ae3f-546ee066e416",
        "colab": {
          "base_uri": "https://localhost:8080/",
          "height": 34
        }
      },
      "source": [
        "print(X_train_mybag[11].count_nonzero())"
      ],
      "execution_count": 109,
      "outputs": [
        {
          "output_type": "stream",
          "text": [
            "6\n"
          ],
          "name": "stdout"
        }
      ]
    },
    {
      "cell_type": "markdown",
      "metadata": {
        "id": "GYAFKGfKTF_V",
        "colab_type": "text"
      },
      "source": [
        "## Task 4 - TF-IDF (5 points)\n",
        "\n",
        "The second approach extends the bag-of-words framework by taking into account total frequencies of words in the corpora. It helps to penalize too frequent words and provide better features space. \n",
        "\n",
        "Implement function *tfidf_features* using class  from *scikit-learn*. Use *train* corpus to train a vectorizer. Don't forget to take a look into the arguments that you can pass to it. We suggest that you filter out too rare words (occur less than in 5 titles) and too frequent words (occur more than in 90% of the titles). Also, use bigrams along with unigrams in your vocabulary. "
      ]
    },
    {
      "cell_type": "markdown",
      "metadata": {
        "id": "1s3uEKmjYpuh",
        "colab_type": "text"
      },
      "source": [
        "## Write a function which takes x_train, x_val and x_test as input and return the tf-idf features of the same and the vocabulary"
      ]
    },
    {
      "cell_type": "code",
      "metadata": {
        "id": "lkz1RYsBTF_Z",
        "colab_type": "code",
        "colab": {}
      },
      "source": [
        "from sklearn.feature_extraction.text import TfidfVectorizer"
      ],
      "execution_count": 0,
      "outputs": []
    },
    {
      "cell_type": "code",
      "metadata": {
        "id": "elquCU6D1kZ3",
        "colab_type": "code",
        "colab": {}
      },
      "source": [
        "vect = TfidfVectorizer(min_df=5,max_df=0.9,ngram_range=(1,2),token_pattern= '(\\S+)', max_features=5000)"
      ],
      "execution_count": 0,
      "outputs": []
    },
    {
      "cell_type": "code",
      "metadata": {
        "id": "o6V7FPirTF_i",
        "colab_type": "code",
        "colab": {}
      },
      "source": [
        "def tfidf_features(X_train, X_val, X_test):\n",
        "  X_train_tfidf = vect.fit_transform(X_train)\n",
        "  X_val_tfidf = vect.fit_transform(X_val)\n",
        "  X_test_tfidf = vect.fit_transform(X_test)\n",
        "  return X_train_tfidf, X_val_tfidf, X_test_tfidf, vect.vocabulary_"
      ],
      "execution_count": 0,
      "outputs": []
    },
    {
      "cell_type": "code",
      "metadata": {
        "id": "ySnV2zCBTF_p",
        "colab_type": "code",
        "colab": {}
      },
      "source": [
        "X_train_tfidf, X_val_tfidf, X_test_tfidf, tfidf_vocab = tfidf_features(X_train, X_val, X_test)\n",
        "tfidf_reversed_vocab = {i:word for word,i in tfidf_vocab.items()}"
      ],
      "execution_count": 0,
      "outputs": []
    },
    {
      "cell_type": "markdown",
      "metadata": {
        "id": "o_aopTTNL5G1",
        "colab_type": "text"
      },
      "source": [
        "Print the index of string \"C#\" in the vocabulary"
      ]
    },
    {
      "cell_type": "code",
      "metadata": {
        "id": "kZ-3wqTTMCRi",
        "colab_type": "code",
        "outputId": "1c01f398-5487-4987-b0dc-0e873986c41b",
        "colab": {
          "base_uri": "https://localhost:8080/",
          "height": 34
        }
      },
      "source": [
        "print(list(tfidf_reversed_vocab.keys())[list(tfidf_reversed_vocab.values()).index('c#')])"
      ],
      "execution_count": 114,
      "outputs": [
        {
          "output_type": "stream",
          "text": [
            "436\n"
          ],
          "name": "stdout"
        }
      ]
    },
    {
      "cell_type": "markdown",
      "metadata": {
        "id": "ZYYO2kdiTF_6",
        "colab_type": "text"
      },
      "source": [
        "## Task 5: Classification (15 points)\n",
        "MultiLabel classifier\n",
        "\n",
        "As we have noticed before, in this task each example can have multiple tags. To deal with such kind of prediction, we need to transform labels in a binary form and the prediction will be a mask of 0s and 1s. For this purpose it is convenient to use MultiLabelBinarizer from sklearn. <br>\n",
        "<u>Documentation:</u> <br>\n",
        "http://scikit-learn.org/stable/modules/generated/sklearn.preprocessing.MultiLabelBinarizer.html"
      ]
    },
    {
      "cell_type": "code",
      "metadata": {
        "id": "ojeCe_e_TF_7",
        "colab_type": "code",
        "colab": {}
      },
      "source": [
        "from sklearn.preprocessing import MultiLabelBinarizer"
      ],
      "execution_count": 0,
      "outputs": []
    },
    {
      "cell_type": "code",
      "metadata": {
        "id": "OomKz-WE2Jyq",
        "colab_type": "code",
        "colab": {}
      },
      "source": [
        "y_train = trainCleanDf['tags']\n",
        "y_val = validationCleanDf['tags']"
      ],
      "execution_count": 0,
      "outputs": []
    },
    {
      "cell_type": "code",
      "metadata": {
        "id": "j2C9Pw0A2Yqd",
        "colab_type": "code",
        "outputId": "04132896-8fd6-4d57-dfaa-25cc3caee2ad",
        "colab": {
          "base_uri": "https://localhost:8080/",
          "height": 118
        }
      },
      "source": [
        "y_train.head()"
      ],
      "execution_count": 117,
      "outputs": [
        {
          "output_type": "execute_result",
          "data": {
            "text/plain": [
              "0                       ['r']\n",
              "1            ['php', 'mysql']\n",
              "2                      ['c#']\n",
              "3    ['javascript', 'jquery']\n",
              "4                    ['java']\n",
              "Name: tags, dtype: object"
            ]
          },
          "metadata": {
            "tags": []
          },
          "execution_count": 117
        }
      ]
    },
    {
      "cell_type": "code",
      "metadata": {
        "id": "wsNKapOJ25_v",
        "colab_type": "code",
        "outputId": "b91629e4-433e-4d1d-babc-dcb426fc7ef5",
        "colab": {
          "base_uri": "https://localhost:8080/",
          "height": 54
        }
      },
      "source": [
        "sortedTags = sorted(tagDict.keys())\n",
        "print(sortedTags)"
      ],
      "execution_count": 118,
      "outputs": [
        {
          "output_type": "stream",
          "text": [
            "['.net', 'ajax', 'algorithm', 'android', 'angularjs', 'apache', 'arrays', 'asp.net', 'asp.net-mvc', 'c', 'c#', 'c++', 'class', 'cocoa-touch', 'codeigniter', 'css', 'csv', 'database', 'date', 'datetime', 'django', 'dom', 'eclipse', 'entity-framework', 'excel', 'facebook', 'file', 'forms', 'function', 'generics', 'google-maps', 'hibernate', 'html', 'html5', 'image', 'ios', 'iphone', 'java', 'javascript', 'jquery', 'json', 'jsp', 'laravel', 'linq', 'linux', 'list', 'loops', 'maven', 'mongodb', 'multithreading', 'mysql', 'node.js', 'numpy', 'objective-c', 'oop', 'opencv', 'osx', 'pandas', 'parsing', 'performance', 'php', 'pointers', 'python', 'python-2.7', 'python-3.x', 'qt', 'r', 'regex', 'rest', 'ruby', 'ruby-on-rails', 'ruby-on-rails-3', 'selenium', 'servlets', 'session', 'sockets', 'sorting', 'spring', 'spring-mvc', 'sql', 'sql-server', 'string', 'swift', 'swing', 'twitter-bootstrap', 'uitableview', 'unit-testing', 'validation', 'vb.net', 'visual-studio', 'visual-studio-2010', 'wcf', 'web-services', 'windows', 'winforms', 'wordpress', 'wpf', 'xaml', 'xcode', 'xml']\n"
          ],
          "name": "stdout"
        }
      ]
    },
    {
      "cell_type": "code",
      "metadata": {
        "id": "p8JYQr8YTF_-",
        "colab_type": "code",
        "outputId": "b0230622-6589-48e4-e020-69f333cd4963",
        "colab": {
          "base_uri": "https://localhost:8080/",
          "height": 70
        }
      },
      "source": [
        "mlb = MultiLabelBinarizer(classes=sortedTags)\n",
        "y_train = mlb.fit_transform(y_train)\n",
        "y_val = mlb.fit_transform(y_val)"
      ],
      "execution_count": 119,
      "outputs": [
        {
          "output_type": "stream",
          "text": [
            "/usr/local/lib/python3.6/dist-packages/sklearn/preprocessing/label.py:951: UserWarning: unknown class(es) [' ', '#', \"'\", '+', ',', '-', '.', '0', '1', '2', '3', '5', '7', '[', ']', 'a', 'b', 'd', 'e', 'f', 'g', 'h', 'i', 'j', 'k', 'l', 'm', 'n', 'o', 'p', 'q', 's', 't', 'u', 'v', 'w', 'x', 'y'] will be ignored\n",
            "  .format(sorted(unknown, key=str)))\n"
          ],
          "name": "stderr"
        }
      ]
    },
    {
      "cell_type": "code",
      "metadata": {
        "id": "c4AQn8BY31YB",
        "colab_type": "code",
        "outputId": "e71b2e3a-09c7-4231-e6ac-a565e37df34f",
        "colab": {
          "base_uri": "https://localhost:8080/",
          "height": 34
        }
      },
      "source": [
        "y_train[0].nonzero()"
      ],
      "execution_count": 120,
      "outputs": [
        {
          "output_type": "execute_result",
          "data": {
            "text/plain": [
              "(array([66]),)"
            ]
          },
          "metadata": {
            "tags": []
          },
          "execution_count": 120
        }
      ]
    },
    {
      "cell_type": "code",
      "metadata": {
        "id": "99ygc6Ff4Ovt",
        "colab_type": "code",
        "outputId": "07b54f12-0b03-4f87-87c1-79680a30e135",
        "colab": {
          "base_uri": "https://localhost:8080/",
          "height": 34
        }
      },
      "source": [
        "list(sortedTags)[66]"
      ],
      "execution_count": 121,
      "outputs": [
        {
          "output_type": "execute_result",
          "data": {
            "text/plain": [
              "'r'"
            ]
          },
          "metadata": {
            "tags": []
          },
          "execution_count": 121
        }
      ]
    },
    {
      "cell_type": "markdown",
      "metadata": {
        "id": "qN1NUA3DTGAB",
        "colab_type": "text"
      },
      "source": [
        "In this task we suggest to use One-vs-Rest approach, which is implemented in [OneVsRestClassifier](http://scikit-learn.org/stable/modules/generated/sklearn.multiclass.OneVsRestClassifier.html) class. In this approach *k* classifiers (= number of tags) are trained. As a basic classifier, use [LogisticRegression](http://scikit-learn.org/stable/modules/generated/sklearn.linear_model.LogisticRegression.html). It is one of the simplest methods, but often it performs good enough in text classification tasks. It might take some time, because a number of classifiers to train is large.\n",
        "\n",
        "**OneVsRest multi-label strategy**\n",
        "\n",
        "The Multi-label algorithm accepts a binary mask over multiple labels. The result for each prediction will be an array of 0s and 1s marking which class labels apply to each row input sample.\n",
        "\n",
        "**Logistic Regression & SVM**\n",
        "\n",
        "OneVsRest strategy can be used for multi-label learning, where a classifier is used to predict multiple labels for instance. LR & SVM supports multi-class, but we are in a multi-label scenario, therefore, we wrap classifiers in the OneVsRestClassifier.\n",
        "\n",
        "*If you want to learn more about OneVsRest, check out these links:*\n",
        "- *https://towardsdatascience.com/multi-label-text-classification-with-scikit-learn-30714b7819c5*\n",
        "- *https://towardsdatascience.com/journey-to-the-center-of-multi-label-classification-384c40229bff*\n",
        "- *https://medium.com/coinmonks/multi-label-classification-blog-tags-prediction-using-nlp-b0b5ee6686fc*"
      ]
    },
    {
      "cell_type": "code",
      "metadata": {
        "id": "2Pj6MDkbTGAC",
        "colab_type": "code",
        "colab": {}
      },
      "source": [
        "from sklearn.multiclass import OneVsRestClassifier\n",
        "from sklearn.linear_model import LogisticRegression\n",
        "from sklearn.svm import SVC, LinearSVC"
      ],
      "execution_count": 0,
      "outputs": []
    },
    {
      "cell_type": "code",
      "metadata": {
        "id": "eUHZR2TWTGAF",
        "colab_type": "code",
        "colab": {}
      },
      "source": [
        "def train_classifier(X_train, y_train):\n",
        "    # Create and fit LogisticRegression and LinearSVC wraped into OneVsRestClassifier.\n",
        "\n",
        "    clf = OneVsRestClassifier(LogisticRegression()).fit(X_train,y_train)\n",
        "    return clf  ### clf is the model"
      ],
      "execution_count": 0,
      "outputs": []
    },
    {
      "cell_type": "markdown",
      "metadata": {
        "id": "k660NfRFTGAL",
        "colab_type": "text"
      },
      "source": [
        "Train the classifiers for different data transformations: *bag-of-words* and *tf-idf*.\n",
        "classifier_mybag = model for "
      ]
    },
    {
      "cell_type": "code",
      "metadata": {
        "id": "jXyhN-yDTGAP",
        "colab_type": "code",
        "colab": {
          "base_uri": "https://localhost:8080/",
          "height": 1000
        },
        "outputId": "94fbbd76-b707-4e7e-face-89bd7909ad42"
      },
      "source": [
        "classifier_mybag = train_classifier(X_train_mybag, y_train)\n",
        "classifier_tfidf = train_classifier(X_train_tfidf, y_train)"
      ],
      "execution_count": 126,
      "outputs": [
        {
          "output_type": "stream",
          "text": [
            "/usr/local/lib/python3.6/dist-packages/sklearn/multiclass.py:76: UserWarning: Label not 0 is present in all training examples.\n",
            "  str(classes[c]))\n",
            "/usr/local/lib/python3.6/dist-packages/sklearn/multiclass.py:76: UserWarning: Label not 1 is present in all training examples.\n",
            "  str(classes[c]))\n",
            "/usr/local/lib/python3.6/dist-packages/sklearn/multiclass.py:76: UserWarning: Label not 2 is present in all training examples.\n",
            "  str(classes[c]))\n",
            "/usr/local/lib/python3.6/dist-packages/sklearn/multiclass.py:76: UserWarning: Label not 3 is present in all training examples.\n",
            "  str(classes[c]))\n",
            "/usr/local/lib/python3.6/dist-packages/sklearn/multiclass.py:76: UserWarning: Label not 4 is present in all training examples.\n",
            "  str(classes[c]))\n",
            "/usr/local/lib/python3.6/dist-packages/sklearn/multiclass.py:76: UserWarning: Label not 5 is present in all training examples.\n",
            "  str(classes[c]))\n",
            "/usr/local/lib/python3.6/dist-packages/sklearn/multiclass.py:76: UserWarning: Label not 6 is present in all training examples.\n",
            "  str(classes[c]))\n",
            "/usr/local/lib/python3.6/dist-packages/sklearn/multiclass.py:76: UserWarning: Label not 7 is present in all training examples.\n",
            "  str(classes[c]))\n",
            "/usr/local/lib/python3.6/dist-packages/sklearn/multiclass.py:76: UserWarning: Label not 8 is present in all training examples.\n",
            "  str(classes[c]))\n",
            "/usr/local/lib/python3.6/dist-packages/sklearn/linear_model/logistic.py:432: FutureWarning: Default solver will be changed to 'lbfgs' in 0.22. Specify a solver to silence this warning.\n",
            "  FutureWarning)\n",
            "/usr/local/lib/python3.6/dist-packages/sklearn/multiclass.py:76: UserWarning: Label not 10 is present in all training examples.\n",
            "  str(classes[c]))\n",
            "/usr/local/lib/python3.6/dist-packages/sklearn/multiclass.py:76: UserWarning: Label not 11 is present in all training examples.\n",
            "  str(classes[c]))\n",
            "/usr/local/lib/python3.6/dist-packages/sklearn/multiclass.py:76: UserWarning: Label not 12 is present in all training examples.\n",
            "  str(classes[c]))\n",
            "/usr/local/lib/python3.6/dist-packages/sklearn/multiclass.py:76: UserWarning: Label not 13 is present in all training examples.\n",
            "  str(classes[c]))\n",
            "/usr/local/lib/python3.6/dist-packages/sklearn/multiclass.py:76: UserWarning: Label not 14 is present in all training examples.\n",
            "  str(classes[c]))\n",
            "/usr/local/lib/python3.6/dist-packages/sklearn/multiclass.py:76: UserWarning: Label not 15 is present in all training examples.\n",
            "  str(classes[c]))\n",
            "/usr/local/lib/python3.6/dist-packages/sklearn/multiclass.py:76: UserWarning: Label not 16 is present in all training examples.\n",
            "  str(classes[c]))\n",
            "/usr/local/lib/python3.6/dist-packages/sklearn/multiclass.py:76: UserWarning: Label not 17 is present in all training examples.\n",
            "  str(classes[c]))\n",
            "/usr/local/lib/python3.6/dist-packages/sklearn/multiclass.py:76: UserWarning: Label not 18 is present in all training examples.\n",
            "  str(classes[c]))\n",
            "/usr/local/lib/python3.6/dist-packages/sklearn/multiclass.py:76: UserWarning: Label not 19 is present in all training examples.\n",
            "  str(classes[c]))\n",
            "/usr/local/lib/python3.6/dist-packages/sklearn/multiclass.py:76: UserWarning: Label not 20 is present in all training examples.\n",
            "  str(classes[c]))\n",
            "/usr/local/lib/python3.6/dist-packages/sklearn/multiclass.py:76: UserWarning: Label not 21 is present in all training examples.\n",
            "  str(classes[c]))\n",
            "/usr/local/lib/python3.6/dist-packages/sklearn/multiclass.py:76: UserWarning: Label not 22 is present in all training examples.\n",
            "  str(classes[c]))\n",
            "/usr/local/lib/python3.6/dist-packages/sklearn/multiclass.py:76: UserWarning: Label not 23 is present in all training examples.\n",
            "  str(classes[c]))\n",
            "/usr/local/lib/python3.6/dist-packages/sklearn/multiclass.py:76: UserWarning: Label not 24 is present in all training examples.\n",
            "  str(classes[c]))\n",
            "/usr/local/lib/python3.6/dist-packages/sklearn/multiclass.py:76: UserWarning: Label not 25 is present in all training examples.\n",
            "  str(classes[c]))\n",
            "/usr/local/lib/python3.6/dist-packages/sklearn/multiclass.py:76: UserWarning: Label not 26 is present in all training examples.\n",
            "  str(classes[c]))\n",
            "/usr/local/lib/python3.6/dist-packages/sklearn/multiclass.py:76: UserWarning: Label not 27 is present in all training examples.\n",
            "  str(classes[c]))\n",
            "/usr/local/lib/python3.6/dist-packages/sklearn/multiclass.py:76: UserWarning: Label not 28 is present in all training examples.\n",
            "  str(classes[c]))\n",
            "/usr/local/lib/python3.6/dist-packages/sklearn/multiclass.py:76: UserWarning: Label not 29 is present in all training examples.\n",
            "  str(classes[c]))\n",
            "/usr/local/lib/python3.6/dist-packages/sklearn/multiclass.py:76: UserWarning: Label not 30 is present in all training examples.\n",
            "  str(classes[c]))\n",
            "/usr/local/lib/python3.6/dist-packages/sklearn/multiclass.py:76: UserWarning: Label not 31 is present in all training examples.\n",
            "  str(classes[c]))\n",
            "/usr/local/lib/python3.6/dist-packages/sklearn/multiclass.py:76: UserWarning: Label not 32 is present in all training examples.\n",
            "  str(classes[c]))\n",
            "/usr/local/lib/python3.6/dist-packages/sklearn/multiclass.py:76: UserWarning: Label not 33 is present in all training examples.\n",
            "  str(classes[c]))\n",
            "/usr/local/lib/python3.6/dist-packages/sklearn/multiclass.py:76: UserWarning: Label not 34 is present in all training examples.\n",
            "  str(classes[c]))\n",
            "/usr/local/lib/python3.6/dist-packages/sklearn/multiclass.py:76: UserWarning: Label not 35 is present in all training examples.\n",
            "  str(classes[c]))\n",
            "/usr/local/lib/python3.6/dist-packages/sklearn/multiclass.py:76: UserWarning: Label not 36 is present in all training examples.\n",
            "  str(classes[c]))\n",
            "/usr/local/lib/python3.6/dist-packages/sklearn/multiclass.py:76: UserWarning: Label not 37 is present in all training examples.\n",
            "  str(classes[c]))\n",
            "/usr/local/lib/python3.6/dist-packages/sklearn/multiclass.py:76: UserWarning: Label not 38 is present in all training examples.\n",
            "  str(classes[c]))\n",
            "/usr/local/lib/python3.6/dist-packages/sklearn/multiclass.py:76: UserWarning: Label not 39 is present in all training examples.\n",
            "  str(classes[c]))\n",
            "/usr/local/lib/python3.6/dist-packages/sklearn/multiclass.py:76: UserWarning: Label not 40 is present in all training examples.\n",
            "  str(classes[c]))\n",
            "/usr/local/lib/python3.6/dist-packages/sklearn/multiclass.py:76: UserWarning: Label not 41 is present in all training examples.\n",
            "  str(classes[c]))\n",
            "/usr/local/lib/python3.6/dist-packages/sklearn/multiclass.py:76: UserWarning: Label not 42 is present in all training examples.\n",
            "  str(classes[c]))\n",
            "/usr/local/lib/python3.6/dist-packages/sklearn/multiclass.py:76: UserWarning: Label not 43 is present in all training examples.\n",
            "  str(classes[c]))\n",
            "/usr/local/lib/python3.6/dist-packages/sklearn/multiclass.py:76: UserWarning: Label not 44 is present in all training examples.\n",
            "  str(classes[c]))\n",
            "/usr/local/lib/python3.6/dist-packages/sklearn/multiclass.py:76: UserWarning: Label not 45 is present in all training examples.\n",
            "  str(classes[c]))\n",
            "/usr/local/lib/python3.6/dist-packages/sklearn/multiclass.py:76: UserWarning: Label not 46 is present in all training examples.\n",
            "  str(classes[c]))\n",
            "/usr/local/lib/python3.6/dist-packages/sklearn/multiclass.py:76: UserWarning: Label not 47 is present in all training examples.\n",
            "  str(classes[c]))\n",
            "/usr/local/lib/python3.6/dist-packages/sklearn/multiclass.py:76: UserWarning: Label not 48 is present in all training examples.\n",
            "  str(classes[c]))\n",
            "/usr/local/lib/python3.6/dist-packages/sklearn/multiclass.py:76: UserWarning: Label not 49 is present in all training examples.\n",
            "  str(classes[c]))\n",
            "/usr/local/lib/python3.6/dist-packages/sklearn/multiclass.py:76: UserWarning: Label not 50 is present in all training examples.\n",
            "  str(classes[c]))\n",
            "/usr/local/lib/python3.6/dist-packages/sklearn/multiclass.py:76: UserWarning: Label not 51 is present in all training examples.\n",
            "  str(classes[c]))\n",
            "/usr/local/lib/python3.6/dist-packages/sklearn/multiclass.py:76: UserWarning: Label not 52 is present in all training examples.\n",
            "  str(classes[c]))\n",
            "/usr/local/lib/python3.6/dist-packages/sklearn/multiclass.py:76: UserWarning: Label not 53 is present in all training examples.\n",
            "  str(classes[c]))\n",
            "/usr/local/lib/python3.6/dist-packages/sklearn/multiclass.py:76: UserWarning: Label not 54 is present in all training examples.\n",
            "  str(classes[c]))\n",
            "/usr/local/lib/python3.6/dist-packages/sklearn/multiclass.py:76: UserWarning: Label not 55 is present in all training examples.\n",
            "  str(classes[c]))\n",
            "/usr/local/lib/python3.6/dist-packages/sklearn/multiclass.py:76: UserWarning: Label not 56 is present in all training examples.\n",
            "  str(classes[c]))\n",
            "/usr/local/lib/python3.6/dist-packages/sklearn/multiclass.py:76: UserWarning: Label not 57 is present in all training examples.\n",
            "  str(classes[c]))\n",
            "/usr/local/lib/python3.6/dist-packages/sklearn/multiclass.py:76: UserWarning: Label not 58 is present in all training examples.\n",
            "  str(classes[c]))\n",
            "/usr/local/lib/python3.6/dist-packages/sklearn/multiclass.py:76: UserWarning: Label not 59 is present in all training examples.\n",
            "  str(classes[c]))\n",
            "/usr/local/lib/python3.6/dist-packages/sklearn/multiclass.py:76: UserWarning: Label not 60 is present in all training examples.\n",
            "  str(classes[c]))\n",
            "/usr/local/lib/python3.6/dist-packages/sklearn/multiclass.py:76: UserWarning: Label not 61 is present in all training examples.\n",
            "  str(classes[c]))\n",
            "/usr/local/lib/python3.6/dist-packages/sklearn/multiclass.py:76: UserWarning: Label not 62 is present in all training examples.\n",
            "  str(classes[c]))\n",
            "/usr/local/lib/python3.6/dist-packages/sklearn/multiclass.py:76: UserWarning: Label not 63 is present in all training examples.\n",
            "  str(classes[c]))\n",
            "/usr/local/lib/python3.6/dist-packages/sklearn/multiclass.py:76: UserWarning: Label not 64 is present in all training examples.\n",
            "  str(classes[c]))\n",
            "/usr/local/lib/python3.6/dist-packages/sklearn/multiclass.py:76: UserWarning: Label not 65 is present in all training examples.\n",
            "  str(classes[c]))\n",
            "/usr/local/lib/python3.6/dist-packages/sklearn/multiclass.py:76: UserWarning: Label not 67 is present in all training examples.\n",
            "  str(classes[c]))\n",
            "/usr/local/lib/python3.6/dist-packages/sklearn/multiclass.py:76: UserWarning: Label not 68 is present in all training examples.\n",
            "  str(classes[c]))\n",
            "/usr/local/lib/python3.6/dist-packages/sklearn/multiclass.py:76: UserWarning: Label not 69 is present in all training examples.\n",
            "  str(classes[c]))\n",
            "/usr/local/lib/python3.6/dist-packages/sklearn/multiclass.py:76: UserWarning: Label not 70 is present in all training examples.\n",
            "  str(classes[c]))\n",
            "/usr/local/lib/python3.6/dist-packages/sklearn/multiclass.py:76: UserWarning: Label not 71 is present in all training examples.\n",
            "  str(classes[c]))\n",
            "/usr/local/lib/python3.6/dist-packages/sklearn/multiclass.py:76: UserWarning: Label not 72 is present in all training examples.\n",
            "  str(classes[c]))\n",
            "/usr/local/lib/python3.6/dist-packages/sklearn/multiclass.py:76: UserWarning: Label not 73 is present in all training examples.\n",
            "  str(classes[c]))\n",
            "/usr/local/lib/python3.6/dist-packages/sklearn/multiclass.py:76: UserWarning: Label not 74 is present in all training examples.\n",
            "  str(classes[c]))\n",
            "/usr/local/lib/python3.6/dist-packages/sklearn/multiclass.py:76: UserWarning: Label not 75 is present in all training examples.\n",
            "  str(classes[c]))\n",
            "/usr/local/lib/python3.6/dist-packages/sklearn/multiclass.py:76: UserWarning: Label not 76 is present in all training examples.\n",
            "  str(classes[c]))\n",
            "/usr/local/lib/python3.6/dist-packages/sklearn/multiclass.py:76: UserWarning: Label not 77 is present in all training examples.\n",
            "  str(classes[c]))\n",
            "/usr/local/lib/python3.6/dist-packages/sklearn/multiclass.py:76: UserWarning: Label not 78 is present in all training examples.\n",
            "  str(classes[c]))\n",
            "/usr/local/lib/python3.6/dist-packages/sklearn/multiclass.py:76: UserWarning: Label not 79 is present in all training examples.\n",
            "  str(classes[c]))\n",
            "/usr/local/lib/python3.6/dist-packages/sklearn/multiclass.py:76: UserWarning: Label not 80 is present in all training examples.\n",
            "  str(classes[c]))\n",
            "/usr/local/lib/python3.6/dist-packages/sklearn/multiclass.py:76: UserWarning: Label not 81 is present in all training examples.\n",
            "  str(classes[c]))\n",
            "/usr/local/lib/python3.6/dist-packages/sklearn/multiclass.py:76: UserWarning: Label not 82 is present in all training examples.\n",
            "  str(classes[c]))\n",
            "/usr/local/lib/python3.6/dist-packages/sklearn/multiclass.py:76: UserWarning: Label not 83 is present in all training examples.\n",
            "  str(classes[c]))\n",
            "/usr/local/lib/python3.6/dist-packages/sklearn/multiclass.py:76: UserWarning: Label not 84 is present in all training examples.\n",
            "  str(classes[c]))\n",
            "/usr/local/lib/python3.6/dist-packages/sklearn/multiclass.py:76: UserWarning: Label not 85 is present in all training examples.\n",
            "  str(classes[c]))\n",
            "/usr/local/lib/python3.6/dist-packages/sklearn/multiclass.py:76: UserWarning: Label not 86 is present in all training examples.\n",
            "  str(classes[c]))\n",
            "/usr/local/lib/python3.6/dist-packages/sklearn/multiclass.py:76: UserWarning: Label not 87 is present in all training examples.\n",
            "  str(classes[c]))\n",
            "/usr/local/lib/python3.6/dist-packages/sklearn/multiclass.py:76: UserWarning: Label not 88 is present in all training examples.\n",
            "  str(classes[c]))\n",
            "/usr/local/lib/python3.6/dist-packages/sklearn/multiclass.py:76: UserWarning: Label not 89 is present in all training examples.\n",
            "  str(classes[c]))\n",
            "/usr/local/lib/python3.6/dist-packages/sklearn/multiclass.py:76: UserWarning: Label not 90 is present in all training examples.\n",
            "  str(classes[c]))\n",
            "/usr/local/lib/python3.6/dist-packages/sklearn/multiclass.py:76: UserWarning: Label not 91 is present in all training examples.\n",
            "  str(classes[c]))\n",
            "/usr/local/lib/python3.6/dist-packages/sklearn/multiclass.py:76: UserWarning: Label not 92 is present in all training examples.\n",
            "  str(classes[c]))\n",
            "/usr/local/lib/python3.6/dist-packages/sklearn/multiclass.py:76: UserWarning: Label not 93 is present in all training examples.\n",
            "  str(classes[c]))\n",
            "/usr/local/lib/python3.6/dist-packages/sklearn/multiclass.py:76: UserWarning: Label not 94 is present in all training examples.\n",
            "  str(classes[c]))\n",
            "/usr/local/lib/python3.6/dist-packages/sklearn/multiclass.py:76: UserWarning: Label not 95 is present in all training examples.\n",
            "  str(classes[c]))\n",
            "/usr/local/lib/python3.6/dist-packages/sklearn/multiclass.py:76: UserWarning: Label not 96 is present in all training examples.\n",
            "  str(classes[c]))\n",
            "/usr/local/lib/python3.6/dist-packages/sklearn/multiclass.py:76: UserWarning: Label not 97 is present in all training examples.\n",
            "  str(classes[c]))\n",
            "/usr/local/lib/python3.6/dist-packages/sklearn/multiclass.py:76: UserWarning: Label not 98 is present in all training examples.\n",
            "  str(classes[c]))\n",
            "/usr/local/lib/python3.6/dist-packages/sklearn/multiclass.py:76: UserWarning: Label not 99 is present in all training examples.\n",
            "  str(classes[c]))\n",
            "/usr/local/lib/python3.6/dist-packages/sklearn/multiclass.py:76: UserWarning: Label not 0 is present in all training examples.\n",
            "  str(classes[c]))\n",
            "/usr/local/lib/python3.6/dist-packages/sklearn/multiclass.py:76: UserWarning: Label not 1 is present in all training examples.\n",
            "  str(classes[c]))\n",
            "/usr/local/lib/python3.6/dist-packages/sklearn/multiclass.py:76: UserWarning: Label not 2 is present in all training examples.\n",
            "  str(classes[c]))\n",
            "/usr/local/lib/python3.6/dist-packages/sklearn/multiclass.py:76: UserWarning: Label not 3 is present in all training examples.\n",
            "  str(classes[c]))\n",
            "/usr/local/lib/python3.6/dist-packages/sklearn/multiclass.py:76: UserWarning: Label not 4 is present in all training examples.\n",
            "  str(classes[c]))\n",
            "/usr/local/lib/python3.6/dist-packages/sklearn/multiclass.py:76: UserWarning: Label not 5 is present in all training examples.\n",
            "  str(classes[c]))\n",
            "/usr/local/lib/python3.6/dist-packages/sklearn/multiclass.py:76: UserWarning: Label not 6 is present in all training examples.\n",
            "  str(classes[c]))\n",
            "/usr/local/lib/python3.6/dist-packages/sklearn/multiclass.py:76: UserWarning: Label not 7 is present in all training examples.\n",
            "  str(classes[c]))\n",
            "/usr/local/lib/python3.6/dist-packages/sklearn/multiclass.py:76: UserWarning: Label not 8 is present in all training examples.\n",
            "  str(classes[c]))\n",
            "/usr/local/lib/python3.6/dist-packages/sklearn/linear_model/logistic.py:432: FutureWarning: Default solver will be changed to 'lbfgs' in 0.22. Specify a solver to silence this warning.\n",
            "  FutureWarning)\n",
            "/usr/local/lib/python3.6/dist-packages/sklearn/multiclass.py:76: UserWarning: Label not 10 is present in all training examples.\n",
            "  str(classes[c]))\n",
            "/usr/local/lib/python3.6/dist-packages/sklearn/multiclass.py:76: UserWarning: Label not 11 is present in all training examples.\n",
            "  str(classes[c]))\n",
            "/usr/local/lib/python3.6/dist-packages/sklearn/multiclass.py:76: UserWarning: Label not 12 is present in all training examples.\n",
            "  str(classes[c]))\n",
            "/usr/local/lib/python3.6/dist-packages/sklearn/multiclass.py:76: UserWarning: Label not 13 is present in all training examples.\n",
            "  str(classes[c]))\n",
            "/usr/local/lib/python3.6/dist-packages/sklearn/multiclass.py:76: UserWarning: Label not 14 is present in all training examples.\n",
            "  str(classes[c]))\n",
            "/usr/local/lib/python3.6/dist-packages/sklearn/multiclass.py:76: UserWarning: Label not 15 is present in all training examples.\n",
            "  str(classes[c]))\n",
            "/usr/local/lib/python3.6/dist-packages/sklearn/multiclass.py:76: UserWarning: Label not 16 is present in all training examples.\n",
            "  str(classes[c]))\n",
            "/usr/local/lib/python3.6/dist-packages/sklearn/multiclass.py:76: UserWarning: Label not 17 is present in all training examples.\n",
            "  str(classes[c]))\n",
            "/usr/local/lib/python3.6/dist-packages/sklearn/multiclass.py:76: UserWarning: Label not 18 is present in all training examples.\n",
            "  str(classes[c]))\n",
            "/usr/local/lib/python3.6/dist-packages/sklearn/multiclass.py:76: UserWarning: Label not 19 is present in all training examples.\n",
            "  str(classes[c]))\n",
            "/usr/local/lib/python3.6/dist-packages/sklearn/multiclass.py:76: UserWarning: Label not 20 is present in all training examples.\n",
            "  str(classes[c]))\n",
            "/usr/local/lib/python3.6/dist-packages/sklearn/multiclass.py:76: UserWarning: Label not 21 is present in all training examples.\n",
            "  str(classes[c]))\n",
            "/usr/local/lib/python3.6/dist-packages/sklearn/multiclass.py:76: UserWarning: Label not 22 is present in all training examples.\n",
            "  str(classes[c]))\n",
            "/usr/local/lib/python3.6/dist-packages/sklearn/multiclass.py:76: UserWarning: Label not 23 is present in all training examples.\n",
            "  str(classes[c]))\n",
            "/usr/local/lib/python3.6/dist-packages/sklearn/multiclass.py:76: UserWarning: Label not 24 is present in all training examples.\n",
            "  str(classes[c]))\n",
            "/usr/local/lib/python3.6/dist-packages/sklearn/multiclass.py:76: UserWarning: Label not 25 is present in all training examples.\n",
            "  str(classes[c]))\n",
            "/usr/local/lib/python3.6/dist-packages/sklearn/multiclass.py:76: UserWarning: Label not 26 is present in all training examples.\n",
            "  str(classes[c]))\n",
            "/usr/local/lib/python3.6/dist-packages/sklearn/multiclass.py:76: UserWarning: Label not 27 is present in all training examples.\n",
            "  str(classes[c]))\n",
            "/usr/local/lib/python3.6/dist-packages/sklearn/multiclass.py:76: UserWarning: Label not 28 is present in all training examples.\n",
            "  str(classes[c]))\n",
            "/usr/local/lib/python3.6/dist-packages/sklearn/multiclass.py:76: UserWarning: Label not 29 is present in all training examples.\n",
            "  str(classes[c]))\n",
            "/usr/local/lib/python3.6/dist-packages/sklearn/multiclass.py:76: UserWarning: Label not 30 is present in all training examples.\n",
            "  str(classes[c]))\n",
            "/usr/local/lib/python3.6/dist-packages/sklearn/multiclass.py:76: UserWarning: Label not 31 is present in all training examples.\n",
            "  str(classes[c]))\n",
            "/usr/local/lib/python3.6/dist-packages/sklearn/multiclass.py:76: UserWarning: Label not 32 is present in all training examples.\n",
            "  str(classes[c]))\n",
            "/usr/local/lib/python3.6/dist-packages/sklearn/multiclass.py:76: UserWarning: Label not 33 is present in all training examples.\n",
            "  str(classes[c]))\n",
            "/usr/local/lib/python3.6/dist-packages/sklearn/multiclass.py:76: UserWarning: Label not 34 is present in all training examples.\n",
            "  str(classes[c]))\n",
            "/usr/local/lib/python3.6/dist-packages/sklearn/multiclass.py:76: UserWarning: Label not 35 is present in all training examples.\n",
            "  str(classes[c]))\n",
            "/usr/local/lib/python3.6/dist-packages/sklearn/multiclass.py:76: UserWarning: Label not 36 is present in all training examples.\n",
            "  str(classes[c]))\n",
            "/usr/local/lib/python3.6/dist-packages/sklearn/multiclass.py:76: UserWarning: Label not 37 is present in all training examples.\n",
            "  str(classes[c]))\n",
            "/usr/local/lib/python3.6/dist-packages/sklearn/multiclass.py:76: UserWarning: Label not 38 is present in all training examples.\n",
            "  str(classes[c]))\n",
            "/usr/local/lib/python3.6/dist-packages/sklearn/multiclass.py:76: UserWarning: Label not 39 is present in all training examples.\n",
            "  str(classes[c]))\n",
            "/usr/local/lib/python3.6/dist-packages/sklearn/multiclass.py:76: UserWarning: Label not 40 is present in all training examples.\n",
            "  str(classes[c]))\n",
            "/usr/local/lib/python3.6/dist-packages/sklearn/multiclass.py:76: UserWarning: Label not 41 is present in all training examples.\n",
            "  str(classes[c]))\n",
            "/usr/local/lib/python3.6/dist-packages/sklearn/multiclass.py:76: UserWarning: Label not 42 is present in all training examples.\n",
            "  str(classes[c]))\n",
            "/usr/local/lib/python3.6/dist-packages/sklearn/multiclass.py:76: UserWarning: Label not 43 is present in all training examples.\n",
            "  str(classes[c]))\n",
            "/usr/local/lib/python3.6/dist-packages/sklearn/multiclass.py:76: UserWarning: Label not 44 is present in all training examples.\n",
            "  str(classes[c]))\n",
            "/usr/local/lib/python3.6/dist-packages/sklearn/multiclass.py:76: UserWarning: Label not 45 is present in all training examples.\n",
            "  str(classes[c]))\n",
            "/usr/local/lib/python3.6/dist-packages/sklearn/multiclass.py:76: UserWarning: Label not 46 is present in all training examples.\n",
            "  str(classes[c]))\n",
            "/usr/local/lib/python3.6/dist-packages/sklearn/multiclass.py:76: UserWarning: Label not 47 is present in all training examples.\n",
            "  str(classes[c]))\n",
            "/usr/local/lib/python3.6/dist-packages/sklearn/multiclass.py:76: UserWarning: Label not 48 is present in all training examples.\n",
            "  str(classes[c]))\n",
            "/usr/local/lib/python3.6/dist-packages/sklearn/multiclass.py:76: UserWarning: Label not 49 is present in all training examples.\n",
            "  str(classes[c]))\n",
            "/usr/local/lib/python3.6/dist-packages/sklearn/multiclass.py:76: UserWarning: Label not 50 is present in all training examples.\n",
            "  str(classes[c]))\n",
            "/usr/local/lib/python3.6/dist-packages/sklearn/multiclass.py:76: UserWarning: Label not 51 is present in all training examples.\n",
            "  str(classes[c]))\n",
            "/usr/local/lib/python3.6/dist-packages/sklearn/multiclass.py:76: UserWarning: Label not 52 is present in all training examples.\n",
            "  str(classes[c]))\n",
            "/usr/local/lib/python3.6/dist-packages/sklearn/multiclass.py:76: UserWarning: Label not 53 is present in all training examples.\n",
            "  str(classes[c]))\n",
            "/usr/local/lib/python3.6/dist-packages/sklearn/multiclass.py:76: UserWarning: Label not 54 is present in all training examples.\n",
            "  str(classes[c]))\n",
            "/usr/local/lib/python3.6/dist-packages/sklearn/multiclass.py:76: UserWarning: Label not 55 is present in all training examples.\n",
            "  str(classes[c]))\n",
            "/usr/local/lib/python3.6/dist-packages/sklearn/multiclass.py:76: UserWarning: Label not 56 is present in all training examples.\n",
            "  str(classes[c]))\n",
            "/usr/local/lib/python3.6/dist-packages/sklearn/multiclass.py:76: UserWarning: Label not 57 is present in all training examples.\n",
            "  str(classes[c]))\n",
            "/usr/local/lib/python3.6/dist-packages/sklearn/multiclass.py:76: UserWarning: Label not 58 is present in all training examples.\n",
            "  str(classes[c]))\n",
            "/usr/local/lib/python3.6/dist-packages/sklearn/multiclass.py:76: UserWarning: Label not 59 is present in all training examples.\n",
            "  str(classes[c]))\n",
            "/usr/local/lib/python3.6/dist-packages/sklearn/multiclass.py:76: UserWarning: Label not 60 is present in all training examples.\n",
            "  str(classes[c]))\n",
            "/usr/local/lib/python3.6/dist-packages/sklearn/multiclass.py:76: UserWarning: Label not 61 is present in all training examples.\n",
            "  str(classes[c]))\n",
            "/usr/local/lib/python3.6/dist-packages/sklearn/multiclass.py:76: UserWarning: Label not 62 is present in all training examples.\n",
            "  str(classes[c]))\n",
            "/usr/local/lib/python3.6/dist-packages/sklearn/multiclass.py:76: UserWarning: Label not 63 is present in all training examples.\n",
            "  str(classes[c]))\n",
            "/usr/local/lib/python3.6/dist-packages/sklearn/multiclass.py:76: UserWarning: Label not 64 is present in all training examples.\n",
            "  str(classes[c]))\n",
            "/usr/local/lib/python3.6/dist-packages/sklearn/multiclass.py:76: UserWarning: Label not 65 is present in all training examples.\n",
            "  str(classes[c]))\n",
            "/usr/local/lib/python3.6/dist-packages/sklearn/multiclass.py:76: UserWarning: Label not 67 is present in all training examples.\n",
            "  str(classes[c]))\n",
            "/usr/local/lib/python3.6/dist-packages/sklearn/multiclass.py:76: UserWarning: Label not 68 is present in all training examples.\n",
            "  str(classes[c]))\n",
            "/usr/local/lib/python3.6/dist-packages/sklearn/multiclass.py:76: UserWarning: Label not 69 is present in all training examples.\n",
            "  str(classes[c]))\n",
            "/usr/local/lib/python3.6/dist-packages/sklearn/multiclass.py:76: UserWarning: Label not 70 is present in all training examples.\n",
            "  str(classes[c]))\n",
            "/usr/local/lib/python3.6/dist-packages/sklearn/multiclass.py:76: UserWarning: Label not 71 is present in all training examples.\n",
            "  str(classes[c]))\n",
            "/usr/local/lib/python3.6/dist-packages/sklearn/multiclass.py:76: UserWarning: Label not 72 is present in all training examples.\n",
            "  str(classes[c]))\n",
            "/usr/local/lib/python3.6/dist-packages/sklearn/multiclass.py:76: UserWarning: Label not 73 is present in all training examples.\n",
            "  str(classes[c]))\n",
            "/usr/local/lib/python3.6/dist-packages/sklearn/multiclass.py:76: UserWarning: Label not 74 is present in all training examples.\n",
            "  str(classes[c]))\n",
            "/usr/local/lib/python3.6/dist-packages/sklearn/multiclass.py:76: UserWarning: Label not 75 is present in all training examples.\n",
            "  str(classes[c]))\n",
            "/usr/local/lib/python3.6/dist-packages/sklearn/multiclass.py:76: UserWarning: Label not 76 is present in all training examples.\n",
            "  str(classes[c]))\n",
            "/usr/local/lib/python3.6/dist-packages/sklearn/multiclass.py:76: UserWarning: Label not 77 is present in all training examples.\n",
            "  str(classes[c]))\n",
            "/usr/local/lib/python3.6/dist-packages/sklearn/multiclass.py:76: UserWarning: Label not 78 is present in all training examples.\n",
            "  str(classes[c]))\n",
            "/usr/local/lib/python3.6/dist-packages/sklearn/multiclass.py:76: UserWarning: Label not 79 is present in all training examples.\n",
            "  str(classes[c]))\n",
            "/usr/local/lib/python3.6/dist-packages/sklearn/multiclass.py:76: UserWarning: Label not 80 is present in all training examples.\n",
            "  str(classes[c]))\n",
            "/usr/local/lib/python3.6/dist-packages/sklearn/multiclass.py:76: UserWarning: Label not 81 is present in all training examples.\n",
            "  str(classes[c]))\n",
            "/usr/local/lib/python3.6/dist-packages/sklearn/multiclass.py:76: UserWarning: Label not 82 is present in all training examples.\n",
            "  str(classes[c]))\n",
            "/usr/local/lib/python3.6/dist-packages/sklearn/multiclass.py:76: UserWarning: Label not 83 is present in all training examples.\n",
            "  str(classes[c]))\n",
            "/usr/local/lib/python3.6/dist-packages/sklearn/multiclass.py:76: UserWarning: Label not 84 is present in all training examples.\n",
            "  str(classes[c]))\n",
            "/usr/local/lib/python3.6/dist-packages/sklearn/multiclass.py:76: UserWarning: Label not 85 is present in all training examples.\n",
            "  str(classes[c]))\n",
            "/usr/local/lib/python3.6/dist-packages/sklearn/multiclass.py:76: UserWarning: Label not 86 is present in all training examples.\n",
            "  str(classes[c]))\n",
            "/usr/local/lib/python3.6/dist-packages/sklearn/multiclass.py:76: UserWarning: Label not 87 is present in all training examples.\n",
            "  str(classes[c]))\n",
            "/usr/local/lib/python3.6/dist-packages/sklearn/multiclass.py:76: UserWarning: Label not 88 is present in all training examples.\n",
            "  str(classes[c]))\n",
            "/usr/local/lib/python3.6/dist-packages/sklearn/multiclass.py:76: UserWarning: Label not 89 is present in all training examples.\n",
            "  str(classes[c]))\n",
            "/usr/local/lib/python3.6/dist-packages/sklearn/multiclass.py:76: UserWarning: Label not 90 is present in all training examples.\n",
            "  str(classes[c]))\n",
            "/usr/local/lib/python3.6/dist-packages/sklearn/multiclass.py:76: UserWarning: Label not 91 is present in all training examples.\n",
            "  str(classes[c]))\n",
            "/usr/local/lib/python3.6/dist-packages/sklearn/multiclass.py:76: UserWarning: Label not 92 is present in all training examples.\n",
            "  str(classes[c]))\n",
            "/usr/local/lib/python3.6/dist-packages/sklearn/multiclass.py:76: UserWarning: Label not 93 is present in all training examples.\n",
            "  str(classes[c]))\n",
            "/usr/local/lib/python3.6/dist-packages/sklearn/multiclass.py:76: UserWarning: Label not 94 is present in all training examples.\n",
            "  str(classes[c]))\n",
            "/usr/local/lib/python3.6/dist-packages/sklearn/multiclass.py:76: UserWarning: Label not 95 is present in all training examples.\n",
            "  str(classes[c]))\n",
            "/usr/local/lib/python3.6/dist-packages/sklearn/multiclass.py:76: UserWarning: Label not 96 is present in all training examples.\n",
            "  str(classes[c]))\n",
            "/usr/local/lib/python3.6/dist-packages/sklearn/multiclass.py:76: UserWarning: Label not 97 is present in all training examples.\n",
            "  str(classes[c]))\n",
            "/usr/local/lib/python3.6/dist-packages/sklearn/multiclass.py:76: UserWarning: Label not 98 is present in all training examples.\n",
            "  str(classes[c]))\n",
            "/usr/local/lib/python3.6/dist-packages/sklearn/multiclass.py:76: UserWarning: Label not 99 is present in all training examples.\n",
            "  str(classes[c]))\n"
          ],
          "name": "stderr"
        }
      ]
    },
    {
      "cell_type": "markdown",
      "metadata": {
        "id": "ijQZCd9cTGAU",
        "colab_type": "text"
      },
      "source": [
        "Now you can create predictions for the data. You will need two types of predictions: labels and scores."
      ]
    },
    {
      "cell_type": "code",
      "metadata": {
        "id": "0QT7uWddTGAV",
        "colab_type": "code",
        "colab": {}
      },
      "source": [
        "y_val_predicted_labels_mybag = classifier_mybag.predict(X_val_mybag)\n",
        "y_val_predicted_scores_mybag = classifier_mybag.decision_function(X_val_mybag)\n",
        "\n",
        "y_val_predicted_labels_tfidf = classifier_tfidf.predict(X_val_tfidf)\n",
        "y_val_predicted_scores_tfidf = classifier_tfidf.decision_function(X_val_tfidf)"
      ],
      "execution_count": 0,
      "outputs": []
    },
    {
      "cell_type": "code",
      "metadata": {
        "id": "VPS0BOzG7m3x",
        "colab_type": "code",
        "colab": {
          "base_uri": "https://localhost:8080/",
          "height": 34
        },
        "outputId": "8c18e15f-67d5-43b7-8636-eed942ca70cb"
      },
      "source": [
        "y_val_predicted_labels_mybag[10].nonzero()"
      ],
      "execution_count": 128,
      "outputs": [
        {
          "output_type": "execute_result",
          "data": {
            "text/plain": [
              "(array([9]),)"
            ]
          },
          "metadata": {
            "tags": []
          },
          "execution_count": 128
        }
      ]
    },
    {
      "cell_type": "code",
      "metadata": {
        "id": "H2iiJ9P87t8j",
        "colab_type": "code",
        "colab": {
          "base_uri": "https://localhost:8080/",
          "height": 34
        },
        "outputId": "109431f3-1327-4306-f955-1fffed29f4d3"
      },
      "source": [
        "y_val_predicted_labels_tfidf[10].nonzero()"
      ],
      "execution_count": 129,
      "outputs": [
        {
          "output_type": "execute_result",
          "data": {
            "text/plain": [
              "(array([ 9, 66]),)"
            ]
          },
          "metadata": {
            "tags": []
          },
          "execution_count": 129
        }
      ]
    },
    {
      "cell_type": "markdown",
      "metadata": {
        "id": "p9n0TEtHTGAj",
        "colab_type": "text"
      },
      "source": [
        "Now, we would need to compare the results of different predictions, e.g. to see whether TF-IDF transformation helps or to try different regularization techniques in logistic regression. For all these experiments, we need to setup evaluation procedure. "
      ]
    },
    {
      "cell_type": "markdown",
      "metadata": {
        "id": "RVqAxDxqTGAk",
        "colab_type": "text"
      },
      "source": [
        "## Evaluation (10 points)\n",
        "\n",
        "To evaluate the results we will use several classification metrics:\n",
        " - [Accuracy](http://scikit-learn.org/stable/modules/generated/sklearn.metrics.accuracy_score.html)\n",
        " - [F1-score](http://scikit-learn.org/stable/modules/generated/sklearn.metrics.f1_score.html)\n",
        " - [Area under ROC-curve](http://scikit-learn.org/stable/modules/generated/sklearn.metrics.roc_auc_score.html)\n",
        " - [Area under precision-recall curve](http://scikit-learn.org/stable/modules/generated/sklearn.metrics.average_precision_score.html#sklearn.metrics.average_precision_score) \n",
        " \n",
        "Make sure you are familiar with all of them. If you want a refresher, you can click the link to their documentation"
      ]
    },
    {
      "cell_type": "markdown",
      "metadata": {
        "id": "_YmNhVsU9K9-",
        "colab_type": "text"
      },
      "source": [
        "## Import the necessary libraries for the above metrics"
      ]
    },
    {
      "cell_type": "code",
      "metadata": {
        "id": "tBvrkOUYTGAl",
        "colab_type": "code",
        "colab": {}
      },
      "source": [
        "from sklearn.metrics import accuracy_score\n",
        "from sklearn.metrics import f1_score\n",
        "from sklearn.metrics import roc_auc_score \n",
        "from sklearn.metrics import average_precision_score\n",
        "from sklearn.metrics import recall_score"
      ],
      "execution_count": 0,
      "outputs": []
    },
    {
      "cell_type": "markdown",
      "metadata": {
        "id": "vNkYBl_wTGAp",
        "colab_type": "text"
      },
      "source": [
        "Define the function *print_evaluation_scores* which takes y_val and predicted as input calculates and prints the following output:\n",
        " - *accuracy*\n",
        " - *F1-score - Average = 'weighted'* \n",
        " - *Precision - Average = 'macro'*"
      ]
    },
    {
      "cell_type": "code",
      "metadata": {
        "id": "-4nevWnhTGAq",
        "colab_type": "code",
        "colab": {}
      },
      "source": [
        "def print_evaluation_scores(y_val, predicted):\n",
        "  accuracy=accuracy_score(y_val, predicted)\n",
        "  f1_score_weighted=f1_score(y_val, predicted, average='weighted')\n",
        "  precision_macro=average_precision_score(y_val, predicted, average='macro')\n",
        "  print(accuracy,f1_score_weighted,precision_macro,)"
      ],
      "execution_count": 0,
      "outputs": []
    },
    {
      "cell_type": "code",
      "metadata": {
        "id": "G92GIO4dTGAt",
        "colab_type": "code",
        "colab": {
          "base_uri": "https://localhost:8080/",
          "height": 306
        },
        "outputId": "58204e36-407e-4d53-9082-6f36f2d95441"
      },
      "source": [
        "print('Bag-of-words')\n",
        "print_evaluation_scores(y_val, y_val_predicted_labels_mybag)\n",
        "print('Tfidf')\n",
        "print_evaluation_scores(y_val, y_val_predicted_labels_tfidf)"
      ],
      "execution_count": 132,
      "outputs": [
        {
          "output_type": "stream",
          "text": [
            "Bag-of-words\n"
          ],
          "name": "stdout"
        },
        {
          "output_type": "stream",
          "text": [
            "/usr/local/lib/python3.6/dist-packages/sklearn/metrics/classification.py:1437: UndefinedMetricWarning: F-score is ill-defined and being set to 0.0 in labels with no predicted samples.\n",
            "  'precision', 'predicted', average, warn_for)\n",
            "/usr/local/lib/python3.6/dist-packages/sklearn/metrics/classification.py:1439: UndefinedMetricWarning: F-score is ill-defined and being set to 0.0 in labels with no true samples.\n",
            "  'recall', 'true', average, warn_for)\n",
            "/usr/local/lib/python3.6/dist-packages/sklearn/metrics/ranking.py:528: RuntimeWarning: invalid value encountered in true_divide\n",
            "  recall = tps / tps[-1]\n"
          ],
          "name": "stderr"
        },
        {
          "output_type": "stream",
          "text": [
            "0.7228666666666667 0.8204156452392272 nan\n",
            "Tfidf\n"
          ],
          "name": "stdout"
        },
        {
          "output_type": "stream",
          "text": [
            "/usr/local/lib/python3.6/dist-packages/sklearn/metrics/classification.py:1437: UndefinedMetricWarning: F-score is ill-defined and being set to 0.0 in labels with no predicted samples.\n",
            "  'precision', 'predicted', average, warn_for)\n",
            "/usr/local/lib/python3.6/dist-packages/sklearn/metrics/classification.py:1439: UndefinedMetricWarning: F-score is ill-defined and being set to 0.0 in labels with no true samples.\n",
            "  'recall', 'true', average, warn_for)\n",
            "/usr/local/lib/python3.6/dist-packages/sklearn/metrics/ranking.py:528: RuntimeWarning: invalid value encountered in true_divide\n",
            "  recall = tps / tps[-1]\n"
          ],
          "name": "stderr"
        },
        {
          "output_type": "stream",
          "text": [
            "0.29956666666666665 0.37696124290886457 nan\n"
          ],
          "name": "stdout"
        }
      ]
    },
    {
      "cell_type": "markdown",
      "metadata": {
        "id": "kT7oso8ZTGAv",
        "colab_type": "text"
      },
      "source": [
        "You might also want to plot some form of the [ROC curve](http://scikit-learn.org/stable/modules/model_evaluation.html#receiver-operating-characteristic-roc) for the case of multi-label classification. The input parameters for the roc curve are:\n",
        " - true labels\n",
        " - decision functions scores\n",
        " - number of classes"
      ]
    },
    {
      "cell_type": "markdown",
      "metadata": {
        "id": "x4hbW3SeBVxz",
        "colab_type": "text"
      },
      "source": [
        "Import the roc_auc function from the metrics.py file provided"
      ]
    },
    {
      "cell_type": "code",
      "metadata": {
        "id": "G_9M0AI4TGAv",
        "colab_type": "code",
        "colab": {}
      },
      "source": [
        "#from google.colab import files\n",
        "#src = list(files.upload().values())[0]\n",
        "#open('metrics.py','wb').write(src)\n",
        "import metrics"
      ],
      "execution_count": 0,
      "outputs": []
    },
    {
      "cell_type": "code",
      "metadata": {
        "id": "sZaymN4uTGA0",
        "colab_type": "code",
        "colab": {}
      },
      "source": [
        "from metrics import roc_auc\n",
        "get_ipython().run_line_magic('matplotlib', 'inline')"
      ],
      "execution_count": 0,
      "outputs": []
    },
    {
      "cell_type": "code",
      "metadata": {
        "id": "XwNpUEVLTGA2",
        "colab_type": "code",
        "colab": {
          "base_uri": "https://localhost:8080/",
          "height": 329
        },
        "outputId": "0ed582bd-47b2-4765-a025-7f6a5eaf9883"
      },
      "source": [
        "n_classes = len(tagDict)\n",
        "roc_auc(y_val, y_val_predicted_scores_mybag, n_classes)"
      ],
      "execution_count": 135,
      "outputs": [
        {
          "output_type": "stream",
          "text": [
            "/usr/local/lib/python3.6/dist-packages/sklearn/metrics/ranking.py:659: UndefinedMetricWarning: No positive samples in y_true, true positive value should be meaningless\n",
            "  UndefinedMetricWarning)\n"
          ],
          "name": "stderr"
        },
        {
          "output_type": "display_data",
          "data": {
            "image/png": "[encoded data removed]",
            "text/plain": [
              "<Figure size 432x288 with 1 Axes>"
            ]
          },
          "metadata": {
            "tags": []
          }
        }
      ]
    },
    {
      "cell_type": "code",
      "metadata": {
        "id": "KOQbM66E8lx6",
        "colab_type": "code",
        "colab": {
          "base_uri": "https://localhost:8080/",
          "height": 329
        },
        "outputId": "545d6046-6486-4b44-815b-a42ddf603248"
      },
      "source": [
        "n_classes = len(tagDict)\n",
        "roc_auc(y_val, y_val_predicted_scores_tfidf, n_classes)"
      ],
      "execution_count": 136,
      "outputs": [
        {
          "output_type": "stream",
          "text": [
            "/usr/local/lib/python3.6/dist-packages/sklearn/metrics/ranking.py:659: UndefinedMetricWarning: No positive samples in y_true, true positive value should be meaningless\n",
            "  UndefinedMetricWarning)\n"
          ],
          "name": "stderr"
        },
        {
          "output_type": "display_data",
          "data": {
            "image/png": "[encoded data removed]",
            "text/plain": [
              "<Figure size 432x288 with 1 Axes>"
            ]
          },
          "metadata": {
            "tags": []
          }
        }
      ]
    },
    {
      "cell_type": "markdown",
      "metadata": {
        "id": "9S3Ddz7LTGA3",
        "colab_type": "text"
      },
      "source": [
        "## Task 4 (MultilabelClassification) - Optional \n",
        "** Once we have the evaluation set up, we suggest that you experiment a bit with training your classifiers. We will use *F1-score weighted* as an evaluation metric. Our recommendation:\n",
        "- compare the quality of the bag-of-words and TF-IDF approaches and chose one of them.\n",
        "- for the chosen one, try *L1* and *L2*-regularization techniques in Logistic Regression with different coefficients (e.g. C equal to 0.1, 1, 10, 100).\n",
        "\n"
      ]
    },
    {
      "cell_type": "code",
      "metadata": {
        "id": "Ers40KuOTGA4",
        "colab_type": "code",
        "colab": {}
      },
      "source": [
        "def train_classifier(X_train, y_train):\n",
        "  model=OneVsRestClassifier(LogisticRegression(penalty=\"l1\",C=1)).fit(X_train,y_train)\n",
        "  return model"
      ],
      "execution_count": 0,
      "outputs": []
    },
    {
      "cell_type": "code",
      "metadata": {
        "id": "6hUMvPxe9DSp",
        "colab_type": "code",
        "colab": {
          "base_uri": "https://localhost:8080/",
          "height": 1000
        },
        "outputId": "10309cdb-97bc-4eff-86ea-591deb2d822f"
      },
      "source": [
        "classifier_mybag = train_classifier(X_train_mybag, y_train)\n",
        "y_val_predicted_labels_mybag = classifier_mybag.predict(X_val_mybag)"
      ],
      "execution_count": 139,
      "outputs": [
        {
          "output_type": "stream",
          "text": [
            "/usr/local/lib/python3.6/dist-packages/sklearn/multiclass.py:76: UserWarning: Label not 0 is present in all training examples.\n",
            "  str(classes[c]))\n",
            "/usr/local/lib/python3.6/dist-packages/sklearn/multiclass.py:76: UserWarning: Label not 1 is present in all training examples.\n",
            "  str(classes[c]))\n",
            "/usr/local/lib/python3.6/dist-packages/sklearn/multiclass.py:76: UserWarning: Label not 2 is present in all training examples.\n",
            "  str(classes[c]))\n",
            "/usr/local/lib/python3.6/dist-packages/sklearn/multiclass.py:76: UserWarning: Label not 3 is present in all training examples.\n",
            "  str(classes[c]))\n",
            "/usr/local/lib/python3.6/dist-packages/sklearn/multiclass.py:76: UserWarning: Label not 4 is present in all training examples.\n",
            "  str(classes[c]))\n",
            "/usr/local/lib/python3.6/dist-packages/sklearn/multiclass.py:76: UserWarning: Label not 5 is present in all training examples.\n",
            "  str(classes[c]))\n",
            "/usr/local/lib/python3.6/dist-packages/sklearn/multiclass.py:76: UserWarning: Label not 6 is present in all training examples.\n",
            "  str(classes[c]))\n",
            "/usr/local/lib/python3.6/dist-packages/sklearn/multiclass.py:76: UserWarning: Label not 7 is present in all training examples.\n",
            "  str(classes[c]))\n",
            "/usr/local/lib/python3.6/dist-packages/sklearn/multiclass.py:76: UserWarning: Label not 8 is present in all training examples.\n",
            "  str(classes[c]))\n",
            "/usr/local/lib/python3.6/dist-packages/sklearn/linear_model/logistic.py:432: FutureWarning: Default solver will be changed to 'lbfgs' in 0.22. Specify a solver to silence this warning.\n",
            "  FutureWarning)\n",
            "/usr/local/lib/python3.6/dist-packages/sklearn/multiclass.py:76: UserWarning: Label not 10 is present in all training examples.\n",
            "  str(classes[c]))\n",
            "/usr/local/lib/python3.6/dist-packages/sklearn/multiclass.py:76: UserWarning: Label not 11 is present in all training examples.\n",
            "  str(classes[c]))\n",
            "/usr/local/lib/python3.6/dist-packages/sklearn/multiclass.py:76: UserWarning: Label not 12 is present in all training examples.\n",
            "  str(classes[c]))\n",
            "/usr/local/lib/python3.6/dist-packages/sklearn/multiclass.py:76: UserWarning: Label not 13 is present in all training examples.\n",
            "  str(classes[c]))\n",
            "/usr/local/lib/python3.6/dist-packages/sklearn/multiclass.py:76: UserWarning: Label not 14 is present in all training examples.\n",
            "  str(classes[c]))\n",
            "/usr/local/lib/python3.6/dist-packages/sklearn/multiclass.py:76: UserWarning: Label not 15 is present in all training examples.\n",
            "  str(classes[c]))\n",
            "/usr/local/lib/python3.6/dist-packages/sklearn/multiclass.py:76: UserWarning: Label not 16 is present in all training examples.\n",
            "  str(classes[c]))\n",
            "/usr/local/lib/python3.6/dist-packages/sklearn/multiclass.py:76: UserWarning: Label not 17 is present in all training examples.\n",
            "  str(classes[c]))\n",
            "/usr/local/lib/python3.6/dist-packages/sklearn/multiclass.py:76: UserWarning: Label not 18 is present in all training examples.\n",
            "  str(classes[c]))\n",
            "/usr/local/lib/python3.6/dist-packages/sklearn/multiclass.py:76: UserWarning: Label not 19 is present in all training examples.\n",
            "  str(classes[c]))\n",
            "/usr/local/lib/python3.6/dist-packages/sklearn/multiclass.py:76: UserWarning: Label not 20 is present in all training examples.\n",
            "  str(classes[c]))\n",
            "/usr/local/lib/python3.6/dist-packages/sklearn/multiclass.py:76: UserWarning: Label not 21 is present in all training examples.\n",
            "  str(classes[c]))\n",
            "/usr/local/lib/python3.6/dist-packages/sklearn/multiclass.py:76: UserWarning: Label not 22 is present in all training examples.\n",
            "  str(classes[c]))\n",
            "/usr/local/lib/python3.6/dist-packages/sklearn/multiclass.py:76: UserWarning: Label not 23 is present in all training examples.\n",
            "  str(classes[c]))\n",
            "/usr/local/lib/python3.6/dist-packages/sklearn/multiclass.py:76: UserWarning: Label not 24 is present in all training examples.\n",
            "  str(classes[c]))\n",
            "/usr/local/lib/python3.6/dist-packages/sklearn/multiclass.py:76: UserWarning: Label not 25 is present in all training examples.\n",
            "  str(classes[c]))\n",
            "/usr/local/lib/python3.6/dist-packages/sklearn/multiclass.py:76: UserWarning: Label not 26 is present in all training examples.\n",
            "  str(classes[c]))\n",
            "/usr/local/lib/python3.6/dist-packages/sklearn/multiclass.py:76: UserWarning: Label not 27 is present in all training examples.\n",
            "  str(classes[c]))\n",
            "/usr/local/lib/python3.6/dist-packages/sklearn/multiclass.py:76: UserWarning: Label not 28 is present in all training examples.\n",
            "  str(classes[c]))\n",
            "/usr/local/lib/python3.6/dist-packages/sklearn/multiclass.py:76: UserWarning: Label not 29 is present in all training examples.\n",
            "  str(classes[c]))\n",
            "/usr/local/lib/python3.6/dist-packages/sklearn/multiclass.py:76: UserWarning: Label not 30 is present in all training examples.\n",
            "  str(classes[c]))\n",
            "/usr/local/lib/python3.6/dist-packages/sklearn/multiclass.py:76: UserWarning: Label not 31 is present in all training examples.\n",
            "  str(classes[c]))\n",
            "/usr/local/lib/python3.6/dist-packages/sklearn/multiclass.py:76: UserWarning: Label not 32 is present in all training examples.\n",
            "  str(classes[c]))\n",
            "/usr/local/lib/python3.6/dist-packages/sklearn/multiclass.py:76: UserWarning: Label not 33 is present in all training examples.\n",
            "  str(classes[c]))\n",
            "/usr/local/lib/python3.6/dist-packages/sklearn/multiclass.py:76: UserWarning: Label not 34 is present in all training examples.\n",
            "  str(classes[c]))\n",
            "/usr/local/lib/python3.6/dist-packages/sklearn/multiclass.py:76: UserWarning: Label not 35 is present in all training examples.\n",
            "  str(classes[c]))\n",
            "/usr/local/lib/python3.6/dist-packages/sklearn/multiclass.py:76: UserWarning: Label not 36 is present in all training examples.\n",
            "  str(classes[c]))\n",
            "/usr/local/lib/python3.6/dist-packages/sklearn/multiclass.py:76: UserWarning: Label not 37 is present in all training examples.\n",
            "  str(classes[c]))\n",
            "/usr/local/lib/python3.6/dist-packages/sklearn/multiclass.py:76: UserWarning: Label not 38 is present in all training examples.\n",
            "  str(classes[c]))\n",
            "/usr/local/lib/python3.6/dist-packages/sklearn/multiclass.py:76: UserWarning: Label not 39 is present in all training examples.\n",
            "  str(classes[c]))\n",
            "/usr/local/lib/python3.6/dist-packages/sklearn/multiclass.py:76: UserWarning: Label not 40 is present in all training examples.\n",
            "  str(classes[c]))\n",
            "/usr/local/lib/python3.6/dist-packages/sklearn/multiclass.py:76: UserWarning: Label not 41 is present in all training examples.\n",
            "  str(classes[c]))\n",
            "/usr/local/lib/python3.6/dist-packages/sklearn/multiclass.py:76: UserWarning: Label not 42 is present in all training examples.\n",
            "  str(classes[c]))\n",
            "/usr/local/lib/python3.6/dist-packages/sklearn/multiclass.py:76: UserWarning: Label not 43 is present in all training examples.\n",
            "  str(classes[c]))\n",
            "/usr/local/lib/python3.6/dist-packages/sklearn/multiclass.py:76: UserWarning: Label not 44 is present in all training examples.\n",
            "  str(classes[c]))\n",
            "/usr/local/lib/python3.6/dist-packages/sklearn/multiclass.py:76: UserWarning: Label not 45 is present in all training examples.\n",
            "  str(classes[c]))\n",
            "/usr/local/lib/python3.6/dist-packages/sklearn/multiclass.py:76: UserWarning: Label not 46 is present in all training examples.\n",
            "  str(classes[c]))\n",
            "/usr/local/lib/python3.6/dist-packages/sklearn/multiclass.py:76: UserWarning: Label not 47 is present in all training examples.\n",
            "  str(classes[c]))\n",
            "/usr/local/lib/python3.6/dist-packages/sklearn/multiclass.py:76: UserWarning: Label not 48 is present in all training examples.\n",
            "  str(classes[c]))\n",
            "/usr/local/lib/python3.6/dist-packages/sklearn/multiclass.py:76: UserWarning: Label not 49 is present in all training examples.\n",
            "  str(classes[c]))\n",
            "/usr/local/lib/python3.6/dist-packages/sklearn/multiclass.py:76: UserWarning: Label not 50 is present in all training examples.\n",
            "  str(classes[c]))\n",
            "/usr/local/lib/python3.6/dist-packages/sklearn/multiclass.py:76: UserWarning: Label not 51 is present in all training examples.\n",
            "  str(classes[c]))\n",
            "/usr/local/lib/python3.6/dist-packages/sklearn/multiclass.py:76: UserWarning: Label not 52 is present in all training examples.\n",
            "  str(classes[c]))\n",
            "/usr/local/lib/python3.6/dist-packages/sklearn/multiclass.py:76: UserWarning: Label not 53 is present in all training examples.\n",
            "  str(classes[c]))\n",
            "/usr/local/lib/python3.6/dist-packages/sklearn/multiclass.py:76: UserWarning: Label not 54 is present in all training examples.\n",
            "  str(classes[c]))\n",
            "/usr/local/lib/python3.6/dist-packages/sklearn/multiclass.py:76: UserWarning: Label not 55 is present in all training examples.\n",
            "  str(classes[c]))\n",
            "/usr/local/lib/python3.6/dist-packages/sklearn/multiclass.py:76: UserWarning: Label not 56 is present in all training examples.\n",
            "  str(classes[c]))\n",
            "/usr/local/lib/python3.6/dist-packages/sklearn/multiclass.py:76: UserWarning: Label not 57 is present in all training examples.\n",
            "  str(classes[c]))\n",
            "/usr/local/lib/python3.6/dist-packages/sklearn/multiclass.py:76: UserWarning: Label not 58 is present in all training examples.\n",
            "  str(classes[c]))\n",
            "/usr/local/lib/python3.6/dist-packages/sklearn/multiclass.py:76: UserWarning: Label not 59 is present in all training examples.\n",
            "  str(classes[c]))\n",
            "/usr/local/lib/python3.6/dist-packages/sklearn/multiclass.py:76: UserWarning: Label not 60 is present in all training examples.\n",
            "  str(classes[c]))\n",
            "/usr/local/lib/python3.6/dist-packages/sklearn/multiclass.py:76: UserWarning: Label not 61 is present in all training examples.\n",
            "  str(classes[c]))\n",
            "/usr/local/lib/python3.6/dist-packages/sklearn/multiclass.py:76: UserWarning: Label not 62 is present in all training examples.\n",
            "  str(classes[c]))\n",
            "/usr/local/lib/python3.6/dist-packages/sklearn/multiclass.py:76: UserWarning: Label not 63 is present in all training examples.\n",
            "  str(classes[c]))\n",
            "/usr/local/lib/python3.6/dist-packages/sklearn/multiclass.py:76: UserWarning: Label not 64 is present in all training examples.\n",
            "  str(classes[c]))\n",
            "/usr/local/lib/python3.6/dist-packages/sklearn/multiclass.py:76: UserWarning: Label not 65 is present in all training examples.\n",
            "  str(classes[c]))\n",
            "/usr/local/lib/python3.6/dist-packages/sklearn/multiclass.py:76: UserWarning: Label not 67 is present in all training examples.\n",
            "  str(classes[c]))\n",
            "/usr/local/lib/python3.6/dist-packages/sklearn/multiclass.py:76: UserWarning: Label not 68 is present in all training examples.\n",
            "  str(classes[c]))\n",
            "/usr/local/lib/python3.6/dist-packages/sklearn/multiclass.py:76: UserWarning: Label not 69 is present in all training examples.\n",
            "  str(classes[c]))\n",
            "/usr/local/lib/python3.6/dist-packages/sklearn/multiclass.py:76: UserWarning: Label not 70 is present in all training examples.\n",
            "  str(classes[c]))\n",
            "/usr/local/lib/python3.6/dist-packages/sklearn/multiclass.py:76: UserWarning: Label not 71 is present in all training examples.\n",
            "  str(classes[c]))\n",
            "/usr/local/lib/python3.6/dist-packages/sklearn/multiclass.py:76: UserWarning: Label not 72 is present in all training examples.\n",
            "  str(classes[c]))\n",
            "/usr/local/lib/python3.6/dist-packages/sklearn/multiclass.py:76: UserWarning: Label not 73 is present in all training examples.\n",
            "  str(classes[c]))\n",
            "/usr/local/lib/python3.6/dist-packages/sklearn/multiclass.py:76: UserWarning: Label not 74 is present in all training examples.\n",
            "  str(classes[c]))\n",
            "/usr/local/lib/python3.6/dist-packages/sklearn/multiclass.py:76: UserWarning: Label not 75 is present in all training examples.\n",
            "  str(classes[c]))\n",
            "/usr/local/lib/python3.6/dist-packages/sklearn/multiclass.py:76: UserWarning: Label not 76 is present in all training examples.\n",
            "  str(classes[c]))\n",
            "/usr/local/lib/python3.6/dist-packages/sklearn/multiclass.py:76: UserWarning: Label not 77 is present in all training examples.\n",
            "  str(classes[c]))\n",
            "/usr/local/lib/python3.6/dist-packages/sklearn/multiclass.py:76: UserWarning: Label not 78 is present in all training examples.\n",
            "  str(classes[c]))\n",
            "/usr/local/lib/python3.6/dist-packages/sklearn/multiclass.py:76: UserWarning: Label not 79 is present in all training examples.\n",
            "  str(classes[c]))\n",
            "/usr/local/lib/python3.6/dist-packages/sklearn/multiclass.py:76: UserWarning: Label not 80 is present in all training examples.\n",
            "  str(classes[c]))\n",
            "/usr/local/lib/python3.6/dist-packages/sklearn/multiclass.py:76: UserWarning: Label not 81 is present in all training examples.\n",
            "  str(classes[c]))\n",
            "/usr/local/lib/python3.6/dist-packages/sklearn/multiclass.py:76: UserWarning: Label not 82 is present in all training examples.\n",
            "  str(classes[c]))\n",
            "/usr/local/lib/python3.6/dist-packages/sklearn/multiclass.py:76: UserWarning: Label not 83 is present in all training examples.\n",
            "  str(classes[c]))\n",
            "/usr/local/lib/python3.6/dist-packages/sklearn/multiclass.py:76: UserWarning: Label not 84 is present in all training examples.\n",
            "  str(classes[c]))\n",
            "/usr/local/lib/python3.6/dist-packages/sklearn/multiclass.py:76: UserWarning: Label not 85 is present in all training examples.\n",
            "  str(classes[c]))\n",
            "/usr/local/lib/python3.6/dist-packages/sklearn/multiclass.py:76: UserWarning: Label not 86 is present in all training examples.\n",
            "  str(classes[c]))\n",
            "/usr/local/lib/python3.6/dist-packages/sklearn/multiclass.py:76: UserWarning: Label not 87 is present in all training examples.\n",
            "  str(classes[c]))\n",
            "/usr/local/lib/python3.6/dist-packages/sklearn/multiclass.py:76: UserWarning: Label not 88 is present in all training examples.\n",
            "  str(classes[c]))\n",
            "/usr/local/lib/python3.6/dist-packages/sklearn/multiclass.py:76: UserWarning: Label not 89 is present in all training examples.\n",
            "  str(classes[c]))\n",
            "/usr/local/lib/python3.6/dist-packages/sklearn/multiclass.py:76: UserWarning: Label not 90 is present in all training examples.\n",
            "  str(classes[c]))\n",
            "/usr/local/lib/python3.6/dist-packages/sklearn/multiclass.py:76: UserWarning: Label not 91 is present in all training examples.\n",
            "  str(classes[c]))\n",
            "/usr/local/lib/python3.6/dist-packages/sklearn/multiclass.py:76: UserWarning: Label not 92 is present in all training examples.\n",
            "  str(classes[c]))\n",
            "/usr/local/lib/python3.6/dist-packages/sklearn/multiclass.py:76: UserWarning: Label not 93 is present in all training examples.\n",
            "  str(classes[c]))\n",
            "/usr/local/lib/python3.6/dist-packages/sklearn/multiclass.py:76: UserWarning: Label not 94 is present in all training examples.\n",
            "  str(classes[c]))\n",
            "/usr/local/lib/python3.6/dist-packages/sklearn/multiclass.py:76: UserWarning: Label not 95 is present in all training examples.\n",
            "  str(classes[c]))\n",
            "/usr/local/lib/python3.6/dist-packages/sklearn/multiclass.py:76: UserWarning: Label not 96 is present in all training examples.\n",
            "  str(classes[c]))\n",
            "/usr/local/lib/python3.6/dist-packages/sklearn/multiclass.py:76: UserWarning: Label not 97 is present in all training examples.\n",
            "  str(classes[c]))\n",
            "/usr/local/lib/python3.6/dist-packages/sklearn/multiclass.py:76: UserWarning: Label not 98 is present in all training examples.\n",
            "  str(classes[c]))\n",
            "/usr/local/lib/python3.6/dist-packages/sklearn/multiclass.py:76: UserWarning: Label not 99 is present in all training examples.\n",
            "  str(classes[c]))\n"
          ],
          "name": "stderr"
        }
      ]
    },
    {
      "cell_type": "markdown",
      "metadata": {
        "id": "mdqTO269TGA8",
        "colab_type": "text"
      },
      "source": [
        "When you are happy with the quality, create predictions for *test* set."
      ]
    },
    {
      "cell_type": "code",
      "metadata": {
        "id": "M51F10f9TGBB",
        "colab_type": "code",
        "colab": {
          "base_uri": "https://localhost:8080/",
          "height": 154
        },
        "outputId": "451708db-bdf0-4773-9551-8309fbd44f35"
      },
      "source": [
        "print_evaluation_scores(y_val, y_val_predicted_labels_mybag)\n",
        "test_predictions = classifier_mybag.predict(X_test_mybag)\n",
        "test_pred_inversed = mlb.inverse_transform(test_predictions)"
      ],
      "execution_count": 140,
      "outputs": [
        {
          "output_type": "stream",
          "text": [
            "/usr/local/lib/python3.6/dist-packages/sklearn/metrics/classification.py:1437: UndefinedMetricWarning: F-score is ill-defined and being set to 0.0 in labels with no predicted samples.\n",
            "  'precision', 'predicted', average, warn_for)\n",
            "/usr/local/lib/python3.6/dist-packages/sklearn/metrics/classification.py:1439: UndefinedMetricWarning: F-score is ill-defined and being set to 0.0 in labels with no true samples.\n",
            "  'recall', 'true', average, warn_for)\n",
            "/usr/local/lib/python3.6/dist-packages/sklearn/metrics/ranking.py:528: RuntimeWarning: invalid value encountered in true_divide\n",
            "  recall = tps / tps[-1]\n"
          ],
          "name": "stderr"
        },
        {
          "output_type": "stream",
          "text": [
            "0.7227 0.8203516922170606 nan\n"
          ],
          "name": "stdout"
        }
      ]
    },
    {
      "cell_type": "code",
      "metadata": {
        "id": "EK5a7Zi39S5I",
        "colab_type": "code",
        "colab": {
          "base_uri": "https://localhost:8080/",
          "height": 34
        },
        "outputId": "30cb331d-a3f6-4785-8328-a48415f451c6"
      },
      "source": [
        "print(test_predictions[10].nonzero())"
      ],
      "execution_count": 141,
      "outputs": [
        {
          "output_type": "stream",
          "text": [
            "(array([ 9, 66]),)\n"
          ],
          "name": "stdout"
        }
      ]
    },
    {
      "cell_type": "code",
      "metadata": {
        "id": "tvSkqX969XIq",
        "colab_type": "code",
        "colab": {
          "base_uri": "https://localhost:8080/",
          "height": 34
        },
        "outputId": "eb8d26b3-509d-43db-9436-325076a52ee1"
      },
      "source": [
        "X_test[10]"
      ],
      "execution_count": 142,
      "outputs": [
        {
          "output_type": "execute_result",
          "data": {
            "text/plain": [
              "'trying get sql query dynamic jquery'"
            ]
          },
          "metadata": {
            "tags": []
          },
          "execution_count": 142
        }
      ]
    },
    {
      "cell_type": "code",
      "metadata": {
        "id": "PkVf4py39bY4",
        "colab_type": "code",
        "colab": {
          "base_uri": "https://localhost:8080/",
          "height": 34
        },
        "outputId": "9440bdd1-85a2-4887-eb23-deacb7a42a44"
      },
      "source": [
        "print(list(tagDict)[9],list(tagDict)[66])"
      ],
      "execution_count": 143,
      "outputs": [
        {
          "output_type": "stream",
          "text": [
            "asp.net facebook\n"
          ],
          "name": "stdout"
        }
      ]
    }
  ]
}