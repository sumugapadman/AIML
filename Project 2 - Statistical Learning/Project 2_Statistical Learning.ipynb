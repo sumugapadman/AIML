{
 "cells": [
  {
   "cell_type": "markdown",
   "metadata": {},
   "source": [
    "## Case Study-Titan Insurance Company-\n",
    "\n",
    "The Titan Insurance Company has just installed a new incentive payment scheme for its lift policy sales force. It wants to have an early view of the success or failure of the new scheme. Indications are that the sales force is selling more policies, but sales always vary in an unpredictable pattern from month to month and it is not clear that the scheme has made a significant difference.\n",
    "\n",
    "Life Insurance companies typically measure the monthly output of a salesperson as the total sum assured for the policies sold by that person during the month. For example, suppose salesperson X has, in the month, sold seven policies for which the sums assured are £1000, £2500, £3000, £5000, £10000, £35000. X's output for the month is the total of these sums assured, £61,500. Titan's new scheme is that the sales force receives low regular salaries but are paid large bonuses related to their output (i.e. to the total sum assured of policies sold by them). The scheme is expensive for the company, but they are looking for sales increases which more than compensate. The agreement with the sales force is that if the scheme does not at least break even for the company, it will be abandoned after six months.\n",
    "\n",
    "The scheme has now been in operation for four months. It has settled down after fluctuations in the first two months due to the changeover.\n",
    "\n",
    "To test the effectiveness of the scheme, Titan have taken a random sample of 30 salespeople measured their output in the penultimate month prior to changeover and then measured it in the fourth month after the changeover (they have deliberately chosen months not too close to the changeover). The outputs of the salespeople are shown in Table 1"
   ]
  },
  {
   "cell_type": "code",
   "execution_count": 2,
   "metadata": {},
   "outputs": [],
   "source": [
    "import pandas as pd\n",
    "import os\n",
    "import seaborn as sns\n",
    "import numpy as np\n",
    "from scipy.stats import ttest_ind, ttest_1samp,wilcoxon,levene,shapiro\n",
    "from statsmodels.stats.power import ttest_power"
   ]
  },
  {
   "cell_type": "code",
   "execution_count": 3,
   "metadata": {},
   "outputs": [
    {
     "data": {
      "text/html": [
       "<div>\n",
       "<style scoped>\n",
       "    .dataframe tbody tr th:only-of-type {\n",
       "        vertical-align: middle;\n",
       "    }\n",
       "\n",
       "    .dataframe tbody tr th {\n",
       "        vertical-align: top;\n",
       "    }\n",
       "\n",
       "    .dataframe thead th {\n",
       "        text-align: right;\n",
       "    }\n",
       "</style>\n",
       "<table border=\"1\" class=\"dataframe\">\n",
       "  <thead>\n",
       "    <tr style=\"text-align: right;\">\n",
       "      <th></th>\n",
       "      <th>Old Scheme (in thousands)</th>\n",
       "      <th>New Scheme (in thousands)</th>\n",
       "    </tr>\n",
       "    <tr>\n",
       "      <th>SALESPERSON</th>\n",
       "      <th></th>\n",
       "      <th></th>\n",
       "    </tr>\n",
       "  </thead>\n",
       "  <tbody>\n",
       "    <tr>\n",
       "      <th>1</th>\n",
       "      <td>57</td>\n",
       "      <td>62</td>\n",
       "    </tr>\n",
       "    <tr>\n",
       "      <th>2</th>\n",
       "      <td>103</td>\n",
       "      <td>122</td>\n",
       "    </tr>\n",
       "    <tr>\n",
       "      <th>3</th>\n",
       "      <td>59</td>\n",
       "      <td>54</td>\n",
       "    </tr>\n",
       "    <tr>\n",
       "      <th>4</th>\n",
       "      <td>75</td>\n",
       "      <td>82</td>\n",
       "    </tr>\n",
       "    <tr>\n",
       "      <th>5</th>\n",
       "      <td>84</td>\n",
       "      <td>84</td>\n",
       "    </tr>\n",
       "    <tr>\n",
       "      <th>6</th>\n",
       "      <td>73</td>\n",
       "      <td>86</td>\n",
       "    </tr>\n",
       "    <tr>\n",
       "      <th>7</th>\n",
       "      <td>35</td>\n",
       "      <td>32</td>\n",
       "    </tr>\n",
       "    <tr>\n",
       "      <th>8</th>\n",
       "      <td>110</td>\n",
       "      <td>104</td>\n",
       "    </tr>\n",
       "    <tr>\n",
       "      <th>9</th>\n",
       "      <td>44</td>\n",
       "      <td>38</td>\n",
       "    </tr>\n",
       "    <tr>\n",
       "      <th>10</th>\n",
       "      <td>82</td>\n",
       "      <td>107</td>\n",
       "    </tr>\n",
       "  </tbody>\n",
       "</table>\n",
       "</div>"
      ],
      "text/plain": [
       "             Old Scheme (in thousands)  New Scheme (in thousands)\n",
       "SALESPERSON                                                      \n",
       "1                                   57                         62\n",
       "2                                  103                        122\n",
       "3                                   59                         54\n",
       "4                                   75                         82\n",
       "5                                   84                         84\n",
       "6                                   73                         86\n",
       "7                                   35                         32\n",
       "8                                  110                        104\n",
       "9                                   44                         38\n",
       "10                                  82                        107"
      ]
     },
     "execution_count": 3,
     "metadata": {},
     "output_type": "execute_result"
    }
   ],
   "source": [
    "\"\"\"\n",
    "* The table 1 given in the project is saved as csv & imported using dataframes \n",
    "* The following assumes 'Jupyter Notebook' is run where the dataset 'Titan Insurance Case Study Dataset.csv' resides\n",
    "* Configure os path accordingly if your current working directory is different\n",
    "\"\"\"\n",
    "df_titan_insurance = pd.read_csv(os.path.join('', 'Titan Insurance Case Study Dataset.csv'),index_col=0)\n",
    "df_titan_insurance.head(10)"
   ]
  },
  {
   "cell_type": "markdown",
   "metadata": {},
   "source": [
    "## 1.Find the mean of old scheme and new scheme column. (5 points)"
   ]
  },
  {
   "cell_type": "code",
   "execution_count": 4,
   "metadata": {},
   "outputs": [
    {
     "name": "stdout",
     "output_type": "stream",
     "text": [
      "The Old Scheme Mean is : 68.03333333333333 \n",
      "The New Scheme Mean is : 72.03333333333333\n"
     ]
    },
    {
     "data": {
      "text/html": [
       "<div>\n",
       "<style scoped>\n",
       "    .dataframe tbody tr th:only-of-type {\n",
       "        vertical-align: middle;\n",
       "    }\n",
       "\n",
       "    .dataframe tbody tr th {\n",
       "        vertical-align: top;\n",
       "    }\n",
       "\n",
       "    .dataframe thead th {\n",
       "        text-align: right;\n",
       "    }\n",
       "</style>\n",
       "<table border=\"1\" class=\"dataframe\">\n",
       "  <thead>\n",
       "    <tr style=\"text-align: right;\">\n",
       "      <th></th>\n",
       "      <th>Old Scheme (in thousands)</th>\n",
       "      <th>New Scheme (in thousands)</th>\n",
       "    </tr>\n",
       "  </thead>\n",
       "  <tbody>\n",
       "    <tr>\n",
       "      <th>count</th>\n",
       "      <td>30.000000</td>\n",
       "      <td>30.000000</td>\n",
       "    </tr>\n",
       "    <tr>\n",
       "      <th>mean</th>\n",
       "      <td>68.033333</td>\n",
       "      <td>72.033333</td>\n",
       "    </tr>\n",
       "    <tr>\n",
       "      <th>std</th>\n",
       "      <td>20.455980</td>\n",
       "      <td>24.062395</td>\n",
       "    </tr>\n",
       "    <tr>\n",
       "      <th>min</th>\n",
       "      <td>28.000000</td>\n",
       "      <td>32.000000</td>\n",
       "    </tr>\n",
       "    <tr>\n",
       "      <th>25%</th>\n",
       "      <td>54.000000</td>\n",
       "      <td>55.000000</td>\n",
       "    </tr>\n",
       "    <tr>\n",
       "      <th>50%</th>\n",
       "      <td>67.000000</td>\n",
       "      <td>74.000000</td>\n",
       "    </tr>\n",
       "    <tr>\n",
       "      <th>75%</th>\n",
       "      <td>81.500000</td>\n",
       "      <td>85.750000</td>\n",
       "    </tr>\n",
       "    <tr>\n",
       "      <th>max</th>\n",
       "      <td>110.000000</td>\n",
       "      <td>122.000000</td>\n",
       "    </tr>\n",
       "  </tbody>\n",
       "</table>\n",
       "</div>"
      ],
      "text/plain": [
       "       Old Scheme (in thousands)  New Scheme (in thousands)\n",
       "count                  30.000000                  30.000000\n",
       "mean                   68.033333                  72.033333\n",
       "std                    20.455980                  24.062395\n",
       "min                    28.000000                  32.000000\n",
       "25%                    54.000000                  55.000000\n",
       "50%                    67.000000                  74.000000\n",
       "75%                    81.500000                  85.750000\n",
       "max                   110.000000                 122.000000"
      ]
     },
     "execution_count": 4,
     "metadata": {},
     "output_type": "execute_result"
    }
   ],
   "source": [
    "old_scheme_mean = df_titan_insurance['Old Scheme (in thousands)'].mean()\n",
    "new_scheme_mean = df_titan_insurance['New Scheme (in thousands)'].mean()\n",
    "print(\"The Old Scheme Mean is : {0} \\nThe New Scheme Mean is : {1}\".format(old_scheme_mean,new_scheme_mean))\n",
    "df_titan_insurance.describe()"
   ]
  },
  {
   "cell_type": "markdown",
   "metadata": {},
   "source": [
    "## 2.Use the five percent significance test over the data to determine the p value to check new scheme has significantly raised outputs? (10 points)"
   ]
  },
  {
   "cell_type": "code",
   "execution_count": 5,
   "metadata": {},
   "outputs": [
    {
     "name": "stdout",
     "output_type": "stream",
     "text": [
      "May Accept Null Hypothesis for Old Scheme as p_value 0.9813673496246338 is more than 0.05\n",
      "May Accept Null Hypothesis for New Scheme as p_value 0.5057376623153687 is more than 0.05\n"
     ]
    }
   ],
   "source": [
    "df_old_scheme = df_titan_insurance['Old Scheme (in thousands)']\n",
    "df_new_scheme = df_titan_insurance['New Scheme (in thousands)']\n",
    "\n",
    "# Test of Normality - H0 p-value >= 0.05 | H1 p-vale < 0.05\n",
    "def accept_or_reject(p_value, xfor):\n",
    "    if(p_value < (5/100)):\n",
    "        print('Rejecting Null Hypothesis for {0} as p_value {1} is less than 0.05'.format(xfor,p_value))\n",
    "    else:\n",
    "        print('May Accept Null Hypothesis for {0} as p_value {1} is more than 0.05'.format(xfor,p_value))\n",
    "        \n",
    "# Old Scheme\n",
    "tstat_old, p_val_old = shapiro(df_old_scheme)\n",
    "accept_or_reject(p_val_old,\"Old Scheme\")\n",
    "        \n",
    "# New Scheme\n",
    "tstat_new, p_val_new = shapiro(df_new_scheme)\n",
    "accept_or_reject(p_val_new,\"New Scheme\")\n",
    "\n",
    "# Output : p_value > 0.05 - The data is normal "
   ]
  },
  {
   "cell_type": "code",
   "execution_count": 6,
   "metadata": {},
   "outputs": [
    {
     "data": {
      "text/plain": [
       "LeveneResult(statistic=1.063061539437244, pvalue=0.30679836081811235)"
      ]
     },
     "metadata": {},
     "output_type": "display_data"
    }
   ],
   "source": [
    "#Test of variances - H0 : Variances are equal | H1 - Variances are not equal\n",
    "display(levene(df_old_scheme,df_new_scheme))\n",
    "# Output : p_value > 0.05 - Hence 2 variances are equal "
   ]
  },
  {
   "cell_type": "code",
   "execution_count": 10,
   "metadata": {},
   "outputs": [
    {
     "name": "stdout",
     "output_type": "stream",
     "text": [
      "Ttest_indResult(statistic=-0.6937067608923764, pvalue=0.49063515686248105)\n",
      "Ttest_1sampResult(statistic=-1.5559143823544377, pvalue=0.13057553961337662)\n",
      "Based on the p_values , the new scheme has significantly raised outputs\n"
     ]
    }
   ],
   "source": [
    "t_stat_ind, p_value_ind = ttest_ind(df_old_scheme,df_new_scheme)\n",
    "print(ttest_ind(df_old_scheme,df_new_scheme))\n",
    "\n",
    "t_stat_1samp, p_value_1samp = ttest_1samp(df_old_scheme - df_new_scheme, 0) \n",
    "print(ttest_1samp(df_old_scheme - df_new_scheme, 0))\n",
    "\n",
    "print('Based on the p_values , the new scheme has significantly raised outputs')"
   ]
  },
  {
   "cell_type": "markdown",
   "metadata": {},
   "source": [
    "## 3.What conclusion does the test (p-value) lead to? (2.5 points)"
   ]
  },
  {
   "cell_type": "code",
   "execution_count": 37,
   "metadata": {},
   "outputs": [],
   "source": [
    "# H0 - Null Hypothesis - New Scheme may have raised outputs\n",
    "# H1 - ALternate Hypothesis - New Scheme does not have raised outputs or it is similar to the old scheme.\n",
    "# P_value is > 0.05 - Hence we fail to reject Null Hypothesis , we may accept the null hypothesis. "
   ]
  },
  {
   "cell_type": "markdown",
   "metadata": {},
   "source": [
    "## 4. Suppose it has been calculated that in order for Titan to break even, the average output must increase by £5000 in the scheme compared to the old scheme. If this figure is alternative hypothesis, what is:\n",
    "\n",
    "    2. The probability of a type 1 error? (2.5 points)\n",
    "    3. What is the p- value of the hypothesis test if we test for a difference of $5000? (10 points)\n",
    "    4. Power of the test (5 points)"
   ]
  },
  {
   "cell_type": "code",
   "execution_count": 23,
   "metadata": {},
   "outputs": [
    {
     "name": "stdout",
     "output_type": "stream",
     "text": [
      "20.455980212074454 24.06239494677769\n",
      "The standard error is : 5.766125148981461\n",
      "The t_statistic value is : -0.1734266902230941\n"
     ]
    }
   ],
   "source": [
    "# H0: The mean diff > 5 (μ1 - μ2 > 5),\n",
    "# H1 : The mean diff < 5 (μ1 - μ2 < 5),\n",
    "\n",
    "# Standard Error = sqrt[((s1*s1)/n1) + ((s2*s2)/n2)]\n",
    "# t_statistic = [ (x1 - x2) - d ] / Standard Error\n",
    "\n",
    "old_scheme_std = df_titan_insurance['Old Scheme (in thousands)'].std()\n",
    "new_scheme_std = df_titan_insurance['New Scheme (in thousands)'].std()\n",
    "n1 = df_titan_insurance['Old Scheme (in thousands)'].count()\n",
    "n2 = df_titan_insurance['New Scheme (in thousands)'].count()\n",
    "\n",
    "print(old_scheme_std,new_scheme_std)\n",
    "\n",
    "std_error = np.sqrt(((old_scheme_std * old_scheme_std)/n1)+((new_scheme_std*new_scheme_std)/n2))\n",
    "\n",
    "print('The standard error is : {0}'.format(std_error))\n",
    "\n",
    "tstat = (((new_scheme_mean - old_scheme_mean)-5)/std_error)\n",
    "\n",
    "print('The t_statistic value is : {0}'.format(tstat))\n",
    "#  P(T < -0.173426) = 0.4453\n",
    "# Based on the above mentioned p_value analysis - the p_value is > 0.05 we should not reject the null hypothesis."
   ]
  },
  {
   "cell_type": "code",
   "execution_count": 25,
   "metadata": {},
   "outputs": [
    {
     "name": "stdout",
     "output_type": "stream",
     "text": [
      "0.12909555513169643\n",
      "0.16610169779030406\n"
     ]
    }
   ],
   "source": [
    "# Caculating power of test\n",
    "pow_test = (np.mean(df_new_scheme) - np.mean(df_old_scheme)) / np.sqrt(((n1-1)*np.var(df_old_scheme)+(n1-1)*np.var(df_new_scheme)) / n2+n1-2)\n",
    "print (pow_test)\n",
    "print(ttest_power(pow_test, nobs=60, alpha=0.05, alternative='two-sided'))"
   ]
  },
  {
   "cell_type": "code",
   "execution_count": null,
   "metadata": {},
   "outputs": [],
   "source": []
  }
 ],
 "metadata": {
  "kernelspec": {
   "display_name": "Python 3",
   "language": "python",
   "name": "python3"
  },
  "language_info": {
   "codemirror_mode": {
    "name": "ipython",
    "version": 3
   },
   "file_extension": ".py",
   "mimetype": "text/x-python",
   "name": "python",
   "nbconvert_exporter": "python",
   "pygments_lexer": "ipython3",
   "version": "3.7.1"
  }
 },
 "nbformat": 4,
 "nbformat_minor": 2
}
